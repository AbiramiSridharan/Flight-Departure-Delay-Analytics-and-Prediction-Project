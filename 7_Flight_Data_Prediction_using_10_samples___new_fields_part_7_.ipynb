{
  "nbformat": 4,
  "nbformat_minor": 0,
  "metadata": {
    "colab": {
      "name": "Flight Data  Prediction using 10% samples _ new fields- part 7 .ipynb",
      "provenance": [],
      "collapsed_sections": [],
      "toc_visible": true
    },
    "kernelspec": {
      "name": "python3",
      "display_name": "Python 3"
    },
    "language_info": {
      "name": "python"
    }
  },
  "cells": [
    {
      "cell_type": "code",
      "metadata": {
        "id": "JWkqDj9an92E",
        "colab": {
          "base_uri": "https://localhost:8080/"
        },
        "outputId": "7439f573-3adf-45b9-9228-b07eeaef2f09"
      },
      "source": [
        "import pandas as pd\n",
        "import numpy as np\n",
        "from scipy import stats\n",
        "import matplotlib.dates as mtd\n",
        "import seaborn as sns\n",
        "import matplotlib.pyplot as plt\n",
        "import seaborn as sns\n",
        "from imblearn.over_sampling import SMOTE\n",
        "from sklearn.model_selection import train_test_split\n",
        "from sklearn import tree\n",
        "from sklearn.metrics import confusion_matrix, classification_report, plot_roc_curve,accuracy_score\n",
        "from sklearn.preprocessing import RobustScaler\n",
        "from sklearn.preprocessing import MinMaxScaler\n",
        "from sklearn.preprocessing import StandardScaler\n",
        "from sklearn.ensemble import RandomForestClassifier  \n",
        "from sklearn.linear_model import LogisticRegression \n",
        "from collections import Counter\n",
        "from sklearn.pipeline import Pipeline\n",
        "from sklearn.model_selection import KFold\n",
        "from numpy import mean\n",
        "from sklearn import metrics\n",
        "from xgboost import XGBClassifier\n",
        "from sklearn.pipeline import Pipeline\n",
        "from imblearn.pipeline import make_pipeline\n",
        "from sklearn.model_selection import StratifiedKFold\n",
        "from sklearn.model_selection import cross_val_score\n",
        "from sklearn.model_selection import cross_val_predict\n",
        "from sklearn.decomposition import PCA\n",
        "import warnings\n",
        "warnings.filterwarnings('ignore')"
      ],
      "execution_count": null,
      "outputs": [
        {
          "output_type": "stream",
          "name": "stderr",
          "text": [
            "/usr/local/lib/python3.7/dist-packages/sklearn/externals/six.py:31: FutureWarning: The module is deprecated in version 0.21 and will be removed in version 0.23 since we've dropped support for Python 2.7. Please rely on the official version of six (https://pypi.org/project/six/).\n",
            "  \"(https://pypi.org/project/six/).\", FutureWarning)\n",
            "/usr/local/lib/python3.7/dist-packages/sklearn/utils/deprecation.py:144: FutureWarning: The sklearn.neighbors.base module is  deprecated in version 0.22 and will be removed in version 0.24. The corresponding classes / functions should instead be imported from sklearn.neighbors. Anything that cannot be imported from sklearn.neighbors is now part of the private API.\n",
            "  warnings.warn(message, FutureWarning)\n"
          ]
        }
      ]
    },
    {
      "cell_type": "markdown",
      "metadata": {
        "id": "OJkh76xAd8J2"
      },
      "source": [
        "* Export Systematic sample dataset into my local machine , cleaned and loaded in to drive\n",
        "* Challenges faced : df.to_csv is saving file to the virtual machine and not my local machine. so found from google.colab import files\n",
        "files.download(\"data.csv\")\n",
        "* Collab UI changes done to export:\n",
        "click on the folder icon on the left pane (3rd icon)\n",
        "click 'Refresh'\n",
        "right click the file, then download"
      ]
    },
    {
      "cell_type": "code",
      "metadata": {
        "id": "zJi4Yxj-qj6H",
        "colab": {
          "base_uri": "https://localhost:8080/",
          "height": 617
        },
        "outputId": "a4cd13ce-4089-4d23-b981-26ccae8b41c9"
      },
      "source": [
        "flightsampledata = pd.read_csv('/content/drive/MyDrive/AbiML/Internship Tasks/internshipDatas/Systematic_sampling_10%_Flight_dataset1_new.csv')\n",
        "flightsampledata"
      ],
      "execution_count": null,
      "outputs": [
        {
          "output_type": "execute_result",
          "data": {
            "text/html": [
              "<div>\n",
              "<style scoped>\n",
              "    .dataframe tbody tr th:only-of-type {\n",
              "        vertical-align: middle;\n",
              "    }\n",
              "\n",
              "    .dataframe tbody tr th {\n",
              "        vertical-align: top;\n",
              "    }\n",
              "\n",
              "    .dataframe thead th {\n",
              "        text-align: right;\n",
              "    }\n",
              "</style>\n",
              "<table border=\"1\" class=\"dataframe\">\n",
              "  <thead>\n",
              "    <tr style=\"text-align: right;\">\n",
              "      <th></th>\n",
              "      <th>YEAR</th>\n",
              "      <th>QUARTER</th>\n",
              "      <th>MONTH</th>\n",
              "      <th>DAY_OF_MONTH</th>\n",
              "      <th>DAY_OF_WEEK</th>\n",
              "      <th>FL_DATE</th>\n",
              "      <th>MKT_UNIQUE_CARRIER</th>\n",
              "      <th>BRANDED_CODE_SHARE</th>\n",
              "      <th>MKT_CARRIER_AIRLINE_ID</th>\n",
              "      <th>MKT_CARRIER</th>\n",
              "      <th>MKT_CARRIER_FL_NUM</th>\n",
              "      <th>SCH_OP_UNIQUE_CARRIER</th>\n",
              "      <th>SCH_OP_CARRIER_AIRLINE_ID</th>\n",
              "      <th>SCH_OP_CARRIER</th>\n",
              "      <th>SCH_OP_CARRIER_FL_NUM</th>\n",
              "      <th>OP_UNIQUE_CARRIER</th>\n",
              "      <th>OP_CARRIER_AIRLINE_ID</th>\n",
              "      <th>OP_CARRIER</th>\n",
              "      <th>TAIL_NUM</th>\n",
              "      <th>OP_CARRIER_FL_NUM</th>\n",
              "      <th>ORIGIN_AIRPORT_ID</th>\n",
              "      <th>ORIGIN_AIRPORT_SEQ_ID</th>\n",
              "      <th>ORIGIN_CITY_MARKET_ID</th>\n",
              "      <th>ORIGIN</th>\n",
              "      <th>ORIGIN_CITY_NAME</th>\n",
              "      <th>ORIGIN_STATE_ABR</th>\n",
              "      <th>ORIGIN_STATE_FIPS</th>\n",
              "      <th>ORIGIN_STATE_NM</th>\n",
              "      <th>ORIGIN_WAC</th>\n",
              "      <th>DEST_AIRPORT_ID</th>\n",
              "      <th>DEST_AIRPORT_SEQ_ID</th>\n",
              "      <th>DEST_CITY_MARKET_ID</th>\n",
              "      <th>DEST</th>\n",
              "      <th>DEST_CITY_NAME</th>\n",
              "      <th>DEST_STATE_ABR</th>\n",
              "      <th>DEST_STATE_FIPS</th>\n",
              "      <th>DEST_STATE_NM</th>\n",
              "      <th>DEST_WAC</th>\n",
              "      <th>CRS_DEP_TIME</th>\n",
              "      <th>DEP_TIME</th>\n",
              "      <th>DEP_DELAY</th>\n",
              "      <th>DEP_DELAY_NEW</th>\n",
              "      <th>DEP_DEL15</th>\n",
              "      <th>DEP_DELAY_GROUP</th>\n",
              "      <th>DEP_TIME_BLK</th>\n",
              "      <th>TAXI_OUT</th>\n",
              "      <th>WHEELS_OFF</th>\n",
              "      <th>WHEELS_ON</th>\n",
              "      <th>TAXI_IN</th>\n",
              "      <th>CRS_ARR_TIME</th>\n",
              "      <th>ARR_TIME</th>\n",
              "      <th>ARR_DELAY</th>\n",
              "      <th>ARR_DELAY_NEW</th>\n",
              "      <th>ARR_DEL15</th>\n",
              "      <th>ARR_DELAY_GROUP</th>\n",
              "      <th>ARR_TIME_BLK</th>\n",
              "      <th>CANCELLED</th>\n",
              "      <th>CANCELLATION_CODE</th>\n",
              "      <th>DIVERTED</th>\n",
              "      <th>DUP</th>\n",
              "      <th>CRS_ELAPSED_TIME</th>\n",
              "      <th>ACTUAL_ELAPSED_TIME</th>\n",
              "      <th>AIR_TIME</th>\n",
              "      <th>FLIGHTS</th>\n",
              "      <th>DISTANCE</th>\n",
              "      <th>DISTANCE_GROUP</th>\n",
              "      <th>CARRIER_DELAY</th>\n",
              "      <th>WEATHER_DELAY</th>\n",
              "      <th>NAS_DELAY</th>\n",
              "      <th>SECURITY_DELAY</th>\n",
              "      <th>LATE_AIRCRAFT_DELAY</th>\n",
              "      <th>FIRST_DEP_TIME</th>\n",
              "      <th>TOTAL_ADD_GTIME</th>\n",
              "      <th>LONGEST_ADD_GTIME</th>\n",
              "    </tr>\n",
              "  </thead>\n",
              "  <tbody>\n",
              "    <tr>\n",
              "      <th>0</th>\n",
              "      <td>2021</td>\n",
              "      <td>1</td>\n",
              "      <td>1</td>\n",
              "      <td>17</td>\n",
              "      <td>7</td>\n",
              "      <td>2021-01-17</td>\n",
              "      <td>DL</td>\n",
              "      <td>DL</td>\n",
              "      <td>19790</td>\n",
              "      <td>DL</td>\n",
              "      <td>1089</td>\n",
              "      <td>NaN</td>\n",
              "      <td>NaN</td>\n",
              "      <td>NaN</td>\n",
              "      <td>NaN</td>\n",
              "      <td>DL</td>\n",
              "      <td>19790</td>\n",
              "      <td>DL</td>\n",
              "      <td>N326NB</td>\n",
              "      <td>1089</td>\n",
              "      <td>11298</td>\n",
              "      <td>1129806</td>\n",
              "      <td>30194</td>\n",
              "      <td>DFW</td>\n",
              "      <td>Dallas/Fort Worth, TX</td>\n",
              "      <td>TX</td>\n",
              "      <td>48</td>\n",
              "      <td>Texas</td>\n",
              "      <td>74</td>\n",
              "      <td>11433</td>\n",
              "      <td>1143302</td>\n",
              "      <td>31295</td>\n",
              "      <td>DTW</td>\n",
              "      <td>Detroit, MI</td>\n",
              "      <td>MI</td>\n",
              "      <td>26</td>\n",
              "      <td>Michigan</td>\n",
              "      <td>43</td>\n",
              "      <td>1153</td>\n",
              "      <td>1151.0</td>\n",
              "      <td>-2.0</td>\n",
              "      <td>0.0</td>\n",
              "      <td>0.0</td>\n",
              "      <td>-1.0</td>\n",
              "      <td>1100-1159</td>\n",
              "      <td>28.0</td>\n",
              "      <td>1219.0</td>\n",
              "      <td>1525.0</td>\n",
              "      <td>11.0</td>\n",
              "      <td>1523</td>\n",
              "      <td>1536.0</td>\n",
              "      <td>13.0</td>\n",
              "      <td>13.0</td>\n",
              "      <td>0.0</td>\n",
              "      <td>0.0</td>\n",
              "      <td>1500-1559</td>\n",
              "      <td>0.0</td>\n",
              "      <td>NaN</td>\n",
              "      <td>0.0</td>\n",
              "      <td>N</td>\n",
              "      <td>150.0</td>\n",
              "      <td>165.0</td>\n",
              "      <td>126.0</td>\n",
              "      <td>1.0</td>\n",
              "      <td>986.0</td>\n",
              "      <td>4</td>\n",
              "      <td>NaN</td>\n",
              "      <td>NaN</td>\n",
              "      <td>NaN</td>\n",
              "      <td>NaN</td>\n",
              "      <td>NaN</td>\n",
              "      <td>NaN</td>\n",
              "      <td>NaN</td>\n",
              "      <td>NaN</td>\n",
              "    </tr>\n",
              "    <tr>\n",
              "      <th>1</th>\n",
              "      <td>2021</td>\n",
              "      <td>1</td>\n",
              "      <td>1</td>\n",
              "      <td>17</td>\n",
              "      <td>7</td>\n",
              "      <td>2021-01-17</td>\n",
              "      <td>DL</td>\n",
              "      <td>DL</td>\n",
              "      <td>19790</td>\n",
              "      <td>DL</td>\n",
              "      <td>1097</td>\n",
              "      <td>NaN</td>\n",
              "      <td>NaN</td>\n",
              "      <td>NaN</td>\n",
              "      <td>NaN</td>\n",
              "      <td>DL</td>\n",
              "      <td>19790</td>\n",
              "      <td>DL</td>\n",
              "      <td>N356NW</td>\n",
              "      <td>1097</td>\n",
              "      <td>14869</td>\n",
              "      <td>1486903</td>\n",
              "      <td>34614</td>\n",
              "      <td>SLC</td>\n",
              "      <td>Salt Lake City, UT</td>\n",
              "      <td>UT</td>\n",
              "      <td>49</td>\n",
              "      <td>Utah</td>\n",
              "      <td>87</td>\n",
              "      <td>11298</td>\n",
              "      <td>1129806</td>\n",
              "      <td>30194</td>\n",
              "      <td>DFW</td>\n",
              "      <td>Dallas/Fort Worth, TX</td>\n",
              "      <td>TX</td>\n",
              "      <td>48</td>\n",
              "      <td>Texas</td>\n",
              "      <td>74</td>\n",
              "      <td>948</td>\n",
              "      <td>939.0</td>\n",
              "      <td>-9.0</td>\n",
              "      <td>0.0</td>\n",
              "      <td>0.0</td>\n",
              "      <td>-1.0</td>\n",
              "      <td>0900-0959</td>\n",
              "      <td>31.0</td>\n",
              "      <td>1010.0</td>\n",
              "      <td>1312.0</td>\n",
              "      <td>15.0</td>\n",
              "      <td>1333</td>\n",
              "      <td>1327.0</td>\n",
              "      <td>-6.0</td>\n",
              "      <td>0.0</td>\n",
              "      <td>0.0</td>\n",
              "      <td>-1.0</td>\n",
              "      <td>1300-1359</td>\n",
              "      <td>0.0</td>\n",
              "      <td>NaN</td>\n",
              "      <td>0.0</td>\n",
              "      <td>N</td>\n",
              "      <td>165.0</td>\n",
              "      <td>168.0</td>\n",
              "      <td>122.0</td>\n",
              "      <td>1.0</td>\n",
              "      <td>989.0</td>\n",
              "      <td>4</td>\n",
              "      <td>NaN</td>\n",
              "      <td>NaN</td>\n",
              "      <td>NaN</td>\n",
              "      <td>NaN</td>\n",
              "      <td>NaN</td>\n",
              "      <td>NaN</td>\n",
              "      <td>NaN</td>\n",
              "      <td>NaN</td>\n",
              "    </tr>\n",
              "    <tr>\n",
              "      <th>2</th>\n",
              "      <td>2021</td>\n",
              "      <td>1</td>\n",
              "      <td>1</td>\n",
              "      <td>17</td>\n",
              "      <td>7</td>\n",
              "      <td>2021-01-17</td>\n",
              "      <td>DL</td>\n",
              "      <td>DL</td>\n",
              "      <td>19790</td>\n",
              "      <td>DL</td>\n",
              "      <td>1112</td>\n",
              "      <td>NaN</td>\n",
              "      <td>NaN</td>\n",
              "      <td>NaN</td>\n",
              "      <td>NaN</td>\n",
              "      <td>DL</td>\n",
              "      <td>19790</td>\n",
              "      <td>DL</td>\n",
              "      <td>N878DN</td>\n",
              "      <td>1112</td>\n",
              "      <td>14747</td>\n",
              "      <td>1474703</td>\n",
              "      <td>30559</td>\n",
              "      <td>SEA</td>\n",
              "      <td>Seattle, WA</td>\n",
              "      <td>WA</td>\n",
              "      <td>53</td>\n",
              "      <td>Washington</td>\n",
              "      <td>93</td>\n",
              "      <td>14869</td>\n",
              "      <td>1486903</td>\n",
              "      <td>34614</td>\n",
              "      <td>SLC</td>\n",
              "      <td>Salt Lake City, UT</td>\n",
              "      <td>UT</td>\n",
              "      <td>49</td>\n",
              "      <td>Utah</td>\n",
              "      <td>87</td>\n",
              "      <td>1010</td>\n",
              "      <td>1006.0</td>\n",
              "      <td>-4.0</td>\n",
              "      <td>0.0</td>\n",
              "      <td>0.0</td>\n",
              "      <td>-1.0</td>\n",
              "      <td>1000-1059</td>\n",
              "      <td>16.0</td>\n",
              "      <td>1022.0</td>\n",
              "      <td>1242.0</td>\n",
              "      <td>8.0</td>\n",
              "      <td>1314</td>\n",
              "      <td>1250.0</td>\n",
              "      <td>-24.0</td>\n",
              "      <td>0.0</td>\n",
              "      <td>0.0</td>\n",
              "      <td>-2.0</td>\n",
              "      <td>1300-1359</td>\n",
              "      <td>0.0</td>\n",
              "      <td>NaN</td>\n",
              "      <td>0.0</td>\n",
              "      <td>N</td>\n",
              "      <td>124.0</td>\n",
              "      <td>104.0</td>\n",
              "      <td>80.0</td>\n",
              "      <td>1.0</td>\n",
              "      <td>689.0</td>\n",
              "      <td>3</td>\n",
              "      <td>NaN</td>\n",
              "      <td>NaN</td>\n",
              "      <td>NaN</td>\n",
              "      <td>NaN</td>\n",
              "      <td>NaN</td>\n",
              "      <td>NaN</td>\n",
              "      <td>NaN</td>\n",
              "      <td>NaN</td>\n",
              "    </tr>\n",
              "    <tr>\n",
              "      <th>3</th>\n",
              "      <td>2021</td>\n",
              "      <td>1</td>\n",
              "      <td>1</td>\n",
              "      <td>17</td>\n",
              "      <td>7</td>\n",
              "      <td>2021-01-17</td>\n",
              "      <td>DL</td>\n",
              "      <td>DL</td>\n",
              "      <td>19790</td>\n",
              "      <td>DL</td>\n",
              "      <td>1126</td>\n",
              "      <td>NaN</td>\n",
              "      <td>NaN</td>\n",
              "      <td>NaN</td>\n",
              "      <td>NaN</td>\n",
              "      <td>DL</td>\n",
              "      <td>19790</td>\n",
              "      <td>DL</td>\n",
              "      <td>N3732J</td>\n",
              "      <td>1126</td>\n",
              "      <td>10397</td>\n",
              "      <td>1039707</td>\n",
              "      <td>30397</td>\n",
              "      <td>ATL</td>\n",
              "      <td>Atlanta, GA</td>\n",
              "      <td>GA</td>\n",
              "      <td>13</td>\n",
              "      <td>Georgia</td>\n",
              "      <td>34</td>\n",
              "      <td>14730</td>\n",
              "      <td>1473004</td>\n",
              "      <td>33044</td>\n",
              "      <td>SDF</td>\n",
              "      <td>Louisville, KY</td>\n",
              "      <td>KY</td>\n",
              "      <td>21</td>\n",
              "      <td>Kentucky</td>\n",
              "      <td>52</td>\n",
              "      <td>1313</td>\n",
              "      <td>1310.0</td>\n",
              "      <td>-3.0</td>\n",
              "      <td>0.0</td>\n",
              "      <td>0.0</td>\n",
              "      <td>-1.0</td>\n",
              "      <td>1300-1359</td>\n",
              "      <td>14.0</td>\n",
              "      <td>1324.0</td>\n",
              "      <td>1418.0</td>\n",
              "      <td>6.0</td>\n",
              "      <td>1426</td>\n",
              "      <td>1424.0</td>\n",
              "      <td>-2.0</td>\n",
              "      <td>0.0</td>\n",
              "      <td>0.0</td>\n",
              "      <td>-1.0</td>\n",
              "      <td>1400-1459</td>\n",
              "      <td>0.0</td>\n",
              "      <td>NaN</td>\n",
              "      <td>0.0</td>\n",
              "      <td>N</td>\n",
              "      <td>73.0</td>\n",
              "      <td>74.0</td>\n",
              "      <td>54.0</td>\n",
              "      <td>1.0</td>\n",
              "      <td>321.0</td>\n",
              "      <td>2</td>\n",
              "      <td>NaN</td>\n",
              "      <td>NaN</td>\n",
              "      <td>NaN</td>\n",
              "      <td>NaN</td>\n",
              "      <td>NaN</td>\n",
              "      <td>NaN</td>\n",
              "      <td>NaN</td>\n",
              "      <td>NaN</td>\n",
              "    </tr>\n",
              "    <tr>\n",
              "      <th>4</th>\n",
              "      <td>2021</td>\n",
              "      <td>1</td>\n",
              "      <td>1</td>\n",
              "      <td>17</td>\n",
              "      <td>7</td>\n",
              "      <td>2021-01-17</td>\n",
              "      <td>DL</td>\n",
              "      <td>DL</td>\n",
              "      <td>19790</td>\n",
              "      <td>DL</td>\n",
              "      <td>1140</td>\n",
              "      <td>NaN</td>\n",
              "      <td>NaN</td>\n",
              "      <td>NaN</td>\n",
              "      <td>NaN</td>\n",
              "      <td>DL</td>\n",
              "      <td>19790</td>\n",
              "      <td>DL</td>\n",
              "      <td>N819DN</td>\n",
              "      <td>1140</td>\n",
              "      <td>11433</td>\n",
              "      <td>1143302</td>\n",
              "      <td>31295</td>\n",
              "      <td>DTW</td>\n",
              "      <td>Detroit, MI</td>\n",
              "      <td>MI</td>\n",
              "      <td>26</td>\n",
              "      <td>Michigan</td>\n",
              "      <td>43</td>\n",
              "      <td>10397</td>\n",
              "      <td>1039707</td>\n",
              "      <td>30397</td>\n",
              "      <td>ATL</td>\n",
              "      <td>Atlanta, GA</td>\n",
              "      <td>GA</td>\n",
              "      <td>13</td>\n",
              "      <td>Georgia</td>\n",
              "      <td>34</td>\n",
              "      <td>605</td>\n",
              "      <td>559.0</td>\n",
              "      <td>-6.0</td>\n",
              "      <td>0.0</td>\n",
              "      <td>0.0</td>\n",
              "      <td>-1.0</td>\n",
              "      <td>0600-0659</td>\n",
              "      <td>26.0</td>\n",
              "      <td>625.0</td>\n",
              "      <td>755.0</td>\n",
              "      <td>3.0</td>\n",
              "      <td>823</td>\n",
              "      <td>758.0</td>\n",
              "      <td>-25.0</td>\n",
              "      <td>0.0</td>\n",
              "      <td>0.0</td>\n",
              "      <td>-2.0</td>\n",
              "      <td>0800-0859</td>\n",
              "      <td>0.0</td>\n",
              "      <td>NaN</td>\n",
              "      <td>0.0</td>\n",
              "      <td>N</td>\n",
              "      <td>138.0</td>\n",
              "      <td>119.0</td>\n",
              "      <td>90.0</td>\n",
              "      <td>1.0</td>\n",
              "      <td>594.0</td>\n",
              "      <td>3</td>\n",
              "      <td>NaN</td>\n",
              "      <td>NaN</td>\n",
              "      <td>NaN</td>\n",
              "      <td>NaN</td>\n",
              "      <td>NaN</td>\n",
              "      <td>NaN</td>\n",
              "      <td>NaN</td>\n",
              "      <td>NaN</td>\n",
              "    </tr>\n",
              "    <tr>\n",
              "      <th>...</th>\n",
              "      <td>...</td>\n",
              "      <td>...</td>\n",
              "      <td>...</td>\n",
              "      <td>...</td>\n",
              "      <td>...</td>\n",
              "      <td>...</td>\n",
              "      <td>...</td>\n",
              "      <td>...</td>\n",
              "      <td>...</td>\n",
              "      <td>...</td>\n",
              "      <td>...</td>\n",
              "      <td>...</td>\n",
              "      <td>...</td>\n",
              "      <td>...</td>\n",
              "      <td>...</td>\n",
              "      <td>...</td>\n",
              "      <td>...</td>\n",
              "      <td>...</td>\n",
              "      <td>...</td>\n",
              "      <td>...</td>\n",
              "      <td>...</td>\n",
              "      <td>...</td>\n",
              "      <td>...</td>\n",
              "      <td>...</td>\n",
              "      <td>...</td>\n",
              "      <td>...</td>\n",
              "      <td>...</td>\n",
              "      <td>...</td>\n",
              "      <td>...</td>\n",
              "      <td>...</td>\n",
              "      <td>...</td>\n",
              "      <td>...</td>\n",
              "      <td>...</td>\n",
              "      <td>...</td>\n",
              "      <td>...</td>\n",
              "      <td>...</td>\n",
              "      <td>...</td>\n",
              "      <td>...</td>\n",
              "      <td>...</td>\n",
              "      <td>...</td>\n",
              "      <td>...</td>\n",
              "      <td>...</td>\n",
              "      <td>...</td>\n",
              "      <td>...</td>\n",
              "      <td>...</td>\n",
              "      <td>...</td>\n",
              "      <td>...</td>\n",
              "      <td>...</td>\n",
              "      <td>...</td>\n",
              "      <td>...</td>\n",
              "      <td>...</td>\n",
              "      <td>...</td>\n",
              "      <td>...</td>\n",
              "      <td>...</td>\n",
              "      <td>...</td>\n",
              "      <td>...</td>\n",
              "      <td>...</td>\n",
              "      <td>...</td>\n",
              "      <td>...</td>\n",
              "      <td>...</td>\n",
              "      <td>...</td>\n",
              "      <td>...</td>\n",
              "      <td>...</td>\n",
              "      <td>...</td>\n",
              "      <td>...</td>\n",
              "      <td>...</td>\n",
              "      <td>...</td>\n",
              "      <td>...</td>\n",
              "      <td>...</td>\n",
              "      <td>...</td>\n",
              "      <td>...</td>\n",
              "      <td>...</td>\n",
              "      <td>...</td>\n",
              "      <td>...</td>\n",
              "    </tr>\n",
              "    <tr>\n",
              "      <th>215609</th>\n",
              "      <td>2021</td>\n",
              "      <td>2</td>\n",
              "      <td>5</td>\n",
              "      <td>2</td>\n",
              "      <td>7</td>\n",
              "      <td>2021-05-02</td>\n",
              "      <td>UA</td>\n",
              "      <td>UA_CODESHARE</td>\n",
              "      <td>19977</td>\n",
              "      <td>UA</td>\n",
              "      <td>3768</td>\n",
              "      <td>NaN</td>\n",
              "      <td>NaN</td>\n",
              "      <td>NaN</td>\n",
              "      <td>NaN</td>\n",
              "      <td>ZW</td>\n",
              "      <td>20046</td>\n",
              "      <td>ZW</td>\n",
              "      <td>N460AW</td>\n",
              "      <td>3768</td>\n",
              "      <td>12264</td>\n",
              "      <td>1226402</td>\n",
              "      <td>30852</td>\n",
              "      <td>IAD</td>\n",
              "      <td>Washington, DC</td>\n",
              "      <td>VA</td>\n",
              "      <td>51</td>\n",
              "      <td>Virginia</td>\n",
              "      <td>38</td>\n",
              "      <td>10434</td>\n",
              "      <td>1043405</td>\n",
              "      <td>30434</td>\n",
              "      <td>AVP</td>\n",
              "      <td>Scranton/Wilkes-Barre, PA</td>\n",
              "      <td>PA</td>\n",
              "      <td>42</td>\n",
              "      <td>Pennsylvania</td>\n",
              "      <td>23</td>\n",
              "      <td>1040</td>\n",
              "      <td>1032.0</td>\n",
              "      <td>-8.0</td>\n",
              "      <td>0.0</td>\n",
              "      <td>0.0</td>\n",
              "      <td>-1.0</td>\n",
              "      <td>1000-1059</td>\n",
              "      <td>16.0</td>\n",
              "      <td>1048.0</td>\n",
              "      <td>1131.0</td>\n",
              "      <td>4.0</td>\n",
              "      <td>1146</td>\n",
              "      <td>1135.0</td>\n",
              "      <td>-11.0</td>\n",
              "      <td>0.0</td>\n",
              "      <td>0.0</td>\n",
              "      <td>-1.0</td>\n",
              "      <td>1100-1159</td>\n",
              "      <td>0.0</td>\n",
              "      <td>NaN</td>\n",
              "      <td>0.0</td>\n",
              "      <td>N</td>\n",
              "      <td>66.0</td>\n",
              "      <td>63.0</td>\n",
              "      <td>43.0</td>\n",
              "      <td>1.0</td>\n",
              "      <td>189.0</td>\n",
              "      <td>1</td>\n",
              "      <td>NaN</td>\n",
              "      <td>NaN</td>\n",
              "      <td>NaN</td>\n",
              "      <td>NaN</td>\n",
              "      <td>NaN</td>\n",
              "      <td>NaN</td>\n",
              "      <td>NaN</td>\n",
              "      <td>NaN</td>\n",
              "    </tr>\n",
              "    <tr>\n",
              "      <th>215610</th>\n",
              "      <td>2021</td>\n",
              "      <td>2</td>\n",
              "      <td>5</td>\n",
              "      <td>2</td>\n",
              "      <td>7</td>\n",
              "      <td>2021-05-02</td>\n",
              "      <td>UA</td>\n",
              "      <td>UA_CODESHARE</td>\n",
              "      <td>19977</td>\n",
              "      <td>UA</td>\n",
              "      <td>3758</td>\n",
              "      <td>NaN</td>\n",
              "      <td>NaN</td>\n",
              "      <td>NaN</td>\n",
              "      <td>NaN</td>\n",
              "      <td>ZW</td>\n",
              "      <td>20046</td>\n",
              "      <td>ZW</td>\n",
              "      <td>N467AW</td>\n",
              "      <td>3758</td>\n",
              "      <td>13930</td>\n",
              "      <td>1393007</td>\n",
              "      <td>30977</td>\n",
              "      <td>ORD</td>\n",
              "      <td>Chicago, IL</td>\n",
              "      <td>IL</td>\n",
              "      <td>17</td>\n",
              "      <td>Illinois</td>\n",
              "      <td>41</td>\n",
              "      <td>11977</td>\n",
              "      <td>1197705</td>\n",
              "      <td>31977</td>\n",
              "      <td>GRB</td>\n",
              "      <td>Green Bay, WI</td>\n",
              "      <td>WI</td>\n",
              "      <td>55</td>\n",
              "      <td>Wisconsin</td>\n",
              "      <td>45</td>\n",
              "      <td>1409</td>\n",
              "      <td>1401.0</td>\n",
              "      <td>-8.0</td>\n",
              "      <td>0.0</td>\n",
              "      <td>0.0</td>\n",
              "      <td>-1.0</td>\n",
              "      <td>1400-1459</td>\n",
              "      <td>14.0</td>\n",
              "      <td>1415.0</td>\n",
              "      <td>1446.0</td>\n",
              "      <td>6.0</td>\n",
              "      <td>1510</td>\n",
              "      <td>1452.0</td>\n",
              "      <td>-18.0</td>\n",
              "      <td>0.0</td>\n",
              "      <td>0.0</td>\n",
              "      <td>-2.0</td>\n",
              "      <td>1500-1559</td>\n",
              "      <td>0.0</td>\n",
              "      <td>NaN</td>\n",
              "      <td>0.0</td>\n",
              "      <td>N</td>\n",
              "      <td>61.0</td>\n",
              "      <td>51.0</td>\n",
              "      <td>31.0</td>\n",
              "      <td>1.0</td>\n",
              "      <td>174.0</td>\n",
              "      <td>1</td>\n",
              "      <td>NaN</td>\n",
              "      <td>NaN</td>\n",
              "      <td>NaN</td>\n",
              "      <td>NaN</td>\n",
              "      <td>NaN</td>\n",
              "      <td>NaN</td>\n",
              "      <td>NaN</td>\n",
              "      <td>NaN</td>\n",
              "    </tr>\n",
              "    <tr>\n",
              "      <th>215611</th>\n",
              "      <td>2021</td>\n",
              "      <td>2</td>\n",
              "      <td>5</td>\n",
              "      <td>2</td>\n",
              "      <td>7</td>\n",
              "      <td>2021-05-02</td>\n",
              "      <td>UA</td>\n",
              "      <td>UA_CODESHARE</td>\n",
              "      <td>19977</td>\n",
              "      <td>UA</td>\n",
              "      <td>3746</td>\n",
              "      <td>NaN</td>\n",
              "      <td>NaN</td>\n",
              "      <td>NaN</td>\n",
              "      <td>NaN</td>\n",
              "      <td>ZW</td>\n",
              "      <td>20046</td>\n",
              "      <td>ZW</td>\n",
              "      <td>N452AW</td>\n",
              "      <td>3746</td>\n",
              "      <td>12264</td>\n",
              "      <td>1226402</td>\n",
              "      <td>30852</td>\n",
              "      <td>IAD</td>\n",
              "      <td>Washington, DC</td>\n",
              "      <td>VA</td>\n",
              "      <td>51</td>\n",
              "      <td>Virginia</td>\n",
              "      <td>38</td>\n",
              "      <td>10874</td>\n",
              "      <td>1087402</td>\n",
              "      <td>30647</td>\n",
              "      <td>CAK</td>\n",
              "      <td>Akron, OH</td>\n",
              "      <td>OH</td>\n",
              "      <td>39</td>\n",
              "      <td>Ohio</td>\n",
              "      <td>44</td>\n",
              "      <td>1740</td>\n",
              "      <td>1736.0</td>\n",
              "      <td>-4.0</td>\n",
              "      <td>0.0</td>\n",
              "      <td>0.0</td>\n",
              "      <td>-1.0</td>\n",
              "      <td>1700-1759</td>\n",
              "      <td>19.0</td>\n",
              "      <td>1755.0</td>\n",
              "      <td>1842.0</td>\n",
              "      <td>6.0</td>\n",
              "      <td>1903</td>\n",
              "      <td>1848.0</td>\n",
              "      <td>-15.0</td>\n",
              "      <td>0.0</td>\n",
              "      <td>0.0</td>\n",
              "      <td>-1.0</td>\n",
              "      <td>1900-1959</td>\n",
              "      <td>0.0</td>\n",
              "      <td>NaN</td>\n",
              "      <td>0.0</td>\n",
              "      <td>N</td>\n",
              "      <td>83.0</td>\n",
              "      <td>72.0</td>\n",
              "      <td>47.0</td>\n",
              "      <td>1.0</td>\n",
              "      <td>251.0</td>\n",
              "      <td>2</td>\n",
              "      <td>NaN</td>\n",
              "      <td>NaN</td>\n",
              "      <td>NaN</td>\n",
              "      <td>NaN</td>\n",
              "      <td>NaN</td>\n",
              "      <td>NaN</td>\n",
              "      <td>NaN</td>\n",
              "      <td>NaN</td>\n",
              "    </tr>\n",
              "    <tr>\n",
              "      <th>215612</th>\n",
              "      <td>2021</td>\n",
              "      <td>2</td>\n",
              "      <td>5</td>\n",
              "      <td>2</td>\n",
              "      <td>7</td>\n",
              "      <td>2021-05-02</td>\n",
              "      <td>UA</td>\n",
              "      <td>UA_CODESHARE</td>\n",
              "      <td>19977</td>\n",
              "      <td>UA</td>\n",
              "      <td>3736</td>\n",
              "      <td>NaN</td>\n",
              "      <td>NaN</td>\n",
              "      <td>NaN</td>\n",
              "      <td>NaN</td>\n",
              "      <td>ZW</td>\n",
              "      <td>20046</td>\n",
              "      <td>ZW</td>\n",
              "      <td>N459AW</td>\n",
              "      <td>3736</td>\n",
              "      <td>11267</td>\n",
              "      <td>1126702</td>\n",
              "      <td>31267</td>\n",
              "      <td>DAY</td>\n",
              "      <td>Dayton, OH</td>\n",
              "      <td>OH</td>\n",
              "      <td>39</td>\n",
              "      <td>Ohio</td>\n",
              "      <td>44</td>\n",
              "      <td>13930</td>\n",
              "      <td>1393007</td>\n",
              "      <td>30977</td>\n",
              "      <td>ORD</td>\n",
              "      <td>Chicago, IL</td>\n",
              "      <td>IL</td>\n",
              "      <td>17</td>\n",
              "      <td>Illinois</td>\n",
              "      <td>41</td>\n",
              "      <td>900</td>\n",
              "      <td>850.0</td>\n",
              "      <td>-10.0</td>\n",
              "      <td>0.0</td>\n",
              "      <td>0.0</td>\n",
              "      <td>-1.0</td>\n",
              "      <td>0900-0959</td>\n",
              "      <td>12.0</td>\n",
              "      <td>902.0</td>\n",
              "      <td>846.0</td>\n",
              "      <td>17.0</td>\n",
              "      <td>919</td>\n",
              "      <td>903.0</td>\n",
              "      <td>-16.0</td>\n",
              "      <td>0.0</td>\n",
              "      <td>0.0</td>\n",
              "      <td>-2.0</td>\n",
              "      <td>0900-0959</td>\n",
              "      <td>0.0</td>\n",
              "      <td>NaN</td>\n",
              "      <td>0.0</td>\n",
              "      <td>N</td>\n",
              "      <td>79.0</td>\n",
              "      <td>73.0</td>\n",
              "      <td>44.0</td>\n",
              "      <td>1.0</td>\n",
              "      <td>240.0</td>\n",
              "      <td>1</td>\n",
              "      <td>NaN</td>\n",
              "      <td>NaN</td>\n",
              "      <td>NaN</td>\n",
              "      <td>NaN</td>\n",
              "      <td>NaN</td>\n",
              "      <td>NaN</td>\n",
              "      <td>NaN</td>\n",
              "      <td>NaN</td>\n",
              "    </tr>\n",
              "    <tr>\n",
              "      <th>215613</th>\n",
              "      <td>2021</td>\n",
              "      <td>2</td>\n",
              "      <td>5</td>\n",
              "      <td>2</td>\n",
              "      <td>7</td>\n",
              "      <td>2021-05-02</td>\n",
              "      <td>UA</td>\n",
              "      <td>UA_CODESHARE</td>\n",
              "      <td>19977</td>\n",
              "      <td>UA</td>\n",
              "      <td>3726</td>\n",
              "      <td>NaN</td>\n",
              "      <td>NaN</td>\n",
              "      <td>NaN</td>\n",
              "      <td>NaN</td>\n",
              "      <td>ZW</td>\n",
              "      <td>20046</td>\n",
              "      <td>ZW</td>\n",
              "      <td>N423AW</td>\n",
              "      <td>3726</td>\n",
              "      <td>11267</td>\n",
              "      <td>1126702</td>\n",
              "      <td>31267</td>\n",
              "      <td>DAY</td>\n",
              "      <td>Dayton, OH</td>\n",
              "      <td>OH</td>\n",
              "      <td>39</td>\n",
              "      <td>Ohio</td>\n",
              "      <td>44</td>\n",
              "      <td>12264</td>\n",
              "      <td>1226402</td>\n",
              "      <td>30852</td>\n",
              "      <td>IAD</td>\n",
              "      <td>Washington, DC</td>\n",
              "      <td>VA</td>\n",
              "      <td>51</td>\n",
              "      <td>Virginia</td>\n",
              "      <td>38</td>\n",
              "      <td>1500</td>\n",
              "      <td>1450.0</td>\n",
              "      <td>-10.0</td>\n",
              "      <td>0.0</td>\n",
              "      <td>0.0</td>\n",
              "      <td>-1.0</td>\n",
              "      <td>1500-1559</td>\n",
              "      <td>14.0</td>\n",
              "      <td>1504.0</td>\n",
              "      <td>1603.0</td>\n",
              "      <td>9.0</td>\n",
              "      <td>1628</td>\n",
              "      <td>1612.0</td>\n",
              "      <td>-16.0</td>\n",
              "      <td>0.0</td>\n",
              "      <td>0.0</td>\n",
              "      <td>-2.0</td>\n",
              "      <td>1600-1659</td>\n",
              "      <td>0.0</td>\n",
              "      <td>NaN</td>\n",
              "      <td>0.0</td>\n",
              "      <td>N</td>\n",
              "      <td>88.0</td>\n",
              "      <td>82.0</td>\n",
              "      <td>59.0</td>\n",
              "      <td>1.0</td>\n",
              "      <td>368.0</td>\n",
              "      <td>2</td>\n",
              "      <td>NaN</td>\n",
              "      <td>NaN</td>\n",
              "      <td>NaN</td>\n",
              "      <td>NaN</td>\n",
              "      <td>NaN</td>\n",
              "      <td>NaN</td>\n",
              "      <td>NaN</td>\n",
              "      <td>NaN</td>\n",
              "    </tr>\n",
              "  </tbody>\n",
              "</table>\n",
              "<p>215614 rows × 74 columns</p>\n",
              "</div>"
            ],
            "text/plain": [
              "        YEAR  QUARTER  ...  TOTAL_ADD_GTIME  LONGEST_ADD_GTIME\n",
              "0       2021        1  ...              NaN                NaN\n",
              "1       2021        1  ...              NaN                NaN\n",
              "2       2021        1  ...              NaN                NaN\n",
              "3       2021        1  ...              NaN                NaN\n",
              "4       2021        1  ...              NaN                NaN\n",
              "...      ...      ...  ...              ...                ...\n",
              "215609  2021        2  ...              NaN                NaN\n",
              "215610  2021        2  ...              NaN                NaN\n",
              "215611  2021        2  ...              NaN                NaN\n",
              "215612  2021        2  ...              NaN                NaN\n",
              "215613  2021        2  ...              NaN                NaN\n",
              "\n",
              "[215614 rows x 74 columns]"
            ]
          },
          "metadata": {},
          "execution_count": 2
        }
      ]
    },
    {
      "cell_type": "code",
      "metadata": {
        "id": "_YtBrNw3MyAo"
      },
      "source": [
        "flightsampledata.dropna(subset=['DEP_DEL15','TAXI_OUT','AIR_TIME'],inplace=True)"
      ],
      "execution_count": null,
      "outputs": []
    },
    {
      "cell_type": "code",
      "metadata": {
        "colab": {
          "base_uri": "https://localhost:8080/"
        },
        "id": "Vgs0ANyiRJ69",
        "outputId": "fad58677-97f5-460e-c388-6b75d683e435"
      },
      "source": [
        "flightsampledata.isna().sum()"
      ],
      "execution_count": null,
      "outputs": [
        {
          "output_type": "execute_result",
          "data": {
            "text/plain": [
              "YEAR                        0\n",
              "QUARTER                     0\n",
              "MONTH                       0\n",
              "DAY_OF_MONTH                0\n",
              "DAY_OF_WEEK                 0\n",
              "                        ...  \n",
              "SECURITY_DELAY         189874\n",
              "LATE_AIRCRAFT_DELAY    189874\n",
              "FIRST_DEP_TIME         213921\n",
              "TOTAL_ADD_GTIME        213921\n",
              "LONGEST_ADD_GTIME      213921\n",
              "Length: 74, dtype: int64"
            ]
          },
          "metadata": {},
          "execution_count": 4
        }
      ]
    },
    {
      "cell_type": "code",
      "metadata": {
        "id": "EFIZNdmUM9ZE"
      },
      "source": [
        "#corr = flightsampledata.corr()#Lists all pairs of highly collinear variables\n",
        "#indices = np.where(corr > 0.8)\n",
        "#indices = [(corr.columns[x], corr.columns[y]) for x, y in zip(*indices)\n",
        "#                                        if x != y and x < y]\n",
        "#indices"
      ],
      "execution_count": null,
      "outputs": []
    },
    {
      "cell_type": "code",
      "metadata": {
        "colab": {
          "base_uri": "https://localhost:8080/",
          "height": 90
        },
        "id": "azqLxYO79Hna",
        "outputId": "93889b25-fb3b-4f0b-9a62-7945c5aea7f6"
      },
      "source": [
        "'''import datetime\n",
        "import calendar\n",
        "\n",
        "def week_of_month(tgtdate):\n",
        "    tgtdate = tgtdate.to_datetime()\n",
        "\n",
        "    days_this_month = calendar.mdays[tgtdate.month]\n",
        "    for i in range(1, days_this_month):\n",
        "        d = datetime.datetime(tgtdate.year, tgtdate.month, i)\n",
        "        if d.day - d.weekday() > 0:\n",
        "            startdate = d\n",
        "            break\n",
        "    # now we canuse the modulo 7 appraoch\n",
        "    return (tgtdate - startdate).days //7 + 1\n",
        "\n",
        "consolidatedSelectedColumns['calendar_wom'] = consolidatedSelectedColumns['DAY_OF_WEEK'].apply(week_of_month)'''"
      ],
      "execution_count": null,
      "outputs": [
        {
          "output_type": "execute_result",
          "data": {
            "application/vnd.google.colaboratory.intrinsic+json": {
              "type": "string"
            },
            "text/plain": [
              "\"import datetime\\nimport calendar\\n\\ndef week_of_month(tgtdate):\\n    tgtdate = tgtdate.to_datetime()\\n\\n    days_this_month = calendar.mdays[tgtdate.month]\\n    for i in range(1, days_this_month):\\n        d = datetime.datetime(tgtdate.year, tgtdate.month, i)\\n        if d.day - d.weekday() > 0:\\n            startdate = d\\n            break\\n    # now we canuse the modulo 7 appraoch\\n    return (tgtdate - startdate).days //7 + 1\\n\\nconsolidatedSelectedColumns['calendar_wom'] = consolidatedSelectedColumns['DAY_OF_WEEK'].apply(week_of_month)\""
            ]
          },
          "metadata": {},
          "execution_count": 6
        }
      ]
    },
    {
      "cell_type": "markdown",
      "metadata": {
        "id": "Odmt5WRpONd8"
      },
      "source": [
        "# Approach 1"
      ]
    },
    {
      "cell_type": "code",
      "metadata": {
        "id": "ddE3wfbVIiS8"
      },
      "source": [
        "systematic_sample_selectedcols=flightsampledata[['YEAR','MONTH','DAY_OF_MONTH','DAY_OF_WEEK','FL_DATE','ORIGIN','ORIGIN_AIRPORT_ID','DEST_AIRPORT_ID','TAIL_NUM','AIR_TIME','OP_CARRIER_FL_NUM','DISTANCE','OP_CARRIER_AIRLINE_ID','DEP_DEL15','CRS_DEP_TIME','CRS_ELAPSED_TIME','TAXI_OUT','DEP_TIME']]"
      ],
      "execution_count": null,
      "outputs": []
    },
    {
      "cell_type": "code",
      "metadata": {
        "colab": {
          "base_uri": "https://localhost:8080/"
        },
        "id": "Onyd3EjmP0OW",
        "outputId": "93dd8d42-85d0-4816-ea7d-59438a8ccec6"
      },
      "source": [
        "systematic_sample_selectedcols.dtypes"
      ],
      "execution_count": null,
      "outputs": [
        {
          "output_type": "execute_result",
          "data": {
            "text/plain": [
              "YEAR                       int64\n",
              "MONTH                      int64\n",
              "DAY_OF_MONTH               int64\n",
              "DAY_OF_WEEK                int64\n",
              "FL_DATE                   object\n",
              "ORIGIN                    object\n",
              "ORIGIN_AIRPORT_ID          int64\n",
              "DEST_AIRPORT_ID            int64\n",
              "TAIL_NUM                  object\n",
              "AIR_TIME                 float64\n",
              "OP_CARRIER_FL_NUM          int64\n",
              "DISTANCE                 float64\n",
              "OP_CARRIER_AIRLINE_ID      int64\n",
              "DEP_DEL15                float64\n",
              "CRS_DEP_TIME               int64\n",
              "CRS_ELAPSED_TIME         float64\n",
              "TAXI_OUT                 float64\n",
              "DEP_TIME                 float64\n",
              "dtype: object"
            ]
          },
          "metadata": {},
          "execution_count": 8
        }
      ]
    },
    {
      "cell_type": "code",
      "metadata": {
        "id": "4v7gODdVPaD9"
      },
      "source": [
        "from datetime import date\n",
        "systematic_sample_selectedcols['FL_DATE']=pd.to_datetime(systematic_sample_selectedcols['FL_DATE'],format='%Y-%m-%d')"
      ],
      "execution_count": null,
      "outputs": []
    },
    {
      "cell_type": "code",
      "metadata": {
        "colab": {
          "base_uri": "https://localhost:8080/"
        },
        "id": "wfh1mzfRV-_C",
        "outputId": "d21ad00e-5fef-4e46-9c61-a59bb94d9267"
      },
      "source": [
        "#systematic_sample_selectedcols['ORIGIN_AIRPORT_ID']=systematic_sample_selectedcols['DAY_OF_MONTH'].astype(int)\n",
        "#systematic_sample_selectedcols['DEST_AIRPORT_ID']=systematic_sample_selectedcols['MONTH'].astype(int)\n",
        "#systematic_sample_selectedcols['YEAR']=systematic_sample_selectedcols['YEAR'].astype(int)\n",
        "systematic_sample_selectedcols.dtypes"
      ],
      "execution_count": null,
      "outputs": [
        {
          "output_type": "execute_result",
          "data": {
            "text/plain": [
              "YEAR                              int64\n",
              "MONTH                             int64\n",
              "DAY_OF_MONTH                      int64\n",
              "DAY_OF_WEEK                       int64\n",
              "FL_DATE                  datetime64[ns]\n",
              "ORIGIN                           object\n",
              "ORIGIN_AIRPORT_ID                 int64\n",
              "DEST_AIRPORT_ID                   int64\n",
              "TAIL_NUM                         object\n",
              "AIR_TIME                        float64\n",
              "OP_CARRIER_FL_NUM                 int64\n",
              "DISTANCE                        float64\n",
              "OP_CARRIER_AIRLINE_ID             int64\n",
              "DEP_DEL15                       float64\n",
              "CRS_DEP_TIME                      int64\n",
              "CRS_ELAPSED_TIME                float64\n",
              "TAXI_OUT                        float64\n",
              "DEP_TIME                        float64\n",
              "dtype: object"
            ]
          },
          "metadata": {},
          "execution_count": 10
        }
      ]
    },
    {
      "cell_type": "markdown",
      "metadata": {
        "id": "mERNfgx0ITc3"
      },
      "source": [
        "## Creating new column- WEEK_OF_MONTH"
      ]
    },
    {
      "cell_type": "markdown",
      "metadata": {
        "id": "8ZJj_JfrmSA0"
      },
      "source": [
        "* challenges faced- Python datetime isocalendar giving wrong tuple\n",
        "a = datetime.datetime(2021, 1, 1)\n",
        "print(a.isocalendar())\n",
        "and the output is supposed to be (year,weeknum,week day)\n",
        "but got (2021, 53, 7),\n",
        "* REASON BEHIND-->\n",
        " * The ISO year consists of 52 or 53 full weeks, and where a week starts on a Monday and ends on a Sunday. The first week of an ISO year is the first (Gregorian) calendar week of a year containing a Thursday. This is called week number 1, and the ISO year of that Thursday is the same as its Gregorian year.\n",
        "\n",
        " * For example, 2004 begins on a Thursday, so the first week of ISO year 2004 begins on Monday, 29 Dec 2003 and ends on Sunday, 4 Jan 2004, so that date(2003, 12, 29).isocalendar() == (2004, 1, 1) and date(2004, 1, 4).isocalendar() == (2004, 1, 7).\n",
        "\n",
        "\n"
      ]
    },
    {
      "cell_type": "code",
      "metadata": {
        "colab": {
          "base_uri": "https://localhost:8080/",
          "height": 144
        },
        "id": "qJnmLKdeHCmV",
        "outputId": "935d7636-0eb7-45bf-f928-3e5849c2ea41"
      },
      "source": [
        "'''import datetime\n",
        "from datetime import  date\n",
        "\n",
        "#def week_number_of_month(date):\n",
        " #    return (date.isocalendar()[1] - date.replace(day=1).isocalendar()[1] + 1)\n",
        " \n",
        "#date_given = datetime.datetime.today().date()\n",
        "#print(\"\\nWeek number of month: \", week_number_of_month(date_given), \"\\n\")\n",
        "#for i in range(len(systematic_sample_selectedcols)):\n",
        "#date_given = datetime.datetime(systematic_sample_selectedcols.FL_DATE).date()\n",
        "#for i in range(len(systematic_sample_selectedcols.FL_DATE)):\n",
        "date1=systematic_sample_selectedcols['FL_DATE']\n",
        "for dt1 in date1:\n",
        "  dt1= datetime.datetime(dt1.year,dt1.month,dt1.day).date()\n",
        "  print(dt1)\n",
        "  date1=((dt1.replace(day=1).isocalendar()[1]) + 1)\n",
        "  #date=week_number_of_month(date)\n",
        "  print(date1)\n",
        "  #systematic_sample_selectedcols['WEEK_OF_MONTH']=systematic_sample_selectedcols['FL_DATE'].apply.date\n",
        "#systematic_sample_selectedcols.head()\n",
        "#date_given = datetime.datetime(year=2012, month=2, day=12).date()\n",
        "#print(\"\\nWeek number of month: \", week_number_of_month(date_given), \"\\n\")'''"
      ],
      "execution_count": null,
      "outputs": [
        {
          "output_type": "execute_result",
          "data": {
            "application/vnd.google.colaboratory.intrinsic+json": {
              "type": "string"
            },
            "text/plain": [
              "'import datetime\\nfrom datetime import  date\\n\\n#def week_number_of_month(date):\\n #    return (date.isocalendar()[1] - date.replace(day=1).isocalendar()[1] + 1)\\n \\n#date_given = datetime.datetime.today().date()\\n#print(\"\\nWeek number of month: \", week_number_of_month(date_given), \"\\n\")\\n#for i in range(len(systematic_sample_selectedcols)):\\n#date_given = datetime.datetime(systematic_sample_selectedcols.FL_DATE).date()\\n#for i in range(len(systematic_sample_selectedcols.FL_DATE)):\\ndate1=systematic_sample_selectedcols[\\'FL_DATE\\']\\nfor dt1 in date1:\\n  dt1= datetime.datetime(dt1.year,dt1.month,dt1.day).date()\\n  print(dt1)\\n  date1=((dt1.replace(day=1).isocalendar()[1]) + 1)\\n  #date=week_number_of_month(date)\\n  print(date1)\\n  #systematic_sample_selectedcols[\\'WEEK_OF_MONTH\\']=systematic_sample_selectedcols[\\'FL_DATE\\'].apply.date\\n#systematic_sample_selectedcols.head()\\n#date_given = datetime.datetime(year=2012, month=2, day=12).date()\\n#print(\"\\nWeek number of month: \", week_number_of_month(date_given), \"\\n\")'"
            ]
          },
          "metadata": {},
          "execution_count": 11
        }
      ]
    },
    {
      "cell_type": "code",
      "metadata": {
        "colab": {
          "base_uri": "https://localhost:8080/",
          "height": 73
        },
        "id": "TMHcljS1xZ5T",
        "outputId": "80234bb4-3135-4320-9a96-2cbd2f7dfda6"
      },
      "source": [
        "'''def week_number_of_month(date_value):\n",
        "  return(date_value.replace(day=1).isocalendar()[1]) \n",
        "    #return (date_value.isocalendar()[1]-date_value.replace(day=1).isocalendar()[1]+1)\n",
        " \n",
        "date_given = datetime.datetime(year=2021, month=1, day=1).date()\n",
        "print(date_given)\n",
        "print(\"\\nWeek number of month: \", week_number_of_month(date_given), \"\\n\")'''"
      ],
      "execution_count": null,
      "outputs": [
        {
          "output_type": "execute_result",
          "data": {
            "application/vnd.google.colaboratory.intrinsic+json": {
              "type": "string"
            },
            "text/plain": [
              "'def week_number_of_month(date_value):\\n  return(date_value.replace(day=1).isocalendar()[1]) \\n    #return (date_value.isocalendar()[1]-date_value.replace(day=1).isocalendar()[1]+1)\\n \\ndate_given = datetime.datetime(year=2021, month=1, day=1).date()\\nprint(date_given)\\nprint(\"\\nWeek number of month: \", week_number_of_month(date_given), \"\\n\")'"
            ]
          },
          "metadata": {},
          "execution_count": 12
        }
      ]
    },
    {
      "cell_type": "markdown",
      "metadata": {
        "id": "b8DIb0g6Zja5"
      },
      "source": [
        "* The above isocalendar() dosent works well to retrive week of month(). \n",
        "so to find start day of week in month tried with(d.day - d.weekday()) \n",
        "* Then to group in to 7 days per week (tgtdate - startdate).days //7) is used"
      ]
    },
    {
      "cell_type": "code",
      "metadata": {
        "colab": {
          "base_uri": "https://localhost:8080/",
          "height": 206
        },
        "id": "_A6KcGNbWfrh",
        "outputId": "bc62bfd2-f464-44c0-9b89-a1dd0e10113f"
      },
      "source": [
        "import datetime\n",
        "import calendar\n",
        "\n",
        "def week_of_month(tgtdate):\n",
        "    #tgtdate = tgtdate.to_datetime()\n",
        "\n",
        "    days_this_month = calendar.mdays[tgtdate.month]\n",
        "    for i in range(1, days_this_month):\n",
        "        d = datetime.datetime(tgtdate.year, tgtdate.month, i)\n",
        "        if d.day - d.weekday() > 0:\n",
        "            startdate = d\n",
        "            break\n",
        "    # now we can use the modulo 7 appraoch\n",
        "    return (tgtdate - startdate).days //7 + 2\n",
        "\n",
        "systematic_sample_selectedcols['WEEK_OF_MONTH'] = systematic_sample_selectedcols['FL_DATE'].apply(week_of_month)\n",
        "systematic_sample_selectedcols[['FL_DATE','WEEK_OF_MONTH']].sort_values('WEEK_OF_MONTH',ascending=False) .head()"
      ],
      "execution_count": null,
      "outputs": [
        {
          "output_type": "execute_result",
          "data": {
            "text/html": [
              "<div>\n",
              "<style scoped>\n",
              "    .dataframe tbody tr th:only-of-type {\n",
              "        vertical-align: middle;\n",
              "    }\n",
              "\n",
              "    .dataframe tbody tr th {\n",
              "        vertical-align: top;\n",
              "    }\n",
              "\n",
              "    .dataframe thead th {\n",
              "        text-align: right;\n",
              "    }\n",
              "</style>\n",
              "<table border=\"1\" class=\"dataframe\">\n",
              "  <thead>\n",
              "    <tr style=\"text-align: right;\">\n",
              "      <th></th>\n",
              "      <th>FL_DATE</th>\n",
              "      <th>WEEK_OF_MONTH</th>\n",
              "    </tr>\n",
              "  </thead>\n",
              "  <tbody>\n",
              "    <tr>\n",
              "      <th>73763</th>\n",
              "      <td>2021-03-29</td>\n",
              "      <td>6</td>\n",
              "    </tr>\n",
              "    <tr>\n",
              "      <th>190172</th>\n",
              "      <td>2021-05-31</td>\n",
              "      <td>6</td>\n",
              "    </tr>\n",
              "    <tr>\n",
              "      <th>86852</th>\n",
              "      <td>2021-03-30</td>\n",
              "      <td>6</td>\n",
              "    </tr>\n",
              "    <tr>\n",
              "      <th>86851</th>\n",
              "      <td>2021-03-30</td>\n",
              "      <td>6</td>\n",
              "    </tr>\n",
              "    <tr>\n",
              "      <th>86850</th>\n",
              "      <td>2021-03-30</td>\n",
              "      <td>6</td>\n",
              "    </tr>\n",
              "  </tbody>\n",
              "</table>\n",
              "</div>"
            ],
            "text/plain": [
              "          FL_DATE  WEEK_OF_MONTH\n",
              "73763  2021-03-29              6\n",
              "190172 2021-05-31              6\n",
              "86852  2021-03-30              6\n",
              "86851  2021-03-30              6\n",
              "86850  2021-03-30              6"
            ]
          },
          "metadata": {},
          "execution_count": 13
        }
      ]
    },
    {
      "cell_type": "code",
      "metadata": {
        "colab": {
          "base_uri": "https://localhost:8080/"
        },
        "id": "OykoMyj5Xo6R",
        "outputId": "ae5aa2a2-20fa-4367-e253-f7cf2bd9c484"
      },
      "source": [
        "systematic_sample_selectedcols['WEEK_OF_MONTH'].value_counts()"
      ],
      "execution_count": null,
      "outputs": [
        {
          "output_type": "execute_result",
          "data": {
            "text/plain": [
              "4    49502\n",
              "3    49402\n",
              "2    48483\n",
              "5    47621\n",
              "1    13755\n",
              "6     6366\n",
              "Name: WEEK_OF_MONTH, dtype: int64"
            ]
          },
          "metadata": {},
          "execution_count": 14
        }
      ]
    },
    {
      "cell_type": "markdown",
      "metadata": {
        "id": "NzAP4dL0zgMd"
      },
      "source": [
        "## Creating New column--> Week days==0, Weekends == 1(DAY_OF_WEEK_days_end)"
      ]
    },
    {
      "cell_type": "code",
      "metadata": {
        "colab": {
          "base_uri": "https://localhost:8080/",
          "height": 617
        },
        "id": "CNs2GUZramaH",
        "outputId": "f777f5e0-23bd-4833-b469-c53ee3ea775b"
      },
      "source": [
        "#'DAY_OF_WEEK' because delay could depend on traffic in specific days: classify it to weekend or working day\n",
        "def get_day_category(day_of_week):\n",
        "    if day_of_week <= 5:\n",
        "        return 0 #'working day'\n",
        "    elif day_of_week > 5:\n",
        "        return 1 #'weekend'\n",
        "systematic_sample_selectedcols['DAY_OF_WEEK_days_end'] = systematic_sample_selectedcols['DAY_OF_WEEK']\n",
        "   \n",
        "systematic_sample_selectedcols['DAY_OF_WEEK_days_end'] = systematic_sample_selectedcols.DAY_OF_WEEK_days_end.apply(get_day_category)\n",
        "systematic_sample_selectedcols"
      ],
      "execution_count": null,
      "outputs": [
        {
          "output_type": "execute_result",
          "data": {
            "text/html": [
              "<div>\n",
              "<style scoped>\n",
              "    .dataframe tbody tr th:only-of-type {\n",
              "        vertical-align: middle;\n",
              "    }\n",
              "\n",
              "    .dataframe tbody tr th {\n",
              "        vertical-align: top;\n",
              "    }\n",
              "\n",
              "    .dataframe thead th {\n",
              "        text-align: right;\n",
              "    }\n",
              "</style>\n",
              "<table border=\"1\" class=\"dataframe\">\n",
              "  <thead>\n",
              "    <tr style=\"text-align: right;\">\n",
              "      <th></th>\n",
              "      <th>YEAR</th>\n",
              "      <th>MONTH</th>\n",
              "      <th>DAY_OF_MONTH</th>\n",
              "      <th>DAY_OF_WEEK</th>\n",
              "      <th>FL_DATE</th>\n",
              "      <th>ORIGIN</th>\n",
              "      <th>ORIGIN_AIRPORT_ID</th>\n",
              "      <th>DEST_AIRPORT_ID</th>\n",
              "      <th>TAIL_NUM</th>\n",
              "      <th>AIR_TIME</th>\n",
              "      <th>OP_CARRIER_FL_NUM</th>\n",
              "      <th>DISTANCE</th>\n",
              "      <th>OP_CARRIER_AIRLINE_ID</th>\n",
              "      <th>DEP_DEL15</th>\n",
              "      <th>CRS_DEP_TIME</th>\n",
              "      <th>CRS_ELAPSED_TIME</th>\n",
              "      <th>TAXI_OUT</th>\n",
              "      <th>DEP_TIME</th>\n",
              "      <th>WEEK_OF_MONTH</th>\n",
              "      <th>DAY_OF_WEEK_days_end</th>\n",
              "    </tr>\n",
              "  </thead>\n",
              "  <tbody>\n",
              "    <tr>\n",
              "      <th>0</th>\n",
              "      <td>2021</td>\n",
              "      <td>1</td>\n",
              "      <td>17</td>\n",
              "      <td>7</td>\n",
              "      <td>2021-01-17</td>\n",
              "      <td>DFW</td>\n",
              "      <td>11298</td>\n",
              "      <td>11433</td>\n",
              "      <td>N326NB</td>\n",
              "      <td>126.0</td>\n",
              "      <td>1089</td>\n",
              "      <td>986.0</td>\n",
              "      <td>19790</td>\n",
              "      <td>0.0</td>\n",
              "      <td>1153</td>\n",
              "      <td>150.0</td>\n",
              "      <td>28.0</td>\n",
              "      <td>1151.0</td>\n",
              "      <td>3</td>\n",
              "      <td>1</td>\n",
              "    </tr>\n",
              "    <tr>\n",
              "      <th>1</th>\n",
              "      <td>2021</td>\n",
              "      <td>1</td>\n",
              "      <td>17</td>\n",
              "      <td>7</td>\n",
              "      <td>2021-01-17</td>\n",
              "      <td>SLC</td>\n",
              "      <td>14869</td>\n",
              "      <td>11298</td>\n",
              "      <td>N356NW</td>\n",
              "      <td>122.0</td>\n",
              "      <td>1097</td>\n",
              "      <td>989.0</td>\n",
              "      <td>19790</td>\n",
              "      <td>0.0</td>\n",
              "      <td>948</td>\n",
              "      <td>165.0</td>\n",
              "      <td>31.0</td>\n",
              "      <td>939.0</td>\n",
              "      <td>3</td>\n",
              "      <td>1</td>\n",
              "    </tr>\n",
              "    <tr>\n",
              "      <th>2</th>\n",
              "      <td>2021</td>\n",
              "      <td>1</td>\n",
              "      <td>17</td>\n",
              "      <td>7</td>\n",
              "      <td>2021-01-17</td>\n",
              "      <td>SEA</td>\n",
              "      <td>14747</td>\n",
              "      <td>14869</td>\n",
              "      <td>N878DN</td>\n",
              "      <td>80.0</td>\n",
              "      <td>1112</td>\n",
              "      <td>689.0</td>\n",
              "      <td>19790</td>\n",
              "      <td>0.0</td>\n",
              "      <td>1010</td>\n",
              "      <td>124.0</td>\n",
              "      <td>16.0</td>\n",
              "      <td>1006.0</td>\n",
              "      <td>3</td>\n",
              "      <td>1</td>\n",
              "    </tr>\n",
              "    <tr>\n",
              "      <th>3</th>\n",
              "      <td>2021</td>\n",
              "      <td>1</td>\n",
              "      <td>17</td>\n",
              "      <td>7</td>\n",
              "      <td>2021-01-17</td>\n",
              "      <td>ATL</td>\n",
              "      <td>10397</td>\n",
              "      <td>14730</td>\n",
              "      <td>N3732J</td>\n",
              "      <td>54.0</td>\n",
              "      <td>1126</td>\n",
              "      <td>321.0</td>\n",
              "      <td>19790</td>\n",
              "      <td>0.0</td>\n",
              "      <td>1313</td>\n",
              "      <td>73.0</td>\n",
              "      <td>14.0</td>\n",
              "      <td>1310.0</td>\n",
              "      <td>3</td>\n",
              "      <td>1</td>\n",
              "    </tr>\n",
              "    <tr>\n",
              "      <th>4</th>\n",
              "      <td>2021</td>\n",
              "      <td>1</td>\n",
              "      <td>17</td>\n",
              "      <td>7</td>\n",
              "      <td>2021-01-17</td>\n",
              "      <td>DTW</td>\n",
              "      <td>11433</td>\n",
              "      <td>10397</td>\n",
              "      <td>N819DN</td>\n",
              "      <td>90.0</td>\n",
              "      <td>1140</td>\n",
              "      <td>594.0</td>\n",
              "      <td>19790</td>\n",
              "      <td>0.0</td>\n",
              "      <td>605</td>\n",
              "      <td>138.0</td>\n",
              "      <td>26.0</td>\n",
              "      <td>559.0</td>\n",
              "      <td>3</td>\n",
              "      <td>1</td>\n",
              "    </tr>\n",
              "    <tr>\n",
              "      <th>...</th>\n",
              "      <td>...</td>\n",
              "      <td>...</td>\n",
              "      <td>...</td>\n",
              "      <td>...</td>\n",
              "      <td>...</td>\n",
              "      <td>...</td>\n",
              "      <td>...</td>\n",
              "      <td>...</td>\n",
              "      <td>...</td>\n",
              "      <td>...</td>\n",
              "      <td>...</td>\n",
              "      <td>...</td>\n",
              "      <td>...</td>\n",
              "      <td>...</td>\n",
              "      <td>...</td>\n",
              "      <td>...</td>\n",
              "      <td>...</td>\n",
              "      <td>...</td>\n",
              "      <td>...</td>\n",
              "      <td>...</td>\n",
              "    </tr>\n",
              "    <tr>\n",
              "      <th>215609</th>\n",
              "      <td>2021</td>\n",
              "      <td>5</td>\n",
              "      <td>2</td>\n",
              "      <td>7</td>\n",
              "      <td>2021-05-02</td>\n",
              "      <td>IAD</td>\n",
              "      <td>12264</td>\n",
              "      <td>10434</td>\n",
              "      <td>N460AW</td>\n",
              "      <td>43.0</td>\n",
              "      <td>3768</td>\n",
              "      <td>189.0</td>\n",
              "      <td>20046</td>\n",
              "      <td>0.0</td>\n",
              "      <td>1040</td>\n",
              "      <td>66.0</td>\n",
              "      <td>16.0</td>\n",
              "      <td>1032.0</td>\n",
              "      <td>1</td>\n",
              "      <td>1</td>\n",
              "    </tr>\n",
              "    <tr>\n",
              "      <th>215610</th>\n",
              "      <td>2021</td>\n",
              "      <td>5</td>\n",
              "      <td>2</td>\n",
              "      <td>7</td>\n",
              "      <td>2021-05-02</td>\n",
              "      <td>ORD</td>\n",
              "      <td>13930</td>\n",
              "      <td>11977</td>\n",
              "      <td>N467AW</td>\n",
              "      <td>31.0</td>\n",
              "      <td>3758</td>\n",
              "      <td>174.0</td>\n",
              "      <td>20046</td>\n",
              "      <td>0.0</td>\n",
              "      <td>1409</td>\n",
              "      <td>61.0</td>\n",
              "      <td>14.0</td>\n",
              "      <td>1401.0</td>\n",
              "      <td>1</td>\n",
              "      <td>1</td>\n",
              "    </tr>\n",
              "    <tr>\n",
              "      <th>215611</th>\n",
              "      <td>2021</td>\n",
              "      <td>5</td>\n",
              "      <td>2</td>\n",
              "      <td>7</td>\n",
              "      <td>2021-05-02</td>\n",
              "      <td>IAD</td>\n",
              "      <td>12264</td>\n",
              "      <td>10874</td>\n",
              "      <td>N452AW</td>\n",
              "      <td>47.0</td>\n",
              "      <td>3746</td>\n",
              "      <td>251.0</td>\n",
              "      <td>20046</td>\n",
              "      <td>0.0</td>\n",
              "      <td>1740</td>\n",
              "      <td>83.0</td>\n",
              "      <td>19.0</td>\n",
              "      <td>1736.0</td>\n",
              "      <td>1</td>\n",
              "      <td>1</td>\n",
              "    </tr>\n",
              "    <tr>\n",
              "      <th>215612</th>\n",
              "      <td>2021</td>\n",
              "      <td>5</td>\n",
              "      <td>2</td>\n",
              "      <td>7</td>\n",
              "      <td>2021-05-02</td>\n",
              "      <td>DAY</td>\n",
              "      <td>11267</td>\n",
              "      <td>13930</td>\n",
              "      <td>N459AW</td>\n",
              "      <td>44.0</td>\n",
              "      <td>3736</td>\n",
              "      <td>240.0</td>\n",
              "      <td>20046</td>\n",
              "      <td>0.0</td>\n",
              "      <td>900</td>\n",
              "      <td>79.0</td>\n",
              "      <td>12.0</td>\n",
              "      <td>850.0</td>\n",
              "      <td>1</td>\n",
              "      <td>1</td>\n",
              "    </tr>\n",
              "    <tr>\n",
              "      <th>215613</th>\n",
              "      <td>2021</td>\n",
              "      <td>5</td>\n",
              "      <td>2</td>\n",
              "      <td>7</td>\n",
              "      <td>2021-05-02</td>\n",
              "      <td>DAY</td>\n",
              "      <td>11267</td>\n",
              "      <td>12264</td>\n",
              "      <td>N423AW</td>\n",
              "      <td>59.0</td>\n",
              "      <td>3726</td>\n",
              "      <td>368.0</td>\n",
              "      <td>20046</td>\n",
              "      <td>0.0</td>\n",
              "      <td>1500</td>\n",
              "      <td>88.0</td>\n",
              "      <td>14.0</td>\n",
              "      <td>1450.0</td>\n",
              "      <td>1</td>\n",
              "      <td>1</td>\n",
              "    </tr>\n",
              "  </tbody>\n",
              "</table>\n",
              "<p>215129 rows × 20 columns</p>\n",
              "</div>"
            ],
            "text/plain": [
              "        YEAR  MONTH  ...  WEEK_OF_MONTH  DAY_OF_WEEK_days_end\n",
              "0       2021      1  ...              3                     1\n",
              "1       2021      1  ...              3                     1\n",
              "2       2021      1  ...              3                     1\n",
              "3       2021      1  ...              3                     1\n",
              "4       2021      1  ...              3                     1\n",
              "...      ...    ...  ...            ...                   ...\n",
              "215609  2021      5  ...              1                     1\n",
              "215610  2021      5  ...              1                     1\n",
              "215611  2021      5  ...              1                     1\n",
              "215612  2021      5  ...              1                     1\n",
              "215613  2021      5  ...              1                     1\n",
              "\n",
              "[215129 rows x 20 columns]"
            ]
          },
          "metadata": {},
          "execution_count": 15
        }
      ]
    },
    {
      "cell_type": "code",
      "metadata": {
        "colab": {
          "base_uri": "https://localhost:8080/"
        },
        "id": "rlB0GaSJ2RZu",
        "outputId": "a2796542-1739-406f-da6d-c72cfd950f14"
      },
      "source": [
        "systematic_sample_selectedcols['DAY_OF_WEEK_days_end'].value_counts()"
      ],
      "execution_count": null,
      "outputs": [
        {
          "output_type": "execute_result",
          "data": {
            "text/plain": [
              "0    152202\n",
              "1     62927\n",
              "Name: DAY_OF_WEEK_days_end, dtype: int64"
            ]
          },
          "metadata": {},
          "execution_count": 16
        }
      ]
    },
    {
      "cell_type": "code",
      "metadata": {
        "id": "BVWFIcge2dxV"
      },
      "source": [
        "systematic_sample_selectedcols1=systematic_sample_selectedcols.drop(columns=['FL_DATE','TAIL_NUM','YEAR'],axis=1)"
      ],
      "execution_count": null,
      "outputs": []
    },
    {
      "cell_type": "code",
      "metadata": {
        "colab": {
          "base_uri": "https://localhost:8080/"
        },
        "id": "3UJnRooJht1B",
        "outputId": "90f9ae45-65ea-420b-be11-4af976c6084c"
      },
      "source": [
        "systematic_sample_selectedcols1.columns"
      ],
      "execution_count": null,
      "outputs": [
        {
          "output_type": "execute_result",
          "data": {
            "text/plain": [
              "Index(['MONTH', 'DAY_OF_MONTH', 'DAY_OF_WEEK', 'ORIGIN', 'ORIGIN_AIRPORT_ID',\n",
              "       'DEST_AIRPORT_ID', 'AIR_TIME', 'OP_CARRIER_FL_NUM', 'DISTANCE',\n",
              "       'OP_CARRIER_AIRLINE_ID', 'DEP_DEL15', 'CRS_DEP_TIME',\n",
              "       'CRS_ELAPSED_TIME', 'TAXI_OUT', 'DEP_TIME', 'WEEK_OF_MONTH',\n",
              "       'DAY_OF_WEEK_days_end'],\n",
              "      dtype='object')"
            ]
          },
          "metadata": {},
          "execution_count": 18
        }
      ]
    },
    {
      "cell_type": "markdown",
      "metadata": {
        "id": "ttp2z0AWMbLW"
      },
      "source": [
        "## Onehot encoding --ORIGIN"
      ]
    },
    {
      "cell_type": "code",
      "metadata": {
        "colab": {
          "base_uri": "https://localhost:8080/"
        },
        "id": "Z3fUGC-P3uPa",
        "outputId": "d2615c3c-b81f-471d-c94e-8cac5d3a63ce"
      },
      "source": [
        "systematic_sample_selectedcols_dummies = pd.get_dummies(systematic_sample_selectedcols1, drop_first=True)\n",
        "systematic_sample_selectedcols_dummies.dtypes"
      ],
      "execution_count": null,
      "outputs": [
        {
          "output_type": "execute_result",
          "data": {
            "text/plain": [
              "MONTH                int64\n",
              "DAY_OF_MONTH         int64\n",
              "DAY_OF_WEEK          int64\n",
              "ORIGIN_AIRPORT_ID    int64\n",
              "DEST_AIRPORT_ID      int64\n",
              "                     ...  \n",
              "ORIGIN_XNA           uint8\n",
              "ORIGIN_XWA           uint8\n",
              "ORIGIN_YAK           uint8\n",
              "ORIGIN_YKM           uint8\n",
              "ORIGIN_YUM           uint8\n",
              "Length: 388, dtype: object"
            ]
          },
          "metadata": {},
          "execution_count": 19
        }
      ]
    },
    {
      "cell_type": "code",
      "metadata": {
        "id": "SQjCvZNE456I"
      },
      "source": [
        "systematic_samplefinal=systematic_sample_selectedcols_dummies.copy()"
      ],
      "execution_count": null,
      "outputs": []
    },
    {
      "cell_type": "code",
      "metadata": {
        "colab": {
          "base_uri": "https://localhost:8080/"
        },
        "id": "KgaTPYLWVNN1",
        "outputId": "efb4c7c0-263d-4f12-9580-b2205bfc5a60"
      },
      "source": [
        "y = systematic_samplefinal.DEP_DEL15 \n",
        " #Drop target and set the dependent values variables \n",
        "X = systematic_samplefinal.drop('DEP_DEL15', axis=1)\n",
        "print(X.shape,y.shape)"
      ],
      "execution_count": null,
      "outputs": [
        {
          "output_type": "stream",
          "name": "stdout",
          "text": [
            "(215129, 387) (215129,)\n"
          ]
        }
      ]
    },
    {
      "cell_type": "markdown",
      "metadata": {
        "id": "RqkbSZT54-q8"
      },
      "source": [
        "## LOGISTIC REGRESSION"
      ]
    },
    {
      "cell_type": "code",
      "metadata": {
        "colab": {
          "base_uri": "https://localhost:8080/"
        },
        "id": "2jV7kZsM49yz",
        "outputId": "b0cdafaa-0179-4589-a276-e2c99505deb1"
      },
      "source": [
        "from sklearn.linear_model import LogisticRegression\n",
        "from numpy import mean\n",
        "model_LOGISTICS = LogisticRegression(class_weight='balanced', solver='saga',penalty='l1')\n",
        "#model_LOGISTICSfit = model_LOGISTICS.fit(principalComponents_train, Y_Train)\n",
        "pca = PCA(.95)\n",
        "Robust=RobustScaler()\n",
        "oversample = SMOTE()\n",
        "pipeline_LRsmt1 = make_pipeline(oversample,pca,model_LOGISTICS)\n",
        "kf = StratifiedKFold(n_splits=5)\n",
        "y_pred_LR_OSample1 = cross_val_score(pipeline_LRsmt1,X , y, scoring='roc_auc', cv=kf, n_jobs=-1)\n",
        "print('Mean ROC AUC: %.3f' % mean(y_pred_LR_OSample1))"
      ],
      "execution_count": null,
      "outputs": [
        {
          "output_type": "stream",
          "name": "stdout",
          "text": [
            "Mean ROC AUC: 0.619\n"
          ]
        }
      ]
    },
    {
      "cell_type": "markdown",
      "metadata": {
        "id": "bDaSntS7Osw8"
      },
      "source": [
        "## Lists all pairs of highly correlated variables"
      ]
    },
    {
      "cell_type": "code",
      "metadata": {
        "colab": {
          "base_uri": "https://localhost:8080/"
        },
        "id": "M3MpL7LyOH7B",
        "outputId": "5c465aef-dc6b-40a7-d9a8-cf1919488a5c"
      },
      "source": [
        "corr = X.corr()\n",
        "indices = np.where(corr > 0.8)\n",
        "indices = [(corr.columns[x], corr.columns[y]) for x, y in zip(*indices)\n",
        "                                        if x != y and x < y]\n",
        "indices"
      ],
      "execution_count": null,
      "outputs": [
        {
          "output_type": "execute_result",
          "data": {
            "text/plain": [
              "[('DAY_OF_MONTH', 'WEEK_OF_MONTH'),\n",
              " ('AIR_TIME', 'DISTANCE'),\n",
              " ('AIR_TIME', 'CRS_ELAPSED_TIME'),\n",
              " ('DISTANCE', 'CRS_ELAPSED_TIME'),\n",
              " ('CRS_DEP_TIME', 'DEP_TIME')]"
            ]
          },
          "metadata": {},
          "execution_count": 23
        }
      ]
    },
    {
      "cell_type": "code",
      "metadata": {
        "id": "8wvTLtYBYsJW"
      },
      "source": [
        "X1=X.copy()"
      ],
      "execution_count": null,
      "outputs": []
    },
    {
      "cell_type": "markdown",
      "metadata": {
        "id": "dKv8KLNauIMQ"
      },
      "source": [
        "### Dropping Highly correlated columns"
      ]
    },
    {
      "cell_type": "code",
      "metadata": {
        "id": "HP6GK4tDYMcP"
      },
      "source": [
        "X1.drop(columns=['ORIGIN_AIRPORT_ID','DEST_AIRPORT_ID','DISTANCE','DAY_OF_MONTH','AIR_TIME'],inplace=True)"
      ],
      "execution_count": null,
      "outputs": []
    },
    {
      "cell_type": "code",
      "metadata": {
        "colab": {
          "base_uri": "https://localhost:8080/"
        },
        "id": "jWjTDDZaYrLI",
        "outputId": "1fc7d91f-a457-45a5-fb33-700df9401d60"
      },
      "source": [
        "from sklearn.linear_model import LogisticRegression\n",
        "from numpy import mean\n",
        "model_LOGISTICS = LogisticRegression(class_weight='balanced', solver='saga',penalty='l1')\n",
        "#model_LOGISTICSfit = model_LOGISTICS.fit(principalComponents_train, Y_Train)\n",
        "pca = PCA(.95)\n",
        "Robust=RobustScaler()\n",
        "oversample = SMOTE()\n",
        "pipeline_LRsmt1 = make_pipeline(oversample,pca,model_LOGISTICS)\n",
        "kf = StratifiedKFold(n_splits=5)\n",
        "y_pred_LR_OSample1_1 = cross_val_score(pipeline_LRsmt1,X1,y, scoring='roc_auc', cv=kf, n_jobs=-1)\n",
        "A1_LR_accuracy=mean(y_pred_LR_OSample1_1)\n",
        "print(A1_LR_accuracy)\n",
        "print('Mean ROC AUC: %.3f' % A1_LR_accuracy)\n"
      ],
      "execution_count": null,
      "outputs": [
        {
          "output_type": "stream",
          "name": "stdout",
          "text": [
            "0.619166324242926\n",
            "Mean ROC AUC: 0.619\n"
          ]
        }
      ]
    },
    {
      "cell_type": "markdown",
      "metadata": {
        "id": "B8flMK5d2sNB"
      },
      "source": [
        "after dropping highly correlated features, accuracy -->61%"
      ]
    },
    {
      "cell_type": "markdown",
      "metadata": {
        "id": "Otjpk6-m4_Av"
      },
      "source": [
        "## RandomForest Feature importance"
      ]
    },
    {
      "cell_type": "code",
      "metadata": {
        "colab": {
          "base_uri": "https://localhost:8080/"
        },
        "id": "3EkbZCYcksfC",
        "outputId": "b830408c-434f-4d14-f071-dc2fc4132e83"
      },
      "source": [
        "model_Randomforest_smt= RandomForestClassifier(n_estimators= 100, criterion=\"gini\", class_weight='balanced')  \n",
        "model_Randomforest_smt.fit(X1,y)\n",
        "importance=model_Randomforest_smt.feature_importances_\n",
        "df=pd.DataFrame({'features':pd.DataFrame(X1).columns,'importance':importance})\n",
        "print(df)\n",
        "#df.set_index('importance')\n",
        "#df=df.sort_values('importance')\n",
        "#importance.k_feature_names_\n",
        "#df.plot.bar(color='blue')"
      ],
      "execution_count": null,
      "outputs": [
        {
          "output_type": "stream",
          "name": "stdout",
          "text": [
            "                  features  importance\n",
            "0                    MONTH    0.042871\n",
            "1              DAY_OF_WEEK    0.038082\n",
            "2        OP_CARRIER_FL_NUM    0.099167\n",
            "3    OP_CARRIER_AIRLINE_ID    0.049300\n",
            "4             CRS_DEP_TIME    0.162440\n",
            "..                     ...         ...\n",
            "377             ORIGIN_XNA    0.000473\n",
            "378             ORIGIN_XWA    0.000076\n",
            "379             ORIGIN_YAK    0.000051\n",
            "380             ORIGIN_YKM    0.000038\n",
            "381             ORIGIN_YUM    0.000151\n",
            "\n",
            "[382 rows x 2 columns]\n"
          ]
        }
      ]
    },
    {
      "cell_type": "code",
      "metadata": {
        "colab": {
          "base_uri": "https://localhost:8080/"
        },
        "id": "B-Xcy1iKlw4y",
        "outputId": "7fe5ff87-7be1-4f66-e98d-02965f94b049"
      },
      "source": [
        "pd.options.display.float_format = '{:.1f}'.format\n",
        "print(df.sort_values(by='importance',ascending=False))"
      ],
      "execution_count": null,
      "outputs": [
        {
          "output_type": "stream",
          "name": "stdout",
          "text": [
            "              features  importance\n",
            "7             DEP_TIME         0.2\n",
            "4         CRS_DEP_TIME         0.2\n",
            "2    OP_CARRIER_FL_NUM         0.1\n",
            "5     CRS_ELAPSED_TIME         0.1\n",
            "6             TAXI_OUT         0.1\n",
            "..                 ...         ...\n",
            "218         ORIGIN_LNY         0.0\n",
            "376         ORIGIN_WYS         0.0\n",
            "356         ORIGIN_SWO         0.0\n",
            "241         ORIGIN_MKK         0.0\n",
            "181         ORIGIN_ILG         0.0\n",
            "\n",
            "[382 rows x 2 columns]\n"
          ]
        }
      ]
    },
    {
      "cell_type": "markdown",
      "metadata": {
        "id": "UgdJs_G3Uvsi"
      },
      "source": [
        "## RANDOM FOREST"
      ]
    },
    {
      "cell_type": "code",
      "metadata": {
        "id": "MRwzSnw1Xzdg"
      },
      "source": [
        "\n",
        "#Rscaler = RobustScaler()\n",
        "oversample = SMOTE()\n",
        "pipeline_RFsmt = make_pipeline(oversample,model_Randomforest_smt)\n",
        "kf = StratifiedKFold(n_splits=5)\n",
        "y_pred_RF_OSample = cross_val_score(pipeline_RFsmt, X1, y, scoring='roc_auc', cv=kf, n_jobs=-1)\n",
        "\n",
        "#y_pred_RF_OSample = cross_val_predict(pipeline_RFsmt,X, y, cv=kf)\n",
        "#print(confusion_matrix(y, y_pred_RF_OSample))\n",
        "#print(classification_report(y, y_pred_RF_OSample))\n",
        "#print(confusion_matrix(y, scores_ypred))\n",
        "#print(classification_report(y, scores_ypred))\n",
        "# summarize performance\n"
      ],
      "execution_count": null,
      "outputs": []
    },
    {
      "cell_type": "code",
      "metadata": {
        "colab": {
          "base_uri": "https://localhost:8080/"
        },
        "id": "eAz9TtvbrR4h",
        "outputId": "966c1f59-a0ff-42b0-ea17-efd5fc45765b"
      },
      "source": [
        "A1_RF_Accuracy=mean(y_pred_RF_OSample)\n",
        "print('Mean ROC AUC: %.3f' % A1_RF_Accuracy)"
      ],
      "execution_count": null,
      "outputs": [
        {
          "output_type": "stream",
          "name": "stdout",
          "text": [
            "Mean ROC AUC: 0.770\n"
          ]
        }
      ]
    },
    {
      "cell_type": "markdown",
      "metadata": {
        "id": "keyl2R5zmFoU"
      },
      "source": [
        "### Approach1- Accuracy summary\n",
        "* LR- 62%\n",
        "* RF- 76%"
      ]
    },
    {
      "cell_type": "markdown",
      "metadata": {
        "id": "71W9zvTiOmUC"
      },
      "source": [
        "# Approach 2"
      ]
    },
    {
      "cell_type": "markdown",
      "metadata": {
        "id": "j2H6SJBMpq-d"
      },
      "source": [
        "## Instead of Origin lets take add weightage wrt delay count in origin"
      ]
    },
    {
      "cell_type": "code",
      "metadata": {
        "colab": {
          "base_uri": "https://localhost:8080/",
          "height": 860
        },
        "id": "sgFAcq0ynUGq",
        "outputId": "482ea0dc-d27a-4354-8b8e-faff79ebe46f"
      },
      "source": [
        "origin_del = systematic_sample_selectedcols[['ORIGIN','DEP_DEL15']].groupby('ORIGIN').sum().sort_values(by='DEP_DEL15',ascending=False).reset_index()\n",
        "origin_del.rename({'DEP_DEL15':'ORIGIN_DELAY_COUNT'},inplace=True, axis=1)\n",
        "origin_del['ORIGIN_weight'] = pd.qcut(origin_del['ORIGIN_DELAY_COUNT'], 100, labels = False,duplicates='drop')\n",
        "print(origin_del)\n",
        "systematic_sample_selectedcols2 = systematic_sample_selectedcols.merge(origin_del, left_on='ORIGIN', right_on='ORIGIN')\n",
        "systematic_sample_selectedcols2.drop(columns=['ORIGIN_DELAY_COUNT','ORIGIN'], inplace=True, axis=1)\n",
        "systematic_sample_selectedcols2"
      ],
      "execution_count": null,
      "outputs": [
        {
          "output_type": "stream",
          "name": "stdout",
          "text": [
            "    ORIGIN  ORIGIN_DELAY_COUNT  ORIGIN_weight\n",
            "0      DFW              1696.0             58\n",
            "1      DEN              1407.0             58\n",
            "2      ATL              1297.0             58\n",
            "3      ORD               779.0             58\n",
            "4      MCO               754.0             57\n",
            "..     ...                 ...            ...\n",
            "368    OME                 0.0              0\n",
            "369    SUX                 0.0              0\n",
            "370    EKO                 0.0              0\n",
            "371    SWO                 0.0              0\n",
            "372    OWB                 0.0              0\n",
            "\n",
            "[373 rows x 3 columns]\n"
          ]
        },
        {
          "output_type": "execute_result",
          "data": {
            "text/html": [
              "<div>\n",
              "<style scoped>\n",
              "    .dataframe tbody tr th:only-of-type {\n",
              "        vertical-align: middle;\n",
              "    }\n",
              "\n",
              "    .dataframe tbody tr th {\n",
              "        vertical-align: top;\n",
              "    }\n",
              "\n",
              "    .dataframe thead th {\n",
              "        text-align: right;\n",
              "    }\n",
              "</style>\n",
              "<table border=\"1\" class=\"dataframe\">\n",
              "  <thead>\n",
              "    <tr style=\"text-align: right;\">\n",
              "      <th></th>\n",
              "      <th>YEAR</th>\n",
              "      <th>MONTH</th>\n",
              "      <th>DAY_OF_MONTH</th>\n",
              "      <th>DAY_OF_WEEK</th>\n",
              "      <th>FL_DATE</th>\n",
              "      <th>ORIGIN_AIRPORT_ID</th>\n",
              "      <th>DEST_AIRPORT_ID</th>\n",
              "      <th>TAIL_NUM</th>\n",
              "      <th>AIR_TIME</th>\n",
              "      <th>OP_CARRIER_FL_NUM</th>\n",
              "      <th>DISTANCE</th>\n",
              "      <th>OP_CARRIER_AIRLINE_ID</th>\n",
              "      <th>DEP_DEL15</th>\n",
              "      <th>CRS_DEP_TIME</th>\n",
              "      <th>CRS_ELAPSED_TIME</th>\n",
              "      <th>TAXI_OUT</th>\n",
              "      <th>DEP_TIME</th>\n",
              "      <th>WEEK_OF_MONTH</th>\n",
              "      <th>DAY_OF_WEEK_days_end</th>\n",
              "      <th>ORIGIN_weight</th>\n",
              "    </tr>\n",
              "  </thead>\n",
              "  <tbody>\n",
              "    <tr>\n",
              "      <th>0</th>\n",
              "      <td>2021</td>\n",
              "      <td>1</td>\n",
              "      <td>17</td>\n",
              "      <td>7</td>\n",
              "      <td>2021-01-17</td>\n",
              "      <td>11298</td>\n",
              "      <td>11433</td>\n",
              "      <td>N326NB</td>\n",
              "      <td>126.0</td>\n",
              "      <td>1089</td>\n",
              "      <td>986.0</td>\n",
              "      <td>19790</td>\n",
              "      <td>0.0</td>\n",
              "      <td>1153</td>\n",
              "      <td>150.0</td>\n",
              "      <td>28.0</td>\n",
              "      <td>1151.0</td>\n",
              "      <td>3</td>\n",
              "      <td>1</td>\n",
              "      <td>58</td>\n",
              "    </tr>\n",
              "    <tr>\n",
              "      <th>1</th>\n",
              "      <td>2021</td>\n",
              "      <td>1</td>\n",
              "      <td>17</td>\n",
              "      <td>7</td>\n",
              "      <td>2021-01-17</td>\n",
              "      <td>11298</td>\n",
              "      <td>10397</td>\n",
              "      <td>N329DN</td>\n",
              "      <td>85.0</td>\n",
              "      <td>1244</td>\n",
              "      <td>731.0</td>\n",
              "      <td>19790</td>\n",
              "      <td>0.0</td>\n",
              "      <td>1049</td>\n",
              "      <td>121.0</td>\n",
              "      <td>16.0</td>\n",
              "      <td>1044.0</td>\n",
              "      <td>3</td>\n",
              "      <td>1</td>\n",
              "      <td>58</td>\n",
              "    </tr>\n",
              "    <tr>\n",
              "      <th>2</th>\n",
              "      <td>2021</td>\n",
              "      <td>1</td>\n",
              "      <td>18</td>\n",
              "      <td>1</td>\n",
              "      <td>2021-01-18</td>\n",
              "      <td>11298</td>\n",
              "      <td>11433</td>\n",
              "      <td>N334NB</td>\n",
              "      <td>128.0</td>\n",
              "      <td>1184</td>\n",
              "      <td>986.0</td>\n",
              "      <td>19790</td>\n",
              "      <td>0.0</td>\n",
              "      <td>1625</td>\n",
              "      <td>151.0</td>\n",
              "      <td>14.0</td>\n",
              "      <td>1619.0</td>\n",
              "      <td>4</td>\n",
              "      <td>0</td>\n",
              "      <td>58</td>\n",
              "    </tr>\n",
              "    <tr>\n",
              "      <th>3</th>\n",
              "      <td>2021</td>\n",
              "      <td>1</td>\n",
              "      <td>18</td>\n",
              "      <td>1</td>\n",
              "      <td>2021-01-18</td>\n",
              "      <td>11298</td>\n",
              "      <td>11433</td>\n",
              "      <td>N127DU</td>\n",
              "      <td>124.0</td>\n",
              "      <td>1390</td>\n",
              "      <td>986.0</td>\n",
              "      <td>19790</td>\n",
              "      <td>0.0</td>\n",
              "      <td>1400</td>\n",
              "      <td>148.0</td>\n",
              "      <td>13.0</td>\n",
              "      <td>1407.0</td>\n",
              "      <td>4</td>\n",
              "      <td>0</td>\n",
              "      <td>58</td>\n",
              "    </tr>\n",
              "    <tr>\n",
              "      <th>4</th>\n",
              "      <td>2021</td>\n",
              "      <td>1</td>\n",
              "      <td>19</td>\n",
              "      <td>2</td>\n",
              "      <td>2021-01-19</td>\n",
              "      <td>11298</td>\n",
              "      <td>14869</td>\n",
              "      <td>N356NW</td>\n",
              "      <td>138.0</td>\n",
              "      <td>1038</td>\n",
              "      <td>989.0</td>\n",
              "      <td>19790</td>\n",
              "      <td>0.0</td>\n",
              "      <td>830</td>\n",
              "      <td>177.0</td>\n",
              "      <td>13.0</td>\n",
              "      <td>824.0</td>\n",
              "      <td>4</td>\n",
              "      <td>0</td>\n",
              "      <td>58</td>\n",
              "    </tr>\n",
              "    <tr>\n",
              "      <th>...</th>\n",
              "      <td>...</td>\n",
              "      <td>...</td>\n",
              "      <td>...</td>\n",
              "      <td>...</td>\n",
              "      <td>...</td>\n",
              "      <td>...</td>\n",
              "      <td>...</td>\n",
              "      <td>...</td>\n",
              "      <td>...</td>\n",
              "      <td>...</td>\n",
              "      <td>...</td>\n",
              "      <td>...</td>\n",
              "      <td>...</td>\n",
              "      <td>...</td>\n",
              "      <td>...</td>\n",
              "      <td>...</td>\n",
              "      <td>...</td>\n",
              "      <td>...</td>\n",
              "      <td>...</td>\n",
              "      <td>...</td>\n",
              "    </tr>\n",
              "    <tr>\n",
              "      <th>215124</th>\n",
              "      <td>2021</td>\n",
              "      <td>5</td>\n",
              "      <td>24</td>\n",
              "      <td>1</td>\n",
              "      <td>2021-05-24</td>\n",
              "      <td>10154</td>\n",
              "      <td>10721</td>\n",
              "      <td>N178JB</td>\n",
              "      <td>25.0</td>\n",
              "      <td>1351</td>\n",
              "      <td>91.0</td>\n",
              "      <td>20409</td>\n",
              "      <td>0.0</td>\n",
              "      <td>1110</td>\n",
              "      <td>51.0</td>\n",
              "      <td>15.0</td>\n",
              "      <td>1102.0</td>\n",
              "      <td>5</td>\n",
              "      <td>0</td>\n",
              "      <td>2</td>\n",
              "    </tr>\n",
              "    <tr>\n",
              "      <th>215125</th>\n",
              "      <td>2021</td>\n",
              "      <td>5</td>\n",
              "      <td>30</td>\n",
              "      <td>7</td>\n",
              "      <td>2021-05-30</td>\n",
              "      <td>10154</td>\n",
              "      <td>11618</td>\n",
              "      <td>N554GJ</td>\n",
              "      <td>56.0</td>\n",
              "      <td>4445</td>\n",
              "      <td>218.0</td>\n",
              "      <td>20500</td>\n",
              "      <td>0.0</td>\n",
              "      <td>1220</td>\n",
              "      <td>100.0</td>\n",
              "      <td>16.0</td>\n",
              "      <td>1211.0</td>\n",
              "      <td>5</td>\n",
              "      <td>1</td>\n",
              "      <td>2</td>\n",
              "    </tr>\n",
              "    <tr>\n",
              "      <th>215126</th>\n",
              "      <td>2021</td>\n",
              "      <td>5</td>\n",
              "      <td>28</td>\n",
              "      <td>5</td>\n",
              "      <td>2021-05-28</td>\n",
              "      <td>10154</td>\n",
              "      <td>12264</td>\n",
              "      <td>N520GJ</td>\n",
              "      <td>80.0</td>\n",
              "      <td>4573</td>\n",
              "      <td>423.0</td>\n",
              "      <td>20500</td>\n",
              "      <td>0.0</td>\n",
              "      <td>1400</td>\n",
              "      <td>113.0</td>\n",
              "      <td>14.0</td>\n",
              "      <td>1350.0</td>\n",
              "      <td>5</td>\n",
              "      <td>0</td>\n",
              "      <td>2</td>\n",
              "    </tr>\n",
              "    <tr>\n",
              "      <th>215127</th>\n",
              "      <td>2021</td>\n",
              "      <td>5</td>\n",
              "      <td>30</td>\n",
              "      <td>7</td>\n",
              "      <td>2021-05-30</td>\n",
              "      <td>15897</td>\n",
              "      <td>14869</td>\n",
              "      <td>N429SW</td>\n",
              "      <td>44.0</td>\n",
              "      <td>4338</td>\n",
              "      <td>273.0</td>\n",
              "      <td>20304</td>\n",
              "      <td>0.0</td>\n",
              "      <td>1719</td>\n",
              "      <td>77.0</td>\n",
              "      <td>9.0</td>\n",
              "      <td>1707.0</td>\n",
              "      <td>5</td>\n",
              "      <td>1</td>\n",
              "      <td>0</td>\n",
              "    </tr>\n",
              "    <tr>\n",
              "      <th>215128</th>\n",
              "      <td>2021</td>\n",
              "      <td>5</td>\n",
              "      <td>25</td>\n",
              "      <td>2</td>\n",
              "      <td>2021-05-25</td>\n",
              "      <td>15897</td>\n",
              "      <td>14869</td>\n",
              "      <td>N460SW</td>\n",
              "      <td>44.0</td>\n",
              "      <td>4304</td>\n",
              "      <td>273.0</td>\n",
              "      <td>20304</td>\n",
              "      <td>0.0</td>\n",
              "      <td>1319</td>\n",
              "      <td>78.0</td>\n",
              "      <td>5.0</td>\n",
              "      <td>1324.0</td>\n",
              "      <td>5</td>\n",
              "      <td>0</td>\n",
              "      <td>0</td>\n",
              "    </tr>\n",
              "  </tbody>\n",
              "</table>\n",
              "<p>215129 rows × 20 columns</p>\n",
              "</div>"
            ],
            "text/plain": [
              "        YEAR  MONTH  ...  DAY_OF_WEEK_days_end  ORIGIN_weight\n",
              "0       2021      1  ...                     1             58\n",
              "1       2021      1  ...                     1             58\n",
              "2       2021      1  ...                     0             58\n",
              "3       2021      1  ...                     0             58\n",
              "4       2021      1  ...                     0             58\n",
              "...      ...    ...  ...                   ...            ...\n",
              "215124  2021      5  ...                     0              2\n",
              "215125  2021      5  ...                     1              2\n",
              "215126  2021      5  ...                     0              2\n",
              "215127  2021      5  ...                     1              0\n",
              "215128  2021      5  ...                     0              0\n",
              "\n",
              "[215129 rows x 20 columns]"
            ]
          },
          "metadata": {},
          "execution_count": 31
        }
      ]
    },
    {
      "cell_type": "code",
      "metadata": {
        "colab": {
          "base_uri": "https://localhost:8080/"
        },
        "id": "vTNEur0Tmmiz",
        "outputId": "e3b4f15a-86b2-48c8-bc2a-b106cf506195"
      },
      "source": [
        "y_new = systematic_sample_selectedcols2.DEP_DEL15 \n",
        " #Drop target and set the dependent values variables \n",
        "X_new = systematic_sample_selectedcols2.drop('DEP_DEL15', axis=1)\n",
        "print(X_new.shape,y_new.shape)"
      ],
      "execution_count": null,
      "outputs": [
        {
          "output_type": "stream",
          "name": "stdout",
          "text": [
            "(215129, 19) (215129,)\n"
          ]
        }
      ]
    },
    {
      "cell_type": "markdown",
      "metadata": {
        "id": "Kk32lIUsS0G6"
      },
      "source": [
        "## Dropping highly correlated features"
      ]
    },
    {
      "cell_type": "code",
      "metadata": {
        "colab": {
          "base_uri": "https://localhost:8080/"
        },
        "id": "hT1rQaKbkedW",
        "outputId": "92c15448-b38c-4e02-ac09-19cdadc1b361"
      },
      "source": [
        "corr = X_new.corr()\n",
        "indices = np.where(corr > 0.8)\n",
        "indices = [(corr.columns[x], corr.columns[y]) for x, y in zip(*indices)\n",
        "                                        if x != y and x < y]\n",
        "indices"
      ],
      "execution_count": null,
      "outputs": [
        {
          "output_type": "execute_result",
          "data": {
            "text/plain": [
              "[('DAY_OF_MONTH', 'WEEK_OF_MONTH'),\n",
              " ('AIR_TIME', 'DISTANCE'),\n",
              " ('AIR_TIME', 'CRS_ELAPSED_TIME'),\n",
              " ('DISTANCE', 'CRS_ELAPSED_TIME'),\n",
              " ('CRS_DEP_TIME', 'DEP_TIME')]"
            ]
          },
          "metadata": {},
          "execution_count": 33
        }
      ]
    },
    {
      "cell_type": "code",
      "metadata": {
        "id": "w_1ISszOkvgM"
      },
      "source": [
        "X_new.drop(columns=['DEST_AIRPORT_ID','DISTANCE','DAY_OF_MONTH','AIR_TIME','YEAR','FL_DATE','TAIL_NUM'],inplace=True)"
      ],
      "execution_count": null,
      "outputs": []
    },
    {
      "cell_type": "code",
      "metadata": {
        "colab": {
          "base_uri": "https://localhost:8080/"
        },
        "id": "1yl4vcsklpwS",
        "outputId": "59c9d357-105e-4c25-a412-26ad1c5c83ac"
      },
      "source": [
        "X_new.isna().sum()"
      ],
      "execution_count": null,
      "outputs": [
        {
          "output_type": "execute_result",
          "data": {
            "text/plain": [
              "MONTH                    0\n",
              "DAY_OF_WEEK              0\n",
              "ORIGIN_AIRPORT_ID        0\n",
              "OP_CARRIER_FL_NUM        0\n",
              "OP_CARRIER_AIRLINE_ID    0\n",
              "CRS_DEP_TIME             0\n",
              "CRS_ELAPSED_TIME         0\n",
              "TAXI_OUT                 0\n",
              "DEP_TIME                 0\n",
              "WEEK_OF_MONTH            0\n",
              "DAY_OF_WEEK_days_end     0\n",
              "ORIGIN_weight            0\n",
              "dtype: int64"
            ]
          },
          "metadata": {},
          "execution_count": 36
        }
      ]
    },
    {
      "cell_type": "markdown",
      "metadata": {
        "id": "G1hcftyRNJbf"
      },
      "source": [
        "## LOGISTIC REGRESSION"
      ]
    },
    {
      "cell_type": "code",
      "metadata": {
        "colab": {
          "base_uri": "https://localhost:8080/"
        },
        "id": "b9Y6_xIOHHAX",
        "outputId": "c0b9b3b5-869a-4e14-f05b-d197764dff66"
      },
      "source": [
        "from sklearn.linear_model import LogisticRegression\n",
        "\n",
        "model_LOGISTICS = LogisticRegression(class_weight='balanced', solver='saga',penalty='l1')\n",
        "#model_LOGISTICSfit = model_LOGISTICS.fit(principalComponents_train, Y_Train)\n",
        "pca = PCA(.95)\n",
        "Robust=RobustScaler()\n",
        "oversample = SMOTE()\n",
        "pipeline_LRsmt2= make_pipeline(oversample,pca,model_LOGISTICS)\n",
        "kf = StratifiedKFold(n_splits=5)\n",
        "y_pred_LR_OSample2 = cross_val_score(pipeline_LRsmt2, X_new, y_new, scoring='roc_auc', cv=kf, n_jobs=-1)\n",
        "print('Mean ROC AUC: %.3f' % mean(y_pred_LR_OSample2))"
      ],
      "execution_count": null,
      "outputs": [
        {
          "output_type": "stream",
          "name": "stdout",
          "text": [
            "Mean ROC AUC: 0.621\n"
          ]
        }
      ]
    },
    {
      "cell_type": "markdown",
      "metadata": {
        "id": "ifXVuhQ2TsVd"
      },
      "source": [
        "After taking ORIGIN_WEIGHTAGE accuracy increased to 62%"
      ]
    },
    {
      "cell_type": "markdown",
      "metadata": {
        "id": "q4Zh2AfYm-x9"
      },
      "source": [
        "## Random forest feature importance"
      ]
    },
    {
      "cell_type": "code",
      "metadata": {
        "colab": {
          "base_uri": "https://localhost:8080/",
          "height": 511
        },
        "id": "3oTbAaYUAI3F",
        "outputId": "7e5faeba-9d30-49a5-9ea7-61c7ccfc0fbc"
      },
      "source": [
        "model_Randomforest_smt= RandomForestClassifier(n_estimators= 100, criterion=\"gini\", class_weight='balanced')  \n",
        "model_Randomforest_smt.fit(X_new,y_new)\n",
        "importance=model_Randomforest_smt.feature_importances_\n",
        "df=pd.DataFrame({'features':pd.DataFrame(X_new).columns,'importance':importance})\n",
        "print(df)\n",
        "df.set_index('importance')\n",
        "df=df.sort_values('importance')\n",
        "#importance.k_feature_names_\n",
        "df.plot.bar(color='blue')"
      ],
      "execution_count": null,
      "outputs": [
        {
          "output_type": "stream",
          "name": "stdout",
          "text": [
            "                 features  importance\n",
            "0                   MONTH         0.0\n",
            "1             DAY_OF_WEEK         0.0\n",
            "2       ORIGIN_AIRPORT_ID         0.0\n",
            "3       OP_CARRIER_FL_NUM         0.1\n",
            "4   OP_CARRIER_AIRLINE_ID         0.0\n",
            "5            CRS_DEP_TIME         0.3\n",
            "6        CRS_ELAPSED_TIME         0.1\n",
            "7                TAXI_OUT         0.1\n",
            "8                DEP_TIME         0.3\n",
            "9           WEEK_OF_MONTH         0.0\n",
            "10   DAY_OF_WEEK_days_end         0.0\n",
            "11          ORIGIN_weight         0.0\n"
          ]
        },
        {
          "output_type": "execute_result",
          "data": {
            "text/plain": [
              "<matplotlib.axes._subplots.AxesSubplot at 0x7fc6b44149d0>"
            ]
          },
          "metadata": {},
          "execution_count": 38
        },
        {
          "output_type": "display_data",
          "data": {
            "image/png": "[encoded data removed]",
            "text/plain": [
              "<Figure size 432x288 with 1 Axes>"
            ]
          },
          "metadata": {
            "needs_background": "light"
          }
        }
      ]
    },
    {
      "cell_type": "markdown",
      "metadata": {
        "id": "71HYUXnBnhDf"
      },
      "source": [
        "Lets drop un important features"
      ]
    },
    {
      "cell_type": "code",
      "metadata": {
        "id": "XCooZ9pInhaC"
      },
      "source": [
        "X_new1=X_new.copy()"
      ],
      "execution_count": null,
      "outputs": []
    },
    {
      "cell_type": "markdown",
      "metadata": {
        "id": "K2ppIQJeUa_g"
      },
      "source": [
        "lets drop unimportant features"
      ]
    },
    {
      "cell_type": "markdown",
      "metadata": {
        "id": "Sy-lng6sbtV9"
      },
      "source": [
        "with droping and without dropping RF accuracy is same--54%"
      ]
    },
    {
      "cell_type": "code",
      "metadata": {
        "id": "B_vv4NSXpUWG"
      },
      "source": [
        "#X_new1.drop(columns=['DAY_OF_WEEK_days_end','DAY_OF_WEEK'],inplace=True)"
      ],
      "execution_count": null,
      "outputs": []
    },
    {
      "cell_type": "code",
      "metadata": {
        "colab": {
          "base_uri": "https://localhost:8080/"
        },
        "id": "wjCtgMoZo38M",
        "outputId": "c7c8edbe-b775-4c2a-f253-5c92098e8fb6"
      },
      "source": [
        "X_new1.columns"
      ],
      "execution_count": null,
      "outputs": [
        {
          "output_type": "execute_result",
          "data": {
            "text/plain": [
              "Index(['MONTH', 'DAY_OF_WEEK', 'ORIGIN_AIRPORT_ID', 'OP_CARRIER_FL_NUM',\n",
              "       'OP_CARRIER_AIRLINE_ID', 'CRS_DEP_TIME', 'CRS_ELAPSED_TIME', 'TAXI_OUT',\n",
              "       'DEP_TIME', 'WEEK_OF_MONTH', 'DAY_OF_WEEK_days_end', 'ORIGIN_weight'],\n",
              "      dtype='object')"
            ]
          },
          "metadata": {},
          "execution_count": 40
        }
      ]
    },
    {
      "cell_type": "markdown",
      "metadata": {
        "id": "XpQboKULn6QE"
      },
      "source": [
        "## Random forest"
      ]
    },
    {
      "cell_type": "code",
      "metadata": {
        "colab": {
          "base_uri": "https://localhost:8080/"
        },
        "id": "7SwB8znXJgeq",
        "outputId": "9587d17b-7d0b-4631-d058-8ef8a366bc84"
      },
      "source": [
        "#model_Randomforest_smt= RandomForestClassifier(n_estimators= 100, criterion=\"gini\", class_weight='balanced')  \n",
        "from numpy import mean\n",
        "#Rscaler = RobustScaler()\n",
        "pca = PCA(.95)\n",
        "oversample = SMOTE()\n",
        "pipeline_RFsmt = make_pipeline(oversample,pca,model_Randomforest_smt)\n",
        "kf = StratifiedKFold(n_splits=5)\n",
        "y_pred_RF_OSample = cross_val_score(pipeline_RFsmt, X_new1, y_new, scoring='roc_auc', cv=kf, n_jobs=-1)\n",
        "\n",
        "# summarize performance\n",
        "print('Mean ROC AUC: %.3f' % mean(y_pred_RF_OSample))"
      ],
      "execution_count": null,
      "outputs": [
        {
          "output_type": "stream",
          "name": "stdout",
          "text": [
            "Mean ROC AUC: 0.541\n"
          ]
        }
      ]
    },
    {
      "cell_type": "markdown",
      "metadata": {
        "id": "K60mTCoPmvGH"
      },
      "source": [
        "### Approach 2 Accuracy summary\n",
        "* LR Model- 62%\n",
        "* RANDOM FOREST-54%"
      ]
    },
    {
      "cell_type": "markdown",
      "metadata": {
        "id": "HQYvUY5XNWKF"
      },
      "source": [
        "# Approach 3"
      ]
    },
    {
      "cell_type": "markdown",
      "metadata": {
        "id": "f5TmlMu1LnPt"
      },
      "source": [
        "### Instead of origin weight(on approach2)- lets take origin delay count"
      ]
    },
    {
      "cell_type": "code",
      "metadata": {
        "colab": {
          "base_uri": "https://localhost:8080/"
        },
        "id": "rj7TrKCuLp61",
        "outputId": "c1a37ac3-71e9-4fc4-fb4f-81a9527c22e5"
      },
      "source": [
        "origin_del = systematic_sample_selectedcols[['ORIGIN','DEP_DEL15']].groupby('ORIGIN').sum().sort_values(by='DEP_DEL15',ascending=False).reset_index()\n",
        "origin_del.rename({'DEP_DEL15':'ORIGIN_DELAY_COUNT'},inplace=True, axis=1)\n",
        "\n",
        "#origin_del['ORIGIN_weight'] = pd.qcut(origin_del['ORIGIN_DELAY_COUNT'], 100, labels = False,duplicates='drop')\n",
        "print(origin_del)\n",
        "systematic_sample_selectedcols3 = systematic_sample_selectedcols.merge(origin_del, left_on='ORIGIN', right_on='ORIGIN')"
      ],
      "execution_count": null,
      "outputs": [
        {
          "output_type": "stream",
          "name": "stdout",
          "text": [
            "    ORIGIN  ORIGIN_DELAY_COUNT\n",
            "0      DFW              1696.0\n",
            "1      DEN              1407.0\n",
            "2      ATL              1297.0\n",
            "3      ORD               779.0\n",
            "4      MCO               754.0\n",
            "..     ...                 ...\n",
            "368    OME                 0.0\n",
            "369    SUX                 0.0\n",
            "370    EKO                 0.0\n",
            "371    SWO                 0.0\n",
            "372    OWB                 0.0\n",
            "\n",
            "[373 rows x 2 columns]\n"
          ]
        }
      ]
    },
    {
      "cell_type": "code",
      "metadata": {
        "colab": {
          "base_uri": "https://localhost:8080/"
        },
        "id": "DwnuhXgjC1dy",
        "outputId": "28c4aa59-52ad-47d8-b867-9cbd97af115d"
      },
      "source": [
        "systematic_sample_selectedcols3.columns"
      ],
      "execution_count": null,
      "outputs": [
        {
          "output_type": "execute_result",
          "data": {
            "text/plain": [
              "Index(['YEAR', 'MONTH', 'DAY_OF_MONTH', 'DAY_OF_WEEK', 'FL_DATE', 'ORIGIN',\n",
              "       'ORIGIN_AIRPORT_ID', 'DEST_AIRPORT_ID', 'TAIL_NUM', 'AIR_TIME',\n",
              "       'OP_CARRIER_FL_NUM', 'DISTANCE', 'OP_CARRIER_AIRLINE_ID', 'DEP_DEL15',\n",
              "       'CRS_DEP_TIME', 'CRS_ELAPSED_TIME', 'TAXI_OUT', 'DEP_TIME',\n",
              "       'WEEK_OF_MONTH', 'DAY_OF_WEEK_days_end', 'ORIGIN_DELAY_COUNT'],\n",
              "      dtype='object')"
            ]
          },
          "metadata": {},
          "execution_count": 43
        }
      ]
    },
    {
      "cell_type": "markdown",
      "metadata": {
        "id": "ioff8D5QCoXB"
      },
      "source": [
        "lets drop highly correlared columns "
      ]
    },
    {
      "cell_type": "code",
      "metadata": {
        "colab": {
          "base_uri": "https://localhost:8080/"
        },
        "id": "6fgRIZ7SCyV0",
        "outputId": "6dc67bd7-7b5b-4371-b189-c10182c2e7ed"
      },
      "source": [
        "corr = systematic_sample_selectedcols3.corr()\n",
        "indices = np.where(corr > 0.8)\n",
        "indices = [(corr.columns[x], corr.columns[y]) for x, y in zip(*indices)\n",
        "                                        if x != y and x < y]\n",
        "indices"
      ],
      "execution_count": null,
      "outputs": [
        {
          "output_type": "execute_result",
          "data": {
            "text/plain": [
              "[('DAY_OF_MONTH', 'WEEK_OF_MONTH'),\n",
              " ('AIR_TIME', 'DISTANCE'),\n",
              " ('AIR_TIME', 'CRS_ELAPSED_TIME'),\n",
              " ('DISTANCE', 'CRS_ELAPSED_TIME'),\n",
              " ('CRS_DEP_TIME', 'DEP_TIME')]"
            ]
          },
          "metadata": {},
          "execution_count": 44
        }
      ]
    },
    {
      "cell_type": "code",
      "metadata": {
        "id": "L5_FE_ZgL2t3"
      },
      "source": [
        "systematic_sample_selectedcols3.drop(columns=['ORIGIN','DAY_OF_MONTH','AIR_TIME','DISTANCE','FL_DATE','YEAR','TAIL_NUM'], inplace=True, axis=1)"
      ],
      "execution_count": null,
      "outputs": []
    },
    {
      "cell_type": "markdown",
      "metadata": {
        "id": "ICjY0MXoNZ-U"
      },
      "source": [
        "Logistic regression Model feature importance"
      ]
    },
    {
      "cell_type": "code",
      "metadata": {
        "colab": {
          "base_uri": "https://localhost:8080/"
        },
        "id": "AfRigGQbNjRo",
        "outputId": "fd458d15-56d0-44bd-ccaa-71a7337eafee"
      },
      "source": [
        "systematic_sample_selectedcols3_y = systematic_sample_selectedcols3.DEP_DEL15 \n",
        " #Drop target and set the dependent values variables \n",
        "systematic_sample_selectedcols3_x = systematic_sample_selectedcols3.drop('DEP_DEL15', axis=1)\n",
        "print(systematic_sample_selectedcols3_x.shape,systematic_sample_selectedcols3_y.shape)"
      ],
      "execution_count": null,
      "outputs": [
        {
          "output_type": "stream",
          "name": "stdout",
          "text": [
            "(215129, 13) (215129,)\n"
          ]
        }
      ]
    },
    {
      "cell_type": "code",
      "metadata": {
        "colab": {
          "base_uri": "https://localhost:8080/"
        },
        "id": "rv4Og2NWckuF",
        "outputId": "8b9b4dae-6239-4633-de68-836e24e55a9e"
      },
      "source": [
        "systematic_sample_selectedcols3_x.columns"
      ],
      "execution_count": null,
      "outputs": [
        {
          "output_type": "execute_result",
          "data": {
            "text/plain": [
              "Index(['MONTH', 'DAY_OF_WEEK', 'ORIGIN_AIRPORT_ID', 'DEST_AIRPORT_ID',\n",
              "       'OP_CARRIER_FL_NUM', 'OP_CARRIER_AIRLINE_ID', 'CRS_DEP_TIME',\n",
              "       'CRS_ELAPSED_TIME', 'TAXI_OUT', 'DEP_TIME', 'WEEK_OF_MONTH',\n",
              "       'DAY_OF_WEEK_days_end', 'ORIGIN_DELAY_COUNT'],\n",
              "      dtype='object')"
            ]
          },
          "metadata": {},
          "execution_count": 47
        }
      ]
    },
    {
      "cell_type": "markdown",
      "metadata": {
        "id": "GcyBsYjXfju3"
      },
      "source": [
        "## LogisticRegression-Feature importance"
      ]
    },
    {
      "cell_type": "code",
      "metadata": {
        "colab": {
          "base_uri": "https://localhost:8080/",
          "height": 490
        },
        "id": "VnviHhNzNG72",
        "outputId": "a35e6837-1ba5-4086-c2fc-d83611e31d65"
      },
      "source": [
        "from matplotlib import pyplot\n",
        "# define the model\n",
        "model = LogisticRegression()\n",
        "# fit the model\n",
        "model.fit(systematic_sample_selectedcols3_x, systematic_sample_selectedcols3_y)\n",
        "importance = model.coef_[0]\n",
        "# summarize feature importance\n",
        "for i,v in enumerate(importance):\n",
        "\tprint('Feature: %0d, Score: %.5f' % (i,v))\n",
        "# plot feature importance\n",
        "pyplot.bar([x for x in range(len(importance))], importance)\n",
        "pyplot.show()"
      ],
      "execution_count": null,
      "outputs": [
        {
          "output_type": "stream",
          "name": "stdout",
          "text": [
            "Feature: 0, Score: 0.00023\n",
            "Feature: 1, Score: 0.00023\n",
            "Feature: 2, Score: -0.00003\n",
            "Feature: 3, Score: -0.00001\n",
            "Feature: 4, Score: -0.00005\n",
            "Feature: 5, Score: -0.00014\n",
            "Feature: 6, Score: -0.03010\n",
            "Feature: 7, Score: 0.00059\n",
            "Feature: 8, Score: 0.00092\n",
            "Feature: 9, Score: 0.03064\n",
            "Feature: 10, Score: 0.00002\n",
            "Feature: 11, Score: 0.00006\n",
            "Feature: 12, Score: 0.00009\n"
          ]
        },
        {
          "output_type": "display_data",
          "data": {
            "image/png": "[encoded data removed]",
            "text/plain": [
              "<Figure size 432x288 with 1 Axes>"
            ]
          },
          "metadata": {
            "needs_background": "light"
          }
        }
      ]
    },
    {
      "cell_type": "markdown",
      "metadata": {
        "id": "14rLfdZLxKrr"
      },
      "source": [
        "dropping unimportant features\n"
      ]
    },
    {
      "cell_type": "code",
      "metadata": {
        "id": "qj_a3vaBbK7o"
      },
      "source": [
        "systematic_sample_selectedcols3_x.drop(columns=['DEST_AIRPORT_ID','OP_CARRIER_AIRLINE_ID','CRS_DEP_TIME'],inplace=True)"
      ],
      "execution_count": null,
      "outputs": []
    },
    {
      "cell_type": "code",
      "metadata": {
        "colab": {
          "base_uri": "https://localhost:8080/"
        },
        "id": "jEgjnFyuioJR",
        "outputId": "048f3e02-a5de-4903-ddd9-f00ad577aab8"
      },
      "source": [
        "systematic_sample_selectedcols3_x.count()\n"
      ],
      "execution_count": null,
      "outputs": [
        {
          "output_type": "execute_result",
          "data": {
            "text/plain": [
              "MONTH                   215129\n",
              "DAY_OF_WEEK             215129\n",
              "ORIGIN_AIRPORT_ID       215129\n",
              "OP_CARRIER_FL_NUM       215129\n",
              "CRS_ELAPSED_TIME        215129\n",
              "TAXI_OUT                215129\n",
              "DEP_TIME                215129\n",
              "WEEK_OF_MONTH           215129\n",
              "DAY_OF_WEEK_days_end    215129\n",
              "ORIGIN_DELAY_COUNT      215129\n",
              "dtype: int64"
            ]
          },
          "metadata": {},
          "execution_count": 50
        }
      ]
    },
    {
      "cell_type": "code",
      "metadata": {
        "colab": {
          "base_uri": "https://localhost:8080/"
        },
        "id": "NFDPW35qZ-Zw",
        "outputId": "eaad7fae-cfe0-4f54-f33e-852f1d0ed43a"
      },
      "source": [
        "from sklearn.linear_model import LogisticRegression\n",
        "\n",
        "model_LOGISTICS = LogisticRegression(class_weight='balanced',solver='saga')\n",
        "#model_LOGISTICSfit = model_LOGISTICS.fit(principalComponents_train, Y_Train)\n",
        "pca = PCA(.95)\n",
        "Robust=RobustScaler()\n",
        "oversample = SMOTE()\n",
        "pipeline_LRsmt = make_pipeline(oversample,pca,model_LOGISTICS)\n",
        "kf = StratifiedKFold(n_splits=5)\n",
        "y_pred_LR_OSample3 = cross_val_score(pipeline_LRsmt, systematic_sample_selectedcols3_x, systematic_sample_selectedcols3_y, scoring='roc_auc', cv=kf, n_jobs=-1)\n",
        "print('Mean ROC AUC: %.3f' % mean(y_pred_LR_OSample3))"
      ],
      "execution_count": null,
      "outputs": [
        {
          "output_type": "stream",
          "name": "stdout",
          "text": [
            "Mean ROC AUC: 0.644\n"
          ]
        }
      ]
    },
    {
      "cell_type": "markdown",
      "metadata": {
        "id": "_OfQvbkkLnLf"
      },
      "source": [
        "## DecisionTreeClassifier-- feature importance"
      ]
    },
    {
      "cell_type": "code",
      "metadata": {
        "colab": {
          "base_uri": "https://localhost:8080/",
          "height": 438
        },
        "id": "scP4RyubfsfA",
        "outputId": "2c69ec29-011f-4766-b09e-68ac40b5e83b"
      },
      "source": [
        "from sklearn.tree import DecisionTreeClassifier\n",
        "\n",
        "model_DT = DecisionTreeClassifier(class_weight='balanced')\n",
        "# fit the model\n",
        "model_DT.fit(systematic_sample_selectedcols3_x, systematic_sample_selectedcols3_y)\n",
        "# get importance\n",
        "importance = model_DT.feature_importances_\n",
        "# summarize feature importance\n",
        "for i,v in enumerate(importance):\n",
        "\tprint('Feature: %0d, Score: %.5f' % (i,v))\n",
        "# plot feature importance\n",
        "pyplot.bar([x for x in range(len(importance))], importance)\n",
        "pyplot.show()"
      ],
      "execution_count": null,
      "outputs": [
        {
          "output_type": "stream",
          "name": "stdout",
          "text": [
            "Feature: 0, Score: 0.03765\n",
            "Feature: 1, Score: 0.04209\n",
            "Feature: 2, Score: 0.09237\n",
            "Feature: 3, Score: 0.17401\n",
            "Feature: 4, Score: 0.15151\n",
            "Feature: 5, Score: 0.10018\n",
            "Feature: 6, Score: 0.25681\n",
            "Feature: 7, Score: 0.04379\n",
            "Feature: 8, Score: 0.00378\n",
            "Feature: 9, Score: 0.09781\n"
          ]
        },
        {
          "output_type": "display_data",
          "data": {
            "image/png": "[encoded data removed]",
            "text/plain": [
              "<Figure size 432x288 with 1 Axes>"
            ]
          },
          "metadata": {
            "needs_background": "light"
          }
        }
      ]
    },
    {
      "cell_type": "code",
      "metadata": {
        "colab": {
          "base_uri": "https://localhost:8080/"
        },
        "id": "zAxH58Oqgp1D",
        "outputId": "cc398382-3377-470e-aa47-92483db60787"
      },
      "source": [
        "pca = PCA(.95)\n",
        "Robust=RobustScaler()\n",
        "oversample = SMOTE()\n",
        "pipeline_DTsmt = make_pipeline(oversample,pca,model_DT)\n",
        "kf = StratifiedKFold(n_splits=5)\n",
        "y_pred_DT_OSample3 = cross_val_score(pipeline_DTsmt, systematic_sample_selectedcols3_x, systematic_sample_selectedcols3_y, scoring='roc_auc', cv=kf, n_jobs=-1)\n",
        "print('Mean ROC AUC: %.3f' % mean(y_pred_DT_OSample3))"
      ],
      "execution_count": null,
      "outputs": [
        {
          "output_type": "stream",
          "name": "stdout",
          "text": [
            "Mean ROC AUC: 0.500\n"
          ]
        }
      ]
    },
    {
      "cell_type": "markdown",
      "metadata": {
        "id": "CvebeHWYFE_a"
      },
      "source": [
        "### Approach 3 accuracy summary\n",
        "* LR model- 64%\n",
        "* DT model 50%"
      ]
    },
    {
      "cell_type": "markdown",
      "metadata": {
        "id": "y78MdIiaFSEY"
      },
      "source": [
        "# Approach 4"
      ]
    },
    {
      "cell_type": "markdown",
      "metadata": {
        "id": "mEtHNZQSmw-c"
      },
      "source": [
        "## Instead of origin count- lets try origin airport percentage"
      ]
    },
    {
      "cell_type": "code",
      "metadata": {
        "colab": {
          "base_uri": "https://localhost:8080/",
          "height": 313
        },
        "id": "xcJOEY2fNlge",
        "outputId": "2d824dd6-13e1-4b69-a487-97e25cc07518"
      },
      "source": [
        "delcountperorigin = systematic_sample_selectedcols[['DEP_DEL15','ORIGIN']].groupby(['ORIGIN']).agg({'DEP_DEL15' : ['count','sum']}).reset_index()\n",
        "delcountperorigin.columns=['ORIGIN','total_FLIGHTS_ORIGIN','DEP_DELAY_ORIGIN_count']\n",
        "delcountperorigin['DEP_DELAY_PERCENTAGE_ORIGIN']=(delcountperorigin['DEP_DELAY_ORIGIN_count']/delcountperorigin['total_FLIGHTS_ORIGIN'])*100\n",
        "#delcountperorigin\n",
        "systematic_sample_selectedcols4 = systematic_sample_selectedcols.merge(delcountperorigin, left_on='ORIGIN', right_on='ORIGIN')\n",
        "systematic_sample_selectedcols5=systematic_sample_selectedcols4.copy()\n",
        "systematic_sample_selectedcols5.head()"
      ],
      "execution_count": null,
      "outputs": [
        {
          "output_type": "execute_result",
          "data": {
            "text/html": [
              "<div>\n",
              "<style scoped>\n",
              "    .dataframe tbody tr th:only-of-type {\n",
              "        vertical-align: middle;\n",
              "    }\n",
              "\n",
              "    .dataframe tbody tr th {\n",
              "        vertical-align: top;\n",
              "    }\n",
              "\n",
              "    .dataframe thead th {\n",
              "        text-align: right;\n",
              "    }\n",
              "</style>\n",
              "<table border=\"1\" class=\"dataframe\">\n",
              "  <thead>\n",
              "    <tr style=\"text-align: right;\">\n",
              "      <th></th>\n",
              "      <th>YEAR</th>\n",
              "      <th>MONTH</th>\n",
              "      <th>DAY_OF_MONTH</th>\n",
              "      <th>DAY_OF_WEEK</th>\n",
              "      <th>FL_DATE</th>\n",
              "      <th>ORIGIN</th>\n",
              "      <th>ORIGIN_AIRPORT_ID</th>\n",
              "      <th>DEST_AIRPORT_ID</th>\n",
              "      <th>TAIL_NUM</th>\n",
              "      <th>AIR_TIME</th>\n",
              "      <th>OP_CARRIER_FL_NUM</th>\n",
              "      <th>DISTANCE</th>\n",
              "      <th>OP_CARRIER_AIRLINE_ID</th>\n",
              "      <th>DEP_DEL15</th>\n",
              "      <th>CRS_DEP_TIME</th>\n",
              "      <th>CRS_ELAPSED_TIME</th>\n",
              "      <th>TAXI_OUT</th>\n",
              "      <th>DEP_TIME</th>\n",
              "      <th>WEEK_OF_MONTH</th>\n",
              "      <th>DAY_OF_WEEK_days_end</th>\n",
              "      <th>total_FLIGHTS_ORIGIN</th>\n",
              "      <th>DEP_DELAY_ORIGIN_count</th>\n",
              "      <th>DEP_DELAY_PERCENTAGE_ORIGIN</th>\n",
              "    </tr>\n",
              "  </thead>\n",
              "  <tbody>\n",
              "    <tr>\n",
              "      <th>0</th>\n",
              "      <td>2021</td>\n",
              "      <td>1</td>\n",
              "      <td>17</td>\n",
              "      <td>7</td>\n",
              "      <td>2021-01-17</td>\n",
              "      <td>DFW</td>\n",
              "      <td>11298</td>\n",
              "      <td>11433</td>\n",
              "      <td>N326NB</td>\n",
              "      <td>126.0</td>\n",
              "      <td>1089</td>\n",
              "      <td>986.0</td>\n",
              "      <td>19790</td>\n",
              "      <td>0.0</td>\n",
              "      <td>1153</td>\n",
              "      <td>150.0</td>\n",
              "      <td>28.0</td>\n",
              "      <td>1151.0</td>\n",
              "      <td>3</td>\n",
              "      <td>1</td>\n",
              "      <td>10262</td>\n",
              "      <td>1696.0</td>\n",
              "      <td>16.5</td>\n",
              "    </tr>\n",
              "    <tr>\n",
              "      <th>1</th>\n",
              "      <td>2021</td>\n",
              "      <td>1</td>\n",
              "      <td>17</td>\n",
              "      <td>7</td>\n",
              "      <td>2021-01-17</td>\n",
              "      <td>DFW</td>\n",
              "      <td>11298</td>\n",
              "      <td>10397</td>\n",
              "      <td>N329DN</td>\n",
              "      <td>85.0</td>\n",
              "      <td>1244</td>\n",
              "      <td>731.0</td>\n",
              "      <td>19790</td>\n",
              "      <td>0.0</td>\n",
              "      <td>1049</td>\n",
              "      <td>121.0</td>\n",
              "      <td>16.0</td>\n",
              "      <td>1044.0</td>\n",
              "      <td>3</td>\n",
              "      <td>1</td>\n",
              "      <td>10262</td>\n",
              "      <td>1696.0</td>\n",
              "      <td>16.5</td>\n",
              "    </tr>\n",
              "    <tr>\n",
              "      <th>2</th>\n",
              "      <td>2021</td>\n",
              "      <td>1</td>\n",
              "      <td>18</td>\n",
              "      <td>1</td>\n",
              "      <td>2021-01-18</td>\n",
              "      <td>DFW</td>\n",
              "      <td>11298</td>\n",
              "      <td>11433</td>\n",
              "      <td>N334NB</td>\n",
              "      <td>128.0</td>\n",
              "      <td>1184</td>\n",
              "      <td>986.0</td>\n",
              "      <td>19790</td>\n",
              "      <td>0.0</td>\n",
              "      <td>1625</td>\n",
              "      <td>151.0</td>\n",
              "      <td>14.0</td>\n",
              "      <td>1619.0</td>\n",
              "      <td>4</td>\n",
              "      <td>0</td>\n",
              "      <td>10262</td>\n",
              "      <td>1696.0</td>\n",
              "      <td>16.5</td>\n",
              "    </tr>\n",
              "    <tr>\n",
              "      <th>3</th>\n",
              "      <td>2021</td>\n",
              "      <td>1</td>\n",
              "      <td>18</td>\n",
              "      <td>1</td>\n",
              "      <td>2021-01-18</td>\n",
              "      <td>DFW</td>\n",
              "      <td>11298</td>\n",
              "      <td>11433</td>\n",
              "      <td>N127DU</td>\n",
              "      <td>124.0</td>\n",
              "      <td>1390</td>\n",
              "      <td>986.0</td>\n",
              "      <td>19790</td>\n",
              "      <td>0.0</td>\n",
              "      <td>1400</td>\n",
              "      <td>148.0</td>\n",
              "      <td>13.0</td>\n",
              "      <td>1407.0</td>\n",
              "      <td>4</td>\n",
              "      <td>0</td>\n",
              "      <td>10262</td>\n",
              "      <td>1696.0</td>\n",
              "      <td>16.5</td>\n",
              "    </tr>\n",
              "    <tr>\n",
              "      <th>4</th>\n",
              "      <td>2021</td>\n",
              "      <td>1</td>\n",
              "      <td>19</td>\n",
              "      <td>2</td>\n",
              "      <td>2021-01-19</td>\n",
              "      <td>DFW</td>\n",
              "      <td>11298</td>\n",
              "      <td>14869</td>\n",
              "      <td>N356NW</td>\n",
              "      <td>138.0</td>\n",
              "      <td>1038</td>\n",
              "      <td>989.0</td>\n",
              "      <td>19790</td>\n",
              "      <td>0.0</td>\n",
              "      <td>830</td>\n",
              "      <td>177.0</td>\n",
              "      <td>13.0</td>\n",
              "      <td>824.0</td>\n",
              "      <td>4</td>\n",
              "      <td>0</td>\n",
              "      <td>10262</td>\n",
              "      <td>1696.0</td>\n",
              "      <td>16.5</td>\n",
              "    </tr>\n",
              "  </tbody>\n",
              "</table>\n",
              "</div>"
            ],
            "text/plain": [
              "   YEAR  MONTH  ...  DEP_DELAY_ORIGIN_count  DEP_DELAY_PERCENTAGE_ORIGIN\n",
              "0  2021      1  ...                  1696.0                         16.5\n",
              "1  2021      1  ...                  1696.0                         16.5\n",
              "2  2021      1  ...                  1696.0                         16.5\n",
              "3  2021      1  ...                  1696.0                         16.5\n",
              "4  2021      1  ...                  1696.0                         16.5\n",
              "\n",
              "[5 rows x 23 columns]"
            ]
          },
          "metadata": {},
          "execution_count": 54
        }
      ]
    },
    {
      "cell_type": "code",
      "metadata": {
        "id": "Qvv7SRzBQr7J"
      },
      "source": [
        "systematic_sample_selectedcols5.drop(columns=['ORIGIN','DAY_OF_MONTH','DAY_OF_WEEK','total_FLIGHTS_ORIGIN',\t'DEP_DELAY_ORIGIN_count','ORIGIN_AIRPORT_ID', 'DEST_AIRPORT_ID', 'AIR_TIME','YEAR','FL_DATE','TAIL_NUM'],inplace=True)"
      ],
      "execution_count": null,
      "outputs": []
    },
    {
      "cell_type": "code",
      "metadata": {
        "colab": {
          "base_uri": "https://localhost:8080/"
        },
        "id": "-S0GkN2oRqYn",
        "outputId": "2430cc57-8f16-4f53-9b39-8afc4e0e494b"
      },
      "source": [
        "systematic_sample_selectedcols5_y= systematic_sample_selectedcols5.DEP_DEL15 \n",
        " #Drop target and set the dependent values variables \n",
        "systematic_sample_selectedcols5_X = systematic_sample_selectedcols5.drop('DEP_DEL15', axis=1)\n",
        "print(systematic_sample_selectedcols5_X.shape,systematic_sample_selectedcols5_y.shape)"
      ],
      "execution_count": null,
      "outputs": [
        {
          "output_type": "stream",
          "name": "stdout",
          "text": [
            "(215129, 11) (215129,)\n"
          ]
        }
      ]
    },
    {
      "cell_type": "markdown",
      "metadata": {
        "id": "pSpgARwARdJy"
      },
      "source": [
        "### LR-Feature importance"
      ]
    },
    {
      "cell_type": "code",
      "metadata": {
        "colab": {
          "base_uri": "https://localhost:8080/",
          "height": 456
        },
        "id": "G_sR1jsYRch6",
        "outputId": "a45a1985-8ae9-4f7c-dbb5-54c2cafeb85c"
      },
      "source": [
        "from matplotlib import pyplot\n",
        "# define the model\n",
        "model = LogisticRegression()\n",
        "# fit the model\n",
        "model.fit(systematic_sample_selectedcols5_X,systematic_sample_selectedcols5_y)\n",
        "importance = model.coef_[0]\n",
        "# summarize feature importance\n",
        "for i,v in enumerate(importance):\n",
        "\tprint('Feature: %0d, Score: %.5f' % (i,v))\n",
        "# plot feature importance\n",
        "pyplot.bar([x for x in range(len(importance))], importance)\n",
        "pyplot.show()"
      ],
      "execution_count": null,
      "outputs": [
        {
          "output_type": "stream",
          "name": "stdout",
          "text": [
            "Feature: 0, Score: 0.00246\n",
            "Feature: 1, Score: -0.00003\n",
            "Feature: 2, Score: 0.00122\n",
            "Feature: 3, Score: -0.00016\n",
            "Feature: 4, Score: -0.03007\n",
            "Feature: 5, Score: -0.00950\n",
            "Feature: 6, Score: 0.01019\n",
            "Feature: 7, Score: 0.03060\n",
            "Feature: 8, Score: 0.00014\n",
            "Feature: 9, Score: 0.00059\n",
            "Feature: 10, Score: 0.01620\n"
          ]
        },
        {
          "output_type": "display_data",
          "data": {
            "image/png": "[encoded data removed]",
            "text/plain": [
              "<Figure size 432x288 with 1 Axes>"
            ]
          },
          "metadata": {
            "needs_background": "light"
          }
        }
      ]
    },
    {
      "cell_type": "code",
      "metadata": {
        "colab": {
          "base_uri": "https://localhost:8080/"
        },
        "id": "tTF3CEN0S7H_",
        "outputId": "ef3463a2-7f79-426e-fe25-fe0808f55cfb"
      },
      "source": [
        "systematic_sample_selectedcols5_X.columns"
      ],
      "execution_count": null,
      "outputs": [
        {
          "output_type": "execute_result",
          "data": {
            "text/plain": [
              "Index(['MONTH', 'OP_CARRIER_FL_NUM', 'DISTANCE', 'OP_CARRIER_AIRLINE_ID',\n",
              "       'CRS_DEP_TIME', 'CRS_ELAPSED_TIME', 'TAXI_OUT', 'DEP_TIME',\n",
              "       'WEEK_OF_MONTH', 'DAY_OF_WEEK_days_end', 'DEP_DELAY_PERCENTAGE_ORIGIN'],\n",
              "      dtype='object')"
            ]
          },
          "metadata": {},
          "execution_count": 58
        }
      ]
    },
    {
      "cell_type": "code",
      "metadata": {
        "colab": {
          "base_uri": "https://localhost:8080/"
        },
        "id": "KbyGHUdGTRMp",
        "outputId": "150a5da9-17d8-4a2a-b40e-fd88d3f9213a"
      },
      "source": [
        "from sklearn.linear_model import LogisticRegression\n",
        "\n",
        "model_LOGISTICS = LogisticRegression(class_weight='balanced',solver='saga')\n",
        "#model_LOGISTICSfit = model_LOGISTICS.fit(principalComponents_train, Y_Train)\n",
        "pca = PCA(.95)\n",
        "Robust=RobustScaler()\n",
        "oversample = SMOTE()\n",
        "pipeline_LRsmt = make_pipeline(oversample,pca,model_LOGISTICS)\n",
        "kf = StratifiedKFold(n_splits=5)\n",
        "y_pred_LR_OSample4 = cross_val_score(pipeline_LRsmt, systematic_sample_selectedcols5_X, systematic_sample_selectedcols5_y, scoring='roc_auc', cv=kf, n_jobs=-1)\n",
        "print('Mean ROC AUC: %.3f' % mean(y_pred_LR_OSample4))"
      ],
      "execution_count": null,
      "outputs": [
        {
          "output_type": "stream",
          "name": "stdout",
          "text": [
            "Mean ROC AUC: 0.623\n"
          ]
        }
      ]
    },
    {
      "cell_type": "code",
      "metadata": {
        "colab": {
          "base_uri": "https://localhost:8080/"
        },
        "id": "FIqqMoKzFp16",
        "outputId": "d834b686-e55d-4c57-91d1-0936864296ae"
      },
      "source": [
        "model_Randomforest_smt= RandomForestClassifier(n_estimators= 100, criterion=\"gini\", class_weight='balanced')  \n",
        "from numpy import mean\n",
        "#Rscaler = RobustScaler()\n",
        "pca = PCA(.95)\n",
        "oversample = SMOTE()\n",
        "pipeline_RFsmt = make_pipeline(oversample,pca,model_Randomforest_smt)\n",
        "kf = StratifiedKFold(n_splits=5)\n",
        "y_pred_RF_OSample4 = cross_val_score(pipeline_RFsmt, systematic_sample_selectedcols5_X, systematic_sample_selectedcols5_y, scoring='roc_auc', cv=kf, n_jobs=-1)\n",
        "\n",
        "# summarize performance\n",
        "print('Mean ROC AUC: %.3f' % mean(y_pred_RF_OSample4))"
      ],
      "execution_count": null,
      "outputs": [
        {
          "output_type": "stream",
          "name": "stdout",
          "text": [
            "Mean ROC AUC: 0.605\n"
          ]
        }
      ]
    },
    {
      "cell_type": "markdown",
      "metadata": {
        "id": "sagKKPz6FVAk"
      },
      "source": [
        "### Approach 4 accuracy summary\n",
        "* LR model- 62%\n",
        "* RF model - 60%"
      ]
    },
    {
      "cell_type": "markdown",
      "metadata": {
        "id": "MeXh14ZbKXmj"
      },
      "source": [
        "# APPROACH 5\n",
        "---\n",
        "\n"
      ]
    },
    {
      "cell_type": "markdown",
      "metadata": {
        "id": "PZy2_wljGo-A"
      },
      "source": [
        "### OP_CARRIER_AIRLINE_ID delay count column and  origin delaypercentage \n"
      ]
    },
    {
      "cell_type": "code",
      "metadata": {
        "id": "g0MYNOobVx3g"
      },
      "source": [
        "delcountperAirline = systematic_sample_selectedcols[['DEP_DEL15','OP_CARRIER_AIRLINE_ID']].groupby(['OP_CARRIER_AIRLINE_ID']).agg({'DEP_DEL15' : ['count','sum']}).reset_index()\n",
        "delcountperAirline.columns=['OP_CARRIER_AIRLINE_ID','total_FLIGHTS_perAIRLINE','DEP_DELAY_perAIRLINE']\n",
        "delcountperAirline['DEP_DELAY_PERCENTAGE_AIRLINE']=(delcountperAirline['DEP_DELAY_perAIRLINE']/delcountperAirline['total_FLIGHTS_perAIRLINE'])\n",
        "#delcountperAirline\n",
        "systematic_sample_selectedcols6 = systematic_sample_selectedcols5.merge(delcountperAirline, left_on='OP_CARRIER_AIRLINE_ID', right_on='OP_CARRIER_AIRLINE_ID')\n",
        "systematic_sample_selectedcols6.drop(columns=['total_FLIGHTS_perAIRLINE', 'DEP_DELAY_perAIRLINE','DISTANCE'],inplace=True)\n",
        "systematic_sample_selectedcols7=systematic_sample_selectedcols6.copy()"
      ],
      "execution_count": null,
      "outputs": []
    },
    {
      "cell_type": "code",
      "metadata": {
        "colab": {
          "base_uri": "https://localhost:8080/"
        },
        "id": "_cLw6_CmYJJo",
        "outputId": "18cf60bb-4da0-493d-fb35-283a57a6cd40"
      },
      "source": [
        "systematic_sample_selectedcols7.columns"
      ],
      "execution_count": null,
      "outputs": [
        {
          "output_type": "execute_result",
          "data": {
            "text/plain": [
              "Index(['MONTH', 'OP_CARRIER_FL_NUM', 'OP_CARRIER_AIRLINE_ID', 'DEP_DEL15',\n",
              "       'CRS_DEP_TIME', 'CRS_ELAPSED_TIME', 'TAXI_OUT', 'DEP_TIME',\n",
              "       'WEEK_OF_MONTH', 'DAY_OF_WEEK_days_end', 'DEP_DELAY_PERCENTAGE_ORIGIN',\n",
              "       'DEP_DELAY_PERCENTAGE_AIRLINE'],\n",
              "      dtype='object')"
            ]
          },
          "metadata": {},
          "execution_count": 62
        }
      ]
    },
    {
      "cell_type": "code",
      "metadata": {
        "colab": {
          "base_uri": "https://localhost:8080/"
        },
        "id": "pYx_xij2Ysmr",
        "outputId": "d0019e7d-359e-4a91-e050-f869d4d7896c"
      },
      "source": [
        "systematic_sample_selectedcols7_y= systematic_sample_selectedcols7.DEP_DEL15 \n",
        " #Drop target and set the dependent values variables \n",
        "systematic_sample_selectedcols7_X = systematic_sample_selectedcols7.drop('DEP_DEL15', axis=1)\n",
        "print(systematic_sample_selectedcols7_X.shape,systematic_sample_selectedcols7_y.shape)"
      ],
      "execution_count": null,
      "outputs": [
        {
          "output_type": "stream",
          "name": "stdout",
          "text": [
            "(215129, 11) (215129,)\n"
          ]
        }
      ]
    },
    {
      "cell_type": "code",
      "metadata": {
        "colab": {
          "base_uri": "https://localhost:8080/"
        },
        "id": "61Svk7rqc1Ox",
        "outputId": "3f84f0a4-3245-4714-a057-bd252991eef7"
      },
      "source": [
        "corr = systematic_sample_selectedcols7_X.corr()\n",
        "indices = np.where(corr > 0.8)\n",
        "indices = [(corr.columns[x], corr.columns[y]) for x, y in zip(*indices)\n",
        "                                        if x != y and x < y]\n",
        "indices"
      ],
      "execution_count": null,
      "outputs": [
        {
          "output_type": "execute_result",
          "data": {
            "text/plain": [
              "[('CRS_DEP_TIME', 'DEP_TIME')]"
            ]
          },
          "metadata": {},
          "execution_count": 64
        }
      ]
    },
    {
      "cell_type": "code",
      "metadata": {
        "colab": {
          "base_uri": "https://localhost:8080/",
          "height": 443
        },
        "id": "XWQFpJGCqAB_",
        "outputId": "1da84cfb-9030-4db4-e99f-e28d9a7febb5"
      },
      "source": [
        "systematic_sample_selectedcols7_X.drop(columns=['DEP_TIME'],axis=1)"
      ],
      "execution_count": null,
      "outputs": [
        {
          "output_type": "execute_result",
          "data": {
            "text/html": [
              "<div>\n",
              "<style scoped>\n",
              "    .dataframe tbody tr th:only-of-type {\n",
              "        vertical-align: middle;\n",
              "    }\n",
              "\n",
              "    .dataframe tbody tr th {\n",
              "        vertical-align: top;\n",
              "    }\n",
              "\n",
              "    .dataframe thead th {\n",
              "        text-align: right;\n",
              "    }\n",
              "</style>\n",
              "<table border=\"1\" class=\"dataframe\">\n",
              "  <thead>\n",
              "    <tr style=\"text-align: right;\">\n",
              "      <th></th>\n",
              "      <th>MONTH</th>\n",
              "      <th>OP_CARRIER_FL_NUM</th>\n",
              "      <th>OP_CARRIER_AIRLINE_ID</th>\n",
              "      <th>CRS_DEP_TIME</th>\n",
              "      <th>CRS_ELAPSED_TIME</th>\n",
              "      <th>TAXI_OUT</th>\n",
              "      <th>WEEK_OF_MONTH</th>\n",
              "      <th>DAY_OF_WEEK_days_end</th>\n",
              "      <th>DEP_DELAY_PERCENTAGE_ORIGIN</th>\n",
              "      <th>DEP_DELAY_PERCENTAGE_AIRLINE</th>\n",
              "    </tr>\n",
              "  </thead>\n",
              "  <tbody>\n",
              "    <tr>\n",
              "      <th>0</th>\n",
              "      <td>1</td>\n",
              "      <td>1089</td>\n",
              "      <td>19790</td>\n",
              "      <td>1153</td>\n",
              "      <td>150.0</td>\n",
              "      <td>28.0</td>\n",
              "      <td>3</td>\n",
              "      <td>1</td>\n",
              "      <td>16.5</td>\n",
              "      <td>0.1</td>\n",
              "    </tr>\n",
              "    <tr>\n",
              "      <th>1</th>\n",
              "      <td>1</td>\n",
              "      <td>1244</td>\n",
              "      <td>19790</td>\n",
              "      <td>1049</td>\n",
              "      <td>121.0</td>\n",
              "      <td>16.0</td>\n",
              "      <td>3</td>\n",
              "      <td>1</td>\n",
              "      <td>16.5</td>\n",
              "      <td>0.1</td>\n",
              "    </tr>\n",
              "    <tr>\n",
              "      <th>2</th>\n",
              "      <td>1</td>\n",
              "      <td>1184</td>\n",
              "      <td>19790</td>\n",
              "      <td>1625</td>\n",
              "      <td>151.0</td>\n",
              "      <td>14.0</td>\n",
              "      <td>4</td>\n",
              "      <td>0</td>\n",
              "      <td>16.5</td>\n",
              "      <td>0.1</td>\n",
              "    </tr>\n",
              "    <tr>\n",
              "      <th>3</th>\n",
              "      <td>1</td>\n",
              "      <td>1390</td>\n",
              "      <td>19790</td>\n",
              "      <td>1400</td>\n",
              "      <td>148.0</td>\n",
              "      <td>13.0</td>\n",
              "      <td>4</td>\n",
              "      <td>0</td>\n",
              "      <td>16.5</td>\n",
              "      <td>0.1</td>\n",
              "    </tr>\n",
              "    <tr>\n",
              "      <th>4</th>\n",
              "      <td>1</td>\n",
              "      <td>1038</td>\n",
              "      <td>19790</td>\n",
              "      <td>830</td>\n",
              "      <td>177.0</td>\n",
              "      <td>13.0</td>\n",
              "      <td>4</td>\n",
              "      <td>0</td>\n",
              "      <td>16.5</td>\n",
              "      <td>0.1</td>\n",
              "    </tr>\n",
              "    <tr>\n",
              "      <th>...</th>\n",
              "      <td>...</td>\n",
              "      <td>...</td>\n",
              "      <td>...</td>\n",
              "      <td>...</td>\n",
              "      <td>...</td>\n",
              "      <td>...</td>\n",
              "      <td>...</td>\n",
              "      <td>...</td>\n",
              "      <td>...</td>\n",
              "      <td>...</td>\n",
              "    </tr>\n",
              "    <tr>\n",
              "      <th>215124</th>\n",
              "      <td>1</td>\n",
              "      <td>613</td>\n",
              "      <td>20263</td>\n",
              "      <td>757</td>\n",
              "      <td>29.0</td>\n",
              "      <td>2.0</td>\n",
              "      <td>2</td>\n",
              "      <td>0</td>\n",
              "      <td>0.0</td>\n",
              "      <td>0.1</td>\n",
              "    </tr>\n",
              "    <tr>\n",
              "      <th>215125</th>\n",
              "      <td>1</td>\n",
              "      <td>643</td>\n",
              "      <td>20263</td>\n",
              "      <td>1629</td>\n",
              "      <td>29.0</td>\n",
              "      <td>3.0</td>\n",
              "      <td>2</td>\n",
              "      <td>1</td>\n",
              "      <td>0.0</td>\n",
              "      <td>0.1</td>\n",
              "    </tr>\n",
              "    <tr>\n",
              "      <th>215126</th>\n",
              "      <td>1</td>\n",
              "      <td>625</td>\n",
              "      <td>20263</td>\n",
              "      <td>957</td>\n",
              "      <td>35.0</td>\n",
              "      <td>3.0</td>\n",
              "      <td>2</td>\n",
              "      <td>0</td>\n",
              "      <td>0.0</td>\n",
              "      <td>0.1</td>\n",
              "    </tr>\n",
              "    <tr>\n",
              "      <th>215127</th>\n",
              "      <td>1</td>\n",
              "      <td>655</td>\n",
              "      <td>20263</td>\n",
              "      <td>1829</td>\n",
              "      <td>35.0</td>\n",
              "      <td>4.0</td>\n",
              "      <td>1</td>\n",
              "      <td>1</td>\n",
              "      <td>0.0</td>\n",
              "      <td>0.1</td>\n",
              "    </tr>\n",
              "    <tr>\n",
              "      <th>215128</th>\n",
              "      <td>1</td>\n",
              "      <td>655</td>\n",
              "      <td>20263</td>\n",
              "      <td>1829</td>\n",
              "      <td>35.0</td>\n",
              "      <td>4.0</td>\n",
              "      <td>3</td>\n",
              "      <td>0</td>\n",
              "      <td>0.0</td>\n",
              "      <td>0.1</td>\n",
              "    </tr>\n",
              "  </tbody>\n",
              "</table>\n",
              "<p>215129 rows × 10 columns</p>\n",
              "</div>"
            ],
            "text/plain": [
              "        MONTH  ...  DEP_DELAY_PERCENTAGE_AIRLINE\n",
              "0           1  ...                           0.1\n",
              "1           1  ...                           0.1\n",
              "2           1  ...                           0.1\n",
              "3           1  ...                           0.1\n",
              "4           1  ...                           0.1\n",
              "...       ...  ...                           ...\n",
              "215124      1  ...                           0.1\n",
              "215125      1  ...                           0.1\n",
              "215126      1  ...                           0.1\n",
              "215127      1  ...                           0.1\n",
              "215128      1  ...                           0.1\n",
              "\n",
              "[215129 rows x 10 columns]"
            ]
          },
          "metadata": {},
          "execution_count": 65
        }
      ]
    },
    {
      "cell_type": "markdown",
      "metadata": {
        "id": "09esTfmBIH31"
      },
      "source": [
        "### LOGISTIC REGRESSION"
      ]
    },
    {
      "cell_type": "code",
      "metadata": {
        "id": "cHy90z9FX317"
      },
      "source": [
        "from sklearn.linear_model import LogisticRegression\n",
        "\n",
        "model_LOGISTICS = LogisticRegression(class_weight='balanced',solver='saga')\n",
        "#model_LOGISTICSfit = model_LOGISTICS.fit(principalComponents_train, Y_Train)\n",
        "pca = PCA(.95)\n",
        "Robust=RobustScaler()\n",
        "oversample = SMOTE()\n",
        "pipeline_LRsmt = make_pipeline(oversample,pca,model_LOGISTICS)\n",
        "kf = StratifiedKFold(n_splits=5)\n",
        "y_pred_LR_OSample5 = cross_val_score(pipeline_LRsmt, systematic_sample_selectedcols7_X, systematic_sample_selectedcols7_y, scoring='roc_auc', cv=kf, n_jobs=-1)\n",
        "print('Mean ROC AUC: %.3f' % mean(y_pred_LR_OSample5))"
      ],
      "execution_count": null,
      "outputs": []
    },
    {
      "cell_type": "markdown",
      "metadata": {
        "id": "4OK33gMslprA"
      },
      "source": [
        "## Random forest"
      ]
    },
    {
      "cell_type": "code",
      "metadata": {
        "id": "9NhPEeIRk05q"
      },
      "source": [
        "#model_Randomforest_smt= RandomForestClassifier(n_estimators= 100, criterion=\"gini\", class_weight='balanced')  \n",
        "from numpy import mean\n",
        "#Rscaler = RobustScaler()\n",
        "pca = PCA(.95)\n",
        "oversample = SMOTE()\n",
        "pipeline_RFsmt = make_pipeline(oversample,pca,model_Randomforest_smt)\n",
        "kf = StratifiedKFold(n_splits=5)\n",
        "y_pred_RF_OSample5 = cross_val_score(pipeline_RFsmt,systematic_sample_selectedcols7_X, systematic_sample_selectedcols7_y, scoring='roc_auc', cv=kf, n_jobs=-1)\n",
        "\n",
        "# summarize performance\n",
        "print('Mean ROC AUC: %.3f' % mean(y_pred_RF_OSample5))"
      ],
      "execution_count": null,
      "outputs": []
    },
    {
      "cell_type": "markdown",
      "metadata": {
        "id": "8d4jQThsQGcc"
      },
      "source": [
        "### Approach 5 accuracy summary\n",
        "* LR model- 62%\n",
        "* RF model - 55%"
      ]
    },
    {
      "cell_type": "markdown",
      "metadata": {
        "id": "Jiegd4YYgOAU"
      },
      "source": [
        "# APPROACH 6 "
      ]
    },
    {
      "cell_type": "markdown",
      "metadata": {
        "id": "vaNREZw64G3f"
      },
      "source": [
        "## Creating New column-> DEP_TIME_BLK as 6 block per day, using CRS_DEP_time with 24 hrs time stamp"
      ]
    },
    {
      "cell_type": "code",
      "metadata": {
        "id": "t9Zk0s6XJaTt"
      },
      "source": [
        "def get_dep_time_blk(dep_time):\n",
        "    dep_hour = str('%04d' %(dep_time))[:2]\n",
        "    \n",
        "    return dep_hour\n",
        "\n",
        "systematic_sample_selectedcols['DEP_TIMEslot_BLK'] = systematic_sample_selectedcols.DEP_TIME.apply(get_dep_time_blk)\n",
        "print(systematic_sample_selectedcols[['CRS_DEP_TIME','DEP_TIMEslot_BLK']].head(5))\n"
      ],
      "execution_count": null,
      "outputs": []
    },
    {
      "cell_type": "code",
      "metadata": {
        "id": "Sli35A7h0_jB"
      },
      "source": [
        "systematic_sample_selectedcols[['DEP_TIMEslot_BLK']]=systematic_sample_selectedcols[['DEP_TIMEslot_BLK']].astype(int)"
      ],
      "execution_count": null,
      "outputs": []
    },
    {
      "cell_type": "code",
      "metadata": {
        "id": "4aBrZPnutBu7"
      },
      "source": [
        "for dataset in systematic_sample_selectedcols:\n",
        "    systematic_sample_selectedcols.loc[systematic_sample_selectedcols['DEP_TIMEslot_BLK'] >=0, 'Dep_period'] = 'Midnight'\n",
        "    systematic_sample_selectedcols.loc[systematic_sample_selectedcols['DEP_TIMEslot_BLK'] >=4,'Dep_period'] ='Early morning'\n",
        "    systematic_sample_selectedcols.loc[systematic_sample_selectedcols['DEP_TIMEslot_BLK'] >=7,'Dep_period'] ='Morning'\n",
        "    systematic_sample_selectedcols.loc[systematic_sample_selectedcols['DEP_TIMEslot_BLK'] >=12,'Dep_period'] ='Afternoon'\n",
        "    systematic_sample_selectedcols.loc[systematic_sample_selectedcols['DEP_TIMEslot_BLK'] >=17,'Dep_period'] ='Evening'\n",
        "    systematic_sample_selectedcols.loc[systematic_sample_selectedcols['DEP_TIMEslot_BLK'] >=20,'Dep_period'] ='Night'\n",
        "    systematic_sample_selectedcols.loc[systematic_sample_selectedcols['DEP_TIMEslot_BLK'] ==24, 'Dep_period'] = 'Midnight'\n",
        "\n",
        "\n",
        "systematic_sample_selectedcols[['DEP_TIMEslot_BLK','Dep_period']].head()\n"
      ],
      "execution_count": null,
      "outputs": []
    },
    {
      "cell_type": "code",
      "metadata": {
        "id": "aPUcKeTRQF8_"
      },
      "source": [
        "delay_timeslotwise_count = systematic_sample_selectedcols[['Dep_period','DEP_DEL15']].groupby(['Dep_period']).sum('DEP_DEL15').sort_values(['DEP_DEL15'],ascending=False).reset_index()\n",
        "delay_timeslotwise_count"
      ],
      "execution_count": null,
      "outputs": []
    },
    {
      "cell_type": "markdown",
      "metadata": {
        "id": "UA5dCbhy43NY"
      },
      "source": [
        "Adding 3 kinds of weightage to categorical columns\n",
        "1. dep_del count\n",
        "2. Time slot wise dep delay count\n",
        "3. Taxi out time Dep delay count"
      ]
    },
    {
      "cell_type": "markdown",
      "metadata": {
        "id": "RR38xRz8Vz1S"
      },
      "source": [
        "# Column wise weightage \n",
        "1. Departure time-  Perodic time slot delay weights \n",
        "2. ORIGIN_AIRPORT_ID - Perodic time slot delay weights\n",
        "3. OP_carrier airline- Perodic time slot delay weights\n",
        "4. Origin- Perodic time slot delay weights\n",
        "5. Tail number-Delay weight\n",
        "6. Days of Week - Delay weight\n",
        "  * Including Week_days-0 and Week_ends-1 column\n",
        "7. Days of month - Delay weight\n",
        "8. Month- Delay weight\n",
        "9. OP_CARRIER_FL_NUM - Taxi out delay weights"
      ]
    },
    {
      "cell_type": "markdown",
      "metadata": {
        "id": "0gH0ICh-bxkI"
      },
      "source": [
        "### 1. DEP_TIMEslot_BLK on delay percentage Probablity and weightage"
      ]
    },
    {
      "cell_type": "code",
      "metadata": {
        "id": "Fv7S24R-GUo4"
      },
      "source": [
        "periodcountperdeptime = systematic_sample_selectedcols[['DEP_TIMEslot_BLK','Dep_period']].groupby(['DEP_TIMEslot_BLK','Dep_period']).count().reset_index()\n",
        "periodcountperdeptime.head()"
      ],
      "execution_count": null,
      "outputs": []
    },
    {
      "cell_type": "code",
      "metadata": {
        "id": "Kfm4hiOSGVhE"
      },
      "source": [
        "pd.options.display.float_format = '{:.1f}'.format\n",
        "periodcountperdeptime = systematic_sample_selectedcols.groupby(['Dep_period','DEP_TIMEslot_BLK']).agg({'Dep_period' : ['count'],'DEP_DEL15' : ['sum']}).reset_index()\n",
        "periodcountperdeptime.columns=['Dep_period','DEP_TIMEslot_BLK','DEP_TIME_timeslot_tot_count','DEP_TIME_timeslotwise_DELAY_COUNT']\n",
        "periodcountperdeptime.sort_values(['DEP_TIME_timeslotwise_DELAY_COUNT'],ascending=False)\n",
        "percentage_DEP_TIMEslot= (periodcountperdeptime['DEP_TIME_timeslotwise_DELAY_COUNT']/periodcountperdeptime['DEP_TIME_timeslot_tot_count'])*100\n",
        "periodcountperdeptime['percentage_DEP_TIMEslot_del']=percentage_DEP_TIMEslot\n",
        "periodcountperdeptime.sort_values(by='percentage_DEP_TIMEslot_del',ascending=False)\n",
        "periodcountperdeptime['DEP_TIME_timeslot_weight'] = pd.qcut(periodcountperdeptime['percentage_DEP_TIMEslot_del'], 24, labels = False,duplicates='drop')\n",
        "periodcountperdeptime.sort_values(by='DEP_TIME_timeslot_weight',ascending=False)\n",
        "print(periodcountperdeptime)\n",
        "systematic_sample_selectedcols0 = systematic_sample_selectedcols.merge(periodcountperdeptime, left_on=['DEP_TIMEslot_BLK','Dep_period'], right_on=['DEP_TIMEslot_BLK','Dep_period'])\n",
        "systematic_sample_selectedcols0.drop(columns=['percentage_DEP_TIMEslot_del','DEP_TIME_timeslotwise_DELAY_COUNT','DEP_TIME_timeslot_tot_count','DEP_TIMEslot_BLK'], inplace=True, axis=1)\n",
        "systematic_sample_selectedcols0.head(3)"
      ],
      "execution_count": null,
      "outputs": []
    },
    {
      "cell_type": "markdown",
      "metadata": {
        "id": "qmOkCACMeqkm"
      },
      "source": [
        "### 2. ORIGIN - Perodic time slot delay weights"
      ]
    },
    {
      "cell_type": "code",
      "metadata": {
        "colab": {
          "base_uri": "https://localhost:8080/",
          "height": 174
        },
        "id": "JZmaNcU3Kzax",
        "outputId": "7a8326fe-3f18-4d32-c06b-ec7768fad449"
      },
      "source": [
        "periodcountperairport = systematic_sample_selectedcols[['ORIGIN','Dep_period']].groupby(['ORIGIN','Dep_period']).count().reset_index()\n",
        "periodcountperairport.head(4)"
      ],
      "execution_count": null,
      "outputs": [
        {
          "output_type": "execute_result",
          "data": {
            "text/html": [
              "<div>\n",
              "<style scoped>\n",
              "    .dataframe tbody tr th:only-of-type {\n",
              "        vertical-align: middle;\n",
              "    }\n",
              "\n",
              "    .dataframe tbody tr th {\n",
              "        vertical-align: top;\n",
              "    }\n",
              "\n",
              "    .dataframe thead th {\n",
              "        text-align: right;\n",
              "    }\n",
              "</style>\n",
              "<table border=\"1\" class=\"dataframe\">\n",
              "  <thead>\n",
              "    <tr style=\"text-align: right;\">\n",
              "      <th></th>\n",
              "      <th>ORIGIN</th>\n",
              "      <th>Dep_period</th>\n",
              "    </tr>\n",
              "  </thead>\n",
              "  <tbody>\n",
              "    <tr>\n",
              "      <th>0</th>\n",
              "      <td>ABE</td>\n",
              "      <td>Afternoon</td>\n",
              "    </tr>\n",
              "    <tr>\n",
              "      <th>1</th>\n",
              "      <td>ABE</td>\n",
              "      <td>Early morning</td>\n",
              "    </tr>\n",
              "    <tr>\n",
              "      <th>2</th>\n",
              "      <td>ABE</td>\n",
              "      <td>Evening</td>\n",
              "    </tr>\n",
              "    <tr>\n",
              "      <th>3</th>\n",
              "      <td>ABE</td>\n",
              "      <td>Morning</td>\n",
              "    </tr>\n",
              "  </tbody>\n",
              "</table>\n",
              "</div>"
            ],
            "text/plain": [
              "  ORIGIN     Dep_period\n",
              "0    ABE      Afternoon\n",
              "1    ABE  Early morning\n",
              "2    ABE        Evening\n",
              "3    ABE        Morning"
            ]
          },
          "metadata": {},
          "execution_count": 76
        }
      ]
    },
    {
      "cell_type": "code",
      "metadata": {
        "colab": {
          "base_uri": "https://localhost:8080/",
          "height": 215
        },
        "id": "mbgWVzTK_AQn",
        "outputId": "abd6b5ee-675b-4fe5-fd8e-b31a36f7eedc"
      },
      "source": [
        "pd.options.display.float_format = '{:.1f}'.format\n",
        "periodcountperorg = systematic_sample_selectedcols.groupby(['Dep_period','ORIGIN']).agg({'Dep_period' : ['count'],'DEP_DEL15' : ['sum']}).reset_index()\n",
        "periodcountperorg.columns=['Dep_period','ORIGIN','ORIGIN_timeslot_tot_count','ORIGIN_timeslotwise_DELAY_COUNT']\n",
        "periodcountperorg.sort_values(['ORIGIN_timeslotwise_DELAY_COUNT'],ascending=False)\n",
        "percentage1= (periodcountperorg['ORIGIN_timeslotwise_DELAY_COUNT']/periodcountperorg['ORIGIN_timeslot_tot_count'])*100\n",
        "periodcountperorg['percentage_Delay_org']=percentage1\n",
        "periodcountperorg.sort_values(by='percentage_Delay_org',ascending=False)\n",
        "periodcountperorg['ORIGIN_timeslot_weight'] = pd.qcut(periodcountperorg['percentage_Delay_org'], 200, labels = False,duplicates='drop')\n",
        "periodcountperorg.head()\n",
        "systematic_sample_selectedcols_1 = systematic_sample_selectedcols0.merge(periodcountperorg, left_on=['ORIGIN','Dep_period'], right_on=['ORIGIN','Dep_period'])\n",
        "systematic_sample_selectedcols_1.drop(columns=['ORIGIN','percentage_Delay_org','ORIGIN_timeslot_tot_count','ORIGIN_timeslotwise_DELAY_COUNT'], inplace=True, axis=1)\n",
        "systematic_sample_selectedcols_1.head(3)"
      ],
      "execution_count": null,
      "outputs": [
        {
          "output_type": "execute_result",
          "data": {
            "text/html": [
              "<div>\n",
              "<style scoped>\n",
              "    .dataframe tbody tr th:only-of-type {\n",
              "        vertical-align: middle;\n",
              "    }\n",
              "\n",
              "    .dataframe tbody tr th {\n",
              "        vertical-align: top;\n",
              "    }\n",
              "\n",
              "    .dataframe thead th {\n",
              "        text-align: right;\n",
              "    }\n",
              "</style>\n",
              "<table border=\"1\" class=\"dataframe\">\n",
              "  <thead>\n",
              "    <tr style=\"text-align: right;\">\n",
              "      <th></th>\n",
              "      <th>YEAR</th>\n",
              "      <th>MONTH</th>\n",
              "      <th>DAY_OF_MONTH</th>\n",
              "      <th>DAY_OF_WEEK</th>\n",
              "      <th>FL_DATE</th>\n",
              "      <th>ORIGIN_AIRPORT_ID</th>\n",
              "      <th>DEST_AIRPORT_ID</th>\n",
              "      <th>TAIL_NUM</th>\n",
              "      <th>AIR_TIME</th>\n",
              "      <th>OP_CARRIER_FL_NUM</th>\n",
              "      <th>DISTANCE</th>\n",
              "      <th>OP_CARRIER_AIRLINE_ID</th>\n",
              "      <th>DEP_DEL15</th>\n",
              "      <th>CRS_DEP_TIME</th>\n",
              "      <th>CRS_ELAPSED_TIME</th>\n",
              "      <th>TAXI_OUT</th>\n",
              "      <th>DEP_TIME</th>\n",
              "      <th>WEEK_OF_MONTH</th>\n",
              "      <th>DAY_OF_WEEK_days_end</th>\n",
              "      <th>Dep_period</th>\n",
              "      <th>DEP_TIME_timeslot_weight</th>\n",
              "      <th>ORIGIN_timeslot_weight</th>\n",
              "    </tr>\n",
              "  </thead>\n",
              "  <tbody>\n",
              "    <tr>\n",
              "      <th>0</th>\n",
              "      <td>2021</td>\n",
              "      <td>1</td>\n",
              "      <td>17</td>\n",
              "      <td>7</td>\n",
              "      <td>2021-01-17</td>\n",
              "      <td>11298</td>\n",
              "      <td>11433</td>\n",
              "      <td>N326NB</td>\n",
              "      <td>126.0</td>\n",
              "      <td>1089</td>\n",
              "      <td>986.0</td>\n",
              "      <td>19790</td>\n",
              "      <td>0.0</td>\n",
              "      <td>1153</td>\n",
              "      <td>150.0</td>\n",
              "      <td>28.0</td>\n",
              "      <td>1151.0</td>\n",
              "      <td>3</td>\n",
              "      <td>1</td>\n",
              "      <td>Morning</td>\n",
              "      <td>7</td>\n",
              "      <td>57</td>\n",
              "    </tr>\n",
              "    <tr>\n",
              "      <th>1</th>\n",
              "      <td>2021</td>\n",
              "      <td>1</td>\n",
              "      <td>24</td>\n",
              "      <td>7</td>\n",
              "      <td>2021-01-24</td>\n",
              "      <td>11298</td>\n",
              "      <td>13931</td>\n",
              "      <td>N227NN</td>\n",
              "      <td>140.0</td>\n",
              "      <td>3326</td>\n",
              "      <td>1212.0</td>\n",
              "      <td>20398</td>\n",
              "      <td>1.0</td>\n",
              "      <td>1045</td>\n",
              "      <td>181.0</td>\n",
              "      <td>12.0</td>\n",
              "      <td>1153.0</td>\n",
              "      <td>4</td>\n",
              "      <td>1</td>\n",
              "      <td>Morning</td>\n",
              "      <td>7</td>\n",
              "      <td>57</td>\n",
              "    </tr>\n",
              "    <tr>\n",
              "      <th>2</th>\n",
              "      <td>2021</td>\n",
              "      <td>1</td>\n",
              "      <td>5</td>\n",
              "      <td>2</td>\n",
              "      <td>2021-01-05</td>\n",
              "      <td>11298</td>\n",
              "      <td>15016</td>\n",
              "      <td>N285NN</td>\n",
              "      <td>80.0</td>\n",
              "      <td>3352</td>\n",
              "      <td>550.0</td>\n",
              "      <td>20398</td>\n",
              "      <td>1.0</td>\n",
              "      <td>1019</td>\n",
              "      <td>109.0</td>\n",
              "      <td>12.0</td>\n",
              "      <td>1130.0</td>\n",
              "      <td>2</td>\n",
              "      <td>0</td>\n",
              "      <td>Morning</td>\n",
              "      <td>7</td>\n",
              "      <td>57</td>\n",
              "    </tr>\n",
              "  </tbody>\n",
              "</table>\n",
              "</div>"
            ],
            "text/plain": [
              "   YEAR  MONTH  ...  DEP_TIME_timeslot_weight  ORIGIN_timeslot_weight\n",
              "0  2021      1  ...                         7                      57\n",
              "1  2021      1  ...                         7                      57\n",
              "2  2021      1  ...                         7                      57\n",
              "\n",
              "[3 rows x 22 columns]"
            ]
          },
          "metadata": {},
          "execution_count": 77
        }
      ]
    },
    {
      "cell_type": "markdown",
      "metadata": {
        "id": "FtTO_Rdl8wX2"
      },
      "source": [
        "### 3. OP_carrier airline- Perodic time slot delay weights"
      ]
    },
    {
      "cell_type": "code",
      "metadata": {
        "colab": {
          "base_uri": "https://localhost:8080/",
          "height": 206
        },
        "id": "AlgpGilC2oxd",
        "outputId": "eb89f14c-9aee-4797-c7d9-a1f1c56862fb"
      },
      "source": [
        "periodcountperairLine = systematic_sample_selectedcols[['OP_CARRIER_AIRLINE_ID','Dep_period']].groupby(['OP_CARRIER_AIRLINE_ID','Dep_period']).count().reset_index()\n",
        "periodcountperairLine.head(5)"
      ],
      "execution_count": null,
      "outputs": [
        {
          "output_type": "execute_result",
          "data": {
            "text/html": [
              "<div>\n",
              "<style scoped>\n",
              "    .dataframe tbody tr th:only-of-type {\n",
              "        vertical-align: middle;\n",
              "    }\n",
              "\n",
              "    .dataframe tbody tr th {\n",
              "        vertical-align: top;\n",
              "    }\n",
              "\n",
              "    .dataframe thead th {\n",
              "        text-align: right;\n",
              "    }\n",
              "</style>\n",
              "<table border=\"1\" class=\"dataframe\">\n",
              "  <thead>\n",
              "    <tr style=\"text-align: right;\">\n",
              "      <th></th>\n",
              "      <th>OP_CARRIER_AIRLINE_ID</th>\n",
              "      <th>Dep_period</th>\n",
              "    </tr>\n",
              "  </thead>\n",
              "  <tbody>\n",
              "    <tr>\n",
              "      <th>0</th>\n",
              "      <td>19393</td>\n",
              "      <td>Afternoon</td>\n",
              "    </tr>\n",
              "    <tr>\n",
              "      <th>1</th>\n",
              "      <td>19393</td>\n",
              "      <td>Early morning</td>\n",
              "    </tr>\n",
              "    <tr>\n",
              "      <th>2</th>\n",
              "      <td>19393</td>\n",
              "      <td>Evening</td>\n",
              "    </tr>\n",
              "    <tr>\n",
              "      <th>3</th>\n",
              "      <td>19393</td>\n",
              "      <td>Midnight</td>\n",
              "    </tr>\n",
              "    <tr>\n",
              "      <th>4</th>\n",
              "      <td>19393</td>\n",
              "      <td>Morning</td>\n",
              "    </tr>\n",
              "  </tbody>\n",
              "</table>\n",
              "</div>"
            ],
            "text/plain": [
              "   OP_CARRIER_AIRLINE_ID     Dep_period\n",
              "0                  19393      Afternoon\n",
              "1                  19393  Early morning\n",
              "2                  19393        Evening\n",
              "3                  19393       Midnight\n",
              "4                  19393        Morning"
            ]
          },
          "metadata": {},
          "execution_count": 78
        }
      ]
    },
    {
      "cell_type": "code",
      "metadata": {
        "colab": {
          "base_uri": "https://localhost:8080/",
          "height": 313
        },
        "id": "XddhxFPr2ouI",
        "outputId": "31eb17fd-bae7-4847-c0eb-48608a388121"
      },
      "source": [
        "pd.options.display.float_format = '{:.1f}'.format\n",
        "periodcountperairLine = systematic_sample_selectedcols.groupby(['Dep_period','OP_CARRIER_AIRLINE_ID']).agg({'Dep_period' : ['count'],'DEP_DEL15' : ['sum']}).reset_index()\n",
        "periodcountperairLine.columns=['Dep_period','OP_CARRIER_AIRLINE_ID','OP_CARRIER_timeslot_TOTcount','OP_CARRIER_timeslotwise_DELAY_COUNT']\n",
        "periodcountperairLine.sort_values(['OP_CARRIER_timeslotwise_DELAY_COUNT'],ascending=False)\n",
        "percentage1= (periodcountperairLine['OP_CARRIER_timeslotwise_DELAY_COUNT']/periodcountperairLine['OP_CARRIER_timeslot_TOTcount'])*100\n",
        "periodcountperairLine['percentage_Delay1']=percentage1\n",
        "periodcountperairLine.sort_values(by='percentage_Delay1',ascending=False)\n",
        "periodcountperairLine['OP_CARRIER_airline_timeslot_weight'] = pd.qcut(periodcountperairLine['percentage_Delay1'], 200, labels = False,duplicates='drop')\n",
        "systematic_sample_selectedcols_2 = systematic_sample_selectedcols_1.merge(periodcountperairLine, left_on=['OP_CARRIER_AIRLINE_ID','Dep_period'], right_on=['OP_CARRIER_AIRLINE_ID','Dep_period'])\n",
        "systematic_sample_selectedcols_2.drop(columns=['OP_CARRIER_AIRLINE_ID','percentage_Delay1','OP_CARRIER_timeslotwise_DELAY_COUNT','OP_CARRIER_timeslot_TOTcount'], inplace=True, axis=1)\n",
        "systematic_sample_selectedcols_2.head()"
      ],
      "execution_count": null,
      "outputs": [
        {
          "output_type": "execute_result",
          "data": {
            "text/html": [
              "<div>\n",
              "<style scoped>\n",
              "    .dataframe tbody tr th:only-of-type {\n",
              "        vertical-align: middle;\n",
              "    }\n",
              "\n",
              "    .dataframe tbody tr th {\n",
              "        vertical-align: top;\n",
              "    }\n",
              "\n",
              "    .dataframe thead th {\n",
              "        text-align: right;\n",
              "    }\n",
              "</style>\n",
              "<table border=\"1\" class=\"dataframe\">\n",
              "  <thead>\n",
              "    <tr style=\"text-align: right;\">\n",
              "      <th></th>\n",
              "      <th>YEAR</th>\n",
              "      <th>MONTH</th>\n",
              "      <th>DAY_OF_MONTH</th>\n",
              "      <th>DAY_OF_WEEK</th>\n",
              "      <th>FL_DATE</th>\n",
              "      <th>ORIGIN_AIRPORT_ID</th>\n",
              "      <th>DEST_AIRPORT_ID</th>\n",
              "      <th>TAIL_NUM</th>\n",
              "      <th>AIR_TIME</th>\n",
              "      <th>OP_CARRIER_FL_NUM</th>\n",
              "      <th>DISTANCE</th>\n",
              "      <th>DEP_DEL15</th>\n",
              "      <th>CRS_DEP_TIME</th>\n",
              "      <th>CRS_ELAPSED_TIME</th>\n",
              "      <th>TAXI_OUT</th>\n",
              "      <th>DEP_TIME</th>\n",
              "      <th>WEEK_OF_MONTH</th>\n",
              "      <th>DAY_OF_WEEK_days_end</th>\n",
              "      <th>Dep_period</th>\n",
              "      <th>DEP_TIME_timeslot_weight</th>\n",
              "      <th>ORIGIN_timeslot_weight</th>\n",
              "      <th>OP_CARRIER_airline_timeslot_weight</th>\n",
              "    </tr>\n",
              "  </thead>\n",
              "  <tbody>\n",
              "    <tr>\n",
              "      <th>0</th>\n",
              "      <td>2021</td>\n",
              "      <td>1</td>\n",
              "      <td>17</td>\n",
              "      <td>7</td>\n",
              "      <td>2021-01-17</td>\n",
              "      <td>11298</td>\n",
              "      <td>11433</td>\n",
              "      <td>N326NB</td>\n",
              "      <td>126.0</td>\n",
              "      <td>1089</td>\n",
              "      <td>986.0</td>\n",
              "      <td>0.0</td>\n",
              "      <td>1153</td>\n",
              "      <td>150.0</td>\n",
              "      <td>28.0</td>\n",
              "      <td>1151.0</td>\n",
              "      <td>3</td>\n",
              "      <td>1</td>\n",
              "      <td>Morning</td>\n",
              "      <td>7</td>\n",
              "      <td>57</td>\n",
              "      <td>42</td>\n",
              "    </tr>\n",
              "    <tr>\n",
              "      <th>1</th>\n",
              "      <td>2021</td>\n",
              "      <td>2</td>\n",
              "      <td>24</td>\n",
              "      <td>3</td>\n",
              "      <td>2021-02-24</td>\n",
              "      <td>11298</td>\n",
              "      <td>10397</td>\n",
              "      <td>N305DN</td>\n",
              "      <td>91.0</td>\n",
              "      <td>1244</td>\n",
              "      <td>731.0</td>\n",
              "      <td>1.0</td>\n",
              "      <td>1049</td>\n",
              "      <td>121.0</td>\n",
              "      <td>22.0</td>\n",
              "      <td>1115.0</td>\n",
              "      <td>5</td>\n",
              "      <td>0</td>\n",
              "      <td>Morning</td>\n",
              "      <td>7</td>\n",
              "      <td>57</td>\n",
              "      <td>42</td>\n",
              "    </tr>\n",
              "    <tr>\n",
              "      <th>2</th>\n",
              "      <td>2021</td>\n",
              "      <td>2</td>\n",
              "      <td>9</td>\n",
              "      <td>2</td>\n",
              "      <td>2021-02-09</td>\n",
              "      <td>11298</td>\n",
              "      <td>11433</td>\n",
              "      <td>N353NB</td>\n",
              "      <td>118.0</td>\n",
              "      <td>1089</td>\n",
              "      <td>986.0</td>\n",
              "      <td>0.0</td>\n",
              "      <td>1155</td>\n",
              "      <td>150.0</td>\n",
              "      <td>10.0</td>\n",
              "      <td>1147.0</td>\n",
              "      <td>3</td>\n",
              "      <td>0</td>\n",
              "      <td>Morning</td>\n",
              "      <td>7</td>\n",
              "      <td>57</td>\n",
              "      <td>42</td>\n",
              "    </tr>\n",
              "    <tr>\n",
              "      <th>3</th>\n",
              "      <td>2021</td>\n",
              "      <td>2</td>\n",
              "      <td>27</td>\n",
              "      <td>6</td>\n",
              "      <td>2021-02-27</td>\n",
              "      <td>11298</td>\n",
              "      <td>11433</td>\n",
              "      <td>N368NB</td>\n",
              "      <td>112.0</td>\n",
              "      <td>1089</td>\n",
              "      <td>986.0</td>\n",
              "      <td>0.0</td>\n",
              "      <td>1155</td>\n",
              "      <td>150.0</td>\n",
              "      <td>21.0</td>\n",
              "      <td>1159.0</td>\n",
              "      <td>5</td>\n",
              "      <td>1</td>\n",
              "      <td>Morning</td>\n",
              "      <td>7</td>\n",
              "      <td>57</td>\n",
              "      <td>42</td>\n",
              "    </tr>\n",
              "    <tr>\n",
              "      <th>4</th>\n",
              "      <td>2021</td>\n",
              "      <td>2</td>\n",
              "      <td>13</td>\n",
              "      <td>6</td>\n",
              "      <td>2021-02-13</td>\n",
              "      <td>11298</td>\n",
              "      <td>10397</td>\n",
              "      <td>N329DN</td>\n",
              "      <td>92.0</td>\n",
              "      <td>1244</td>\n",
              "      <td>731.0</td>\n",
              "      <td>1.0</td>\n",
              "      <td>1049</td>\n",
              "      <td>121.0</td>\n",
              "      <td>21.0</td>\n",
              "      <td>1157.0</td>\n",
              "      <td>3</td>\n",
              "      <td>1</td>\n",
              "      <td>Morning</td>\n",
              "      <td>7</td>\n",
              "      <td>57</td>\n",
              "      <td>42</td>\n",
              "    </tr>\n",
              "  </tbody>\n",
              "</table>\n",
              "</div>"
            ],
            "text/plain": [
              "   YEAR  MONTH  ...  ORIGIN_timeslot_weight  OP_CARRIER_airline_timeslot_weight\n",
              "0  2021      1  ...                      57                                  42\n",
              "1  2021      2  ...                      57                                  42\n",
              "2  2021      2  ...                      57                                  42\n",
              "3  2021      2  ...                      57                                  42\n",
              "4  2021      2  ...                      57                                  42\n",
              "\n",
              "[5 rows x 22 columns]"
            ]
          },
          "metadata": {},
          "execution_count": 79
        }
      ]
    },
    {
      "cell_type": "markdown",
      "metadata": {
        "id": "OGkNwoI4-zIV"
      },
      "source": [
        "### 5. Tail number-Delay weight"
      ]
    },
    {
      "cell_type": "code",
      "metadata": {
        "id": "6PT7komVXImC",
        "colab": {
          "base_uri": "https://localhost:8080/",
          "height": 556
        },
        "outputId": "b1d294c8-7974-4af8-9d6c-383e4c0a86d1"
      },
      "source": [
        "tail_dep_del = systematic_sample_selectedcols[['TAIL_NUM','DEP_DEL15']].groupby('TAIL_NUM').sum().sort_values(by='DEP_DEL15',ascending=False).reset_index()\n",
        "tail_dep_del.rename({'DEP_DEL15':'TAIL_NUM_DELAY_COUNT'},inplace=True, axis=1)\n",
        "tail_dep_del['TAIL_DELAY_weight'] = pd.qcut(tail_dep_del['TAIL_NUM_DELAY_COUNT'], 60, labels = False,duplicates='drop')\n",
        "print(tail_dep_del)\n",
        "systematic_sample_selectedcols_3 = systematic_sample_selectedcols_2.merge(tail_dep_del, left_on='TAIL_NUM', right_on='TAIL_NUM')\n",
        "systematic_sample_selectedcols_3.drop(columns=['TAIL_NUM','TAIL_NUM_DELAY_COUNT'], inplace=True, axis=1)\n",
        "systematic_sample_selectedcols_3.head()"
      ],
      "execution_count": null,
      "outputs": [
        {
          "output_type": "stream",
          "name": "stdout",
          "text": [
            "     TAIL_NUM  TAIL_NUM_DELAY_COUNT  TAIL_DELAY_weight\n",
            "0      N957LR                  20.0                 12\n",
            "1      N952LR                  19.0                 12\n",
            "2      N425LV                  18.0                 12\n",
            "3      N430WN                  18.0                 12\n",
            "4      N7737E                  18.0                 12\n",
            "...       ...                   ...                ...\n",
            "5359   N39726                   0.0                  0\n",
            "5360   N396HA                   0.0                  0\n",
            "5361   N396DA                   0.0                  0\n",
            "5362   N14735                   0.0                  0\n",
            "5363   N773UA                   0.0                  0\n",
            "\n",
            "[5364 rows x 3 columns]\n"
          ]
        },
        {
          "output_type": "execute_result",
          "data": {
            "text/html": [
              "<div>\n",
              "<style scoped>\n",
              "    .dataframe tbody tr th:only-of-type {\n",
              "        vertical-align: middle;\n",
              "    }\n",
              "\n",
              "    .dataframe tbody tr th {\n",
              "        vertical-align: top;\n",
              "    }\n",
              "\n",
              "    .dataframe thead th {\n",
              "        text-align: right;\n",
              "    }\n",
              "</style>\n",
              "<table border=\"1\" class=\"dataframe\">\n",
              "  <thead>\n",
              "    <tr style=\"text-align: right;\">\n",
              "      <th></th>\n",
              "      <th>YEAR</th>\n",
              "      <th>MONTH</th>\n",
              "      <th>DAY_OF_MONTH</th>\n",
              "      <th>DAY_OF_WEEK</th>\n",
              "      <th>FL_DATE</th>\n",
              "      <th>ORIGIN_AIRPORT_ID</th>\n",
              "      <th>DEST_AIRPORT_ID</th>\n",
              "      <th>AIR_TIME</th>\n",
              "      <th>OP_CARRIER_FL_NUM</th>\n",
              "      <th>DISTANCE</th>\n",
              "      <th>DEP_DEL15</th>\n",
              "      <th>CRS_DEP_TIME</th>\n",
              "      <th>CRS_ELAPSED_TIME</th>\n",
              "      <th>TAXI_OUT</th>\n",
              "      <th>DEP_TIME</th>\n",
              "      <th>WEEK_OF_MONTH</th>\n",
              "      <th>DAY_OF_WEEK_days_end</th>\n",
              "      <th>Dep_period</th>\n",
              "      <th>DEP_TIME_timeslot_weight</th>\n",
              "      <th>ORIGIN_timeslot_weight</th>\n",
              "      <th>OP_CARRIER_airline_timeslot_weight</th>\n",
              "      <th>TAIL_DELAY_weight</th>\n",
              "    </tr>\n",
              "  </thead>\n",
              "  <tbody>\n",
              "    <tr>\n",
              "      <th>0</th>\n",
              "      <td>2021</td>\n",
              "      <td>1</td>\n",
              "      <td>17</td>\n",
              "      <td>7</td>\n",
              "      <td>2021-01-17</td>\n",
              "      <td>11298</td>\n",
              "      <td>11433</td>\n",
              "      <td>126.0</td>\n",
              "      <td>1089</td>\n",
              "      <td>986.0</td>\n",
              "      <td>0.0</td>\n",
              "      <td>1153</td>\n",
              "      <td>150.0</td>\n",
              "      <td>28.0</td>\n",
              "      <td>1151.0</td>\n",
              "      <td>3</td>\n",
              "      <td>1</td>\n",
              "      <td>Morning</td>\n",
              "      <td>7</td>\n",
              "      <td>57</td>\n",
              "      <td>42</td>\n",
              "      <td>3</td>\n",
              "    </tr>\n",
              "    <tr>\n",
              "      <th>1</th>\n",
              "      <td>2021</td>\n",
              "      <td>4</td>\n",
              "      <td>30</td>\n",
              "      <td>5</td>\n",
              "      <td>2021-04-30</td>\n",
              "      <td>11298</td>\n",
              "      <td>13487</td>\n",
              "      <td>118.0</td>\n",
              "      <td>2025</td>\n",
              "      <td>852.0</td>\n",
              "      <td>0.0</td>\n",
              "      <td>905</td>\n",
              "      <td>146.0</td>\n",
              "      <td>14.0</td>\n",
              "      <td>857.0</td>\n",
              "      <td>5</td>\n",
              "      <td>0</td>\n",
              "      <td>Morning</td>\n",
              "      <td>3</td>\n",
              "      <td>57</td>\n",
              "      <td>42</td>\n",
              "      <td>3</td>\n",
              "    </tr>\n",
              "    <tr>\n",
              "      <th>2</th>\n",
              "      <td>2021</td>\n",
              "      <td>1</td>\n",
              "      <td>18</td>\n",
              "      <td>1</td>\n",
              "      <td>2021-01-18</td>\n",
              "      <td>10397</td>\n",
              "      <td>11624</td>\n",
              "      <td>94.0</td>\n",
              "      <td>2233</td>\n",
              "      <td>646.0</td>\n",
              "      <td>0.0</td>\n",
              "      <td>940</td>\n",
              "      <td>110.0</td>\n",
              "      <td>11.0</td>\n",
              "      <td>934.0</td>\n",
              "      <td>4</td>\n",
              "      <td>0</td>\n",
              "      <td>Morning</td>\n",
              "      <td>5</td>\n",
              "      <td>36</td>\n",
              "      <td>42</td>\n",
              "      <td>3</td>\n",
              "    </tr>\n",
              "    <tr>\n",
              "      <th>3</th>\n",
              "      <td>2021</td>\n",
              "      <td>5</td>\n",
              "      <td>26</td>\n",
              "      <td>3</td>\n",
              "      <td>2021-05-26</td>\n",
              "      <td>14869</td>\n",
              "      <td>11648</td>\n",
              "      <td>81.0</td>\n",
              "      <td>2126</td>\n",
              "      <td>531.0</td>\n",
              "      <td>0.0</td>\n",
              "      <td>1159</td>\n",
              "      <td>98.0</td>\n",
              "      <td>13.0</td>\n",
              "      <td>1152.0</td>\n",
              "      <td>5</td>\n",
              "      <td>0</td>\n",
              "      <td>Morning</td>\n",
              "      <td>7</td>\n",
              "      <td>34</td>\n",
              "      <td>42</td>\n",
              "      <td>3</td>\n",
              "    </tr>\n",
              "    <tr>\n",
              "      <th>4</th>\n",
              "      <td>2021</td>\n",
              "      <td>4</td>\n",
              "      <td>6</td>\n",
              "      <td>2</td>\n",
              "      <td>2021-04-06</td>\n",
              "      <td>14869</td>\n",
              "      <td>11884</td>\n",
              "      <td>80.0</td>\n",
              "      <td>2405</td>\n",
              "      <td>546.0</td>\n",
              "      <td>0.0</td>\n",
              "      <td>815</td>\n",
              "      <td>105.0</td>\n",
              "      <td>22.0</td>\n",
              "      <td>810.0</td>\n",
              "      <td>2</td>\n",
              "      <td>0</td>\n",
              "      <td>Morning</td>\n",
              "      <td>3</td>\n",
              "      <td>34</td>\n",
              "      <td>42</td>\n",
              "      <td>3</td>\n",
              "    </tr>\n",
              "  </tbody>\n",
              "</table>\n",
              "</div>"
            ],
            "text/plain": [
              "   YEAR  MONTH  ...  OP_CARRIER_airline_timeslot_weight  TAIL_DELAY_weight\n",
              "0  2021      1  ...                                  42                  3\n",
              "1  2021      4  ...                                  42                  3\n",
              "2  2021      1  ...                                  42                  3\n",
              "3  2021      5  ...                                  42                  3\n",
              "4  2021      4  ...                                  42                  3\n",
              "\n",
              "[5 rows x 22 columns]"
            ]
          },
          "metadata": {},
          "execution_count": 80
        }
      ]
    },
    {
      "cell_type": "markdown",
      "metadata": {
        "id": "t6CLIbwgE1sG"
      },
      "source": [
        "## Including Week_days and Week_ends column "
      ]
    },
    {
      "cell_type": "code",
      "metadata": {
        "id": "afEWcbNjE-ot",
        "colab": {
          "base_uri": "https://localhost:8080/",
          "height": 313
        },
        "outputId": "3ab18c07-e0a2-431a-f881-415c2363fd03"
      },
      "source": [
        "#'DAY_OF_WEEK' because delay could depend on traffic in specific days: classify it to weekend or working day\n",
        "def get_day_category(day_of_week):\n",
        "    if day_of_week <= 5:\n",
        "        return 0 #'working day'\n",
        "    elif day_of_week > 5:\n",
        "        return 1 #'weekend'\n",
        "systematic_sample_selectedcols_3['DAY_OF_WEEK_day_end'] = systematic_sample_selectedcols_3['DAY_OF_WEEK']\n",
        "   \n",
        "systematic_sample_selectedcols_3.DAY_OF_WEEK_day_end = systematic_sample_selectedcols_3.DAY_OF_WEEK_day_end.apply(get_day_category)\n",
        "systematic_sample_selectedcols_3.head()"
      ],
      "execution_count": null,
      "outputs": [
        {
          "output_type": "execute_result",
          "data": {
            "text/html": [
              "<div>\n",
              "<style scoped>\n",
              "    .dataframe tbody tr th:only-of-type {\n",
              "        vertical-align: middle;\n",
              "    }\n",
              "\n",
              "    .dataframe tbody tr th {\n",
              "        vertical-align: top;\n",
              "    }\n",
              "\n",
              "    .dataframe thead th {\n",
              "        text-align: right;\n",
              "    }\n",
              "</style>\n",
              "<table border=\"1\" class=\"dataframe\">\n",
              "  <thead>\n",
              "    <tr style=\"text-align: right;\">\n",
              "      <th></th>\n",
              "      <th>YEAR</th>\n",
              "      <th>MONTH</th>\n",
              "      <th>DAY_OF_MONTH</th>\n",
              "      <th>DAY_OF_WEEK</th>\n",
              "      <th>FL_DATE</th>\n",
              "      <th>ORIGIN_AIRPORT_ID</th>\n",
              "      <th>DEST_AIRPORT_ID</th>\n",
              "      <th>AIR_TIME</th>\n",
              "      <th>OP_CARRIER_FL_NUM</th>\n",
              "      <th>DISTANCE</th>\n",
              "      <th>DEP_DEL15</th>\n",
              "      <th>CRS_DEP_TIME</th>\n",
              "      <th>CRS_ELAPSED_TIME</th>\n",
              "      <th>TAXI_OUT</th>\n",
              "      <th>DEP_TIME</th>\n",
              "      <th>WEEK_OF_MONTH</th>\n",
              "      <th>DAY_OF_WEEK_days_end</th>\n",
              "      <th>Dep_period</th>\n",
              "      <th>DEP_TIME_timeslot_weight</th>\n",
              "      <th>ORIGIN_timeslot_weight</th>\n",
              "      <th>OP_CARRIER_airline_timeslot_weight</th>\n",
              "      <th>TAIL_DELAY_weight</th>\n",
              "      <th>DAY_OF_WEEK_day_end</th>\n",
              "    </tr>\n",
              "  </thead>\n",
              "  <tbody>\n",
              "    <tr>\n",
              "      <th>0</th>\n",
              "      <td>2021</td>\n",
              "      <td>1</td>\n",
              "      <td>17</td>\n",
              "      <td>7</td>\n",
              "      <td>2021-01-17</td>\n",
              "      <td>11298</td>\n",
              "      <td>11433</td>\n",
              "      <td>126.0</td>\n",
              "      <td>1089</td>\n",
              "      <td>986.0</td>\n",
              "      <td>0.0</td>\n",
              "      <td>1153</td>\n",
              "      <td>150.0</td>\n",
              "      <td>28.0</td>\n",
              "      <td>1151.0</td>\n",
              "      <td>3</td>\n",
              "      <td>1</td>\n",
              "      <td>Morning</td>\n",
              "      <td>7</td>\n",
              "      <td>57</td>\n",
              "      <td>42</td>\n",
              "      <td>3</td>\n",
              "      <td>1</td>\n",
              "    </tr>\n",
              "    <tr>\n",
              "      <th>1</th>\n",
              "      <td>2021</td>\n",
              "      <td>4</td>\n",
              "      <td>30</td>\n",
              "      <td>5</td>\n",
              "      <td>2021-04-30</td>\n",
              "      <td>11298</td>\n",
              "      <td>13487</td>\n",
              "      <td>118.0</td>\n",
              "      <td>2025</td>\n",
              "      <td>852.0</td>\n",
              "      <td>0.0</td>\n",
              "      <td>905</td>\n",
              "      <td>146.0</td>\n",
              "      <td>14.0</td>\n",
              "      <td>857.0</td>\n",
              "      <td>5</td>\n",
              "      <td>0</td>\n",
              "      <td>Morning</td>\n",
              "      <td>3</td>\n",
              "      <td>57</td>\n",
              "      <td>42</td>\n",
              "      <td>3</td>\n",
              "      <td>0</td>\n",
              "    </tr>\n",
              "    <tr>\n",
              "      <th>2</th>\n",
              "      <td>2021</td>\n",
              "      <td>1</td>\n",
              "      <td>18</td>\n",
              "      <td>1</td>\n",
              "      <td>2021-01-18</td>\n",
              "      <td>10397</td>\n",
              "      <td>11624</td>\n",
              "      <td>94.0</td>\n",
              "      <td>2233</td>\n",
              "      <td>646.0</td>\n",
              "      <td>0.0</td>\n",
              "      <td>940</td>\n",
              "      <td>110.0</td>\n",
              "      <td>11.0</td>\n",
              "      <td>934.0</td>\n",
              "      <td>4</td>\n",
              "      <td>0</td>\n",
              "      <td>Morning</td>\n",
              "      <td>5</td>\n",
              "      <td>36</td>\n",
              "      <td>42</td>\n",
              "      <td>3</td>\n",
              "      <td>0</td>\n",
              "    </tr>\n",
              "    <tr>\n",
              "      <th>3</th>\n",
              "      <td>2021</td>\n",
              "      <td>5</td>\n",
              "      <td>26</td>\n",
              "      <td>3</td>\n",
              "      <td>2021-05-26</td>\n",
              "      <td>14869</td>\n",
              "      <td>11648</td>\n",
              "      <td>81.0</td>\n",
              "      <td>2126</td>\n",
              "      <td>531.0</td>\n",
              "      <td>0.0</td>\n",
              "      <td>1159</td>\n",
              "      <td>98.0</td>\n",
              "      <td>13.0</td>\n",
              "      <td>1152.0</td>\n",
              "      <td>5</td>\n",
              "      <td>0</td>\n",
              "      <td>Morning</td>\n",
              "      <td>7</td>\n",
              "      <td>34</td>\n",
              "      <td>42</td>\n",
              "      <td>3</td>\n",
              "      <td>0</td>\n",
              "    </tr>\n",
              "    <tr>\n",
              "      <th>4</th>\n",
              "      <td>2021</td>\n",
              "      <td>4</td>\n",
              "      <td>6</td>\n",
              "      <td>2</td>\n",
              "      <td>2021-04-06</td>\n",
              "      <td>14869</td>\n",
              "      <td>11884</td>\n",
              "      <td>80.0</td>\n",
              "      <td>2405</td>\n",
              "      <td>546.0</td>\n",
              "      <td>0.0</td>\n",
              "      <td>815</td>\n",
              "      <td>105.0</td>\n",
              "      <td>22.0</td>\n",
              "      <td>810.0</td>\n",
              "      <td>2</td>\n",
              "      <td>0</td>\n",
              "      <td>Morning</td>\n",
              "      <td>3</td>\n",
              "      <td>34</td>\n",
              "      <td>42</td>\n",
              "      <td>3</td>\n",
              "      <td>0</td>\n",
              "    </tr>\n",
              "  </tbody>\n",
              "</table>\n",
              "</div>"
            ],
            "text/plain": [
              "   YEAR  MONTH  ...  TAIL_DELAY_weight  DAY_OF_WEEK_day_end\n",
              "0  2021      1  ...                  3                    1\n",
              "1  2021      4  ...                  3                    0\n",
              "2  2021      1  ...                  3                    0\n",
              "3  2021      5  ...                  3                    0\n",
              "4  2021      4  ...                  3                    0\n",
              "\n",
              "[5 rows x 23 columns]"
            ]
          },
          "metadata": {},
          "execution_count": 81
        }
      ]
    },
    {
      "cell_type": "markdown",
      "metadata": {
        "id": "Jpyqfnw0-4mX"
      },
      "source": [
        "## 6. Days of Week - Delay weight\n"
      ]
    },
    {
      "cell_type": "code",
      "metadata": {
        "colab": {
          "base_uri": "https://localhost:8080/",
          "height": 438
        },
        "id": "Y4U81UBrQPO5",
        "outputId": "49ab5d67-7f9c-4049-8821-62ba74c1c0fd"
      },
      "source": [
        "cols=['DAY_OF_WEEK','TOTALFLIGHT_WEEKDAY','DEPDELAY_WEEKDAY','WEEK_DEP_DELAY_PERCENTAGE']\n",
        "lst = []\n",
        "for week in range(1,8):\n",
        "  WEEK=week\n",
        "  weekflighttot=systematic_sample_selectedcols['DAY_OF_WEEK'][systematic_sample_selectedcols.DAY_OF_WEEK==week].count()\n",
        "  week_all=systematic_sample_selectedcols[systematic_sample_selectedcols['DAY_OF_WEEK']==week]\n",
        "  weekdepdel=week_all['DEP_DEL15'][week_all['DEP_DEL15']==1].sum()\n",
        "  percentweekdepdel=(weekdepdel/weekflighttot)*100\n",
        "  lst.append([WEEK,weekflighttot,weekdepdel,percentweekdepdel])\n",
        "WEEKWISE_DEP_DELAY_TABLE = pd.DataFrame(lst, columns=cols)\n",
        "WEEKWISE_DEP_DELAY_TABLE['WEEK_DELAY_weight'] = pd.qcut(WEEKWISE_DEP_DELAY_TABLE['WEEK_DEP_DELAY_PERCENTAGE'], 7 , labels = False,duplicates='drop')\n",
        "print(WEEKWISE_DEP_DELAY_TABLE)\n",
        "systematic_sample_selectedcols_4 = systematic_sample_selectedcols_3.merge(WEEKWISE_DEP_DELAY_TABLE, left_on='DAY_OF_WEEK', right_on='DAY_OF_WEEK')\n",
        "systematic_sample_selectedcols_4.drop(columns=['TOTALFLIGHT_WEEKDAY'\t,'DEPDELAY_WEEKDAY',\t'WEEK_DEP_DELAY_PERCENTAGE','DAY_OF_WEEK'], inplace=True, axis=1)\n",
        "systematic_sample_selectedcols_4.head(4)"
      ],
      "execution_count": null,
      "outputs": [
        {
          "output_type": "stream",
          "name": "stdout",
          "text": [
            "   DAY_OF_WEEK  ...  WEEK_DELAY_weight\n",
            "0            1  ...                  5\n",
            "1            2  ...                  1\n",
            "2            3  ...                  0\n",
            "3            4  ...                  2\n",
            "4            5  ...                  3\n",
            "5            6  ...                  4\n",
            "6            7  ...                  6\n",
            "\n",
            "[7 rows x 5 columns]\n"
          ]
        },
        {
          "output_type": "execute_result",
          "data": {
            "text/html": [
              "<div>\n",
              "<style scoped>\n",
              "    .dataframe tbody tr th:only-of-type {\n",
              "        vertical-align: middle;\n",
              "    }\n",
              "\n",
              "    .dataframe tbody tr th {\n",
              "        vertical-align: top;\n",
              "    }\n",
              "\n",
              "    .dataframe thead th {\n",
              "        text-align: right;\n",
              "    }\n",
              "</style>\n",
              "<table border=\"1\" class=\"dataframe\">\n",
              "  <thead>\n",
              "    <tr style=\"text-align: right;\">\n",
              "      <th></th>\n",
              "      <th>YEAR</th>\n",
              "      <th>MONTH</th>\n",
              "      <th>DAY_OF_MONTH</th>\n",
              "      <th>FL_DATE</th>\n",
              "      <th>ORIGIN_AIRPORT_ID</th>\n",
              "      <th>DEST_AIRPORT_ID</th>\n",
              "      <th>AIR_TIME</th>\n",
              "      <th>OP_CARRIER_FL_NUM</th>\n",
              "      <th>DISTANCE</th>\n",
              "      <th>DEP_DEL15</th>\n",
              "      <th>CRS_DEP_TIME</th>\n",
              "      <th>CRS_ELAPSED_TIME</th>\n",
              "      <th>TAXI_OUT</th>\n",
              "      <th>DEP_TIME</th>\n",
              "      <th>WEEK_OF_MONTH</th>\n",
              "      <th>DAY_OF_WEEK_days_end</th>\n",
              "      <th>Dep_period</th>\n",
              "      <th>DEP_TIME_timeslot_weight</th>\n",
              "      <th>ORIGIN_timeslot_weight</th>\n",
              "      <th>OP_CARRIER_airline_timeslot_weight</th>\n",
              "      <th>TAIL_DELAY_weight</th>\n",
              "      <th>DAY_OF_WEEK_day_end</th>\n",
              "      <th>WEEK_DELAY_weight</th>\n",
              "    </tr>\n",
              "  </thead>\n",
              "  <tbody>\n",
              "    <tr>\n",
              "      <th>0</th>\n",
              "      <td>2021</td>\n",
              "      <td>1</td>\n",
              "      <td>17</td>\n",
              "      <td>2021-01-17</td>\n",
              "      <td>11298</td>\n",
              "      <td>11433</td>\n",
              "      <td>126.0</td>\n",
              "      <td>1089</td>\n",
              "      <td>986.0</td>\n",
              "      <td>0.0</td>\n",
              "      <td>1153</td>\n",
              "      <td>150.0</td>\n",
              "      <td>28.0</td>\n",
              "      <td>1151.0</td>\n",
              "      <td>3</td>\n",
              "      <td>1</td>\n",
              "      <td>Morning</td>\n",
              "      <td>7</td>\n",
              "      <td>57</td>\n",
              "      <td>42</td>\n",
              "      <td>3</td>\n",
              "      <td>1</td>\n",
              "      <td>6</td>\n",
              "    </tr>\n",
              "    <tr>\n",
              "      <th>1</th>\n",
              "      <td>2021</td>\n",
              "      <td>2</td>\n",
              "      <td>28</td>\n",
              "      <td>2021-02-28</td>\n",
              "      <td>10721</td>\n",
              "      <td>13487</td>\n",
              "      <td>200.0</td>\n",
              "      <td>963</td>\n",
              "      <td>1124.0</td>\n",
              "      <td>0.0</td>\n",
              "      <td>720</td>\n",
              "      <td>205.0</td>\n",
              "      <td>13.0</td>\n",
              "      <td>715.0</td>\n",
              "      <td>5</td>\n",
              "      <td>1</td>\n",
              "      <td>Morning</td>\n",
              "      <td>2</td>\n",
              "      <td>27</td>\n",
              "      <td>42</td>\n",
              "      <td>3</td>\n",
              "      <td>1</td>\n",
              "      <td>6</td>\n",
              "    </tr>\n",
              "    <tr>\n",
              "      <th>2</th>\n",
              "      <td>2021</td>\n",
              "      <td>5</td>\n",
              "      <td>9</td>\n",
              "      <td>2021-05-09</td>\n",
              "      <td>14869</td>\n",
              "      <td>12954</td>\n",
              "      <td>87.0</td>\n",
              "      <td>833</td>\n",
              "      <td>588.0</td>\n",
              "      <td>1.0</td>\n",
              "      <td>1133</td>\n",
              "      <td>115.0</td>\n",
              "      <td>10.0</td>\n",
              "      <td>1313.0</td>\n",
              "      <td>2</td>\n",
              "      <td>1</td>\n",
              "      <td>Afternoon</td>\n",
              "      <td>8</td>\n",
              "      <td>77</td>\n",
              "      <td>64</td>\n",
              "      <td>3</td>\n",
              "      <td>1</td>\n",
              "      <td>6</td>\n",
              "    </tr>\n",
              "    <tr>\n",
              "      <th>3</th>\n",
              "      <td>2021</td>\n",
              "      <td>1</td>\n",
              "      <td>31</td>\n",
              "      <td>2021-01-31</td>\n",
              "      <td>14107</td>\n",
              "      <td>14747</td>\n",
              "      <td>161.0</td>\n",
              "      <td>1547</td>\n",
              "      <td>1107.0</td>\n",
              "      <td>0.0</td>\n",
              "      <td>1615</td>\n",
              "      <td>193.0</td>\n",
              "      <td>25.0</td>\n",
              "      <td>1608.0</td>\n",
              "      <td>5</td>\n",
              "      <td>1</td>\n",
              "      <td>Afternoon</td>\n",
              "      <td>11</td>\n",
              "      <td>77</td>\n",
              "      <td>64</td>\n",
              "      <td>3</td>\n",
              "      <td>1</td>\n",
              "      <td>6</td>\n",
              "    </tr>\n",
              "  </tbody>\n",
              "</table>\n",
              "</div>"
            ],
            "text/plain": [
              "   YEAR  MONTH  ...  DAY_OF_WEEK_day_end WEEK_DELAY_weight\n",
              "0  2021      1  ...                    1                 6\n",
              "1  2021      2  ...                    1                 6\n",
              "2  2021      5  ...                    1                 6\n",
              "3  2021      1  ...                    1                 6\n",
              "\n",
              "[4 rows x 23 columns]"
            ]
          },
          "metadata": {},
          "execution_count": 82
        }
      ]
    },
    {
      "cell_type": "markdown",
      "metadata": {
        "id": "RyrA1QHO_H6E"
      },
      "source": [
        "## 7. Day of month-Delay weight"
      ]
    },
    {
      "cell_type": "code",
      "metadata": {
        "colab": {
          "base_uri": "https://localhost:8080/",
          "height": 417
        },
        "id": "mrIjEin9V1R9",
        "outputId": "7cff518a-a7a4-4fc5-d4e8-27aa5fbb3580"
      },
      "source": [
        "cols=['DAY_OF_MONTH','TOTAL_FLIGHTS','DAY_OF_MONTH_DELAYED_FLIGHTS','%DAYMONTH_DEP_DELAYED']\n",
        "lst = []\n",
        "for daymonth in range(1,32):\n",
        "  MONTHday=daymonth\n",
        "  monthdayflighttot=systematic_sample_selectedcols['DAY_OF_MONTH'][systematic_sample_selectedcols.DAY_OF_MONTH==daymonth].count()\n",
        "  monthday_all=systematic_sample_selectedcols[systematic_sample_selectedcols['DAY_OF_MONTH']==daymonth]\n",
        "  monthdaydepdel=monthday_all['DEP_DEL15'][monthday_all['DEP_DEL15']==1].sum()\n",
        "  percentmonthdaydepdel=(monthdaydepdel/monthdayflighttot)*100\n",
        "  lst.append([MONTHday,monthdayflighttot,monthdaydepdel,percentmonthdaydepdel])\n",
        "MONTHDAYWISE_DEP_DELAY_TABLE = pd.DataFrame(lst, columns=cols)\n",
        "MONTHDAYWISE_DEP_DELAY_TABLE['DAY_OF_MONTH_DELAY_weight'] = pd.qcut(MONTHDAYWISE_DEP_DELAY_TABLE['%DAYMONTH_DEP_DELAYED'], 31 , labels = False,duplicates='drop')\n",
        "print(MONTHDAYWISE_DEP_DELAY_TABLE.head(3))\n",
        "systematic_sample_selectedcols_5 = systematic_sample_selectedcols_4.merge(MONTHDAYWISE_DEP_DELAY_TABLE, left_on='DAY_OF_MONTH', right_on='DAY_OF_MONTH')\n",
        "systematic_sample_selectedcols_5.drop(columns=['TOTAL_FLIGHTS','DAY_OF_MONTH_DELAYED_FLIGHTS','%DAYMONTH_DEP_DELAYED','DAY_OF_MONTH'], inplace=True, axis=1)\n",
        "systematic_sample_selectedcols_5.head()"
      ],
      "execution_count": null,
      "outputs": [
        {
          "output_type": "stream",
          "name": "stdout",
          "text": [
            "   DAY_OF_MONTH  ...  DAY_OF_MONTH_DELAY_weight\n",
            "0             1  ...                         22\n",
            "1             2  ...                         10\n",
            "2             3  ...                         26\n",
            "\n",
            "[3 rows x 5 columns]\n"
          ]
        },
        {
          "output_type": "execute_result",
          "data": {
            "text/html": [
              "<div>\n",
              "<style scoped>\n",
              "    .dataframe tbody tr th:only-of-type {\n",
              "        vertical-align: middle;\n",
              "    }\n",
              "\n",
              "    .dataframe tbody tr th {\n",
              "        vertical-align: top;\n",
              "    }\n",
              "\n",
              "    .dataframe thead th {\n",
              "        text-align: right;\n",
              "    }\n",
              "</style>\n",
              "<table border=\"1\" class=\"dataframe\">\n",
              "  <thead>\n",
              "    <tr style=\"text-align: right;\">\n",
              "      <th></th>\n",
              "      <th>YEAR</th>\n",
              "      <th>MONTH</th>\n",
              "      <th>FL_DATE</th>\n",
              "      <th>ORIGIN_AIRPORT_ID</th>\n",
              "      <th>DEST_AIRPORT_ID</th>\n",
              "      <th>AIR_TIME</th>\n",
              "      <th>OP_CARRIER_FL_NUM</th>\n",
              "      <th>DISTANCE</th>\n",
              "      <th>DEP_DEL15</th>\n",
              "      <th>CRS_DEP_TIME</th>\n",
              "      <th>CRS_ELAPSED_TIME</th>\n",
              "      <th>TAXI_OUT</th>\n",
              "      <th>DEP_TIME</th>\n",
              "      <th>WEEK_OF_MONTH</th>\n",
              "      <th>DAY_OF_WEEK_days_end</th>\n",
              "      <th>Dep_period</th>\n",
              "      <th>DEP_TIME_timeslot_weight</th>\n",
              "      <th>ORIGIN_timeslot_weight</th>\n",
              "      <th>OP_CARRIER_airline_timeslot_weight</th>\n",
              "      <th>TAIL_DELAY_weight</th>\n",
              "      <th>DAY_OF_WEEK_day_end</th>\n",
              "      <th>WEEK_DELAY_weight</th>\n",
              "      <th>DAY_OF_MONTH_DELAY_weight</th>\n",
              "    </tr>\n",
              "  </thead>\n",
              "  <tbody>\n",
              "    <tr>\n",
              "      <th>0</th>\n",
              "      <td>2021</td>\n",
              "      <td>1</td>\n",
              "      <td>2021-01-17</td>\n",
              "      <td>11298</td>\n",
              "      <td>11433</td>\n",
              "      <td>126.0</td>\n",
              "      <td>1089</td>\n",
              "      <td>986.0</td>\n",
              "      <td>0.0</td>\n",
              "      <td>1153</td>\n",
              "      <td>150.0</td>\n",
              "      <td>28.0</td>\n",
              "      <td>1151.0</td>\n",
              "      <td>3</td>\n",
              "      <td>1</td>\n",
              "      <td>Morning</td>\n",
              "      <td>7</td>\n",
              "      <td>57</td>\n",
              "      <td>42</td>\n",
              "      <td>3</td>\n",
              "      <td>1</td>\n",
              "      <td>6</td>\n",
              "      <td>23</td>\n",
              "    </tr>\n",
              "    <tr>\n",
              "      <th>1</th>\n",
              "      <td>2021</td>\n",
              "      <td>1</td>\n",
              "      <td>2021-01-17</td>\n",
              "      <td>11298</td>\n",
              "      <td>10397</td>\n",
              "      <td>85.0</td>\n",
              "      <td>1244</td>\n",
              "      <td>731.0</td>\n",
              "      <td>0.0</td>\n",
              "      <td>1049</td>\n",
              "      <td>121.0</td>\n",
              "      <td>16.0</td>\n",
              "      <td>1044.0</td>\n",
              "      <td>3</td>\n",
              "      <td>1</td>\n",
              "      <td>Morning</td>\n",
              "      <td>4</td>\n",
              "      <td>57</td>\n",
              "      <td>42</td>\n",
              "      <td>3</td>\n",
              "      <td>1</td>\n",
              "      <td>6</td>\n",
              "      <td>23</td>\n",
              "    </tr>\n",
              "    <tr>\n",
              "      <th>2</th>\n",
              "      <td>2021</td>\n",
              "      <td>1</td>\n",
              "      <td>2021-01-17</td>\n",
              "      <td>14679</td>\n",
              "      <td>11433</td>\n",
              "      <td>254.0</td>\n",
              "      <td>799</td>\n",
              "      <td>1956.0</td>\n",
              "      <td>0.0</td>\n",
              "      <td>720</td>\n",
              "      <td>256.0</td>\n",
              "      <td>12.0</td>\n",
              "      <td>704.0</td>\n",
              "      <td>3</td>\n",
              "      <td>1</td>\n",
              "      <td>Morning</td>\n",
              "      <td>2</td>\n",
              "      <td>28</td>\n",
              "      <td>42</td>\n",
              "      <td>4</td>\n",
              "      <td>1</td>\n",
              "      <td>6</td>\n",
              "      <td>23</td>\n",
              "    </tr>\n",
              "    <tr>\n",
              "      <th>3</th>\n",
              "      <td>2021</td>\n",
              "      <td>1</td>\n",
              "      <td>2021-01-17</td>\n",
              "      <td>13930</td>\n",
              "      <td>14869</td>\n",
              "      <td>181.0</td>\n",
              "      <td>1305</td>\n",
              "      <td>1250.0</td>\n",
              "      <td>0.0</td>\n",
              "      <td>1700</td>\n",
              "      <td>215.0</td>\n",
              "      <td>32.0</td>\n",
              "      <td>1657.0</td>\n",
              "      <td>3</td>\n",
              "      <td>1</td>\n",
              "      <td>Afternoon</td>\n",
              "      <td>11</td>\n",
              "      <td>47</td>\n",
              "      <td>64</td>\n",
              "      <td>2</td>\n",
              "      <td>1</td>\n",
              "      <td>6</td>\n",
              "      <td>23</td>\n",
              "    </tr>\n",
              "    <tr>\n",
              "      <th>4</th>\n",
              "      <td>2021</td>\n",
              "      <td>1</td>\n",
              "      <td>2021-01-17</td>\n",
              "      <td>14869</td>\n",
              "      <td>14771</td>\n",
              "      <td>99.0</td>\n",
              "      <td>1263</td>\n",
              "      <td>599.0</td>\n",
              "      <td>0.0</td>\n",
              "      <td>2105</td>\n",
              "      <td>123.0</td>\n",
              "      <td>11.0</td>\n",
              "      <td>2058.0</td>\n",
              "      <td>3</td>\n",
              "      <td>1</td>\n",
              "      <td>Night</td>\n",
              "      <td>14</td>\n",
              "      <td>30</td>\n",
              "      <td>118</td>\n",
              "      <td>2</td>\n",
              "      <td>1</td>\n",
              "      <td>6</td>\n",
              "      <td>23</td>\n",
              "    </tr>\n",
              "  </tbody>\n",
              "</table>\n",
              "</div>"
            ],
            "text/plain": [
              "   YEAR  MONTH  ... WEEK_DELAY_weight  DAY_OF_MONTH_DELAY_weight\n",
              "0  2021      1  ...                 6                         23\n",
              "1  2021      1  ...                 6                         23\n",
              "2  2021      1  ...                 6                         23\n",
              "3  2021      1  ...                 6                         23\n",
              "4  2021      1  ...                 6                         23\n",
              "\n",
              "[5 rows x 23 columns]"
            ]
          },
          "metadata": {},
          "execution_count": 83
        }
      ]
    },
    {
      "cell_type": "markdown",
      "metadata": {
        "id": "FNm75lk8_KKs"
      },
      "source": [
        "## 8. Month - Delay Weight"
      ]
    },
    {
      "cell_type": "code",
      "metadata": {
        "id": "dCUW8Zg_WKat",
        "scrolled": true,
        "colab": {
          "base_uri": "https://localhost:8080/",
          "height": 452
        },
        "outputId": "feb6fef1-31f4-4478-e447-9ce48caf5961"
      },
      "source": [
        "cols=['MONTH','TOTAL_FLIGHTS','MONTH_DELAYED_FLIGHTS','%_DEP_DELAYED']\n",
        "lst = []\n",
        "for monthvar in range(1,6):\n",
        "  MONTH=monthvar\n",
        "  monthflighttot=systematic_sample_selectedcols['MONTH'][systematic_sample_selectedcols.MONTH==monthvar].count()\n",
        "  month_all=systematic_sample_selectedcols[systematic_sample_selectedcols['MONTH']==monthvar]\n",
        "  monthdepdel=month_all['DEP_DEL15'][month_all['DEP_DEL15']==1].sum()\n",
        "  percentmonthdepdel=(monthdepdel/monthflighttot)*100\n",
        "  lst.append([MONTH,monthflighttot,monthdepdel,percentmonthdepdel])\n",
        "MONTHWISE_DEP_DELAY_TABLE = pd.DataFrame(lst, columns=cols)\n",
        "MONTHWISE_DEP_DELAY_TABLE['MONTH_DELAY_weight'] = pd.qcut(MONTHWISE_DEP_DELAY_TABLE['%_DEP_DELAYED'], 5, labels = False)\n",
        "print(MONTHWISE_DEP_DELAY_TABLE)\n",
        "systematic_sample_selectedcols_6 = systematic_sample_selectedcols_5.merge(MONTHWISE_DEP_DELAY_TABLE, left_on='MONTH', right_on='MONTH')\n",
        "systematic_sample_selectedcols_6.drop(columns=['TOTAL_FLIGHTS','MONTH_DELAYED_FLIGHTS','%_DEP_DELAYED','MONTH'], inplace=True, axis=1)\n",
        "systematic_sample_selectedcols_6.head()"
      ],
      "execution_count": null,
      "outputs": [
        {
          "output_type": "stream",
          "name": "stdout",
          "text": [
            "   MONTH  TOTAL_FLIGHTS  ...  %_DEP_DELAYED  MONTH_DELAY_weight\n",
            "0      1          37473  ...            8.5                   0\n",
            "1      2          32931  ...           11.6                   3\n",
            "2      3          46034  ...           10.1                   1\n",
            "3      4          47059  ...           10.6                   2\n",
            "4      5          51632  ...           13.6                   4\n",
            "\n",
            "[5 rows x 5 columns]\n"
          ]
        },
        {
          "output_type": "execute_result",
          "data": {
            "text/html": [
              "<div>\n",
              "<style scoped>\n",
              "    .dataframe tbody tr th:only-of-type {\n",
              "        vertical-align: middle;\n",
              "    }\n",
              "\n",
              "    .dataframe tbody tr th {\n",
              "        vertical-align: top;\n",
              "    }\n",
              "\n",
              "    .dataframe thead th {\n",
              "        text-align: right;\n",
              "    }\n",
              "</style>\n",
              "<table border=\"1\" class=\"dataframe\">\n",
              "  <thead>\n",
              "    <tr style=\"text-align: right;\">\n",
              "      <th></th>\n",
              "      <th>YEAR</th>\n",
              "      <th>FL_DATE</th>\n",
              "      <th>ORIGIN_AIRPORT_ID</th>\n",
              "      <th>DEST_AIRPORT_ID</th>\n",
              "      <th>AIR_TIME</th>\n",
              "      <th>OP_CARRIER_FL_NUM</th>\n",
              "      <th>DISTANCE</th>\n",
              "      <th>DEP_DEL15</th>\n",
              "      <th>CRS_DEP_TIME</th>\n",
              "      <th>CRS_ELAPSED_TIME</th>\n",
              "      <th>TAXI_OUT</th>\n",
              "      <th>DEP_TIME</th>\n",
              "      <th>WEEK_OF_MONTH</th>\n",
              "      <th>DAY_OF_WEEK_days_end</th>\n",
              "      <th>Dep_period</th>\n",
              "      <th>DEP_TIME_timeslot_weight</th>\n",
              "      <th>ORIGIN_timeslot_weight</th>\n",
              "      <th>OP_CARRIER_airline_timeslot_weight</th>\n",
              "      <th>TAIL_DELAY_weight</th>\n",
              "      <th>DAY_OF_WEEK_day_end</th>\n",
              "      <th>WEEK_DELAY_weight</th>\n",
              "      <th>DAY_OF_MONTH_DELAY_weight</th>\n",
              "      <th>MONTH_DELAY_weight</th>\n",
              "    </tr>\n",
              "  </thead>\n",
              "  <tbody>\n",
              "    <tr>\n",
              "      <th>0</th>\n",
              "      <td>2021</td>\n",
              "      <td>2021-01-17</td>\n",
              "      <td>11298</td>\n",
              "      <td>11433</td>\n",
              "      <td>126.0</td>\n",
              "      <td>1089</td>\n",
              "      <td>986.0</td>\n",
              "      <td>0.0</td>\n",
              "      <td>1153</td>\n",
              "      <td>150.0</td>\n",
              "      <td>28.0</td>\n",
              "      <td>1151.0</td>\n",
              "      <td>3</td>\n",
              "      <td>1</td>\n",
              "      <td>Morning</td>\n",
              "      <td>7</td>\n",
              "      <td>57</td>\n",
              "      <td>42</td>\n",
              "      <td>3</td>\n",
              "      <td>1</td>\n",
              "      <td>6</td>\n",
              "      <td>23</td>\n",
              "      <td>0</td>\n",
              "    </tr>\n",
              "    <tr>\n",
              "      <th>1</th>\n",
              "      <td>2021</td>\n",
              "      <td>2021-01-17</td>\n",
              "      <td>11298</td>\n",
              "      <td>10397</td>\n",
              "      <td>85.0</td>\n",
              "      <td>1244</td>\n",
              "      <td>731.0</td>\n",
              "      <td>0.0</td>\n",
              "      <td>1049</td>\n",
              "      <td>121.0</td>\n",
              "      <td>16.0</td>\n",
              "      <td>1044.0</td>\n",
              "      <td>3</td>\n",
              "      <td>1</td>\n",
              "      <td>Morning</td>\n",
              "      <td>4</td>\n",
              "      <td>57</td>\n",
              "      <td>42</td>\n",
              "      <td>3</td>\n",
              "      <td>1</td>\n",
              "      <td>6</td>\n",
              "      <td>23</td>\n",
              "      <td>0</td>\n",
              "    </tr>\n",
              "    <tr>\n",
              "      <th>2</th>\n",
              "      <td>2021</td>\n",
              "      <td>2021-01-17</td>\n",
              "      <td>14679</td>\n",
              "      <td>11433</td>\n",
              "      <td>254.0</td>\n",
              "      <td>799</td>\n",
              "      <td>1956.0</td>\n",
              "      <td>0.0</td>\n",
              "      <td>720</td>\n",
              "      <td>256.0</td>\n",
              "      <td>12.0</td>\n",
              "      <td>704.0</td>\n",
              "      <td>3</td>\n",
              "      <td>1</td>\n",
              "      <td>Morning</td>\n",
              "      <td>2</td>\n",
              "      <td>28</td>\n",
              "      <td>42</td>\n",
              "      <td>4</td>\n",
              "      <td>1</td>\n",
              "      <td>6</td>\n",
              "      <td>23</td>\n",
              "      <td>0</td>\n",
              "    </tr>\n",
              "    <tr>\n",
              "      <th>3</th>\n",
              "      <td>2021</td>\n",
              "      <td>2021-01-17</td>\n",
              "      <td>13930</td>\n",
              "      <td>14869</td>\n",
              "      <td>181.0</td>\n",
              "      <td>1305</td>\n",
              "      <td>1250.0</td>\n",
              "      <td>0.0</td>\n",
              "      <td>1700</td>\n",
              "      <td>215.0</td>\n",
              "      <td>32.0</td>\n",
              "      <td>1657.0</td>\n",
              "      <td>3</td>\n",
              "      <td>1</td>\n",
              "      <td>Afternoon</td>\n",
              "      <td>11</td>\n",
              "      <td>47</td>\n",
              "      <td>64</td>\n",
              "      <td>2</td>\n",
              "      <td>1</td>\n",
              "      <td>6</td>\n",
              "      <td>23</td>\n",
              "      <td>0</td>\n",
              "    </tr>\n",
              "    <tr>\n",
              "      <th>4</th>\n",
              "      <td>2021</td>\n",
              "      <td>2021-01-17</td>\n",
              "      <td>14869</td>\n",
              "      <td>14771</td>\n",
              "      <td>99.0</td>\n",
              "      <td>1263</td>\n",
              "      <td>599.0</td>\n",
              "      <td>0.0</td>\n",
              "      <td>2105</td>\n",
              "      <td>123.0</td>\n",
              "      <td>11.0</td>\n",
              "      <td>2058.0</td>\n",
              "      <td>3</td>\n",
              "      <td>1</td>\n",
              "      <td>Night</td>\n",
              "      <td>14</td>\n",
              "      <td>30</td>\n",
              "      <td>118</td>\n",
              "      <td>2</td>\n",
              "      <td>1</td>\n",
              "      <td>6</td>\n",
              "      <td>23</td>\n",
              "      <td>0</td>\n",
              "    </tr>\n",
              "  </tbody>\n",
              "</table>\n",
              "</div>"
            ],
            "text/plain": [
              "   YEAR    FL_DATE  ...  DAY_OF_MONTH_DELAY_weight  MONTH_DELAY_weight\n",
              "0  2021 2021-01-17  ...                         23                   0\n",
              "1  2021 2021-01-17  ...                         23                   0\n",
              "2  2021 2021-01-17  ...                         23                   0\n",
              "3  2021 2021-01-17  ...                         23                   0\n",
              "4  2021 2021-01-17  ...                         23                   0\n",
              "\n",
              "[5 rows x 23 columns]"
            ]
          },
          "metadata": {},
          "execution_count": 84
        }
      ]
    },
    {
      "cell_type": "markdown",
      "metadata": {
        "id": "ZKnxNSOKeIR6"
      },
      "source": [
        "## 8. OP_CARRIER_FL_NUM -  Taxi out delay weights"
      ]
    },
    {
      "cell_type": "code",
      "metadata": {
        "id": "SJ_fYFlbNXJF",
        "colab": {
          "base_uri": "https://localhost:8080/",
          "height": 458
        },
        "outputId": "e50f18cb-58e2-470c-a84c-11156e804705"
      },
      "source": [
        "taxioutmean = systematic_sample_selectedcols[['OP_CARRIER_FL_NUM','TAXI_OUT']].groupby(['OP_CARRIER_FL_NUM']).mean(['TAXI_OUT']).sort_values(by='TAXI_OUT',ascending=False).reset_index()\n",
        "taxioutmean.rename({'TAXI_OUT':'TAXI_OUT_mean'},inplace=True, axis=1)\n",
        "taxioutmean['FL_NUM_Taxiout_weight'] = pd.qcut(taxioutmean['TAXI_OUT_mean'], 200, labels = False,duplicates='drop')\n",
        "print(taxioutmean)\n",
        "systematic_sample_selectedcols_7 = systematic_sample_selectedcols_6.merge(taxioutmean, left_on='OP_CARRIER_FL_NUM', right_on='OP_CARRIER_FL_NUM')\n",
        "systematic_sample_selectedcols_7.drop(columns=['TAXI_OUT','TAXI_OUT_mean','OP_CARRIER_FL_NUM','DEP_TIME'], inplace=True, axis=1)\n",
        "systematic_sample_selectedcols_7.head(3)"
      ],
      "execution_count": null,
      "outputs": [
        {
          "output_type": "stream",
          "name": "stdout",
          "text": [
            "      OP_CARRIER_FL_NUM  TAXI_OUT_mean  FL_NUM_Taxiout_weight\n",
            "0                  9645           74.0                    198\n",
            "1                  7411           60.0                    198\n",
            "2                  6822           54.0                    198\n",
            "3                  7026           48.0                    198\n",
            "4                  6379           47.0                    198\n",
            "...                 ...            ...                    ...\n",
            "6446               6961            6.0                      0\n",
            "6447               6926            6.0                      0\n",
            "6448               6666            6.0                      0\n",
            "6449               6603            6.0                      0\n",
            "6450               6947            5.0                      0\n",
            "\n",
            "[6451 rows x 3 columns]\n"
          ]
        },
        {
          "output_type": "execute_result",
          "data": {
            "text/html": [
              "<div>\n",
              "<style scoped>\n",
              "    .dataframe tbody tr th:only-of-type {\n",
              "        vertical-align: middle;\n",
              "    }\n",
              "\n",
              "    .dataframe tbody tr th {\n",
              "        vertical-align: top;\n",
              "    }\n",
              "\n",
              "    .dataframe thead th {\n",
              "        text-align: right;\n",
              "    }\n",
              "</style>\n",
              "<table border=\"1\" class=\"dataframe\">\n",
              "  <thead>\n",
              "    <tr style=\"text-align: right;\">\n",
              "      <th></th>\n",
              "      <th>YEAR</th>\n",
              "      <th>FL_DATE</th>\n",
              "      <th>ORIGIN_AIRPORT_ID</th>\n",
              "      <th>DEST_AIRPORT_ID</th>\n",
              "      <th>AIR_TIME</th>\n",
              "      <th>DISTANCE</th>\n",
              "      <th>DEP_DEL15</th>\n",
              "      <th>CRS_DEP_TIME</th>\n",
              "      <th>CRS_ELAPSED_TIME</th>\n",
              "      <th>WEEK_OF_MONTH</th>\n",
              "      <th>DAY_OF_WEEK_days_end</th>\n",
              "      <th>Dep_period</th>\n",
              "      <th>DEP_TIME_timeslot_weight</th>\n",
              "      <th>ORIGIN_timeslot_weight</th>\n",
              "      <th>OP_CARRIER_airline_timeslot_weight</th>\n",
              "      <th>TAIL_DELAY_weight</th>\n",
              "      <th>DAY_OF_WEEK_day_end</th>\n",
              "      <th>WEEK_DELAY_weight</th>\n",
              "      <th>DAY_OF_MONTH_DELAY_weight</th>\n",
              "      <th>MONTH_DELAY_weight</th>\n",
              "      <th>FL_NUM_Taxiout_weight</th>\n",
              "    </tr>\n",
              "  </thead>\n",
              "  <tbody>\n",
              "    <tr>\n",
              "      <th>0</th>\n",
              "      <td>2021</td>\n",
              "      <td>2021-01-17</td>\n",
              "      <td>11298</td>\n",
              "      <td>11433</td>\n",
              "      <td>126.0</td>\n",
              "      <td>986.0</td>\n",
              "      <td>0.0</td>\n",
              "      <td>1153</td>\n",
              "      <td>150.0</td>\n",
              "      <td>3</td>\n",
              "      <td>1</td>\n",
              "      <td>Morning</td>\n",
              "      <td>7</td>\n",
              "      <td>57</td>\n",
              "      <td>42</td>\n",
              "      <td>3</td>\n",
              "      <td>1</td>\n",
              "      <td>6</td>\n",
              "      <td>23</td>\n",
              "      <td>0</td>\n",
              "      <td>63</td>\n",
              "    </tr>\n",
              "    <tr>\n",
              "      <th>1</th>\n",
              "      <td>2021</td>\n",
              "      <td>2021-01-05</td>\n",
              "      <td>11697</td>\n",
              "      <td>13232</td>\n",
              "      <td>164.0</td>\n",
              "      <td>1167.0</td>\n",
              "      <td>0.0</td>\n",
              "      <td>1925</td>\n",
              "      <td>195.0</td>\n",
              "      <td>2</td>\n",
              "      <td>0</td>\n",
              "      <td>Evening</td>\n",
              "      <td>15</td>\n",
              "      <td>94</td>\n",
              "      <td>151</td>\n",
              "      <td>9</td>\n",
              "      <td>0</td>\n",
              "      <td>1</td>\n",
              "      <td>0</td>\n",
              "      <td>0</td>\n",
              "      <td>63</td>\n",
              "    </tr>\n",
              "    <tr>\n",
              "      <th>2</th>\n",
              "      <td>2021</td>\n",
              "      <td>2021-05-31</td>\n",
              "      <td>11298</td>\n",
              "      <td>14869</td>\n",
              "      <td>169.0</td>\n",
              "      <td>989.0</td>\n",
              "      <td>0.0</td>\n",
              "      <td>815</td>\n",
              "      <td>177.0</td>\n",
              "      <td>6</td>\n",
              "      <td>0</td>\n",
              "      <td>Morning</td>\n",
              "      <td>3</td>\n",
              "      <td>57</td>\n",
              "      <td>42</td>\n",
              "      <td>8</td>\n",
              "      <td>0</td>\n",
              "      <td>5</td>\n",
              "      <td>24</td>\n",
              "      <td>4</td>\n",
              "      <td>63</td>\n",
              "    </tr>\n",
              "  </tbody>\n",
              "</table>\n",
              "</div>"
            ],
            "text/plain": [
              "   YEAR    FL_DATE  ...  MONTH_DELAY_weight  FL_NUM_Taxiout_weight\n",
              "0  2021 2021-01-17  ...                   0                     63\n",
              "1  2021 2021-01-05  ...                   0                     63\n",
              "2  2021 2021-05-31  ...                   4                     63\n",
              "\n",
              "[3 rows x 21 columns]"
            ]
          },
          "metadata": {},
          "execution_count": 85
        }
      ]
    },
    {
      "cell_type": "code",
      "metadata": {
        "id": "1r-KiC1SUAhQ"
      },
      "source": [
        "systematic_sample_selectedcols8 = systematic_sample_selectedcols_7.drop(columns=['YEAR','FL_DATE'],axis=1)"
      ],
      "execution_count": null,
      "outputs": []
    },
    {
      "cell_type": "code",
      "metadata": {
        "id": "TAwfrHanUixI"
      },
      "source": [
        "systematic_sample_selectedcols8[['DEP_DEL15']]=systematic_sample_selectedcols8[['DEP_DEL15']].astype(int)"
      ],
      "execution_count": null,
      "outputs": []
    },
    {
      "cell_type": "code",
      "metadata": {
        "id": "D5KKygRwUN0R"
      },
      "source": [
        "systematic_sample_selectedcols8 = systematic_sample_selectedcols8.astype({col: 'float16' for col in systematic_sample_selectedcols8.select_dtypes('float64').columns})\n",
        "systematic_sample_selectedcols8 = systematic_sample_selectedcols8.astype({col: 'int16' for col in systematic_sample_selectedcols8.select_dtypes('int64').columns})"
      ],
      "execution_count": null,
      "outputs": []
    },
    {
      "cell_type": "code",
      "metadata": {
        "colab": {
          "base_uri": "https://localhost:8080/"
        },
        "id": "m5dhasoAUdHS",
        "outputId": "92d7888a-2ef3-4789-bcf4-5632b462fee6"
      },
      "source": [
        "systematic_sample_selectedcols8.dtypes"
      ],
      "execution_count": null,
      "outputs": [
        {
          "output_type": "execute_result",
          "data": {
            "text/plain": [
              "ORIGIN_AIRPORT_ID                       int16\n",
              "DEST_AIRPORT_ID                         int16\n",
              "AIR_TIME                              float16\n",
              "DISTANCE                              float16\n",
              "DEP_DEL15                               int16\n",
              "CRS_DEP_TIME                            int16\n",
              "CRS_ELAPSED_TIME                      float16\n",
              "WEEK_OF_MONTH                           int16\n",
              "DAY_OF_WEEK_days_end                    int16\n",
              "Dep_period                             object\n",
              "DEP_TIME_timeslot_weight                int16\n",
              "ORIGIN_timeslot_weight                  int16\n",
              "OP_CARRIER_airline_timeslot_weight      int16\n",
              "TAIL_DELAY_weight                       int16\n",
              "DAY_OF_WEEK_day_end                     int16\n",
              "WEEK_DELAY_weight                       int16\n",
              "DAY_OF_MONTH_DELAY_weight               int16\n",
              "MONTH_DELAY_weight                      int16\n",
              "FL_NUM_Taxiout_weight                   int16\n",
              "dtype: object"
            ]
          },
          "metadata": {},
          "execution_count": 89
        }
      ]
    },
    {
      "cell_type": "markdown",
      "metadata": {
        "id": "XWxuc7MWW3Ek"
      },
      "source": [
        "### CORRELATION among features"
      ]
    },
    {
      "cell_type": "code",
      "metadata": {
        "colab": {
          "base_uri": "https://localhost:8080/"
        },
        "id": "kLTtd95ZW2kP",
        "outputId": "42149752-fb2a-44db-e8fd-a115ea22ad87"
      },
      "source": [
        "corr = systematic_sample_selectedcols8.corr()#Lists all pairs of highly collinear variables\n",
        "indices = np.where(corr > 0.8)\n",
        "indices = [(corr.columns[x], corr.columns[y]) for x, y in zip(*indices)\n",
        "                                        if x != y and x < y]\n",
        "indices"
      ],
      "execution_count": null,
      "outputs": [
        {
          "output_type": "execute_result",
          "data": {
            "text/plain": [
              "[('AIR_TIME', 'DISTANCE'),\n",
              " ('AIR_TIME', 'CRS_ELAPSED_TIME'),\n",
              " ('DISTANCE', 'CRS_ELAPSED_TIME'),\n",
              " ('CRS_DEP_TIME', 'DEP_TIME_timeslot_weight'),\n",
              " ('DAY_OF_WEEK_days_end', 'DAY_OF_WEEK_day_end')]"
            ]
          },
          "metadata": {},
          "execution_count": 90
        }
      ]
    },
    {
      "cell_type": "code",
      "metadata": {
        "id": "BUrMpgCNHQmT"
      },
      "source": [
        "systematic_samplefinal=systematic_sample_selectedcols8.copy()"
      ],
      "execution_count": null,
      "outputs": []
    },
    {
      "cell_type": "code",
      "metadata": {
        "colab": {
          "base_uri": "https://localhost:8080/"
        },
        "id": "UU1JTjV3XiwX",
        "outputId": "a13fb9e4-4e5f-4a34-d634-35ad2fbba1e2"
      },
      "source": [
        "systematic_samplefinal = pd.get_dummies(systematic_samplefinal, drop_first=True)\n",
        "systematic_samplefinal.columns"
      ],
      "execution_count": null,
      "outputs": [
        {
          "output_type": "execute_result",
          "data": {
            "text/plain": [
              "Index(['ORIGIN_AIRPORT_ID', 'DEST_AIRPORT_ID', 'AIR_TIME', 'DISTANCE',\n",
              "       'DEP_DEL15', 'CRS_DEP_TIME', 'CRS_ELAPSED_TIME', 'WEEK_OF_MONTH',\n",
              "       'DAY_OF_WEEK_days_end', 'DEP_TIME_timeslot_weight',\n",
              "       'ORIGIN_timeslot_weight', 'OP_CARRIER_airline_timeslot_weight',\n",
              "       'TAIL_DELAY_weight', 'DAY_OF_WEEK_day_end', 'WEEK_DELAY_weight',\n",
              "       'DAY_OF_MONTH_DELAY_weight', 'MONTH_DELAY_weight',\n",
              "       'FL_NUM_Taxiout_weight', 'Dep_period_Early morning',\n",
              "       'Dep_period_Evening', 'Dep_period_Midnight', 'Dep_period_Morning',\n",
              "       'Dep_period_Night'],\n",
              "      dtype='object')"
            ]
          },
          "metadata": {},
          "execution_count": 92
        }
      ]
    },
    {
      "cell_type": "code",
      "metadata": {
        "colab": {
          "base_uri": "https://localhost:8080/"
        },
        "id": "hxHz9wxKX3Yv",
        "outputId": "e6a369d7-f071-47a4-da22-ed4bee3e9219"
      },
      "source": [
        "y = systematic_samplefinal.DEP_DEL15 \n",
        " #Drop target and set the dependent values variables \n",
        "X = systematic_samplefinal.drop('DEP_DEL15', axis=1)\n",
        "print(X.shape,y.shape)"
      ],
      "execution_count": null,
      "outputs": [
        {
          "output_type": "stream",
          "name": "stdout",
          "text": [
            "(215129, 22) (215129,)\n"
          ]
        }
      ]
    },
    {
      "cell_type": "code",
      "metadata": {
        "id": "7x_EfefgYMDz"
      },
      "source": [
        "#eliminating highly correlated columns\n",
        "#X_new8=X.drop(columns=['AIR_TIME','DISTANCE','ORIGIN_AIRPORT_ID', 'DEST_AIRPORT_ID','CRS_DEP_TIME','Dep_period_Early morning', 'Dep_period_Evening', 'Dep_period_Midnight',\n",
        "#       'Dep_period_Morning', 'Dep_period_Night'],axis=1)"
      ],
      "execution_count": null,
      "outputs": []
    },
    {
      "cell_type": "code",
      "metadata": {
        "id": "eBdftG0uxiV7"
      },
      "source": [
        "#X_new8=X.drop(columns=['Dep_period_Early morning', 'Dep_period_Evening', 'Dep_period_Midnight',\n",
        "#       'Dep_period_Morning', 'Dep_period_Night'],axis=1)"
      ],
      "execution_count": null,
      "outputs": []
    },
    {
      "cell_type": "code",
      "metadata": {
        "id": "x2zQuGYtb9TJ"
      },
      "source": [
        "#X_new8.columns"
      ],
      "execution_count": null,
      "outputs": []
    },
    {
      "cell_type": "code",
      "metadata": {
        "colab": {
          "base_uri": "https://localhost:8080/"
        },
        "id": "tkhezaExXTEa",
        "outputId": "9dd56eba-792c-4deb-a24c-29258c79a568"
      },
      "source": [
        "from sklearn.linear_model import LogisticRegression\n",
        "from numpy import mean\n",
        "model_LOGISTICS = LogisticRegression(class_weight='balanced',solver='saga')\n",
        "#model_LOGISTICSfit = model_LOGISTICS.fit(principalComponents_train, Y_Train)\n",
        "pca = PCA(.95)\n",
        "Robust=RobustScaler()\n",
        "oversample = SMOTE()\n",
        "pipeline_LRsmt = make_pipeline(oversample,pca,model_LOGISTICS)\n",
        "kf = StratifiedKFold(n_splits=5)\n",
        "y_pred_LR_OSample8 = cross_val_score(pipeline_LRsmt,X,y, scoring='roc_auc', cv=kf, n_jobs=-1)\n",
        "print('Mean ROC AUC: %.3f' % mean(y_pred_LR_OSample8))"
      ],
      "execution_count": null,
      "outputs": [
        {
          "output_type": "stream",
          "name": "stdout",
          "text": [
            "Mean ROC AUC: 0.535\n"
          ]
        }
      ]
    },
    {
      "cell_type": "code",
      "metadata": {
        "colab": {
          "base_uri": "https://localhost:8080/"
        },
        "id": "h_3SQmt-z5HO",
        "outputId": "8a17f8d0-d948-471b-9f2f-8d0f6282d036"
      },
      "source": [
        "model_Randomforest_smt= RandomForestClassifier(n_estimators= 100, criterion=\"gini\", class_weight='balanced')  \n",
        "oversample = SMOTE()\n",
        "pipeline_RFsmt = make_pipeline(oversample,model_Randomforest_smt)\n",
        "kf = StratifiedKFold(n_splits=5)\n",
        "y_pred_RF_OSample8 = cross_val_score(pipeline_RFsmt,X,y, scoring='roc_auc', cv=kf, n_jobs=-1)\n",
        "# summarize performance\n",
        "print('Mean ROC AUC: %.3f' % mean(y_pred_RF_OSample8))"
      ],
      "execution_count": null,
      "outputs": [
        {
          "output_type": "stream",
          "name": "stdout",
          "text": [
            "Mean ROC AUC: 0.883\n"
          ]
        }
      ]
    },
    {
      "cell_type": "code",
      "metadata": {
        "colab": {
          "base_uri": "https://localhost:8080/"
        },
        "id": "TtKZF7ik2X8p",
        "outputId": "dfdef3c8-9ff4-4a98-9647-a1d2b1151acd"
      },
      "source": [
        "y_pred_RF_OSample8_1 = cross_val_predict(pipeline_RFsmt,X, y, cv=kf)\n",
        "print(confusion_matrix(y, y_pred_RF_OSample8_1))\n",
        "print(classification_report(y, y_pred_RF_OSample8_1))"
      ],
      "execution_count": null,
      "outputs": [
        {
          "output_type": "stream",
          "name": "stdout",
          "text": [
            "[[190515    935]\n",
            " [ 16378   7301]]\n",
            "              precision    recall  f1-score   support\n",
            "\n",
            "           0       0.92      1.00      0.96    191450\n",
            "           1       0.89      0.31      0.46     23679\n",
            "\n",
            "    accuracy                           0.92    215129\n",
            "   macro avg       0.90      0.65      0.71    215129\n",
            "weighted avg       0.92      0.92      0.90    215129\n",
            "\n"
          ]
        }
      ]
    },
    {
      "cell_type": "markdown",
      "metadata": {
        "id": "hAGUsvJ0gbzp"
      },
      "source": [
        "### Approach 6- Accuracy summary\n",
        "* Logistic regression- 53%\n",
        "* Random forest - 88%"
      ]
    },
    {
      "cell_type": "code",
      "metadata": {
        "id": "4jD0YPd-bDFI"
      },
      "source": [
        "#selected_columns_Approach7=pd.concat(periodcountperdeptime['percentage_DEP_TIMEslot_del'],periodcountperorg['percentage_Delay_org'],periodcountperairLine['percentage_Delay1'],tail_dep_del['TAIL_NUM_DELAY_COUNT'],systematic_sample_selectedcols_3['DAY_OF_WEEK_day_end'],WEEKWISE_DEP_DELAY_TABLE['WEEK_DEP_DELAY_PERCENTAGE'],MONTHDAYWISE_DEP_DELAY_TABLE['%DAYMONTH_DEP_DELAYED'],MONTHWISE_DEP_DELAY_TABLE['%_DEP_DELAYED'],taxioutmean['TAXI_OUT_mean'], axis =1)"
      ],
      "execution_count": null,
      "outputs": []
    },
    {
      "cell_type": "code",
      "metadata": {
        "id": "gKrBIgHAbDA0"
      },
      "source": [
        "#selected_columns_Approach7=pd.concat(periodcountperdeptime.percentage_DEP_TIMEslot_del,periodcountperorg.percentage_Delay_org , axis=1)"
      ],
      "execution_count": null,
      "outputs": []
    },
    {
      "cell_type": "code",
      "metadata": {
        "id": "5Dhf0N5obC8p"
      },
      "source": [
        ""
      ],
      "execution_count": null,
      "outputs": []
    },
    {
      "cell_type": "code",
      "metadata": {
        "id": "qy83zODjbC3N"
      },
      "source": [
        ""
      ],
      "execution_count": null,
      "outputs": []
    },
    {
      "cell_type": "code",
      "metadata": {
        "id": "1JwDwAZObCyt"
      },
      "source": [
        ""
      ],
      "execution_count": null,
      "outputs": []
    },
    {
      "cell_type": "code",
      "metadata": {
        "id": "jhswO1OpFG7D"
      },
      "source": [
        "'''from sklearn.cluster import KMeans\n",
        "wcss=[]\n",
        "\n",
        "#we always assume the max number of cluster would be 10\n",
        "#you can judge the number of clusters by doing averaging\n",
        "###Static code to get max no of clusters\n",
        "\n",
        "for i in range(1,11):\n",
        "    kmeans = KMeans(n_clusters= i, init='k-means++', random_state=0)\n",
        "    kmeans.fit(X_Train_scaled_new)\n",
        "    wcss.append(kmeans.inertia_)'''"
      ],
      "execution_count": null,
      "outputs": []
    },
    {
      "cell_type": "code",
      "metadata": {
        "id": "A5r21esRFQay"
      },
      "source": [
        "'''plt.plot(range(1,11), wcss)\n",
        "plt.title('The Elbow Method')\n",
        "plt.xlabel('no of clusters')\n",
        "plt.ylabel('wcss')\n",
        "plt.show()'''"
      ],
      "execution_count": null,
      "outputs": []
    },
    {
      "cell_type": "code",
      "metadata": {
        "id": "_UbVpNmxHuMH"
      },
      "source": [
        "'''kmeansmodel = KMeans(n_clusters= 2, init='k-means++', random_state=0)\n",
        "y_kmeans= kmeansmodel.fit_predict(X_Test_scaled_new)'''"
      ],
      "execution_count": null,
      "outputs": []
    },
    {
      "cell_type": "code",
      "metadata": {
        "id": "r0e-bym-N1d5"
      },
      "source": [
        "#y_kmeans"
      ],
      "execution_count": null,
      "outputs": []
    },
    {
      "cell_type": "code",
      "metadata": {
        "id": "HOolIUCDoG2H"
      },
      "source": [
        "'''print(confusion_matrix(Y_Test_new, y_kmeans))\n",
        "print(classification_report(Y_Test_new, y_kmeans))'''"
      ],
      "execution_count": null,
      "outputs": []
    }
  ]
}