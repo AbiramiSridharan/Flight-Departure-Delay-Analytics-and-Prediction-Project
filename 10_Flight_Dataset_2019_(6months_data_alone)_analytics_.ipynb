{
  "nbformat": 4,
  "nbformat_minor": 0,
  "metadata": {
    "accelerator": "TPU",
    "colab": {
      "name": "Flight Dataset 2019 (6months-data alone) analytics .ipynb",
      "provenance": [],
      "collapsed_sections": [
        "xaMC3Rzg_tIQ"
      ]
    },
    "kernelspec": {
      "display_name": "Python 3",
      "name": "python3"
    },
    "language_info": {
      "name": "python"
    }
  },
  "cells": [
    {
      "cell_type": "code",
      "metadata": {
        "id": "pLPim1OzFGl9"
      },
      "source": [
        "import pandas as pd\n",
        "import numpy as np\n",
        "from scipy import stats\n",
        "import matplotlib.dates as mtd\n",
        "import seaborn as sns\n",
        "import matplotlib.pyplot as plt\n",
        "import seaborn as sns"
      ],
      "execution_count": null,
      "outputs": []
    },
    {
      "cell_type": "code",
      "metadata": {
        "id": "cvQ4H9ijLSoX"
      },
      "source": [
        "FL_JAN_2019_22cols = pd.read_csv('/content/drive/MyDrive/AbiML/Internship Tasks/internshipDatas/2019 data/2019-(20 columns)/FL_JAN_2019_20cols.csv')\n",
        "FL_FEB_2019_22cols = pd.read_csv('/content/drive/MyDrive/AbiML/Internship Tasks/internshipDatas/2019 data/2019-(20 columns)/FL_FEB_2019_20colscsv.txt')\n",
        "FL_MAR_2019_22cols = pd.read_csv('/content/drive/MyDrive/AbiML/Internship Tasks/internshipDatas/2019 data/2019-(20 columns)/FL_MARCH_2019_20cols.csv')\n",
        "FL_APRIL_2019_22cols = pd.read_csv('/content/drive/MyDrive/AbiML/Internship Tasks/internshipDatas/2019 data/2019-(20 columns)/FL_APRIL_2019_20colscsv.txt')\n",
        "FL_MAY_2019_22cols = pd.read_csv('/content/drive/MyDrive/AbiML/Internship Tasks/internshipDatas/2019 data/2019-(20 columns)/FL_MAY_2019_20cols.csv')\n",
        "FL_JUNE_2019_22cols = pd.read_csv('/content/drive/MyDrive/AbiML/Internship Tasks/internshipDatas/2019 data/2019-(20 columns)/FL_JUNE_2019_20cols.csv')\n"
      ],
      "execution_count": null,
      "outputs": []
    },
    {
      "cell_type": "code",
      "metadata": {
        "id": "nYMEt_cPMoFJ"
      },
      "source": [
        "#FL_JULY_2019_22cols = pd.read_csv('/content/drive/MyDrive/AbiML/Internship Tasks/internshipDatas/2019 data/2019-(20 columns)/FL_JULY_2019_20cols.csv')\n",
        "#FL_AUG_2019_22cols = pd.read_csv('/content/drive/MyDrive/AbiML/Internship Tasks/internshipDatas/2019 data/2019-(20 columns)/FL_AUG_2019_20cols.csv')\n",
        "#FL_SEPT_2019_22cols = pd.read_csv('/content/drive/MyDrive/AbiML/Internship Tasks/internshipDatas/2019 data/2019-(20 columns)/FL_SEPT_2019_20cols.csv')\n",
        "#FL_OCT_2019_22cols = pd.read_csv('/content/drive/MyDrive/AbiML/Internship Tasks/internshipDatas/2019 data/2019-(20 columns)/FL_OCT_2019_20cols.csv')\n",
        "#FL_NOV_2019_22cols = pd.read_csv('/content/drive/MyDrive/AbiML/Internship Tasks/internshipDatas/2019 data/2019-(20 columns)/FL_NOV_2019_22cols.csv')\n",
        "#FL_DEC_2019_22cols = pd.read_csv('/content/drive/MyDrive/AbiML/Internship Tasks/internshipDatas/2019 data/2019-(20 columns)/FL_DEC_2019_20cols.csv')\n"
      ],
      "execution_count": null,
      "outputs": []
    },
    {
      "cell_type": "code",
      "metadata": {
        "id": "RvjWqL2Y6uO_"
      },
      "source": [
        "#FL_JAN_2021_22cols = pd.read_csv('/content/drive/MyDrive/AbiML/Internship Tasks/internshipDatas/2019 data/2021_20cols/FL_JAN_2021_20cols.csv')\n",
        "#FL_FEB_2021_22cols = pd.read_csv('/content/drive/MyDrive/AbiML/Internship Tasks/internshipDatas/2019 data/2021_20cols/FL_FEB_2021_22cols.csv')\n",
        "#FL_MAR_2021_22cols = pd.read_csv('/content/drive/MyDrive/AbiML/Internship Tasks/internshipDatas/2019 data/2021_20cols/FL_MARCH_2021_20cols.csv')\n",
        "#FL_APRIL_2021_22cols = pd.read_csv('/content/drive/MyDrive/AbiML/Internship Tasks/internshipDatas/2019 data/2021_20cols/FL_APRIL_2021_22cols.csv')\n",
        "#FL_MAY_2021_22cols = pd.read_csv('/content/drive/MyDrive/AbiML/Internship Tasks/internshipDatas/2019 data/2021_20cols/FL_MAY_2021_20cols.csv')\n",
        "#FL_JUNE_2021_22cols = pd.read_csv('/content/drive/MyDrive/AbiML/Internship Tasks/internshipDatas/2019 data/2021_20cols/FL_JUNE_2021_22cols.csv')\n",
        "#FL_JULY_2021_22cols = pd.read_csv('/content/drive/MyDrive/AbiML/Internship Tasks/internshipDatas/2019 data/2021_20cols/FL_JULY_2021_20cols.csv')\n",
        "\n"
      ],
      "execution_count": null,
      "outputs": []
    },
    {
      "cell_type": "code",
      "metadata": {
        "id": "Mu62VoknE90k"
      },
      "source": [
        "FL_CONSOLIDATED2019=pd.concat([FL_JAN_2019_22cols,FL_FEB_2019_22cols,FL_MAR_2019_22cols,FL_APRIL_2019_22cols,FL_MAY_2019_22cols,FL_JUNE_2019_22cols], axis=0)"
      ],
      "execution_count": null,
      "outputs": []
    },
    {
      "cell_type": "code",
      "metadata": {
        "id": "tlAMJYt-HNTT"
      },
      "source": [
        "#FL_CONSOLIDATED2019.count()"
      ],
      "execution_count": null,
      "outputs": []
    },
    {
      "cell_type": "code",
      "metadata": {
        "id": "b2o5K2So8QdZ"
      },
      "source": [
        "FL_CONSOLIDATED2019=FL_CONSOLIDATED2019.drop(columns=['Unnamed: 20'] ,axis=1)"
      ],
      "execution_count": null,
      "outputs": []
    },
    {
      "cell_type": "code",
      "metadata": {
        "id": "lwWEKpxo86Lx"
      },
      "source": [
        "from datetime import date\n",
        "FL_CONSOLIDATED2019['FL_DATE']=pd.to_datetime(FL_CONSOLIDATED2019['FL_DATE'],format='%Y-%m-%d')"
      ],
      "execution_count": null,
      "outputs": []
    },
    {
      "cell_type": "code",
      "metadata": {
        "id": "mr7trTXUcNsa"
      },
      "source": [
        "#FL_CONSOLIDATED2019.head()"
      ],
      "execution_count": null,
      "outputs": []
    },
    {
      "cell_type": "code",
      "metadata": {
        "id": "7MsGLwcd8WsO"
      },
      "source": [
        "#FL_CONSOLIDATED2019.info()"
      ],
      "execution_count": null,
      "outputs": []
    },
    {
      "cell_type": "code",
      "metadata": {
        "colab": {
          "base_uri": "https://localhost:8080/"
        },
        "id": "0ul1UMyRNtge",
        "outputId": "478511f8-7f29-4f3c-f65a-5d743be65068"
      },
      "source": [
        "FL_CONSOLIDATED2019.isna().sum()"
      ],
      "execution_count": null,
      "outputs": [
        {
          "data": {
            "text/plain": [
              "QUARTER                      0\n",
              "MONTH                        0\n",
              "DAY_OF_WEEK                  0\n",
              "FL_DATE                      0\n",
              "OP_CARRIER                   0\n",
              "TAIL_NUM                 19013\n",
              "OP_CARRIER_FL_NUM            0\n",
              "ORIGIN                       0\n",
              "DEP_TIME                 93043\n",
              "DEP_DELAY                93063\n",
              "DEP_DEL15                93063\n",
              "TAXI_OUT                 95293\n",
              "WHEELS_OFF               95293\n",
              "CRS_ELAPSED_TIME             8\n",
              "DISTANCE                     0\n",
              "CARRIER_DELAY          3178349\n",
              "WEATHER_DELAY          3178349\n",
              "NAS_DELAY              3178349\n",
              "SECURITY_DELAY         3178349\n",
              "LATE_AIRCRAFT_DELAY    3178349\n",
              "dtype: int64"
            ]
          },
          "execution_count": 12,
          "metadata": {},
          "output_type": "execute_result"
        }
      ]
    },
    {
      "cell_type": "markdown",
      "metadata": {
        "id": "wu7sDWQHNlAu"
      },
      "source": [
        "### * Replacing nan as zero in all columns  \n",
        "* dropping null values in DEP_DELAY','DEP_DEL15','DEP_TIME"
      ]
    },
    {
      "cell_type": "code",
      "metadata": {
        "id": "UhAcaT9CPsq5"
      },
      "source": [
        "FL_CONSOLIDATED2019.dropna(subset=['DEP_DELAY','DEP_DEL15','DEP_TIME'],inplace=True)"
      ],
      "execution_count": null,
      "outputs": []
    },
    {
      "cell_type": "code",
      "metadata": {
        "colab": {
          "base_uri": "https://localhost:8080/"
        },
        "id": "CbPa3fRzQE4p",
        "outputId": "f412bac8-0d0e-4efa-daa9-529b80c1e659"
      },
      "source": [
        "FL_CONSOLIDATED2019.isna().sum()"
      ],
      "execution_count": null,
      "outputs": [
        {
          "data": {
            "text/plain": [
              "QUARTER                      0\n",
              "MONTH                        0\n",
              "DAY_OF_WEEK                  0\n",
              "FL_DATE                      0\n",
              "OP_CARRIER                   0\n",
              "TAIL_NUM                     0\n",
              "OP_CARRIER_FL_NUM            0\n",
              "ORIGIN                       0\n",
              "DEP_TIME                     0\n",
              "DEP_DELAY                    0\n",
              "DEP_DEL15                    0\n",
              "TAXI_OUT                  2231\n",
              "WHEELS_OFF                2231\n",
              "CRS_ELAPSED_TIME             1\n",
              "DISTANCE                     0\n",
              "CARRIER_DELAY          3085286\n",
              "WEATHER_DELAY          3085286\n",
              "NAS_DELAY              3085286\n",
              "SECURITY_DELAY         3085286\n",
              "LATE_AIRCRAFT_DELAY    3085286\n",
              "dtype: int64"
            ]
          },
          "execution_count": 14,
          "metadata": {},
          "output_type": "execute_result"
        }
      ]
    },
    {
      "cell_type": "code",
      "metadata": {
        "id": "CplZixoGM7Gv"
      },
      "source": [
        "#FL_CONSOLIDATED2019.fillna({x:0 for x in ['TAXI_OUT','WHEELS_OFF','CARRIER_DELAY','WEATHER_DELAY','NAS_DELAY','SECURITY_DELAY','LATE_AIRCRAFT_DELAY']}, inplace=True)"
      ],
      "execution_count": null,
      "outputs": []
    },
    {
      "cell_type": "code",
      "metadata": {
        "id": "hzGZqriKNE4d"
      },
      "source": [
        "#FL_CONSOLIDATED2019.isna().sum()"
      ],
      "execution_count": null,
      "outputs": []
    },
    {
      "cell_type": "code",
      "metadata": {
        "id": "oSBmCEj0Nkpj"
      },
      "source": [
        "FL_CONSOLIDATED2019.fillna(0,inplace=True)"
      ],
      "execution_count": null,
      "outputs": []
    },
    {
      "cell_type": "markdown",
      "metadata": {
        "id": "sUdHw8AJ8mbb"
      },
      "source": [
        "# Creating new column- WEEK_OF_MONTH"
      ]
    },
    {
      "cell_type": "code",
      "metadata": {
        "colab": {
          "base_uri": "https://localhost:8080/",
          "height": 38
        },
        "id": "17FiZEX0gr-k",
        "outputId": "a193d739-af8c-4e34-d057-c03354172ba9"
      },
      "source": [
        "#The calendar module has a monthcalendar method that returns a 2D array where each row represents a week. For example:\n",
        "#import calendar\n",
        "#calendar.monthcalendar(2015,9)\n",
        "#result o/p ll be ilke this:\n",
        "\n",
        "'''[[0,0,1,2,3,4,5],\n",
        " [6,7,8,9,10,11,12],\n",
        " [13,14,15,16,17,18,19],\n",
        " [20,21,22,23,24,25,26],\n",
        " [27,28,29,30,0,0,0]]'''"
      ],
      "execution_count": null,
      "outputs": [
        {
          "data": {
            "application/vnd.google.colaboratory.intrinsic+json": {
              "type": "string"
            },
            "text/plain": [
              "'[[0,0,1,2,3,4,5],\\n [6,7,8,9,10,11,12],\\n [13,14,15,16,17,18,19],\\n [20,21,22,23,24,25,26],\\n [27,28,29,30,0,0,0]]'"
            ]
          },
          "execution_count": 18,
          "metadata": {},
          "output_type": "execute_result"
        }
      ]
    },
    {
      "cell_type": "code",
      "metadata": {
        "id": "K84wGHfYSa4W"
      },
      "source": [
        "#solution for the above code\n",
        "import datetime\n",
        "from calendar import Calendar\n",
        "\n",
        "def week_of_month(tgtdate):\n",
        "  n = datetime.datetime(tgtdate.year, tgtdate.month, tgtdate.day)\n",
        "  cal = Calendar() # week starts Monday\n",
        "#cal = Calendar(6) # week stars Sunday\n",
        "  weeks = cal.monthdayscalendar(n.year, n.month)\n",
        "  for x in range(len(weeks)):\n",
        "    if n.day in weeks[x]:\n",
        "        return(x+1)\n",
        "FL_CONSOLIDATED2019['WEEK_OF_MONTH'] = FL_CONSOLIDATED2019['FL_DATE'].apply(week_of_month)"
      ],
      "execution_count": null,
      "outputs": []
    },
    {
      "cell_type": "code",
      "metadata": {
        "colab": {
          "base_uri": "https://localhost:8080/",
          "height": 203
        },
        "id": "YcdTLimyN57B",
        "outputId": "fe77e9b1-13c3-4aab-f3dd-7c9c414fc8af"
      },
      "source": [
        "FL_CONSOLIDATED2019[['FL_DATE','WEEK_OF_MONTH']].head()"
      ],
      "execution_count": null,
      "outputs": [
        {
          "data": {
            "text/html": [
              "<div>\n",
              "<style scoped>\n",
              "    .dataframe tbody tr th:only-of-type {\n",
              "        vertical-align: middle;\n",
              "    }\n",
              "\n",
              "    .dataframe tbody tr th {\n",
              "        vertical-align: top;\n",
              "    }\n",
              "\n",
              "    .dataframe thead th {\n",
              "        text-align: right;\n",
              "    }\n",
              "</style>\n",
              "<table border=\"1\" class=\"dataframe\">\n",
              "  <thead>\n",
              "    <tr style=\"text-align: right;\">\n",
              "      <th></th>\n",
              "      <th>FL_DATE</th>\n",
              "      <th>WEEK_OF_MONTH</th>\n",
              "    </tr>\n",
              "  </thead>\n",
              "  <tbody>\n",
              "    <tr>\n",
              "      <th>0</th>\n",
              "      <td>2019-01-26</td>\n",
              "      <td>4</td>\n",
              "    </tr>\n",
              "    <tr>\n",
              "      <th>1</th>\n",
              "      <td>2019-01-07</td>\n",
              "      <td>2</td>\n",
              "    </tr>\n",
              "    <tr>\n",
              "      <th>2</th>\n",
              "      <td>2019-01-08</td>\n",
              "      <td>2</td>\n",
              "    </tr>\n",
              "    <tr>\n",
              "      <th>3</th>\n",
              "      <td>2019-01-09</td>\n",
              "      <td>2</td>\n",
              "    </tr>\n",
              "    <tr>\n",
              "      <th>4</th>\n",
              "      <td>2019-01-10</td>\n",
              "      <td>2</td>\n",
              "    </tr>\n",
              "  </tbody>\n",
              "</table>\n",
              "</div>"
            ],
            "text/plain": [
              "     FL_DATE  WEEK_OF_MONTH\n",
              "0 2019-01-26              4\n",
              "1 2019-01-07              2\n",
              "2 2019-01-08              2\n",
              "3 2019-01-09              2\n",
              "4 2019-01-10              2"
            ]
          },
          "execution_count": 20,
          "metadata": {},
          "output_type": "execute_result"
        }
      ]
    },
    {
      "cell_type": "markdown",
      "metadata": {
        "id": "yJhDbXf99K4F"
      },
      "source": [
        "# Creating New column--> Week days==0, Weekends == 1(DAY_OF_WEEK_days_end)"
      ]
    },
    {
      "cell_type": "code",
      "metadata": {
        "colab": {
          "base_uri": "https://localhost:8080/",
          "height": 307
        },
        "id": "-dMdhPTd9J3k",
        "outputId": "198d40be-d3a4-4ef2-df04-62f5849c4e2a"
      },
      "source": [
        "def get_day_category(day_of_week):\n",
        "    if day_of_week <= 5:\n",
        "        return 0 #'working day'\n",
        "    elif day_of_week > 5:\n",
        "        return 1 #'weekend'\n",
        "FL_CONSOLIDATED2019['DAY_OF_WEEK_days_end'] = FL_CONSOLIDATED2019['DAY_OF_WEEK']\n",
        "   \n",
        "FL_CONSOLIDATED2019['DAY_OF_WEEK_days_end'] = FL_CONSOLIDATED2019.DAY_OF_WEEK_days_end.apply(get_day_category)\n",
        "FL_CONSOLIDATED2019.head()"
      ],
      "execution_count": null,
      "outputs": [
        {
          "data": {
            "text/html": [
              "<div>\n",
              "<style scoped>\n",
              "    .dataframe tbody tr th:only-of-type {\n",
              "        vertical-align: middle;\n",
              "    }\n",
              "\n",
              "    .dataframe tbody tr th {\n",
              "        vertical-align: top;\n",
              "    }\n",
              "\n",
              "    .dataframe thead th {\n",
              "        text-align: right;\n",
              "    }\n",
              "</style>\n",
              "<table border=\"1\" class=\"dataframe\">\n",
              "  <thead>\n",
              "    <tr style=\"text-align: right;\">\n",
              "      <th></th>\n",
              "      <th>QUARTER</th>\n",
              "      <th>MONTH</th>\n",
              "      <th>DAY_OF_WEEK</th>\n",
              "      <th>FL_DATE</th>\n",
              "      <th>OP_CARRIER</th>\n",
              "      <th>TAIL_NUM</th>\n",
              "      <th>OP_CARRIER_FL_NUM</th>\n",
              "      <th>ORIGIN</th>\n",
              "      <th>DEP_TIME</th>\n",
              "      <th>DEP_DELAY</th>\n",
              "      <th>DEP_DEL15</th>\n",
              "      <th>TAXI_OUT</th>\n",
              "      <th>WHEELS_OFF</th>\n",
              "      <th>CRS_ELAPSED_TIME</th>\n",
              "      <th>DISTANCE</th>\n",
              "      <th>CARRIER_DELAY</th>\n",
              "      <th>WEATHER_DELAY</th>\n",
              "      <th>NAS_DELAY</th>\n",
              "      <th>SECURITY_DELAY</th>\n",
              "      <th>LATE_AIRCRAFT_DELAY</th>\n",
              "      <th>WEEK_OF_MONTH</th>\n",
              "      <th>DAY_OF_WEEK_days_end</th>\n",
              "    </tr>\n",
              "  </thead>\n",
              "  <tbody>\n",
              "    <tr>\n",
              "      <th>0</th>\n",
              "      <td>1</td>\n",
              "      <td>1</td>\n",
              "      <td>6</td>\n",
              "      <td>2019-01-26</td>\n",
              "      <td>9E</td>\n",
              "      <td>N137EV</td>\n",
              "      <td>3442</td>\n",
              "      <td>CVG</td>\n",
              "      <td>1727.0</td>\n",
              "      <td>-4.0</td>\n",
              "      <td>0.0</td>\n",
              "      <td>11.0</td>\n",
              "      <td>1738.0</td>\n",
              "      <td>132.0</td>\n",
              "      <td>596.0</td>\n",
              "      <td>0.0</td>\n",
              "      <td>0.0</td>\n",
              "      <td>0.0</td>\n",
              "      <td>0.0</td>\n",
              "      <td>0.0</td>\n",
              "      <td>4</td>\n",
              "      <td>1</td>\n",
              "    </tr>\n",
              "    <tr>\n",
              "      <th>1</th>\n",
              "      <td>1</td>\n",
              "      <td>1</td>\n",
              "      <td>1</td>\n",
              "      <td>2019-01-07</td>\n",
              "      <td>9E</td>\n",
              "      <td>N927EV</td>\n",
              "      <td>3442</td>\n",
              "      <td>DTW</td>\n",
              "      <td>830.0</td>\n",
              "      <td>-5.0</td>\n",
              "      <td>0.0</td>\n",
              "      <td>19.0</td>\n",
              "      <td>849.0</td>\n",
              "      <td>111.0</td>\n",
              "      <td>306.0</td>\n",
              "      <td>0.0</td>\n",
              "      <td>0.0</td>\n",
              "      <td>0.0</td>\n",
              "      <td>0.0</td>\n",
              "      <td>0.0</td>\n",
              "      <td>2</td>\n",
              "      <td>0</td>\n",
              "    </tr>\n",
              "    <tr>\n",
              "      <th>2</th>\n",
              "      <td>1</td>\n",
              "      <td>1</td>\n",
              "      <td>2</td>\n",
              "      <td>2019-01-08</td>\n",
              "      <td>9E</td>\n",
              "      <td>N927EV</td>\n",
              "      <td>3442</td>\n",
              "      <td>DTW</td>\n",
              "      <td>830.0</td>\n",
              "      <td>-5.0</td>\n",
              "      <td>0.0</td>\n",
              "      <td>21.0</td>\n",
              "      <td>851.0</td>\n",
              "      <td>111.0</td>\n",
              "      <td>306.0</td>\n",
              "      <td>0.0</td>\n",
              "      <td>0.0</td>\n",
              "      <td>0.0</td>\n",
              "      <td>0.0</td>\n",
              "      <td>0.0</td>\n",
              "      <td>2</td>\n",
              "      <td>0</td>\n",
              "    </tr>\n",
              "    <tr>\n",
              "      <th>3</th>\n",
              "      <td>1</td>\n",
              "      <td>1</td>\n",
              "      <td>3</td>\n",
              "      <td>2019-01-09</td>\n",
              "      <td>9E</td>\n",
              "      <td>N8974C</td>\n",
              "      <td>3442</td>\n",
              "      <td>DTW</td>\n",
              "      <td>825.0</td>\n",
              "      <td>-10.0</td>\n",
              "      <td>0.0</td>\n",
              "      <td>35.0</td>\n",
              "      <td>900.0</td>\n",
              "      <td>111.0</td>\n",
              "      <td>306.0</td>\n",
              "      <td>0.0</td>\n",
              "      <td>0.0</td>\n",
              "      <td>0.0</td>\n",
              "      <td>0.0</td>\n",
              "      <td>0.0</td>\n",
              "      <td>2</td>\n",
              "      <td>0</td>\n",
              "    </tr>\n",
              "    <tr>\n",
              "      <th>4</th>\n",
              "      <td>1</td>\n",
              "      <td>1</td>\n",
              "      <td>4</td>\n",
              "      <td>2019-01-10</td>\n",
              "      <td>9E</td>\n",
              "      <td>N833AY</td>\n",
              "      <td>3442</td>\n",
              "      <td>DTW</td>\n",
              "      <td>826.0</td>\n",
              "      <td>-9.0</td>\n",
              "      <td>0.0</td>\n",
              "      <td>41.0</td>\n",
              "      <td>907.0</td>\n",
              "      <td>111.0</td>\n",
              "      <td>306.0</td>\n",
              "      <td>0.0</td>\n",
              "      <td>0.0</td>\n",
              "      <td>0.0</td>\n",
              "      <td>0.0</td>\n",
              "      <td>0.0</td>\n",
              "      <td>2</td>\n",
              "      <td>0</td>\n",
              "    </tr>\n",
              "  </tbody>\n",
              "</table>\n",
              "</div>"
            ],
            "text/plain": [
              "   QUARTER  MONTH  ...  WEEK_OF_MONTH DAY_OF_WEEK_days_end\n",
              "0        1      1  ...              4                    1\n",
              "1        1      1  ...              2                    0\n",
              "2        1      1  ...              2                    0\n",
              "3        1      1  ...              2                    0\n",
              "4        1      1  ...              2                    0\n",
              "\n",
              "[5 rows x 22 columns]"
            ]
          },
          "execution_count": 21,
          "metadata": {},
          "output_type": "execute_result"
        }
      ]
    },
    {
      "cell_type": "markdown",
      "metadata": {
        "id": "KedZERDr-3F_"
      },
      "source": [
        "# Creating New column-> DEP_TIME_BLK as 6 block per day, using DEP_time with 24 hrs time stamp"
      ]
    },
    {
      "cell_type": "code",
      "metadata": {
        "colab": {
          "base_uri": "https://localhost:8080/"
        },
        "id": "l5aZ4k3I-2pJ",
        "outputId": "1c78951a-5817-4ddb-be51-e5d258fac880"
      },
      "source": [
        "def get_dep_time_blk(dep_time):\n",
        "    dep_hour = str('%04d' %(dep_time))[:2]\n",
        "    \n",
        "    return dep_hour\n",
        "\n",
        "FL_CONSOLIDATED2019['DEP_TIMEslot_BLK'] = FL_CONSOLIDATED2019.DEP_TIME.apply(get_dep_time_blk)\n",
        "print(FL_CONSOLIDATED2019[['DEP_TIME','DEP_TIMEslot_BLK']].head(5))"
      ],
      "execution_count": null,
      "outputs": [
        {
          "name": "stdout",
          "output_type": "stream",
          "text": [
            "   DEP_TIME DEP_TIMEslot_BLK\n",
            "0    1727.0               17\n",
            "1     830.0               08\n",
            "2     830.0               08\n",
            "3     825.0               08\n",
            "4     826.0               08\n"
          ]
        }
      ]
    },
    {
      "cell_type": "code",
      "metadata": {
        "id": "Sli35A7h0_jB"
      },
      "source": [
        "FL_CONSOLIDATED2019[['DEP_TIMEslot_BLK']]=FL_CONSOLIDATED2019[['DEP_TIMEslot_BLK']].astype(int)"
      ],
      "execution_count": null,
      "outputs": []
    },
    {
      "cell_type": "code",
      "metadata": {
        "colab": {
          "base_uri": "https://localhost:8080/",
          "height": 307
        },
        "id": "o_fqF4zKO132",
        "outputId": "a1472823-51f5-4799-9ecf-6e9877d01b50"
      },
      "source": [
        "FL_CONSOLIDATED2019.head()"
      ],
      "execution_count": null,
      "outputs": [
        {
          "data": {
            "text/html": [
              "<div>\n",
              "<style scoped>\n",
              "    .dataframe tbody tr th:only-of-type {\n",
              "        vertical-align: middle;\n",
              "    }\n",
              "\n",
              "    .dataframe tbody tr th {\n",
              "        vertical-align: top;\n",
              "    }\n",
              "\n",
              "    .dataframe thead th {\n",
              "        text-align: right;\n",
              "    }\n",
              "</style>\n",
              "<table border=\"1\" class=\"dataframe\">\n",
              "  <thead>\n",
              "    <tr style=\"text-align: right;\">\n",
              "      <th></th>\n",
              "      <th>QUARTER</th>\n",
              "      <th>MONTH</th>\n",
              "      <th>DAY_OF_WEEK</th>\n",
              "      <th>FL_DATE</th>\n",
              "      <th>OP_CARRIER</th>\n",
              "      <th>TAIL_NUM</th>\n",
              "      <th>OP_CARRIER_FL_NUM</th>\n",
              "      <th>ORIGIN</th>\n",
              "      <th>DEP_TIME</th>\n",
              "      <th>DEP_DELAY</th>\n",
              "      <th>DEP_DEL15</th>\n",
              "      <th>TAXI_OUT</th>\n",
              "      <th>WHEELS_OFF</th>\n",
              "      <th>CRS_ELAPSED_TIME</th>\n",
              "      <th>DISTANCE</th>\n",
              "      <th>CARRIER_DELAY</th>\n",
              "      <th>WEATHER_DELAY</th>\n",
              "      <th>NAS_DELAY</th>\n",
              "      <th>SECURITY_DELAY</th>\n",
              "      <th>LATE_AIRCRAFT_DELAY</th>\n",
              "      <th>WEEK_OF_MONTH</th>\n",
              "      <th>DAY_OF_WEEK_days_end</th>\n",
              "      <th>DEP_TIMEslot_BLK</th>\n",
              "    </tr>\n",
              "  </thead>\n",
              "  <tbody>\n",
              "    <tr>\n",
              "      <th>0</th>\n",
              "      <td>1</td>\n",
              "      <td>1</td>\n",
              "      <td>6</td>\n",
              "      <td>2019-01-26</td>\n",
              "      <td>9E</td>\n",
              "      <td>N137EV</td>\n",
              "      <td>3442</td>\n",
              "      <td>CVG</td>\n",
              "      <td>1727.0</td>\n",
              "      <td>-4.0</td>\n",
              "      <td>0.0</td>\n",
              "      <td>11.0</td>\n",
              "      <td>1738.0</td>\n",
              "      <td>132.0</td>\n",
              "      <td>596.0</td>\n",
              "      <td>0.0</td>\n",
              "      <td>0.0</td>\n",
              "      <td>0.0</td>\n",
              "      <td>0.0</td>\n",
              "      <td>0.0</td>\n",
              "      <td>4</td>\n",
              "      <td>1</td>\n",
              "      <td>17</td>\n",
              "    </tr>\n",
              "    <tr>\n",
              "      <th>1</th>\n",
              "      <td>1</td>\n",
              "      <td>1</td>\n",
              "      <td>1</td>\n",
              "      <td>2019-01-07</td>\n",
              "      <td>9E</td>\n",
              "      <td>N927EV</td>\n",
              "      <td>3442</td>\n",
              "      <td>DTW</td>\n",
              "      <td>830.0</td>\n",
              "      <td>-5.0</td>\n",
              "      <td>0.0</td>\n",
              "      <td>19.0</td>\n",
              "      <td>849.0</td>\n",
              "      <td>111.0</td>\n",
              "      <td>306.0</td>\n",
              "      <td>0.0</td>\n",
              "      <td>0.0</td>\n",
              "      <td>0.0</td>\n",
              "      <td>0.0</td>\n",
              "      <td>0.0</td>\n",
              "      <td>2</td>\n",
              "      <td>0</td>\n",
              "      <td>8</td>\n",
              "    </tr>\n",
              "    <tr>\n",
              "      <th>2</th>\n",
              "      <td>1</td>\n",
              "      <td>1</td>\n",
              "      <td>2</td>\n",
              "      <td>2019-01-08</td>\n",
              "      <td>9E</td>\n",
              "      <td>N927EV</td>\n",
              "      <td>3442</td>\n",
              "      <td>DTW</td>\n",
              "      <td>830.0</td>\n",
              "      <td>-5.0</td>\n",
              "      <td>0.0</td>\n",
              "      <td>21.0</td>\n",
              "      <td>851.0</td>\n",
              "      <td>111.0</td>\n",
              "      <td>306.0</td>\n",
              "      <td>0.0</td>\n",
              "      <td>0.0</td>\n",
              "      <td>0.0</td>\n",
              "      <td>0.0</td>\n",
              "      <td>0.0</td>\n",
              "      <td>2</td>\n",
              "      <td>0</td>\n",
              "      <td>8</td>\n",
              "    </tr>\n",
              "    <tr>\n",
              "      <th>3</th>\n",
              "      <td>1</td>\n",
              "      <td>1</td>\n",
              "      <td>3</td>\n",
              "      <td>2019-01-09</td>\n",
              "      <td>9E</td>\n",
              "      <td>N8974C</td>\n",
              "      <td>3442</td>\n",
              "      <td>DTW</td>\n",
              "      <td>825.0</td>\n",
              "      <td>-10.0</td>\n",
              "      <td>0.0</td>\n",
              "      <td>35.0</td>\n",
              "      <td>900.0</td>\n",
              "      <td>111.0</td>\n",
              "      <td>306.0</td>\n",
              "      <td>0.0</td>\n",
              "      <td>0.0</td>\n",
              "      <td>0.0</td>\n",
              "      <td>0.0</td>\n",
              "      <td>0.0</td>\n",
              "      <td>2</td>\n",
              "      <td>0</td>\n",
              "      <td>8</td>\n",
              "    </tr>\n",
              "    <tr>\n",
              "      <th>4</th>\n",
              "      <td>1</td>\n",
              "      <td>1</td>\n",
              "      <td>4</td>\n",
              "      <td>2019-01-10</td>\n",
              "      <td>9E</td>\n",
              "      <td>N833AY</td>\n",
              "      <td>3442</td>\n",
              "      <td>DTW</td>\n",
              "      <td>826.0</td>\n",
              "      <td>-9.0</td>\n",
              "      <td>0.0</td>\n",
              "      <td>41.0</td>\n",
              "      <td>907.0</td>\n",
              "      <td>111.0</td>\n",
              "      <td>306.0</td>\n",
              "      <td>0.0</td>\n",
              "      <td>0.0</td>\n",
              "      <td>0.0</td>\n",
              "      <td>0.0</td>\n",
              "      <td>0.0</td>\n",
              "      <td>2</td>\n",
              "      <td>0</td>\n",
              "      <td>8</td>\n",
              "    </tr>\n",
              "  </tbody>\n",
              "</table>\n",
              "</div>"
            ],
            "text/plain": [
              "   QUARTER  MONTH  ...  DAY_OF_WEEK_days_end DEP_TIMEslot_BLK\n",
              "0        1      1  ...                     1               17\n",
              "1        1      1  ...                     0                8\n",
              "2        1      1  ...                     0                8\n",
              "3        1      1  ...                     0                8\n",
              "4        1      1  ...                     0                8\n",
              "\n",
              "[5 rows x 23 columns]"
            ]
          },
          "execution_count": 24,
          "metadata": {},
          "output_type": "execute_result"
        }
      ]
    },
    {
      "cell_type": "code",
      "metadata": {
        "id": "c1zpkZLtHs37"
      },
      "source": [
        "#FL_CONSOLIDATED2019=FL_CONSOLIDATED2019.drop(columns=['DEP_TIME'] ,axis=1)"
      ],
      "execution_count": null,
      "outputs": []
    },
    {
      "cell_type": "code",
      "metadata": {
        "id": "4oe1XEsVOqFb"
      },
      "source": [
        "FL_CONSOLIDATED2019 = FL_CONSOLIDATED2019.astype({col: 'float16' for col in FL_CONSOLIDATED2019.select_dtypes('float64').columns})\n",
        "FL_CONSOLIDATED2019 = FL_CONSOLIDATED2019.astype({col: 'int16' for col in FL_CONSOLIDATED2019.select_dtypes('int64').columns})"
      ],
      "execution_count": null,
      "outputs": []
    },
    {
      "cell_type": "code",
      "metadata": {
        "id": "4aBrZPnutBu7"
      },
      "source": [
        "for dataset in FL_CONSOLIDATED2019:\n",
        "    FL_CONSOLIDATED2019.loc[FL_CONSOLIDATED2019['DEP_TIMEslot_BLK'] >=0, 'Dep_period'] = 'Midnight'\n",
        "    FL_CONSOLIDATED2019.loc[FL_CONSOLIDATED2019['DEP_TIMEslot_BLK'] >=4,'Dep_period'] ='Early morning'\n",
        "    FL_CONSOLIDATED2019.loc[FL_CONSOLIDATED2019['DEP_TIMEslot_BLK'] >=7,'Dep_period'] ='Morning'\n",
        "    FL_CONSOLIDATED2019.loc[FL_CONSOLIDATED2019['DEP_TIMEslot_BLK'] >=12,'Dep_period'] ='Afternoon'\n",
        "    FL_CONSOLIDATED2019.loc[FL_CONSOLIDATED2019['DEP_TIMEslot_BLK'] >=17,'Dep_period'] ='Evening'\n",
        "    FL_CONSOLIDATED2019.loc[FL_CONSOLIDATED2019['DEP_TIMEslot_BLK'] >=20,'Dep_period'] ='Night'\n",
        "    FL_CONSOLIDATED2019.loc[FL_CONSOLIDATED2019['DEP_TIMEslot_BLK'] ==24, 'Dep_period'] = 'Midnight'"
      ],
      "execution_count": null,
      "outputs": []
    },
    {
      "cell_type": "code",
      "metadata": {
        "colab": {
          "base_uri": "https://localhost:8080/",
          "height": 307
        },
        "id": "3pH9bhMgW48r",
        "outputId": "1bf38d40-38e2-49a3-c41c-452e57f16696"
      },
      "source": [
        "FL_CONSOLIDATED2019.head()"
      ],
      "execution_count": null,
      "outputs": [
        {
          "data": {
            "text/html": [
              "<div>\n",
              "<style scoped>\n",
              "    .dataframe tbody tr th:only-of-type {\n",
              "        vertical-align: middle;\n",
              "    }\n",
              "\n",
              "    .dataframe tbody tr th {\n",
              "        vertical-align: top;\n",
              "    }\n",
              "\n",
              "    .dataframe thead th {\n",
              "        text-align: right;\n",
              "    }\n",
              "</style>\n",
              "<table border=\"1\" class=\"dataframe\">\n",
              "  <thead>\n",
              "    <tr style=\"text-align: right;\">\n",
              "      <th></th>\n",
              "      <th>QUARTER</th>\n",
              "      <th>MONTH</th>\n",
              "      <th>DAY_OF_WEEK</th>\n",
              "      <th>FL_DATE</th>\n",
              "      <th>OP_CARRIER</th>\n",
              "      <th>TAIL_NUM</th>\n",
              "      <th>OP_CARRIER_FL_NUM</th>\n",
              "      <th>ORIGIN</th>\n",
              "      <th>DEP_TIME</th>\n",
              "      <th>DEP_DELAY</th>\n",
              "      <th>DEP_DEL15</th>\n",
              "      <th>TAXI_OUT</th>\n",
              "      <th>WHEELS_OFF</th>\n",
              "      <th>CRS_ELAPSED_TIME</th>\n",
              "      <th>DISTANCE</th>\n",
              "      <th>CARRIER_DELAY</th>\n",
              "      <th>WEATHER_DELAY</th>\n",
              "      <th>NAS_DELAY</th>\n",
              "      <th>SECURITY_DELAY</th>\n",
              "      <th>LATE_AIRCRAFT_DELAY</th>\n",
              "      <th>WEEK_OF_MONTH</th>\n",
              "      <th>DAY_OF_WEEK_days_end</th>\n",
              "      <th>DEP_TIMEslot_BLK</th>\n",
              "      <th>Dep_period</th>\n",
              "    </tr>\n",
              "  </thead>\n",
              "  <tbody>\n",
              "    <tr>\n",
              "      <th>0</th>\n",
              "      <td>1</td>\n",
              "      <td>1</td>\n",
              "      <td>6</td>\n",
              "      <td>2019-01-26</td>\n",
              "      <td>9E</td>\n",
              "      <td>N137EV</td>\n",
              "      <td>3442</td>\n",
              "      <td>CVG</td>\n",
              "      <td>1727.0</td>\n",
              "      <td>-4.0</td>\n",
              "      <td>0.0</td>\n",
              "      <td>11.0</td>\n",
              "      <td>1738.0</td>\n",
              "      <td>132.0</td>\n",
              "      <td>596.0</td>\n",
              "      <td>0.0</td>\n",
              "      <td>0.0</td>\n",
              "      <td>0.0</td>\n",
              "      <td>0.0</td>\n",
              "      <td>0.0</td>\n",
              "      <td>4</td>\n",
              "      <td>1</td>\n",
              "      <td>17</td>\n",
              "      <td>Evening</td>\n",
              "    </tr>\n",
              "    <tr>\n",
              "      <th>1</th>\n",
              "      <td>1</td>\n",
              "      <td>1</td>\n",
              "      <td>1</td>\n",
              "      <td>2019-01-07</td>\n",
              "      <td>9E</td>\n",
              "      <td>N927EV</td>\n",
              "      <td>3442</td>\n",
              "      <td>DTW</td>\n",
              "      <td>830.0</td>\n",
              "      <td>-5.0</td>\n",
              "      <td>0.0</td>\n",
              "      <td>19.0</td>\n",
              "      <td>849.0</td>\n",
              "      <td>111.0</td>\n",
              "      <td>306.0</td>\n",
              "      <td>0.0</td>\n",
              "      <td>0.0</td>\n",
              "      <td>0.0</td>\n",
              "      <td>0.0</td>\n",
              "      <td>0.0</td>\n",
              "      <td>2</td>\n",
              "      <td>0</td>\n",
              "      <td>8</td>\n",
              "      <td>Morning</td>\n",
              "    </tr>\n",
              "    <tr>\n",
              "      <th>2</th>\n",
              "      <td>1</td>\n",
              "      <td>1</td>\n",
              "      <td>2</td>\n",
              "      <td>2019-01-08</td>\n",
              "      <td>9E</td>\n",
              "      <td>N927EV</td>\n",
              "      <td>3442</td>\n",
              "      <td>DTW</td>\n",
              "      <td>830.0</td>\n",
              "      <td>-5.0</td>\n",
              "      <td>0.0</td>\n",
              "      <td>21.0</td>\n",
              "      <td>851.0</td>\n",
              "      <td>111.0</td>\n",
              "      <td>306.0</td>\n",
              "      <td>0.0</td>\n",
              "      <td>0.0</td>\n",
              "      <td>0.0</td>\n",
              "      <td>0.0</td>\n",
              "      <td>0.0</td>\n",
              "      <td>2</td>\n",
              "      <td>0</td>\n",
              "      <td>8</td>\n",
              "      <td>Morning</td>\n",
              "    </tr>\n",
              "    <tr>\n",
              "      <th>3</th>\n",
              "      <td>1</td>\n",
              "      <td>1</td>\n",
              "      <td>3</td>\n",
              "      <td>2019-01-09</td>\n",
              "      <td>9E</td>\n",
              "      <td>N8974C</td>\n",
              "      <td>3442</td>\n",
              "      <td>DTW</td>\n",
              "      <td>825.0</td>\n",
              "      <td>-10.0</td>\n",
              "      <td>0.0</td>\n",
              "      <td>35.0</td>\n",
              "      <td>900.0</td>\n",
              "      <td>111.0</td>\n",
              "      <td>306.0</td>\n",
              "      <td>0.0</td>\n",
              "      <td>0.0</td>\n",
              "      <td>0.0</td>\n",
              "      <td>0.0</td>\n",
              "      <td>0.0</td>\n",
              "      <td>2</td>\n",
              "      <td>0</td>\n",
              "      <td>8</td>\n",
              "      <td>Morning</td>\n",
              "    </tr>\n",
              "    <tr>\n",
              "      <th>4</th>\n",
              "      <td>1</td>\n",
              "      <td>1</td>\n",
              "      <td>4</td>\n",
              "      <td>2019-01-10</td>\n",
              "      <td>9E</td>\n",
              "      <td>N833AY</td>\n",
              "      <td>3442</td>\n",
              "      <td>DTW</td>\n",
              "      <td>826.0</td>\n",
              "      <td>-9.0</td>\n",
              "      <td>0.0</td>\n",
              "      <td>41.0</td>\n",
              "      <td>907.0</td>\n",
              "      <td>111.0</td>\n",
              "      <td>306.0</td>\n",
              "      <td>0.0</td>\n",
              "      <td>0.0</td>\n",
              "      <td>0.0</td>\n",
              "      <td>0.0</td>\n",
              "      <td>0.0</td>\n",
              "      <td>2</td>\n",
              "      <td>0</td>\n",
              "      <td>8</td>\n",
              "      <td>Morning</td>\n",
              "    </tr>\n",
              "  </tbody>\n",
              "</table>\n",
              "</div>"
            ],
            "text/plain": [
              "   QUARTER  MONTH  ...  DEP_TIMEslot_BLK Dep_period\n",
              "0        1      1  ...                17    Evening\n",
              "1        1      1  ...                 8    Morning\n",
              "2        1      1  ...                 8    Morning\n",
              "3        1      1  ...                 8    Morning\n",
              "4        1      1  ...                 8    Morning\n",
              "\n",
              "[5 rows x 24 columns]"
            ]
          },
          "execution_count": 28,
          "metadata": {},
          "output_type": "execute_result"
        }
      ]
    },
    {
      "cell_type": "markdown",
      "metadata": {
        "id": "WXON9cvdH546"
      },
      "source": [
        "# Adding new columns (DELAY_LAST_WEEK, DELAY_LAST_MONTH)"
      ]
    },
    {
      "cell_type": "markdown",
      "metadata": {
        "id": "uLsKydSnmrVN"
      },
      "source": [
        "## DELAY_LAST_MONTH-->FL_NUM"
      ]
    },
    {
      "cell_type": "code",
      "metadata": {
        "id": "CGydE5YGZrXa"
      },
      "source": [
        "from datetime import date, timedelta"
      ],
      "execution_count": null,
      "outputs": []
    },
    {
      "cell_type": "markdown",
      "metadata": {
        "id": "qMBZ3PtmiFmj"
      },
      "source": [
        "* first()-- used to subset initial periods of time series data based on a date offset.\n",
        "* shift() function Shift index by desired number of periods with an optional time freq.\n",
        "* rolling()--certain number of previous periods in a time series\n",
        "* resample()--Resampling generates a unique sampling distribution on the basis of the actual data.1D=dates created on 1day frequency. We can apply various frequency to resample our time series data.\n"
      ]
    },
    {
      "cell_type": "markdown",
      "metadata": {
        "id": "BSg2X9yXi4sg"
      },
      "source": [
        "* group by using flight number and origin which generates unique key pairs, used while creating resample(1D) dates for calculating 30 days and 7days window\n",
        "* while group by FL_ num alone has same dates with  diff org, airline, etc.. so used fl_num with origin for groupby. "
      ]
    },
    {
      "cell_type": "markdown",
      "metadata": {
        "id": "UrdEIT_F_jGR"
      },
      "source": [
        "  Grouping FL_NUM and ORIGIN and Resampling dates"
      ]
    },
    {
      "cell_type": "code",
      "metadata": {
        "colab": {
          "background_save": true
        },
        "id": "RNGURMkUwkjd"
      },
      "source": [
        "FL_CONSOLIDATED2019_temp1=FL_CONSOLIDATED2019[['OP_CARRIER_FL_NUM','ORIGIN','FL_DATE','DEP_DEL15']]\n",
        "df_FLNUM = FL_CONSOLIDATED2019_temp1.groupby(['OP_CARRIER_FL_NUM','ORIGIN']).apply(lambda x: x.set_index('FL_DATE').resample('1D').first())\n"
      ],
      "execution_count": null,
      "outputs": []
    },
    {
      "cell_type": "markdown",
      "metadata": {
        "id": "h9wmOSVZ_tQm"
      },
      "source": [
        "* Setting 30 days window frequency for resampled dates and calculating dep_del15 sum()\n",
        "* merging with original table"
      ]
    },
    {
      "cell_type": "code",
      "metadata": {
        "colab": {
          "background_save": true
        },
        "id": "utuVqJ5N_h8h"
      },
      "source": [
        "df1_30 = df_FLNUM.groupby(level=0)['DEP_DEL15'].apply(lambda x: x.shift().rolling(min_periods=1,window=30).sum()).reset_index(name='DELAY_Past_30_days_FL_NUM_ORIGIN')"
      ],
      "execution_count": null,
      "outputs": []
    },
    {
      "cell_type": "code",
      "metadata": {
        "colab": {
          "background_save": true
        },
        "id": "0LBHetsQbLY-",
        "outputId": "5db6e1cd-051f-46db-b0ee-fb1035ecde4a"
      },
      "source": [
        "df1_30.head()"
      ],
      "execution_count": null,
      "outputs": [
        {
          "data": {
            "text/html": [
              "<div>\n",
              "<style scoped>\n",
              "    .dataframe tbody tr th:only-of-type {\n",
              "        vertical-align: middle;\n",
              "    }\n",
              "\n",
              "    .dataframe tbody tr th {\n",
              "        vertical-align: top;\n",
              "    }\n",
              "\n",
              "    .dataframe thead th {\n",
              "        text-align: right;\n",
              "    }\n",
              "</style>\n",
              "<table border=\"1\" class=\"dataframe\">\n",
              "  <thead>\n",
              "    <tr style=\"text-align: right;\">\n",
              "      <th></th>\n",
              "      <th>OP_CARRIER_FL_NUM</th>\n",
              "      <th>ORIGIN</th>\n",
              "      <th>FL_DATE</th>\n",
              "      <th>DELAY_Past_30_days_FL_NUM_ORIGIN</th>\n",
              "    </tr>\n",
              "  </thead>\n",
              "  <tbody>\n",
              "    <tr>\n",
              "      <th>0</th>\n",
              "      <td>1</td>\n",
              "      <td>BNA</td>\n",
              "      <td>2019-01-02</td>\n",
              "      <td>NaN</td>\n",
              "    </tr>\n",
              "    <tr>\n",
              "      <th>1</th>\n",
              "      <td>1</td>\n",
              "      <td>DAL</td>\n",
              "      <td>2019-01-01</td>\n",
              "      <td>0.0</td>\n",
              "    </tr>\n",
              "    <tr>\n",
              "      <th>2</th>\n",
              "      <td>1</td>\n",
              "      <td>DAL</td>\n",
              "      <td>2019-01-02</td>\n",
              "      <td>0.0</td>\n",
              "    </tr>\n",
              "    <tr>\n",
              "      <th>3</th>\n",
              "      <td>1</td>\n",
              "      <td>DAL</td>\n",
              "      <td>2019-01-03</td>\n",
              "      <td>0.0</td>\n",
              "    </tr>\n",
              "    <tr>\n",
              "      <th>4</th>\n",
              "      <td>1</td>\n",
              "      <td>DAL</td>\n",
              "      <td>2019-01-04</td>\n",
              "      <td>0.0</td>\n",
              "    </tr>\n",
              "  </tbody>\n",
              "</table>\n",
              "</div>"
            ],
            "text/plain": [
              "   OP_CARRIER_FL_NUM ORIGIN    FL_DATE  DELAY_Past_30_days_FL_NUM_ORIGIN\n",
              "0                  1    BNA 2019-01-02                               NaN\n",
              "1                  1    DAL 2019-01-01                               0.0\n",
              "2                  1    DAL 2019-01-02                               0.0\n",
              "3                  1    DAL 2019-01-03                               0.0\n",
              "4                  1    DAL 2019-01-04                               0.0"
            ]
          },
          "execution_count": null,
          "metadata": {},
          "output_type": "execute_result"
        }
      ]
    },
    {
      "cell_type": "code",
      "metadata": {
        "colab": {
          "background_save": true
        },
        "id": "rQV-PAPjVjgM",
        "outputId": "fe76ad30-bf18-4d89-ad72-c173ea56e491"
      },
      "source": [
        "FL_CONSOLIDATED2019_new=pd.merge(FL_CONSOLIDATED2019, df1_30, on=['FL_DATE', 'OP_CARRIER_FL_NUM','ORIGIN'], how='left')\n",
        "\n",
        "FL_CONSOLIDATED2019_new.head().sort_values(['FL_DATE'],ascending=True)"
      ],
      "execution_count": null,
      "outputs": [
        {
          "data": {
            "text/html": [
              "<div>\n",
              "<style scoped>\n",
              "    .dataframe tbody tr th:only-of-type {\n",
              "        vertical-align: middle;\n",
              "    }\n",
              "\n",
              "    .dataframe tbody tr th {\n",
              "        vertical-align: top;\n",
              "    }\n",
              "\n",
              "    .dataframe thead th {\n",
              "        text-align: right;\n",
              "    }\n",
              "</style>\n",
              "<table border=\"1\" class=\"dataframe\">\n",
              "  <thead>\n",
              "    <tr style=\"text-align: right;\">\n",
              "      <th></th>\n",
              "      <th>QUARTER</th>\n",
              "      <th>MONTH</th>\n",
              "      <th>DAY_OF_WEEK</th>\n",
              "      <th>FL_DATE</th>\n",
              "      <th>OP_CARRIER</th>\n",
              "      <th>TAIL_NUM</th>\n",
              "      <th>OP_CARRIER_FL_NUM</th>\n",
              "      <th>ORIGIN</th>\n",
              "      <th>DEP_TIME</th>\n",
              "      <th>DEP_DELAY</th>\n",
              "      <th>DEP_DEL15</th>\n",
              "      <th>TAXI_OUT</th>\n",
              "      <th>WHEELS_OFF</th>\n",
              "      <th>CRS_ELAPSED_TIME</th>\n",
              "      <th>DISTANCE</th>\n",
              "      <th>CARRIER_DELAY</th>\n",
              "      <th>WEATHER_DELAY</th>\n",
              "      <th>NAS_DELAY</th>\n",
              "      <th>SECURITY_DELAY</th>\n",
              "      <th>LATE_AIRCRAFT_DELAY</th>\n",
              "      <th>WEEK_OF_MONTH</th>\n",
              "      <th>DAY_OF_WEEK_days_end</th>\n",
              "      <th>DEP_TIMEslot_BLK</th>\n",
              "      <th>Dep_period</th>\n",
              "      <th>DELAY_Past_30_days_FL_NUM_ORIGIN</th>\n",
              "    </tr>\n",
              "  </thead>\n",
              "  <tbody>\n",
              "    <tr>\n",
              "      <th>1</th>\n",
              "      <td>1</td>\n",
              "      <td>1</td>\n",
              "      <td>1</td>\n",
              "      <td>2019-01-07</td>\n",
              "      <td>9E</td>\n",
              "      <td>N927EV</td>\n",
              "      <td>3442</td>\n",
              "      <td>DTW</td>\n",
              "      <td>830.0</td>\n",
              "      <td>-5.0</td>\n",
              "      <td>0.0</td>\n",
              "      <td>19.0</td>\n",
              "      <td>849.0</td>\n",
              "      <td>111.0</td>\n",
              "      <td>306.0</td>\n",
              "      <td>0.0</td>\n",
              "      <td>0.0</td>\n",
              "      <td>0.0</td>\n",
              "      <td>0.0</td>\n",
              "      <td>0.0</td>\n",
              "      <td>2</td>\n",
              "      <td>0</td>\n",
              "      <td>8</td>\n",
              "      <td>Morning</td>\n",
              "      <td>1.0</td>\n",
              "    </tr>\n",
              "    <tr>\n",
              "      <th>2</th>\n",
              "      <td>1</td>\n",
              "      <td>1</td>\n",
              "      <td>2</td>\n",
              "      <td>2019-01-08</td>\n",
              "      <td>9E</td>\n",
              "      <td>N927EV</td>\n",
              "      <td>3442</td>\n",
              "      <td>DTW</td>\n",
              "      <td>830.0</td>\n",
              "      <td>-5.0</td>\n",
              "      <td>0.0</td>\n",
              "      <td>21.0</td>\n",
              "      <td>851.0</td>\n",
              "      <td>111.0</td>\n",
              "      <td>306.0</td>\n",
              "      <td>0.0</td>\n",
              "      <td>0.0</td>\n",
              "      <td>0.0</td>\n",
              "      <td>0.0</td>\n",
              "      <td>0.0</td>\n",
              "      <td>2</td>\n",
              "      <td>0</td>\n",
              "      <td>8</td>\n",
              "      <td>Morning</td>\n",
              "      <td>1.0</td>\n",
              "    </tr>\n",
              "    <tr>\n",
              "      <th>3</th>\n",
              "      <td>1</td>\n",
              "      <td>1</td>\n",
              "      <td>3</td>\n",
              "      <td>2019-01-09</td>\n",
              "      <td>9E</td>\n",
              "      <td>N8974C</td>\n",
              "      <td>3442</td>\n",
              "      <td>DTW</td>\n",
              "      <td>825.0</td>\n",
              "      <td>-10.0</td>\n",
              "      <td>0.0</td>\n",
              "      <td>35.0</td>\n",
              "      <td>900.0</td>\n",
              "      <td>111.0</td>\n",
              "      <td>306.0</td>\n",
              "      <td>0.0</td>\n",
              "      <td>0.0</td>\n",
              "      <td>0.0</td>\n",
              "      <td>0.0</td>\n",
              "      <td>0.0</td>\n",
              "      <td>2</td>\n",
              "      <td>0</td>\n",
              "      <td>8</td>\n",
              "      <td>Morning</td>\n",
              "      <td>1.0</td>\n",
              "    </tr>\n",
              "    <tr>\n",
              "      <th>4</th>\n",
              "      <td>1</td>\n",
              "      <td>1</td>\n",
              "      <td>4</td>\n",
              "      <td>2019-01-10</td>\n",
              "      <td>9E</td>\n",
              "      <td>N833AY</td>\n",
              "      <td>3442</td>\n",
              "      <td>DTW</td>\n",
              "      <td>826.0</td>\n",
              "      <td>-9.0</td>\n",
              "      <td>0.0</td>\n",
              "      <td>41.0</td>\n",
              "      <td>907.0</td>\n",
              "      <td>111.0</td>\n",
              "      <td>306.0</td>\n",
              "      <td>0.0</td>\n",
              "      <td>0.0</td>\n",
              "      <td>0.0</td>\n",
              "      <td>0.0</td>\n",
              "      <td>0.0</td>\n",
              "      <td>2</td>\n",
              "      <td>0</td>\n",
              "      <td>8</td>\n",
              "      <td>Morning</td>\n",
              "      <td>1.0</td>\n",
              "    </tr>\n",
              "    <tr>\n",
              "      <th>0</th>\n",
              "      <td>1</td>\n",
              "      <td>1</td>\n",
              "      <td>6</td>\n",
              "      <td>2019-01-26</td>\n",
              "      <td>9E</td>\n",
              "      <td>N137EV</td>\n",
              "      <td>3442</td>\n",
              "      <td>CVG</td>\n",
              "      <td>1727.0</td>\n",
              "      <td>-4.0</td>\n",
              "      <td>0.0</td>\n",
              "      <td>11.0</td>\n",
              "      <td>1738.0</td>\n",
              "      <td>132.0</td>\n",
              "      <td>596.0</td>\n",
              "      <td>0.0</td>\n",
              "      <td>0.0</td>\n",
              "      <td>0.0</td>\n",
              "      <td>0.0</td>\n",
              "      <td>0.0</td>\n",
              "      <td>4</td>\n",
              "      <td>1</td>\n",
              "      <td>17</td>\n",
              "      <td>Evening</td>\n",
              "      <td>4.0</td>\n",
              "    </tr>\n",
              "  </tbody>\n",
              "</table>\n",
              "</div>"
            ],
            "text/plain": [
              "   QUARTER  MONTH  ...  Dep_period DELAY_Past_30_days_FL_NUM_ORIGIN\n",
              "1        1      1  ...     Morning                              1.0\n",
              "2        1      1  ...     Morning                              1.0\n",
              "3        1      1  ...     Morning                              1.0\n",
              "4        1      1  ...     Morning                              1.0\n",
              "0        1      1  ...     Evening                              4.0\n",
              "\n",
              "[5 rows x 25 columns]"
            ]
          },
          "execution_count": null,
          "metadata": {},
          "output_type": "execute_result"
        }
      ]
    },
    {
      "cell_type": "markdown",
      "metadata": {
        "id": "EBNNOs4cA2cZ"
      },
      "source": [
        "# FL_NUM--> DELAY_LAST_7DAYS"
      ]
    },
    {
      "cell_type": "code",
      "metadata": {
        "colab": {
          "background_save": true
        },
        "id": "kvW4K_QbBEpR"
      },
      "source": [
        "df1_7 = df_FLNUM.groupby(level=0)['DEP_DEL15'].apply(lambda x: x.shift().rolling(min_periods=1,window=7).sum()).reset_index(name='DELAY_Past_7_days_FL_NUM_ORIGIN')\n",
        "FL_CONSOLIDATED2019_new_30_7=pd.merge(FL_CONSOLIDATED2019_new, df1_7, on=['FL_DATE','OP_CARRIER_FL_NUM','ORIGIN'], how='left')"
      ],
      "execution_count": null,
      "outputs": []
    },
    {
      "cell_type": "code",
      "metadata": {
        "colab": {
          "background_save": true
        },
        "id": "mO0dhbUUf7Iz",
        "outputId": "c61a628d-90a4-4435-ba91-416ce36d5569"
      },
      "source": [
        "FL_CONSOLIDATED2019_new_30_7.head(100).sort_values(['FL_DATE'],ascending=True)"
      ],
      "execution_count": null,
      "outputs": [
        {
          "data": {
            "text/html": [
              "<div>\n",
              "<style scoped>\n",
              "    .dataframe tbody tr th:only-of-type {\n",
              "        vertical-align: middle;\n",
              "    }\n",
              "\n",
              "    .dataframe tbody tr th {\n",
              "        vertical-align: top;\n",
              "    }\n",
              "\n",
              "    .dataframe thead th {\n",
              "        text-align: right;\n",
              "    }\n",
              "</style>\n",
              "<table border=\"1\" class=\"dataframe\">\n",
              "  <thead>\n",
              "    <tr style=\"text-align: right;\">\n",
              "      <th></th>\n",
              "      <th>QUARTER</th>\n",
              "      <th>MONTH</th>\n",
              "      <th>DAY_OF_WEEK</th>\n",
              "      <th>FL_DATE</th>\n",
              "      <th>OP_CARRIER</th>\n",
              "      <th>TAIL_NUM</th>\n",
              "      <th>OP_CARRIER_FL_NUM</th>\n",
              "      <th>ORIGIN</th>\n",
              "      <th>DEP_TIME</th>\n",
              "      <th>DEP_DELAY</th>\n",
              "      <th>DEP_DEL15</th>\n",
              "      <th>TAXI_OUT</th>\n",
              "      <th>WHEELS_OFF</th>\n",
              "      <th>CRS_ELAPSED_TIME</th>\n",
              "      <th>DISTANCE</th>\n",
              "      <th>CARRIER_DELAY</th>\n",
              "      <th>WEATHER_DELAY</th>\n",
              "      <th>NAS_DELAY</th>\n",
              "      <th>SECURITY_DELAY</th>\n",
              "      <th>LATE_AIRCRAFT_DELAY</th>\n",
              "      <th>WEEK_OF_MONTH</th>\n",
              "      <th>DAY_OF_WEEK_days_end</th>\n",
              "      <th>DEP_TIMEslot_BLK</th>\n",
              "      <th>Dep_period</th>\n",
              "      <th>DELAY_Past_30_days_FL_NUM_ORIGIN</th>\n",
              "      <th>DELAY_Past_7_days_FL_NUM_ORIGIN</th>\n",
              "    </tr>\n",
              "  </thead>\n",
              "  <tbody>\n",
              "    <tr>\n",
              "      <th>80</th>\n",
              "      <td>1</td>\n",
              "      <td>1</td>\n",
              "      <td>2</td>\n",
              "      <td>2019-01-01</td>\n",
              "      <td>9E</td>\n",
              "      <td>N922XJ</td>\n",
              "      <td>3444</td>\n",
              "      <td>JFK</td>\n",
              "      <td>1122.0</td>\n",
              "      <td>-8.0</td>\n",
              "      <td>0.0</td>\n",
              "      <td>10.0</td>\n",
              "      <td>1132.0</td>\n",
              "      <td>114.0</td>\n",
              "      <td>427.0</td>\n",
              "      <td>0.0</td>\n",
              "      <td>0.0</td>\n",
              "      <td>0.0</td>\n",
              "      <td>0.0</td>\n",
              "      <td>0.0</td>\n",
              "      <td>1</td>\n",
              "      <td>0</td>\n",
              "      <td>11</td>\n",
              "      <td>Morning</td>\n",
              "      <td>0.0</td>\n",
              "      <td>0.0</td>\n",
              "    </tr>\n",
              "    <tr>\n",
              "      <th>43</th>\n",
              "      <td>1</td>\n",
              "      <td>1</td>\n",
              "      <td>2</td>\n",
              "      <td>2019-01-01</td>\n",
              "      <td>9E</td>\n",
              "      <td>N8974C</td>\n",
              "      <td>3443</td>\n",
              "      <td>AVL</td>\n",
              "      <td>1658.0</td>\n",
              "      <td>-7.0</td>\n",
              "      <td>0.0</td>\n",
              "      <td>16.0</td>\n",
              "      <td>1714.0</td>\n",
              "      <td>75.0</td>\n",
              "      <td>164.0</td>\n",
              "      <td>0.0</td>\n",
              "      <td>0.0</td>\n",
              "      <td>0.0</td>\n",
              "      <td>0.0</td>\n",
              "      <td>0.0</td>\n",
              "      <td>1</td>\n",
              "      <td>0</td>\n",
              "      <td>16</td>\n",
              "      <td>Afternoon</td>\n",
              "      <td>0.0</td>\n",
              "      <td>0.0</td>\n",
              "    </tr>\n",
              "    <tr>\n",
              "      <th>44</th>\n",
              "      <td>1</td>\n",
              "      <td>1</td>\n",
              "      <td>4</td>\n",
              "      <td>2019-01-03</td>\n",
              "      <td>9E</td>\n",
              "      <td>N933XJ</td>\n",
              "      <td>3443</td>\n",
              "      <td>JFK</td>\n",
              "      <td>1813.0</td>\n",
              "      <td>-2.0</td>\n",
              "      <td>0.0</td>\n",
              "      <td>16.0</td>\n",
              "      <td>1829.0</td>\n",
              "      <td>142.0</td>\n",
              "      <td>589.0</td>\n",
              "      <td>0.0</td>\n",
              "      <td>0.0</td>\n",
              "      <td>0.0</td>\n",
              "      <td>0.0</td>\n",
              "      <td>0.0</td>\n",
              "      <td>1</td>\n",
              "      <td>0</td>\n",
              "      <td>18</td>\n",
              "      <td>Evening</td>\n",
              "      <td>3.0</td>\n",
              "      <td>2.0</td>\n",
              "    </tr>\n",
              "    <tr>\n",
              "      <th>45</th>\n",
              "      <td>1</td>\n",
              "      <td>1</td>\n",
              "      <td>5</td>\n",
              "      <td>2019-01-04</td>\n",
              "      <td>9E</td>\n",
              "      <td>N137EV</td>\n",
              "      <td>3443</td>\n",
              "      <td>JFK</td>\n",
              "      <td>1831.0</td>\n",
              "      <td>16.0</td>\n",
              "      <td>1.0</td>\n",
              "      <td>25.0</td>\n",
              "      <td>1856.0</td>\n",
              "      <td>142.0</td>\n",
              "      <td>589.0</td>\n",
              "      <td>0.0</td>\n",
              "      <td>0.0</td>\n",
              "      <td>0.0</td>\n",
              "      <td>0.0</td>\n",
              "      <td>0.0</td>\n",
              "      <td>1</td>\n",
              "      <td>0</td>\n",
              "      <td>18</td>\n",
              "      <td>Evening</td>\n",
              "      <td>3.0</td>\n",
              "      <td>2.0</td>\n",
              "    </tr>\n",
              "    <tr>\n",
              "      <th>75</th>\n",
              "      <td>1</td>\n",
              "      <td>1</td>\n",
              "      <td>6</td>\n",
              "      <td>2019-01-05</td>\n",
              "      <td>9E</td>\n",
              "      <td>N8837B</td>\n",
              "      <td>3444</td>\n",
              "      <td>CVG</td>\n",
              "      <td>852.0</td>\n",
              "      <td>-8.0</td>\n",
              "      <td>0.0</td>\n",
              "      <td>40.0</td>\n",
              "      <td>932.0</td>\n",
              "      <td>89.0</td>\n",
              "      <td>390.0</td>\n",
              "      <td>0.0</td>\n",
              "      <td>0.0</td>\n",
              "      <td>0.0</td>\n",
              "      <td>0.0</td>\n",
              "      <td>0.0</td>\n",
              "      <td>1</td>\n",
              "      <td>1</td>\n",
              "      <td>8</td>\n",
              "      <td>Morning</td>\n",
              "      <td>1.0</td>\n",
              "      <td>0.0</td>\n",
              "    </tr>\n",
              "    <tr>\n",
              "      <th>...</th>\n",
              "      <td>...</td>\n",
              "      <td>...</td>\n",
              "      <td>...</td>\n",
              "      <td>...</td>\n",
              "      <td>...</td>\n",
              "      <td>...</td>\n",
              "      <td>...</td>\n",
              "      <td>...</td>\n",
              "      <td>...</td>\n",
              "      <td>...</td>\n",
              "      <td>...</td>\n",
              "      <td>...</td>\n",
              "      <td>...</td>\n",
              "      <td>...</td>\n",
              "      <td>...</td>\n",
              "      <td>...</td>\n",
              "      <td>...</td>\n",
              "      <td>...</td>\n",
              "      <td>...</td>\n",
              "      <td>...</td>\n",
              "      <td>...</td>\n",
              "      <td>...</td>\n",
              "      <td>...</td>\n",
              "      <td>...</td>\n",
              "      <td>...</td>\n",
              "      <td>...</td>\n",
              "    </tr>\n",
              "    <tr>\n",
              "      <th>41</th>\n",
              "      <td>1</td>\n",
              "      <td>1</td>\n",
              "      <td>3</td>\n",
              "      <td>2019-01-30</td>\n",
              "      <td>9E</td>\n",
              "      <td>N8896A</td>\n",
              "      <td>3442</td>\n",
              "      <td>SDF</td>\n",
              "      <td>1125.0</td>\n",
              "      <td>-5.0</td>\n",
              "      <td>0.0</td>\n",
              "      <td>12.0</td>\n",
              "      <td>1137.0</td>\n",
              "      <td>91.0</td>\n",
              "      <td>306.0</td>\n",
              "      <td>0.0</td>\n",
              "      <td>0.0</td>\n",
              "      <td>0.0</td>\n",
              "      <td>0.0</td>\n",
              "      <td>0.0</td>\n",
              "      <td>5</td>\n",
              "      <td>0</td>\n",
              "      <td>11</td>\n",
              "      <td>Morning</td>\n",
              "      <td>2.0</td>\n",
              "      <td>1.0</td>\n",
              "    </tr>\n",
              "    <tr>\n",
              "      <th>20</th>\n",
              "      <td>1</td>\n",
              "      <td>1</td>\n",
              "      <td>4</td>\n",
              "      <td>2019-01-31</td>\n",
              "      <td>9E</td>\n",
              "      <td>N981EV</td>\n",
              "      <td>3442</td>\n",
              "      <td>DTW</td>\n",
              "      <td>844.0</td>\n",
              "      <td>9.0</td>\n",
              "      <td>0.0</td>\n",
              "      <td>22.0</td>\n",
              "      <td>906.0</td>\n",
              "      <td>111.0</td>\n",
              "      <td>306.0</td>\n",
              "      <td>0.0</td>\n",
              "      <td>0.0</td>\n",
              "      <td>0.0</td>\n",
              "      <td>0.0</td>\n",
              "      <td>0.0</td>\n",
              "      <td>5</td>\n",
              "      <td>0</td>\n",
              "      <td>8</td>\n",
              "      <td>Morning</td>\n",
              "      <td>2.0</td>\n",
              "      <td>1.0</td>\n",
              "    </tr>\n",
              "    <tr>\n",
              "      <th>42</th>\n",
              "      <td>1</td>\n",
              "      <td>1</td>\n",
              "      <td>4</td>\n",
              "      <td>2019-01-31</td>\n",
              "      <td>9E</td>\n",
              "      <td>N981EV</td>\n",
              "      <td>3442</td>\n",
              "      <td>SDF</td>\n",
              "      <td>1125.0</td>\n",
              "      <td>-5.0</td>\n",
              "      <td>0.0</td>\n",
              "      <td>12.0</td>\n",
              "      <td>1137.0</td>\n",
              "      <td>91.0</td>\n",
              "      <td>306.0</td>\n",
              "      <td>0.0</td>\n",
              "      <td>0.0</td>\n",
              "      <td>0.0</td>\n",
              "      <td>0.0</td>\n",
              "      <td>0.0</td>\n",
              "      <td>5</td>\n",
              "      <td>0</td>\n",
              "      <td>11</td>\n",
              "      <td>Morning</td>\n",
              "      <td>2.0</td>\n",
              "      <td>0.0</td>\n",
              "    </tr>\n",
              "    <tr>\n",
              "      <th>98</th>\n",
              "      <td>1</td>\n",
              "      <td>1</td>\n",
              "      <td>4</td>\n",
              "      <td>2019-01-31</td>\n",
              "      <td>9E</td>\n",
              "      <td>N134EV</td>\n",
              "      <td>3444</td>\n",
              "      <td>MCI</td>\n",
              "      <td>614.0</td>\n",
              "      <td>-1.0</td>\n",
              "      <td>0.0</td>\n",
              "      <td>16.0</td>\n",
              "      <td>630.0</td>\n",
              "      <td>181.0</td>\n",
              "      <td>1107.0</td>\n",
              "      <td>0.0</td>\n",
              "      <td>0.0</td>\n",
              "      <td>0.0</td>\n",
              "      <td>0.0</td>\n",
              "      <td>0.0</td>\n",
              "      <td>5</td>\n",
              "      <td>0</td>\n",
              "      <td>6</td>\n",
              "      <td>Early morning</td>\n",
              "      <td>2.0</td>\n",
              "      <td>0.0</td>\n",
              "    </tr>\n",
              "    <tr>\n",
              "      <th>72</th>\n",
              "      <td>1</td>\n",
              "      <td>1</td>\n",
              "      <td>4</td>\n",
              "      <td>2019-01-31</td>\n",
              "      <td>9E</td>\n",
              "      <td>N336PQ</td>\n",
              "      <td>3443</td>\n",
              "      <td>JFK</td>\n",
              "      <td>1914.0</td>\n",
              "      <td>54.0</td>\n",
              "      <td>1.0</td>\n",
              "      <td>25.0</td>\n",
              "      <td>1939.0</td>\n",
              "      <td>144.0</td>\n",
              "      <td>589.0</td>\n",
              "      <td>0.0</td>\n",
              "      <td>0.0</td>\n",
              "      <td>9.0</td>\n",
              "      <td>0.0</td>\n",
              "      <td>33.0</td>\n",
              "      <td>5</td>\n",
              "      <td>0</td>\n",
              "      <td>19</td>\n",
              "      <td>Evening</td>\n",
              "      <td>7.0</td>\n",
              "      <td>2.0</td>\n",
              "    </tr>\n",
              "  </tbody>\n",
              "</table>\n",
              "<p>100 rows × 26 columns</p>\n",
              "</div>"
            ],
            "text/plain": [
              "    QUARTER  ...  DELAY_Past_7_days_FL_NUM_ORIGIN\n",
              "80        1  ...                              0.0\n",
              "43        1  ...                              0.0\n",
              "44        1  ...                              2.0\n",
              "45        1  ...                              2.0\n",
              "75        1  ...                              0.0\n",
              "..      ...  ...                              ...\n",
              "41        1  ...                              1.0\n",
              "20        1  ...                              1.0\n",
              "42        1  ...                              0.0\n",
              "98        1  ...                              0.0\n",
              "72        1  ...                              2.0\n",
              "\n",
              "[100 rows x 26 columns]"
            ]
          },
          "execution_count": null,
          "metadata": {},
          "output_type": "execute_result"
        }
      ]
    },
    {
      "cell_type": "markdown",
      "metadata": {
        "id": "lV3U0XeyTF1L"
      },
      "source": [
        "cross Verification code"
      ]
    },
    {
      "cell_type": "code",
      "metadata": {
        "colab": {
          "base_uri": "https://localhost:8080/",
          "height": 142
        },
        "id": "63fhPyMnTfRp",
        "outputId": "7023b621-0bc6-48b7-f6b9-9813d594bbb0"
      },
      "source": [
        "filtered_df = FL_CONSOLIDATED2019_new_30_7[['FL_DATE','OP_CARRIER_FL_NUM','ORIGIN','DEP_DEL15','DELAY_Past_30_days_FL_NUM_ORIGIN','DELAY_Past_7_days_FL_NUM_ORIGIN']].loc[(FL_CONSOLIDATED2019_new_30_7['FL_DATE'] >= '2019-01-01')\n",
        "                     & (FL_CONSOLIDATED2019_new_30_7['FL_DATE'] <= '2019-01-30') &  (FL_CONSOLIDATED2019_new_30_7['OP_CARRIER_FL_NUM']==2)  &  (FL_CONSOLIDATED2019_new_30_7['ORIGIN']=='FLL') ].sort_values(['FL_DATE'],ascending=True)\n",
        "filtered_df"
      ],
      "execution_count": null,
      "outputs": [
        {
          "output_type": "execute_result",
          "data": {
            "text/html": [
              "<div>\n",
              "<style scoped>\n",
              "    .dataframe tbody tr th:only-of-type {\n",
              "        vertical-align: middle;\n",
              "    }\n",
              "\n",
              "    .dataframe tbody tr th {\n",
              "        vertical-align: top;\n",
              "    }\n",
              "\n",
              "    .dataframe thead th {\n",
              "        text-align: right;\n",
              "    }\n",
              "</style>\n",
              "<table border=\"1\" class=\"dataframe\">\n",
              "  <thead>\n",
              "    <tr style=\"text-align: right;\">\n",
              "      <th></th>\n",
              "      <th>FL_DATE</th>\n",
              "      <th>OP_CARRIER_FL_NUM</th>\n",
              "      <th>ORIGIN</th>\n",
              "      <th>DEP_DEL15</th>\n",
              "      <th>DELAY_Past_30_days_FL_NUM_ORIGIN</th>\n",
              "      <th>DELAY_Past_7_days_FL_NUM_ORIGIN</th>\n",
              "    </tr>\n",
              "  </thead>\n",
              "  <tbody>\n",
              "    <tr>\n",
              "      <th>547949</th>\n",
              "      <td>2019-01-01</td>\n",
              "      <td>2</td>\n",
              "      <td>FLL</td>\n",
              "      <td>1.0</td>\n",
              "      <td>0.0</td>\n",
              "      <td>0.0</td>\n",
              "    </tr>\n",
              "    <tr>\n",
              "      <th>548797</th>\n",
              "      <td>2019-01-02</td>\n",
              "      <td>2</td>\n",
              "      <td>FLL</td>\n",
              "      <td>1.0</td>\n",
              "      <td>1.0</td>\n",
              "      <td>1.0</td>\n",
              "    </tr>\n",
              "    <tr>\n",
              "      <th>549645</th>\n",
              "      <td>2019-01-03</td>\n",
              "      <td>2</td>\n",
              "      <td>FLL</td>\n",
              "      <td>0.0</td>\n",
              "      <td>2.0</td>\n",
              "      <td>2.0</td>\n",
              "    </tr>\n",
              "  </tbody>\n",
              "</table>\n",
              "</div>"
            ],
            "text/plain": [
              "          FL_DATE  ...  DELAY_Past_7_days_FL_NUM_ORIGIN\n",
              "547949 2019-01-01  ...                              0.0\n",
              "548797 2019-01-02  ...                              1.0\n",
              "549645 2019-01-03  ...                              2.0\n",
              "\n",
              "[3 rows x 6 columns]"
            ]
          },
          "metadata": {},
          "execution_count": 36
        }
      ]
    },
    {
      "cell_type": "markdown",
      "metadata": {
        "id": "XYttqqz47zZ3"
      },
      "source": [
        "# TAIL_NUM, ORIGIN --> DELAY last 30 days"
      ]
    },
    {
      "cell_type": "markdown",
      "metadata": {
        "id": "4diO8wuXNr7s"
      },
      "source": [
        "Having same date for tailnum and origin combination. since tailnum and dep_time is running for 1 hr, used this combination. "
      ]
    },
    {
      "cell_type": "code",
      "metadata": {
        "id": "KgwLRRO-7ybU"
      },
      "source": [
        "FL_CONSOLIDATED2019_temp_tail=FL_CONSOLIDATED2019[['TAIL_NUM','FL_DATE','ORIGIN','DEP_DEL15']]\n",
        "df_TAIL_30 = FL_CONSOLIDATED2019_temp_tail.groupby(['TAIL_NUM','ORIGIN']).apply(lambda x: x.set_index('FL_DATE').resample('1D').first())"
      ],
      "execution_count": null,
      "outputs": []
    },
    {
      "cell_type": "code",
      "metadata": {
        "id": "fY0KrBm6C8s3"
      },
      "source": [
        "df1_TAIL = df_TAIL_30.groupby(level=0)['DEP_DEL15'].apply(lambda x: x.shift().rolling(min_periods=1,window=30).sum()).reset_index(name='DELAY_Past_30_days_TAILNUM')"
      ],
      "execution_count": null,
      "outputs": []
    },
    {
      "cell_type": "code",
      "metadata": {
        "id": "st8r9aevDFIP"
      },
      "source": [
        "FL_CONSOLIDATED2019_new_TAIL=pd.merge(FL_CONSOLIDATED2019_new_30_7, df1_TAIL, on=['FL_DATE','TAIL_NUM','ORIGIN'], how='left')"
      ],
      "execution_count": null,
      "outputs": []
    },
    {
      "cell_type": "markdown",
      "metadata": {
        "id": "O1cl3h2GOG5J"
      },
      "source": [
        "cross verification code"
      ]
    },
    {
      "cell_type": "code",
      "metadata": {
        "colab": {
          "base_uri": "https://localhost:8080/",
          "height": 370
        },
        "id": "fJXpnGUDDT-W",
        "outputId": "68df6930-356e-424e-fb78-1e45333db7f3"
      },
      "source": [
        "filtered_df_TAIL = FL_CONSOLIDATED2019_new_30_7[['FL_DATE','TAIL_NUM','ORIGIN','DEP_DEL15','DELAY_Past_30_days_TAILNUM']].loc[(FL_CONSOLIDATED2019_new_30_7['FL_DATE'] >= '2019-01-01')\n",
        "                     & (FL_CONSOLIDATED2019_new_30_7['FL_DATE'] <= '2019-01-30') &  (FL_CONSOLIDATED2019_new_30_7['TAIL_NUM']=='216NV') & (FL_CONSOLIDATED2019_new_30_7['ORIGIN']=='USA') ].sort_values(['FL_DATE'],ascending=True)\n",
        "filtered_df_TAIL"
      ],
      "execution_count": null,
      "outputs": [
        {
          "ename": "KeyError",
          "evalue": "ignored",
          "output_type": "error",
          "traceback": [
            "\u001b[0;31m---------------------------------------------------------------------------\u001b[0m",
            "\u001b[0;31mKeyError\u001b[0m                                  Traceback (most recent call last)",
            "\u001b[0;32m<ipython-input-114-752df5489aed>\u001b[0m in \u001b[0;36m<module>\u001b[0;34m()\u001b[0m\n\u001b[0;32m----> 1\u001b[0;31m filtered_df_TAIL = FL_CONSOLIDATED2019_new_30_7[['FL_DATE','TAIL_NUM','ORIGIN','DEP_DEL15','DELAY_Past_30_days_TAILNUM']].loc[(FL_CONSOLIDATED2019_new_30_7['FL_DATE'] >= '2019-01-01')\n\u001b[0m\u001b[1;32m      2\u001b[0m                      & (FL_CONSOLIDATED2019_new_30_7['FL_DATE'] <= '2019-01-30') &  (FL_CONSOLIDATED2019_new_30_7['TAIL_NUM']=='216NV') & (FL_CONSOLIDATED2019_new_30_7['ORIGIN']=='USA') ].sort_values(['FL_DATE'],ascending=True)\n\u001b[1;32m      3\u001b[0m \u001b[0mfiltered_df_TAIL\u001b[0m\u001b[0;34m\u001b[0m\u001b[0;34m\u001b[0m\u001b[0m\n",
            "\u001b[0;32m/usr/local/lib/python3.7/dist-packages/pandas/core/frame.py\u001b[0m in \u001b[0;36m__getitem__\u001b[0;34m(self, key)\u001b[0m\n\u001b[1;32m   2910\u001b[0m             \u001b[0;32mif\u001b[0m \u001b[0mis_iterator\u001b[0m\u001b[0;34m(\u001b[0m\u001b[0mkey\u001b[0m\u001b[0;34m)\u001b[0m\u001b[0;34m:\u001b[0m\u001b[0;34m\u001b[0m\u001b[0;34m\u001b[0m\u001b[0m\n\u001b[1;32m   2911\u001b[0m                 \u001b[0mkey\u001b[0m \u001b[0;34m=\u001b[0m \u001b[0mlist\u001b[0m\u001b[0;34m(\u001b[0m\u001b[0mkey\u001b[0m\u001b[0;34m)\u001b[0m\u001b[0;34m\u001b[0m\u001b[0;34m\u001b[0m\u001b[0m\n\u001b[0;32m-> 2912\u001b[0;31m             \u001b[0mindexer\u001b[0m \u001b[0;34m=\u001b[0m \u001b[0mself\u001b[0m\u001b[0;34m.\u001b[0m\u001b[0mloc\u001b[0m\u001b[0;34m.\u001b[0m\u001b[0m_get_listlike_indexer\u001b[0m\u001b[0;34m(\u001b[0m\u001b[0mkey\u001b[0m\u001b[0;34m,\u001b[0m \u001b[0maxis\u001b[0m\u001b[0;34m=\u001b[0m\u001b[0;36m1\u001b[0m\u001b[0;34m,\u001b[0m \u001b[0mraise_missing\u001b[0m\u001b[0;34m=\u001b[0m\u001b[0;32mTrue\u001b[0m\u001b[0;34m)\u001b[0m\u001b[0;34m[\u001b[0m\u001b[0;36m1\u001b[0m\u001b[0;34m]\u001b[0m\u001b[0;34m\u001b[0m\u001b[0;34m\u001b[0m\u001b[0m\n\u001b[0m\u001b[1;32m   2913\u001b[0m \u001b[0;34m\u001b[0m\u001b[0m\n\u001b[1;32m   2914\u001b[0m         \u001b[0;31m# take() does not accept boolean indexers\u001b[0m\u001b[0;34m\u001b[0m\u001b[0;34m\u001b[0m\u001b[0;34m\u001b[0m\u001b[0m\n",
            "\u001b[0;32m/usr/local/lib/python3.7/dist-packages/pandas/core/indexing.py\u001b[0m in \u001b[0;36m_get_listlike_indexer\u001b[0;34m(self, key, axis, raise_missing)\u001b[0m\n\u001b[1;32m   1252\u001b[0m             \u001b[0mkeyarr\u001b[0m\u001b[0;34m,\u001b[0m \u001b[0mindexer\u001b[0m\u001b[0;34m,\u001b[0m \u001b[0mnew_indexer\u001b[0m \u001b[0;34m=\u001b[0m \u001b[0max\u001b[0m\u001b[0;34m.\u001b[0m\u001b[0m_reindex_non_unique\u001b[0m\u001b[0;34m(\u001b[0m\u001b[0mkeyarr\u001b[0m\u001b[0;34m)\u001b[0m\u001b[0;34m\u001b[0m\u001b[0;34m\u001b[0m\u001b[0m\n\u001b[1;32m   1253\u001b[0m \u001b[0;34m\u001b[0m\u001b[0m\n\u001b[0;32m-> 1254\u001b[0;31m         \u001b[0mself\u001b[0m\u001b[0;34m.\u001b[0m\u001b[0m_validate_read_indexer\u001b[0m\u001b[0;34m(\u001b[0m\u001b[0mkeyarr\u001b[0m\u001b[0;34m,\u001b[0m \u001b[0mindexer\u001b[0m\u001b[0;34m,\u001b[0m \u001b[0maxis\u001b[0m\u001b[0;34m,\u001b[0m \u001b[0mraise_missing\u001b[0m\u001b[0;34m=\u001b[0m\u001b[0mraise_missing\u001b[0m\u001b[0;34m)\u001b[0m\u001b[0;34m\u001b[0m\u001b[0;34m\u001b[0m\u001b[0m\n\u001b[0m\u001b[1;32m   1255\u001b[0m         \u001b[0;32mreturn\u001b[0m \u001b[0mkeyarr\u001b[0m\u001b[0;34m,\u001b[0m \u001b[0mindexer\u001b[0m\u001b[0;34m\u001b[0m\u001b[0;34m\u001b[0m\u001b[0m\n\u001b[1;32m   1256\u001b[0m \u001b[0;34m\u001b[0m\u001b[0m\n",
            "\u001b[0;32m/usr/local/lib/python3.7/dist-packages/pandas/core/indexing.py\u001b[0m in \u001b[0;36m_validate_read_indexer\u001b[0;34m(self, key, indexer, axis, raise_missing)\u001b[0m\n\u001b[1;32m   1302\u001b[0m             \u001b[0;32mif\u001b[0m \u001b[0mraise_missing\u001b[0m\u001b[0;34m:\u001b[0m\u001b[0;34m\u001b[0m\u001b[0;34m\u001b[0m\u001b[0m\n\u001b[1;32m   1303\u001b[0m                 \u001b[0mnot_found\u001b[0m \u001b[0;34m=\u001b[0m \u001b[0mlist\u001b[0m\u001b[0;34m(\u001b[0m\u001b[0mset\u001b[0m\u001b[0;34m(\u001b[0m\u001b[0mkey\u001b[0m\u001b[0;34m)\u001b[0m \u001b[0;34m-\u001b[0m \u001b[0mset\u001b[0m\u001b[0;34m(\u001b[0m\u001b[0max\u001b[0m\u001b[0;34m)\u001b[0m\u001b[0;34m)\u001b[0m\u001b[0;34m\u001b[0m\u001b[0;34m\u001b[0m\u001b[0m\n\u001b[0;32m-> 1304\u001b[0;31m                 \u001b[0;32mraise\u001b[0m \u001b[0mKeyError\u001b[0m\u001b[0;34m(\u001b[0m\u001b[0;34mf\"{not_found} not in index\"\u001b[0m\u001b[0;34m)\u001b[0m\u001b[0;34m\u001b[0m\u001b[0;34m\u001b[0m\u001b[0m\n\u001b[0m\u001b[1;32m   1305\u001b[0m \u001b[0;34m\u001b[0m\u001b[0m\n\u001b[1;32m   1306\u001b[0m             \u001b[0;31m# we skip the warning on Categorical\u001b[0m\u001b[0;34m\u001b[0m\u001b[0;34m\u001b[0m\u001b[0;34m\u001b[0m\u001b[0m\n",
            "\u001b[0;31mKeyError\u001b[0m: \"['DELAY_Past_30_days_TAILNUM'] not in index\""
          ]
        }
      ]
    },
    {
      "cell_type": "code",
      "metadata": {
        "colab": {
          "base_uri": "https://localhost:8080/",
          "height": 229
        },
        "id": "u2oVcw8Kcg13",
        "outputId": "57c72a47-27fb-49c8-e4b5-5b897316e4de"
      },
      "source": [
        "filtered_df_TAIL1 = FL_CONSOLIDATED2019_new_TAIL[['FL_DATE','TAIL_NUM','ORIGIN','DEP_DEL15','DELAY_Past_30_days_TAILNUM']].loc[(FL_CONSOLIDATED2019_new_TAIL['FL_DATE'] >= '2019-01-01')\n",
        "                     & (FL_CONSOLIDATED2019_new_TAIL['FL_DATE'] <= '2019-01-30') &  (FL_CONSOLIDATED2019_new_TAIL['TAIL_NUM']=='216NV') ].sort_values(['FL_DATE'],ascending=True)\n",
        "filtered_df_TAIL1"
      ],
      "execution_count": null,
      "outputs": [
        {
          "ename": "NameError",
          "evalue": "ignored",
          "output_type": "error",
          "traceback": [
            "\u001b[0;31m---------------------------------------------------------------------------\u001b[0m",
            "\u001b[0;31mNameError\u001b[0m                                 Traceback (most recent call last)",
            "\u001b[0;32m<ipython-input-109-832e548ec6cd>\u001b[0m in \u001b[0;36m<module>\u001b[0;34m()\u001b[0m\n\u001b[0;32m----> 1\u001b[0;31m filtered_df_TAIL1 = FL_CONSOLIDATED2019_new_TAIL[['FL_DATE','TAIL_NUM','ORIGIN','DEP_DEL15','DELAY_Past_30_days_TAILNUM']].loc[(FL_CONSOLIDATED2019_new_TAIL['FL_DATE'] >= '2019-01-01')\n\u001b[0m\u001b[1;32m      2\u001b[0m                      & (FL_CONSOLIDATED2019_new_TAIL['FL_DATE'] <= '2019-01-30') &  (FL_CONSOLIDATED2019_new_TAIL['TAIL_NUM']=='216NV') ].sort_values(['FL_DATE'],ascending=True)\n\u001b[1;32m      3\u001b[0m \u001b[0mfiltered_df_TAIL1\u001b[0m\u001b[0;34m\u001b[0m\u001b[0;34m\u001b[0m\u001b[0m\n",
            "\u001b[0;31mNameError\u001b[0m: name 'FL_CONSOLIDATED2019_new_TAIL' is not defined"
          ]
        }
      ]
    },
    {
      "cell_type": "markdown",
      "metadata": {
        "id": "NHY6cGV-PNzB"
      },
      "source": [
        "##  TAIL_NUM , ORIGIN -->DELAY_LAST_7DAYS_COUNT"
      ]
    },
    {
      "cell_type": "code",
      "metadata": {
        "id": "D17kxF7yPNzC"
      },
      "source": [
        "df1_TAIL_7 = df_TAIL_30.groupby(level=0)['DEP_DEL15'].apply(lambda x: x.shift().rolling(min_periods=1,window=7).sum()).reset_index(name='DELAY_Past_7_days_TAILNUM')"
      ],
      "execution_count": null,
      "outputs": []
    },
    {
      "cell_type": "code",
      "metadata": {
        "id": "HFSaVEa8PNzC"
      },
      "source": [
        "FL_CONSOLIDATED2019_new_tail7=pd.merge(FL_CONSOLIDATED2019_new_TAIL, df1_TAIL_7, on=['FL_DATE','TAIL_NUM','ORIGIN'], how='left')\n"
      ],
      "execution_count": null,
      "outputs": []
    },
    {
      "cell_type": "code",
      "metadata": {
        "colab": {
          "base_uri": "https://localhost:8080/",
          "height": 605
        },
        "id": "bmhPXv3xa521",
        "outputId": "9ae33a64-9bc7-4563-d3c6-5717daafe57e"
      },
      "source": [
        "FL_CONSOLIDATED2019_new_tail7"
      ],
      "execution_count": null,
      "outputs": [
        {
          "data": {
            "text/html": [
              "<div>\n",
              "<style scoped>\n",
              "    .dataframe tbody tr th:only-of-type {\n",
              "        vertical-align: middle;\n",
              "    }\n",
              "\n",
              "    .dataframe tbody tr th {\n",
              "        vertical-align: top;\n",
              "    }\n",
              "\n",
              "    .dataframe thead th {\n",
              "        text-align: right;\n",
              "    }\n",
              "</style>\n",
              "<table border=\"1\" class=\"dataframe\">\n",
              "  <thead>\n",
              "    <tr style=\"text-align: right;\">\n",
              "      <th></th>\n",
              "      <th>QUARTER</th>\n",
              "      <th>MONTH</th>\n",
              "      <th>DAY_OF_WEEK</th>\n",
              "      <th>FL_DATE</th>\n",
              "      <th>OP_CARRIER</th>\n",
              "      <th>TAIL_NUM</th>\n",
              "      <th>OP_CARRIER_FL_NUM</th>\n",
              "      <th>ORIGIN</th>\n",
              "      <th>DEP_TIME</th>\n",
              "      <th>DEP_DELAY</th>\n",
              "      <th>DEP_DEL15</th>\n",
              "      <th>TAXI_OUT</th>\n",
              "      <th>WHEELS_OFF</th>\n",
              "      <th>CRS_ELAPSED_TIME</th>\n",
              "      <th>DISTANCE</th>\n",
              "      <th>CARRIER_DELAY</th>\n",
              "      <th>WEATHER_DELAY</th>\n",
              "      <th>NAS_DELAY</th>\n",
              "      <th>SECURITY_DELAY</th>\n",
              "      <th>LATE_AIRCRAFT_DELAY</th>\n",
              "      <th>WEEK_OF_MONTH</th>\n",
              "      <th>DAY_OF_WEEK_days_end</th>\n",
              "      <th>DEP_TIMEslot_BLK</th>\n",
              "      <th>Dep_period</th>\n",
              "      <th>DELAY_Past_30_days_FL_NUM_ORIGIN</th>\n",
              "      <th>DELAY_Past_7_days_FL_NUM_ORIGIN</th>\n",
              "      <th>DELAY_Past_30_days_TAILNUM</th>\n",
              "      <th>DELAY_Past_7_days_TAILNUM</th>\n",
              "    </tr>\n",
              "  </thead>\n",
              "  <tbody>\n",
              "    <tr>\n",
              "      <th>0</th>\n",
              "      <td>1</td>\n",
              "      <td>1</td>\n",
              "      <td>6</td>\n",
              "      <td>2019-01-26</td>\n",
              "      <td>9E</td>\n",
              "      <td>N137EV</td>\n",
              "      <td>3442</td>\n",
              "      <td>CVG</td>\n",
              "      <td>1727.0</td>\n",
              "      <td>-4.0</td>\n",
              "      <td>0.0</td>\n",
              "      <td>11.0</td>\n",
              "      <td>1738.0</td>\n",
              "      <td>132.0</td>\n",
              "      <td>596.0</td>\n",
              "      <td>NaN</td>\n",
              "      <td>NaN</td>\n",
              "      <td>NaN</td>\n",
              "      <td>NaN</td>\n",
              "      <td>NaN</td>\n",
              "      <td>4</td>\n",
              "      <td>1</td>\n",
              "      <td>17</td>\n",
              "      <td>Evening</td>\n",
              "      <td>4.0</td>\n",
              "      <td>2.0</td>\n",
              "      <td>0.0</td>\n",
              "      <td>NaN</td>\n",
              "    </tr>\n",
              "    <tr>\n",
              "      <th>1</th>\n",
              "      <td>1</td>\n",
              "      <td>1</td>\n",
              "      <td>1</td>\n",
              "      <td>2019-01-07</td>\n",
              "      <td>9E</td>\n",
              "      <td>N927EV</td>\n",
              "      <td>3442</td>\n",
              "      <td>DTW</td>\n",
              "      <td>830.0</td>\n",
              "      <td>-5.0</td>\n",
              "      <td>0.0</td>\n",
              "      <td>19.0</td>\n",
              "      <td>849.0</td>\n",
              "      <td>111.0</td>\n",
              "      <td>306.0</td>\n",
              "      <td>NaN</td>\n",
              "      <td>NaN</td>\n",
              "      <td>NaN</td>\n",
              "      <td>NaN</td>\n",
              "      <td>NaN</td>\n",
              "      <td>2</td>\n",
              "      <td>0</td>\n",
              "      <td>8</td>\n",
              "      <td>Morning</td>\n",
              "      <td>1.0</td>\n",
              "      <td>0.0</td>\n",
              "      <td>1.0</td>\n",
              "      <td>1.0</td>\n",
              "    </tr>\n",
              "    <tr>\n",
              "      <th>2</th>\n",
              "      <td>1</td>\n",
              "      <td>1</td>\n",
              "      <td>2</td>\n",
              "      <td>2019-01-08</td>\n",
              "      <td>9E</td>\n",
              "      <td>N927EV</td>\n",
              "      <td>3442</td>\n",
              "      <td>DTW</td>\n",
              "      <td>830.0</td>\n",
              "      <td>-5.0</td>\n",
              "      <td>0.0</td>\n",
              "      <td>21.0</td>\n",
              "      <td>851.0</td>\n",
              "      <td>111.0</td>\n",
              "      <td>306.0</td>\n",
              "      <td>NaN</td>\n",
              "      <td>NaN</td>\n",
              "      <td>NaN</td>\n",
              "      <td>NaN</td>\n",
              "      <td>NaN</td>\n",
              "      <td>2</td>\n",
              "      <td>0</td>\n",
              "      <td>8</td>\n",
              "      <td>Morning</td>\n",
              "      <td>1.0</td>\n",
              "      <td>0.0</td>\n",
              "      <td>1.0</td>\n",
              "      <td>1.0</td>\n",
              "    </tr>\n",
              "    <tr>\n",
              "      <th>3</th>\n",
              "      <td>1</td>\n",
              "      <td>1</td>\n",
              "      <td>3</td>\n",
              "      <td>2019-01-09</td>\n",
              "      <td>9E</td>\n",
              "      <td>N8974C</td>\n",
              "      <td>3442</td>\n",
              "      <td>DTW</td>\n",
              "      <td>825.0</td>\n",
              "      <td>-10.0</td>\n",
              "      <td>0.0</td>\n",
              "      <td>35.0</td>\n",
              "      <td>900.0</td>\n",
              "      <td>111.0</td>\n",
              "      <td>306.0</td>\n",
              "      <td>NaN</td>\n",
              "      <td>NaN</td>\n",
              "      <td>NaN</td>\n",
              "      <td>NaN</td>\n",
              "      <td>NaN</td>\n",
              "      <td>2</td>\n",
              "      <td>0</td>\n",
              "      <td>8</td>\n",
              "      <td>Morning</td>\n",
              "      <td>1.0</td>\n",
              "      <td>0.0</td>\n",
              "      <td>1.0</td>\n",
              "      <td>1.0</td>\n",
              "    </tr>\n",
              "    <tr>\n",
              "      <th>4</th>\n",
              "      <td>1</td>\n",
              "      <td>1</td>\n",
              "      <td>4</td>\n",
              "      <td>2019-01-10</td>\n",
              "      <td>9E</td>\n",
              "      <td>N833AY</td>\n",
              "      <td>3442</td>\n",
              "      <td>DTW</td>\n",
              "      <td>826.0</td>\n",
              "      <td>-9.0</td>\n",
              "      <td>0.0</td>\n",
              "      <td>41.0</td>\n",
              "      <td>907.0</td>\n",
              "      <td>111.0</td>\n",
              "      <td>306.0</td>\n",
              "      <td>NaN</td>\n",
              "      <td>NaN</td>\n",
              "      <td>NaN</td>\n",
              "      <td>NaN</td>\n",
              "      <td>NaN</td>\n",
              "      <td>2</td>\n",
              "      <td>0</td>\n",
              "      <td>8</td>\n",
              "      <td>Morning</td>\n",
              "      <td>1.0</td>\n",
              "      <td>0.0</td>\n",
              "      <td>0.0</td>\n",
              "      <td>0.0</td>\n",
              "    </tr>\n",
              "    <tr>\n",
              "      <th>...</th>\n",
              "      <td>...</td>\n",
              "      <td>...</td>\n",
              "      <td>...</td>\n",
              "      <td>...</td>\n",
              "      <td>...</td>\n",
              "      <td>...</td>\n",
              "      <td>...</td>\n",
              "      <td>...</td>\n",
              "      <td>...</td>\n",
              "      <td>...</td>\n",
              "      <td>...</td>\n",
              "      <td>...</td>\n",
              "      <td>...</td>\n",
              "      <td>...</td>\n",
              "      <td>...</td>\n",
              "      <td>...</td>\n",
              "      <td>...</td>\n",
              "      <td>...</td>\n",
              "      <td>...</td>\n",
              "      <td>...</td>\n",
              "      <td>...</td>\n",
              "      <td>...</td>\n",
              "      <td>...</td>\n",
              "      <td>...</td>\n",
              "      <td>...</td>\n",
              "      <td>...</td>\n",
              "      <td>...</td>\n",
              "      <td>...</td>\n",
              "    </tr>\n",
              "    <tr>\n",
              "      <th>3874807</th>\n",
              "      <td>2</td>\n",
              "      <td>6</td>\n",
              "      <td>5</td>\n",
              "      <td>2019-06-28</td>\n",
              "      <td>AA</td>\n",
              "      <td>N923NN</td>\n",
              "      <td>352</td>\n",
              "      <td>DFW</td>\n",
              "      <td>1142.0</td>\n",
              "      <td>6.0</td>\n",
              "      <td>0.0</td>\n",
              "      <td>17.0</td>\n",
              "      <td>1159.0</td>\n",
              "      <td>221.0</td>\n",
              "      <td>1438.0</td>\n",
              "      <td>NaN</td>\n",
              "      <td>NaN</td>\n",
              "      <td>NaN</td>\n",
              "      <td>NaN</td>\n",
              "      <td>NaN</td>\n",
              "      <td>5</td>\n",
              "      <td>0</td>\n",
              "      <td>11</td>\n",
              "      <td>Morning</td>\n",
              "      <td>12.0</td>\n",
              "      <td>2.0</td>\n",
              "      <td>10.0</td>\n",
              "      <td>2.0</td>\n",
              "    </tr>\n",
              "    <tr>\n",
              "      <th>3874808</th>\n",
              "      <td>2</td>\n",
              "      <td>6</td>\n",
              "      <td>6</td>\n",
              "      <td>2019-06-29</td>\n",
              "      <td>AA</td>\n",
              "      <td>N831NN</td>\n",
              "      <td>352</td>\n",
              "      <td>DFW</td>\n",
              "      <td>1219.0</td>\n",
              "      <td>43.0</td>\n",
              "      <td>1.0</td>\n",
              "      <td>14.0</td>\n",
              "      <td>1233.0</td>\n",
              "      <td>221.0</td>\n",
              "      <td>1438.0</td>\n",
              "      <td>21.0</td>\n",
              "      <td>0.0</td>\n",
              "      <td>0.0</td>\n",
              "      <td>0.0</td>\n",
              "      <td>0.0</td>\n",
              "      <td>5</td>\n",
              "      <td>1</td>\n",
              "      <td>12</td>\n",
              "      <td>Afternoon</td>\n",
              "      <td>11.0</td>\n",
              "      <td>2.0</td>\n",
              "      <td>1.0</td>\n",
              "      <td>0.0</td>\n",
              "    </tr>\n",
              "    <tr>\n",
              "      <th>3874809</th>\n",
              "      <td>2</td>\n",
              "      <td>6</td>\n",
              "      <td>7</td>\n",
              "      <td>2019-06-30</td>\n",
              "      <td>AA</td>\n",
              "      <td>N921NN</td>\n",
              "      <td>352</td>\n",
              "      <td>DFW</td>\n",
              "      <td>1241.0</td>\n",
              "      <td>65.0</td>\n",
              "      <td>1.0</td>\n",
              "      <td>21.0</td>\n",
              "      <td>1302.0</td>\n",
              "      <td>221.0</td>\n",
              "      <td>1438.0</td>\n",
              "      <td>11.0</td>\n",
              "      <td>0.0</td>\n",
              "      <td>0.0</td>\n",
              "      <td>0.0</td>\n",
              "      <td>38.0</td>\n",
              "      <td>5</td>\n",
              "      <td>1</td>\n",
              "      <td>12</td>\n",
              "      <td>Afternoon</td>\n",
              "      <td>12.0</td>\n",
              "      <td>2.0</td>\n",
              "      <td>7.0</td>\n",
              "      <td>4.0</td>\n",
              "    </tr>\n",
              "    <tr>\n",
              "      <th>3874810</th>\n",
              "      <td>2</td>\n",
              "      <td>6</td>\n",
              "      <td>6</td>\n",
              "      <td>2019-06-01</td>\n",
              "      <td>AA</td>\n",
              "      <td>N957NN</td>\n",
              "      <td>352</td>\n",
              "      <td>SJC</td>\n",
              "      <td>1406.0</td>\n",
              "      <td>-2.0</td>\n",
              "      <td>0.0</td>\n",
              "      <td>12.0</td>\n",
              "      <td>1418.0</td>\n",
              "      <td>211.0</td>\n",
              "      <td>1438.0</td>\n",
              "      <td>NaN</td>\n",
              "      <td>NaN</td>\n",
              "      <td>NaN</td>\n",
              "      <td>NaN</td>\n",
              "      <td>NaN</td>\n",
              "      <td>1</td>\n",
              "      <td>1</td>\n",
              "      <td>14</td>\n",
              "      <td>Afternoon</td>\n",
              "      <td>9.0</td>\n",
              "      <td>2.0</td>\n",
              "      <td>1.0</td>\n",
              "      <td>0.0</td>\n",
              "    </tr>\n",
              "    <tr>\n",
              "      <th>3874811</th>\n",
              "      <td>2</td>\n",
              "      <td>6</td>\n",
              "      <td>7</td>\n",
              "      <td>2019-06-02</td>\n",
              "      <td>AA</td>\n",
              "      <td>N981AN</td>\n",
              "      <td>352</td>\n",
              "      <td>SJC</td>\n",
              "      <td>1504.0</td>\n",
              "      <td>56.0</td>\n",
              "      <td>1.0</td>\n",
              "      <td>12.0</td>\n",
              "      <td>1516.0</td>\n",
              "      <td>211.0</td>\n",
              "      <td>1438.0</td>\n",
              "      <td>0.0</td>\n",
              "      <td>0.0</td>\n",
              "      <td>0.0</td>\n",
              "      <td>0.0</td>\n",
              "      <td>54.0</td>\n",
              "      <td>1</td>\n",
              "      <td>1</td>\n",
              "      <td>15</td>\n",
              "      <td>Afternoon</td>\n",
              "      <td>8.0</td>\n",
              "      <td>2.0</td>\n",
              "      <td>0.0</td>\n",
              "      <td>0.0</td>\n",
              "    </tr>\n",
              "  </tbody>\n",
              "</table>\n",
              "<p>3874812 rows × 28 columns</p>\n",
              "</div>"
            ],
            "text/plain": [
              "         QUARTER  MONTH  ...  DELAY_Past_30_days_TAILNUM DELAY_Past_7_days_TAILNUM\n",
              "0              1      1  ...                         0.0                       NaN\n",
              "1              1      1  ...                         1.0                       1.0\n",
              "2              1      1  ...                         1.0                       1.0\n",
              "3              1      1  ...                         1.0                       1.0\n",
              "4              1      1  ...                         0.0                       0.0\n",
              "...          ...    ...  ...                         ...                       ...\n",
              "3874807        2      6  ...                        10.0                       2.0\n",
              "3874808        2      6  ...                         1.0                       0.0\n",
              "3874809        2      6  ...                         7.0                       4.0\n",
              "3874810        2      6  ...                         1.0                       0.0\n",
              "3874811        2      6  ...                         0.0                       0.0\n",
              "\n",
              "[3874812 rows x 28 columns]"
            ]
          },
          "execution_count": 40,
          "metadata": {},
          "output_type": "execute_result"
        }
      ]
    },
    {
      "cell_type": "markdown",
      "metadata": {
        "id": "B3-ZvQGycjTl"
      },
      "source": [
        "below code running for more than hour"
      ]
    },
    {
      "cell_type": "markdown",
      "metadata": {
        "id": "3o5ugG_V9uxB"
      },
      "source": [
        "# TAIL_NUM, DEP_TIME --> DELAY_LASTMONTH_COUNT"
      ]
    },
    {
      "cell_type": "code",
      "metadata": {
        "id": "Ib4YcQUcCqwb"
      },
      "source": [
        "FL_CONSOLIDATED2019_temp_tail=FL_CONSOLIDATED2019[['TAIL_NUM','FL_DATE','DEP_TIME','DEP_DEL15']]\n",
        "df_TAIL_30 = FL_CONSOLIDATED2019_temp_tail.groupby(['TAIL_NUM','DEP_TIME']).apply(lambda x: x.set_index('FL_DATE').resample('1D').first())"
      ],
      "execution_count": null,
      "outputs": []
    },
    {
      "cell_type": "code",
      "metadata": {
        "id": "DzL3ynx_Cqwc"
      },
      "source": [
        "#df_TAIL_30.head(100)"
      ],
      "execution_count": null,
      "outputs": []
    },
    {
      "cell_type": "code",
      "metadata": {
        "colab": {
          "base_uri": "https://localhost:8080/",
          "height": 162
        },
        "id": "xnUKVAXGCqwd",
        "outputId": "cb4bf884-3840-41e5-8145-17ec83b209aa"
      },
      "source": [
        "df1_TAIL = df_TAIL_30.groupby(level=0)['DEP_DEL15'].apply(lambda x: x.shift().rolling(min_periods=1,window=30).sum()).reset_index(name='DELAY_Past_30_days_TAILNUM')"
      ],
      "execution_count": null,
      "outputs": [
        {
          "ename": "NameError",
          "evalue": "ignored",
          "output_type": "error",
          "traceback": [
            "\u001b[0;31m---------------------------------------------------------------------------\u001b[0m",
            "\u001b[0;31mNameError\u001b[0m                                 Traceback (most recent call last)",
            "\u001b[0;32m<ipython-input-32-1e239ab616cb>\u001b[0m in \u001b[0;36m<module>\u001b[0;34m()\u001b[0m\n\u001b[0;32m----> 1\u001b[0;31m \u001b[0mdf1_TAIL\u001b[0m \u001b[0;34m=\u001b[0m \u001b[0mdf_TAIL_30\u001b[0m\u001b[0;34m.\u001b[0m\u001b[0mgroupby\u001b[0m\u001b[0;34m(\u001b[0m\u001b[0mlevel\u001b[0m\u001b[0;34m=\u001b[0m\u001b[0;36m0\u001b[0m\u001b[0;34m)\u001b[0m\u001b[0;34m[\u001b[0m\u001b[0;34m'DEP_DEL15'\u001b[0m\u001b[0;34m]\u001b[0m\u001b[0;34m.\u001b[0m\u001b[0mapply\u001b[0m\u001b[0;34m(\u001b[0m\u001b[0;32mlambda\u001b[0m \u001b[0mx\u001b[0m\u001b[0;34m:\u001b[0m \u001b[0mx\u001b[0m\u001b[0;34m.\u001b[0m\u001b[0mshift\u001b[0m\u001b[0;34m(\u001b[0m\u001b[0;34m)\u001b[0m\u001b[0;34m.\u001b[0m\u001b[0mrolling\u001b[0m\u001b[0;34m(\u001b[0m\u001b[0mmin_periods\u001b[0m\u001b[0;34m=\u001b[0m\u001b[0;36m1\u001b[0m\u001b[0;34m,\u001b[0m\u001b[0mwindow\u001b[0m\u001b[0;34m=\u001b[0m\u001b[0;36m30\u001b[0m\u001b[0;34m)\u001b[0m\u001b[0;34m.\u001b[0m\u001b[0msum\u001b[0m\u001b[0;34m(\u001b[0m\u001b[0;34m)\u001b[0m\u001b[0;34m)\u001b[0m\u001b[0;34m.\u001b[0m\u001b[0mreset_index\u001b[0m\u001b[0;34m(\u001b[0m\u001b[0mname\u001b[0m\u001b[0;34m=\u001b[0m\u001b[0;34m'DELAY_Past_30_days_TAILNUM'\u001b[0m\u001b[0;34m)\u001b[0m\u001b[0;34m\u001b[0m\u001b[0;34m\u001b[0m\u001b[0m\n\u001b[0m",
            "\u001b[0;31mNameError\u001b[0m: name 'df_TAIL_30' is not defined"
          ]
        }
      ]
    },
    {
      "cell_type": "code",
      "metadata": {
        "colab": {
          "base_uri": "https://localhost:8080/",
          "height": 162
        },
        "id": "HHt57VtJCqwd",
        "outputId": "e39b912e-253d-4626-ec6e-b6caaf0d7dca"
      },
      "source": [
        "df1_TAIL.head(50)"
      ],
      "execution_count": null,
      "outputs": [
        {
          "ename": "NameError",
          "evalue": "ignored",
          "output_type": "error",
          "traceback": [
            "\u001b[0;31m---------------------------------------------------------------------------\u001b[0m",
            "\u001b[0;31mNameError\u001b[0m                                 Traceback (most recent call last)",
            "\u001b[0;32m<ipython-input-33-23aeea6f1aa9>\u001b[0m in \u001b[0;36m<module>\u001b[0;34m()\u001b[0m\n\u001b[0;32m----> 1\u001b[0;31m \u001b[0mdf1_TAIL\u001b[0m\u001b[0;34m.\u001b[0m\u001b[0mhead\u001b[0m\u001b[0;34m(\u001b[0m\u001b[0;36m50\u001b[0m\u001b[0;34m)\u001b[0m\u001b[0;34m\u001b[0m\u001b[0;34m\u001b[0m\u001b[0m\n\u001b[0m",
            "\u001b[0;31mNameError\u001b[0m: name 'df1_TAIL' is not defined"
          ]
        }
      ]
    },
    {
      "cell_type": "code",
      "metadata": {
        "id": "q4dD9MKBCqwd"
      },
      "source": [
        "FL_CONSOLIDATED2019_new_TAIL=pd.merge(FL_CONSOLIDATED2019_new_30_7, df1_TAIL, on=['FL_DATE','TAIL_NUM','DEP_TIME'], how='left')"
      ],
      "execution_count": null,
      "outputs": []
    },
    {
      "cell_type": "code",
      "metadata": {
        "id": "zNjPXu_ECqwe"
      },
      "source": [
        "#FL_CONSOLIDATED2019_new_TAIL=FL_CONSOLIDATED2019_new_TAIL.drop(columns=['Value_Average_Past_30_days_y'] ,axis=1)"
      ],
      "execution_count": null,
      "outputs": []
    },
    {
      "cell_type": "code",
      "metadata": {
        "id": "5kMa_nsFCqwe"
      },
      "source": [
        "#FL_CONSOLIDATED2019_new_TAIL.head(100).sort_values(['FL_DATE'],ascending=True)"
      ],
      "execution_count": null,
      "outputs": []
    },
    {
      "cell_type": "markdown",
      "metadata": {
        "id": "7ECma8NWlJoo"
      },
      "source": [
        "##  TAIL_NUM-->DELAY_LAST_7DAYS_COUNT"
      ]
    },
    {
      "cell_type": "code",
      "metadata": {
        "id": "COa1sleGFs--"
      },
      "source": [
        "df1_TAIL_7 = df_TAIL.groupby(level=0)['DEP_DEL15'].apply(lambda x: x.shift().rolling(min_periods=1,window=7).sum()).reset_index(name='DELAY_Past_7_days_TAILNUM')"
      ],
      "execution_count": null,
      "outputs": []
    },
    {
      "cell_type": "code",
      "metadata": {
        "id": "I9kDmf6pFs7l"
      },
      "source": [
        "FL_CONSOLIDATED2019_new_tail7=pd.merge(FL_CONSOLIDATED2019_new_TAIL, df1_7, on=['FL_DATE','TAIL_NUM','ORIGIN'], how='left')\n"
      ],
      "execution_count": null,
      "outputs": []
    },
    {
      "cell_type": "code",
      "metadata": {
        "id": "EAxGHdx4Fs39"
      },
      "source": [
        "#FL_CONSOLIDATED2019_new_tail7.head(100).sort_values(['FL_DATE'],ascending=True)"
      ],
      "execution_count": null,
      "outputs": []
    },
    {
      "cell_type": "code",
      "metadata": {
        "id": "rW8NqvGbFs00"
      },
      "source": [
        ""
      ],
      "execution_count": null,
      "outputs": []
    },
    {
      "cell_type": "code",
      "metadata": {
        "id": "yWH8g7E8Fsxd"
      },
      "source": [
        ""
      ],
      "execution_count": null,
      "outputs": []
    },
    {
      "cell_type": "code",
      "metadata": {
        "id": "f2i2Kk2USf26"
      },
      "source": [
        "#weekNumber = FL_CONSOLIDATED2019['FL_DATE'].dt.week\n",
        "#weekNumber.head()"
      ],
      "execution_count": null,
      "outputs": []
    },
    {
      "cell_type": "code",
      "metadata": {
        "id": "H9NXdS2FlPpN"
      },
      "source": [
        "#weekNumber = FL_CONSOLIDATED2019['FL_DATE'].dt.week\n",
        "#filtered_lastweek_df = filtered_lastmonth_df.loc[(filtered_lastmonth_df['WEEK_OF_MONTH'] == 5)]"
      ],
      "execution_count": null,
      "outputs": []
    },
    {
      "cell_type": "code",
      "metadata": {
        "id": "sSgQxyEWlQNn"
      },
      "source": [
        "#FL_CONSOLIDATED2019['DELAY_lastWEEK_COUNT']=filtered_lastweek_df.groupby(['OP_CARRIER_FL_NUM'])['DEP_DEL15'].sum()"
      ],
      "execution_count": null,
      "outputs": []
    },
    {
      "cell_type": "code",
      "metadata": {
        "id": "RYZSP-0HlQpI"
      },
      "source": [
        "#FL_CONSOLIDATED2019[['OP_CARRIER_FL_NUM','DELAY_lastmonth_COUNT','DELAY_lastWEEK_COUNT']].head()"
      ],
      "execution_count": null,
      "outputs": []
    }
  ]
}