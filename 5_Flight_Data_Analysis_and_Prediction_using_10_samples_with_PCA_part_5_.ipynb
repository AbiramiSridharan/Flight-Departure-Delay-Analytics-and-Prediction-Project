{
  "nbformat": 4,
  "nbformat_minor": 0,
  "metadata": {
    "accelerator": "TPU",
    "colab": {
      "name": "Flight Data Analysis and Prediction using 10% samples with  PCA part 5 .ipynb",
      "provenance": [],
      "collapsed_sections": []
    },
    "kernelspec": {
      "display_name": "Python 3",
      "name": "python3"
    },
    "language_info": {
      "name": "python"
    }
  },
  "cells": [
    {
      "cell_type": "code",
      "metadata": {
        "id": "JWkqDj9an92E"
      },
      "source": [
        "import pandas as pd\n",
        "import numpy as np\n",
        "from scipy import stats\n",
        "import matplotlib.dates as mtd\n",
        "import seaborn as sns\n",
        "import matplotlib.pyplot as plt\n",
        "import seaborn as sns\n",
        "from imblearn.over_sampling import SMOTE\n",
        "from sklearn.model_selection import train_test_split\n",
        "from sklearn import tree\n",
        "from sklearn.metrics import confusion_matrix, classification_report, plot_roc_curve,accuracy_score\n",
        "from sklearn.preprocessing import RobustScaler\n",
        "from sklearn.preprocessing import MinMaxScaler\n",
        "from sklearn.preprocessing import StandardScaler\n",
        "from sklearn.ensemble import RandomForestClassifier  \n",
        "from sklearn.linear_model import LogisticRegression \n",
        "from collections import Counter\n",
        "from sklearn.pipeline import Pipeline\n",
        "from sklearn.model_selection import KFold\n",
        "from sklearn import metrics\n",
        "from sklearn.decomposition import PCA\n",
        "import warnings\n",
        "warnings.filterwarnings('ignore')"
      ],
      "execution_count": null,
      "outputs": []
    },
    {
      "cell_type": "code",
      "metadata": {
        "colab": {
          "base_uri": "https://localhost:8080/"
        },
        "id": "iRLNAFggP4x6",
        "outputId": "a61b633b-cecf-4dcb-9d76-912c3008853a"
      },
      "source": [
        "import platform, struct\n",
        "print(platform.architecture()[0])\n",
        "print(struct.calcsize(\"P\") * 8)"
      ],
      "execution_count": null,
      "outputs": [
        {
          "name": "stdout",
          "output_type": "stream",
          "text": [
            "64bit\n",
            "64\n"
          ]
        }
      ]
    },
    {
      "cell_type": "code",
      "metadata": {
        "colab": {
          "base_uri": "https://localhost:8080/"
        },
        "id": "zJi4Yxj-qj6H",
        "outputId": "07a06a13-9164-4f6b-ab1e-e01416e92747"
      },
      "source": [
        "flightdataframeJan = pd.read_csv('/content/drive/MyDrive/AbiML/Internship Tasks/internshipDatas/flightdataJanuary.csv')\n",
        "flightdataframeFeb = pd.read_csv('/content/drive/MyDrive/AbiML/Internship Tasks/internshipDatas/flightdataFebruary.csv')\n",
        "flightdataframeMar = pd.read_csv('/content/drive/MyDrive/AbiML/Internship Tasks/internshipDatas/flightdataMarch.csv')\n",
        "flightdataframeApr = pd.read_csv('/content/drive/MyDrive/AbiML/Internship Tasks/internshipDatas/flightdataAprilcsv.txt')\n",
        "flightdataframeMay = pd.read_csv('/content/drive/MyDrive/AbiML/Internship Tasks/internshipDatas/flightdataMay.csv')"
      ],
      "execution_count": null,
      "outputs": [
        {
          "output_type": "stream",
          "name": "stderr",
          "text": [
            "/usr/local/lib/python3.7/dist-packages/IPython/core/interactiveshell.py:2718: DtypeWarning: Columns (11,13,57) have mixed types.Specify dtype option on import or set low_memory=False.\n",
            "  interactivity=interactivity, compiler=compiler, result=result)\n"
          ]
        }
      ]
    },
    {
      "cell_type": "code",
      "metadata": {
        "id": "0CvxdojBqj2h"
      },
      "source": [
        "consolidatedfivemonthsdf = pd.concat([flightdataframeJan,flightdataframeFeb,flightdataframeMar,flightdataframeApr,flightdataframeMay], axis=0)\n",
        "consolidatedfivemonthsdf1=consolidatedfivemonthsdf.drop(columns=['Unnamed: 74'] ,axis=1)"
      ],
      "execution_count": null,
      "outputs": []
    },
    {
      "cell_type": "code",
      "metadata": {
        "id": "gns36ObBqjzU"
      },
      "source": [
        "#consolidatedfivemonthsdf1['MONTH'].value_counts()"
      ],
      "execution_count": null,
      "outputs": []
    },
    {
      "cell_type": "code",
      "metadata": {
        "id": "OjzA-NdkqjwY"
      },
      "source": [
        "consolidatedSelectedColumns=consolidatedfivemonthsdf1[['MONTH','DAY_OF_MONTH', 'DAY_OF_WEEK','TAIL_NUM','OP_CARRIER','ORIGIN','DEP_DEL15', 'CARRIER_DELAY', 'WEATHER_DELAY', 'NAS_DELAY','SECURITY_DELAY', 'LATE_AIRCRAFT_DELAY']]\n",
        "#consolidatedSelectedColumns.head()"
      ],
      "execution_count": null,
      "outputs": []
    },
    {
      "cell_type": "code",
      "metadata": {
        "colab": {
          "base_uri": "https://localhost:8080/"
        },
        "id": "W9hP2XXmqjtj",
        "outputId": "874e0f13-5713-446d-b940-63feee7b869b"
      },
      "source": [
        "consolidatedSelectedColumns.dropna(subset=['DEP_DEL15'],inplace=True)"
      ],
      "execution_count": null,
      "outputs": [
        {
          "output_type": "stream",
          "name": "stderr",
          "text": [
            "/usr/local/lib/python3.7/dist-packages/ipykernel_launcher.py:1: SettingWithCopyWarning: \n",
            "A value is trying to be set on a copy of a slice from a DataFrame\n",
            "\n",
            "See the caveats in the documentation: https://pandas.pydata.org/pandas-docs/stable/user_guide/indexing.html#returning-a-view-versus-a-copy\n",
            "  \"\"\"Entry point for launching an IPython kernel.\n"
          ]
        }
      ]
    },
    {
      "cell_type": "markdown",
      "metadata": {
        "id": "SlyXQ8AkN2cv"
      },
      "source": [
        "POPULATION DATA SUMMARY "
      ]
    },
    {
      "cell_type": "code",
      "metadata": {
        "colab": {
          "base_uri": "https://localhost:8080/",
          "height": 418
        },
        "id": "xKRwHI2fqjqr",
        "outputId": "99032e13-b439-4e12-dfba-a4a499924508"
      },
      "source": [
        "pd.DataFrame({'unique_values':consolidatedSelectedColumns.nunique(),\n",
        "              'missing_values': consolidatedSelectedColumns.isna().sum(),\n",
        "              'datatype':consolidatedSelectedColumns.dtypes,\n",
        "             \n",
        "'count':consolidatedSelectedColumns.count()\n",
        "              })"
      ],
      "execution_count": null,
      "outputs": [
        {
          "data": {
            "text/html": [
              "<div>\n",
              "<style scoped>\n",
              "    .dataframe tbody tr th:only-of-type {\n",
              "        vertical-align: middle;\n",
              "    }\n",
              "\n",
              "    .dataframe tbody tr th {\n",
              "        vertical-align: top;\n",
              "    }\n",
              "\n",
              "    .dataframe thead th {\n",
              "        text-align: right;\n",
              "    }\n",
              "</style>\n",
              "<table border=\"1\" class=\"dataframe\">\n",
              "  <thead>\n",
              "    <tr style=\"text-align: right;\">\n",
              "      <th></th>\n",
              "      <th>unique_values</th>\n",
              "      <th>missing_values</th>\n",
              "      <th>datatype</th>\n",
              "      <th>count</th>\n",
              "    </tr>\n",
              "  </thead>\n",
              "  <tbody>\n",
              "    <tr>\n",
              "      <th>MONTH</th>\n",
              "      <td>5</td>\n",
              "      <td>0</td>\n",
              "      <td>int64</td>\n",
              "      <td>2156140</td>\n",
              "    </tr>\n",
              "    <tr>\n",
              "      <th>DAY_OF_MONTH</th>\n",
              "      <td>31</td>\n",
              "      <td>0</td>\n",
              "      <td>int64</td>\n",
              "      <td>2156140</td>\n",
              "    </tr>\n",
              "    <tr>\n",
              "      <th>DAY_OF_WEEK</th>\n",
              "      <td>7</td>\n",
              "      <td>0</td>\n",
              "      <td>int64</td>\n",
              "      <td>2156140</td>\n",
              "    </tr>\n",
              "    <tr>\n",
              "      <th>TAIL_NUM</th>\n",
              "      <td>5400</td>\n",
              "      <td>0</td>\n",
              "      <td>object</td>\n",
              "      <td>2156140</td>\n",
              "    </tr>\n",
              "    <tr>\n",
              "      <th>OP_CARRIER</th>\n",
              "      <td>22</td>\n",
              "      <td>0</td>\n",
              "      <td>object</td>\n",
              "      <td>2156140</td>\n",
              "    </tr>\n",
              "    <tr>\n",
              "      <th>ORIGIN</th>\n",
              "      <td>375</td>\n",
              "      <td>0</td>\n",
              "      <td>object</td>\n",
              "      <td>2156140</td>\n",
              "    </tr>\n",
              "    <tr>\n",
              "      <th>DEP_DEL15</th>\n",
              "      <td>2</td>\n",
              "      <td>0</td>\n",
              "      <td>float64</td>\n",
              "      <td>2156140</td>\n",
              "    </tr>\n",
              "    <tr>\n",
              "      <th>CARRIER_DELAY</th>\n",
              "      <td>1137</td>\n",
              "      <td>1904965</td>\n",
              "      <td>float64</td>\n",
              "      <td>251175</td>\n",
              "    </tr>\n",
              "    <tr>\n",
              "      <th>WEATHER_DELAY</th>\n",
              "      <td>821</td>\n",
              "      <td>1904965</td>\n",
              "      <td>float64</td>\n",
              "      <td>251175</td>\n",
              "    </tr>\n",
              "    <tr>\n",
              "      <th>NAS_DELAY</th>\n",
              "      <td>502</td>\n",
              "      <td>1904965</td>\n",
              "      <td>float64</td>\n",
              "      <td>251175</td>\n",
              "    </tr>\n",
              "    <tr>\n",
              "      <th>SECURITY_DELAY</th>\n",
              "      <td>192</td>\n",
              "      <td>1904965</td>\n",
              "      <td>float64</td>\n",
              "      <td>251175</td>\n",
              "    </tr>\n",
              "    <tr>\n",
              "      <th>LATE_AIRCRAFT_DELAY</th>\n",
              "      <td>752</td>\n",
              "      <td>1904965</td>\n",
              "      <td>float64</td>\n",
              "      <td>251175</td>\n",
              "    </tr>\n",
              "  </tbody>\n",
              "</table>\n",
              "</div>"
            ],
            "text/plain": [
              "                     unique_values  missing_values datatype    count\n",
              "MONTH                            5               0    int64  2156140\n",
              "DAY_OF_MONTH                    31               0    int64  2156140\n",
              "DAY_OF_WEEK                      7               0    int64  2156140\n",
              "TAIL_NUM                      5400               0   object  2156140\n",
              "OP_CARRIER                      22               0   object  2156140\n",
              "ORIGIN                         375               0   object  2156140\n",
              "DEP_DEL15                        2               0  float64  2156140\n",
              "CARRIER_DELAY                 1137         1904965  float64   251175\n",
              "WEATHER_DELAY                  821         1904965  float64   251175\n",
              "NAS_DELAY                      502         1904965  float64   251175\n",
              "SECURITY_DELAY                 192         1904965  float64   251175\n",
              "LATE_AIRCRAFT_DELAY            752         1904965  float64   251175"
            ]
          },
          "execution_count": 10,
          "metadata": {},
          "output_type": "execute_result"
        }
      ]
    },
    {
      "cell_type": "code",
      "metadata": {
        "colab": {
          "base_uri": "https://localhost:8080/",
          "height": 110
        },
        "id": "wj6xD02MX1zA",
        "outputId": "65e9c952-0ab2-4d6c-ad84-9a995ff9e1d8"
      },
      "source": [
        "#pd.set_option('precision', 3)\n",
        "#suppress scientific Exponential format and precision 1\n",
        "pd.options.display.float_format = '{:.1f}'.format\n",
        "month_all_pop=consolidatedSelectedColumns.agg({'CARRIER_DELAY':['mean',lambda count: count.ne(0).sum()],'WEATHER_DELAY':['mean',lambda count: count.ne(0).sum()],'NAS_DELAY':['mean',lambda count: count.ne(0).sum()],'LATE_AIRCRAFT_DELAY':['mean',lambda count: count.ne(0).sum()],'SECURITY_DELAY':['mean',lambda count: count.ne(0).sum()]}).rename(columns={'<lambda>': 'Count'})\n",
        "month_all_pop"
      ],
      "execution_count": null,
      "outputs": [
        {
          "data": {
            "text/html": [
              "<div>\n",
              "<style scoped>\n",
              "    .dataframe tbody tr th:only-of-type {\n",
              "        vertical-align: middle;\n",
              "    }\n",
              "\n",
              "    .dataframe tbody tr th {\n",
              "        vertical-align: top;\n",
              "    }\n",
              "\n",
              "    .dataframe thead th {\n",
              "        text-align: right;\n",
              "    }\n",
              "</style>\n",
              "<table border=\"1\" class=\"dataframe\">\n",
              "  <thead>\n",
              "    <tr style=\"text-align: right;\">\n",
              "      <th></th>\n",
              "      <th>CARRIER_DELAY</th>\n",
              "      <th>WEATHER_DELAY</th>\n",
              "      <th>NAS_DELAY</th>\n",
              "      <th>LATE_AIRCRAFT_DELAY</th>\n",
              "      <th>SECURITY_DELAY</th>\n",
              "    </tr>\n",
              "  </thead>\n",
              "  <tbody>\n",
              "    <tr>\n",
              "      <th>mean</th>\n",
              "      <td>26.3</td>\n",
              "      <td>6.2</td>\n",
              "      <td>13.5</td>\n",
              "      <td>18.6</td>\n",
              "      <td>0.3</td>\n",
              "    </tr>\n",
              "    <tr>\n",
              "      <th>&lt;lambda&gt;</th>\n",
              "      <td>2038164.0</td>\n",
              "      <td>1924288.0</td>\n",
              "      <td>2027949.0</td>\n",
              "      <td>1992236.0</td>\n",
              "      <td>1907098.0</td>\n",
              "    </tr>\n",
              "  </tbody>\n",
              "</table>\n",
              "</div>"
            ],
            "text/plain": [
              "          CARRIER_DELAY  WEATHER_DELAY  ...  LATE_AIRCRAFT_DELAY  SECURITY_DELAY\n",
              "mean               26.3            6.2  ...                 18.6             0.3\n",
              "<lambda>      2038164.0      1924288.0  ...            1992236.0       1907098.0\n",
              "\n",
              "[2 rows x 5 columns]"
            ]
          },
          "execution_count": 39,
          "metadata": {},
          "output_type": "execute_result"
        }
      ]
    },
    {
      "cell_type": "markdown",
      "metadata": {
        "id": "XGL_lB3YN-cp"
      },
      "source": [
        "# CHOSING SAMPLES WITH systematic_sampling TECHNIQUE\n"
      ]
    },
    {
      "cell_type": "code",
      "metadata": {
        "id": "CNKyDju1N96d"
      },
      "source": [
        "# Define systematic sampling function\n",
        "def systematic_sampling(consolidatedSelectedColumns, step):\n",
        " \n",
        "    indexes = np.arange(0, len(consolidatedSelectedColumns), step=step)\n",
        "    systematic_sample = consolidatedSelectedColumns.iloc[indexes]\n",
        "    return systematic_sample\n",
        " \n",
        " \n",
        "# Obtain a systematic sample and save it in a new variable\n",
        "systematic_sample = systematic_sampling(consolidatedSelectedColumns, 10)\n",
        " \n",
        "# View sampled data frame\n",
        "#display(systematic_sample)"
      ],
      "execution_count": null,
      "outputs": []
    },
    {
      "cell_type": "code",
      "metadata": {
        "colab": {
          "base_uri": "https://localhost:8080/",
          "height": 110
        },
        "id": "jFouidHRbHIF",
        "outputId": "209e42bf-7a1c-4aef-9541-e3705ccc19e3"
      },
      "source": [
        "meansample= systematic_sample.agg({'CARRIER_DELAY':['mean',lambda count: count.ne(0).sum()],'WEATHER_DELAY':['mean',lambda count: count.ne(0).sum()],'NAS_DELAY':['mean',lambda count: count.ne(0).sum()],'LATE_AIRCRAFT_DELAY':['mean',lambda count: count.ne(0).sum()],'SECURITY_DELAY':['mean',lambda count: count.ne(0).sum()]}).rename(columns={'<lambda_0>': 'Count'})\n",
        "meansample"
      ],
      "execution_count": null,
      "outputs": [
        {
          "output_type": "execute_result",
          "data": {
            "text/html": [
              "<div>\n",
              "<style scoped>\n",
              "    .dataframe tbody tr th:only-of-type {\n",
              "        vertical-align: middle;\n",
              "    }\n",
              "\n",
              "    .dataframe tbody tr th {\n",
              "        vertical-align: top;\n",
              "    }\n",
              "\n",
              "    .dataframe thead th {\n",
              "        text-align: right;\n",
              "    }\n",
              "</style>\n",
              "<table border=\"1\" class=\"dataframe\">\n",
              "  <thead>\n",
              "    <tr style=\"text-align: right;\">\n",
              "      <th></th>\n",
              "      <th>CARRIER_DELAY</th>\n",
              "      <th>WEATHER_DELAY</th>\n",
              "      <th>NAS_DELAY</th>\n",
              "      <th>LATE_AIRCRAFT_DELAY</th>\n",
              "      <th>SECURITY_DELAY</th>\n",
              "    </tr>\n",
              "  </thead>\n",
              "  <tbody>\n",
              "    <tr>\n",
              "      <th>mean</th>\n",
              "      <td>26.370065</td>\n",
              "      <td>6.103821</td>\n",
              "      <td>13.463552</td>\n",
              "      <td>18.56571</td>\n",
              "      <td>0.322669</td>\n",
              "    </tr>\n",
              "    <tr>\n",
              "      <th>&lt;lambda&gt;</th>\n",
              "      <td>203834.000000</td>\n",
              "      <td>192325.000000</td>\n",
              "      <td>202622.000000</td>\n",
              "      <td>199193.00000</td>\n",
              "      <td>190580.000000</td>\n",
              "    </tr>\n",
              "  </tbody>\n",
              "</table>\n",
              "</div>"
            ],
            "text/plain": [
              "          CARRIER_DELAY  WEATHER_DELAY  ...  LATE_AIRCRAFT_DELAY  SECURITY_DELAY\n",
              "mean          26.370065       6.103821  ...             18.56571        0.322669\n",
              "<lambda>  203834.000000  192325.000000  ...         199193.00000   190580.000000\n",
              "\n",
              "[2 rows x 5 columns]"
            ]
          },
          "metadata": {},
          "execution_count": 9
        }
      ]
    },
    {
      "cell_type": "markdown",
      "metadata": {
        "id": "0QnVkyGdT_wk"
      },
      "source": [
        "### Sample Summary"
      ]
    },
    {
      "cell_type": "code",
      "metadata": {
        "colab": {
          "base_uri": "https://localhost:8080/",
          "height": 418
        },
        "id": "ItMYEVHoT-yM",
        "outputId": "7b84eee6-e984-464f-caa8-8a290df9bc93"
      },
      "source": [
        "pd.DataFrame({'unique_values':systematic_sample.nunique(),\n",
        "              'missing_values': systematic_sample.isna().sum(),\n",
        "              'datatype':systematic_sample.dtypes,\n",
        "              'count':systematic_sample.count()\n",
        "              })"
      ],
      "execution_count": null,
      "outputs": [
        {
          "data": {
            "text/html": [
              "<div>\n",
              "<style scoped>\n",
              "    .dataframe tbody tr th:only-of-type {\n",
              "        vertical-align: middle;\n",
              "    }\n",
              "\n",
              "    .dataframe tbody tr th {\n",
              "        vertical-align: top;\n",
              "    }\n",
              "\n",
              "    .dataframe thead th {\n",
              "        text-align: right;\n",
              "    }\n",
              "</style>\n",
              "<table border=\"1\" class=\"dataframe\">\n",
              "  <thead>\n",
              "    <tr style=\"text-align: right;\">\n",
              "      <th></th>\n",
              "      <th>unique_values</th>\n",
              "      <th>missing_values</th>\n",
              "      <th>datatype</th>\n",
              "      <th>count</th>\n",
              "    </tr>\n",
              "  </thead>\n",
              "  <tbody>\n",
              "    <tr>\n",
              "      <th>MONTH</th>\n",
              "      <td>5</td>\n",
              "      <td>0</td>\n",
              "      <td>int64</td>\n",
              "      <td>215614</td>\n",
              "    </tr>\n",
              "    <tr>\n",
              "      <th>DAY_OF_MONTH</th>\n",
              "      <td>31</td>\n",
              "      <td>0</td>\n",
              "      <td>int64</td>\n",
              "      <td>215614</td>\n",
              "    </tr>\n",
              "    <tr>\n",
              "      <th>DAY_OF_WEEK</th>\n",
              "      <td>7</td>\n",
              "      <td>0</td>\n",
              "      <td>int64</td>\n",
              "      <td>215614</td>\n",
              "    </tr>\n",
              "    <tr>\n",
              "      <th>TAIL_NUM</th>\n",
              "      <td>5364</td>\n",
              "      <td>0</td>\n",
              "      <td>object</td>\n",
              "      <td>215614</td>\n",
              "    </tr>\n",
              "    <tr>\n",
              "      <th>OP_CARRIER</th>\n",
              "      <td>22</td>\n",
              "      <td>0</td>\n",
              "      <td>object</td>\n",
              "      <td>215614</td>\n",
              "    </tr>\n",
              "    <tr>\n",
              "      <th>ORIGIN</th>\n",
              "      <td>373</td>\n",
              "      <td>0</td>\n",
              "      <td>object</td>\n",
              "      <td>215614</td>\n",
              "    </tr>\n",
              "    <tr>\n",
              "      <th>DEP_DEL15</th>\n",
              "      <td>2</td>\n",
              "      <td>0</td>\n",
              "      <td>float64</td>\n",
              "      <td>215614</td>\n",
              "    </tr>\n",
              "    <tr>\n",
              "      <th>CARRIER_DELAY</th>\n",
              "      <td>494</td>\n",
              "      <td>190359</td>\n",
              "      <td>float64</td>\n",
              "      <td>25255</td>\n",
              "    </tr>\n",
              "    <tr>\n",
              "      <th>WEATHER_DELAY</th>\n",
              "      <td>307</td>\n",
              "      <td>190359</td>\n",
              "      <td>float64</td>\n",
              "      <td>25255</td>\n",
              "    </tr>\n",
              "    <tr>\n",
              "      <th>NAS_DELAY</th>\n",
              "      <td>277</td>\n",
              "      <td>190359</td>\n",
              "      <td>float64</td>\n",
              "      <td>25255</td>\n",
              "    </tr>\n",
              "    <tr>\n",
              "      <th>SECURITY_DELAY</th>\n",
              "      <td>74</td>\n",
              "      <td>190359</td>\n",
              "      <td>float64</td>\n",
              "      <td>25255</td>\n",
              "    </tr>\n",
              "    <tr>\n",
              "      <th>LATE_AIRCRAFT_DELAY</th>\n",
              "      <td>389</td>\n",
              "      <td>190359</td>\n",
              "      <td>float64</td>\n",
              "      <td>25255</td>\n",
              "    </tr>\n",
              "  </tbody>\n",
              "</table>\n",
              "</div>"
            ],
            "text/plain": [
              "                     unique_values  missing_values datatype   count\n",
              "MONTH                            5               0    int64  215614\n",
              "DAY_OF_MONTH                    31               0    int64  215614\n",
              "DAY_OF_WEEK                      7               0    int64  215614\n",
              "TAIL_NUM                      5364               0   object  215614\n",
              "OP_CARRIER                      22               0   object  215614\n",
              "ORIGIN                         373               0   object  215614\n",
              "DEP_DEL15                        2               0  float64  215614\n",
              "CARRIER_DELAY                  494          190359  float64   25255\n",
              "WEATHER_DELAY                  307          190359  float64   25255\n",
              "NAS_DELAY                      277          190359  float64   25255\n",
              "SECURITY_DELAY                  74          190359  float64   25255\n",
              "LATE_AIRCRAFT_DELAY            389          190359  float64   25255"
            ]
          },
          "execution_count": 14,
          "metadata": {},
          "output_type": "execute_result"
        }
      ]
    },
    {
      "cell_type": "markdown",
      "metadata": {
        "id": "gneD7OcPy9_q"
      },
      "source": [
        "### Inorder to test whether our samples collected from population are good representation of population need Statistical testing on Categorial columns and Numerical columns between populatipon and samples\n",
        "* Numerical variables must be checked with the Kolmogorov-Smirnov test\n",
        "* Categorical variables must be checked with the Pearson’s chi-square test."
      ]
    },
    {
      "cell_type": "code",
      "metadata": {
        "id": "SlMteCPpJJDS"
      },
      "source": [
        "categoricalDFsample=systematic_sample[['MONTH',\t'DAY_OF_MONTH','DAY_OF_WEEK','TAIL_NUM','OP_CARRIER',\t'ORIGIN']]\t\n",
        "numericDFsample=systematic_sample[['CARRIER_DELAY','WEATHER_DELAY','NAS_DELAY',\t'SECURITY_DELAY',\t'LATE_AIRCRAFT_DELAY']]"
      ],
      "execution_count": null,
      "outputs": []
    },
    {
      "cell_type": "code",
      "metadata": {
        "id": "MyRdt775UdBp"
      },
      "source": [
        "categoricalDFpopulation=consolidatedSelectedColumns[['MONTH',\t'DAY_OF_MONTH','DAY_OF_WEEK','TAIL_NUM','OP_CARRIER',\t'ORIGIN']]\t\n",
        "numericDFpopulation=consolidatedSelectedColumns[['CARRIER_DELAY','WEATHER_DELAY','NAS_DELAY',\t'SECURITY_DELAY',\t'LATE_AIRCRAFT_DELAY']]"
      ],
      "execution_count": null,
      "outputs": []
    },
    {
      "cell_type": "markdown",
      "metadata": {
        "id": "lCkuAXDFx5Bm"
      },
      "source": [
        "# Kolmogorov-Smirnov test"
      ]
    },
    {
      "cell_type": "code",
      "metadata": {
        "colab": {
          "base_uri": "https://localhost:8080/"
        },
        "id": "12ea8gJBFYkT",
        "outputId": "a109f78a-7bf3-471c-c5b0-b86bef71de2a"
      },
      "source": [
        "from numpy.random import seed\n",
        "from numpy.random import randint\n",
        "from scipy.stats import ks_2samp\n",
        "for col in numericDFpopulation: \n",
        "  value, pvalue = ks_2samp(numericDFsample[col], numericDFpopulation[col])\n",
        "  print(value, pvalue)\n",
        "  if pvalue > 0.05:\n",
        "    print(numericDFsample[col].name,'vs', numericDFpopulation[col].name,'Samples are sample is statistically significant as population (fail to reject H0)')\n",
        "  else:\n",
        "    print(numericDFsample[col].name,'vs', numericDFpopulation[col].name,'Samples are  statistically NOT significant as population (reject H0)')"
      ],
      "execution_count": null,
      "outputs": [
        {
          "name": "stdout",
          "output_type": "stream",
          "text": [
            "0.0006831652861131465 0.9999884747234531\n",
            "CARRIER_DELAY vs CARRIER_DELAY Samples are sample is statistically significant as population (fail to reject H0)\n",
            "0.0007040359160351284 0.9999754147364329\n",
            "WEATHER_DELAY vs WEATHER_DELAY Samples are sample is statistically significant as population (fail to reject H0)\n",
            "0.0009772092721251902 0.9920469856407877\n",
            "NAS_DELAY vs NAS_DELAY Samples are sample is statistically significant as population (fail to reject H0)\n",
            "0.0006817739107850135 0.9999890703265211\n",
            "SECURITY_DELAY vs SECURITY_DELAY Samples are sample is statistically significant as population (fail to reject H0)\n",
            "0.0007258341295092174 0.9999494534436161\n",
            "LATE_AIRCRAFT_DELAY vs LATE_AIRCRAFT_DELAY Samples are sample is statistically significant as population (fail to reject H0)\n"
          ]
        }
      ]
    },
    {
      "cell_type": "markdown",
      "metadata": {
        "id": "Aw_tDpRhyBkL"
      },
      "source": [
        "# Pearson’s chi-square test"
      ]
    },
    {
      "cell_type": "code",
      "metadata": {
        "colab": {
          "base_uri": "https://localhost:8080/"
        },
        "id": "bm7pioj5yDcf",
        "outputId": "3ee2b994-a625-4b08-a254-04293bf609d8"
      },
      "source": [
        "from numpy.random import seed\n",
        "from numpy.random import randint\n",
        "from scipy.stats import ks_2samp\n",
        "for col in categoricalDFpopulation: \n",
        "  value, pvalue = ks_2samp(categoricalDFsample[col], categoricalDFpopulation[col])\n",
        "  print(value, pvalue)\n",
        "  if pvalue > 0.05:\n",
        "    print(categoricalDFsample[col].name,'vs', categoricalDFpopulation[col].name,'Samples are  statistically significant as population (fail to reject H0)')\n",
        "  else:\n",
        "    print(categoricalDFsample[col].name,'vs', categoricalDFpopulation[col].name,'Samples are  statistically NOT significant as population (reject H0)')"
      ],
      "execution_count": null,
      "outputs": [
        {
          "name": "stdout",
          "output_type": "stream",
          "text": [
            "3.2465424323335768e-06 1.0\n",
            "MONTH vs MONTH Samples are  statistically significant as population (fail to reject H0)\n",
            "0.0011924086562097036 0.9432386472403238\n",
            "DAY_OF_MONTH vs DAY_OF_MONTH Samples are  statistically significant as population (fail to reject H0)\n",
            "0.0009280473438644798 0.9959106818183939\n",
            "DAY_OF_WEEK vs DAY_OF_WEEK Samples are  statistically significant as population (fail to reject H0)\n",
            "0.0014108545827265229 0.8300859891121797\n",
            "TAIL_NUM vs TAIL_NUM Samples are  statistically significant as population (fail to reject H0)\n",
            "4.591538582837673e-05 1.0\n",
            "OP_CARRIER vs OP_CARRIER Samples are  statistically significant as population (fail to reject H0)\n",
            "0.001175248360496095 0.9494412014433004\n",
            "ORIGIN vs ORIGIN Samples are  statistically significant as population (fail to reject H0)\n"
          ]
        }
      ]
    },
    {
      "cell_type": "markdown",
      "metadata": {
        "id": "nxy1aw6q0Inb"
      },
      "source": [
        "Both test, we failed to reject null hypothesis, (we can say samples taken are good representation of population) "
      ]
    },
    {
      "cell_type": "markdown",
      "metadata": {
        "id": "d6x-PoqR0fCf"
      },
      "source": [
        "# Weight calculation on all continouse variable columns"
      ]
    },
    {
      "cell_type": "markdown",
      "metadata": {
        "id": "rPvi7xu0gdej"
      },
      "source": [
        "## Tailnum vs DEP_DEL count weight"
      ]
    },
    {
      "cell_type": "code",
      "metadata": {
        "id": "1u1wX0XntgdT"
      },
      "source": [
        "tail_dep_del = systematic_sample[['TAIL_NUM','DEP_DEL15']].groupby('TAIL_NUM').sum().sort_values(by='DEP_DEL15',ascending=False).reset_index()\n",
        "tail_dep_del.rename({'DEP_DEL15':'TAIL_NUM_DELAY_COUNT'},inplace=True, axis=1)\n",
        "tail_dep_del['TAIL_DELAY_weight'] = pd.qcut(tail_dep_del['TAIL_NUM_DELAY_COUNT'], 60, labels = False,duplicates='drop')\n",
        "#tail_dep_del\n",
        "systematic_sample1 = systematic_sample.merge(tail_dep_del, left_on='TAIL_NUM', right_on='TAIL_NUM')\n",
        "systematic_sample1.drop(columns=['TAIL_NUM_DELAY_COUNT'], inplace=True, axis=1)\n",
        "#systematic_sample1"
      ],
      "execution_count": null,
      "outputs": []
    },
    {
      "cell_type": "code",
      "metadata": {
        "colab": {
          "base_uri": "https://localhost:8080/"
        },
        "id": "9y_lKiJXujgy",
        "outputId": "b2e29a0d-4b4b-427e-cf77-87437badd5dc"
      },
      "source": [
        "tail_dep_del_carrier = systematic_sample1[['TAIL_NUM','CARRIER_DELAY']].groupby('TAIL_NUM').sum().sort_values(by='CARRIER_DELAY',ascending=False).reset_index()\n",
        "tail_dep_del_carrier['TAIL_DELAY_CARRIER_weight'] = pd.qcut(tail_dep_del_carrier['CARRIER_DELAY'], 120, labels = False,duplicates='drop')\n",
        "print(tail_dep_del_carrier)\n",
        "systematic_sample2 = systematic_sample1.merge(tail_dep_del_carrier, left_on='TAIL_NUM', right_on='TAIL_NUM')\n",
        "systematic_sample2.drop(columns=['CARRIER_DELAY_x','CARRIER_DELAY_y'], inplace=True, axis=1)"
      ],
      "execution_count": null,
      "outputs": [
        {
          "output_type": "stream",
          "name": "stdout",
          "text": [
            "     TAIL_NUM  CARRIER_DELAY  TAIL_DELAY_CARRIER_weight\n",
            "0      N946SW         2223.0                         99\n",
            "1      N951SW         2064.0                         99\n",
            "2      N746SK         1835.0                         99\n",
            "3       239NV         1827.0                         99\n",
            "4      N502AE         1753.0                         99\n",
            "...       ...            ...                        ...\n",
            "5359   N569AS            0.0                          0\n",
            "5360   N397DA            0.0                          0\n",
            "5361   N858DZ            0.0                          0\n",
            "5362   N858AE            0.0                          0\n",
            "5363   N683NK            0.0                          0\n",
            "\n",
            "[5364 rows x 3 columns]\n"
          ]
        }
      ]
    },
    {
      "cell_type": "code",
      "metadata": {
        "id": "_3gkim0v2djW"
      },
      "source": [
        "#systematic_sample2"
      ],
      "execution_count": null,
      "outputs": []
    },
    {
      "cell_type": "code",
      "metadata": {
        "id": "mJAzZqNbujaG",
        "colab": {
          "base_uri": "https://localhost:8080/"
        },
        "outputId": "05ce5ce1-d823-49c5-f1fd-03d89b7a4e80"
      },
      "source": [
        "tail_dep_del_security = systematic_sample2[['TAIL_NUM','SECURITY_DELAY']].groupby('TAIL_NUM').sum().sort_values(by='SECURITY_DELAY',ascending=False).reset_index()\n",
        "tail_dep_del_security['TAIL_DELAY_SECURITY_weight'] = pd.qcut(tail_dep_del_security['SECURITY_DELAY'], 50, labels = False,duplicates='drop')\n",
        "print(tail_dep_del_security)\n",
        "systematic_sample3 = systematic_sample2.merge(tail_dep_del_security, left_on='TAIL_NUM', right_on='TAIL_NUM')\n",
        "systematic_sample3.drop(columns=['SECURITY_DELAY_x','SECURITY_DELAY_y'], inplace=True, axis=1)"
      ],
      "execution_count": null,
      "outputs": [
        {
          "output_type": "stream",
          "name": "stdout",
          "text": [
            "     TAIL_NUM  SECURITY_DELAY  TAIL_DELAY_SECURITY_weight\n",
            "0      N632SK           691.0                           1\n",
            "1      N150UW           474.0                           1\n",
            "2      N616NK           369.0                           1\n",
            "3      N626NK           292.0                           1\n",
            "4      N670NK           251.0                           1\n",
            "...       ...             ...                         ...\n",
            "5359   N404YX             0.0                           0\n",
            "5360   N404WN             0.0                           0\n",
            "5361   N404UA             0.0                           0\n",
            "5362   N404SY             0.0                           0\n",
            "5363   N999JQ             0.0                           0\n",
            "\n",
            "[5364 rows x 3 columns]\n"
          ]
        }
      ]
    },
    {
      "cell_type": "code",
      "metadata": {
        "id": "vEnSSUxM4V1K"
      },
      "source": [
        "#systematic_sample3"
      ],
      "execution_count": null,
      "outputs": []
    },
    {
      "cell_type": "code",
      "metadata": {
        "colab": {
          "base_uri": "https://localhost:8080/"
        },
        "id": "E5QnEJaHujW7",
        "outputId": "2e03c19a-bf71-42cf-e9a7-7819920088cb"
      },
      "source": [
        "tail_dep_del_weather = systematic_sample3[['TAIL_NUM','WEATHER_DELAY']].groupby('TAIL_NUM').sum().sort_values(by='WEATHER_DELAY',ascending=False).reset_index()\n",
        "tail_dep_del_weather['TAIL_DELAY_WEATHER_weight'] = pd.qcut(tail_dep_del_weather['WEATHER_DELAY'], 80, labels = False,duplicates='drop')\n",
        "print(tail_dep_del_weather)\n",
        "systematic_sample4 = systematic_sample3.merge(tail_dep_del_weather, left_on='TAIL_NUM', right_on='TAIL_NUM')\n",
        "systematic_sample4.drop(columns=['WEATHER_DELAY_x','WEATHER_DELAY_y'], inplace=True, axis=1)"
      ],
      "execution_count": null,
      "outputs": [
        {
          "output_type": "stream",
          "name": "stdout",
          "text": [
            "     TAIL_NUM  WEATHER_DELAY  TAIL_DELAY_WEATHER_weight\n",
            "0      N8688C         1418.0                         21\n",
            "1      N45440         1333.0                         21\n",
            "2      N435SW         1259.0                         21\n",
            "3      N9018E         1227.0                         21\n",
            "4      N919SW         1206.0                         21\n",
            "...       ...            ...                        ...\n",
            "5359   N449YX            0.0                          0\n",
            "5360   N450WN            0.0                          0\n",
            "5361   N450YX            0.0                          0\n",
            "5362   N451AW            0.0                          0\n",
            "5363   N999JQ            0.0                          0\n",
            "\n",
            "[5364 rows x 3 columns]\n"
          ]
        }
      ]
    },
    {
      "cell_type": "code",
      "metadata": {
        "colab": {
          "base_uri": "https://localhost:8080/"
        },
        "id": "hn5j4CuEujUU",
        "outputId": "5ac7ca09-2d9c-47e5-8198-62f1a6ddd83c"
      },
      "source": [
        "tail_dep_del_NAS = systematic_sample4[['TAIL_NUM','NAS_DELAY']].groupby('TAIL_NUM').sum().sort_values(by='NAS_DELAY',ascending=False).reset_index()\n",
        "tail_dep_del_NAS['TAIL_DELAY_NAS_weight'] = pd.qcut(tail_dep_del_NAS['NAS_DELAY'], 50, labels = False,duplicates='drop')\n",
        "print(tail_dep_del_NAS)\n",
        "systematic_sample5 = systematic_sample4.merge(tail_dep_del_NAS, left_on='TAIL_NUM', right_on='TAIL_NUM')\n",
        "systematic_sample5.drop(columns=['NAS_DELAY_x','NAS_DELAY_y'], inplace=True, axis=1)"
      ],
      "execution_count": null,
      "outputs": [
        {
          "output_type": "stream",
          "name": "stdout",
          "text": [
            "     TAIL_NUM  NAS_DELAY  TAIL_DELAY_NAS_weight\n",
            "0      N641RW     1011.0                     38\n",
            "1      N933NK      981.0                     38\n",
            "2      N9011P      966.0                     38\n",
            "3      N662NK      964.0                     38\n",
            "4      N84378      907.0                     38\n",
            "...       ...        ...                    ...\n",
            "5359   N224AK        0.0                      0\n",
            "5360   N607SK        0.0                      0\n",
            "5361   N2250U        0.0                      0\n",
            "5362   N466UA        0.0                      0\n",
            "5363   N813UA        0.0                      0\n",
            "\n",
            "[5364 rows x 3 columns]\n"
          ]
        }
      ]
    },
    {
      "cell_type": "code",
      "metadata": {
        "colab": {
          "base_uri": "https://localhost:8080/"
        },
        "id": "Tt2ULTN3ujRS",
        "outputId": "01b1a5f1-a7d9-4a1c-d65c-5c27b5d8dc21"
      },
      "source": [
        "tail_dep_del_lateair = systematic_sample5[['TAIL_NUM','LATE_AIRCRAFT_DELAY']].groupby('TAIL_NUM').sum().sort_values(by='LATE_AIRCRAFT_DELAY',ascending=False).reset_index()\n",
        "tail_dep_del_lateair['TAIL_DELAY_LATE_AIRCRAFT_weight'] = pd.qcut(tail_dep_del_lateair['LATE_AIRCRAFT_DELAY'], 90, labels = False,duplicates='drop')\n",
        "print(tail_dep_del_lateair)\n",
        "systematic_sample6 = systematic_sample5.merge(tail_dep_del_lateair, left_on='TAIL_NUM', right_on='TAIL_NUM')\n",
        "systematic_sample6.drop(columns=['LATE_AIRCRAFT_DELAY_x','LATE_AIRCRAFT_DELAY_y'], inplace=True, axis=1)"
      ],
      "execution_count": null,
      "outputs": [
        {
          "output_type": "stream",
          "name": "stdout",
          "text": [
            "     TAIL_NUM  LATE_AIRCRAFT_DELAY  TAIL_DELAY_LATE_AIRCRAFT_weight\n",
            "0      N908FJ               1737.0                               59\n",
            "1      N732SK               1502.0                               59\n",
            "2      N189UW               1467.0                               59\n",
            "3      N998AN               1286.0                               59\n",
            "4      N934FJ               1184.0                               59\n",
            "...       ...                  ...                              ...\n",
            "5359   N837AW                  0.0                                0\n",
            "5360   N837AN                  0.0                                0\n",
            "5361   N379FR                  0.0                                0\n",
            "5362   N14177                  0.0                                0\n",
            "5363   N387DA                  0.0                                0\n",
            "\n",
            "[5364 rows x 3 columns]\n"
          ]
        }
      ]
    },
    {
      "cell_type": "code",
      "metadata": {
        "id": "MeXP_cpx2BWD"
      },
      "source": [
        "#systematic_sample6"
      ],
      "execution_count": null,
      "outputs": []
    },
    {
      "cell_type": "code",
      "metadata": {
        "colab": {
          "base_uri": "https://localhost:8080/",
          "height": 437
        },
        "id": "KcYBAwIZujMT",
        "outputId": "1f9b01bc-414f-44d1-f2d5-77fe07c6e214"
      },
      "source": [
        "systematic_sample6.drop(columns=['TAIL_NUM'], inplace=True, axis=1)\n",
        "systematic_sample6"
      ],
      "execution_count": null,
      "outputs": [
        {
          "output_type": "execute_result",
          "data": {
            "text/html": [
              "<div>\n",
              "<style scoped>\n",
              "    .dataframe tbody tr th:only-of-type {\n",
              "        vertical-align: middle;\n",
              "    }\n",
              "\n",
              "    .dataframe tbody tr th {\n",
              "        vertical-align: top;\n",
              "    }\n",
              "\n",
              "    .dataframe thead th {\n",
              "        text-align: right;\n",
              "    }\n",
              "</style>\n",
              "<table border=\"1\" class=\"dataframe\">\n",
              "  <thead>\n",
              "    <tr style=\"text-align: right;\">\n",
              "      <th></th>\n",
              "      <th>MONTH</th>\n",
              "      <th>DAY_OF_MONTH</th>\n",
              "      <th>DAY_OF_WEEK</th>\n",
              "      <th>OP_CARRIER</th>\n",
              "      <th>ORIGIN</th>\n",
              "      <th>DEP_DEL15</th>\n",
              "      <th>TAIL_DELAY_weight</th>\n",
              "      <th>TAIL_DELAY_CARRIER_weight</th>\n",
              "      <th>TAIL_DELAY_SECURITY_weight</th>\n",
              "      <th>TAIL_DELAY_WEATHER_weight</th>\n",
              "      <th>TAIL_DELAY_NAS_weight</th>\n",
              "      <th>TAIL_DELAY_LATE_AIRCRAFT_weight</th>\n",
              "    </tr>\n",
              "  </thead>\n",
              "  <tbody>\n",
              "    <tr>\n",
              "      <th>0</th>\n",
              "      <td>1</td>\n",
              "      <td>17</td>\n",
              "      <td>7</td>\n",
              "      <td>DL</td>\n",
              "      <td>DFW</td>\n",
              "      <td>0.0</td>\n",
              "      <td>3</td>\n",
              "      <td>58</td>\n",
              "      <td>0</td>\n",
              "      <td>0</td>\n",
              "      <td>15</td>\n",
              "      <td>0</td>\n",
              "    </tr>\n",
              "    <tr>\n",
              "      <th>1</th>\n",
              "      <td>1</td>\n",
              "      <td>18</td>\n",
              "      <td>1</td>\n",
              "      <td>DL</td>\n",
              "      <td>ATL</td>\n",
              "      <td>0.0</td>\n",
              "      <td>3</td>\n",
              "      <td>58</td>\n",
              "      <td>0</td>\n",
              "      <td>0</td>\n",
              "      <td>15</td>\n",
              "      <td>0</td>\n",
              "    </tr>\n",
              "    <tr>\n",
              "      <th>2</th>\n",
              "      <td>1</td>\n",
              "      <td>20</td>\n",
              "      <td>3</td>\n",
              "      <td>DL</td>\n",
              "      <td>DTW</td>\n",
              "      <td>0.0</td>\n",
              "      <td>3</td>\n",
              "      <td>58</td>\n",
              "      <td>0</td>\n",
              "      <td>0</td>\n",
              "      <td>15</td>\n",
              "      <td>0</td>\n",
              "    </tr>\n",
              "    <tr>\n",
              "      <th>3</th>\n",
              "      <td>1</td>\n",
              "      <td>2</td>\n",
              "      <td>6</td>\n",
              "      <td>DL</td>\n",
              "      <td>FAR</td>\n",
              "      <td>0.0</td>\n",
              "      <td>3</td>\n",
              "      <td>58</td>\n",
              "      <td>0</td>\n",
              "      <td>0</td>\n",
              "      <td>15</td>\n",
              "      <td>0</td>\n",
              "    </tr>\n",
              "    <tr>\n",
              "      <th>4</th>\n",
              "      <td>1</td>\n",
              "      <td>4</td>\n",
              "      <td>1</td>\n",
              "      <td>DL</td>\n",
              "      <td>DCA</td>\n",
              "      <td>0.0</td>\n",
              "      <td>3</td>\n",
              "      <td>58</td>\n",
              "      <td>0</td>\n",
              "      <td>0</td>\n",
              "      <td>15</td>\n",
              "      <td>0</td>\n",
              "    </tr>\n",
              "    <tr>\n",
              "      <th>...</th>\n",
              "      <td>...</td>\n",
              "      <td>...</td>\n",
              "      <td>...</td>\n",
              "      <td>...</td>\n",
              "      <td>...</td>\n",
              "      <td>...</td>\n",
              "      <td>...</td>\n",
              "      <td>...</td>\n",
              "      <td>...</td>\n",
              "      <td>...</td>\n",
              "      <td>...</td>\n",
              "      <td>...</td>\n",
              "    </tr>\n",
              "    <tr>\n",
              "      <th>215609</th>\n",
              "      <td>5</td>\n",
              "      <td>7</td>\n",
              "      <td>5</td>\n",
              "      <td>G7</td>\n",
              "      <td>MBS</td>\n",
              "      <td>0.0</td>\n",
              "      <td>0</td>\n",
              "      <td>23</td>\n",
              "      <td>0</td>\n",
              "      <td>0</td>\n",
              "      <td>0</td>\n",
              "      <td>0</td>\n",
              "    </tr>\n",
              "    <tr>\n",
              "      <th>215610</th>\n",
              "      <td>5</td>\n",
              "      <td>6</td>\n",
              "      <td>4</td>\n",
              "      <td>G7</td>\n",
              "      <td>ORD</td>\n",
              "      <td>0.0</td>\n",
              "      <td>0</td>\n",
              "      <td>23</td>\n",
              "      <td>0</td>\n",
              "      <td>0</td>\n",
              "      <td>0</td>\n",
              "      <td>0</td>\n",
              "    </tr>\n",
              "    <tr>\n",
              "      <th>215611</th>\n",
              "      <td>5</td>\n",
              "      <td>28</td>\n",
              "      <td>5</td>\n",
              "      <td>C5</td>\n",
              "      <td>SYR</td>\n",
              "      <td>0.0</td>\n",
              "      <td>0</td>\n",
              "      <td>0</td>\n",
              "      <td>0</td>\n",
              "      <td>0</td>\n",
              "      <td>0</td>\n",
              "      <td>0</td>\n",
              "    </tr>\n",
              "    <tr>\n",
              "      <th>215612</th>\n",
              "      <td>5</td>\n",
              "      <td>26</td>\n",
              "      <td>3</td>\n",
              "      <td>C5</td>\n",
              "      <td>IAD</td>\n",
              "      <td>0.0</td>\n",
              "      <td>0</td>\n",
              "      <td>0</td>\n",
              "      <td>0</td>\n",
              "      <td>0</td>\n",
              "      <td>0</td>\n",
              "      <td>0</td>\n",
              "    </tr>\n",
              "    <tr>\n",
              "      <th>215613</th>\n",
              "      <td>5</td>\n",
              "      <td>25</td>\n",
              "      <td>2</td>\n",
              "      <td>C5</td>\n",
              "      <td>MYR</td>\n",
              "      <td>0.0</td>\n",
              "      <td>0</td>\n",
              "      <td>0</td>\n",
              "      <td>0</td>\n",
              "      <td>0</td>\n",
              "      <td>0</td>\n",
              "      <td>0</td>\n",
              "    </tr>\n",
              "  </tbody>\n",
              "</table>\n",
              "<p>215614 rows × 12 columns</p>\n",
              "</div>"
            ],
            "text/plain": [
              "        MONTH  ...  TAIL_DELAY_LATE_AIRCRAFT_weight\n",
              "0           1  ...                                0\n",
              "1           1  ...                                0\n",
              "2           1  ...                                0\n",
              "3           1  ...                                0\n",
              "4           1  ...                                0\n",
              "...       ...  ...                              ...\n",
              "215609      5  ...                                0\n",
              "215610      5  ...                                0\n",
              "215611      5  ...                                0\n",
              "215612      5  ...                                0\n",
              "215613      5  ...                                0\n",
              "\n",
              "[215614 rows x 12 columns]"
            ]
          },
          "metadata": {},
          "execution_count": 22
        }
      ]
    },
    {
      "cell_type": "code",
      "metadata": {
        "colab": {
          "base_uri": "https://localhost:8080/"
        },
        "id": "jr6X1FQ35PXD",
        "outputId": "39470e14-47aa-4ff0-adb0-de1a422f2830"
      },
      "source": [
        "#df[['A', 'C']] = df[['A', 'C']].apply(pd.to_numeric)\n",
        "print(systematic_sample6.dtypes)"
      ],
      "execution_count": null,
      "outputs": [
        {
          "output_type": "stream",
          "name": "stdout",
          "text": [
            "MONTH                                int64\n",
            "DAY_OF_MONTH                         int64\n",
            "DAY_OF_WEEK                          int64\n",
            "OP_CARRIER                          object\n",
            "ORIGIN                              object\n",
            "DEP_DEL15                          float64\n",
            "TAIL_DELAY_weight                    int64\n",
            "TAIL_DELAY_CARRIER_weight            int64\n",
            "TAIL_DELAY_SECURITY_weight           int64\n",
            "TAIL_DELAY_WEATHER_weight            int64\n",
            "TAIL_DELAY_NAS_weight                int64\n",
            "TAIL_DELAY_LATE_AIRCRAFT_weight      int64\n",
            "dtype: object\n"
          ]
        }
      ]
    },
    {
      "cell_type": "markdown",
      "metadata": {
        "id": "wHGWpHYjAV6g"
      },
      "source": [
        ""
      ]
    },
    {
      "cell_type": "code",
      "metadata": {
        "id": "8bzT01JaNgjn"
      },
      "source": [
        "# ERROR- Unable to allocate 6. GiB for an array with shape (1617105, 441) and data type bool\n",
        "#so to manage space convert 64 bit as 32 bit for each column variable(while taking whole data set)\n"
      ],
      "execution_count": null,
      "outputs": []
    },
    {
      "cell_type": "code",
      "metadata": {
        "id": "ehqi-wWg2q32"
      },
      "source": [
        "systematic_samplefinal=systematic_sample6.copy()\n",
        "systematic_samplefinal[['MONTH','DAY_OF_MONTH','DAY_OF_WEEK']]=systematic_samplefinal[['MONTH','DAY_OF_MONTH','DAY_OF_WEEK']].astype(str)\n",
        "\n",
        "systematic_samplefinal = systematic_samplefinal.astype({col: 'float16' for col in systematic_samplefinal.select_dtypes('float64').columns})\n",
        "systematic_samplefinal = systematic_samplefinal.astype({col: 'int16' for col in systematic_samplefinal.select_dtypes('int64').columns})\n"
      ],
      "execution_count": null,
      "outputs": []
    },
    {
      "cell_type": "markdown",
      "metadata": {
        "id": "S_fP1u2rAKDt"
      },
      "source": [
        "### One Hot Encoding with get_dummy variables and drop first\n"
      ]
    },
    {
      "cell_type": "code",
      "metadata": {
        "colab": {
          "base_uri": "https://localhost:8080/"
        },
        "id": "yVWMkw3QujI0",
        "outputId": "abe30296-8ecd-435d-e440-fc888bdda03d"
      },
      "source": [
        "systematic_samplefinal = pd.get_dummies(systematic_samplefinal, drop_first=True)\n",
        "systematic_samplefinal.dtypes"
      ],
      "execution_count": null,
      "outputs": [
        {
          "output_type": "execute_result",
          "data": {
            "text/plain": [
              "DEP_DEL15                     int16\n",
              "TAIL_DELAY_weight             int16\n",
              "TAIL_DELAY_CARRIER_weight     int16\n",
              "TAIL_DELAY_SECURITY_weight    int16\n",
              "TAIL_DELAY_WEATHER_weight     int16\n",
              "                              ...  \n",
              "ORIGIN_XNA                    uint8\n",
              "ORIGIN_XWA                    uint8\n",
              "ORIGIN_YAK                    uint8\n",
              "ORIGIN_YKM                    uint8\n",
              "ORIGIN_YUM                    uint8\n",
              "Length: 440, dtype: object"
            ]
          },
          "metadata": {},
          "execution_count": 85
        }
      ]
    },
    {
      "cell_type": "code",
      "metadata": {
        "id": "fJwsBW5VujFu"
      },
      "source": [
        "#systematic_samplefinal.head(5)"
      ],
      "execution_count": null,
      "outputs": []
    },
    {
      "cell_type": "code",
      "metadata": {
        "colab": {
          "base_uri": "https://localhost:8080/"
        },
        "id": "O-LPuV2LiRnW",
        "outputId": "7e10e867-7f5c-475c-f4f2-a8556ac1d889"
      },
      "source": [
        "systematic_samplefinal.shape"
      ],
      "execution_count": null,
      "outputs": [
        {
          "output_type": "execute_result",
          "data": {
            "text/plain": [
              "(215614, 440)"
            ]
          },
          "metadata": {},
          "execution_count": 86
        }
      ]
    },
    {
      "cell_type": "code",
      "metadata": {
        "colab": {
          "base_uri": "https://localhost:8080/"
        },
        "id": "5uOjaAQ5ujCL",
        "outputId": "a3795c25-5b14-491e-ccfc-5dff25be3efe"
      },
      "source": [
        "y = systematic_samplefinal.DEP_DEL15 \n",
        " #Drop target and set the dependent values variables \n",
        "X = systematic_samplefinal.drop('DEP_DEL15', axis=1)\n",
        "print(X.shape,y.shape)\n",
        "\n"
      ],
      "execution_count": null,
      "outputs": [
        {
          "output_type": "stream",
          "name": "stdout",
          "text": [
            "(215614, 439) (215614,)\n"
          ]
        }
      ]
    },
    {
      "cell_type": "markdown",
      "metadata": {
        "id": "yCLyvtx45QCN"
      },
      "source": [
        "#### To avoid data leakage first do train test split and do pca, scaling etc..\n"
      ]
    },
    {
      "cell_type": "code",
      "metadata": {
        "colab": {
          "base_uri": "https://localhost:8080/"
        },
        "id": "ybwp89QU80u3",
        "outputId": "750d1a8a-1624-40ca-d48a-dfdcd24ef3b3"
      },
      "source": [
        "#Split into training and test sets\n",
        "#Stratify will make sure your train and validation data are split based on output label frequencies based on train data.\n",
        "X_train, X_test, y_train, y_test = train_test_split(X, y, test_size=0.25, stratify = systematic_samplefinal['DEP_DEL15'])\n",
        "print(X_train.shape, X_test.shape, y_train.shape, y_test.shape)"
      ],
      "execution_count": null,
      "outputs": [
        {
          "output_type": "stream",
          "name": "stdout",
          "text": [
            "(161710, 439) (53904, 439) (161710,) (53904,)\n"
          ]
        }
      ]
    },
    {
      "cell_type": "code",
      "metadata": {
        "id": "FpsIwJ-6jXEn"
      },
      "source": [
        "from sklearn.preprocessing import scale\n",
        "from sklearn.preprocessing import StandardScaler\n",
        "Rscaler = RobustScaler()\n",
        "X_Train_scaled = Rscaler.fit_transform(X_train)\n",
        "X_Test_scaled = Rscaler.transform(X_test)\n",
        "#convert it to numpy arrays\n",
        "#X_train=X_train.values\n",
        "#X_test=X_test.values\n",
        "#scaler = StandardScaler()\n",
        "#X_Train_scaled = scaler.fit_transform(X_train)\n",
        "#X_Test_scaled = scaler.transform(X_test)\n",
        "#scaled_df = pd.DataFrame(scaled_df)\n",
        "#X_Train = scale.fit_transform(X_Train)\n",
        "#X_Test = scale.transform(X_Test)\n",
        "#Rscaler = RobustScaler()\n",
        "#X_train = Rscaler.fit_transform(X_train)\n"
      ],
      "execution_count": null,
      "outputs": []
    },
    {
      "cell_type": "code",
      "metadata": {
        "id": "BJ19470ejZ4K"
      },
      "source": [
        "#X_Train_scaled"
      ],
      "execution_count": null,
      "outputs": []
    },
    {
      "cell_type": "markdown",
      "metadata": {
        "id": "30qtHCq7_Dkw"
      },
      "source": [
        "# PCA - fit_transform on Train data set and transform on test data set "
      ]
    },
    {
      "cell_type": "code",
      "metadata": {
        "colab": {
          "base_uri": "https://localhost:8080/"
        },
        "id": "ovSg1pAK_Ss6",
        "outputId": "c9e04446-78ca-4494-f913-38fd93f499a4"
      },
      "source": [
        "from sklearn.decomposition import PCA\n",
        "# 95% of the variance is retained.\n",
        "#pca = PCA(n_components=2) # can chose n num of components (439 columns transfered to 2 columns)\n",
        "#to maintain 95% varience it neeed 94 principal component(columns)\n",
        "pca = PCA(.85)\n",
        "principalComponents_train = pca.fit_transform(X_Train_scaled)\n",
        "principalComponents_test =pca.transform(X_Test_scaled)\n",
        "print(principalComponents_train.shape,principalComponents_test.shape)"
      ],
      "execution_count": null,
      "outputs": [
        {
          "output_type": "stream",
          "name": "stdout",
          "text": [
            "(161710, 52) (53904, 52)\n"
          ]
        }
      ]
    },
    {
      "cell_type": "code",
      "metadata": {
        "id": "9i0cheTV_SpZ"
      },
      "source": [
        "principalDf_train = pd.DataFrame(data = principalComponents_train)\n",
        "#columns = ['principal component 1', 'principal component 2', 'principal component 3','principal component 4']\n",
        "#principalDf_trainXY = pd.concat([principalDf_train, y_train], axis = 1)\n",
        "#principalDf_train\n",
        "principalDf_test = pd.DataFrame(data = principalComponents_test)\n"
      ],
      "execution_count": null,
      "outputs": []
    },
    {
      "cell_type": "code",
      "metadata": {
        "colab": {
          "base_uri": "https://localhost:8080/"
        },
        "id": "0Z5PqHH1bg_N",
        "outputId": "ed7d4222-fc1d-45f5-a8e3-a3159e25c879"
      },
      "source": [
        "pca.explained_variance_ratio_"
      ],
      "execution_count": null,
      "outputs": [
        {
          "output_type": "execute_result",
          "data": {
            "text/plain": [
              "array([0.22373413, 0.11389125, 0.04713816, 0.03272552, 0.03086583,\n",
              "       0.03046338, 0.02337835, 0.02259988, 0.0219265 , 0.02082441,\n",
              "       0.02049534, 0.01870929, 0.01832915, 0.01692398, 0.01405692,\n",
              "       0.01074039, 0.00881231, 0.00839608, 0.00751728, 0.0070069 ,\n",
              "       0.00638836, 0.00627699, 0.00562454, 0.0053422 , 0.00533163,\n",
              "       0.00512741, 0.00494627, 0.00488491, 0.00486451, 0.00483396,\n",
              "       0.00481371, 0.00478126, 0.00476648, 0.00475742, 0.00470628,\n",
              "       0.00465695, 0.00462539, 0.00459828, 0.00457246, 0.00456213,\n",
              "       0.00452441, 0.0044769 , 0.00447284, 0.00446951, 0.00441604,\n",
              "       0.00440765, 0.00438365, 0.0043394 , 0.00429643, 0.00427537,\n",
              "       0.00419188, 0.00400618])"
            ]
          },
          "metadata": {},
          "execution_count": 96
        }
      ]
    },
    {
      "cell_type": "code",
      "metadata": {
        "id": "oiYmlOZCS8fI"
      },
      "source": [
        "#y_train.value_counts()"
      ],
      "execution_count": null,
      "outputs": []
    },
    {
      "cell_type": "markdown",
      "metadata": {
        "id": "snYL7-a3LEkg"
      },
      "source": [
        "SMOTE after PCA(applying SMOTE only for train dataset to avoid data leakage)- Trials to yields Higher accuracy"
      ]
    },
    {
      "cell_type": "code",
      "metadata": {
        "colab": {
          "base_uri": "https://localhost:8080/"
        },
        "id": "qPHBdi--O0Bv",
        "outputId": "91006234-cc06-4222-98aa-60951462a863"
      },
      "source": [
        "oversample = SMOTE()\n",
        "df_X_smt_PCA_train, df_Y_smt_PCA_train = oversample.fit_resample(principalDf_train, y_train)\n",
        "counter = Counter(df_Y_smt_PCA_train)\n",
        "print(counter)"
      ],
      "execution_count": null,
      "outputs": [
        {
          "output_type": "stream",
          "name": "stdout",
          "text": [
            "Counter({0: 143845, 1: 143845})\n"
          ]
        }
      ]
    },
    {
      "cell_type": "markdown",
      "metadata": {
        "id": "mfnMbRrBAX_n"
      },
      "source": [
        "# Logistic regression with Dataframe 1- SMOTE and PCA"
      ]
    },
    {
      "cell_type": "code",
      "metadata": {
        "id": "ER67NR0NAWau"
      },
      "source": [
        "from sklearn.linear_model import LogisticRegression\n",
        "model_LOGISTICS = LogisticRegression()\n",
        "model_LOGISTICSfit = model_LOGISTICS.fit(df_X_smt_PCA_train, df_Y_smt_PCA_train)"
      ],
      "execution_count": null,
      "outputs": []
    },
    {
      "cell_type": "code",
      "metadata": {
        "colab": {
          "base_uri": "https://localhost:8080/"
        },
        "id": "oG3UEhn0fevY",
        "outputId": "f0c0c5c1-446e-402f-d98e-393f2e2289e4"
      },
      "source": [
        "y_pred_test = model_LOGISTICSfit.predict(principalDf_test)\n",
        "# Measuring Goodness of fit in Training data\n",
        "print('R2 Value logistic:',metrics.r2_score(df_Y_smt_PCA_train, model_LOGISTICSfit.predict(df_X_smt_PCA_train)))\n",
        "print(confusion_matrix(y_test, y_pred_test))\n",
        "print(classification_report(y_test, y_pred_test))"
      ],
      "execution_count": null,
      "outputs": [
        {
          "output_type": "stream",
          "name": "stdout",
          "text": [
            "R2 Value logistic: -0.5032986895616809\n",
            "[[30610 17339]\n",
            " [ 2421  3534]]\n",
            "              precision    recall  f1-score   support\n",
            "\n",
            "           0       0.93      0.64      0.76     47949\n",
            "           1       0.17      0.59      0.26      5955\n",
            "\n",
            "    accuracy                           0.63     53904\n",
            "   macro avg       0.55      0.62      0.51     53904\n",
            "weighted avg       0.84      0.63      0.70     53904\n",
            "\n"
          ]
        }
      ]
    },
    {
      "cell_type": "markdown",
      "metadata": {
        "id": "Nk_Dv_3iEA2J"
      },
      "source": [
        "## RANDOM FOREST - with DATAFRAME1- PCA and SMOTE"
      ]
    },
    {
      "cell_type": "code",
      "metadata": {
        "colab": {
          "base_uri": "https://localhost:8080/"
        },
        "id": "E39fueakUOrb",
        "outputId": "20244146-0db4-4dfc-998e-a07bbfccbbe5"
      },
      "source": [
        "model_Randomforest_smt= RandomForestClassifier(n_estimators= 10, criterion=\"entropy\")  \n",
        "model_Randomforest_smt = model_Randomforest_smt.fit(df_X_smt_PCA_train, df_Y_smt_PCA_train)\n",
        "y_pred_test_RF = model_Randomforest_smt.predict(principalDf_test)\n",
        "print('R2 Value RANDOM FOREST:',metrics.r2_score(df_Y_smt_PCA_train, model_Randomforest_smt.predict(df_X_smt_PCA_train)))\n",
        "print(confusion_matrix(y_test, y_pred_test_RF))\n",
        "print(classification_report(y_test, y_pred_test_RF))"
      ],
      "execution_count": null,
      "outputs": [
        {
          "output_type": "stream",
          "name": "stdout",
          "text": [
            "R2 Value RANDOM FOREST: 0.9851784907365567\n",
            "[[43533  4416]\n",
            " [ 4611  1344]]\n",
            "              precision    recall  f1-score   support\n",
            "\n",
            "           0       0.90      0.91      0.91     47949\n",
            "           1       0.23      0.23      0.23      5955\n",
            "\n",
            "    accuracy                           0.83     53904\n",
            "   macro avg       0.57      0.57      0.57     53904\n",
            "weighted avg       0.83      0.83      0.83     53904\n",
            "\n"
          ]
        }
      ]
    },
    {
      "cell_type": "markdown",
      "metadata": {
        "id": "meVbS7SYq-o0"
      },
      "source": [
        "# APPROACH2-Hyper parameter tunning in Random forest with Cross validation- Without smote and PCA"
      ]
    },
    {
      "cell_type": "code",
      "metadata": {
        "colab": {
          "base_uri": "https://localhost:8080/"
        },
        "id": "W2_xn_zfrI5C",
        "outputId": "7945bfaf-8b17-4e9b-f6b0-1a653ada0a79"
      },
      "source": [
        "from sklearn.model_selection import RepeatedStratifiedKFold\n",
        "from sklearn.model_selection import cross_val_score\n",
        "from numpy import mean\n",
        "# setting the class_weight argument on the RandomForestClassifier class.\n",
        "#This argument takes a dictionary with a mapping of each class value (e.g. 0 and 1) to the weighting. \n",
        "#The argument value of ‘balanced‘ can be provided to automatically use the inverse weighting from the training dataset, giving focus to the minority class.\n",
        "modelRF2 = RandomForestClassifier(n_estimators=10, class_weight='balanced')\n",
        "# define evaluation procedure\n",
        "cv = RepeatedStratifiedKFold(n_splits=10, n_repeats=3, random_state=1)\n",
        "# evaluate model\n",
        "scores_ypred = cross_val_score(modelRF2, X, y, scoring='roc_auc', cv=cv, n_jobs=-1)\n",
        "#print(confusion_matrix(y, scores_ypred))\n",
        "#print(classification_report(y, scores_ypred))\n",
        "# summarize performance\n",
        "print('Mean ROC AUC: %.3f' % mean(scores_ypred))"
      ],
      "execution_count": null,
      "outputs": [
        {
          "output_type": "stream",
          "name": "stdout",
          "text": [
            "Mean ROC AUC: 0.626\n"
          ]
        }
      ]
    },
    {
      "cell_type": "markdown",
      "metadata": {
        "id": "-dz84Z2QXFvw"
      },
      "source": [
        "# APPROACH 3- Hyper parameter tunning techniques-Randomized search CV and Grid Search CV"
      ]
    },
    {
      "cell_type": "code",
      "metadata": {
        "colab": {
          "base_uri": "https://localhost:8080/"
        },
        "id": "46k8uZQZlKJ4",
        "outputId": "6a36dc98-aea4-4a78-de4d-8cb1ceee8831"
      },
      "source": [
        "#IF i give all parameters its taking an hour to run\n",
        "from sklearn.decomposition import PCA\n",
        "from sklearn.neighbors import KNeighborsClassifier\n",
        "from sklearn.model_selection import StratifiedKFold\n",
        "from imblearn.over_sampling import SMOTE\n",
        "from imblearn.pipeline import make_pipeline\n",
        "import numpy as np\n",
        "from sklearn.model_selection import RandomizedSearchCV\n",
        "# Number of trees in random forest\n",
        "n_estimators = [int(x) for x in np.linspace(start = 2, stop = 10, num = 5)]\n",
        "# Number of features to consider at every split\n",
        "#max_features = ['auto', 'sqrt','log2']\n",
        "# Maximum number of levels in tree\n",
        "#max_depth = [int(x) for x in np.linspace(10, 100,5)]\n",
        "# Minimum number of samples required to split a node\n",
        "min_samples_split = [2, 5]\n",
        "# Minimum number of samples required at each leaf node\n",
        "min_samples_leaf = [1, 2]\n",
        "# Create the random grid\n",
        "random_grid = {'n_estimators': n_estimators,\n",
        "               \n",
        "               'min_samples_split': min_samples_split,\n",
        "               'min_samples_leaf': min_samples_leaf,\n",
        "              'criterion':['entropy','gini']}\n",
        "print(random_grid)\n",
        "\n",
        "\n"
      ],
      "execution_count": null,
      "outputs": [
        {
          "name": "stdout",
          "output_type": "stream",
          "text": [
            "{'n_estimators': [2, 4, 6, 8, 10], 'min_samples_split': [2, 5], 'min_samples_leaf': [1, 2], 'criterion': ['entropy', 'gini']}\n"
          ]
        }
      ]
    },
    {
      "cell_type": "code",
      "metadata": {
        "colab": {
          "base_uri": "https://localhost:8080/"
        },
        "id": "hoJRttczTGbg",
        "outputId": "b90853e1-a92e-4200-e194-aeba570a353e"
      },
      "source": [
        "rf = RandomForestClassifier()\n",
        "Skfold = StratifiedKFold(n_splits=5)\n",
        "\n",
        "random_search = RandomizedSearchCV(rf, param_distributions=random_grid,\n",
        "                                   n_iter=3, \n",
        "                                   cv = Skfold)\n",
        "### fit the randomized model\n",
        "random_search.fit(principalDf_train,y_train)"
      ],
      "execution_count": null,
      "outputs": [
        {
          "data": {
            "text/plain": [
              "RandomizedSearchCV(cv=StratifiedKFold(n_splits=5, random_state=None, shuffle=False),\n",
              "                   error_score=nan,\n",
              "                   estimator=RandomForestClassifier(bootstrap=True,\n",
              "                                                    ccp_alpha=0.0,\n",
              "                                                    class_weight=None,\n",
              "                                                    criterion='gini',\n",
              "                                                    max_depth=None,\n",
              "                                                    max_features='auto',\n",
              "                                                    max_leaf_nodes=None,\n",
              "                                                    max_samples=None,\n",
              "                                                    min_impurity_decrease=0.0,\n",
              "                                                    min_impurity_split=None,\n",
              "                                                    min_samples_leaf=1,\n",
              "                                                    min_samples_sp...\n",
              "                                                    n_estimators=100,\n",
              "                                                    n_jobs=None,\n",
              "                                                    oob_score=False,\n",
              "                                                    random_state=None,\n",
              "                                                    verbose=0,\n",
              "                                                    warm_start=False),\n",
              "                   iid='deprecated', n_iter=3, n_jobs=None,\n",
              "                   param_distributions={'criterion': ['entropy', 'gini'],\n",
              "                                        'min_samples_leaf': [1, 2],\n",
              "                                        'min_samples_split': [2, 5],\n",
              "                                        'n_estimators': [2, 4, 6, 8, 10]},\n",
              "                   pre_dispatch='2*n_jobs', random_state=None, refit=True,\n",
              "                   return_train_score=False, scoring=None, verbose=0)"
            ]
          },
          "execution_count": 55,
          "metadata": {},
          "output_type": "execute_result"
        }
      ]
    },
    {
      "cell_type": "code",
      "metadata": {
        "colab": {
          "base_uri": "https://localhost:8080/"
        },
        "id": "s-J-LbEkZRi4",
        "outputId": "fdda5945-4250-491c-f6d7-c9dde6a4e891"
      },
      "source": [
        "random_search.best_params_"
      ],
      "execution_count": null,
      "outputs": [
        {
          "data": {
            "text/plain": [
              "{'criterion': 'gini',\n",
              " 'min_samples_leaf': 2,\n",
              " 'min_samples_split': 5,\n",
              " 'n_estimators': 10}"
            ]
          },
          "execution_count": 56,
          "metadata": {},
          "output_type": "execute_result"
        }
      ]
    },
    {
      "cell_type": "code",
      "metadata": {
        "colab": {
          "base_uri": "https://localhost:8080/"
        },
        "id": "7gM46iN3ZRfO",
        "outputId": "f517cb68-0cb1-4d76-95a8-68e608347ada"
      },
      "source": [
        "random_search"
      ],
      "execution_count": null,
      "outputs": [
        {
          "data": {
            "text/plain": [
              "RandomizedSearchCV(cv=StratifiedKFold(n_splits=5, random_state=None, shuffle=False),\n",
              "                   error_score=nan,\n",
              "                   estimator=RandomForestClassifier(bootstrap=True,\n",
              "                                                    ccp_alpha=0.0,\n",
              "                                                    class_weight=None,\n",
              "                                                    criterion='gini',\n",
              "                                                    max_depth=None,\n",
              "                                                    max_features='auto',\n",
              "                                                    max_leaf_nodes=None,\n",
              "                                                    max_samples=None,\n",
              "                                                    min_impurity_decrease=0.0,\n",
              "                                                    min_impurity_split=None,\n",
              "                                                    min_samples_leaf=1,\n",
              "                                                    min_samples_sp...\n",
              "                                                    n_estimators=100,\n",
              "                                                    n_jobs=None,\n",
              "                                                    oob_score=False,\n",
              "                                                    random_state=None,\n",
              "                                                    verbose=0,\n",
              "                                                    warm_start=False),\n",
              "                   iid='deprecated', n_iter=3, n_jobs=None,\n",
              "                   param_distributions={'criterion': ['entropy', 'gini'],\n",
              "                                        'min_samples_leaf': [1, 2],\n",
              "                                        'min_samples_split': [2, 5],\n",
              "                                        'n_estimators': [2, 4, 6, 8, 10]},\n",
              "                   pre_dispatch='2*n_jobs', random_state=None, refit=True,\n",
              "                   return_train_score=False, scoring=None, verbose=0)"
            ]
          },
          "execution_count": 57,
          "metadata": {},
          "output_type": "execute_result"
        }
      ]
    },
    {
      "cell_type": "code",
      "metadata": {
        "id": "46VVcPWkZnOE"
      },
      "source": [
        "best_random_grid=random_search.best_estimator_\n"
      ],
      "execution_count": null,
      "outputs": []
    },
    {
      "cell_type": "code",
      "metadata": {
        "colab": {
          "base_uri": "https://localhost:8080/"
        },
        "id": "MU5W0Lb9Zu_K",
        "outputId": "a704798d-e2cc-4a9b-b65f-80a039518222"
      },
      "source": [
        "from sklearn.metrics import accuracy_score\n",
        "y_pred_RF=best_random_grid.predict(principalDf_test)\n",
        "print(confusion_matrix(y_test,y_pred_RF))\n",
        "print(\"Accuracy Score {}\".format(accuracy_score(y_test,y_pred_RF)))\n",
        "print(\"Classification report: {}\".format(classification_report(y_test,y_pred_RF)))"
      ],
      "execution_count": null,
      "outputs": [
        {
          "name": "stdout",
          "output_type": "stream",
          "text": [
            "[[47428   521]\n",
            " [ 5668   287]]\n",
            "Accuracy Score 0.8851847729296527\n",
            "Classification report:               precision    recall  f1-score   support\n",
            "\n",
            "         0.0       0.89      0.99      0.94     47949\n",
            "         1.0       0.36      0.05      0.08      5955\n",
            "\n",
            "    accuracy                           0.89     53904\n",
            "   macro avg       0.62      0.52      0.51     53904\n",
            "weighted avg       0.83      0.89      0.84     53904\n",
            "\n"
          ]
        }
      ]
    },
    {
      "cell_type": "markdown",
      "metadata": {
        "id": "5bApOmdzlG1s"
      },
      "source": [
        "# APPROACH 4- class:~imblearn.pipeline.Pipeline` object (or make_pipeline helper function) working with transformers and resamplers."
      ]
    },
    {
      "cell_type": "markdown",
      "metadata": {
        "id": "vcnXlFJSmKy3"
      },
      "source": [
        "# Pipeline flow- \n",
        "  * FinalDF->scaling(robust)-> train test split-> PCA->SMOTE-> models(KNN/ Random forest)feed pipeline in StratifiedKFold-> feed it to RandomizedSearchCV(hyper parameter tunning technique)\n"
      ]
    },
    {
      "cell_type": "markdown",
      "metadata": {
        "id": "nHudq_Hxn7J9"
      },
      "source": [
        "Running for more than 1.30hrs  "
      ]
    },
    {
      "cell_type": "code",
      "metadata": {
        "colab": {
          "base_uri": "https://localhost:8080/",
          "height": 370
        },
        "id": "ArbD2VoIVHHq",
        "outputId": "9fee3e2f-d168-4f73-ccc0-869ac64d2d03"
      },
      "source": [
        "from sklearn.model_selection import cross_val_predict\n",
        "\n",
        "Rscaler = RobustScaler()\n",
        "pca = PCA(.80)\n",
        "smote = SMOTE(random_state=70)\n",
        "knn = KNeighborsClassifier(n_neighbors=10)\n",
        "\n",
        "pipeline = make_pipeline(Rscaler, pca,smote,knn)\n",
        "#X_train, X_test, y_train, y_test\n",
        "kf = StratifiedKFold(n_splits=5)\n",
        "y_pred_KNN = cross_val_predict(pipeline,X, y, cv=kf)\n",
        "conf_mat_KNN = confusion_matrix(y_test, y_pred_KNN)\n",
        "print(conf_mat_KNN)\n",
        "acc_Test_KNN= accuracy_score(y_test, y_pred_KNN)\n",
        "print(acc_Test_KNN)\n",
        "print(classification_report(y_test, y_pred_KNN))"
      ],
      "execution_count": null,
      "outputs": [
        {
          "output_type": "error",
          "ename": "KeyboardInterrupt",
          "evalue": "ignored",
          "traceback": [
            "\u001b[0;31m---------------------------------------------------------------------------\u001b[0m",
            "\u001b[0;31mKeyboardInterrupt\u001b[0m                         Traceback (most recent call last)",
            "\u001b[0;32m<ipython-input-112-6170df91bd49>\u001b[0m in \u001b[0;36m<module>\u001b[0;34m()\u001b[0m\n\u001b[1;32m      9\u001b[0m \u001b[0;31m#X_train, X_test, y_train, y_test\u001b[0m\u001b[0;34m\u001b[0m\u001b[0;34m\u001b[0m\u001b[0;34m\u001b[0m\u001b[0m\n\u001b[1;32m     10\u001b[0m \u001b[0mkf\u001b[0m \u001b[0;34m=\u001b[0m \u001b[0mStratifiedKFold\u001b[0m\u001b[0;34m(\u001b[0m\u001b[0mn_splits\u001b[0m\u001b[0;34m=\u001b[0m\u001b[0;36m5\u001b[0m\u001b[0;34m)\u001b[0m\u001b[0;34m\u001b[0m\u001b[0;34m\u001b[0m\u001b[0m\n\u001b[0;32m---> 11\u001b[0;31m \u001b[0my_pred_KNN\u001b[0m \u001b[0;34m=\u001b[0m \u001b[0mcross_val_predict\u001b[0m\u001b[0;34m(\u001b[0m\u001b[0mpipeline\u001b[0m\u001b[0;34m,\u001b[0m\u001b[0mX\u001b[0m\u001b[0;34m,\u001b[0m \u001b[0my\u001b[0m\u001b[0;34m,\u001b[0m \u001b[0mcv\u001b[0m\u001b[0;34m=\u001b[0m\u001b[0mkf\u001b[0m\u001b[0;34m)\u001b[0m\u001b[0;34m\u001b[0m\u001b[0;34m\u001b[0m\u001b[0m\n\u001b[0m\u001b[1;32m     12\u001b[0m \u001b[0mconf_mat_KNN\u001b[0m \u001b[0;34m=\u001b[0m \u001b[0mconfusion_matrix\u001b[0m\u001b[0;34m(\u001b[0m\u001b[0my_test\u001b[0m\u001b[0;34m,\u001b[0m \u001b[0my_pred_KNN\u001b[0m\u001b[0;34m)\u001b[0m\u001b[0;34m\u001b[0m\u001b[0;34m\u001b[0m\u001b[0m\n\u001b[1;32m     13\u001b[0m \u001b[0mprint\u001b[0m\u001b[0;34m(\u001b[0m\u001b[0mconf_mat_KNN\u001b[0m\u001b[0;34m)\u001b[0m\u001b[0;34m\u001b[0m\u001b[0;34m\u001b[0m\u001b[0m\n",
            "\u001b[0;32m/usr/local/lib/python3.7/dist-packages/sklearn/model_selection/_validation.py\u001b[0m in \u001b[0;36mcross_val_predict\u001b[0;34m(estimator, X, y, groups, cv, n_jobs, verbose, fit_params, pre_dispatch, method)\u001b[0m\n\u001b[1;32m    753\u001b[0m     prediction_blocks = parallel(delayed(_fit_and_predict)(\n\u001b[1;32m    754\u001b[0m         clone(estimator), X, y, train, test, verbose, fit_params, method)\n\u001b[0;32m--> 755\u001b[0;31m         for train, test in cv.split(X, y, groups))\n\u001b[0m\u001b[1;32m    756\u001b[0m \u001b[0;34m\u001b[0m\u001b[0m\n\u001b[1;32m    757\u001b[0m     \u001b[0;31m# Concatenate the predictions\u001b[0m\u001b[0;34m\u001b[0m\u001b[0;34m\u001b[0m\u001b[0;34m\u001b[0m\u001b[0m\n",
            "\u001b[0;32m/usr/local/lib/python3.7/dist-packages/joblib/parallel.py\u001b[0m in \u001b[0;36m__call__\u001b[0;34m(self, iterable)\u001b[0m\n\u001b[1;32m   1039\u001b[0m             \u001b[0;31m# remaining jobs.\u001b[0m\u001b[0;34m\u001b[0m\u001b[0;34m\u001b[0m\u001b[0;34m\u001b[0m\u001b[0m\n\u001b[1;32m   1040\u001b[0m             \u001b[0mself\u001b[0m\u001b[0;34m.\u001b[0m\u001b[0m_iterating\u001b[0m \u001b[0;34m=\u001b[0m \u001b[0;32mFalse\u001b[0m\u001b[0;34m\u001b[0m\u001b[0;34m\u001b[0m\u001b[0m\n\u001b[0;32m-> 1041\u001b[0;31m             \u001b[0;32mif\u001b[0m \u001b[0mself\u001b[0m\u001b[0;34m.\u001b[0m\u001b[0mdispatch_one_batch\u001b[0m\u001b[0;34m(\u001b[0m\u001b[0miterator\u001b[0m\u001b[0;34m)\u001b[0m\u001b[0;34m:\u001b[0m\u001b[0;34m\u001b[0m\u001b[0;34m\u001b[0m\u001b[0m\n\u001b[0m\u001b[1;32m   1042\u001b[0m                 \u001b[0mself\u001b[0m\u001b[0;34m.\u001b[0m\u001b[0m_iterating\u001b[0m \u001b[0;34m=\u001b[0m \u001b[0mself\u001b[0m\u001b[0;34m.\u001b[0m\u001b[0m_original_iterator\u001b[0m \u001b[0;32mis\u001b[0m \u001b[0;32mnot\u001b[0m \u001b[0;32mNone\u001b[0m\u001b[0;34m\u001b[0m\u001b[0;34m\u001b[0m\u001b[0m\n\u001b[1;32m   1043\u001b[0m \u001b[0;34m\u001b[0m\u001b[0m\n",
            "\u001b[0;32m/usr/local/lib/python3.7/dist-packages/joblib/parallel.py\u001b[0m in \u001b[0;36mdispatch_one_batch\u001b[0;34m(self, iterator)\u001b[0m\n\u001b[1;32m    857\u001b[0m                 \u001b[0;32mreturn\u001b[0m \u001b[0;32mFalse\u001b[0m\u001b[0;34m\u001b[0m\u001b[0;34m\u001b[0m\u001b[0m\n\u001b[1;32m    858\u001b[0m             \u001b[0;32melse\u001b[0m\u001b[0;34m:\u001b[0m\u001b[0;34m\u001b[0m\u001b[0;34m\u001b[0m\u001b[0m\n\u001b[0;32m--> 859\u001b[0;31m                 \u001b[0mself\u001b[0m\u001b[0;34m.\u001b[0m\u001b[0m_dispatch\u001b[0m\u001b[0;34m(\u001b[0m\u001b[0mtasks\u001b[0m\u001b[0;34m)\u001b[0m\u001b[0;34m\u001b[0m\u001b[0;34m\u001b[0m\u001b[0m\n\u001b[0m\u001b[1;32m    860\u001b[0m                 \u001b[0;32mreturn\u001b[0m \u001b[0;32mTrue\u001b[0m\u001b[0;34m\u001b[0m\u001b[0;34m\u001b[0m\u001b[0m\n\u001b[1;32m    861\u001b[0m \u001b[0;34m\u001b[0m\u001b[0m\n",
            "\u001b[0;32m/usr/local/lib/python3.7/dist-packages/joblib/parallel.py\u001b[0m in \u001b[0;36m_dispatch\u001b[0;34m(self, batch)\u001b[0m\n\u001b[1;32m    775\u001b[0m         \u001b[0;32mwith\u001b[0m \u001b[0mself\u001b[0m\u001b[0;34m.\u001b[0m\u001b[0m_lock\u001b[0m\u001b[0;34m:\u001b[0m\u001b[0;34m\u001b[0m\u001b[0;34m\u001b[0m\u001b[0m\n\u001b[1;32m    776\u001b[0m             \u001b[0mjob_idx\u001b[0m \u001b[0;34m=\u001b[0m \u001b[0mlen\u001b[0m\u001b[0;34m(\u001b[0m\u001b[0mself\u001b[0m\u001b[0;34m.\u001b[0m\u001b[0m_jobs\u001b[0m\u001b[0;34m)\u001b[0m\u001b[0;34m\u001b[0m\u001b[0;34m\u001b[0m\u001b[0m\n\u001b[0;32m--> 777\u001b[0;31m             \u001b[0mjob\u001b[0m \u001b[0;34m=\u001b[0m \u001b[0mself\u001b[0m\u001b[0;34m.\u001b[0m\u001b[0m_backend\u001b[0m\u001b[0;34m.\u001b[0m\u001b[0mapply_async\u001b[0m\u001b[0;34m(\u001b[0m\u001b[0mbatch\u001b[0m\u001b[0;34m,\u001b[0m \u001b[0mcallback\u001b[0m\u001b[0;34m=\u001b[0m\u001b[0mcb\u001b[0m\u001b[0;34m)\u001b[0m\u001b[0;34m\u001b[0m\u001b[0;34m\u001b[0m\u001b[0m\n\u001b[0m\u001b[1;32m    778\u001b[0m             \u001b[0;31m# A job can complete so quickly than its callback is\u001b[0m\u001b[0;34m\u001b[0m\u001b[0;34m\u001b[0m\u001b[0;34m\u001b[0m\u001b[0m\n\u001b[1;32m    779\u001b[0m             \u001b[0;31m# called before we get here, causing self._jobs to\u001b[0m\u001b[0;34m\u001b[0m\u001b[0;34m\u001b[0m\u001b[0;34m\u001b[0m\u001b[0m\n",
            "\u001b[0;32m/usr/local/lib/python3.7/dist-packages/joblib/_parallel_backends.py\u001b[0m in \u001b[0;36mapply_async\u001b[0;34m(self, func, callback)\u001b[0m\n\u001b[1;32m    206\u001b[0m     \u001b[0;32mdef\u001b[0m \u001b[0mapply_async\u001b[0m\u001b[0;34m(\u001b[0m\u001b[0mself\u001b[0m\u001b[0;34m,\u001b[0m \u001b[0mfunc\u001b[0m\u001b[0;34m,\u001b[0m \u001b[0mcallback\u001b[0m\u001b[0;34m=\u001b[0m\u001b[0;32mNone\u001b[0m\u001b[0;34m)\u001b[0m\u001b[0;34m:\u001b[0m\u001b[0;34m\u001b[0m\u001b[0;34m\u001b[0m\u001b[0m\n\u001b[1;32m    207\u001b[0m         \u001b[0;34m\"\"\"Schedule a func to be run\"\"\"\u001b[0m\u001b[0;34m\u001b[0m\u001b[0;34m\u001b[0m\u001b[0m\n\u001b[0;32m--> 208\u001b[0;31m         \u001b[0mresult\u001b[0m \u001b[0;34m=\u001b[0m \u001b[0mImmediateResult\u001b[0m\u001b[0;34m(\u001b[0m\u001b[0mfunc\u001b[0m\u001b[0;34m)\u001b[0m\u001b[0;34m\u001b[0m\u001b[0;34m\u001b[0m\u001b[0m\n\u001b[0m\u001b[1;32m    209\u001b[0m         \u001b[0;32mif\u001b[0m \u001b[0mcallback\u001b[0m\u001b[0;34m:\u001b[0m\u001b[0;34m\u001b[0m\u001b[0;34m\u001b[0m\u001b[0m\n\u001b[1;32m    210\u001b[0m             \u001b[0mcallback\u001b[0m\u001b[0;34m(\u001b[0m\u001b[0mresult\u001b[0m\u001b[0;34m)\u001b[0m\u001b[0;34m\u001b[0m\u001b[0;34m\u001b[0m\u001b[0m\n",
            "\u001b[0;32m/usr/local/lib/python3.7/dist-packages/joblib/_parallel_backends.py\u001b[0m in \u001b[0;36m__init__\u001b[0;34m(self, batch)\u001b[0m\n\u001b[1;32m    570\u001b[0m         \u001b[0;31m# Don't delay the application, to avoid keeping the input\u001b[0m\u001b[0;34m\u001b[0m\u001b[0;34m\u001b[0m\u001b[0;34m\u001b[0m\u001b[0m\n\u001b[1;32m    571\u001b[0m         \u001b[0;31m# arguments in memory\u001b[0m\u001b[0;34m\u001b[0m\u001b[0;34m\u001b[0m\u001b[0;34m\u001b[0m\u001b[0m\n\u001b[0;32m--> 572\u001b[0;31m         \u001b[0mself\u001b[0m\u001b[0;34m.\u001b[0m\u001b[0mresults\u001b[0m \u001b[0;34m=\u001b[0m \u001b[0mbatch\u001b[0m\u001b[0;34m(\u001b[0m\u001b[0;34m)\u001b[0m\u001b[0;34m\u001b[0m\u001b[0;34m\u001b[0m\u001b[0m\n\u001b[0m\u001b[1;32m    573\u001b[0m \u001b[0;34m\u001b[0m\u001b[0m\n\u001b[1;32m    574\u001b[0m     \u001b[0;32mdef\u001b[0m \u001b[0mget\u001b[0m\u001b[0;34m(\u001b[0m\u001b[0mself\u001b[0m\u001b[0;34m)\u001b[0m\u001b[0;34m:\u001b[0m\u001b[0;34m\u001b[0m\u001b[0;34m\u001b[0m\u001b[0m\n",
            "\u001b[0;32m/usr/local/lib/python3.7/dist-packages/joblib/parallel.py\u001b[0m in \u001b[0;36m__call__\u001b[0;34m(self)\u001b[0m\n\u001b[1;32m    261\u001b[0m         \u001b[0;32mwith\u001b[0m \u001b[0mparallel_backend\u001b[0m\u001b[0;34m(\u001b[0m\u001b[0mself\u001b[0m\u001b[0;34m.\u001b[0m\u001b[0m_backend\u001b[0m\u001b[0;34m,\u001b[0m \u001b[0mn_jobs\u001b[0m\u001b[0;34m=\u001b[0m\u001b[0mself\u001b[0m\u001b[0;34m.\u001b[0m\u001b[0m_n_jobs\u001b[0m\u001b[0;34m)\u001b[0m\u001b[0;34m:\u001b[0m\u001b[0;34m\u001b[0m\u001b[0;34m\u001b[0m\u001b[0m\n\u001b[1;32m    262\u001b[0m             return [func(*args, **kwargs)\n\u001b[0;32m--> 263\u001b[0;31m                     for func, args, kwargs in self.items]\n\u001b[0m\u001b[1;32m    264\u001b[0m \u001b[0;34m\u001b[0m\u001b[0m\n\u001b[1;32m    265\u001b[0m     \u001b[0;32mdef\u001b[0m \u001b[0m__reduce__\u001b[0m\u001b[0;34m(\u001b[0m\u001b[0mself\u001b[0m\u001b[0;34m)\u001b[0m\u001b[0;34m:\u001b[0m\u001b[0;34m\u001b[0m\u001b[0;34m\u001b[0m\u001b[0m\n",
            "\u001b[0;32m/usr/local/lib/python3.7/dist-packages/joblib/parallel.py\u001b[0m in \u001b[0;36m<listcomp>\u001b[0;34m(.0)\u001b[0m\n\u001b[1;32m    261\u001b[0m         \u001b[0;32mwith\u001b[0m \u001b[0mparallel_backend\u001b[0m\u001b[0;34m(\u001b[0m\u001b[0mself\u001b[0m\u001b[0;34m.\u001b[0m\u001b[0m_backend\u001b[0m\u001b[0;34m,\u001b[0m \u001b[0mn_jobs\u001b[0m\u001b[0;34m=\u001b[0m\u001b[0mself\u001b[0m\u001b[0;34m.\u001b[0m\u001b[0m_n_jobs\u001b[0m\u001b[0;34m)\u001b[0m\u001b[0;34m:\u001b[0m\u001b[0;34m\u001b[0m\u001b[0;34m\u001b[0m\u001b[0m\n\u001b[1;32m    262\u001b[0m             return [func(*args, **kwargs)\n\u001b[0;32m--> 263\u001b[0;31m                     for func, args, kwargs in self.items]\n\u001b[0m\u001b[1;32m    264\u001b[0m \u001b[0;34m\u001b[0m\u001b[0m\n\u001b[1;32m    265\u001b[0m     \u001b[0;32mdef\u001b[0m \u001b[0m__reduce__\u001b[0m\u001b[0;34m(\u001b[0m\u001b[0mself\u001b[0m\u001b[0;34m)\u001b[0m\u001b[0;34m:\u001b[0m\u001b[0;34m\u001b[0m\u001b[0;34m\u001b[0m\u001b[0m\n",
            "\u001b[0;32m/usr/local/lib/python3.7/dist-packages/sklearn/model_selection/_validation.py\u001b[0m in \u001b[0;36m_fit_and_predict\u001b[0;34m(estimator, X, y, train, test, verbose, fit_params, method)\u001b[0m\n\u001b[1;32m    839\u001b[0m         \u001b[0mestimator\u001b[0m\u001b[0;34m.\u001b[0m\u001b[0mfit\u001b[0m\u001b[0;34m(\u001b[0m\u001b[0mX_train\u001b[0m\u001b[0;34m,\u001b[0m \u001b[0;34m**\u001b[0m\u001b[0mfit_params\u001b[0m\u001b[0;34m)\u001b[0m\u001b[0;34m\u001b[0m\u001b[0;34m\u001b[0m\u001b[0m\n\u001b[1;32m    840\u001b[0m     \u001b[0;32melse\u001b[0m\u001b[0;34m:\u001b[0m\u001b[0;34m\u001b[0m\u001b[0;34m\u001b[0m\u001b[0m\n\u001b[0;32m--> 841\u001b[0;31m         \u001b[0mestimator\u001b[0m\u001b[0;34m.\u001b[0m\u001b[0mfit\u001b[0m\u001b[0;34m(\u001b[0m\u001b[0mX_train\u001b[0m\u001b[0;34m,\u001b[0m \u001b[0my_train\u001b[0m\u001b[0;34m,\u001b[0m \u001b[0;34m**\u001b[0m\u001b[0mfit_params\u001b[0m\u001b[0;34m)\u001b[0m\u001b[0;34m\u001b[0m\u001b[0;34m\u001b[0m\u001b[0m\n\u001b[0m\u001b[1;32m    842\u001b[0m     \u001b[0mfunc\u001b[0m \u001b[0;34m=\u001b[0m \u001b[0mgetattr\u001b[0m\u001b[0;34m(\u001b[0m\u001b[0mestimator\u001b[0m\u001b[0;34m,\u001b[0m \u001b[0mmethod\u001b[0m\u001b[0;34m)\u001b[0m\u001b[0;34m\u001b[0m\u001b[0;34m\u001b[0m\u001b[0m\n\u001b[1;32m    843\u001b[0m     \u001b[0mpredictions\u001b[0m \u001b[0;34m=\u001b[0m \u001b[0mfunc\u001b[0m\u001b[0;34m(\u001b[0m\u001b[0mX_test\u001b[0m\u001b[0;34m)\u001b[0m\u001b[0;34m\u001b[0m\u001b[0;34m\u001b[0m\u001b[0m\n",
            "\u001b[0;32m/usr/local/lib/python3.7/dist-packages/imblearn/pipeline.py\u001b[0m in \u001b[0;36mfit\u001b[0;34m(self, X, y, **fit_params)\u001b[0m\n\u001b[1;32m    235\u001b[0m \u001b[0;34m\u001b[0m\u001b[0m\n\u001b[1;32m    236\u001b[0m         \"\"\"\n\u001b[0;32m--> 237\u001b[0;31m         \u001b[0mXt\u001b[0m\u001b[0;34m,\u001b[0m \u001b[0myt\u001b[0m\u001b[0;34m,\u001b[0m \u001b[0mfit_params\u001b[0m \u001b[0;34m=\u001b[0m \u001b[0mself\u001b[0m\u001b[0;34m.\u001b[0m\u001b[0m_fit\u001b[0m\u001b[0;34m(\u001b[0m\u001b[0mX\u001b[0m\u001b[0;34m,\u001b[0m \u001b[0my\u001b[0m\u001b[0;34m,\u001b[0m \u001b[0;34m**\u001b[0m\u001b[0mfit_params\u001b[0m\u001b[0;34m)\u001b[0m\u001b[0;34m\u001b[0m\u001b[0;34m\u001b[0m\u001b[0m\n\u001b[0m\u001b[1;32m    238\u001b[0m         \u001b[0;32mif\u001b[0m \u001b[0mself\u001b[0m\u001b[0;34m.\u001b[0m\u001b[0m_final_estimator\u001b[0m \u001b[0;32mis\u001b[0m \u001b[0;32mnot\u001b[0m \u001b[0;32mNone\u001b[0m\u001b[0;34m:\u001b[0m\u001b[0;34m\u001b[0m\u001b[0;34m\u001b[0m\u001b[0m\n\u001b[1;32m    239\u001b[0m             \u001b[0mself\u001b[0m\u001b[0;34m.\u001b[0m\u001b[0m_final_estimator\u001b[0m\u001b[0;34m.\u001b[0m\u001b[0mfit\u001b[0m\u001b[0;34m(\u001b[0m\u001b[0mXt\u001b[0m\u001b[0;34m,\u001b[0m \u001b[0myt\u001b[0m\u001b[0;34m,\u001b[0m \u001b[0;34m**\u001b[0m\u001b[0mfit_params\u001b[0m\u001b[0;34m)\u001b[0m\u001b[0;34m\u001b[0m\u001b[0;34m\u001b[0m\u001b[0m\n",
            "\u001b[0;32m/usr/local/lib/python3.7/dist-packages/imblearn/pipeline.py\u001b[0m in \u001b[0;36m_fit\u001b[0;34m(self, X, y, **fit_params)\u001b[0m\n\u001b[1;32m    198\u001b[0m                 \u001b[0;32melif\u001b[0m \u001b[0mhasattr\u001b[0m\u001b[0;34m(\u001b[0m\u001b[0mcloned_transformer\u001b[0m\u001b[0;34m,\u001b[0m \u001b[0;34m\"fit_resample\"\u001b[0m\u001b[0;34m)\u001b[0m\u001b[0;34m:\u001b[0m\u001b[0;34m\u001b[0m\u001b[0;34m\u001b[0m\u001b[0m\n\u001b[1;32m    199\u001b[0m                     Xt, yt, fitted_transformer = fit_resample_one_cached(\n\u001b[0;32m--> 200\u001b[0;31m                         cloned_transformer, Xt, yt, **fit_params_steps[name])\n\u001b[0m\u001b[1;32m    201\u001b[0m                 \u001b[0;31m# Replace the transformer of the step with the fitted\u001b[0m\u001b[0;34m\u001b[0m\u001b[0;34m\u001b[0m\u001b[0;34m\u001b[0m\u001b[0m\n\u001b[1;32m    202\u001b[0m                 \u001b[0;31m# transformer. This is necessary when loading the transformer\u001b[0m\u001b[0;34m\u001b[0m\u001b[0;34m\u001b[0m\u001b[0;34m\u001b[0m\u001b[0m\n",
            "\u001b[0;32m/usr/local/lib/python3.7/dist-packages/joblib/memory.py\u001b[0m in \u001b[0;36m__call__\u001b[0;34m(self, *args, **kwargs)\u001b[0m\n\u001b[1;32m    350\u001b[0m \u001b[0;34m\u001b[0m\u001b[0m\n\u001b[1;32m    351\u001b[0m     \u001b[0;32mdef\u001b[0m \u001b[0m__call__\u001b[0m\u001b[0;34m(\u001b[0m\u001b[0mself\u001b[0m\u001b[0;34m,\u001b[0m \u001b[0;34m*\u001b[0m\u001b[0margs\u001b[0m\u001b[0;34m,\u001b[0m \u001b[0;34m**\u001b[0m\u001b[0mkwargs\u001b[0m\u001b[0;34m)\u001b[0m\u001b[0;34m:\u001b[0m\u001b[0;34m\u001b[0m\u001b[0;34m\u001b[0m\u001b[0m\n\u001b[0;32m--> 352\u001b[0;31m         \u001b[0;32mreturn\u001b[0m \u001b[0mself\u001b[0m\u001b[0;34m.\u001b[0m\u001b[0mfunc\u001b[0m\u001b[0;34m(\u001b[0m\u001b[0;34m*\u001b[0m\u001b[0margs\u001b[0m\u001b[0;34m,\u001b[0m \u001b[0;34m**\u001b[0m\u001b[0mkwargs\u001b[0m\u001b[0;34m)\u001b[0m\u001b[0;34m\u001b[0m\u001b[0;34m\u001b[0m\u001b[0m\n\u001b[0m\u001b[1;32m    353\u001b[0m \u001b[0;34m\u001b[0m\u001b[0m\n\u001b[1;32m    354\u001b[0m     \u001b[0;32mdef\u001b[0m \u001b[0mcall_and_shelve\u001b[0m\u001b[0;34m(\u001b[0m\u001b[0mself\u001b[0m\u001b[0;34m,\u001b[0m \u001b[0;34m*\u001b[0m\u001b[0margs\u001b[0m\u001b[0;34m,\u001b[0m \u001b[0;34m**\u001b[0m\u001b[0mkwargs\u001b[0m\u001b[0;34m)\u001b[0m\u001b[0;34m:\u001b[0m\u001b[0;34m\u001b[0m\u001b[0;34m\u001b[0m\u001b[0m\n",
            "\u001b[0;32m/usr/local/lib/python3.7/dist-packages/imblearn/pipeline.py\u001b[0m in \u001b[0;36m_fit_resample_one\u001b[0;34m(sampler, X, y, **fit_params)\u001b[0m\n\u001b[1;32m    574\u001b[0m \u001b[0;34m\u001b[0m\u001b[0m\n\u001b[1;32m    575\u001b[0m \u001b[0;32mdef\u001b[0m \u001b[0m_fit_resample_one\u001b[0m\u001b[0;34m(\u001b[0m\u001b[0msampler\u001b[0m\u001b[0;34m,\u001b[0m \u001b[0mX\u001b[0m\u001b[0;34m,\u001b[0m \u001b[0my\u001b[0m\u001b[0;34m,\u001b[0m \u001b[0;34m**\u001b[0m\u001b[0mfit_params\u001b[0m\u001b[0;34m)\u001b[0m\u001b[0;34m:\u001b[0m\u001b[0;34m\u001b[0m\u001b[0;34m\u001b[0m\u001b[0m\n\u001b[0;32m--> 576\u001b[0;31m     \u001b[0mX_res\u001b[0m\u001b[0;34m,\u001b[0m \u001b[0my_res\u001b[0m \u001b[0;34m=\u001b[0m \u001b[0msampler\u001b[0m\u001b[0;34m.\u001b[0m\u001b[0mfit_resample\u001b[0m\u001b[0;34m(\u001b[0m\u001b[0mX\u001b[0m\u001b[0;34m,\u001b[0m \u001b[0my\u001b[0m\u001b[0;34m,\u001b[0m \u001b[0;34m**\u001b[0m\u001b[0mfit_params\u001b[0m\u001b[0;34m)\u001b[0m\u001b[0;34m\u001b[0m\u001b[0;34m\u001b[0m\u001b[0m\n\u001b[0m\u001b[1;32m    577\u001b[0m \u001b[0;34m\u001b[0m\u001b[0m\n\u001b[1;32m    578\u001b[0m     \u001b[0;32mreturn\u001b[0m \u001b[0mX_res\u001b[0m\u001b[0;34m,\u001b[0m \u001b[0my_res\u001b[0m\u001b[0;34m,\u001b[0m \u001b[0msampler\u001b[0m\u001b[0;34m\u001b[0m\u001b[0;34m\u001b[0m\u001b[0m\n",
            "\u001b[0;32m/usr/local/lib/python3.7/dist-packages/imblearn/base.py\u001b[0m in \u001b[0;36mfit_resample\u001b[0;34m(self, X, y)\u001b[0m\n\u001b[1;32m     83\u001b[0m             self.sampling_strategy, y, self._sampling_type)\n\u001b[1;32m     84\u001b[0m \u001b[0;34m\u001b[0m\u001b[0m\n\u001b[0;32m---> 85\u001b[0;31m         \u001b[0moutput\u001b[0m \u001b[0;34m=\u001b[0m \u001b[0mself\u001b[0m\u001b[0;34m.\u001b[0m\u001b[0m_fit_resample\u001b[0m\u001b[0;34m(\u001b[0m\u001b[0mX\u001b[0m\u001b[0;34m,\u001b[0m \u001b[0my\u001b[0m\u001b[0;34m)\u001b[0m\u001b[0;34m\u001b[0m\u001b[0;34m\u001b[0m\u001b[0m\n\u001b[0m\u001b[1;32m     86\u001b[0m \u001b[0;34m\u001b[0m\u001b[0m\n\u001b[1;32m     87\u001b[0m         \u001b[0;32mif\u001b[0m \u001b[0mbinarize_y\u001b[0m\u001b[0;34m:\u001b[0m\u001b[0;34m\u001b[0m\u001b[0;34m\u001b[0m\u001b[0m\n",
            "\u001b[0;32m/usr/local/lib/python3.7/dist-packages/imblearn/over_sampling/_smote.py\u001b[0m in \u001b[0;36m_fit_resample\u001b[0;34m(self, X, y)\u001b[0m\n\u001b[1;32m    794\u001b[0m     \u001b[0;32mdef\u001b[0m \u001b[0m_fit_resample\u001b[0m\u001b[0;34m(\u001b[0m\u001b[0mself\u001b[0m\u001b[0;34m,\u001b[0m \u001b[0mX\u001b[0m\u001b[0;34m,\u001b[0m \u001b[0my\u001b[0m\u001b[0;34m)\u001b[0m\u001b[0;34m:\u001b[0m\u001b[0;34m\u001b[0m\u001b[0;34m\u001b[0m\u001b[0m\n\u001b[1;32m    795\u001b[0m         \u001b[0mself\u001b[0m\u001b[0;34m.\u001b[0m\u001b[0m_validate_estimator\u001b[0m\u001b[0;34m(\u001b[0m\u001b[0;34m)\u001b[0m\u001b[0;34m\u001b[0m\u001b[0;34m\u001b[0m\u001b[0m\n\u001b[0;32m--> 796\u001b[0;31m         \u001b[0;32mreturn\u001b[0m \u001b[0mself\u001b[0m\u001b[0;34m.\u001b[0m\u001b[0m_sample\u001b[0m\u001b[0;34m(\u001b[0m\u001b[0mX\u001b[0m\u001b[0;34m,\u001b[0m \u001b[0my\u001b[0m\u001b[0;34m)\u001b[0m\u001b[0;34m\u001b[0m\u001b[0;34m\u001b[0m\u001b[0m\n\u001b[0m\u001b[1;32m    797\u001b[0m \u001b[0;34m\u001b[0m\u001b[0m\n\u001b[1;32m    798\u001b[0m     \u001b[0;32mdef\u001b[0m \u001b[0m_sample\u001b[0m\u001b[0;34m(\u001b[0m\u001b[0mself\u001b[0m\u001b[0;34m,\u001b[0m \u001b[0mX\u001b[0m\u001b[0;34m,\u001b[0m \u001b[0my\u001b[0m\u001b[0;34m)\u001b[0m\u001b[0;34m:\u001b[0m\u001b[0;34m\u001b[0m\u001b[0;34m\u001b[0m\u001b[0m\n",
            "\u001b[0;32m/usr/local/lib/python3.7/dist-packages/imblearn/over_sampling/_smote.py\u001b[0m in \u001b[0;36m_sample\u001b[0;34m(self, X, y)\u001b[0m\n\u001b[1;32m    810\u001b[0m \u001b[0;34m\u001b[0m\u001b[0m\n\u001b[1;32m    811\u001b[0m             \u001b[0mself\u001b[0m\u001b[0;34m.\u001b[0m\u001b[0mnn_k_\u001b[0m\u001b[0;34m.\u001b[0m\u001b[0mfit\u001b[0m\u001b[0;34m(\u001b[0m\u001b[0mX_class\u001b[0m\u001b[0;34m)\u001b[0m\u001b[0;34m\u001b[0m\u001b[0;34m\u001b[0m\u001b[0m\n\u001b[0;32m--> 812\u001b[0;31m             \u001b[0mnns\u001b[0m \u001b[0;34m=\u001b[0m \u001b[0mself\u001b[0m\u001b[0;34m.\u001b[0m\u001b[0mnn_k_\u001b[0m\u001b[0;34m.\u001b[0m\u001b[0mkneighbors\u001b[0m\u001b[0;34m(\u001b[0m\u001b[0mX_class\u001b[0m\u001b[0;34m,\u001b[0m \u001b[0mreturn_distance\u001b[0m\u001b[0;34m=\u001b[0m\u001b[0;32mFalse\u001b[0m\u001b[0;34m)\u001b[0m\u001b[0;34m[\u001b[0m\u001b[0;34m:\u001b[0m\u001b[0;34m,\u001b[0m \u001b[0;36m1\u001b[0m\u001b[0;34m:\u001b[0m\u001b[0;34m]\u001b[0m\u001b[0;34m\u001b[0m\u001b[0;34m\u001b[0m\u001b[0m\n\u001b[0m\u001b[1;32m    813\u001b[0m             X_new, y_new = self._make_samples(X_class, y.dtype, class_sample,\n\u001b[1;32m    814\u001b[0m                                               X_class, nns, n_samples, 1.0)\n",
            "\u001b[0;32m/usr/local/lib/python3.7/dist-packages/sklearn/neighbors/_base.py\u001b[0m in \u001b[0;36mkneighbors\u001b[0;34m(self, X, n_neighbors, return_distance)\u001b[0m\n\u001b[1;32m    662\u001b[0m                 delayed_query(\n\u001b[1;32m    663\u001b[0m                     self._tree, X[s], n_neighbors, return_distance)\n\u001b[0;32m--> 664\u001b[0;31m                 \u001b[0;32mfor\u001b[0m \u001b[0ms\u001b[0m \u001b[0;32min\u001b[0m \u001b[0mgen_even_slices\u001b[0m\u001b[0;34m(\u001b[0m\u001b[0mX\u001b[0m\u001b[0;34m.\u001b[0m\u001b[0mshape\u001b[0m\u001b[0;34m[\u001b[0m\u001b[0;36m0\u001b[0m\u001b[0;34m]\u001b[0m\u001b[0;34m,\u001b[0m \u001b[0mn_jobs\u001b[0m\u001b[0;34m)\u001b[0m\u001b[0;34m\u001b[0m\u001b[0;34m\u001b[0m\u001b[0m\n\u001b[0m\u001b[1;32m    665\u001b[0m             )\n\u001b[1;32m    666\u001b[0m         \u001b[0;32melse\u001b[0m\u001b[0;34m:\u001b[0m\u001b[0;34m\u001b[0m\u001b[0;34m\u001b[0m\u001b[0m\n",
            "\u001b[0;32m/usr/local/lib/python3.7/dist-packages/joblib/parallel.py\u001b[0m in \u001b[0;36m__call__\u001b[0;34m(self, iterable)\u001b[0m\n\u001b[1;32m   1039\u001b[0m             \u001b[0;31m# remaining jobs.\u001b[0m\u001b[0;34m\u001b[0m\u001b[0;34m\u001b[0m\u001b[0;34m\u001b[0m\u001b[0m\n\u001b[1;32m   1040\u001b[0m             \u001b[0mself\u001b[0m\u001b[0;34m.\u001b[0m\u001b[0m_iterating\u001b[0m \u001b[0;34m=\u001b[0m \u001b[0;32mFalse\u001b[0m\u001b[0;34m\u001b[0m\u001b[0;34m\u001b[0m\u001b[0m\n\u001b[0;32m-> 1041\u001b[0;31m             \u001b[0;32mif\u001b[0m \u001b[0mself\u001b[0m\u001b[0;34m.\u001b[0m\u001b[0mdispatch_one_batch\u001b[0m\u001b[0;34m(\u001b[0m\u001b[0miterator\u001b[0m\u001b[0;34m)\u001b[0m\u001b[0;34m:\u001b[0m\u001b[0;34m\u001b[0m\u001b[0;34m\u001b[0m\u001b[0m\n\u001b[0m\u001b[1;32m   1042\u001b[0m                 \u001b[0mself\u001b[0m\u001b[0;34m.\u001b[0m\u001b[0m_iterating\u001b[0m \u001b[0;34m=\u001b[0m \u001b[0mself\u001b[0m\u001b[0;34m.\u001b[0m\u001b[0m_original_iterator\u001b[0m \u001b[0;32mis\u001b[0m \u001b[0;32mnot\u001b[0m \u001b[0;32mNone\u001b[0m\u001b[0;34m\u001b[0m\u001b[0;34m\u001b[0m\u001b[0m\n\u001b[1;32m   1043\u001b[0m \u001b[0;34m\u001b[0m\u001b[0m\n",
            "\u001b[0;32m/usr/local/lib/python3.7/dist-packages/joblib/parallel.py\u001b[0m in \u001b[0;36mdispatch_one_batch\u001b[0;34m(self, iterator)\u001b[0m\n\u001b[1;32m    857\u001b[0m                 \u001b[0;32mreturn\u001b[0m \u001b[0;32mFalse\u001b[0m\u001b[0;34m\u001b[0m\u001b[0;34m\u001b[0m\u001b[0m\n\u001b[1;32m    858\u001b[0m             \u001b[0;32melse\u001b[0m\u001b[0;34m:\u001b[0m\u001b[0;34m\u001b[0m\u001b[0;34m\u001b[0m\u001b[0m\n\u001b[0;32m--> 859\u001b[0;31m                 \u001b[0mself\u001b[0m\u001b[0;34m.\u001b[0m\u001b[0m_dispatch\u001b[0m\u001b[0;34m(\u001b[0m\u001b[0mtasks\u001b[0m\u001b[0;34m)\u001b[0m\u001b[0;34m\u001b[0m\u001b[0;34m\u001b[0m\u001b[0m\n\u001b[0m\u001b[1;32m    860\u001b[0m                 \u001b[0;32mreturn\u001b[0m \u001b[0;32mTrue\u001b[0m\u001b[0;34m\u001b[0m\u001b[0;34m\u001b[0m\u001b[0m\n\u001b[1;32m    861\u001b[0m \u001b[0;34m\u001b[0m\u001b[0m\n",
            "\u001b[0;32m/usr/local/lib/python3.7/dist-packages/joblib/parallel.py\u001b[0m in \u001b[0;36m_dispatch\u001b[0;34m(self, batch)\u001b[0m\n\u001b[1;32m    775\u001b[0m         \u001b[0;32mwith\u001b[0m \u001b[0mself\u001b[0m\u001b[0;34m.\u001b[0m\u001b[0m_lock\u001b[0m\u001b[0;34m:\u001b[0m\u001b[0;34m\u001b[0m\u001b[0;34m\u001b[0m\u001b[0m\n\u001b[1;32m    776\u001b[0m             \u001b[0mjob_idx\u001b[0m \u001b[0;34m=\u001b[0m \u001b[0mlen\u001b[0m\u001b[0;34m(\u001b[0m\u001b[0mself\u001b[0m\u001b[0;34m.\u001b[0m\u001b[0m_jobs\u001b[0m\u001b[0;34m)\u001b[0m\u001b[0;34m\u001b[0m\u001b[0;34m\u001b[0m\u001b[0m\n\u001b[0;32m--> 777\u001b[0;31m             \u001b[0mjob\u001b[0m \u001b[0;34m=\u001b[0m \u001b[0mself\u001b[0m\u001b[0;34m.\u001b[0m\u001b[0m_backend\u001b[0m\u001b[0;34m.\u001b[0m\u001b[0mapply_async\u001b[0m\u001b[0;34m(\u001b[0m\u001b[0mbatch\u001b[0m\u001b[0;34m,\u001b[0m \u001b[0mcallback\u001b[0m\u001b[0;34m=\u001b[0m\u001b[0mcb\u001b[0m\u001b[0;34m)\u001b[0m\u001b[0;34m\u001b[0m\u001b[0;34m\u001b[0m\u001b[0m\n\u001b[0m\u001b[1;32m    778\u001b[0m             \u001b[0;31m# A job can complete so quickly than its callback is\u001b[0m\u001b[0;34m\u001b[0m\u001b[0;34m\u001b[0m\u001b[0;34m\u001b[0m\u001b[0m\n\u001b[1;32m    779\u001b[0m             \u001b[0;31m# called before we get here, causing self._jobs to\u001b[0m\u001b[0;34m\u001b[0m\u001b[0;34m\u001b[0m\u001b[0;34m\u001b[0m\u001b[0m\n",
            "\u001b[0;32m/usr/local/lib/python3.7/dist-packages/joblib/_parallel_backends.py\u001b[0m in \u001b[0;36mapply_async\u001b[0;34m(self, func, callback)\u001b[0m\n\u001b[1;32m    206\u001b[0m     \u001b[0;32mdef\u001b[0m \u001b[0mapply_async\u001b[0m\u001b[0;34m(\u001b[0m\u001b[0mself\u001b[0m\u001b[0;34m,\u001b[0m \u001b[0mfunc\u001b[0m\u001b[0;34m,\u001b[0m \u001b[0mcallback\u001b[0m\u001b[0;34m=\u001b[0m\u001b[0;32mNone\u001b[0m\u001b[0;34m)\u001b[0m\u001b[0;34m:\u001b[0m\u001b[0;34m\u001b[0m\u001b[0;34m\u001b[0m\u001b[0m\n\u001b[1;32m    207\u001b[0m         \u001b[0;34m\"\"\"Schedule a func to be run\"\"\"\u001b[0m\u001b[0;34m\u001b[0m\u001b[0;34m\u001b[0m\u001b[0m\n\u001b[0;32m--> 208\u001b[0;31m         \u001b[0mresult\u001b[0m \u001b[0;34m=\u001b[0m \u001b[0mImmediateResult\u001b[0m\u001b[0;34m(\u001b[0m\u001b[0mfunc\u001b[0m\u001b[0;34m)\u001b[0m\u001b[0;34m\u001b[0m\u001b[0;34m\u001b[0m\u001b[0m\n\u001b[0m\u001b[1;32m    209\u001b[0m         \u001b[0;32mif\u001b[0m \u001b[0mcallback\u001b[0m\u001b[0;34m:\u001b[0m\u001b[0;34m\u001b[0m\u001b[0;34m\u001b[0m\u001b[0m\n\u001b[1;32m    210\u001b[0m             \u001b[0mcallback\u001b[0m\u001b[0;34m(\u001b[0m\u001b[0mresult\u001b[0m\u001b[0;34m)\u001b[0m\u001b[0;34m\u001b[0m\u001b[0;34m\u001b[0m\u001b[0m\n",
            "\u001b[0;32m/usr/local/lib/python3.7/dist-packages/joblib/_parallel_backends.py\u001b[0m in \u001b[0;36m__init__\u001b[0;34m(self, batch)\u001b[0m\n\u001b[1;32m    570\u001b[0m         \u001b[0;31m# Don't delay the application, to avoid keeping the input\u001b[0m\u001b[0;34m\u001b[0m\u001b[0;34m\u001b[0m\u001b[0;34m\u001b[0m\u001b[0m\n\u001b[1;32m    571\u001b[0m         \u001b[0;31m# arguments in memory\u001b[0m\u001b[0;34m\u001b[0m\u001b[0;34m\u001b[0m\u001b[0;34m\u001b[0m\u001b[0m\n\u001b[0;32m--> 572\u001b[0;31m         \u001b[0mself\u001b[0m\u001b[0;34m.\u001b[0m\u001b[0mresults\u001b[0m \u001b[0;34m=\u001b[0m \u001b[0mbatch\u001b[0m\u001b[0;34m(\u001b[0m\u001b[0;34m)\u001b[0m\u001b[0;34m\u001b[0m\u001b[0;34m\u001b[0m\u001b[0m\n\u001b[0m\u001b[1;32m    573\u001b[0m \u001b[0;34m\u001b[0m\u001b[0m\n\u001b[1;32m    574\u001b[0m     \u001b[0;32mdef\u001b[0m \u001b[0mget\u001b[0m\u001b[0;34m(\u001b[0m\u001b[0mself\u001b[0m\u001b[0;34m)\u001b[0m\u001b[0;34m:\u001b[0m\u001b[0;34m\u001b[0m\u001b[0;34m\u001b[0m\u001b[0m\n",
            "\u001b[0;32m/usr/local/lib/python3.7/dist-packages/joblib/parallel.py\u001b[0m in \u001b[0;36m__call__\u001b[0;34m(self)\u001b[0m\n\u001b[1;32m    261\u001b[0m         \u001b[0;32mwith\u001b[0m \u001b[0mparallel_backend\u001b[0m\u001b[0;34m(\u001b[0m\u001b[0mself\u001b[0m\u001b[0;34m.\u001b[0m\u001b[0m_backend\u001b[0m\u001b[0;34m,\u001b[0m \u001b[0mn_jobs\u001b[0m\u001b[0;34m=\u001b[0m\u001b[0mself\u001b[0m\u001b[0;34m.\u001b[0m\u001b[0m_n_jobs\u001b[0m\u001b[0;34m)\u001b[0m\u001b[0;34m:\u001b[0m\u001b[0;34m\u001b[0m\u001b[0;34m\u001b[0m\u001b[0m\n\u001b[1;32m    262\u001b[0m             return [func(*args, **kwargs)\n\u001b[0;32m--> 263\u001b[0;31m                     for func, args, kwargs in self.items]\n\u001b[0m\u001b[1;32m    264\u001b[0m \u001b[0;34m\u001b[0m\u001b[0m\n\u001b[1;32m    265\u001b[0m     \u001b[0;32mdef\u001b[0m \u001b[0m__reduce__\u001b[0m\u001b[0;34m(\u001b[0m\u001b[0mself\u001b[0m\u001b[0;34m)\u001b[0m\u001b[0;34m:\u001b[0m\u001b[0;34m\u001b[0m\u001b[0;34m\u001b[0m\u001b[0m\n",
            "\u001b[0;32m/usr/local/lib/python3.7/dist-packages/joblib/parallel.py\u001b[0m in \u001b[0;36m<listcomp>\u001b[0;34m(.0)\u001b[0m\n\u001b[1;32m    261\u001b[0m         \u001b[0;32mwith\u001b[0m \u001b[0mparallel_backend\u001b[0m\u001b[0;34m(\u001b[0m\u001b[0mself\u001b[0m\u001b[0;34m.\u001b[0m\u001b[0m_backend\u001b[0m\u001b[0;34m,\u001b[0m \u001b[0mn_jobs\u001b[0m\u001b[0;34m=\u001b[0m\u001b[0mself\u001b[0m\u001b[0;34m.\u001b[0m\u001b[0m_n_jobs\u001b[0m\u001b[0;34m)\u001b[0m\u001b[0;34m:\u001b[0m\u001b[0;34m\u001b[0m\u001b[0;34m\u001b[0m\u001b[0m\n\u001b[1;32m    262\u001b[0m             return [func(*args, **kwargs)\n\u001b[0;32m--> 263\u001b[0;31m                     for func, args, kwargs in self.items]\n\u001b[0m\u001b[1;32m    264\u001b[0m \u001b[0;34m\u001b[0m\u001b[0m\n\u001b[1;32m    265\u001b[0m     \u001b[0;32mdef\u001b[0m \u001b[0m__reduce__\u001b[0m\u001b[0;34m(\u001b[0m\u001b[0mself\u001b[0m\u001b[0;34m)\u001b[0m\u001b[0;34m:\u001b[0m\u001b[0;34m\u001b[0m\u001b[0;34m\u001b[0m\u001b[0m\n",
            "\u001b[0;32m/usr/local/lib/python3.7/dist-packages/sklearn/neighbors/_base.py\u001b[0m in \u001b[0;36m_tree_query_parallel_helper\u001b[0;34m(tree, *args, **kwargs)\u001b[0m\n\u001b[1;32m    489\u001b[0m     \u001b[0munder\u001b[0m \u001b[0mPyPy\u001b[0m\u001b[0;34m.\u001b[0m\u001b[0;34m\u001b[0m\u001b[0;34m\u001b[0m\u001b[0m\n\u001b[1;32m    490\u001b[0m     \"\"\"\n\u001b[0;32m--> 491\u001b[0;31m     \u001b[0;32mreturn\u001b[0m \u001b[0mtree\u001b[0m\u001b[0;34m.\u001b[0m\u001b[0mquery\u001b[0m\u001b[0;34m(\u001b[0m\u001b[0;34m*\u001b[0m\u001b[0margs\u001b[0m\u001b[0;34m,\u001b[0m \u001b[0;34m**\u001b[0m\u001b[0mkwargs\u001b[0m\u001b[0;34m)\u001b[0m\u001b[0;34m\u001b[0m\u001b[0;34m\u001b[0m\u001b[0m\n\u001b[0m\u001b[1;32m    492\u001b[0m \u001b[0;34m\u001b[0m\u001b[0m\n\u001b[1;32m    493\u001b[0m \u001b[0;34m\u001b[0m\u001b[0m\n",
            "\u001b[0;31mKeyboardInterrupt\u001b[0m: "
          ]
        }
      ]
    },
    {
      "cell_type": "markdown",
      "metadata": {
        "id": "-4lNii-nGrEU"
      },
      "source": [
        "# FORMING NEW DATAFRAME"
      ]
    },
    {
      "cell_type": "markdown",
      "metadata": {
        "id": "xoH9_r65jAKs"
      },
      "source": [
        "# APPROACH 5- To reduce column count and onhot encoding , lets do weightage calculation for all the categorical columns also.[ forming new DATAFRAME witn All numeric category Weightage]"
      ]
    },
    {
      "cell_type": "markdown",
      "metadata": {
        "id": "rIg9eF3jOWkN"
      },
      "source": [
        "### Day of week Vs DEP_DEL15 count"
      ]
    },
    {
      "cell_type": "code",
      "metadata": {
        "colab": {
          "base_uri": "https://localhost:8080/"
        },
        "id": "MgOdLw76420C",
        "outputId": "2aeb3565-866f-4099-ec2d-58db85753573"
      },
      "source": [
        "systematic_sample6['DEP_DEL15'].value_counts()"
      ],
      "execution_count": null,
      "outputs": [
        {
          "output_type": "execute_result",
          "data": {
            "text/plain": [
              "0.0    191794\n",
              "1.0     23820\n",
              "Name: DEP_DEL15, dtype: int64"
            ]
          },
          "metadata": {},
          "execution_count": 24
        }
      ]
    },
    {
      "cell_type": "code",
      "metadata": {
        "colab": {
          "base_uri": "https://localhost:8080/"
        },
        "id": "LjXabgSNR5zM",
        "outputId": "14275010-d0a9-4c65-8b53-d9d073647fe4"
      },
      "source": [
        "\n",
        "systematic_sample6[['MONTH','DAY_OF_MONTH','DAY_OF_WEEK']]=systematic_sample6[['MONTH','DAY_OF_MONTH','DAY_OF_WEEK']].astype(int)\n",
        "systematic_sample6[['DEP_DEL15']]=systematic_sample6[['DEP_DEL15']].astype(int)\n",
        "\n",
        "systematic_sample6 = systematic_sample6.astype({col: 'float16' for col in systematic_sample6.select_dtypes('float64').columns})\n",
        "systematic_sample6 = systematic_sample6.astype({col: 'int16' for col in systematic_sample6.select_dtypes('int64').columns})\n",
        "\n",
        "systematic_sample6.dtypes"
      ],
      "execution_count": null,
      "outputs": [
        {
          "output_type": "execute_result",
          "data": {
            "text/plain": [
              "MONTH                               int16\n",
              "DAY_OF_MONTH                        int16\n",
              "DAY_OF_WEEK                         int16\n",
              "OP_CARRIER                         object\n",
              "ORIGIN                             object\n",
              "DEP_DEL15                           int16\n",
              "TAIL_DELAY_weight                   int16\n",
              "TAIL_DELAY_CARRIER_weight           int16\n",
              "TAIL_DELAY_SECURITY_weight          int16\n",
              "TAIL_DELAY_WEATHER_weight           int16\n",
              "TAIL_DELAY_NAS_weight               int16\n",
              "TAIL_DELAY_LATE_AIRCRAFT_weight     int16\n",
              "dtype: object"
            ]
          },
          "metadata": {},
          "execution_count": 107
        }
      ]
    },
    {
      "cell_type": "code",
      "metadata": {
        "colab": {
          "base_uri": "https://localhost:8080/"
        },
        "id": "Y4U81UBrQPO5",
        "outputId": "0e1683c8-fa11-4020-edf0-6e4a581ea898"
      },
      "source": [
        "cols=['DAY_OF_WEEK','TOTALFLIGHT_WEEKDAY','DEPDELAY_WEEKDAY','WEEK_DEP_DELAY_PERCENTAGE']\n",
        "lst = []\n",
        "for week in range(1,8):\n",
        "  WEEK=week\n",
        "  weekflighttot=systematic_sample6['DAY_OF_WEEK'][systematic_sample6.DAY_OF_WEEK==week].count()\n",
        "  week_all=systematic_sample6[systematic_sample6['DAY_OF_WEEK']==week]\n",
        "  weekdepdel=week_all['DEP_DEL15'][week_all['DEP_DEL15']==1].sum()\n",
        "  percentweekdepdel=(weekdepdel/weekflighttot)*100\n",
        "  lst.append([WEEK,weekflighttot,weekdepdel,percentweekdepdel])\n",
        "WEEKWISE_DEP_DELAY_TABLE = pd.DataFrame(lst, columns=cols)\n",
        "WEEKWISE_DEP_DELAY_TABLE['WEEK_DELAY_weight'] = pd.qcut(WEEKWISE_DEP_DELAY_TABLE['WEEK_DEP_DELAY_PERCENTAGE'], 7 , labels = False,duplicates='drop')\n",
        "print(WEEKWISE_DEP_DELAY_TABLE)\n",
        "systematic_sample7 = systematic_sample6.merge(WEEKWISE_DEP_DELAY_TABLE, left_on='DAY_OF_WEEK', right_on='DAY_OF_WEEK')\n",
        "systematic_sample7.drop(columns=['TOTALFLIGHT_WEEKDAY'\t,'DEPDELAY_WEEKDAY',\t'WEEK_DEP_DELAY_PERCENTAGE'], inplace=True, axis=1)\n",
        "#systematic_sample7"
      ],
      "execution_count": null,
      "outputs": [
        {
          "output_type": "stream",
          "name": "stdout",
          "text": [
            "   DAY_OF_WEEK  ...  WEEK_DELAY_weight\n",
            "0            1  ...                  5\n",
            "1            2  ...                  1\n",
            "2            3  ...                  0\n",
            "3            4  ...                  2\n",
            "4            5  ...                  3\n",
            "5            6  ...                  4\n",
            "6            7  ...                  6\n",
            "\n",
            "[7 rows x 5 columns]\n"
          ]
        }
      ]
    },
    {
      "cell_type": "markdown",
      "metadata": {
        "id": "HaKJFrV0QZfI"
      },
      "source": [
        "### Day of month Vs DEP_DEL15 count"
      ]
    },
    {
      "cell_type": "code",
      "metadata": {
        "colab": {
          "base_uri": "https://localhost:8080/"
        },
        "id": "mrIjEin9V1R9",
        "outputId": "a491b0a5-34cd-43ab-efe0-a74d69ba114b"
      },
      "source": [
        "cols=['DAY_OF_MONTH','TOTAL_FLIGHTS','DAY_OF_MONTH_DELAYED_FLIGHTS','%DAYMONTH_DEP_DELAYED']\n",
        "lst = []\n",
        "for daymonth in range(1,32):\n",
        "  MONTHday=daymonth\n",
        "  monthdayflighttot=systematic_sample7['DAY_OF_MONTH'][systematic_sample7.DAY_OF_MONTH==daymonth].count()\n",
        "  monthday_all=systematic_sample7[systematic_sample7['DAY_OF_MONTH']==daymonth]\n",
        "  monthdaydepdel=monthday_all['DEP_DEL15'][monthday_all['DEP_DEL15']==1].sum()\n",
        "  percentmonthdaydepdel=(monthdaydepdel/monthdayflighttot)*100\n",
        "  lst.append([MONTHday,monthdayflighttot,monthdaydepdel,percentmonthdaydepdel])\n",
        "MONTHDAYWISE_DEP_DELAY_TABLE = pd.DataFrame(lst, columns=cols)\n",
        "MONTHDAYWISE_DEP_DELAY_TABLE['DAY_OF_MONTH_DELAY_weight'] = pd.qcut(MONTHDAYWISE_DEP_DELAY_TABLE['%DAYMONTH_DEP_DELAYED'], 31 , labels = False,duplicates='drop')\n",
        "print(MONTHDAYWISE_DEP_DELAY_TABLE)\n",
        "systematic_sample8 = systematic_sample7.merge(MONTHDAYWISE_DEP_DELAY_TABLE, left_on='DAY_OF_MONTH', right_on='DAY_OF_MONTH')\n",
        "systematic_sample8.drop(columns=['TOTAL_FLIGHTS','DAY_OF_MONTH_DELAYED_FLIGHTS','%DAYMONTH_DEP_DELAYED'], inplace=True, axis=1)\n",
        "#systematic_sample8"
      ],
      "execution_count": null,
      "outputs": [
        {
          "output_type": "stream",
          "name": "stdout",
          "text": [
            "    DAY_OF_MONTH  ...  DAY_OF_MONTH_DELAY_weight\n",
            "0              1  ...                         22\n",
            "1              2  ...                         10\n",
            "2              3  ...                         26\n",
            "3              4  ...                         15\n",
            "4              5  ...                          0\n",
            "5              6  ...                          1\n",
            "6              7  ...                          2\n",
            "7              8  ...                          4\n",
            "8              9  ...                          5\n",
            "9             10  ...                         12\n",
            "10            11  ...                         27\n",
            "11            12  ...                         21\n",
            "12            13  ...                         19\n",
            "13            14  ...                         14\n",
            "14            15  ...                         29\n",
            "15            16  ...                         30\n",
            "16            17  ...                         23\n",
            "17            18  ...                         28\n",
            "18            19  ...                         13\n",
            "19            20  ...                          8\n",
            "20            21  ...                          9\n",
            "21            22  ...                          6\n",
            "22            23  ...                          3\n",
            "23            24  ...                         16\n",
            "24            25  ...                         17\n",
            "25            26  ...                          7\n",
            "26            27  ...                         20\n",
            "27            28  ...                         25\n",
            "28            29  ...                         11\n",
            "29            30  ...                         18\n",
            "30            31  ...                         24\n",
            "\n",
            "[31 rows x 5 columns]\n"
          ]
        }
      ]
    },
    {
      "cell_type": "markdown",
      "metadata": {
        "id": "dfMYIeUNWLB-"
      },
      "source": [
        "### MONTH vs DEP_DEL15 count"
      ]
    },
    {
      "cell_type": "code",
      "metadata": {
        "id": "dCUW8Zg_WKat",
        "scrolled": true
      },
      "source": [
        "cols=['MONTH','TOTAL_FLIGHTS','MONTH_DELAYED_FLIGHTS','%_DEP_DELAYED']\n",
        "lst = []\n",
        "for monthvar in range(1,6):\n",
        "  MONTH=monthvar\n",
        "  monthflighttot=systematic_sample8['MONTH'][systematic_sample8.MONTH==monthvar].count()\n",
        "  month_all=systematic_sample8[systematic_sample8['MONTH']==monthvar]\n",
        "  monthdepdel=month_all['DEP_DEL15'][month_all['DEP_DEL15']==1].sum()\n",
        "  percentmonthdepdel=(monthdepdel/monthflighttot)*100\n",
        "  lst.append([MONTH,monthflighttot,monthdepdel,percentmonthdepdel])\n",
        "MONTHWISE_DEP_DELAY_TABLE = pd.DataFrame(lst, columns=cols)\n",
        "MONTHWISE_DEP_DELAY_TABLE['MONTH_DELAY_weight'] = pd.qcut(MONTHWISE_DEP_DELAY_TABLE['%_DEP_DELAYED'], 5, labels = False)\n",
        "#MONTHWISE_DEP_DELAY_TABLE\n",
        "systematic_sample9 = systematic_sample8.merge(MONTHWISE_DEP_DELAY_TABLE, left_on='MONTH', right_on='MONTH')\n",
        "systematic_sample9.drop(columns=['TOTAL_FLIGHTS','MONTH_DELAYED_FLIGHTS','%_DEP_DELAYED'], inplace=True, axis=1)\n",
        "#systematic_sample9"
      ],
      "execution_count": null,
      "outputs": []
    },
    {
      "cell_type": "markdown",
      "metadata": {
        "id": "0h-eBajQO7Sc"
      },
      "source": [
        "### ORIGIN vs DEP_DEL15"
      ]
    },
    {
      "cell_type": "code",
      "metadata": {
        "colab": {
          "base_uri": "https://localhost:8080/"
        },
        "id": "yc35wJac0nQu",
        "outputId": "42a98cd1-60c4-4a56-c1bb-42ff01f3d190"
      },
      "source": [
        "origin_del = systematic_sample9[['ORIGIN','DEP_DEL15']].groupby('ORIGIN').sum().sort_values(by='DEP_DEL15',ascending=False).reset_index()\n",
        "origin_del.rename({'DEP_DEL15':'ORIGIN_DELAY_COUNT'},inplace=True, axis=1)\n",
        "origin_del['ORIGIN_weight'] = pd.qcut(origin_del['ORIGIN_DELAY_COUNT'], 35, labels = False,duplicates='drop')\n",
        "print(origin_del)\n",
        "systematic_sample10 = systematic_sample9.merge(origin_del, left_on='ORIGIN', right_on='ORIGIN')\n",
        "systematic_sample10.drop(columns=['ORIGIN_DELAY_COUNT'], inplace=True, axis=1)\n",
        "systematic_sample10"
      ],
      "execution_count": null,
      "outputs": [
        {
          "output_type": "stream",
          "name": "stdout",
          "text": [
            "    ORIGIN  ORIGIN_DELAY_COUNT  ORIGIN_weight\n",
            "0      DFW                1706             27\n",
            "1      DEN                1411             27\n",
            "2      ATL                1304             27\n",
            "3      ORD                 789             27\n",
            "4      MCO                 755             27\n",
            "..     ...                 ...            ...\n",
            "368    SMX                   0              0\n",
            "369    HIB                   0              0\n",
            "370    BQK                   0              0\n",
            "371    BPT                   0              0\n",
            "372    MVY                   0              0\n",
            "\n",
            "[373 rows x 3 columns]\n"
          ]
        }
      ]
    },
    {
      "cell_type": "markdown",
      "metadata": {
        "id": "I1Ftx_JdO_g-"
      },
      "source": [
        "### OP_CARRIER_AIRLINES vs DEP_DEL15"
      ]
    },
    {
      "cell_type": "code",
      "metadata": {
        "colab": {
          "base_uri": "https://localhost:8080/"
        },
        "id": "ISazCRj8MbL7",
        "outputId": "428ee17b-3918-4ffe-9637-11f61a4414b2"
      },
      "source": [
        "op_carrier_delay = systematic_sample10[['OP_CARRIER','DEP_DEL15']].groupby('OP_CARRIER').sum().sort_values(by='DEP_DEL15',ascending=False).reset_index()\n",
        "op_carrier_delay.rename({'DEP_DEL15':'OP_CARRIER_DELAY_COUNT'},inplace=True, axis=1)\n",
        "op_carrier_delay['OP_CARRIER_DELAY_COUNT_weight'] = pd.qcut(op_carrier_delay['OP_CARRIER_DELAY_COUNT'], 15, labels = False,duplicates='drop')\n",
        "print(op_carrier_delay)\n",
        "systematic_sample11 = systematic_sample10.merge(op_carrier_delay, left_on='OP_CARRIER', right_on='OP_CARRIER')\n",
        "systematic_sample11.drop(columns=['OP_CARRIER_DELAY_COUNT'], inplace=True, axis=1)\n",
        "#systematic_sample11\n",
        "systematic_sample11.drop(columns=['MONTH',\t'DAY_OF_MONTH',\t'DAY_OF_WEEK',\t'OP_CARRIER'\t,'ORIGIN'], inplace=True, axis=1)\n"
      ],
      "execution_count": null,
      "outputs": [
        {
          "output_type": "stream",
          "name": "stdout",
          "text": [
            "   OP_CARRIER  OP_CARRIER_DELAY_COUNT  OP_CARRIER_DELAY_COUNT_weight\n",
            "0          WN                    5611                             14\n",
            "1          AA                    2725                             14\n",
            "2          OO                    2483                             13\n",
            "3          DL                    2154                             12\n",
            "4          UA                    1223                             12\n",
            "5          B6                    1163                             11\n",
            "6          MQ                    1009                             10\n",
            "7          YX                     994                              9\n",
            "8          NK                     944                              9\n",
            "9          YV                     790                              8\n",
            "10         G4                     706                              7\n",
            "11         OH                     677                              7\n",
            "12         F9                     643                              6\n",
            "13         AS                     626                              5\n",
            "14         9E                     622                              4\n",
            "15         C5                     387                              4\n",
            "16         QX                     378                              3\n",
            "17         PT                     297                              2\n",
            "18         ZW                     137                              2\n",
            "19         G7                     131                              1\n",
            "20         HA                     119                              0\n",
            "21         EM                       1                              0\n"
          ]
        }
      ]
    },
    {
      "cell_type": "markdown",
      "metadata": {
        "id": "zOoqGcwV_lsW"
      },
      "source": [
        "New Dataframe "
      ]
    },
    {
      "cell_type": "code",
      "metadata": {
        "colab": {
          "base_uri": "https://localhost:8080/",
          "height": 437
        },
        "id": "b4jkoChK9Voc",
        "outputId": "51ad4f02-9553-4466-92ec-f31f01bb543b"
      },
      "source": [
        "systematic_sample11"
      ],
      "execution_count": null,
      "outputs": [
        {
          "output_type": "execute_result",
          "data": {
            "text/html": [
              "<div>\n",
              "<style scoped>\n",
              "    .dataframe tbody tr th:only-of-type {\n",
              "        vertical-align: middle;\n",
              "    }\n",
              "\n",
              "    .dataframe tbody tr th {\n",
              "        vertical-align: top;\n",
              "    }\n",
              "\n",
              "    .dataframe thead th {\n",
              "        text-align: right;\n",
              "    }\n",
              "</style>\n",
              "<table border=\"1\" class=\"dataframe\">\n",
              "  <thead>\n",
              "    <tr style=\"text-align: right;\">\n",
              "      <th></th>\n",
              "      <th>DEP_DEL15</th>\n",
              "      <th>TAIL_DELAY_weight</th>\n",
              "      <th>TAIL_DELAY_CARRIER_weight</th>\n",
              "      <th>TAIL_DELAY_SECURITY_weight</th>\n",
              "      <th>TAIL_DELAY_WEATHER_weight</th>\n",
              "      <th>TAIL_DELAY_NAS_weight</th>\n",
              "      <th>TAIL_DELAY_LATE_AIRCRAFT_weight</th>\n",
              "      <th>WEEK_DELAY_weight</th>\n",
              "      <th>DAY_OF_MONTH_DELAY_weight</th>\n",
              "      <th>MONTH_DELAY_weight</th>\n",
              "      <th>ORIGIN_weight</th>\n",
              "      <th>OP_CARRIER_DELAY_COUNT_weight</th>\n",
              "    </tr>\n",
              "  </thead>\n",
              "  <tbody>\n",
              "    <tr>\n",
              "      <th>0</th>\n",
              "      <td>0</td>\n",
              "      <td>3</td>\n",
              "      <td>58</td>\n",
              "      <td>0</td>\n",
              "      <td>0</td>\n",
              "      <td>15</td>\n",
              "      <td>0</td>\n",
              "      <td>6</td>\n",
              "      <td>23</td>\n",
              "      <td>0</td>\n",
              "      <td>27</td>\n",
              "      <td>12</td>\n",
              "    </tr>\n",
              "    <tr>\n",
              "      <th>1</th>\n",
              "      <td>0</td>\n",
              "      <td>3</td>\n",
              "      <td>82</td>\n",
              "      <td>0</td>\n",
              "      <td>0</td>\n",
              "      <td>14</td>\n",
              "      <td>34</td>\n",
              "      <td>6</td>\n",
              "      <td>23</td>\n",
              "      <td>0</td>\n",
              "      <td>27</td>\n",
              "      <td>12</td>\n",
              "    </tr>\n",
              "    <tr>\n",
              "      <th>2</th>\n",
              "      <td>0</td>\n",
              "      <td>2</td>\n",
              "      <td>39</td>\n",
              "      <td>0</td>\n",
              "      <td>0</td>\n",
              "      <td>10</td>\n",
              "      <td>0</td>\n",
              "      <td>6</td>\n",
              "      <td>23</td>\n",
              "      <td>0</td>\n",
              "      <td>27</td>\n",
              "      <td>12</td>\n",
              "    </tr>\n",
              "    <tr>\n",
              "      <th>3</th>\n",
              "      <td>1</td>\n",
              "      <td>4</td>\n",
              "      <td>57</td>\n",
              "      <td>0</td>\n",
              "      <td>0</td>\n",
              "      <td>31</td>\n",
              "      <td>23</td>\n",
              "      <td>6</td>\n",
              "      <td>12</td>\n",
              "      <td>0</td>\n",
              "      <td>27</td>\n",
              "      <td>12</td>\n",
              "    </tr>\n",
              "    <tr>\n",
              "      <th>4</th>\n",
              "      <td>0</td>\n",
              "      <td>3</td>\n",
              "      <td>45</td>\n",
              "      <td>0</td>\n",
              "      <td>8</td>\n",
              "      <td>19</td>\n",
              "      <td>8</td>\n",
              "      <td>6</td>\n",
              "      <td>24</td>\n",
              "      <td>0</td>\n",
              "      <td>27</td>\n",
              "      <td>12</td>\n",
              "    </tr>\n",
              "    <tr>\n",
              "      <th>...</th>\n",
              "      <td>...</td>\n",
              "      <td>...</td>\n",
              "      <td>...</td>\n",
              "      <td>...</td>\n",
              "      <td>...</td>\n",
              "      <td>...</td>\n",
              "      <td>...</td>\n",
              "      <td>...</td>\n",
              "      <td>...</td>\n",
              "      <td>...</td>\n",
              "      <td>...</td>\n",
              "      <td>...</td>\n",
              "    </tr>\n",
              "    <tr>\n",
              "      <th>215609</th>\n",
              "      <td>0</td>\n",
              "      <td>0</td>\n",
              "      <td>0</td>\n",
              "      <td>0</td>\n",
              "      <td>0</td>\n",
              "      <td>0</td>\n",
              "      <td>0</td>\n",
              "      <td>6</td>\n",
              "      <td>12</td>\n",
              "      <td>0</td>\n",
              "      <td>0</td>\n",
              "      <td>0</td>\n",
              "    </tr>\n",
              "    <tr>\n",
              "      <th>215610</th>\n",
              "      <td>0</td>\n",
              "      <td>0</td>\n",
              "      <td>0</td>\n",
              "      <td>0</td>\n",
              "      <td>0</td>\n",
              "      <td>0</td>\n",
              "      <td>0</td>\n",
              "      <td>0</td>\n",
              "      <td>1</td>\n",
              "      <td>0</td>\n",
              "      <td>0</td>\n",
              "      <td>0</td>\n",
              "    </tr>\n",
              "    <tr>\n",
              "      <th>215611</th>\n",
              "      <td>0</td>\n",
              "      <td>0</td>\n",
              "      <td>0</td>\n",
              "      <td>0</td>\n",
              "      <td>0</td>\n",
              "      <td>0</td>\n",
              "      <td>0</td>\n",
              "      <td>4</td>\n",
              "      <td>10</td>\n",
              "      <td>0</td>\n",
              "      <td>0</td>\n",
              "      <td>0</td>\n",
              "    </tr>\n",
              "    <tr>\n",
              "      <th>215612</th>\n",
              "      <td>0</td>\n",
              "      <td>0</td>\n",
              "      <td>0</td>\n",
              "      <td>0</td>\n",
              "      <td>0</td>\n",
              "      <td>0</td>\n",
              "      <td>0</td>\n",
              "      <td>3</td>\n",
              "      <td>4</td>\n",
              "      <td>0</td>\n",
              "      <td>0</td>\n",
              "      <td>0</td>\n",
              "    </tr>\n",
              "    <tr>\n",
              "      <th>215613</th>\n",
              "      <td>0</td>\n",
              "      <td>0</td>\n",
              "      <td>0</td>\n",
              "      <td>0</td>\n",
              "      <td>0</td>\n",
              "      <td>0</td>\n",
              "      <td>0</td>\n",
              "      <td>1</td>\n",
              "      <td>21</td>\n",
              "      <td>0</td>\n",
              "      <td>0</td>\n",
              "      <td>0</td>\n",
              "    </tr>\n",
              "  </tbody>\n",
              "</table>\n",
              "<p>215614 rows × 12 columns</p>\n",
              "</div>"
            ],
            "text/plain": [
              "        DEP_DEL15  ...  OP_CARRIER_DELAY_COUNT_weight\n",
              "0               0  ...                             12\n",
              "1               0  ...                             12\n",
              "2               0  ...                             12\n",
              "3               1  ...                             12\n",
              "4               0  ...                             12\n",
              "...           ...  ...                            ...\n",
              "215609          0  ...                              0\n",
              "215610          0  ...                              0\n",
              "215611          0  ...                              0\n",
              "215612          0  ...                              0\n",
              "215613          0  ...                              0\n",
              "\n",
              "[215614 rows x 12 columns]"
            ]
          },
          "metadata": {},
          "execution_count": 31
        }
      ]
    },
    {
      "cell_type": "code",
      "metadata": {
        "colab": {
          "base_uri": "https://localhost:8080/"
        },
        "id": "Gw1Q9xW3D7NR",
        "outputId": "31e70cc8-ed55-45d4-ab96-98490dd3f06c"
      },
      "source": [
        "y11 = systematic_sample11.DEP_DEL15 \n",
        " #Drop target and set the dependent values variables \n",
        "X11 = systematic_sample11.drop('DEP_DEL15', axis=1)\n",
        "print(X11.shape,y11.shape)"
      ],
      "execution_count": null,
      "outputs": [
        {
          "output_type": "stream",
          "name": "stdout",
          "text": [
            "(215614, 11) (215614,)\n"
          ]
        }
      ]
    },
    {
      "cell_type": "markdown",
      "metadata": {
        "id": "JLlL3UB6-zWu"
      },
      "source": [
        "## Trying with same pipeline- using Undersampling\n",
        "* NearMiss-1: Majority class examples with minimum average distance to three closest minority class examples.\n",
        "* NearMiss-2: Majority class examples with minimum average distance to three furthest minority class examples.\n",
        "* NearMiss-3: Majority class examples with minimum distance to each minority class example."
      ]
    },
    {
      "cell_type": "markdown",
      "metadata": {
        "id": "4Ir-LarUwf6r"
      },
      "source": [
        "### KNN"
      ]
    },
    {
      "cell_type": "code",
      "metadata": {
        "colab": {
          "base_uri": "https://localhost:8080/"
        },
        "id": "aX7kdYp7-x28",
        "outputId": "e6848fc1-0310-4fdd-9f62-9eca291ce8d9"
      },
      "source": [
        "from sklearn.model_selection import cross_val_predict\n",
        "from imblearn.under_sampling import NearMiss\n",
        "from sklearn.neighbors import KNeighborsClassifier\n",
        "from imblearn.pipeline import make_pipeline, Pipeline\n",
        "from sklearn.model_selection import StratifiedKFold\n",
        "Rscaler = RobustScaler()\n",
        "pca = PCA(.95)\n",
        "# define the undersampling method\n",
        "undersample = NearMiss(version=3, n_neighbors_ver3=3)\n",
        "knn = KNeighborsClassifier(n_neighbors=10)\n",
        "\n",
        "pipeline = make_pipeline(Rscaler,pca,undersample,knn)\n",
        "#X_train, X_test, y_train, y_test\n",
        "kf = StratifiedKFold(n_splits=3)\n",
        "y_pred_KNN = cross_val_predict(pipeline,X11, y11, cv=kf)\n",
        "conf_mat_KNN = confusion_matrix(y11, y_pred_KNN)\n",
        "print(conf_mat_KNN)\n",
        "acc_Test_KNN= accuracy_score(y11, y_pred_KNN)\n",
        "print(acc_Test_KNN)\n",
        "print(classification_report(y11, y_pred_KNN))"
      ],
      "execution_count": null,
      "outputs": [
        {
          "output_type": "stream",
          "name": "stdout",
          "text": [
            "[[105908  85886]\n",
            " [ 13162  10658]]\n",
            "0.5406235216637139\n",
            "              precision    recall  f1-score   support\n",
            "\n",
            "           0       0.89      0.55      0.68    191794\n",
            "           1       0.11      0.45      0.18     23820\n",
            "\n",
            "    accuracy                           0.54    215614\n",
            "   macro avg       0.50      0.50      0.43    215614\n",
            "weighted avg       0.80      0.54      0.63    215614\n",
            "\n"
          ]
        }
      ]
    },
    {
      "cell_type": "markdown",
      "metadata": {
        "id": "kDbMwhtQaGNs"
      },
      "source": [
        "### RANDOM FOREST"
      ]
    },
    {
      "cell_type": "code",
      "metadata": {
        "colab": {
          "base_uri": "https://localhost:8080/"
        },
        "id": "jB1LG2rtaFpQ",
        "outputId": "e46db3fc-4392-447d-85fa-751ca4bc2306"
      },
      "source": [
        "from sklearn.model_selection import cross_val_predict\n",
        "from imblearn.under_sampling import NearMiss\n",
        "from sklearn.neighbors import KNeighborsClassifier\n",
        "from imblearn.pipeline import make_pipeline, Pipeline\n",
        "from sklearn.model_selection import StratifiedKFold,cross_validate\n",
        "from sklearn.metrics import make_scorer, accuracy_score, precision_score, recall_score, f1_score\n",
        "from sklearn.model_selection import cross_val_score\n",
        "\n",
        "Rscaler = RobustScaler()\n",
        "pca = PCA(.95)\n",
        "# define the undersampling method\n",
        "undersample = NearMiss(version=3, n_neighbors_ver3=3)\n",
        "Randomforest_Usample= RandomForestClassifier(n_estimators= 10, criterion=\"entropy\")  \n",
        "\n",
        "pipeline = make_pipeline(Rscaler,pca,undersample,Randomforest_Usample)\n",
        "#X_train, X_test, y_train, y_test\n",
        "kf = StratifiedKFold(n_splits=5)\n",
        "y_pred_RF_USample = cross_val_predict(pipeline,X11, y11, cv=kf)\n",
        "print(y_pred_RF_USample)\n",
        "conf_mat_RF_Usample = confusion_matrix(y11, y_pred_RF_USample)\n",
        "print(conf_mat_RF_Usample)\n",
        "acc_Test_RF_Usample= accuracy_score(y11, y_pred_RF_USample)\n",
        "print(acc_Test_RF_Usample)\n",
        "print(classification_report(y11, y_pred_RF_USample))\n",
        "\n",
        "scoring = {'accuracy' : make_scorer(accuracy_score), \n",
        "           'precision' : make_scorer(precision_score),\n",
        "           'recall' : make_scorer(recall_score), \n",
        "           'f1_score' : make_scorer(f1_score)}\n",
        "\n",
        "#kfold = model_selection.KFold(n_splits=10, random_state=42)\n",
        "#model=RandomForestClassifier(n_estimators=50) '''\n",
        "\n",
        "results =cross_validate(pipeline,X11, y11, cv=kf,\n",
        "                                          scoring=scoring)\n",
        "\n",
        "print('\\n',results)"
      ],
      "execution_count": null,
      "outputs": [
        {
          "output_type": "stream",
          "name": "stdout",
          "text": [
            "[1 1 1 ... 0 0 0]\n",
            "[[94304 97490]\n",
            " [11386 12434]]\n",
            "0.4950420659140872\n",
            "              precision    recall  f1-score   support\n",
            "\n",
            "           0       0.89      0.49      0.63    191794\n",
            "           1       0.11      0.52      0.19     23820\n",
            "\n",
            "    accuracy                           0.50    215614\n",
            "   macro avg       0.50      0.51      0.41    215614\n",
            "weighted avg       0.81      0.50      0.58    215614\n",
            "\n",
            "\n",
            " {'fit_time': array([5.85342216, 6.20873332, 8.34790158, 5.55002189, 5.50049591]), 'score_time': array([0.17283058, 0.17209458, 0.17419362, 0.18345523, 0.16780424]), 'test_accuracy': array([0.41959047, 0.49020244, 0.42708068, 0.50847576, 0.62184036]), 'test_precision': array([0.10337809, 0.10838716, 0.0962831 , 0.13892063, 0.12602864]), 'test_recall': array([0.55436608, 0.50020991, 0.49916037, 0.66351805, 0.40827036]), 'test_f1_score': array([0.17426017, 0.17816822, 0.16142828, 0.22974053, 0.19260286])}\n"
          ]
        }
      ]
    },
    {
      "cell_type": "markdown",
      "metadata": {
        "id": "oGdH7t5JwNLw"
      },
      "source": [
        "### KNN with SMOTE oversampling Technique"
      ]
    },
    {
      "cell_type": "code",
      "metadata": {
        "colab": {
          "base_uri": "https://localhost:8080/"
        },
        "id": "K7WeeG2CoXBc",
        "outputId": "1b76112e-56bc-427f-f65f-d999d75e8740"
      },
      "source": [
        "Rscaler = RobustScaler()\n",
        "pca = PCA(.95)\n",
        "# define the oversampling method\n",
        "\n",
        "oversample = SMOTE()\n",
        "#undersample = NearMiss(version=3, n_neighbors_ver3=3)\n",
        "knn = KNeighborsClassifier(n_neighbors=10)\n",
        "\n",
        "pipeline_smt = make_pipeline(Rscaler,pca,oversample,knn)\n",
        "#X_train, X_test, y_train, y_test\n",
        "kf = StratifiedKFold(n_splits=3)\n",
        "y_pred_KNN_smt = cross_val_predict(pipeline_smt,X11, y11, cv=kf)\n",
        "conf_mat_KNN_smt = confusion_matrix(y11, y_pred_KNN_smt)\n",
        "print(conf_mat_KNN_smt)\n",
        "acc_Test_KNN_smt= accuracy_score(y11, y_pred_KNN_smt)\n",
        "print(acc_Test_KNN_smt)\n",
        "print(classification_report(y11, y_pred_KNN_smt))"
      ],
      "execution_count": null,
      "outputs": [
        {
          "output_type": "stream",
          "name": "stdout",
          "text": [
            "[[129080  62714]\n",
            " [ 14555   9265]]\n",
            "0.641632732568386\n",
            "              precision    recall  f1-score   support\n",
            "\n",
            "           0       0.90      0.67      0.77    191794\n",
            "           1       0.13      0.39      0.19     23820\n",
            "\n",
            "    accuracy                           0.64    215614\n",
            "   macro avg       0.51      0.53      0.48    215614\n",
            "weighted avg       0.81      0.64      0.71    215614\n",
            "\n"
          ]
        }
      ]
    },
    {
      "cell_type": "code",
      "metadata": {
        "id": "sPO-Cp9ERgky"
      },
      "source": [
        ""
      ],
      "execution_count": null,
      "outputs": []
    },
    {
      "cell_type": "markdown",
      "metadata": {
        "id": "b7bPXnS8zL3M"
      },
      "source": [
        "### RANDOM FOREST WITH SMOTE"
      ]
    },
    {
      "cell_type": "code",
      "metadata": {
        "colab": {
          "base_uri": "https://localhost:8080/"
        },
        "id": "j3SyEsU9zLD3",
        "outputId": "ed06ed8d-1f86-419b-8d72-4d98ac50a00c"
      },
      "source": [
        "Rscaler = RobustScaler()\n",
        "pca = PCA(.95)\n",
        "# define the oversampling method\n",
        "\n",
        "oversample = SMOTE()\n",
        "Randomforest_Usample= RandomForestClassifier(n_estimators= 10, criterion=\"entropy\")  \n",
        "\n",
        "pipeline_RFsmt = make_pipeline(Rscaler,pca,oversample,Randomforest_Usample)\n",
        "#X_train, X_test, y_train, y_test\n",
        "kf = StratifiedKFold(n_splits=5)\n",
        "y_pred_RF_OSample = cross_val_predict(pipeline_RFsmt,X11, y11, cv=kf)\n",
        "print(y_pred_RF_OSample)\n",
        "conf_mat_RF_Osample = confusion_matrix(y11, y_pred_RF_OSample)\n",
        "print(conf_mat_RF_Osample)\n",
        "acc_Test_RF_Osample= accuracy_score(y11, y_pred_RF_OSample)\n",
        "print(acc_Test_RF_Osample)\n",
        "print(classification_report(y11, y_pred_RF_OSample))"
      ],
      "execution_count": null,
      "outputs": [
        {
          "output_type": "stream",
          "name": "stdout",
          "text": [
            "[0 0 0 ... 0 0 0]\n",
            "[[163234  28560]\n",
            " [ 19467   4353]]\n",
            "0.777254723719239\n",
            "              precision    recall  f1-score   support\n",
            "\n",
            "           0       0.89      0.85      0.87    191794\n",
            "           1       0.13      0.18      0.15     23820\n",
            "\n",
            "    accuracy                           0.78    215614\n",
            "   macro avg       0.51      0.52      0.51    215614\n",
            "weighted avg       0.81      0.78      0.79    215614\n",
            "\n"
          ]
        }
      ]
    },
    {
      "cell_type": "markdown",
      "metadata": {
        "id": "htY44ATW1u40"
      },
      "source": [
        "## xgboost with PCA and Smote"
      ]
    },
    {
      "cell_type": "code",
      "metadata": {
        "id": "9Ltl8aXY1xvO"
      },
      "source": [
        "from xgboost import XGBClassifier\n"
      ],
      "execution_count": null,
      "outputs": []
    },
    {
      "cell_type": "code",
      "metadata": {
        "colab": {
          "base_uri": "https://localhost:8080/"
        },
        "id": "z4Ajksas3brZ",
        "outputId": "01823541-e6a2-4743-e68d-484a6e9705d6"
      },
      "source": [
        "# define model\n",
        "#The scale_pos_weight value is used to scale the gradient for the positive class(1) in imbalance dataset.\n",
        "XGBmodel = XGBClassifier(scale_pos_weight=100)\n",
        "Rscaler = RobustScaler()\n",
        "pca = PCA(.95)\n",
        "# define the oversampling method\n",
        "\n",
        "oversample = SMOTE()\n",
        "\n",
        "pipeline_XGBsmt = make_pipeline(Rscaler,pca,oversample,XGBmodel)\n",
        "#X_train, X_test, y_train, y_test\n",
        "kf = StratifiedKFold(n_splits=5)\n",
        "y_pred_XGB_OSample = cross_val_predict(pipeline_XGBsmt,X11, y11, cv=kf)\n",
        "print(y_pred_XGB_OSample)\n",
        "conf_mat_XGB_Osample = confusion_matrix(y11, y_pred_XGB_OSample)\n",
        "print(conf_mat_XGB_Osample)\n",
        "acc_Test_XGB_Osample= accuracy_score(y11, y_pred_XGB_OSample)\n",
        "print(acc_Test_XGB_Osample)\n",
        "print(classification_report(y11, y_pred_XGB_OSample))"
      ],
      "execution_count": null,
      "outputs": [
        {
          "output_type": "stream",
          "name": "stdout",
          "text": [
            "[1 1 1 ... 0 0 0]\n",
            "[[  1983 189811]\n",
            " [    92  23728]]\n",
            "0.11924550353873126\n",
            "              precision    recall  f1-score   support\n",
            "\n",
            "           0       0.96      0.01      0.02    191794\n",
            "           1       0.11      1.00      0.20     23820\n",
            "\n",
            "    accuracy                           0.12    215614\n",
            "   macro avg       0.53      0.50      0.11    215614\n",
            "weighted avg       0.86      0.12      0.04    215614\n",
            "\n"
          ]
        }
      ]
    },
    {
      "cell_type": "markdown",
      "metadata": {
        "id": "96t7W2rJ5lih"
      },
      "source": [
        "### Try2- XGB without smote"
      ]
    },
    {
      "cell_type": "code",
      "metadata": {
        "colab": {
          "base_uri": "https://localhost:8080/"
        },
        "id": "8GqqWHF53hkS",
        "outputId": "21401bd8-1af3-4d9c-cd1b-a9fc1217ec63"
      },
      "source": [
        "# define model\n",
        "#The scale_pos_weight value is used to scale the gradient for the positive class(1) in imbalance dataset.\n",
        "XGBmodel = XGBClassifier(scale_pos_weight=70)\n",
        "#Rscaler = RobustScaler()\n",
        "#pca = PCA(.95)\n",
        "# define the oversampling method\n",
        "\n",
        "#oversample = SMOTE()\n",
        "\n",
        "pipeline_XGB= make_pipeline(XGBmodel)\n",
        "#X_train, X_test, y_train, y_test\n",
        "kf = StratifiedKFold(n_splits=5)\n",
        "y_pred_XGB = cross_val_predict(pipeline_XGB,X11, y11, cv=kf)\n",
        "print(y_pred_XGB)\n",
        "conf_mat_XGB = confusion_matrix(y11, y_pred_XGB)\n",
        "print(conf_mat_XGB)\n",
        "acc_Test_XGB= accuracy_score(y11, y_pred_XGB)\n",
        "print(acc_Test_XGB)\n",
        "print(classification_report(y11, y_pred_XGB))"
      ],
      "execution_count": null,
      "outputs": [
        {
          "output_type": "stream",
          "name": "stdout",
          "text": [
            "[1 1 1 ... 0 0 0]\n",
            "[[  2058 189736]\n",
            " [   143  23677]]\n",
            "0.11935681356498186\n",
            "              precision    recall  f1-score   support\n",
            "\n",
            "           0       0.94      0.01      0.02    191794\n",
            "           1       0.11      0.99      0.20     23820\n",
            "\n",
            "    accuracy                           0.12    215614\n",
            "   macro avg       0.52      0.50      0.11    215614\n",
            "weighted avg       0.84      0.12      0.04    215614\n",
            "\n"
          ]
        }
      ]
    },
    {
      "cell_type": "markdown",
      "metadata": {
        "id": "FhRofaKc7kg2"
      },
      "source": [
        "# Approach 6 - Hyper Parameter Tunning Randomised search CV for new Data frame"
      ]
    },
    {
      "cell_type": "code",
      "metadata": {
        "colab": {
          "base_uri": "https://localhost:8080/"
        },
        "id": "OPTh4L0K9vtR",
        "outputId": "bbdd30d2-f05a-445c-b54f-1ee004143c82"
      },
      "source": [
        "X_train11, X_test11, y_train11, y_test11 = train_test_split(X11, y11, test_size=0.25, stratify = systematic_sample11['DEP_DEL15'])\n",
        "print(X_train11.shape, X_test11.shape, y_train11.shape, y_test11.shape)"
      ],
      "execution_count": null,
      "outputs": [
        {
          "output_type": "stream",
          "name": "stdout",
          "text": [
            "(161710, 11) (53904, 11) (161710,) (53904,)\n"
          ]
        }
      ]
    },
    {
      "cell_type": "code",
      "metadata": {
        "colab": {
          "base_uri": "https://localhost:8080/"
        },
        "id": "3RNobmtj7sm0",
        "outputId": "c8a4f3d2-18de-41bb-8a65-7530f3232cd1"
      },
      "source": [
        "# Number of trees in random forest\n",
        "n_estimators = [int(x) for x in np.linspace(start = 2, stop = 10, num = 5)]\n",
        "# Number of features to consider at every split\n",
        "max_features = ['auto', 'sqrt','log2']\n",
        "# Maximum number of levels in tree\n",
        "max_depth = [int(x) for x in np.linspace(10, 100,5)]\n",
        "# Minimum number of samples required to split a node\n",
        "min_samples_split = [2, 5]\n",
        "# Minimum number of samples required at each leaf node\n",
        "min_samples_leaf = [1, 2]\n",
        "# Create the random grid\n",
        "random_grid = {'n_estimators': n_estimators,\n",
        "               'max_features':max_features,\n",
        "               'max_depth' : max_depth,\n",
        "               'min_samples_split': min_samples_split,\n",
        "               'min_samples_leaf': min_samples_leaf,\n",
        "              'criterion':['entropy','gini']}\n",
        "print(random_grid)"
      ],
      "execution_count": null,
      "outputs": [
        {
          "output_type": "stream",
          "name": "stdout",
          "text": [
            "{'n_estimators': [2, 4, 6, 8, 10], 'max_features': ['auto', 'sqrt', 'log2'], 'max_depth': [10, 32, 55, 77, 100], 'min_samples_split': [2, 5], 'min_samples_leaf': [1, 2], 'criterion': ['entropy', 'gini']}\n"
          ]
        }
      ]
    },
    {
      "cell_type": "code",
      "metadata": {
        "colab": {
          "base_uri": "https://localhost:8080/"
        },
        "id": "4ItizZVD8ML3",
        "outputId": "9df9640f-954e-42a1-9374-b1b596e42d41"
      },
      "source": [
        "from sklearn.model_selection import RandomizedSearchCV\n",
        "\n",
        "rf = RandomForestClassifier()\n",
        "Skfold = StratifiedKFold(n_splits=5)\n",
        "\n",
        "random_search = RandomizedSearchCV(rf, param_distributions=random_grid,\n",
        "                                   n_iter=3, \n",
        "                                   cv = Skfold)\n",
        "### fit the randomized model\n",
        "random_search.fit(X_train11, y_train11)"
      ],
      "execution_count": null,
      "outputs": [
        {
          "output_type": "execute_result",
          "data": {
            "text/plain": [
              "RandomizedSearchCV(cv=StratifiedKFold(n_splits=5, random_state=None, shuffle=False),\n",
              "                   error_score=nan,\n",
              "                   estimator=RandomForestClassifier(bootstrap=True,\n",
              "                                                    ccp_alpha=0.0,\n",
              "                                                    class_weight=None,\n",
              "                                                    criterion='gini',\n",
              "                                                    max_depth=None,\n",
              "                                                    max_features='auto',\n",
              "                                                    max_leaf_nodes=None,\n",
              "                                                    max_samples=None,\n",
              "                                                    min_impurity_decrease=0.0,\n",
              "                                                    min_impurity_split=None,\n",
              "                                                    min_samples_leaf=1,\n",
              "                                                    min_samples_sp...\n",
              "                                                    warm_start=False),\n",
              "                   iid='deprecated', n_iter=3, n_jobs=None,\n",
              "                   param_distributions={'criterion': ['entropy', 'gini'],\n",
              "                                        'max_depth': [10, 32, 55, 77, 100],\n",
              "                                        'max_features': ['auto', 'sqrt',\n",
              "                                                         'log2'],\n",
              "                                        'min_samples_leaf': [1, 2],\n",
              "                                        'min_samples_split': [2, 5],\n",
              "                                        'n_estimators': [2, 4, 6, 8, 10]},\n",
              "                   pre_dispatch='2*n_jobs', random_state=None, refit=True,\n",
              "                   return_train_score=False, scoring=None, verbose=0)"
            ]
          },
          "metadata": {},
          "execution_count": 79
        }
      ]
    },
    {
      "cell_type": "code",
      "metadata": {
        "colab": {
          "base_uri": "https://localhost:8080/"
        },
        "id": "M1bj9PPB9I7Z",
        "outputId": "60667722-dea0-4bdc-c8fe-e4b5dd303baf"
      },
      "source": [
        "random_search.best_params_"
      ],
      "execution_count": null,
      "outputs": [
        {
          "output_type": "execute_result",
          "data": {
            "text/plain": [
              "{'criterion': 'entropy',\n",
              " 'max_depth': 55,\n",
              " 'max_features': 'auto',\n",
              " 'min_samples_leaf': 2,\n",
              " 'min_samples_split': 5,\n",
              " 'n_estimators': 6}"
            ]
          },
          "metadata": {},
          "execution_count": 80
        }
      ]
    },
    {
      "cell_type": "code",
      "metadata": {
        "colab": {
          "base_uri": "https://localhost:8080/"
        },
        "id": "0sktNdrZ9I7a",
        "outputId": "d3ba1686-d89a-42e4-e4e0-7b131434501c"
      },
      "source": [
        "random_search"
      ],
      "execution_count": null,
      "outputs": [
        {
          "output_type": "execute_result",
          "data": {
            "text/plain": [
              "RandomizedSearchCV(cv=StratifiedKFold(n_splits=5, random_state=None, shuffle=False),\n",
              "                   error_score=nan,\n",
              "                   estimator=RandomForestClassifier(bootstrap=True,\n",
              "                                                    ccp_alpha=0.0,\n",
              "                                                    class_weight=None,\n",
              "                                                    criterion='gini',\n",
              "                                                    max_depth=None,\n",
              "                                                    max_features='auto',\n",
              "                                                    max_leaf_nodes=None,\n",
              "                                                    max_samples=None,\n",
              "                                                    min_impurity_decrease=0.0,\n",
              "                                                    min_impurity_split=None,\n",
              "                                                    min_samples_leaf=1,\n",
              "                                                    min_samples_sp...\n",
              "                                                    warm_start=False),\n",
              "                   iid='deprecated', n_iter=3, n_jobs=None,\n",
              "                   param_distributions={'criterion': ['entropy', 'gini'],\n",
              "                                        'max_depth': [10, 32, 55, 77, 100],\n",
              "                                        'max_features': ['auto', 'sqrt',\n",
              "                                                         'log2'],\n",
              "                                        'min_samples_leaf': [1, 2],\n",
              "                                        'min_samples_split': [2, 5],\n",
              "                                        'n_estimators': [2, 4, 6, 8, 10]},\n",
              "                   pre_dispatch='2*n_jobs', random_state=None, refit=True,\n",
              "                   return_train_score=False, scoring=None, verbose=0)"
            ]
          },
          "metadata": {},
          "execution_count": 81
        }
      ]
    },
    {
      "cell_type": "code",
      "metadata": {
        "id": "nzVehFKH9I7c"
      },
      "source": [
        "best_random_grid=random_search.best_estimator_\n"
      ],
      "execution_count": null,
      "outputs": []
    },
    {
      "cell_type": "code",
      "metadata": {
        "colab": {
          "base_uri": "https://localhost:8080/"
        },
        "id": "QIEK3PRN9I7c",
        "outputId": "4f41a621-dcbc-45b1-aa0f-3a4732edfc00"
      },
      "source": [
        "from sklearn.metrics import accuracy_score\n",
        "y_pred_RF11=best_random_grid.predict(X_test11)\n",
        "print(confusion_matrix(y_test11,y_pred_RF11))\n",
        "print(\"Accuracy Score {}\".format(accuracy_score(y_test11,y_pred_RF11)))\n",
        "print(\"Classification report: {}\".format(classification_report(y_test11,y_pred_RF11)))"
      ],
      "execution_count": null,
      "outputs": [
        {
          "output_type": "stream",
          "name": "stdout",
          "text": [
            "[[47340   609]\n",
            " [ 5708   247]]\n",
            "Accuracy Score 0.8828101810626299\n",
            "Classification report:               precision    recall  f1-score   support\n",
            "\n",
            "           0       0.89      0.99      0.94     47949\n",
            "           1       0.29      0.04      0.07      5955\n",
            "\n",
            "    accuracy                           0.88     53904\n",
            "   macro avg       0.59      0.51      0.50     53904\n",
            "weighted avg       0.83      0.88      0.84     53904\n",
            "\n"
          ]
        }
      ]
    }
  ]
}