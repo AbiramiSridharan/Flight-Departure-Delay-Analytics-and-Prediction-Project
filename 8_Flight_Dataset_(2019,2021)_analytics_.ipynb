{
  "nbformat": 4,
  "nbformat_minor": 0,
  "metadata": {
    "colab": {
      "name": "Flight Dataset (2019,2021) analytics .ipynb",
      "provenance": [],
      "collapsed_sections": [
        "7ECma8NWlJoo"
      ]
    },
    "kernelspec": {
      "name": "python3",
      "display_name": "Python 3"
    },
    "language_info": {
      "name": "python"
    },
    "accelerator": "TPU"
  },
  "cells": [
    {
      "cell_type": "code",
      "metadata": {
        "id": "pLPim1OzFGl9"
      },
      "source": [
        "import pandas as pd\n",
        "import numpy as np\n",
        "from scipy import stats\n",
        "import matplotlib.dates as mtd\n",
        "import seaborn as sns\n",
        "import matplotlib.pyplot as plt\n",
        "import seaborn as sns"
      ],
      "execution_count": null,
      "outputs": []
    },
    {
      "cell_type": "code",
      "metadata": {
        "id": "cvQ4H9ijLSoX"
      },
      "source": [
        "FL_JAN_2019_22cols = pd.read_csv('/content/drive/MyDrive/AbiML/Internship Tasks/internshipDatas/2019 data/2019-(20 columns)/FL_JAN_2019_20cols.csv')\n",
        "FL_FEB_2019_22cols = pd.read_csv('/content/drive/MyDrive/AbiML/Internship Tasks/internshipDatas/2019 data/2019-(20 columns)/FL_FEB_2019_20colscsv.txt')\n",
        "FL_MAR_2019_22cols = pd.read_csv('/content/drive/MyDrive/AbiML/Internship Tasks/internshipDatas/2019 data/2019-(20 columns)/FL_MARCH_2019_20cols.csv')\n",
        "FL_APRIL_2019_22cols = pd.read_csv('/content/drive/MyDrive/AbiML/Internship Tasks/internshipDatas/2019 data/2019-(20 columns)/FL_APRIL_2019_20colscsv.txt')\n",
        "FL_MAY_2019_22cols = pd.read_csv('/content/drive/MyDrive/AbiML/Internship Tasks/internshipDatas/2019 data/2019-(20 columns)/FL_MAY_2019_20cols.csv')\n",
        "FL_JUNE_2019_22cols = pd.read_csv('/content/drive/MyDrive/AbiML/Internship Tasks/internshipDatas/2019 data/2019-(20 columns)/FL_JUNE_2019_20cols.csv')\n"
      ],
      "execution_count": null,
      "outputs": []
    },
    {
      "cell_type": "code",
      "metadata": {
        "id": "nYMEt_cPMoFJ"
      },
      "source": [
        "FL_JULY_2019_22cols = pd.read_csv('/content/drive/MyDrive/AbiML/Internship Tasks/internshipDatas/2019 data/2019-(20 columns)/FL_JULY_2019_20cols.csv')\n",
        "FL_AUG_2019_22cols = pd.read_csv('/content/drive/MyDrive/AbiML/Internship Tasks/internshipDatas/2019 data/2019-(20 columns)/FL_AUG_2019_20cols.csv')\n",
        "FL_SEPT_2019_22cols = pd.read_csv('/content/drive/MyDrive/AbiML/Internship Tasks/internshipDatas/2019 data/2019-(20 columns)/FL_SEPT_2019_20cols.csv')\n",
        "FL_OCT_2019_22cols = pd.read_csv('/content/drive/MyDrive/AbiML/Internship Tasks/internshipDatas/2019 data/2019-(20 columns)/FL_OCT_2019_20cols.csv')\n",
        "FL_NOV_2019_22cols = pd.read_csv('/content/drive/MyDrive/AbiML/Internship Tasks/internshipDatas/2019 data/2019-(20 columns)/FL_NOV_2019_22cols.csv')\n",
        "FL_DEC_2019_22cols = pd.read_csv('/content/drive/MyDrive/AbiML/Internship Tasks/internshipDatas/2019 data/2019-(20 columns)/FL_DEC_2019_20cols.csv')\n"
      ],
      "execution_count": null,
      "outputs": []
    },
    {
      "cell_type": "code",
      "metadata": {
        "id": "RvjWqL2Y6uO_"
      },
      "source": [
        "FL_JAN_2021_22cols = pd.read_csv('/content/drive/MyDrive/AbiML/Internship Tasks/internshipDatas/2019 data/2021_20cols/FL_JAN_2021_20cols.csv')\n",
        "FL_FEB_2021_22cols = pd.read_csv('/content/drive/MyDrive/AbiML/Internship Tasks/internshipDatas/2019 data/2021_20cols/FL_FEB_2021_22cols.csv')\n",
        "FL_MAR_2021_22cols = pd.read_csv('/content/drive/MyDrive/AbiML/Internship Tasks/internshipDatas/2019 data/2021_20cols/FL_MARCH_2021_20cols.csv')\n",
        "FL_APRIL_2021_22cols = pd.read_csv('/content/drive/MyDrive/AbiML/Internship Tasks/internshipDatas/2019 data/2021_20cols/FL_APRIL_2021_22cols.csv')\n",
        "FL_MAY_2021_22cols = pd.read_csv('/content/drive/MyDrive/AbiML/Internship Tasks/internshipDatas/2019 data/2021_20cols/FL_MAY_2021_20cols.csv')\n",
        "FL_JUNE_2021_22cols = pd.read_csv('/content/drive/MyDrive/AbiML/Internship Tasks/internshipDatas/2019 data/2021_20cols/FL_JUNE_2021_22cols.csv')\n",
        "FL_JULY_2021_22cols = pd.read_csv('/content/drive/MyDrive/AbiML/Internship Tasks/internshipDatas/2019 data/2021_20cols/FL_JULY_2021_20cols.csv')\n",
        "\n"
      ],
      "execution_count": null,
      "outputs": []
    },
    {
      "cell_type": "code",
      "metadata": {
        "id": "Mu62VoknE90k"
      },
      "source": [
        "FL_CONSOLIDATED2019_21=pd.concat([FL_JAN_2019_22cols,FL_FEB_2019_22cols,FL_MAR_2019_22cols,FL_APRIL_2019_22cols,FL_MAY_2019_22cols,FL_JUNE_2019_22cols,FL_JULY_2019_22cols,FL_AUG_2019_22cols,FL_SEPT_2019_22cols,FL_OCT_2019_22cols,FL_NOV_2019_22cols,FL_DEC_2019_22cols,FL_JAN_2021_22cols,FL_FEB_2021_22cols,FL_MAR_2021_22cols,FL_APRIL_2021_22cols,FL_MAY_2021_22cols,FL_JUNE_2021_22cols,FL_JULY_2021_22cols], axis=0)"
      ],
      "execution_count": null,
      "outputs": []
    },
    {
      "cell_type": "code",
      "metadata": {
        "id": "tlAMJYt-HNTT"
      },
      "source": [
        "#FL_CONSOLIDATED2019_21.count()"
      ],
      "execution_count": null,
      "outputs": []
    },
    {
      "cell_type": "code",
      "metadata": {
        "id": "b2o5K2So8QdZ"
      },
      "source": [
        "FL_CONSOLIDATED2019_21=FL_CONSOLIDATED2019_21.drop(columns=['Unnamed: 20'] ,axis=1)"
      ],
      "execution_count": null,
      "outputs": []
    },
    {
      "cell_type": "code",
      "metadata": {
        "id": "lwWEKpxo86Lx"
      },
      "source": [
        "from datetime import date\n",
        "FL_CONSOLIDATED2019_21['FL_DATE']=pd.to_datetime(FL_CONSOLIDATED2019_21['FL_DATE'],format='%Y-%m-%d')"
      ],
      "execution_count": null,
      "outputs": []
    },
    {
      "cell_type": "code",
      "metadata": {
        "id": "mr7trTXUcNsa"
      },
      "source": [
        "#FL_CONSOLIDATED2019_21.head()"
      ],
      "execution_count": null,
      "outputs": []
    },
    {
      "cell_type": "code",
      "metadata": {
        "id": "7MsGLwcd8WsO"
      },
      "source": [
        "#FL_CONSOLIDATED2019_21.info()"
      ],
      "execution_count": null,
      "outputs": []
    },
    {
      "cell_type": "code",
      "metadata": {
        "colab": {
          "base_uri": "https://localhost:8080/"
        },
        "id": "0ul1UMyRNtge",
        "outputId": "c1f9c81d-f5c8-4764-e43f-2ffe0aae618b"
      },
      "source": [
        "FL_CONSOLIDATED2019_21.isna().sum()"
      ],
      "execution_count": null,
      "outputs": [
        {
          "output_type": "execute_result",
          "data": {
            "text/plain": [
              "QUARTER                      0\n",
              "MONTH                        0\n",
              "DAY_OF_WEEK                  0\n",
              "FL_DATE                      0\n",
              "OP_CARRIER                   0\n",
              "TAIL_NUM                 39769\n",
              "OP_CARRIER_FL_NUM            0\n",
              "ORIGIN                       0\n",
              "DEP_TIME                201107\n",
              "DEP_DELAY               201186\n",
              "DEP_DEL15               201186\n",
              "TAXI_OUT                206669\n",
              "WHEELS_OFF              206669\n",
              "CRS_ELAPSED_TIME            10\n",
              "DISTANCE                     0\n",
              "CARRIER_DELAY          9407258\n",
              "WEATHER_DELAY          9407258\n",
              "NAS_DELAY              9407258\n",
              "SECURITY_DELAY         9407258\n",
              "LATE_AIRCRAFT_DELAY    9407258\n",
              "dtype: int64"
            ]
          },
          "metadata": {},
          "execution_count": 11
        }
      ]
    },
    {
      "cell_type": "markdown",
      "metadata": {
        "id": "wu7sDWQHNlAu"
      },
      "source": [
        "### * Replacing nan as zero in all columns  \n",
        "* dropping null values in DEP_DELAY','DEP_DEL15','DEP_TIME"
      ]
    },
    {
      "cell_type": "code",
      "metadata": {
        "id": "UhAcaT9CPsq5"
      },
      "source": [
        "FL_CONSOLIDATED2019_21.dropna(subset=['DEP_DELAY','DEP_DEL15','DEP_TIME'],inplace=True)"
      ],
      "execution_count": null,
      "outputs": []
    },
    {
      "cell_type": "code",
      "metadata": {
        "colab": {
          "base_uri": "https://localhost:8080/"
        },
        "id": "CbPa3fRzQE4p",
        "outputId": "a9064eb5-521b-4a13-8661-635f9f9b16f4"
      },
      "source": [
        "FL_CONSOLIDATED2019_21.isna().sum()"
      ],
      "execution_count": null,
      "outputs": [
        {
          "output_type": "execute_result",
          "data": {
            "text/plain": [
              "QUARTER                      0\n",
              "MONTH                        0\n",
              "DAY_OF_WEEK                  0\n",
              "FL_DATE                      0\n",
              "OP_CARRIER                   0\n",
              "TAIL_NUM                     0\n",
              "OP_CARRIER_FL_NUM            0\n",
              "ORIGIN                       0\n",
              "DEP_TIME                     0\n",
              "DEP_DELAY                    0\n",
              "DEP_DEL15                    0\n",
              "TAXI_OUT                  5484\n",
              "WHEELS_OFF                5484\n",
              "CRS_ELAPSED_TIME             3\n",
              "DISTANCE                     0\n",
              "CARRIER_DELAY          9206072\n",
              "WEATHER_DELAY          9206072\n",
              "NAS_DELAY              9206072\n",
              "SECURITY_DELAY         9206072\n",
              "LATE_AIRCRAFT_DELAY    9206072\n",
              "dtype: int64"
            ]
          },
          "metadata": {},
          "execution_count": 13
        }
      ]
    },
    {
      "cell_type": "code",
      "metadata": {
        "colab": {
          "base_uri": "https://localhost:8080/",
          "height": 417
        },
        "id": "oSBmCEj0Nkpj",
        "outputId": "e04c06c0-0ef2-4182-e486-58a1b4df8256"
      },
      "source": [
        "FL_CONSOLIDATED2019_21[['TAXI_OUT','WHEELS_OFF','CARRIER_DELAY','WEATHER_DELAY','NAS_DELAY','SECURITY_DELAY','LATE_AIRCRAFT_DELAY']].fillna(0)"
      ],
      "execution_count": null,
      "outputs": [
        {
          "output_type": "execute_result",
          "data": {
            "text/html": [
              "<div>\n",
              "<style scoped>\n",
              "    .dataframe tbody tr th:only-of-type {\n",
              "        vertical-align: middle;\n",
              "    }\n",
              "\n",
              "    .dataframe tbody tr th {\n",
              "        vertical-align: top;\n",
              "    }\n",
              "\n",
              "    .dataframe thead th {\n",
              "        text-align: right;\n",
              "    }\n",
              "</style>\n",
              "<table border=\"1\" class=\"dataframe\">\n",
              "  <thead>\n",
              "    <tr style=\"text-align: right;\">\n",
              "      <th></th>\n",
              "      <th>TAXI_OUT</th>\n",
              "      <th>WHEELS_OFF</th>\n",
              "      <th>CARRIER_DELAY</th>\n",
              "      <th>WEATHER_DELAY</th>\n",
              "      <th>NAS_DELAY</th>\n",
              "      <th>SECURITY_DELAY</th>\n",
              "      <th>LATE_AIRCRAFT_DELAY</th>\n",
              "    </tr>\n",
              "  </thead>\n",
              "  <tbody>\n",
              "    <tr>\n",
              "      <th>0</th>\n",
              "      <td>11.0</td>\n",
              "      <td>1738.0</td>\n",
              "      <td>0.0</td>\n",
              "      <td>0.0</td>\n",
              "      <td>0.0</td>\n",
              "      <td>0.0</td>\n",
              "      <td>0.0</td>\n",
              "    </tr>\n",
              "    <tr>\n",
              "      <th>1</th>\n",
              "      <td>19.0</td>\n",
              "      <td>849.0</td>\n",
              "      <td>0.0</td>\n",
              "      <td>0.0</td>\n",
              "      <td>0.0</td>\n",
              "      <td>0.0</td>\n",
              "      <td>0.0</td>\n",
              "    </tr>\n",
              "    <tr>\n",
              "      <th>2</th>\n",
              "      <td>21.0</td>\n",
              "      <td>851.0</td>\n",
              "      <td>0.0</td>\n",
              "      <td>0.0</td>\n",
              "      <td>0.0</td>\n",
              "      <td>0.0</td>\n",
              "      <td>0.0</td>\n",
              "    </tr>\n",
              "    <tr>\n",
              "      <th>3</th>\n",
              "      <td>35.0</td>\n",
              "      <td>900.0</td>\n",
              "      <td>0.0</td>\n",
              "      <td>0.0</td>\n",
              "      <td>0.0</td>\n",
              "      <td>0.0</td>\n",
              "      <td>0.0</td>\n",
              "    </tr>\n",
              "    <tr>\n",
              "      <th>4</th>\n",
              "      <td>41.0</td>\n",
              "      <td>907.0</td>\n",
              "      <td>0.0</td>\n",
              "      <td>0.0</td>\n",
              "      <td>0.0</td>\n",
              "      <td>0.0</td>\n",
              "      <td>0.0</td>\n",
              "    </tr>\n",
              "    <tr>\n",
              "      <th>...</th>\n",
              "      <td>...</td>\n",
              "      <td>...</td>\n",
              "      <td>...</td>\n",
              "      <td>...</td>\n",
              "      <td>...</td>\n",
              "      <td>...</td>\n",
              "      <td>...</td>\n",
              "    </tr>\n",
              "    <tr>\n",
              "      <th>615698</th>\n",
              "      <td>15.0</td>\n",
              "      <td>1614.0</td>\n",
              "      <td>0.0</td>\n",
              "      <td>0.0</td>\n",
              "      <td>0.0</td>\n",
              "      <td>0.0</td>\n",
              "      <td>23.0</td>\n",
              "    </tr>\n",
              "    <tr>\n",
              "      <th>615699</th>\n",
              "      <td>17.0</td>\n",
              "      <td>1542.0</td>\n",
              "      <td>0.0</td>\n",
              "      <td>0.0</td>\n",
              "      <td>0.0</td>\n",
              "      <td>0.0</td>\n",
              "      <td>0.0</td>\n",
              "    </tr>\n",
              "    <tr>\n",
              "      <th>615700</th>\n",
              "      <td>14.0</td>\n",
              "      <td>1317.0</td>\n",
              "      <td>0.0</td>\n",
              "      <td>0.0</td>\n",
              "      <td>0.0</td>\n",
              "      <td>0.0</td>\n",
              "      <td>0.0</td>\n",
              "    </tr>\n",
              "    <tr>\n",
              "      <th>615701</th>\n",
              "      <td>16.0</td>\n",
              "      <td>1418.0</td>\n",
              "      <td>0.0</td>\n",
              "      <td>0.0</td>\n",
              "      <td>0.0</td>\n",
              "      <td>0.0</td>\n",
              "      <td>0.0</td>\n",
              "    </tr>\n",
              "    <tr>\n",
              "      <th>615702</th>\n",
              "      <td>20.0</td>\n",
              "      <td>1731.0</td>\n",
              "      <td>0.0</td>\n",
              "      <td>0.0</td>\n",
              "      <td>0.0</td>\n",
              "      <td>0.0</td>\n",
              "      <td>30.0</td>\n",
              "    </tr>\n",
              "  </tbody>\n",
              "</table>\n",
              "<p>11270655 rows × 7 columns</p>\n",
              "</div>"
            ],
            "text/plain": [
              "        TAXI_OUT  WHEELS_OFF  ...  SECURITY_DELAY  LATE_AIRCRAFT_DELAY\n",
              "0           11.0      1738.0  ...             0.0                  0.0\n",
              "1           19.0       849.0  ...             0.0                  0.0\n",
              "2           21.0       851.0  ...             0.0                  0.0\n",
              "3           35.0       900.0  ...             0.0                  0.0\n",
              "4           41.0       907.0  ...             0.0                  0.0\n",
              "...          ...         ...  ...             ...                  ...\n",
              "615698      15.0      1614.0  ...             0.0                 23.0\n",
              "615699      17.0      1542.0  ...             0.0                  0.0\n",
              "615700      14.0      1317.0  ...             0.0                  0.0\n",
              "615701      16.0      1418.0  ...             0.0                  0.0\n",
              "615702      20.0      1731.0  ...             0.0                 30.0\n",
              "\n",
              "[11270655 rows x 7 columns]"
            ]
          },
          "metadata": {},
          "execution_count": 14
        }
      ]
    },
    {
      "cell_type": "markdown",
      "metadata": {
        "id": "sUdHw8AJ8mbb"
      },
      "source": [
        "# Creating new column- WEEK_OF_MONTH"
      ]
    },
    {
      "cell_type": "code",
      "metadata": {
        "colab": {
          "base_uri": "https://localhost:8080/",
          "height": 38
        },
        "id": "17FiZEX0gr-k",
        "outputId": "427e7a51-e77f-418d-ee4d-a096fc6059f1"
      },
      "source": [
        "#The calendar module has a monthcalendar method that returns a 2D array where each row represents a week. For example:\n",
        "#import calendar\n",
        "#calendar.monthcalendar(2015,9)\n",
        "#result o/p ll be ilke this:\n",
        "\n",
        "'''[[0,0,1,2,3,4,5],\n",
        " [6,7,8,9,10,11,12],\n",
        " [13,14,15,16,17,18,19],\n",
        " [20,21,22,23,24,25,26],\n",
        " [27,28,29,30,0,0,0]]'''"
      ],
      "execution_count": null,
      "outputs": [
        {
          "output_type": "execute_result",
          "data": {
            "application/vnd.google.colaboratory.intrinsic+json": {
              "type": "string"
            },
            "text/plain": [
              "'[[0,0,1,2,3,4,5],\\n [6,7,8,9,10,11,12],\\n [13,14,15,16,17,18,19],\\n [20,21,22,23,24,25,26],\\n [27,28,29,30,0,0,0]]'"
            ]
          },
          "metadata": {},
          "execution_count": 15
        }
      ]
    },
    {
      "cell_type": "code",
      "metadata": {
        "id": "K84wGHfYSa4W"
      },
      "source": [
        "#solution for the above code\n",
        "import datetime\n",
        "from calendar import Calendar\n",
        "\n",
        "def week_of_month(tgtdate):\n",
        "  n = datetime.datetime(tgtdate.year, tgtdate.month, tgtdate.day)\n",
        "  cal = Calendar() # week starts Monday\n",
        "#cal = Calendar(6) # week stars Sunday\n",
        "  weeks = cal.monthdayscalendar(n.year, n.month)\n",
        "  for x in range(len(weeks)):\n",
        "    if n.day in weeks[x]:\n",
        "        return(x+1)\n",
        "FL_CONSOLIDATED2019_21['WEEK_OF_MONTH'] = FL_CONSOLIDATED2019_21['FL_DATE'].apply(week_of_month)"
      ],
      "execution_count": null,
      "outputs": []
    },
    {
      "cell_type": "code",
      "metadata": {
        "colab": {
          "base_uri": "https://localhost:8080/",
          "height": 203
        },
        "id": "YcdTLimyN57B",
        "outputId": "d449598f-88e9-40b1-8f6a-9c2610c43bb9"
      },
      "source": [
        "FL_CONSOLIDATED2019_21[['FL_DATE','WEEK_OF_MONTH']].head()"
      ],
      "execution_count": null,
      "outputs": [
        {
          "output_type": "execute_result",
          "data": {
            "text/html": [
              "<div>\n",
              "<style scoped>\n",
              "    .dataframe tbody tr th:only-of-type {\n",
              "        vertical-align: middle;\n",
              "    }\n",
              "\n",
              "    .dataframe tbody tr th {\n",
              "        vertical-align: top;\n",
              "    }\n",
              "\n",
              "    .dataframe thead th {\n",
              "        text-align: right;\n",
              "    }\n",
              "</style>\n",
              "<table border=\"1\" class=\"dataframe\">\n",
              "  <thead>\n",
              "    <tr style=\"text-align: right;\">\n",
              "      <th></th>\n",
              "      <th>FL_DATE</th>\n",
              "      <th>WEEK_OF_MONTH</th>\n",
              "    </tr>\n",
              "  </thead>\n",
              "  <tbody>\n",
              "    <tr>\n",
              "      <th>0</th>\n",
              "      <td>2019-01-26</td>\n",
              "      <td>4</td>\n",
              "    </tr>\n",
              "    <tr>\n",
              "      <th>1</th>\n",
              "      <td>2019-01-07</td>\n",
              "      <td>2</td>\n",
              "    </tr>\n",
              "    <tr>\n",
              "      <th>2</th>\n",
              "      <td>2019-01-08</td>\n",
              "      <td>2</td>\n",
              "    </tr>\n",
              "    <tr>\n",
              "      <th>3</th>\n",
              "      <td>2019-01-09</td>\n",
              "      <td>2</td>\n",
              "    </tr>\n",
              "    <tr>\n",
              "      <th>4</th>\n",
              "      <td>2019-01-10</td>\n",
              "      <td>2</td>\n",
              "    </tr>\n",
              "  </tbody>\n",
              "</table>\n",
              "</div>"
            ],
            "text/plain": [
              "     FL_DATE  WEEK_OF_MONTH\n",
              "0 2019-01-26              4\n",
              "1 2019-01-07              2\n",
              "2 2019-01-08              2\n",
              "3 2019-01-09              2\n",
              "4 2019-01-10              2"
            ]
          },
          "metadata": {},
          "execution_count": 17
        }
      ]
    },
    {
      "cell_type": "markdown",
      "metadata": {
        "id": "yJhDbXf99K4F"
      },
      "source": [
        "# Creating New column--> Week days==0, Weekends == 1(DAY_OF_WEEK_days_end)"
      ]
    },
    {
      "cell_type": "code",
      "metadata": {
        "id": "-dMdhPTd9J3k"
      },
      "source": [
        "def get_day_category(day_of_week):\n",
        "    if day_of_week <= 5:\n",
        "        return 0 #'working day'\n",
        "    elif day_of_week > 5:\n",
        "        return 1 #'weekend'\n",
        "FL_CONSOLIDATED2019_21['DAY_OF_WEEK_days_end'] = FL_CONSOLIDATED2019_21['DAY_OF_WEEK']\n",
        "   \n",
        "FL_CONSOLIDATED2019_21['DAY_OF_WEEK_days_end'] = FL_CONSOLIDATED2019_21.DAY_OF_WEEK_days_end.apply(get_day_category)\n",
        "#FL_CONSOLIDATED2019_21.head()"
      ],
      "execution_count": null,
      "outputs": []
    },
    {
      "cell_type": "markdown",
      "metadata": {
        "id": "xaMC3Rzg_tIQ"
      },
      "source": [
        "# Deleting null values in DEP_TIME column"
      ]
    },
    {
      "cell_type": "markdown",
      "metadata": {
        "id": "KedZERDr-3F_"
      },
      "source": [
        "# Creating New column-> DEP_TIME_BLK as 6 block per day, using DEP_time with 24 hrs time stamp"
      ]
    },
    {
      "cell_type": "code",
      "metadata": {
        "colab": {
          "base_uri": "https://localhost:8080/"
        },
        "id": "l5aZ4k3I-2pJ",
        "outputId": "c2e12eaf-6107-4baa-b95e-e8d1d9e3a22d"
      },
      "source": [
        "def get_dep_time_blk(dep_time):\n",
        "    dep_hour = str('%04d' %(dep_time))[:2]\n",
        "    \n",
        "    return dep_hour\n",
        "\n",
        "FL_CONSOLIDATED2019_21['DEP_TIMEslot_BLK'] = FL_CONSOLIDATED2019_21.DEP_TIME.apply(get_dep_time_blk)\n",
        "print(FL_CONSOLIDATED2019_21[['DEP_TIME','DEP_TIMEslot_BLK']].head(5))"
      ],
      "execution_count": null,
      "outputs": [
        {
          "output_type": "stream",
          "name": "stdout",
          "text": [
            "   DEP_TIME DEP_TIMEslot_BLK\n",
            "0    1727.0               17\n",
            "1     830.0               08\n",
            "2     830.0               08\n",
            "3     825.0               08\n",
            "4     826.0               08\n"
          ]
        }
      ]
    },
    {
      "cell_type": "code",
      "metadata": {
        "id": "Sli35A7h0_jB"
      },
      "source": [
        "FL_CONSOLIDATED2019_21[['DEP_TIMEslot_BLK']]=FL_CONSOLIDATED2019_21[['DEP_TIMEslot_BLK']].astype(int)"
      ],
      "execution_count": null,
      "outputs": []
    },
    {
      "cell_type": "code",
      "metadata": {
        "id": "o_fqF4zKO132",
        "colab": {
          "base_uri": "https://localhost:8080/",
          "height": 307
        },
        "outputId": "3f38b3c9-dd22-44f3-e238-8bdc7208e56a"
      },
      "source": [
        "FL_CONSOLIDATED2019_21.head()"
      ],
      "execution_count": null,
      "outputs": [
        {
          "output_type": "execute_result",
          "data": {
            "text/html": [
              "<div>\n",
              "<style scoped>\n",
              "    .dataframe tbody tr th:only-of-type {\n",
              "        vertical-align: middle;\n",
              "    }\n",
              "\n",
              "    .dataframe tbody tr th {\n",
              "        vertical-align: top;\n",
              "    }\n",
              "\n",
              "    .dataframe thead th {\n",
              "        text-align: right;\n",
              "    }\n",
              "</style>\n",
              "<table border=\"1\" class=\"dataframe\">\n",
              "  <thead>\n",
              "    <tr style=\"text-align: right;\">\n",
              "      <th></th>\n",
              "      <th>QUARTER</th>\n",
              "      <th>MONTH</th>\n",
              "      <th>DAY_OF_WEEK</th>\n",
              "      <th>FL_DATE</th>\n",
              "      <th>OP_CARRIER</th>\n",
              "      <th>TAIL_NUM</th>\n",
              "      <th>OP_CARRIER_FL_NUM</th>\n",
              "      <th>ORIGIN</th>\n",
              "      <th>DEP_TIME</th>\n",
              "      <th>DEP_DELAY</th>\n",
              "      <th>DEP_DEL15</th>\n",
              "      <th>TAXI_OUT</th>\n",
              "      <th>WHEELS_OFF</th>\n",
              "      <th>CRS_ELAPSED_TIME</th>\n",
              "      <th>DISTANCE</th>\n",
              "      <th>CARRIER_DELAY</th>\n",
              "      <th>WEATHER_DELAY</th>\n",
              "      <th>NAS_DELAY</th>\n",
              "      <th>SECURITY_DELAY</th>\n",
              "      <th>LATE_AIRCRAFT_DELAY</th>\n",
              "      <th>WEEK_OF_MONTH</th>\n",
              "      <th>DAY_OF_WEEK_days_end</th>\n",
              "      <th>DEP_TIMEslot_BLK</th>\n",
              "    </tr>\n",
              "  </thead>\n",
              "  <tbody>\n",
              "    <tr>\n",
              "      <th>0</th>\n",
              "      <td>1</td>\n",
              "      <td>1</td>\n",
              "      <td>6</td>\n",
              "      <td>2019-01-26</td>\n",
              "      <td>9E</td>\n",
              "      <td>N137EV</td>\n",
              "      <td>3442</td>\n",
              "      <td>CVG</td>\n",
              "      <td>1727.0</td>\n",
              "      <td>-4.0</td>\n",
              "      <td>0.0</td>\n",
              "      <td>11.0</td>\n",
              "      <td>1738.0</td>\n",
              "      <td>132.0</td>\n",
              "      <td>596.0</td>\n",
              "      <td>NaN</td>\n",
              "      <td>NaN</td>\n",
              "      <td>NaN</td>\n",
              "      <td>NaN</td>\n",
              "      <td>NaN</td>\n",
              "      <td>4</td>\n",
              "      <td>1</td>\n",
              "      <td>17</td>\n",
              "    </tr>\n",
              "    <tr>\n",
              "      <th>1</th>\n",
              "      <td>1</td>\n",
              "      <td>1</td>\n",
              "      <td>1</td>\n",
              "      <td>2019-01-07</td>\n",
              "      <td>9E</td>\n",
              "      <td>N927EV</td>\n",
              "      <td>3442</td>\n",
              "      <td>DTW</td>\n",
              "      <td>830.0</td>\n",
              "      <td>-5.0</td>\n",
              "      <td>0.0</td>\n",
              "      <td>19.0</td>\n",
              "      <td>849.0</td>\n",
              "      <td>111.0</td>\n",
              "      <td>306.0</td>\n",
              "      <td>NaN</td>\n",
              "      <td>NaN</td>\n",
              "      <td>NaN</td>\n",
              "      <td>NaN</td>\n",
              "      <td>NaN</td>\n",
              "      <td>2</td>\n",
              "      <td>0</td>\n",
              "      <td>8</td>\n",
              "    </tr>\n",
              "    <tr>\n",
              "      <th>2</th>\n",
              "      <td>1</td>\n",
              "      <td>1</td>\n",
              "      <td>2</td>\n",
              "      <td>2019-01-08</td>\n",
              "      <td>9E</td>\n",
              "      <td>N927EV</td>\n",
              "      <td>3442</td>\n",
              "      <td>DTW</td>\n",
              "      <td>830.0</td>\n",
              "      <td>-5.0</td>\n",
              "      <td>0.0</td>\n",
              "      <td>21.0</td>\n",
              "      <td>851.0</td>\n",
              "      <td>111.0</td>\n",
              "      <td>306.0</td>\n",
              "      <td>NaN</td>\n",
              "      <td>NaN</td>\n",
              "      <td>NaN</td>\n",
              "      <td>NaN</td>\n",
              "      <td>NaN</td>\n",
              "      <td>2</td>\n",
              "      <td>0</td>\n",
              "      <td>8</td>\n",
              "    </tr>\n",
              "    <tr>\n",
              "      <th>3</th>\n",
              "      <td>1</td>\n",
              "      <td>1</td>\n",
              "      <td>3</td>\n",
              "      <td>2019-01-09</td>\n",
              "      <td>9E</td>\n",
              "      <td>N8974C</td>\n",
              "      <td>3442</td>\n",
              "      <td>DTW</td>\n",
              "      <td>825.0</td>\n",
              "      <td>-10.0</td>\n",
              "      <td>0.0</td>\n",
              "      <td>35.0</td>\n",
              "      <td>900.0</td>\n",
              "      <td>111.0</td>\n",
              "      <td>306.0</td>\n",
              "      <td>NaN</td>\n",
              "      <td>NaN</td>\n",
              "      <td>NaN</td>\n",
              "      <td>NaN</td>\n",
              "      <td>NaN</td>\n",
              "      <td>2</td>\n",
              "      <td>0</td>\n",
              "      <td>8</td>\n",
              "    </tr>\n",
              "    <tr>\n",
              "      <th>4</th>\n",
              "      <td>1</td>\n",
              "      <td>1</td>\n",
              "      <td>4</td>\n",
              "      <td>2019-01-10</td>\n",
              "      <td>9E</td>\n",
              "      <td>N833AY</td>\n",
              "      <td>3442</td>\n",
              "      <td>DTW</td>\n",
              "      <td>826.0</td>\n",
              "      <td>-9.0</td>\n",
              "      <td>0.0</td>\n",
              "      <td>41.0</td>\n",
              "      <td>907.0</td>\n",
              "      <td>111.0</td>\n",
              "      <td>306.0</td>\n",
              "      <td>NaN</td>\n",
              "      <td>NaN</td>\n",
              "      <td>NaN</td>\n",
              "      <td>NaN</td>\n",
              "      <td>NaN</td>\n",
              "      <td>2</td>\n",
              "      <td>0</td>\n",
              "      <td>8</td>\n",
              "    </tr>\n",
              "  </tbody>\n",
              "</table>\n",
              "</div>"
            ],
            "text/plain": [
              "   QUARTER  MONTH  ...  DAY_OF_WEEK_days_end DEP_TIMEslot_BLK\n",
              "0        1      1  ...                     1               17\n",
              "1        1      1  ...                     0                8\n",
              "2        1      1  ...                     0                8\n",
              "3        1      1  ...                     0                8\n",
              "4        1      1  ...                     0                8\n",
              "\n",
              "[5 rows x 23 columns]"
            ]
          },
          "metadata": {},
          "execution_count": 21
        }
      ]
    },
    {
      "cell_type": "code",
      "metadata": {
        "id": "c1zpkZLtHs37"
      },
      "source": [
        "FL_CONSOLIDATED2019_21=FL_CONSOLIDATED2019_21.drop(columns=['DEP_TIME'] ,axis=1)"
      ],
      "execution_count": null,
      "outputs": []
    },
    {
      "cell_type": "code",
      "metadata": {
        "id": "4oe1XEsVOqFb"
      },
      "source": [
        "FL_CONSOLIDATED2019_21 = FL_CONSOLIDATED2019_21.astype({col: 'float16' for col in FL_CONSOLIDATED2019_21.select_dtypes('float64').columns})\n",
        "FL_CONSOLIDATED2019_21 = FL_CONSOLIDATED2019_21.astype({col: 'int16' for col in FL_CONSOLIDATED2019_21.select_dtypes('int64').columns})"
      ],
      "execution_count": null,
      "outputs": []
    },
    {
      "cell_type": "code",
      "metadata": {
        "id": "4aBrZPnutBu7"
      },
      "source": [
        "for dataset in FL_CONSOLIDATED2019_21:\n",
        "    FL_CONSOLIDATED2019_21.loc[FL_CONSOLIDATED2019_21['DEP_TIMEslot_BLK'] >=0, 'Dep_period'] = 'Midnight'\n",
        "    FL_CONSOLIDATED2019_21.loc[FL_CONSOLIDATED2019_21['DEP_TIMEslot_BLK'] >=4,'Dep_period'] ='Early morning'\n",
        "    FL_CONSOLIDATED2019_21.loc[FL_CONSOLIDATED2019_21['DEP_TIMEslot_BLK'] >=7,'Dep_period'] ='Morning'\n",
        "    FL_CONSOLIDATED2019_21.loc[FL_CONSOLIDATED2019_21['DEP_TIMEslot_BLK'] >=12,'Dep_period'] ='Afternoon'\n",
        "    FL_CONSOLIDATED2019_21.loc[FL_CONSOLIDATED2019_21['DEP_TIMEslot_BLK'] >=17,'Dep_period'] ='Evening'\n",
        "    FL_CONSOLIDATED2019_21.loc[FL_CONSOLIDATED2019_21['DEP_TIMEslot_BLK'] >=20,'Dep_period'] ='Night'\n",
        "    FL_CONSOLIDATED2019_21.loc[FL_CONSOLIDATED2019_21['DEP_TIMEslot_BLK'] ==24, 'Dep_period'] = 'Midnight'"
      ],
      "execution_count": null,
      "outputs": []
    },
    {
      "cell_type": "code",
      "metadata": {
        "id": "3pH9bhMgW48r"
      },
      "source": [
        "#FL_CONSOLIDATED2019_21.head()"
      ],
      "execution_count": null,
      "outputs": []
    },
    {
      "cell_type": "markdown",
      "metadata": {
        "id": "WXON9cvdH546"
      },
      "source": [
        "# Adding new columns (DELAY_LAST_WEEK, DELAY_LAST_MONTH)"
      ]
    },
    {
      "cell_type": "markdown",
      "metadata": {
        "id": "uLsKydSnmrVN"
      },
      "source": [
        "## DELAY_LAST_MONTH-->FL_NUM"
      ]
    },
    {
      "cell_type": "code",
      "metadata": {
        "id": "CGydE5YGZrXa"
      },
      "source": [
        "from datetime import date, timedelta"
      ],
      "execution_count": null,
      "outputs": []
    },
    {
      "cell_type": "markdown",
      "metadata": {
        "id": "qMBZ3PtmiFmj"
      },
      "source": [
        "* first()-- used to subset initial periods of time series data based on a date offset.\n",
        "* shift() function Shift index by desired number of periods with an optional time freq.\n",
        "* rolling()--certain number of previous periods in a time series\n",
        "* resample()--Resampling generates a unique sampling distribution on the basis of the actual data.1D=dates created on 1day frequency. We can apply various frequency to resample our time series data.\n"
      ]
    },
    {
      "cell_type": "markdown",
      "metadata": {
        "id": "BSg2X9yXi4sg"
      },
      "source": [
        "* group by using flight number and origin which generates unique key pairs, used while creating resample(1D) dates for calculating 30 days and 7days window\n",
        "* while group by FL_ num alone has same dates with  diff org, airline, etc.. so used fl_num with origin for groupby. "
      ]
    },
    {
      "cell_type": "code",
      "metadata": {
        "id": "RNGURMkUwkjd"
      },
      "source": [
        "FL_CONSOLIDATED2019_21_temp1=FL_CONSOLIDATED2019_21[['OP_CARRIER_FL_NUM','ORIGIN','FL_DATE','DEP_DEL15']]\n",
        "df = FL_CONSOLIDATED2019_21_temp1.groupby(['OP_CARRIER_FL_NUM','ORIGIN']).apply(lambda x: x.set_index('FL_DATE').resample('1D').first())\n",
        "df1 = df.groupby(level=0)['DEP_DEL15'].apply(lambda x: x.shift().rolling(min_periods=1,window=30).sum()).reset_index(name='Value_Average_Past_30_days')\n",
        "FL_CONSOLIDATED2019_21_new=pd.merge(FL_CONSOLIDATED2019_21, df1, on=['FL_DATE', 'OP_CARRIER_FL_NUM','ORIGIN'], how='left')\n",
        "FL_CONSOLIDATED2019_21_new.head(100).sort_values(['FL_DATE'],ascending=True)"
      ],
      "execution_count": null,
      "outputs": []
    },
    {
      "cell_type": "markdown",
      "metadata": {
        "id": "3o5ugG_V9uxB"
      },
      "source": [
        "# TAIL_NUM --> DELAY_LASTMONTH_COUNT"
      ]
    },
    {
      "cell_type": "code",
      "metadata": {
        "id": "Ib4YcQUcCqwb"
      },
      "source": [
        "FL_CONSOLIDATED2019_21_temp_tail=FL_CONSOLIDATED2019_21[['TAIL_NUM','FL_DATE','ORIGIN','DEP_DEL15']]\n",
        "df_TAIL = FL_CONSOLIDATED2019_21_temp_tail.groupby(['TAIL_NUM']).apply(lambda x: x.set_index('FL_DATE').resample('1D').first())"
      ],
      "execution_count": null,
      "outputs": []
    },
    {
      "cell_type": "code",
      "metadata": {
        "colab": {
          "base_uri": "https://localhost:8080/",
          "height": 447
        },
        "id": "DzL3ynx_Cqwc",
        "outputId": "83756767-02ac-4035-9c87-4a39a3d3cbdc"
      },
      "source": [
        "df_TAIL.head(100)"
      ],
      "execution_count": null,
      "outputs": [
        {
          "output_type": "execute_result",
          "data": {
            "text/html": [
              "<div>\n",
              "<style scoped>\n",
              "    .dataframe tbody tr th:only-of-type {\n",
              "        vertical-align: middle;\n",
              "    }\n",
              "\n",
              "    .dataframe tbody tr th {\n",
              "        vertical-align: top;\n",
              "    }\n",
              "\n",
              "    .dataframe thead th {\n",
              "        text-align: right;\n",
              "    }\n",
              "</style>\n",
              "<table border=\"1\" class=\"dataframe\">\n",
              "  <thead>\n",
              "    <tr style=\"text-align: right;\">\n",
              "      <th></th>\n",
              "      <th></th>\n",
              "      <th>TAIL_NUM</th>\n",
              "      <th>DEP_DEL15</th>\n",
              "    </tr>\n",
              "    <tr>\n",
              "      <th>TAIL_NUM</th>\n",
              "      <th>FL_DATE</th>\n",
              "      <th></th>\n",
              "      <th></th>\n",
              "    </tr>\n",
              "  </thead>\n",
              "  <tbody>\n",
              "    <tr>\n",
              "      <th rowspan=\"11\" valign=\"top\">215NV</th>\n",
              "      <th>2019-01-01</th>\n",
              "      <td>215NV</td>\n",
              "      <td>0.0</td>\n",
              "    </tr>\n",
              "    <tr>\n",
              "      <th>2019-01-02</th>\n",
              "      <td>215NV</td>\n",
              "      <td>0.0</td>\n",
              "    </tr>\n",
              "    <tr>\n",
              "      <th>2019-01-03</th>\n",
              "      <td>215NV</td>\n",
              "      <td>0.0</td>\n",
              "    </tr>\n",
              "    <tr>\n",
              "      <th>2019-01-04</th>\n",
              "      <td>215NV</td>\n",
              "      <td>0.0</td>\n",
              "    </tr>\n",
              "    <tr>\n",
              "      <th>2019-01-05</th>\n",
              "      <td>215NV</td>\n",
              "      <td>0.0</td>\n",
              "    </tr>\n",
              "    <tr>\n",
              "      <th>...</th>\n",
              "      <td>...</td>\n",
              "      <td>...</td>\n",
              "    </tr>\n",
              "    <tr>\n",
              "      <th>2019-04-06</th>\n",
              "      <td>215NV</td>\n",
              "      <td>0.0</td>\n",
              "    </tr>\n",
              "    <tr>\n",
              "      <th>2019-04-07</th>\n",
              "      <td>215NV</td>\n",
              "      <td>0.0</td>\n",
              "    </tr>\n",
              "    <tr>\n",
              "      <th>2019-04-08</th>\n",
              "      <td>215NV</td>\n",
              "      <td>0.0</td>\n",
              "    </tr>\n",
              "    <tr>\n",
              "      <th>2019-04-09</th>\n",
              "      <td>215NV</td>\n",
              "      <td>1.0</td>\n",
              "    </tr>\n",
              "    <tr>\n",
              "      <th>2019-04-10</th>\n",
              "      <td>215NV</td>\n",
              "      <td>0.0</td>\n",
              "    </tr>\n",
              "  </tbody>\n",
              "</table>\n",
              "<p>100 rows × 2 columns</p>\n",
              "</div>"
            ],
            "text/plain": [
              "                    TAIL_NUM  DEP_DEL15\n",
              "TAIL_NUM FL_DATE                       \n",
              "215NV    2019-01-01    215NV        0.0\n",
              "         2019-01-02    215NV        0.0\n",
              "         2019-01-03    215NV        0.0\n",
              "         2019-01-04    215NV        0.0\n",
              "         2019-01-05    215NV        0.0\n",
              "...                      ...        ...\n",
              "         2019-04-06    215NV        0.0\n",
              "         2019-04-07    215NV        0.0\n",
              "         2019-04-08    215NV        0.0\n",
              "         2019-04-09    215NV        1.0\n",
              "         2019-04-10    215NV        0.0\n",
              "\n",
              "[100 rows x 2 columns]"
            ]
          },
          "metadata": {},
          "execution_count": 32
        }
      ]
    },
    {
      "cell_type": "code",
      "metadata": {
        "id": "xnUKVAXGCqwd"
      },
      "source": [
        "#shift() function Shift index by desired number of periods with an optional time freq.\n",
        "#rolling()--certain number of previous periods in a time series\n",
        "df1_TAIL = df_TAIL.groupby(level=0)['DEP_DEL15'].apply(lambda x: x.shift().rolling(min_periods=1,window=30).sum()).reset_index(name='Value_Average_Past_30_days')"
      ],
      "execution_count": null,
      "outputs": []
    },
    {
      "cell_type": "code",
      "metadata": {
        "colab": {
          "base_uri": "https://localhost:8080/",
          "height": 1000
        },
        "id": "HHt57VtJCqwd",
        "outputId": "cb6a279b-0f91-4836-e813-daae73f43420"
      },
      "source": [
        "df1_TAIL.head(50)"
      ],
      "execution_count": null,
      "outputs": [
        {
          "output_type": "execute_result",
          "data": {
            "text/html": [
              "<div>\n",
              "<style scoped>\n",
              "    .dataframe tbody tr th:only-of-type {\n",
              "        vertical-align: middle;\n",
              "    }\n",
              "\n",
              "    .dataframe tbody tr th {\n",
              "        vertical-align: top;\n",
              "    }\n",
              "\n",
              "    .dataframe thead th {\n",
              "        text-align: right;\n",
              "    }\n",
              "</style>\n",
              "<table border=\"1\" class=\"dataframe\">\n",
              "  <thead>\n",
              "    <tr style=\"text-align: right;\">\n",
              "      <th></th>\n",
              "      <th>TAIL_NUM</th>\n",
              "      <th>FL_DATE</th>\n",
              "      <th>Value_Average_Past_30_days</th>\n",
              "    </tr>\n",
              "  </thead>\n",
              "  <tbody>\n",
              "    <tr>\n",
              "      <th>0</th>\n",
              "      <td>215NV</td>\n",
              "      <td>2019-01-01</td>\n",
              "      <td>NaN</td>\n",
              "    </tr>\n",
              "    <tr>\n",
              "      <th>1</th>\n",
              "      <td>215NV</td>\n",
              "      <td>2019-01-02</td>\n",
              "      <td>0.0</td>\n",
              "    </tr>\n",
              "    <tr>\n",
              "      <th>2</th>\n",
              "      <td>215NV</td>\n",
              "      <td>2019-01-03</td>\n",
              "      <td>0.0</td>\n",
              "    </tr>\n",
              "    <tr>\n",
              "      <th>3</th>\n",
              "      <td>215NV</td>\n",
              "      <td>2019-01-04</td>\n",
              "      <td>0.0</td>\n",
              "    </tr>\n",
              "    <tr>\n",
              "      <th>4</th>\n",
              "      <td>215NV</td>\n",
              "      <td>2019-01-05</td>\n",
              "      <td>0.0</td>\n",
              "    </tr>\n",
              "    <tr>\n",
              "      <th>5</th>\n",
              "      <td>215NV</td>\n",
              "      <td>2019-01-06</td>\n",
              "      <td>0.0</td>\n",
              "    </tr>\n",
              "    <tr>\n",
              "      <th>6</th>\n",
              "      <td>215NV</td>\n",
              "      <td>2019-01-07</td>\n",
              "      <td>0.0</td>\n",
              "    </tr>\n",
              "    <tr>\n",
              "      <th>7</th>\n",
              "      <td>215NV</td>\n",
              "      <td>2019-01-08</td>\n",
              "      <td>0.0</td>\n",
              "    </tr>\n",
              "    <tr>\n",
              "      <th>8</th>\n",
              "      <td>215NV</td>\n",
              "      <td>2019-01-09</td>\n",
              "      <td>0.0</td>\n",
              "    </tr>\n",
              "    <tr>\n",
              "      <th>9</th>\n",
              "      <td>215NV</td>\n",
              "      <td>2019-01-10</td>\n",
              "      <td>0.0</td>\n",
              "    </tr>\n",
              "    <tr>\n",
              "      <th>10</th>\n",
              "      <td>215NV</td>\n",
              "      <td>2019-01-11</td>\n",
              "      <td>0.0</td>\n",
              "    </tr>\n",
              "    <tr>\n",
              "      <th>11</th>\n",
              "      <td>215NV</td>\n",
              "      <td>2019-01-12</td>\n",
              "      <td>1.0</td>\n",
              "    </tr>\n",
              "    <tr>\n",
              "      <th>12</th>\n",
              "      <td>215NV</td>\n",
              "      <td>2019-01-13</td>\n",
              "      <td>1.0</td>\n",
              "    </tr>\n",
              "    <tr>\n",
              "      <th>13</th>\n",
              "      <td>215NV</td>\n",
              "      <td>2019-01-14</td>\n",
              "      <td>1.0</td>\n",
              "    </tr>\n",
              "    <tr>\n",
              "      <th>14</th>\n",
              "      <td>215NV</td>\n",
              "      <td>2019-01-15</td>\n",
              "      <td>1.0</td>\n",
              "    </tr>\n",
              "    <tr>\n",
              "      <th>15</th>\n",
              "      <td>215NV</td>\n",
              "      <td>2019-01-16</td>\n",
              "      <td>1.0</td>\n",
              "    </tr>\n",
              "    <tr>\n",
              "      <th>16</th>\n",
              "      <td>215NV</td>\n",
              "      <td>2019-01-17</td>\n",
              "      <td>1.0</td>\n",
              "    </tr>\n",
              "    <tr>\n",
              "      <th>17</th>\n",
              "      <td>215NV</td>\n",
              "      <td>2019-01-18</td>\n",
              "      <td>1.0</td>\n",
              "    </tr>\n",
              "    <tr>\n",
              "      <th>18</th>\n",
              "      <td>215NV</td>\n",
              "      <td>2019-01-19</td>\n",
              "      <td>1.0</td>\n",
              "    </tr>\n",
              "    <tr>\n",
              "      <th>19</th>\n",
              "      <td>215NV</td>\n",
              "      <td>2019-01-20</td>\n",
              "      <td>1.0</td>\n",
              "    </tr>\n",
              "    <tr>\n",
              "      <th>20</th>\n",
              "      <td>215NV</td>\n",
              "      <td>2019-01-21</td>\n",
              "      <td>1.0</td>\n",
              "    </tr>\n",
              "    <tr>\n",
              "      <th>21</th>\n",
              "      <td>215NV</td>\n",
              "      <td>2019-01-22</td>\n",
              "      <td>2.0</td>\n",
              "    </tr>\n",
              "    <tr>\n",
              "      <th>22</th>\n",
              "      <td>215NV</td>\n",
              "      <td>2019-01-23</td>\n",
              "      <td>2.0</td>\n",
              "    </tr>\n",
              "    <tr>\n",
              "      <th>23</th>\n",
              "      <td>215NV</td>\n",
              "      <td>2019-01-24</td>\n",
              "      <td>2.0</td>\n",
              "    </tr>\n",
              "    <tr>\n",
              "      <th>24</th>\n",
              "      <td>215NV</td>\n",
              "      <td>2019-01-25</td>\n",
              "      <td>3.0</td>\n",
              "    </tr>\n",
              "    <tr>\n",
              "      <th>25</th>\n",
              "      <td>215NV</td>\n",
              "      <td>2019-01-26</td>\n",
              "      <td>3.0</td>\n",
              "    </tr>\n",
              "    <tr>\n",
              "      <th>26</th>\n",
              "      <td>215NV</td>\n",
              "      <td>2019-01-27</td>\n",
              "      <td>3.0</td>\n",
              "    </tr>\n",
              "    <tr>\n",
              "      <th>27</th>\n",
              "      <td>215NV</td>\n",
              "      <td>2019-01-28</td>\n",
              "      <td>3.0</td>\n",
              "    </tr>\n",
              "    <tr>\n",
              "      <th>28</th>\n",
              "      <td>215NV</td>\n",
              "      <td>2019-01-29</td>\n",
              "      <td>3.0</td>\n",
              "    </tr>\n",
              "    <tr>\n",
              "      <th>29</th>\n",
              "      <td>215NV</td>\n",
              "      <td>2019-01-30</td>\n",
              "      <td>3.0</td>\n",
              "    </tr>\n",
              "    <tr>\n",
              "      <th>30</th>\n",
              "      <td>215NV</td>\n",
              "      <td>2019-01-31</td>\n",
              "      <td>3.0</td>\n",
              "    </tr>\n",
              "    <tr>\n",
              "      <th>31</th>\n",
              "      <td>215NV</td>\n",
              "      <td>2019-02-01</td>\n",
              "      <td>3.0</td>\n",
              "    </tr>\n",
              "    <tr>\n",
              "      <th>32</th>\n",
              "      <td>215NV</td>\n",
              "      <td>2019-02-02</td>\n",
              "      <td>3.0</td>\n",
              "    </tr>\n",
              "    <tr>\n",
              "      <th>33</th>\n",
              "      <td>215NV</td>\n",
              "      <td>2019-02-03</td>\n",
              "      <td>3.0</td>\n",
              "    </tr>\n",
              "    <tr>\n",
              "      <th>34</th>\n",
              "      <td>215NV</td>\n",
              "      <td>2019-02-04</td>\n",
              "      <td>3.0</td>\n",
              "    </tr>\n",
              "    <tr>\n",
              "      <th>35</th>\n",
              "      <td>215NV</td>\n",
              "      <td>2019-02-05</td>\n",
              "      <td>4.0</td>\n",
              "    </tr>\n",
              "    <tr>\n",
              "      <th>36</th>\n",
              "      <td>215NV</td>\n",
              "      <td>2019-02-06</td>\n",
              "      <td>4.0</td>\n",
              "    </tr>\n",
              "    <tr>\n",
              "      <th>37</th>\n",
              "      <td>215NV</td>\n",
              "      <td>2019-02-07</td>\n",
              "      <td>4.0</td>\n",
              "    </tr>\n",
              "    <tr>\n",
              "      <th>38</th>\n",
              "      <td>215NV</td>\n",
              "      <td>2019-02-08</td>\n",
              "      <td>4.0</td>\n",
              "    </tr>\n",
              "    <tr>\n",
              "      <th>39</th>\n",
              "      <td>215NV</td>\n",
              "      <td>2019-02-09</td>\n",
              "      <td>4.0</td>\n",
              "    </tr>\n",
              "    <tr>\n",
              "      <th>40</th>\n",
              "      <td>215NV</td>\n",
              "      <td>2019-02-10</td>\n",
              "      <td>4.0</td>\n",
              "    </tr>\n",
              "    <tr>\n",
              "      <th>41</th>\n",
              "      <td>215NV</td>\n",
              "      <td>2019-02-11</td>\n",
              "      <td>3.0</td>\n",
              "    </tr>\n",
              "    <tr>\n",
              "      <th>42</th>\n",
              "      <td>215NV</td>\n",
              "      <td>2019-02-12</td>\n",
              "      <td>3.0</td>\n",
              "    </tr>\n",
              "    <tr>\n",
              "      <th>43</th>\n",
              "      <td>215NV</td>\n",
              "      <td>2019-02-13</td>\n",
              "      <td>3.0</td>\n",
              "    </tr>\n",
              "    <tr>\n",
              "      <th>44</th>\n",
              "      <td>215NV</td>\n",
              "      <td>2019-02-14</td>\n",
              "      <td>3.0</td>\n",
              "    </tr>\n",
              "    <tr>\n",
              "      <th>45</th>\n",
              "      <td>215NV</td>\n",
              "      <td>2019-02-15</td>\n",
              "      <td>3.0</td>\n",
              "    </tr>\n",
              "    <tr>\n",
              "      <th>46</th>\n",
              "      <td>215NV</td>\n",
              "      <td>2019-02-16</td>\n",
              "      <td>3.0</td>\n",
              "    </tr>\n",
              "    <tr>\n",
              "      <th>47</th>\n",
              "      <td>215NV</td>\n",
              "      <td>2019-02-17</td>\n",
              "      <td>3.0</td>\n",
              "    </tr>\n",
              "    <tr>\n",
              "      <th>48</th>\n",
              "      <td>215NV</td>\n",
              "      <td>2019-02-18</td>\n",
              "      <td>4.0</td>\n",
              "    </tr>\n",
              "    <tr>\n",
              "      <th>49</th>\n",
              "      <td>215NV</td>\n",
              "      <td>2019-02-19</td>\n",
              "      <td>4.0</td>\n",
              "    </tr>\n",
              "  </tbody>\n",
              "</table>\n",
              "</div>"
            ],
            "text/plain": [
              "   TAIL_NUM    FL_DATE  Value_Average_Past_30_days\n",
              "0     215NV 2019-01-01                         NaN\n",
              "1     215NV 2019-01-02                         0.0\n",
              "2     215NV 2019-01-03                         0.0\n",
              "3     215NV 2019-01-04                         0.0\n",
              "4     215NV 2019-01-05                         0.0\n",
              "5     215NV 2019-01-06                         0.0\n",
              "6     215NV 2019-01-07                         0.0\n",
              "7     215NV 2019-01-08                         0.0\n",
              "8     215NV 2019-01-09                         0.0\n",
              "9     215NV 2019-01-10                         0.0\n",
              "10    215NV 2019-01-11                         0.0\n",
              "11    215NV 2019-01-12                         1.0\n",
              "12    215NV 2019-01-13                         1.0\n",
              "13    215NV 2019-01-14                         1.0\n",
              "14    215NV 2019-01-15                         1.0\n",
              "15    215NV 2019-01-16                         1.0\n",
              "16    215NV 2019-01-17                         1.0\n",
              "17    215NV 2019-01-18                         1.0\n",
              "18    215NV 2019-01-19                         1.0\n",
              "19    215NV 2019-01-20                         1.0\n",
              "20    215NV 2019-01-21                         1.0\n",
              "21    215NV 2019-01-22                         2.0\n",
              "22    215NV 2019-01-23                         2.0\n",
              "23    215NV 2019-01-24                         2.0\n",
              "24    215NV 2019-01-25                         3.0\n",
              "25    215NV 2019-01-26                         3.0\n",
              "26    215NV 2019-01-27                         3.0\n",
              "27    215NV 2019-01-28                         3.0\n",
              "28    215NV 2019-01-29                         3.0\n",
              "29    215NV 2019-01-30                         3.0\n",
              "30    215NV 2019-01-31                         3.0\n",
              "31    215NV 2019-02-01                         3.0\n",
              "32    215NV 2019-02-02                         3.0\n",
              "33    215NV 2019-02-03                         3.0\n",
              "34    215NV 2019-02-04                         3.0\n",
              "35    215NV 2019-02-05                         4.0\n",
              "36    215NV 2019-02-06                         4.0\n",
              "37    215NV 2019-02-07                         4.0\n",
              "38    215NV 2019-02-08                         4.0\n",
              "39    215NV 2019-02-09                         4.0\n",
              "40    215NV 2019-02-10                         4.0\n",
              "41    215NV 2019-02-11                         3.0\n",
              "42    215NV 2019-02-12                         3.0\n",
              "43    215NV 2019-02-13                         3.0\n",
              "44    215NV 2019-02-14                         3.0\n",
              "45    215NV 2019-02-15                         3.0\n",
              "46    215NV 2019-02-16                         3.0\n",
              "47    215NV 2019-02-17                         3.0\n",
              "48    215NV 2019-02-18                         4.0\n",
              "49    215NV 2019-02-19                         4.0"
            ]
          },
          "metadata": {},
          "execution_count": 34
        }
      ]
    },
    {
      "cell_type": "code",
      "metadata": {
        "id": "q4dD9MKBCqwd"
      },
      "source": [
        "FL_CONSOLIDATED2019_21_new_TAIL=pd.merge(FL_CONSOLIDATED2019_21, df1_TAIL, on=['FL_DATE', 'TAIL_NUM'], how='left')"
      ],
      "execution_count": null,
      "outputs": []
    },
    {
      "cell_type": "code",
      "metadata": {
        "id": "zNjPXu_ECqwe"
      },
      "source": [
        "#FL_CONSOLIDATED2019_21_new_TAIL=FL_CONSOLIDATED2019_21_new_TAIL.drop(columns=['Value_Average_Past_30_days_y'] ,axis=1)"
      ],
      "execution_count": null,
      "outputs": []
    },
    {
      "cell_type": "code",
      "metadata": {
        "colab": {
          "base_uri": "https://localhost:8080/",
          "height": 605
        },
        "id": "5kMa_nsFCqwe",
        "outputId": "852bccea-d5dc-4577-f1ed-8933f413100f"
      },
      "source": [
        "FL_CONSOLIDATED2019_21_new_TAIL.head(100).sort_values(['FL_DATE'],ascending=True)"
      ],
      "execution_count": null,
      "outputs": [
        {
          "output_type": "execute_result",
          "data": {
            "text/html": [
              "<div>\n",
              "<style scoped>\n",
              "    .dataframe tbody tr th:only-of-type {\n",
              "        vertical-align: middle;\n",
              "    }\n",
              "\n",
              "    .dataframe tbody tr th {\n",
              "        vertical-align: top;\n",
              "    }\n",
              "\n",
              "    .dataframe thead th {\n",
              "        text-align: right;\n",
              "    }\n",
              "</style>\n",
              "<table border=\"1\" class=\"dataframe\">\n",
              "  <thead>\n",
              "    <tr style=\"text-align: right;\">\n",
              "      <th></th>\n",
              "      <th>QUARTER</th>\n",
              "      <th>MONTH</th>\n",
              "      <th>DAY_OF_WEEK</th>\n",
              "      <th>FL_DATE</th>\n",
              "      <th>OP_CARRIER</th>\n",
              "      <th>TAIL_NUM</th>\n",
              "      <th>OP_CARRIER_FL_NUM</th>\n",
              "      <th>ORIGIN</th>\n",
              "      <th>DEP_DELAY</th>\n",
              "      <th>DEP_DEL15</th>\n",
              "      <th>TAXI_OUT</th>\n",
              "      <th>WHEELS_OFF</th>\n",
              "      <th>CRS_ELAPSED_TIME</th>\n",
              "      <th>DISTANCE</th>\n",
              "      <th>CARRIER_DELAY</th>\n",
              "      <th>WEATHER_DELAY</th>\n",
              "      <th>NAS_DELAY</th>\n",
              "      <th>SECURITY_DELAY</th>\n",
              "      <th>LATE_AIRCRAFT_DELAY</th>\n",
              "      <th>WEEK_OF_MONTH</th>\n",
              "      <th>DAY_OF_WEEK_days_end</th>\n",
              "      <th>DEP_TIMEslot_BLK</th>\n",
              "      <th>Dep_period</th>\n",
              "      <th>Value_Average_Past_30_days</th>\n",
              "    </tr>\n",
              "  </thead>\n",
              "  <tbody>\n",
              "    <tr>\n",
              "      <th>80</th>\n",
              "      <td>1</td>\n",
              "      <td>1</td>\n",
              "      <td>2</td>\n",
              "      <td>2019-01-01</td>\n",
              "      <td>9E</td>\n",
              "      <td>N922XJ</td>\n",
              "      <td>3444</td>\n",
              "      <td>JFK</td>\n",
              "      <td>-8.0</td>\n",
              "      <td>0.0</td>\n",
              "      <td>10.0</td>\n",
              "      <td>1132.0</td>\n",
              "      <td>114.0</td>\n",
              "      <td>427.0</td>\n",
              "      <td>NaN</td>\n",
              "      <td>NaN</td>\n",
              "      <td>NaN</td>\n",
              "      <td>NaN</td>\n",
              "      <td>NaN</td>\n",
              "      <td>1</td>\n",
              "      <td>0</td>\n",
              "      <td>11</td>\n",
              "      <td>Morning</td>\n",
              "      <td>NaN</td>\n",
              "    </tr>\n",
              "    <tr>\n",
              "      <th>43</th>\n",
              "      <td>1</td>\n",
              "      <td>1</td>\n",
              "      <td>2</td>\n",
              "      <td>2019-01-01</td>\n",
              "      <td>9E</td>\n",
              "      <td>N8974C</td>\n",
              "      <td>3443</td>\n",
              "      <td>AVL</td>\n",
              "      <td>-7.0</td>\n",
              "      <td>0.0</td>\n",
              "      <td>16.0</td>\n",
              "      <td>1714.0</td>\n",
              "      <td>75.0</td>\n",
              "      <td>164.0</td>\n",
              "      <td>NaN</td>\n",
              "      <td>NaN</td>\n",
              "      <td>NaN</td>\n",
              "      <td>NaN</td>\n",
              "      <td>NaN</td>\n",
              "      <td>1</td>\n",
              "      <td>0</td>\n",
              "      <td>16</td>\n",
              "      <td>Afternoon</td>\n",
              "      <td>NaN</td>\n",
              "    </tr>\n",
              "    <tr>\n",
              "      <th>44</th>\n",
              "      <td>1</td>\n",
              "      <td>1</td>\n",
              "      <td>4</td>\n",
              "      <td>2019-01-03</td>\n",
              "      <td>9E</td>\n",
              "      <td>N933XJ</td>\n",
              "      <td>3443</td>\n",
              "      <td>JFK</td>\n",
              "      <td>-2.0</td>\n",
              "      <td>0.0</td>\n",
              "      <td>16.0</td>\n",
              "      <td>1829.0</td>\n",
              "      <td>142.0</td>\n",
              "      <td>589.0</td>\n",
              "      <td>NaN</td>\n",
              "      <td>NaN</td>\n",
              "      <td>NaN</td>\n",
              "      <td>NaN</td>\n",
              "      <td>NaN</td>\n",
              "      <td>1</td>\n",
              "      <td>0</td>\n",
              "      <td>18</td>\n",
              "      <td>Evening</td>\n",
              "      <td>0.0</td>\n",
              "    </tr>\n",
              "    <tr>\n",
              "      <th>45</th>\n",
              "      <td>1</td>\n",
              "      <td>1</td>\n",
              "      <td>5</td>\n",
              "      <td>2019-01-04</td>\n",
              "      <td>9E</td>\n",
              "      <td>N137EV</td>\n",
              "      <td>3443</td>\n",
              "      <td>JFK</td>\n",
              "      <td>16.0</td>\n",
              "      <td>1.0</td>\n",
              "      <td>25.0</td>\n",
              "      <td>1856.0</td>\n",
              "      <td>142.0</td>\n",
              "      <td>589.0</td>\n",
              "      <td>NaN</td>\n",
              "      <td>NaN</td>\n",
              "      <td>NaN</td>\n",
              "      <td>NaN</td>\n",
              "      <td>NaN</td>\n",
              "      <td>1</td>\n",
              "      <td>0</td>\n",
              "      <td>18</td>\n",
              "      <td>Evening</td>\n",
              "      <td>0.0</td>\n",
              "    </tr>\n",
              "    <tr>\n",
              "      <th>75</th>\n",
              "      <td>1</td>\n",
              "      <td>1</td>\n",
              "      <td>6</td>\n",
              "      <td>2019-01-05</td>\n",
              "      <td>9E</td>\n",
              "      <td>N8837B</td>\n",
              "      <td>3444</td>\n",
              "      <td>CVG</td>\n",
              "      <td>-8.0</td>\n",
              "      <td>0.0</td>\n",
              "      <td>40.0</td>\n",
              "      <td>932.0</td>\n",
              "      <td>89.0</td>\n",
              "      <td>390.0</td>\n",
              "      <td>NaN</td>\n",
              "      <td>NaN</td>\n",
              "      <td>NaN</td>\n",
              "      <td>NaN</td>\n",
              "      <td>NaN</td>\n",
              "      <td>1</td>\n",
              "      <td>1</td>\n",
              "      <td>8</td>\n",
              "      <td>Morning</td>\n",
              "      <td>0.0</td>\n",
              "    </tr>\n",
              "    <tr>\n",
              "      <th>...</th>\n",
              "      <td>...</td>\n",
              "      <td>...</td>\n",
              "      <td>...</td>\n",
              "      <td>...</td>\n",
              "      <td>...</td>\n",
              "      <td>...</td>\n",
              "      <td>...</td>\n",
              "      <td>...</td>\n",
              "      <td>...</td>\n",
              "      <td>...</td>\n",
              "      <td>...</td>\n",
              "      <td>...</td>\n",
              "      <td>...</td>\n",
              "      <td>...</td>\n",
              "      <td>...</td>\n",
              "      <td>...</td>\n",
              "      <td>...</td>\n",
              "      <td>...</td>\n",
              "      <td>...</td>\n",
              "      <td>...</td>\n",
              "      <td>...</td>\n",
              "      <td>...</td>\n",
              "      <td>...</td>\n",
              "      <td>...</td>\n",
              "    </tr>\n",
              "    <tr>\n",
              "      <th>41</th>\n",
              "      <td>1</td>\n",
              "      <td>1</td>\n",
              "      <td>3</td>\n",
              "      <td>2019-01-30</td>\n",
              "      <td>9E</td>\n",
              "      <td>N8896A</td>\n",
              "      <td>3442</td>\n",
              "      <td>SDF</td>\n",
              "      <td>-5.0</td>\n",
              "      <td>0.0</td>\n",
              "      <td>12.0</td>\n",
              "      <td>1137.0</td>\n",
              "      <td>91.0</td>\n",
              "      <td>306.0</td>\n",
              "      <td>NaN</td>\n",
              "      <td>NaN</td>\n",
              "      <td>NaN</td>\n",
              "      <td>NaN</td>\n",
              "      <td>NaN</td>\n",
              "      <td>5</td>\n",
              "      <td>0</td>\n",
              "      <td>11</td>\n",
              "      <td>Morning</td>\n",
              "      <td>5.0</td>\n",
              "    </tr>\n",
              "    <tr>\n",
              "      <th>20</th>\n",
              "      <td>1</td>\n",
              "      <td>1</td>\n",
              "      <td>4</td>\n",
              "      <td>2019-01-31</td>\n",
              "      <td>9E</td>\n",
              "      <td>N981EV</td>\n",
              "      <td>3442</td>\n",
              "      <td>DTW</td>\n",
              "      <td>9.0</td>\n",
              "      <td>0.0</td>\n",
              "      <td>22.0</td>\n",
              "      <td>906.0</td>\n",
              "      <td>111.0</td>\n",
              "      <td>306.0</td>\n",
              "      <td>NaN</td>\n",
              "      <td>NaN</td>\n",
              "      <td>NaN</td>\n",
              "      <td>NaN</td>\n",
              "      <td>NaN</td>\n",
              "      <td>5</td>\n",
              "      <td>0</td>\n",
              "      <td>8</td>\n",
              "      <td>Morning</td>\n",
              "      <td>3.0</td>\n",
              "    </tr>\n",
              "    <tr>\n",
              "      <th>42</th>\n",
              "      <td>1</td>\n",
              "      <td>1</td>\n",
              "      <td>4</td>\n",
              "      <td>2019-01-31</td>\n",
              "      <td>9E</td>\n",
              "      <td>N981EV</td>\n",
              "      <td>3442</td>\n",
              "      <td>SDF</td>\n",
              "      <td>-5.0</td>\n",
              "      <td>0.0</td>\n",
              "      <td>12.0</td>\n",
              "      <td>1137.0</td>\n",
              "      <td>91.0</td>\n",
              "      <td>306.0</td>\n",
              "      <td>NaN</td>\n",
              "      <td>NaN</td>\n",
              "      <td>NaN</td>\n",
              "      <td>NaN</td>\n",
              "      <td>NaN</td>\n",
              "      <td>5</td>\n",
              "      <td>0</td>\n",
              "      <td>11</td>\n",
              "      <td>Morning</td>\n",
              "      <td>3.0</td>\n",
              "    </tr>\n",
              "    <tr>\n",
              "      <th>98</th>\n",
              "      <td>1</td>\n",
              "      <td>1</td>\n",
              "      <td>4</td>\n",
              "      <td>2019-01-31</td>\n",
              "      <td>9E</td>\n",
              "      <td>N134EV</td>\n",
              "      <td>3444</td>\n",
              "      <td>MCI</td>\n",
              "      <td>-1.0</td>\n",
              "      <td>0.0</td>\n",
              "      <td>16.0</td>\n",
              "      <td>630.0</td>\n",
              "      <td>181.0</td>\n",
              "      <td>1107.0</td>\n",
              "      <td>NaN</td>\n",
              "      <td>NaN</td>\n",
              "      <td>NaN</td>\n",
              "      <td>NaN</td>\n",
              "      <td>NaN</td>\n",
              "      <td>5</td>\n",
              "      <td>0</td>\n",
              "      <td>6</td>\n",
              "      <td>Early morning</td>\n",
              "      <td>3.0</td>\n",
              "    </tr>\n",
              "    <tr>\n",
              "      <th>72</th>\n",
              "      <td>1</td>\n",
              "      <td>1</td>\n",
              "      <td>4</td>\n",
              "      <td>2019-01-31</td>\n",
              "      <td>9E</td>\n",
              "      <td>N336PQ</td>\n",
              "      <td>3443</td>\n",
              "      <td>JFK</td>\n",
              "      <td>54.0</td>\n",
              "      <td>1.0</td>\n",
              "      <td>25.0</td>\n",
              "      <td>1939.0</td>\n",
              "      <td>144.0</td>\n",
              "      <td>589.0</td>\n",
              "      <td>0.0</td>\n",
              "      <td>0.0</td>\n",
              "      <td>9.0</td>\n",
              "      <td>0.0</td>\n",
              "      <td>33.0</td>\n",
              "      <td>5</td>\n",
              "      <td>0</td>\n",
              "      <td>19</td>\n",
              "      <td>Evening</td>\n",
              "      <td>7.0</td>\n",
              "    </tr>\n",
              "  </tbody>\n",
              "</table>\n",
              "<p>100 rows × 24 columns</p>\n",
              "</div>"
            ],
            "text/plain": [
              "    QUARTER  MONTH  ...     Dep_period Value_Average_Past_30_days\n",
              "80        1      1  ...        Morning                        NaN\n",
              "43        1      1  ...      Afternoon                        NaN\n",
              "44        1      1  ...        Evening                        0.0\n",
              "45        1      1  ...        Evening                        0.0\n",
              "75        1      1  ...        Morning                        0.0\n",
              "..      ...    ...  ...            ...                        ...\n",
              "41        1      1  ...        Morning                        5.0\n",
              "20        1      1  ...        Morning                        3.0\n",
              "42        1      1  ...        Morning                        3.0\n",
              "98        1      1  ...  Early morning                        3.0\n",
              "72        1      1  ...        Evening                        7.0\n",
              "\n",
              "[100 rows x 24 columns]"
            ]
          },
          "metadata": {},
          "execution_count": 41
        }
      ]
    },
    {
      "cell_type": "markdown",
      "metadata": {
        "id": "7ECma8NWlJoo"
      },
      "source": [
        "## DELAY_LASTWEEK_COUNT"
      ]
    },
    {
      "cell_type": "code",
      "metadata": {
        "id": "f2i2Kk2USf26"
      },
      "source": [
        "#weekNumber = FL_CONSOLIDATED2019_21['FL_DATE'].dt.week\n",
        "#weekNumber.head()"
      ],
      "execution_count": null,
      "outputs": []
    },
    {
      "cell_type": "code",
      "metadata": {
        "id": "H9NXdS2FlPpN"
      },
      "source": [
        "#weekNumber = FL_CONSOLIDATED2019_21['FL_DATE'].dt.week\n",
        "#filtered_lastweek_df = filtered_lastmonth_df.loc[(filtered_lastmonth_df['WEEK_OF_MONTH'] == 5)]"
      ],
      "execution_count": null,
      "outputs": []
    },
    {
      "cell_type": "code",
      "metadata": {
        "id": "sSgQxyEWlQNn"
      },
      "source": [
        "#FL_CONSOLIDATED2019_21['DELAY_lastWEEK_COUNT']=filtered_lastweek_df.groupby(['OP_CARRIER_FL_NUM'])['DEP_DEL15'].sum()"
      ],
      "execution_count": null,
      "outputs": []
    },
    {
      "cell_type": "code",
      "metadata": {
        "id": "RYZSP-0HlQpI"
      },
      "source": [
        "#FL_CONSOLIDATED2019_21[['OP_CARRIER_FL_NUM','DELAY_lastmonth_COUNT','DELAY_lastWEEK_COUNT']].head()"
      ],
      "execution_count": null,
      "outputs": []
    }
  ]
}