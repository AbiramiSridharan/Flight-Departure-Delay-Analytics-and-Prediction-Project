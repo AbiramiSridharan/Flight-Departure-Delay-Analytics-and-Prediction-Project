{
  "nbformat": 4,
  "nbformat_minor": 0,
  "metadata": {
    "colab": {
      "name": "flight  arrival delay prediction part .ipynb",
      "provenance": [],
      "collapsed_sections": [],
      "toc_visible": true
    },
    "kernelspec": {
      "display_name": "Python 3",
      "name": "python3"
    },
    "language_info": {
      "name": "python"
    }
  },
  "cells": [
    {
      "cell_type": "code",
      "metadata": {
        "colab": {
          "base_uri": "https://localhost:8080/"
        },
        "id": "JWkqDj9an92E",
        "outputId": "366211e3-ca84-45ec-9d13-9b4b757e8551"
      },
      "source": [
        "import pandas as pd\n",
        "import numpy as np\n",
        "from scipy import stats\n",
        "import matplotlib.dates as mtd\n",
        "import seaborn as sns\n",
        "import matplotlib.pyplot as plt\n",
        "import seaborn as sns\n",
        "from imblearn.over_sampling import SMOTE\n",
        "from sklearn.model_selection import train_test_split\n",
        "from sklearn import tree\n",
        "from sklearn.metrics import confusion_matrix, classification_report, plot_roc_curve,accuracy_score\n",
        "from sklearn.preprocessing import RobustScaler\n",
        "from sklearn.preprocessing import MinMaxScaler\n",
        "from sklearn.preprocessing import StandardScaler\n",
        "from sklearn.ensemble import RandomForestClassifier  \n",
        "from sklearn.linear_model import LogisticRegression \n",
        "from collections import Counter\n",
        "from sklearn.pipeline import Pipeline\n",
        "from sklearn.model_selection import KFold\n",
        "from numpy import mean\n",
        "from sklearn import metrics\n",
        "from xgboost import XGBClassifier\n",
        "from sklearn.pipeline import Pipeline\n",
        "from imblearn.pipeline import make_pipeline\n",
        "from sklearn.model_selection import StratifiedKFold\n",
        "from sklearn.model_selection import cross_val_score\n",
        "from sklearn.model_selection import cross_val_predict\n",
        "from sklearn.decomposition import PCA\n",
        "import warnings\n",
        "warnings.filterwarnings('ignore')"
      ],
      "execution_count": null,
      "outputs": [
        {
          "name": "stderr",
          "output_type": "stream",
          "text": [
            "/usr/local/lib/python3.7/dist-packages/sklearn/externals/six.py:31: FutureWarning: The module is deprecated in version 0.21 and will be removed in version 0.23 since we've dropped support for Python 2.7. Please rely on the official version of six (https://pypi.org/project/six/).\n",
            "  \"(https://pypi.org/project/six/).\", FutureWarning)\n",
            "/usr/local/lib/python3.7/dist-packages/sklearn/utils/deprecation.py:144: FutureWarning: The sklearn.neighbors.base module is  deprecated in version 0.22 and will be removed in version 0.24. The corresponding classes / functions should instead be imported from sklearn.neighbors. Anything that cannot be imported from sklearn.neighbors is now part of the private API.\n",
            "  warnings.warn(message, FutureWarning)\n"
          ]
        }
      ]
    },
    {
      "cell_type": "code",
      "metadata": {
        "colab": {
          "base_uri": "https://localhost:8080/",
          "height": 313
        },
        "id": "zJi4Yxj-qj6H",
        "outputId": "36a53099-277e-436c-dc7e-2aaa90ded641"
      },
      "source": [
        "flightsampledata = pd.read_csv('/content/drive/MyDrive/AbiML/Internship Tasks/internshipDatas/Systematic_sampling_10%_Flight_dataset1_new.csv')\n",
        "flightsampledata.head()"
      ],
      "execution_count": null,
      "outputs": [
        {
          "data": {
            "text/html": [
              "<div>\n",
              "<style scoped>\n",
              "    .dataframe tbody tr th:only-of-type {\n",
              "        vertical-align: middle;\n",
              "    }\n",
              "\n",
              "    .dataframe tbody tr th {\n",
              "        vertical-align: top;\n",
              "    }\n",
              "\n",
              "    .dataframe thead th {\n",
              "        text-align: right;\n",
              "    }\n",
              "</style>\n",
              "<table border=\"1\" class=\"dataframe\">\n",
              "  <thead>\n",
              "    <tr style=\"text-align: right;\">\n",
              "      <th></th>\n",
              "      <th>YEAR</th>\n",
              "      <th>QUARTER</th>\n",
              "      <th>MONTH</th>\n",
              "      <th>DAY_OF_MONTH</th>\n",
              "      <th>DAY_OF_WEEK</th>\n",
              "      <th>FL_DATE</th>\n",
              "      <th>MKT_UNIQUE_CARRIER</th>\n",
              "      <th>BRANDED_CODE_SHARE</th>\n",
              "      <th>MKT_CARRIER_AIRLINE_ID</th>\n",
              "      <th>MKT_CARRIER</th>\n",
              "      <th>MKT_CARRIER_FL_NUM</th>\n",
              "      <th>SCH_OP_UNIQUE_CARRIER</th>\n",
              "      <th>SCH_OP_CARRIER_AIRLINE_ID</th>\n",
              "      <th>SCH_OP_CARRIER</th>\n",
              "      <th>SCH_OP_CARRIER_FL_NUM</th>\n",
              "      <th>OP_UNIQUE_CARRIER</th>\n",
              "      <th>OP_CARRIER_AIRLINE_ID</th>\n",
              "      <th>OP_CARRIER</th>\n",
              "      <th>TAIL_NUM</th>\n",
              "      <th>OP_CARRIER_FL_NUM</th>\n",
              "      <th>ORIGIN_AIRPORT_ID</th>\n",
              "      <th>ORIGIN_AIRPORT_SEQ_ID</th>\n",
              "      <th>ORIGIN_CITY_MARKET_ID</th>\n",
              "      <th>ORIGIN</th>\n",
              "      <th>ORIGIN_CITY_NAME</th>\n",
              "      <th>ORIGIN_STATE_ABR</th>\n",
              "      <th>ORIGIN_STATE_FIPS</th>\n",
              "      <th>ORIGIN_STATE_NM</th>\n",
              "      <th>ORIGIN_WAC</th>\n",
              "      <th>DEST_AIRPORT_ID</th>\n",
              "      <th>DEST_AIRPORT_SEQ_ID</th>\n",
              "      <th>DEST_CITY_MARKET_ID</th>\n",
              "      <th>DEST</th>\n",
              "      <th>DEST_CITY_NAME</th>\n",
              "      <th>DEST_STATE_ABR</th>\n",
              "      <th>DEST_STATE_FIPS</th>\n",
              "      <th>DEST_STATE_NM</th>\n",
              "      <th>DEST_WAC</th>\n",
              "      <th>CRS_DEP_TIME</th>\n",
              "      <th>DEP_TIME</th>\n",
              "      <th>DEP_DELAY</th>\n",
              "      <th>DEP_DELAY_NEW</th>\n",
              "      <th>DEP_DEL15</th>\n",
              "      <th>DEP_DELAY_GROUP</th>\n",
              "      <th>DEP_TIME_BLK</th>\n",
              "      <th>TAXI_OUT</th>\n",
              "      <th>WHEELS_OFF</th>\n",
              "      <th>WHEELS_ON</th>\n",
              "      <th>TAXI_IN</th>\n",
              "      <th>CRS_ARR_TIME</th>\n",
              "      <th>ARR_TIME</th>\n",
              "      <th>ARR_DELAY</th>\n",
              "      <th>ARR_DELAY_NEW</th>\n",
              "      <th>ARR_DEL15</th>\n",
              "      <th>ARR_DELAY_GROUP</th>\n",
              "      <th>ARR_TIME_BLK</th>\n",
              "      <th>CANCELLED</th>\n",
              "      <th>CANCELLATION_CODE</th>\n",
              "      <th>DIVERTED</th>\n",
              "      <th>DUP</th>\n",
              "      <th>CRS_ELAPSED_TIME</th>\n",
              "      <th>ACTUAL_ELAPSED_TIME</th>\n",
              "      <th>AIR_TIME</th>\n",
              "      <th>FLIGHTS</th>\n",
              "      <th>DISTANCE</th>\n",
              "      <th>DISTANCE_GROUP</th>\n",
              "      <th>CARRIER_DELAY</th>\n",
              "      <th>WEATHER_DELAY</th>\n",
              "      <th>NAS_DELAY</th>\n",
              "      <th>SECURITY_DELAY</th>\n",
              "      <th>LATE_AIRCRAFT_DELAY</th>\n",
              "      <th>FIRST_DEP_TIME</th>\n",
              "      <th>TOTAL_ADD_GTIME</th>\n",
              "      <th>LONGEST_ADD_GTIME</th>\n",
              "    </tr>\n",
              "  </thead>\n",
              "  <tbody>\n",
              "    <tr>\n",
              "      <th>0</th>\n",
              "      <td>2021</td>\n",
              "      <td>1</td>\n",
              "      <td>1</td>\n",
              "      <td>17</td>\n",
              "      <td>7</td>\n",
              "      <td>2021-01-17</td>\n",
              "      <td>DL</td>\n",
              "      <td>DL</td>\n",
              "      <td>19790</td>\n",
              "      <td>DL</td>\n",
              "      <td>1089</td>\n",
              "      <td>NaN</td>\n",
              "      <td>NaN</td>\n",
              "      <td>NaN</td>\n",
              "      <td>NaN</td>\n",
              "      <td>DL</td>\n",
              "      <td>19790</td>\n",
              "      <td>DL</td>\n",
              "      <td>N326NB</td>\n",
              "      <td>1089</td>\n",
              "      <td>11298</td>\n",
              "      <td>1129806</td>\n",
              "      <td>30194</td>\n",
              "      <td>DFW</td>\n",
              "      <td>Dallas/Fort Worth, TX</td>\n",
              "      <td>TX</td>\n",
              "      <td>48</td>\n",
              "      <td>Texas</td>\n",
              "      <td>74</td>\n",
              "      <td>11433</td>\n",
              "      <td>1143302</td>\n",
              "      <td>31295</td>\n",
              "      <td>DTW</td>\n",
              "      <td>Detroit, MI</td>\n",
              "      <td>MI</td>\n",
              "      <td>26</td>\n",
              "      <td>Michigan</td>\n",
              "      <td>43</td>\n",
              "      <td>1153</td>\n",
              "      <td>1151.0</td>\n",
              "      <td>-2.0</td>\n",
              "      <td>0.0</td>\n",
              "      <td>0.0</td>\n",
              "      <td>-1.0</td>\n",
              "      <td>1100-1159</td>\n",
              "      <td>28.0</td>\n",
              "      <td>1219.0</td>\n",
              "      <td>1525.0</td>\n",
              "      <td>11.0</td>\n",
              "      <td>1523</td>\n",
              "      <td>1536.0</td>\n",
              "      <td>13.0</td>\n",
              "      <td>13.0</td>\n",
              "      <td>0.0</td>\n",
              "      <td>0.0</td>\n",
              "      <td>1500-1559</td>\n",
              "      <td>0.0</td>\n",
              "      <td>NaN</td>\n",
              "      <td>0.0</td>\n",
              "      <td>N</td>\n",
              "      <td>150.0</td>\n",
              "      <td>165.0</td>\n",
              "      <td>126.0</td>\n",
              "      <td>1.0</td>\n",
              "      <td>986.0</td>\n",
              "      <td>4</td>\n",
              "      <td>NaN</td>\n",
              "      <td>NaN</td>\n",
              "      <td>NaN</td>\n",
              "      <td>NaN</td>\n",
              "      <td>NaN</td>\n",
              "      <td>NaN</td>\n",
              "      <td>NaN</td>\n",
              "      <td>NaN</td>\n",
              "    </tr>\n",
              "    <tr>\n",
              "      <th>1</th>\n",
              "      <td>2021</td>\n",
              "      <td>1</td>\n",
              "      <td>1</td>\n",
              "      <td>17</td>\n",
              "      <td>7</td>\n",
              "      <td>2021-01-17</td>\n",
              "      <td>DL</td>\n",
              "      <td>DL</td>\n",
              "      <td>19790</td>\n",
              "      <td>DL</td>\n",
              "      <td>1097</td>\n",
              "      <td>NaN</td>\n",
              "      <td>NaN</td>\n",
              "      <td>NaN</td>\n",
              "      <td>NaN</td>\n",
              "      <td>DL</td>\n",
              "      <td>19790</td>\n",
              "      <td>DL</td>\n",
              "      <td>N356NW</td>\n",
              "      <td>1097</td>\n",
              "      <td>14869</td>\n",
              "      <td>1486903</td>\n",
              "      <td>34614</td>\n",
              "      <td>SLC</td>\n",
              "      <td>Salt Lake City, UT</td>\n",
              "      <td>UT</td>\n",
              "      <td>49</td>\n",
              "      <td>Utah</td>\n",
              "      <td>87</td>\n",
              "      <td>11298</td>\n",
              "      <td>1129806</td>\n",
              "      <td>30194</td>\n",
              "      <td>DFW</td>\n",
              "      <td>Dallas/Fort Worth, TX</td>\n",
              "      <td>TX</td>\n",
              "      <td>48</td>\n",
              "      <td>Texas</td>\n",
              "      <td>74</td>\n",
              "      <td>948</td>\n",
              "      <td>939.0</td>\n",
              "      <td>-9.0</td>\n",
              "      <td>0.0</td>\n",
              "      <td>0.0</td>\n",
              "      <td>-1.0</td>\n",
              "      <td>0900-0959</td>\n",
              "      <td>31.0</td>\n",
              "      <td>1010.0</td>\n",
              "      <td>1312.0</td>\n",
              "      <td>15.0</td>\n",
              "      <td>1333</td>\n",
              "      <td>1327.0</td>\n",
              "      <td>-6.0</td>\n",
              "      <td>0.0</td>\n",
              "      <td>0.0</td>\n",
              "      <td>-1.0</td>\n",
              "      <td>1300-1359</td>\n",
              "      <td>0.0</td>\n",
              "      <td>NaN</td>\n",
              "      <td>0.0</td>\n",
              "      <td>N</td>\n",
              "      <td>165.0</td>\n",
              "      <td>168.0</td>\n",
              "      <td>122.0</td>\n",
              "      <td>1.0</td>\n",
              "      <td>989.0</td>\n",
              "      <td>4</td>\n",
              "      <td>NaN</td>\n",
              "      <td>NaN</td>\n",
              "      <td>NaN</td>\n",
              "      <td>NaN</td>\n",
              "      <td>NaN</td>\n",
              "      <td>NaN</td>\n",
              "      <td>NaN</td>\n",
              "      <td>NaN</td>\n",
              "    </tr>\n",
              "    <tr>\n",
              "      <th>2</th>\n",
              "      <td>2021</td>\n",
              "      <td>1</td>\n",
              "      <td>1</td>\n",
              "      <td>17</td>\n",
              "      <td>7</td>\n",
              "      <td>2021-01-17</td>\n",
              "      <td>DL</td>\n",
              "      <td>DL</td>\n",
              "      <td>19790</td>\n",
              "      <td>DL</td>\n",
              "      <td>1112</td>\n",
              "      <td>NaN</td>\n",
              "      <td>NaN</td>\n",
              "      <td>NaN</td>\n",
              "      <td>NaN</td>\n",
              "      <td>DL</td>\n",
              "      <td>19790</td>\n",
              "      <td>DL</td>\n",
              "      <td>N878DN</td>\n",
              "      <td>1112</td>\n",
              "      <td>14747</td>\n",
              "      <td>1474703</td>\n",
              "      <td>30559</td>\n",
              "      <td>SEA</td>\n",
              "      <td>Seattle, WA</td>\n",
              "      <td>WA</td>\n",
              "      <td>53</td>\n",
              "      <td>Washington</td>\n",
              "      <td>93</td>\n",
              "      <td>14869</td>\n",
              "      <td>1486903</td>\n",
              "      <td>34614</td>\n",
              "      <td>SLC</td>\n",
              "      <td>Salt Lake City, UT</td>\n",
              "      <td>UT</td>\n",
              "      <td>49</td>\n",
              "      <td>Utah</td>\n",
              "      <td>87</td>\n",
              "      <td>1010</td>\n",
              "      <td>1006.0</td>\n",
              "      <td>-4.0</td>\n",
              "      <td>0.0</td>\n",
              "      <td>0.0</td>\n",
              "      <td>-1.0</td>\n",
              "      <td>1000-1059</td>\n",
              "      <td>16.0</td>\n",
              "      <td>1022.0</td>\n",
              "      <td>1242.0</td>\n",
              "      <td>8.0</td>\n",
              "      <td>1314</td>\n",
              "      <td>1250.0</td>\n",
              "      <td>-24.0</td>\n",
              "      <td>0.0</td>\n",
              "      <td>0.0</td>\n",
              "      <td>-2.0</td>\n",
              "      <td>1300-1359</td>\n",
              "      <td>0.0</td>\n",
              "      <td>NaN</td>\n",
              "      <td>0.0</td>\n",
              "      <td>N</td>\n",
              "      <td>124.0</td>\n",
              "      <td>104.0</td>\n",
              "      <td>80.0</td>\n",
              "      <td>1.0</td>\n",
              "      <td>689.0</td>\n",
              "      <td>3</td>\n",
              "      <td>NaN</td>\n",
              "      <td>NaN</td>\n",
              "      <td>NaN</td>\n",
              "      <td>NaN</td>\n",
              "      <td>NaN</td>\n",
              "      <td>NaN</td>\n",
              "      <td>NaN</td>\n",
              "      <td>NaN</td>\n",
              "    </tr>\n",
              "    <tr>\n",
              "      <th>3</th>\n",
              "      <td>2021</td>\n",
              "      <td>1</td>\n",
              "      <td>1</td>\n",
              "      <td>17</td>\n",
              "      <td>7</td>\n",
              "      <td>2021-01-17</td>\n",
              "      <td>DL</td>\n",
              "      <td>DL</td>\n",
              "      <td>19790</td>\n",
              "      <td>DL</td>\n",
              "      <td>1126</td>\n",
              "      <td>NaN</td>\n",
              "      <td>NaN</td>\n",
              "      <td>NaN</td>\n",
              "      <td>NaN</td>\n",
              "      <td>DL</td>\n",
              "      <td>19790</td>\n",
              "      <td>DL</td>\n",
              "      <td>N3732J</td>\n",
              "      <td>1126</td>\n",
              "      <td>10397</td>\n",
              "      <td>1039707</td>\n",
              "      <td>30397</td>\n",
              "      <td>ATL</td>\n",
              "      <td>Atlanta, GA</td>\n",
              "      <td>GA</td>\n",
              "      <td>13</td>\n",
              "      <td>Georgia</td>\n",
              "      <td>34</td>\n",
              "      <td>14730</td>\n",
              "      <td>1473004</td>\n",
              "      <td>33044</td>\n",
              "      <td>SDF</td>\n",
              "      <td>Louisville, KY</td>\n",
              "      <td>KY</td>\n",
              "      <td>21</td>\n",
              "      <td>Kentucky</td>\n",
              "      <td>52</td>\n",
              "      <td>1313</td>\n",
              "      <td>1310.0</td>\n",
              "      <td>-3.0</td>\n",
              "      <td>0.0</td>\n",
              "      <td>0.0</td>\n",
              "      <td>-1.0</td>\n",
              "      <td>1300-1359</td>\n",
              "      <td>14.0</td>\n",
              "      <td>1324.0</td>\n",
              "      <td>1418.0</td>\n",
              "      <td>6.0</td>\n",
              "      <td>1426</td>\n",
              "      <td>1424.0</td>\n",
              "      <td>-2.0</td>\n",
              "      <td>0.0</td>\n",
              "      <td>0.0</td>\n",
              "      <td>-1.0</td>\n",
              "      <td>1400-1459</td>\n",
              "      <td>0.0</td>\n",
              "      <td>NaN</td>\n",
              "      <td>0.0</td>\n",
              "      <td>N</td>\n",
              "      <td>73.0</td>\n",
              "      <td>74.0</td>\n",
              "      <td>54.0</td>\n",
              "      <td>1.0</td>\n",
              "      <td>321.0</td>\n",
              "      <td>2</td>\n",
              "      <td>NaN</td>\n",
              "      <td>NaN</td>\n",
              "      <td>NaN</td>\n",
              "      <td>NaN</td>\n",
              "      <td>NaN</td>\n",
              "      <td>NaN</td>\n",
              "      <td>NaN</td>\n",
              "      <td>NaN</td>\n",
              "    </tr>\n",
              "    <tr>\n",
              "      <th>4</th>\n",
              "      <td>2021</td>\n",
              "      <td>1</td>\n",
              "      <td>1</td>\n",
              "      <td>17</td>\n",
              "      <td>7</td>\n",
              "      <td>2021-01-17</td>\n",
              "      <td>DL</td>\n",
              "      <td>DL</td>\n",
              "      <td>19790</td>\n",
              "      <td>DL</td>\n",
              "      <td>1140</td>\n",
              "      <td>NaN</td>\n",
              "      <td>NaN</td>\n",
              "      <td>NaN</td>\n",
              "      <td>NaN</td>\n",
              "      <td>DL</td>\n",
              "      <td>19790</td>\n",
              "      <td>DL</td>\n",
              "      <td>N819DN</td>\n",
              "      <td>1140</td>\n",
              "      <td>11433</td>\n",
              "      <td>1143302</td>\n",
              "      <td>31295</td>\n",
              "      <td>DTW</td>\n",
              "      <td>Detroit, MI</td>\n",
              "      <td>MI</td>\n",
              "      <td>26</td>\n",
              "      <td>Michigan</td>\n",
              "      <td>43</td>\n",
              "      <td>10397</td>\n",
              "      <td>1039707</td>\n",
              "      <td>30397</td>\n",
              "      <td>ATL</td>\n",
              "      <td>Atlanta, GA</td>\n",
              "      <td>GA</td>\n",
              "      <td>13</td>\n",
              "      <td>Georgia</td>\n",
              "      <td>34</td>\n",
              "      <td>605</td>\n",
              "      <td>559.0</td>\n",
              "      <td>-6.0</td>\n",
              "      <td>0.0</td>\n",
              "      <td>0.0</td>\n",
              "      <td>-1.0</td>\n",
              "      <td>0600-0659</td>\n",
              "      <td>26.0</td>\n",
              "      <td>625.0</td>\n",
              "      <td>755.0</td>\n",
              "      <td>3.0</td>\n",
              "      <td>823</td>\n",
              "      <td>758.0</td>\n",
              "      <td>-25.0</td>\n",
              "      <td>0.0</td>\n",
              "      <td>0.0</td>\n",
              "      <td>-2.0</td>\n",
              "      <td>0800-0859</td>\n",
              "      <td>0.0</td>\n",
              "      <td>NaN</td>\n",
              "      <td>0.0</td>\n",
              "      <td>N</td>\n",
              "      <td>138.0</td>\n",
              "      <td>119.0</td>\n",
              "      <td>90.0</td>\n",
              "      <td>1.0</td>\n",
              "      <td>594.0</td>\n",
              "      <td>3</td>\n",
              "      <td>NaN</td>\n",
              "      <td>NaN</td>\n",
              "      <td>NaN</td>\n",
              "      <td>NaN</td>\n",
              "      <td>NaN</td>\n",
              "      <td>NaN</td>\n",
              "      <td>NaN</td>\n",
              "      <td>NaN</td>\n",
              "    </tr>\n",
              "  </tbody>\n",
              "</table>\n",
              "</div>"
            ],
            "text/plain": [
              "   YEAR  QUARTER  MONTH  ...  FIRST_DEP_TIME  TOTAL_ADD_GTIME LONGEST_ADD_GTIME\n",
              "0  2021        1      1  ...             NaN              NaN               NaN\n",
              "1  2021        1      1  ...             NaN              NaN               NaN\n",
              "2  2021        1      1  ...             NaN              NaN               NaN\n",
              "3  2021        1      1  ...             NaN              NaN               NaN\n",
              "4  2021        1      1  ...             NaN              NaN               NaN\n",
              "\n",
              "[5 rows x 74 columns]"
            ]
          },
          "execution_count": 4,
          "metadata": {},
          "output_type": "execute_result"
        }
      ]
    },
    {
      "cell_type": "code",
      "metadata": {
        "id": "_YtBrNw3MyAo"
      },
      "source": [
        "flightsampledata.dropna(subset=['DEP_DEL15','TAXI_OUT','AIR_TIME'],inplace=True)"
      ],
      "execution_count": null,
      "outputs": []
    },
    {
      "cell_type": "code",
      "metadata": {
        "colab": {
          "base_uri": "https://localhost:8080/"
        },
        "id": "Vgs0ANyiRJ69",
        "outputId": "0fa2d27b-c39f-4e54-a99c-c0cf32c0a5fa"
      },
      "source": [
        "flightsampledata.isna().sum()"
      ],
      "execution_count": null,
      "outputs": [
        {
          "data": {
            "text/plain": [
              "YEAR                        0\n",
              "QUARTER                     0\n",
              "MONTH                       0\n",
              "DAY_OF_MONTH                0\n",
              "DAY_OF_WEEK                 0\n",
              "                        ...  \n",
              "SECURITY_DELAY         189874\n",
              "LATE_AIRCRAFT_DELAY    189874\n",
              "FIRST_DEP_TIME         213921\n",
              "TOTAL_ADD_GTIME        213921\n",
              "LONGEST_ADD_GTIME      213921\n",
              "Length: 74, dtype: int64"
            ]
          },
          "execution_count": 6,
          "metadata": {},
          "output_type": "execute_result"
        }
      ]
    },
    {
      "cell_type": "code",
      "metadata": {
        "id": "ddE3wfbVIiS8"
      },
      "source": [
        "systematic_sample_selectedcols=flightsampledata[['YEAR','MONTH','DAY_OF_MONTH','DAY_OF_WEEK','FL_DATE','ORIGIN','ORIGIN_AIRPORT_ID','DEST_AIRPORT_ID','TAIL_NUM','AIR_TIME','OP_CARRIER_FL_NUM','DISTANCE','OP_CARRIER_AIRLINE_ID','DEP_DEL15','CRS_DEP_TIME','CRS_ELAPSED_TIME','TAXI_OUT','DEP_TIME','ARR_TIME]]"
      ],
      "execution_count": null,
      "outputs": []
    },
    {
      "cell_type": "code",
      "metadata": {
        "id": "4v7gODdVPaD9"
      },
      "source": [
        "from datetime import date\n",
        "systematic_sample_selectedcols['FL_DATE']=pd.to_datetime(systematic_sample_selectedcols['FL_DATE'],format='%Y-%m-%d')"
      ],
      "execution_count": null,
      "outputs": []
    },
    {
      "cell_type": "code",
      "metadata": {
        "colab": {
          "background_save": true,
          "base_uri": "https://localhost:8080/"
        },
        "id": "wfh1mzfRV-_C",
        "outputId": "2f6f2df4-f514-43c9-b8e6-49e23a5a2058"
      },
      "source": [
        "#systematic_sample_selectedcols['ORIGIN_AIRPORT_ID']=systematic_sample_selectedcols['DAY_OF_MONTH'].astype(int)\n",
        "#systematic_sample_selectedcols['DEST_AIRPORT_ID']=systematic_sample_selectedcols['MONTH'].astype(int)\n",
        "#systematic_sample_selectedcols['YEAR']=systematic_sample_selectedcols['YEAR'].astype(int)\n",
        "systematic_sample_selectedcols.dtypes"
      ],
      "execution_count": null,
      "outputs": [
        {
          "ename": "NameError",
          "evalue": "ignored",
          "output_type": "error",
          "traceback": [
            "\u001b[0;31m---------------------------------------------------------------------------\u001b[0m",
            "\u001b[0;31mNameError\u001b[0m                                 Traceback (most recent call last)",
            "\u001b[0;32m<ipython-input-1-3e8bab346a57>\u001b[0m in \u001b[0;36m<module>\u001b[0;34m()\u001b[0m\n\u001b[1;32m      2\u001b[0m \u001b[0;31m#systematic_sample_selectedcols['DEST_AIRPORT_ID']=systematic_sample_selectedcols['MONTH'].astype(int)\u001b[0m\u001b[0;34m\u001b[0m\u001b[0;34m\u001b[0m\u001b[0;34m\u001b[0m\u001b[0m\n\u001b[1;32m      3\u001b[0m \u001b[0;31m#systematic_sample_selectedcols['YEAR']=systematic_sample_selectedcols['YEAR'].astype(int)\u001b[0m\u001b[0;34m\u001b[0m\u001b[0;34m\u001b[0m\u001b[0;34m\u001b[0m\u001b[0m\n\u001b[0;32m----> 4\u001b[0;31m \u001b[0msystematic_sample_selectedcols\u001b[0m\u001b[0;34m.\u001b[0m\u001b[0mdtypes\u001b[0m\u001b[0;34m\u001b[0m\u001b[0;34m\u001b[0m\u001b[0m\n\u001b[0m",
            "\u001b[0;31mNameError\u001b[0m: name 'systematic_sample_selectedcols' is not defined"
          ]
        }
      ]
    },
    {
      "cell_type": "markdown",
      "metadata": {
        "id": "mERNfgx0ITc3"
      },
      "source": [
        "## Creating new column- WEEK_OF_MONTH"
      ]
    },
    {
      "cell_type": "code",
      "metadata": {
        "colab": {
          "base_uri": "https://localhost:8080/",
          "height": 206
        },
        "id": "_A6KcGNbWfrh",
        "outputId": "062644d0-89bf-4bfe-d85a-4d8f861aebcd"
      },
      "source": [
        "import datetime\n",
        "import calendar\n",
        "\n",
        "def week_of_month(tgtdate):\n",
        "    #tgtdate = tgtdate.to_datetime()\n",
        "\n",
        "    days_this_month = calendar.mdays[tgtdate.month]\n",
        "    for i in range(1, days_this_month):\n",
        "        d = datetime.datetime(tgtdate.year, tgtdate.month, i)\n",
        "        if d.day - d.weekday() > 0:\n",
        "            startdate = d\n",
        "            break\n",
        "    # now we can use the modulo 7 appraoch\n",
        "    return (tgtdate - startdate).days //7 + 2\n",
        "\n",
        "systematic_sample_selectedcols['WEEK_OF_MONTH'] = systematic_sample_selectedcols['FL_DATE'].apply(week_of_month)\n",
        "systematic_sample_selectedcols[['FL_DATE','WEEK_OF_MONTH']].sort_values('WEEK_OF_MONTH',ascending=False) .head()"
      ],
      "execution_count": null,
      "outputs": [
        {
          "data": {
            "text/html": [
              "<div>\n",
              "<style scoped>\n",
              "    .dataframe tbody tr th:only-of-type {\n",
              "        vertical-align: middle;\n",
              "    }\n",
              "\n",
              "    .dataframe tbody tr th {\n",
              "        vertical-align: top;\n",
              "    }\n",
              "\n",
              "    .dataframe thead th {\n",
              "        text-align: right;\n",
              "    }\n",
              "</style>\n",
              "<table border=\"1\" class=\"dataframe\">\n",
              "  <thead>\n",
              "    <tr style=\"text-align: right;\">\n",
              "      <th></th>\n",
              "      <th>FL_DATE</th>\n",
              "      <th>WEEK_OF_MONTH</th>\n",
              "    </tr>\n",
              "  </thead>\n",
              "  <tbody>\n",
              "    <tr>\n",
              "      <th>73763</th>\n",
              "      <td>2021-03-29</td>\n",
              "      <td>6</td>\n",
              "    </tr>\n",
              "    <tr>\n",
              "      <th>190172</th>\n",
              "      <td>2021-05-31</td>\n",
              "      <td>6</td>\n",
              "    </tr>\n",
              "    <tr>\n",
              "      <th>86852</th>\n",
              "      <td>2021-03-30</td>\n",
              "      <td>6</td>\n",
              "    </tr>\n",
              "    <tr>\n",
              "      <th>86851</th>\n",
              "      <td>2021-03-30</td>\n",
              "      <td>6</td>\n",
              "    </tr>\n",
              "    <tr>\n",
              "      <th>86850</th>\n",
              "      <td>2021-03-30</td>\n",
              "      <td>6</td>\n",
              "    </tr>\n",
              "  </tbody>\n",
              "</table>\n",
              "</div>"
            ],
            "text/plain": [
              "          FL_DATE  WEEK_OF_MONTH\n",
              "73763  2021-03-29              6\n",
              "190172 2021-05-31              6\n",
              "86852  2021-03-30              6\n",
              "86851  2021-03-30              6\n",
              "86850  2021-03-30              6"
            ]
          },
          "execution_count": 10,
          "metadata": {},
          "output_type": "execute_result"
        }
      ]
    },
    {
      "cell_type": "code",
      "metadata": {
        "colab": {
          "base_uri": "https://localhost:8080/"
        },
        "id": "OykoMyj5Xo6R",
        "outputId": "48bd929f-295c-438a-dc8a-acb21c7871dd"
      },
      "source": [
        "systematic_sample_selectedcols['WEEK_OF_MONTH'].value_counts()"
      ],
      "execution_count": null,
      "outputs": [
        {
          "data": {
            "text/plain": [
              "4    49502\n",
              "3    49402\n",
              "2    48483\n",
              "5    47621\n",
              "1    13755\n",
              "6     6366\n",
              "Name: WEEK_OF_MONTH, dtype: int64"
            ]
          },
          "execution_count": 11,
          "metadata": {},
          "output_type": "execute_result"
        }
      ]
    },
    {
      "cell_type": "markdown",
      "metadata": {
        "id": "NzAP4dL0zgMd"
      },
      "source": [
        "## Creating New column--> Week days==0, Weekends == 1(DAY_OF_WEEK_days_end)"
      ]
    },
    {
      "cell_type": "code",
      "metadata": {
        "colab": {
          "base_uri": "https://localhost:8080/",
          "height": 313
        },
        "id": "CNs2GUZramaH",
        "outputId": "fc267df8-1070-4de7-f6db-23973a2d1383"
      },
      "source": [
        "#'DAY_OF_WEEK' because delay could depend on traffic in specific days: classify it to weekend or working day\n",
        "def get_day_category(day_of_week):\n",
        "    if day_of_week <= 5:\n",
        "        return 0 #'working day'\n",
        "    elif day_of_week > 5:\n",
        "        return 1 #'weekend'\n",
        "systematic_sample_selectedcols['DAY_OF_WEEK_days_end'] = systematic_sample_selectedcols['DAY_OF_WEEK']\n",
        "   \n",
        "systematic_sample_selectedcols['DAY_OF_WEEK_days_end'] = systematic_sample_selectedcols.DAY_OF_WEEK_days_end.apply(get_day_category)\n",
        "systematic_sample_selectedcols.head()"
      ],
      "execution_count": null,
      "outputs": [
        {
          "data": {
            "text/html": [
              "<div>\n",
              "<style scoped>\n",
              "    .dataframe tbody tr th:only-of-type {\n",
              "        vertical-align: middle;\n",
              "    }\n",
              "\n",
              "    .dataframe tbody tr th {\n",
              "        vertical-align: top;\n",
              "    }\n",
              "\n",
              "    .dataframe thead th {\n",
              "        text-align: right;\n",
              "    }\n",
              "</style>\n",
              "<table border=\"1\" class=\"dataframe\">\n",
              "  <thead>\n",
              "    <tr style=\"text-align: right;\">\n",
              "      <th></th>\n",
              "      <th>YEAR</th>\n",
              "      <th>MONTH</th>\n",
              "      <th>DAY_OF_MONTH</th>\n",
              "      <th>DAY_OF_WEEK</th>\n",
              "      <th>FL_DATE</th>\n",
              "      <th>ORIGIN</th>\n",
              "      <th>ORIGIN_AIRPORT_ID</th>\n",
              "      <th>DEST_AIRPORT_ID</th>\n",
              "      <th>TAIL_NUM</th>\n",
              "      <th>AIR_TIME</th>\n",
              "      <th>OP_CARRIER_FL_NUM</th>\n",
              "      <th>DISTANCE</th>\n",
              "      <th>OP_CARRIER_AIRLINE_ID</th>\n",
              "      <th>DEP_DEL15</th>\n",
              "      <th>CRS_DEP_TIME</th>\n",
              "      <th>CRS_ELAPSED_TIME</th>\n",
              "      <th>TAXI_OUT</th>\n",
              "      <th>DEP_TIME</th>\n",
              "      <th>WEEK_OF_MONTH</th>\n",
              "      <th>DAY_OF_WEEK_days_end</th>\n",
              "    </tr>\n",
              "  </thead>\n",
              "  <tbody>\n",
              "    <tr>\n",
              "      <th>0</th>\n",
              "      <td>2021</td>\n",
              "      <td>1</td>\n",
              "      <td>17</td>\n",
              "      <td>7</td>\n",
              "      <td>2021-01-17</td>\n",
              "      <td>DFW</td>\n",
              "      <td>11298</td>\n",
              "      <td>11433</td>\n",
              "      <td>N326NB</td>\n",
              "      <td>126.0</td>\n",
              "      <td>1089</td>\n",
              "      <td>986.0</td>\n",
              "      <td>19790</td>\n",
              "      <td>0.0</td>\n",
              "      <td>1153</td>\n",
              "      <td>150.0</td>\n",
              "      <td>28.0</td>\n",
              "      <td>1151.0</td>\n",
              "      <td>3</td>\n",
              "      <td>1</td>\n",
              "    </tr>\n",
              "    <tr>\n",
              "      <th>1</th>\n",
              "      <td>2021</td>\n",
              "      <td>1</td>\n",
              "      <td>17</td>\n",
              "      <td>7</td>\n",
              "      <td>2021-01-17</td>\n",
              "      <td>SLC</td>\n",
              "      <td>14869</td>\n",
              "      <td>11298</td>\n",
              "      <td>N356NW</td>\n",
              "      <td>122.0</td>\n",
              "      <td>1097</td>\n",
              "      <td>989.0</td>\n",
              "      <td>19790</td>\n",
              "      <td>0.0</td>\n",
              "      <td>948</td>\n",
              "      <td>165.0</td>\n",
              "      <td>31.0</td>\n",
              "      <td>939.0</td>\n",
              "      <td>3</td>\n",
              "      <td>1</td>\n",
              "    </tr>\n",
              "    <tr>\n",
              "      <th>2</th>\n",
              "      <td>2021</td>\n",
              "      <td>1</td>\n",
              "      <td>17</td>\n",
              "      <td>7</td>\n",
              "      <td>2021-01-17</td>\n",
              "      <td>SEA</td>\n",
              "      <td>14747</td>\n",
              "      <td>14869</td>\n",
              "      <td>N878DN</td>\n",
              "      <td>80.0</td>\n",
              "      <td>1112</td>\n",
              "      <td>689.0</td>\n",
              "      <td>19790</td>\n",
              "      <td>0.0</td>\n",
              "      <td>1010</td>\n",
              "      <td>124.0</td>\n",
              "      <td>16.0</td>\n",
              "      <td>1006.0</td>\n",
              "      <td>3</td>\n",
              "      <td>1</td>\n",
              "    </tr>\n",
              "    <tr>\n",
              "      <th>3</th>\n",
              "      <td>2021</td>\n",
              "      <td>1</td>\n",
              "      <td>17</td>\n",
              "      <td>7</td>\n",
              "      <td>2021-01-17</td>\n",
              "      <td>ATL</td>\n",
              "      <td>10397</td>\n",
              "      <td>14730</td>\n",
              "      <td>N3732J</td>\n",
              "      <td>54.0</td>\n",
              "      <td>1126</td>\n",
              "      <td>321.0</td>\n",
              "      <td>19790</td>\n",
              "      <td>0.0</td>\n",
              "      <td>1313</td>\n",
              "      <td>73.0</td>\n",
              "      <td>14.0</td>\n",
              "      <td>1310.0</td>\n",
              "      <td>3</td>\n",
              "      <td>1</td>\n",
              "    </tr>\n",
              "    <tr>\n",
              "      <th>4</th>\n",
              "      <td>2021</td>\n",
              "      <td>1</td>\n",
              "      <td>17</td>\n",
              "      <td>7</td>\n",
              "      <td>2021-01-17</td>\n",
              "      <td>DTW</td>\n",
              "      <td>11433</td>\n",
              "      <td>10397</td>\n",
              "      <td>N819DN</td>\n",
              "      <td>90.0</td>\n",
              "      <td>1140</td>\n",
              "      <td>594.0</td>\n",
              "      <td>19790</td>\n",
              "      <td>0.0</td>\n",
              "      <td>605</td>\n",
              "      <td>138.0</td>\n",
              "      <td>26.0</td>\n",
              "      <td>559.0</td>\n",
              "      <td>3</td>\n",
              "      <td>1</td>\n",
              "    </tr>\n",
              "  </tbody>\n",
              "</table>\n",
              "</div>"
            ],
            "text/plain": [
              "   YEAR  MONTH  DAY_OF_MONTH  ...  DEP_TIME WEEK_OF_MONTH DAY_OF_WEEK_days_end\n",
              "0  2021      1            17  ...    1151.0             3                    1\n",
              "1  2021      1            17  ...     939.0             3                    1\n",
              "2  2021      1            17  ...    1006.0             3                    1\n",
              "3  2021      1            17  ...    1310.0             3                    1\n",
              "4  2021      1            17  ...     559.0             3                    1\n",
              "\n",
              "[5 rows x 20 columns]"
            ]
          },
          "execution_count": 12,
          "metadata": {},
          "output_type": "execute_result"
        }
      ]
    },
    {
      "cell_type": "code",
      "metadata": {
        "colab": {
          "base_uri": "https://localhost:8080/"
        },
        "id": "rlB0GaSJ2RZu",
        "outputId": "89951ff8-0a16-44aa-8eaf-7586fb6a1a27"
      },
      "source": [
        "systematic_sample_selectedcols['DAY_OF_WEEK_days_end'].value_counts()"
      ],
      "execution_count": null,
      "outputs": [
        {
          "data": {
            "text/plain": [
              "0    152202\n",
              "1     62927\n",
              "Name: DAY_OF_WEEK_days_end, dtype: int64"
            ]
          },
          "execution_count": 13,
          "metadata": {},
          "output_type": "execute_result"
        }
      ]
    },
    {
      "cell_type": "markdown",
      "metadata": {
        "id": "vaNREZw64G3f"
      },
      "source": [
        "## Creating New column-> DEP_TIME_BLK as 6 block per day, using CRS_DEP_time with 24 hrs time stamp"
      ]
    },
    {
      "cell_type": "code",
      "metadata": {
        "colab": {
          "base_uri": "https://localhost:8080/"
        },
        "id": "t9Zk0s6XJaTt",
        "outputId": "23446749-fb0b-4414-8448-def8733ea8f0"
      },
      "source": [
        "def get_dep_time_blk(dep_time):\n",
        "    dep_hour = str('%04d' %(dep_time))[:2]\n",
        "    \n",
        "    return dep_hour\n",
        "\n",
        "systematic_sample_selectedcols['DEP_TIMEslot_BLK'] = systematic_sample_selectedcols.DEP_TIME.apply(get_dep_time_blk)\n",
        "print(systematic_sample_selectedcols[['CRS_DEP_TIME','DEP_TIMEslot_BLK']].head(5))\n"
      ],
      "execution_count": null,
      "outputs": [
        {
          "name": "stdout",
          "output_type": "stream",
          "text": [
            "   CRS_DEP_TIME DEP_TIMEslot_BLK\n",
            "0          1153               11\n",
            "1           948               09\n",
            "2          1010               10\n",
            "3          1313               13\n",
            "4           605               05\n"
          ]
        }
      ]
    },
    {
      "cell_type": "code",
      "metadata": {
        "id": "Sli35A7h0_jB"
      },
      "source": [
        "systematic_sample_selectedcols[['DEP_TIMEslot_BLK']]=systematic_sample_selectedcols[['DEP_TIMEslot_BLK']].astype(int)"
      ],
      "execution_count": null,
      "outputs": []
    },
    {
      "cell_type": "code",
      "metadata": {
        "colab": {
          "base_uri": "https://localhost:8080/",
          "height": 206
        },
        "id": "4aBrZPnutBu7",
        "outputId": "b4b1fe22-9d88-4aa5-fc2a-7dc4ce38b775"
      },
      "source": [
        "for dataset in systematic_sample_selectedcols:\n",
        "    systematic_sample_selectedcols.loc[systematic_sample_selectedcols['DEP_TIMEslot_BLK'] >=0, 'Dep_period'] = 'Midnight'\n",
        "    systematic_sample_selectedcols.loc[systematic_sample_selectedcols['DEP_TIMEslot_BLK'] >=4,'Dep_period'] ='Early morning'\n",
        "    systematic_sample_selectedcols.loc[systematic_sample_selectedcols['DEP_TIMEslot_BLK'] >=7,'Dep_period'] ='Morning'\n",
        "    systematic_sample_selectedcols.loc[systematic_sample_selectedcols['DEP_TIMEslot_BLK'] >=12,'Dep_period'] ='Afternoon'\n",
        "    systematic_sample_selectedcols.loc[systematic_sample_selectedcols['DEP_TIMEslot_BLK'] >=17,'Dep_period'] ='Evening'\n",
        "    systematic_sample_selectedcols.loc[systematic_sample_selectedcols['DEP_TIMEslot_BLK'] >=20,'Dep_period'] ='Night'\n",
        "    systematic_sample_selectedcols.loc[systematic_sample_selectedcols['DEP_TIMEslot_BLK'] ==24, 'Dep_period'] = 'Midnight'\n",
        "\n",
        "\n",
        "systematic_sample_selectedcols[['DEP_TIMEslot_BLK','Dep_period']].head()\n"
      ],
      "execution_count": null,
      "outputs": [
        {
          "data": {
            "text/html": [
              "<div>\n",
              "<style scoped>\n",
              "    .dataframe tbody tr th:only-of-type {\n",
              "        vertical-align: middle;\n",
              "    }\n",
              "\n",
              "    .dataframe tbody tr th {\n",
              "        vertical-align: top;\n",
              "    }\n",
              "\n",
              "    .dataframe thead th {\n",
              "        text-align: right;\n",
              "    }\n",
              "</style>\n",
              "<table border=\"1\" class=\"dataframe\">\n",
              "  <thead>\n",
              "    <tr style=\"text-align: right;\">\n",
              "      <th></th>\n",
              "      <th>DEP_TIMEslot_BLK</th>\n",
              "      <th>Dep_period</th>\n",
              "    </tr>\n",
              "  </thead>\n",
              "  <tbody>\n",
              "    <tr>\n",
              "      <th>0</th>\n",
              "      <td>11</td>\n",
              "      <td>Morning</td>\n",
              "    </tr>\n",
              "    <tr>\n",
              "      <th>1</th>\n",
              "      <td>9</td>\n",
              "      <td>Morning</td>\n",
              "    </tr>\n",
              "    <tr>\n",
              "      <th>2</th>\n",
              "      <td>10</td>\n",
              "      <td>Morning</td>\n",
              "    </tr>\n",
              "    <tr>\n",
              "      <th>3</th>\n",
              "      <td>13</td>\n",
              "      <td>Afternoon</td>\n",
              "    </tr>\n",
              "    <tr>\n",
              "      <th>4</th>\n",
              "      <td>5</td>\n",
              "      <td>Early morning</td>\n",
              "    </tr>\n",
              "  </tbody>\n",
              "</table>\n",
              "</div>"
            ],
            "text/plain": [
              "   DEP_TIMEslot_BLK     Dep_period\n",
              "0                11        Morning\n",
              "1                 9        Morning\n",
              "2                10        Morning\n",
              "3                13      Afternoon\n",
              "4                 5  Early morning"
            ]
          },
          "execution_count": 16,
          "metadata": {},
          "output_type": "execute_result"
        }
      ]
    },
    {
      "cell_type": "code",
      "metadata": {
        "colab": {
          "base_uri": "https://localhost:8080/",
          "height": 238
        },
        "id": "aPUcKeTRQF8_",
        "outputId": "504d7e59-89a8-4ac3-ee04-f0303c211a0a"
      },
      "source": [
        "delay_timeslotwise_count = systematic_sample_selectedcols[['Dep_period','DEP_DEL15']].groupby(['Dep_period']).sum('DEP_DEL15').sort_values(['DEP_DEL15'],ascending=False).reset_index()\n",
        "delay_timeslotwise_count"
      ],
      "execution_count": null,
      "outputs": [
        {
          "data": {
            "text/html": [
              "<div>\n",
              "<style scoped>\n",
              "    .dataframe tbody tr th:only-of-type {\n",
              "        vertical-align: middle;\n",
              "    }\n",
              "\n",
              "    .dataframe tbody tr th {\n",
              "        vertical-align: top;\n",
              "    }\n",
              "\n",
              "    .dataframe thead th {\n",
              "        text-align: right;\n",
              "    }\n",
              "</style>\n",
              "<table border=\"1\" class=\"dataframe\">\n",
              "  <thead>\n",
              "    <tr style=\"text-align: right;\">\n",
              "      <th></th>\n",
              "      <th>Dep_period</th>\n",
              "      <th>DEP_DEL15</th>\n",
              "    </tr>\n",
              "  </thead>\n",
              "  <tbody>\n",
              "    <tr>\n",
              "      <th>0</th>\n",
              "      <td>Afternoon</td>\n",
              "      <td>8049.0</td>\n",
              "    </tr>\n",
              "    <tr>\n",
              "      <th>1</th>\n",
              "      <td>Evening</td>\n",
              "      <td>5561.0</td>\n",
              "    </tr>\n",
              "    <tr>\n",
              "      <th>2</th>\n",
              "      <td>Morning</td>\n",
              "      <td>5337.0</td>\n",
              "    </tr>\n",
              "    <tr>\n",
              "      <th>3</th>\n",
              "      <td>Night</td>\n",
              "      <td>4053.0</td>\n",
              "    </tr>\n",
              "    <tr>\n",
              "      <th>4</th>\n",
              "      <td>Early morning</td>\n",
              "      <td>409.0</td>\n",
              "    </tr>\n",
              "    <tr>\n",
              "      <th>5</th>\n",
              "      <td>Midnight</td>\n",
              "      <td>270.0</td>\n",
              "    </tr>\n",
              "  </tbody>\n",
              "</table>\n",
              "</div>"
            ],
            "text/plain": [
              "      Dep_period  DEP_DEL15\n",
              "0      Afternoon     8049.0\n",
              "1        Evening     5561.0\n",
              "2        Morning     5337.0\n",
              "3          Night     4053.0\n",
              "4  Early morning      409.0\n",
              "5       Midnight      270.0"
            ]
          },
          "execution_count": 17,
          "metadata": {},
          "output_type": "execute_result"
        }
      ]
    },
    {
      "cell_type": "markdown",
      "metadata": {
        "id": "UA5dCbhy43NY"
      },
      "source": [
        "Adding 3 kinds of weightage to categorical columns\n",
        "1. dep_del count\n",
        "2. Time slot wise dep delay count\n",
        "3. Taxi out time Dep delay count"
      ]
    },
    {
      "cell_type": "markdown",
      "metadata": {
        "id": "RR38xRz8Vz1S"
      },
      "source": [
        "# Column wise weightage \n",
        "1. Departure time-  Perodic time slot delay weights \n",
        "2. ORIGIN_AIRPORT_ID - Perodic time slot delay weights\n",
        "3. OP_carrier airline- Perodic time slot delay weights\n",
        "4. Origin- Perodic time slot delay weights\n",
        "5. Tail number-Delay weight\n",
        "6. Days of Week - Delay weight\n",
        "  * Including Week_days-0 and Week_ends-1 column\n",
        "7. Days of month - Delay weight\n",
        "8. Month- Delay weight\n",
        "9. OP_CARRIER_FL_NUM - Taxi out delay weights"
      ]
    },
    {
      "cell_type": "markdown",
      "metadata": {
        "id": "0gH0ICh-bxkI"
      },
      "source": [
        "### 1. DEP_TIMEslot_BLK on delay percentage Probablity"
      ]
    },
    {
      "cell_type": "code",
      "metadata": {
        "colab": {
          "base_uri": "https://localhost:8080/",
          "height": 206
        },
        "id": "Fv7S24R-GUo4",
        "outputId": "8d215ecb-9cbb-4879-ed6d-fcb0d1e19cdf"
      },
      "source": [
        "periodcountperdeptime = systematic_sample_selectedcols[['DEP_TIMEslot_BLK','Dep_period']].groupby(['DEP_TIMEslot_BLK','Dep_period']).count().reset_index()\n",
        "periodcountperdeptime.head()"
      ],
      "execution_count": null,
      "outputs": [
        {
          "data": {
            "text/html": [
              "<div>\n",
              "<style scoped>\n",
              "    .dataframe tbody tr th:only-of-type {\n",
              "        vertical-align: middle;\n",
              "    }\n",
              "\n",
              "    .dataframe tbody tr th {\n",
              "        vertical-align: top;\n",
              "    }\n",
              "\n",
              "    .dataframe thead th {\n",
              "        text-align: right;\n",
              "    }\n",
              "</style>\n",
              "<table border=\"1\" class=\"dataframe\">\n",
              "  <thead>\n",
              "    <tr style=\"text-align: right;\">\n",
              "      <th></th>\n",
              "      <th>DEP_TIMEslot_BLK</th>\n",
              "      <th>Dep_period</th>\n",
              "    </tr>\n",
              "  </thead>\n",
              "  <tbody>\n",
              "    <tr>\n",
              "      <th>0</th>\n",
              "      <td>0</td>\n",
              "      <td>Midnight</td>\n",
              "    </tr>\n",
              "    <tr>\n",
              "      <th>1</th>\n",
              "      <td>1</td>\n",
              "      <td>Midnight</td>\n",
              "    </tr>\n",
              "    <tr>\n",
              "      <th>2</th>\n",
              "      <td>2</td>\n",
              "      <td>Midnight</td>\n",
              "    </tr>\n",
              "    <tr>\n",
              "      <th>3</th>\n",
              "      <td>3</td>\n",
              "      <td>Midnight</td>\n",
              "    </tr>\n",
              "    <tr>\n",
              "      <th>4</th>\n",
              "      <td>4</td>\n",
              "      <td>Early morning</td>\n",
              "    </tr>\n",
              "  </tbody>\n",
              "</table>\n",
              "</div>"
            ],
            "text/plain": [
              "   DEP_TIMEslot_BLK     Dep_period\n",
              "0                 0       Midnight\n",
              "1                 1       Midnight\n",
              "2                 2       Midnight\n",
              "3                 3       Midnight\n",
              "4                 4  Early morning"
            ]
          },
          "execution_count": 17,
          "metadata": {},
          "output_type": "execute_result"
        }
      ]
    },
    {
      "cell_type": "code",
      "metadata": {
        "colab": {
          "base_uri": "https://localhost:8080/",
          "height": 702
        },
        "id": "Kfm4hiOSGVhE",
        "outputId": "e3687073-98d3-4774-b46d-311f15b00c28"
      },
      "source": [
        "pd.options.display.float_format = '{:.1f}'.format\n",
        "periodcountperdeptime = systematic_sample_selectedcols.groupby(['Dep_period','DEP_TIMEslot_BLK']).agg({'Dep_period' : ['count'],'DEP_DEL15' : ['sum']}).reset_index()\n",
        "periodcountperdeptime.columns=['Dep_period','DEP_TIMEslot_BLK','DEP_TIME_timeslot_tot_count','DEP_TIME_timeslotwise_DELAY_COUNT']\n",
        "periodcountperdeptime.sort_values(['DEP_TIME_timeslotwise_DELAY_COUNT'],ascending=False)\n",
        "percentage_DEP_TIMEslot= (periodcountperdeptime['DEP_TIME_timeslotwise_DELAY_COUNT']/periodcountperdeptime['DEP_TIME_timeslot_tot_count'])*100\n",
        "periodcountperdeptime['percentage_DEP_TIMEslot_del']=percentage_DEP_TIMEslot\n",
        "periodcountperdeptime.sort_values(by='percentage_DEP_TIMEslot_del',ascending=False)\n",
        "#periodcountperdeptime['DEP_TIME_timeslot_weight'] = pd.qcut(periodcountperdeptime['percentage_DEP_TIMEslot_del'], 24, labels = False,duplicates='drop')\n",
        "#periodcountperdeptime.sort_values(by='DEP_TIME_timeslot_weight',ascending=False)\n",
        "print(periodcountperdeptime)\n",
        "systematic_sample_selectedcols0 = systematic_sample_selectedcols.merge(periodcountperdeptime, left_on=['DEP_TIMEslot_BLK','Dep_period'], right_on=['DEP_TIMEslot_BLK','Dep_period'])\n",
        "systematic_sample_selectedcols0.drop(columns=['DEP_TIME_timeslotwise_DELAY_COUNT','DEP_TIME_timeslot_tot_count','DEP_TIMEslot_BLK'], inplace=True, axis=1)\n",
        "systematic_sample_selectedcols0.head(3)"
      ],
      "execution_count": null,
      "outputs": [
        {
          "name": "stdout",
          "output_type": "stream",
          "text": [
            "       Dep_period  ...  percentage_DEP_TIMEslot_del\n",
            "0       Afternoon  ...                         10.6\n",
            "1       Afternoon  ...                         11.0\n",
            "2       Afternoon  ...                         11.5\n",
            "3       Afternoon  ...                         13.1\n",
            "4       Afternoon  ...                         13.1\n",
            "5   Early morning  ...                          2.3\n",
            "6   Early morning  ...                          0.7\n",
            "7   Early morning  ...                          2.6\n",
            "8         Evening  ...                         13.2\n",
            "9         Evening  ...                         14.6\n",
            "10        Evening  ...                         19.0\n",
            "11       Midnight  ...                         31.6\n",
            "12       Midnight  ...                         28.1\n",
            "13       Midnight  ...                         42.2\n",
            "14       Midnight  ...                         21.1\n",
            "15       Midnight  ...                         69.2\n",
            "16        Morning  ...                          5.0\n",
            "17        Morning  ...                          5.7\n",
            "18        Morning  ...                          8.4\n",
            "19        Morning  ...                          8.2\n",
            "20        Morning  ...                         10.3\n",
            "21          Night  ...                         16.9\n",
            "22          Night  ...                         24.4\n",
            "23          Night  ...                         23.0\n",
            "24          Night  ...                         30.7\n",
            "\n",
            "[25 rows x 5 columns]\n"
          ]
        },
        {
          "data": {
            "text/html": [
              "<div>\n",
              "<style scoped>\n",
              "    .dataframe tbody tr th:only-of-type {\n",
              "        vertical-align: middle;\n",
              "    }\n",
              "\n",
              "    .dataframe tbody tr th {\n",
              "        vertical-align: top;\n",
              "    }\n",
              "\n",
              "    .dataframe thead th {\n",
              "        text-align: right;\n",
              "    }\n",
              "</style>\n",
              "<table border=\"1\" class=\"dataframe\">\n",
              "  <thead>\n",
              "    <tr style=\"text-align: right;\">\n",
              "      <th></th>\n",
              "      <th>YEAR</th>\n",
              "      <th>MONTH</th>\n",
              "      <th>DAY_OF_MONTH</th>\n",
              "      <th>DAY_OF_WEEK</th>\n",
              "      <th>FL_DATE</th>\n",
              "      <th>ORIGIN</th>\n",
              "      <th>ORIGIN_AIRPORT_ID</th>\n",
              "      <th>DEST_AIRPORT_ID</th>\n",
              "      <th>TAIL_NUM</th>\n",
              "      <th>AIR_TIME</th>\n",
              "      <th>OP_CARRIER_FL_NUM</th>\n",
              "      <th>DISTANCE</th>\n",
              "      <th>OP_CARRIER_AIRLINE_ID</th>\n",
              "      <th>DEP_DEL15</th>\n",
              "      <th>CRS_DEP_TIME</th>\n",
              "      <th>CRS_ELAPSED_TIME</th>\n",
              "      <th>TAXI_OUT</th>\n",
              "      <th>DEP_TIME</th>\n",
              "      <th>WEEK_OF_MONTH</th>\n",
              "      <th>DAY_OF_WEEK_days_end</th>\n",
              "      <th>Dep_period</th>\n",
              "      <th>percentage_DEP_TIMEslot_del</th>\n",
              "    </tr>\n",
              "  </thead>\n",
              "  <tbody>\n",
              "    <tr>\n",
              "      <th>0</th>\n",
              "      <td>2021</td>\n",
              "      <td>1</td>\n",
              "      <td>17</td>\n",
              "      <td>7</td>\n",
              "      <td>2021-01-17</td>\n",
              "      <td>DFW</td>\n",
              "      <td>11298</td>\n",
              "      <td>11433</td>\n",
              "      <td>N326NB</td>\n",
              "      <td>126.0</td>\n",
              "      <td>1089</td>\n",
              "      <td>986.0</td>\n",
              "      <td>19790</td>\n",
              "      <td>0.0</td>\n",
              "      <td>1153</td>\n",
              "      <td>150.0</td>\n",
              "      <td>28.0</td>\n",
              "      <td>1151.0</td>\n",
              "      <td>3</td>\n",
              "      <td>1</td>\n",
              "      <td>Morning</td>\n",
              "      <td>10.3</td>\n",
              "    </tr>\n",
              "    <tr>\n",
              "      <th>1</th>\n",
              "      <td>2021</td>\n",
              "      <td>1</td>\n",
              "      <td>17</td>\n",
              "      <td>7</td>\n",
              "      <td>2021-01-17</td>\n",
              "      <td>MSY</td>\n",
              "      <td>13495</td>\n",
              "      <td>11433</td>\n",
              "      <td>N334NB</td>\n",
              "      <td>118.0</td>\n",
              "      <td>1206</td>\n",
              "      <td>926.0</td>\n",
              "      <td>19790</td>\n",
              "      <td>0.0</td>\n",
              "      <td>1157</td>\n",
              "      <td>147.0</td>\n",
              "      <td>10.0</td>\n",
              "      <td>1155.0</td>\n",
              "      <td>3</td>\n",
              "      <td>1</td>\n",
              "      <td>Morning</td>\n",
              "      <td>10.3</td>\n",
              "    </tr>\n",
              "    <tr>\n",
              "      <th>2</th>\n",
              "      <td>2021</td>\n",
              "      <td>1</td>\n",
              "      <td>17</td>\n",
              "      <td>7</td>\n",
              "      <td>2021-01-17</td>\n",
              "      <td>EWR</td>\n",
              "      <td>11618</td>\n",
              "      <td>10397</td>\n",
              "      <td>N991AT</td>\n",
              "      <td>129.0</td>\n",
              "      <td>1255</td>\n",
              "      <td>746.0</td>\n",
              "      <td>19790</td>\n",
              "      <td>0.0</td>\n",
              "      <td>1110</td>\n",
              "      <td>147.0</td>\n",
              "      <td>12.0</td>\n",
              "      <td>1102.0</td>\n",
              "      <td>3</td>\n",
              "      <td>1</td>\n",
              "      <td>Morning</td>\n",
              "      <td>10.3</td>\n",
              "    </tr>\n",
              "  </tbody>\n",
              "</table>\n",
              "</div>"
            ],
            "text/plain": [
              "   YEAR  MONTH  ...  Dep_period  percentage_DEP_TIMEslot_del\n",
              "0  2021      1  ...     Morning                         10.3\n",
              "1  2021      1  ...     Morning                         10.3\n",
              "2  2021      1  ...     Morning                         10.3\n",
              "\n",
              "[3 rows x 22 columns]"
            ]
          },
          "execution_count": 18,
          "metadata": {},
          "output_type": "execute_result"
        }
      ]
    },
    {
      "cell_type": "markdown",
      "metadata": {
        "id": "qmOkCACMeqkm"
      },
      "source": [
        "### 2. ORIGIN - Perodic time slot delay percentage"
      ]
    },
    {
      "cell_type": "code",
      "metadata": {
        "colab": {
          "base_uri": "https://localhost:8080/",
          "height": 174
        },
        "id": "JZmaNcU3Kzax",
        "outputId": "880c77fd-8153-45e4-a257-c892f3668d3c"
      },
      "source": [
        "periodcountperairport = systematic_sample_selectedcols[['ORIGIN','Dep_period']].groupby(['ORIGIN','Dep_period']).count().reset_index()\n",
        "periodcountperairport.head(4)"
      ],
      "execution_count": null,
      "outputs": [
        {
          "data": {
            "text/html": [
              "<div>\n",
              "<style scoped>\n",
              "    .dataframe tbody tr th:only-of-type {\n",
              "        vertical-align: middle;\n",
              "    }\n",
              "\n",
              "    .dataframe tbody tr th {\n",
              "        vertical-align: top;\n",
              "    }\n",
              "\n",
              "    .dataframe thead th {\n",
              "        text-align: right;\n",
              "    }\n",
              "</style>\n",
              "<table border=\"1\" class=\"dataframe\">\n",
              "  <thead>\n",
              "    <tr style=\"text-align: right;\">\n",
              "      <th></th>\n",
              "      <th>ORIGIN</th>\n",
              "      <th>Dep_period</th>\n",
              "    </tr>\n",
              "  </thead>\n",
              "  <tbody>\n",
              "    <tr>\n",
              "      <th>0</th>\n",
              "      <td>ABE</td>\n",
              "      <td>Afternoon</td>\n",
              "    </tr>\n",
              "    <tr>\n",
              "      <th>1</th>\n",
              "      <td>ABE</td>\n",
              "      <td>Early morning</td>\n",
              "    </tr>\n",
              "    <tr>\n",
              "      <th>2</th>\n",
              "      <td>ABE</td>\n",
              "      <td>Evening</td>\n",
              "    </tr>\n",
              "    <tr>\n",
              "      <th>3</th>\n",
              "      <td>ABE</td>\n",
              "      <td>Morning</td>\n",
              "    </tr>\n",
              "  </tbody>\n",
              "</table>\n",
              "</div>"
            ],
            "text/plain": [
              "  ORIGIN     Dep_period\n",
              "0    ABE      Afternoon\n",
              "1    ABE  Early morning\n",
              "2    ABE        Evening\n",
              "3    ABE        Morning"
            ]
          },
          "execution_count": 19,
          "metadata": {},
          "output_type": "execute_result"
        }
      ]
    },
    {
      "cell_type": "code",
      "metadata": {
        "colab": {
          "base_uri": "https://localhost:8080/",
          "height": 215
        },
        "id": "mbgWVzTK_AQn",
        "outputId": "022fe5ff-9200-4fdf-e239-1d5a9604baf9"
      },
      "source": [
        "pd.options.display.float_format = '{:.1f}'.format\n",
        "periodcountperorg = systematic_sample_selectedcols.groupby(['Dep_period','ORIGIN']).agg({'Dep_period' : ['count'],'DEP_DEL15' : ['sum']}).reset_index()\n",
        "periodcountperorg.columns=['Dep_period','ORIGIN','ORIGIN_timeslot_tot_count','ORIGIN_timeslotwise_DELAY_COUNT']\n",
        "periodcountperorg.sort_values(['ORIGIN_timeslotwise_DELAY_COUNT'],ascending=False)\n",
        "percentage1= (periodcountperorg['ORIGIN_timeslotwise_DELAY_COUNT']/periodcountperorg['ORIGIN_timeslot_tot_count'])*100\n",
        "periodcountperorg['percentage_Delay_org']=percentage1\n",
        "periodcountperorg.sort_values(by='percentage_Delay_org',ascending=False)\n",
        "#periodcountperorg['ORIGIN_timeslot_weight'] = pd.qcut(periodcountperorg['percentage_Delay_org'], 200, labels = False,duplicates='drop')\n",
        "periodcountperorg.head()\n",
        "systematic_sample_selectedcols_1 = systematic_sample_selectedcols0.merge(periodcountperorg, left_on=['ORIGIN','Dep_period'], right_on=['ORIGIN','Dep_period'])\n",
        "systematic_sample_selectedcols_1.drop(columns=['ORIGIN','ORIGIN_timeslot_tot_count','ORIGIN_timeslotwise_DELAY_COUNT'], inplace=True, axis=1)\n",
        "systematic_sample_selectedcols_1.head(3)"
      ],
      "execution_count": null,
      "outputs": [
        {
          "data": {
            "text/html": [
              "<div>\n",
              "<style scoped>\n",
              "    .dataframe tbody tr th:only-of-type {\n",
              "        vertical-align: middle;\n",
              "    }\n",
              "\n",
              "    .dataframe tbody tr th {\n",
              "        vertical-align: top;\n",
              "    }\n",
              "\n",
              "    .dataframe thead th {\n",
              "        text-align: right;\n",
              "    }\n",
              "</style>\n",
              "<table border=\"1\" class=\"dataframe\">\n",
              "  <thead>\n",
              "    <tr style=\"text-align: right;\">\n",
              "      <th></th>\n",
              "      <th>YEAR</th>\n",
              "      <th>MONTH</th>\n",
              "      <th>DAY_OF_MONTH</th>\n",
              "      <th>DAY_OF_WEEK</th>\n",
              "      <th>FL_DATE</th>\n",
              "      <th>ORIGIN_AIRPORT_ID</th>\n",
              "      <th>DEST_AIRPORT_ID</th>\n",
              "      <th>TAIL_NUM</th>\n",
              "      <th>AIR_TIME</th>\n",
              "      <th>OP_CARRIER_FL_NUM</th>\n",
              "      <th>DISTANCE</th>\n",
              "      <th>OP_CARRIER_AIRLINE_ID</th>\n",
              "      <th>DEP_DEL15</th>\n",
              "      <th>CRS_DEP_TIME</th>\n",
              "      <th>CRS_ELAPSED_TIME</th>\n",
              "      <th>TAXI_OUT</th>\n",
              "      <th>DEP_TIME</th>\n",
              "      <th>WEEK_OF_MONTH</th>\n",
              "      <th>DAY_OF_WEEK_days_end</th>\n",
              "      <th>Dep_period</th>\n",
              "      <th>percentage_DEP_TIMEslot_del</th>\n",
              "      <th>percentage_Delay_org</th>\n",
              "    </tr>\n",
              "  </thead>\n",
              "  <tbody>\n",
              "    <tr>\n",
              "      <th>0</th>\n",
              "      <td>2021</td>\n",
              "      <td>1</td>\n",
              "      <td>17</td>\n",
              "      <td>7</td>\n",
              "      <td>2021-01-17</td>\n",
              "      <td>11298</td>\n",
              "      <td>11433</td>\n",
              "      <td>N326NB</td>\n",
              "      <td>126.0</td>\n",
              "      <td>1089</td>\n",
              "      <td>986.0</td>\n",
              "      <td>19790</td>\n",
              "      <td>0.0</td>\n",
              "      <td>1153</td>\n",
              "      <td>150.0</td>\n",
              "      <td>28.0</td>\n",
              "      <td>1151.0</td>\n",
              "      <td>3</td>\n",
              "      <td>1</td>\n",
              "      <td>Morning</td>\n",
              "      <td>10.3</td>\n",
              "      <td>10.4</td>\n",
              "    </tr>\n",
              "    <tr>\n",
              "      <th>1</th>\n",
              "      <td>2021</td>\n",
              "      <td>1</td>\n",
              "      <td>24</td>\n",
              "      <td>7</td>\n",
              "      <td>2021-01-24</td>\n",
              "      <td>11298</td>\n",
              "      <td>13931</td>\n",
              "      <td>N227NN</td>\n",
              "      <td>140.0</td>\n",
              "      <td>3326</td>\n",
              "      <td>1212.0</td>\n",
              "      <td>20398</td>\n",
              "      <td>1.0</td>\n",
              "      <td>1045</td>\n",
              "      <td>181.0</td>\n",
              "      <td>12.0</td>\n",
              "      <td>1153.0</td>\n",
              "      <td>4</td>\n",
              "      <td>1</td>\n",
              "      <td>Morning</td>\n",
              "      <td>10.3</td>\n",
              "      <td>10.4</td>\n",
              "    </tr>\n",
              "    <tr>\n",
              "      <th>2</th>\n",
              "      <td>2021</td>\n",
              "      <td>1</td>\n",
              "      <td>5</td>\n",
              "      <td>2</td>\n",
              "      <td>2021-01-05</td>\n",
              "      <td>11298</td>\n",
              "      <td>15016</td>\n",
              "      <td>N285NN</td>\n",
              "      <td>80.0</td>\n",
              "      <td>3352</td>\n",
              "      <td>550.0</td>\n",
              "      <td>20398</td>\n",
              "      <td>1.0</td>\n",
              "      <td>1019</td>\n",
              "      <td>109.0</td>\n",
              "      <td>12.0</td>\n",
              "      <td>1130.0</td>\n",
              "      <td>2</td>\n",
              "      <td>0</td>\n",
              "      <td>Morning</td>\n",
              "      <td>10.3</td>\n",
              "      <td>10.4</td>\n",
              "    </tr>\n",
              "  </tbody>\n",
              "</table>\n",
              "</div>"
            ],
            "text/plain": [
              "   YEAR  MONTH  ...  percentage_DEP_TIMEslot_del  percentage_Delay_org\n",
              "0  2021      1  ...                         10.3                  10.4\n",
              "1  2021      1  ...                         10.3                  10.4\n",
              "2  2021      1  ...                         10.3                  10.4\n",
              "\n",
              "[3 rows x 22 columns]"
            ]
          },
          "execution_count": 20,
          "metadata": {},
          "output_type": "execute_result"
        }
      ]
    },
    {
      "cell_type": "markdown",
      "metadata": {
        "id": "FtTO_Rdl8wX2"
      },
      "source": [
        "### 3. OP_carrier airline- Perodic time slot delay weights"
      ]
    },
    {
      "cell_type": "code",
      "metadata": {
        "colab": {
          "base_uri": "https://localhost:8080/",
          "height": 206
        },
        "id": "AlgpGilC2oxd",
        "outputId": "47350bcd-5009-460f-db2f-7469a3d6f778"
      },
      "source": [
        "periodcountperairLine = systematic_sample_selectedcols[['OP_CARRIER_AIRLINE_ID','Dep_period']].groupby(['OP_CARRIER_AIRLINE_ID','Dep_period']).count().reset_index()\n",
        "periodcountperairLine.head(5)"
      ],
      "execution_count": null,
      "outputs": [
        {
          "data": {
            "text/html": [
              "<div>\n",
              "<style scoped>\n",
              "    .dataframe tbody tr th:only-of-type {\n",
              "        vertical-align: middle;\n",
              "    }\n",
              "\n",
              "    .dataframe tbody tr th {\n",
              "        vertical-align: top;\n",
              "    }\n",
              "\n",
              "    .dataframe thead th {\n",
              "        text-align: right;\n",
              "    }\n",
              "</style>\n",
              "<table border=\"1\" class=\"dataframe\">\n",
              "  <thead>\n",
              "    <tr style=\"text-align: right;\">\n",
              "      <th></th>\n",
              "      <th>OP_CARRIER_AIRLINE_ID</th>\n",
              "      <th>Dep_period</th>\n",
              "    </tr>\n",
              "  </thead>\n",
              "  <tbody>\n",
              "    <tr>\n",
              "      <th>0</th>\n",
              "      <td>19393</td>\n",
              "      <td>Afternoon</td>\n",
              "    </tr>\n",
              "    <tr>\n",
              "      <th>1</th>\n",
              "      <td>19393</td>\n",
              "      <td>Early morning</td>\n",
              "    </tr>\n",
              "    <tr>\n",
              "      <th>2</th>\n",
              "      <td>19393</td>\n",
              "      <td>Evening</td>\n",
              "    </tr>\n",
              "    <tr>\n",
              "      <th>3</th>\n",
              "      <td>19393</td>\n",
              "      <td>Midnight</td>\n",
              "    </tr>\n",
              "    <tr>\n",
              "      <th>4</th>\n",
              "      <td>19393</td>\n",
              "      <td>Morning</td>\n",
              "    </tr>\n",
              "  </tbody>\n",
              "</table>\n",
              "</div>"
            ],
            "text/plain": [
              "   OP_CARRIER_AIRLINE_ID     Dep_period\n",
              "0                  19393      Afternoon\n",
              "1                  19393  Early morning\n",
              "2                  19393        Evening\n",
              "3                  19393       Midnight\n",
              "4                  19393        Morning"
            ]
          },
          "execution_count": 21,
          "metadata": {},
          "output_type": "execute_result"
        }
      ]
    },
    {
      "cell_type": "code",
      "metadata": {
        "colab": {
          "base_uri": "https://localhost:8080/",
          "height": 313
        },
        "id": "XddhxFPr2ouI",
        "outputId": "471095c9-37bd-47ce-c650-1db066f98547"
      },
      "source": [
        "pd.options.display.float_format = '{:.1f}'.format\n",
        "periodcountperairLine = systematic_sample_selectedcols.groupby(['Dep_period','OP_CARRIER_AIRLINE_ID']).agg({'Dep_period' : ['count'],'DEP_DEL15' : ['sum']}).reset_index()\n",
        "periodcountperairLine.columns=['Dep_period','OP_CARRIER_AIRLINE_ID','OP_CARRIER_timeslot_TOTcount','OP_CARRIER_timeslotwise_DELAY_COUNT']\n",
        "periodcountperairLine.sort_values(['OP_CARRIER_timeslotwise_DELAY_COUNT'],ascending=False)\n",
        "percentage1= (periodcountperairLine['OP_CARRIER_timeslotwise_DELAY_COUNT']/periodcountperairLine['OP_CARRIER_timeslot_TOTcount'])*100\n",
        "periodcountperairLine['percentage_Delay1']=percentage1\n",
        "periodcountperairLine.sort_values(by='percentage_Delay1',ascending=False)\n",
        "#periodcountperairLine['OP_CARRIER_airline_timeslot_weight'] = pd.qcut(periodcountperairLine['percentage_Delay1'], 200, labels = False,duplicates='drop')\n",
        "systematic_sample_selectedcols_2 = systematic_sample_selectedcols_1.merge(periodcountperairLine, left_on=['OP_CARRIER_AIRLINE_ID','Dep_period'], right_on=['OP_CARRIER_AIRLINE_ID','Dep_period'])\n",
        "systematic_sample_selectedcols_2.drop(columns=['OP_CARRIER_AIRLINE_ID','OP_CARRIER_timeslotwise_DELAY_COUNT','OP_CARRIER_timeslot_TOTcount'], inplace=True, axis=1)\n",
        "systematic_sample_selectedcols_2.head()"
      ],
      "execution_count": null,
      "outputs": [
        {
          "data": {
            "text/html": [
              "<div>\n",
              "<style scoped>\n",
              "    .dataframe tbody tr th:only-of-type {\n",
              "        vertical-align: middle;\n",
              "    }\n",
              "\n",
              "    .dataframe tbody tr th {\n",
              "        vertical-align: top;\n",
              "    }\n",
              "\n",
              "    .dataframe thead th {\n",
              "        text-align: right;\n",
              "    }\n",
              "</style>\n",
              "<table border=\"1\" class=\"dataframe\">\n",
              "  <thead>\n",
              "    <tr style=\"text-align: right;\">\n",
              "      <th></th>\n",
              "      <th>YEAR</th>\n",
              "      <th>MONTH</th>\n",
              "      <th>DAY_OF_MONTH</th>\n",
              "      <th>DAY_OF_WEEK</th>\n",
              "      <th>FL_DATE</th>\n",
              "      <th>ORIGIN_AIRPORT_ID</th>\n",
              "      <th>DEST_AIRPORT_ID</th>\n",
              "      <th>TAIL_NUM</th>\n",
              "      <th>AIR_TIME</th>\n",
              "      <th>OP_CARRIER_FL_NUM</th>\n",
              "      <th>DISTANCE</th>\n",
              "      <th>DEP_DEL15</th>\n",
              "      <th>CRS_DEP_TIME</th>\n",
              "      <th>CRS_ELAPSED_TIME</th>\n",
              "      <th>TAXI_OUT</th>\n",
              "      <th>DEP_TIME</th>\n",
              "      <th>WEEK_OF_MONTH</th>\n",
              "      <th>DAY_OF_WEEK_days_end</th>\n",
              "      <th>Dep_period</th>\n",
              "      <th>percentage_DEP_TIMEslot_del</th>\n",
              "      <th>percentage_Delay_org</th>\n",
              "      <th>percentage_Delay1</th>\n",
              "    </tr>\n",
              "  </thead>\n",
              "  <tbody>\n",
              "    <tr>\n",
              "      <th>0</th>\n",
              "      <td>2021</td>\n",
              "      <td>1</td>\n",
              "      <td>17</td>\n",
              "      <td>7</td>\n",
              "      <td>2021-01-17</td>\n",
              "      <td>11298</td>\n",
              "      <td>11433</td>\n",
              "      <td>N326NB</td>\n",
              "      <td>126.0</td>\n",
              "      <td>1089</td>\n",
              "      <td>986.0</td>\n",
              "      <td>0.0</td>\n",
              "      <td>1153</td>\n",
              "      <td>150.0</td>\n",
              "      <td>28.0</td>\n",
              "      <td>1151.0</td>\n",
              "      <td>3</td>\n",
              "      <td>1</td>\n",
              "      <td>Morning</td>\n",
              "      <td>10.3</td>\n",
              "      <td>10.4</td>\n",
              "      <td>6.3</td>\n",
              "    </tr>\n",
              "    <tr>\n",
              "      <th>1</th>\n",
              "      <td>2021</td>\n",
              "      <td>2</td>\n",
              "      <td>24</td>\n",
              "      <td>3</td>\n",
              "      <td>2021-02-24</td>\n",
              "      <td>11298</td>\n",
              "      <td>10397</td>\n",
              "      <td>N305DN</td>\n",
              "      <td>91.0</td>\n",
              "      <td>1244</td>\n",
              "      <td>731.0</td>\n",
              "      <td>1.0</td>\n",
              "      <td>1049</td>\n",
              "      <td>121.0</td>\n",
              "      <td>22.0</td>\n",
              "      <td>1115.0</td>\n",
              "      <td>5</td>\n",
              "      <td>0</td>\n",
              "      <td>Morning</td>\n",
              "      <td>10.3</td>\n",
              "      <td>10.4</td>\n",
              "      <td>6.3</td>\n",
              "    </tr>\n",
              "    <tr>\n",
              "      <th>2</th>\n",
              "      <td>2021</td>\n",
              "      <td>2</td>\n",
              "      <td>9</td>\n",
              "      <td>2</td>\n",
              "      <td>2021-02-09</td>\n",
              "      <td>11298</td>\n",
              "      <td>11433</td>\n",
              "      <td>N353NB</td>\n",
              "      <td>118.0</td>\n",
              "      <td>1089</td>\n",
              "      <td>986.0</td>\n",
              "      <td>0.0</td>\n",
              "      <td>1155</td>\n",
              "      <td>150.0</td>\n",
              "      <td>10.0</td>\n",
              "      <td>1147.0</td>\n",
              "      <td>3</td>\n",
              "      <td>0</td>\n",
              "      <td>Morning</td>\n",
              "      <td>10.3</td>\n",
              "      <td>10.4</td>\n",
              "      <td>6.3</td>\n",
              "    </tr>\n",
              "    <tr>\n",
              "      <th>3</th>\n",
              "      <td>2021</td>\n",
              "      <td>2</td>\n",
              "      <td>27</td>\n",
              "      <td>6</td>\n",
              "      <td>2021-02-27</td>\n",
              "      <td>11298</td>\n",
              "      <td>11433</td>\n",
              "      <td>N368NB</td>\n",
              "      <td>112.0</td>\n",
              "      <td>1089</td>\n",
              "      <td>986.0</td>\n",
              "      <td>0.0</td>\n",
              "      <td>1155</td>\n",
              "      <td>150.0</td>\n",
              "      <td>21.0</td>\n",
              "      <td>1159.0</td>\n",
              "      <td>5</td>\n",
              "      <td>1</td>\n",
              "      <td>Morning</td>\n",
              "      <td>10.3</td>\n",
              "      <td>10.4</td>\n",
              "      <td>6.3</td>\n",
              "    </tr>\n",
              "    <tr>\n",
              "      <th>4</th>\n",
              "      <td>2021</td>\n",
              "      <td>2</td>\n",
              "      <td>13</td>\n",
              "      <td>6</td>\n",
              "      <td>2021-02-13</td>\n",
              "      <td>11298</td>\n",
              "      <td>10397</td>\n",
              "      <td>N329DN</td>\n",
              "      <td>92.0</td>\n",
              "      <td>1244</td>\n",
              "      <td>731.0</td>\n",
              "      <td>1.0</td>\n",
              "      <td>1049</td>\n",
              "      <td>121.0</td>\n",
              "      <td>21.0</td>\n",
              "      <td>1157.0</td>\n",
              "      <td>3</td>\n",
              "      <td>1</td>\n",
              "      <td>Morning</td>\n",
              "      <td>10.3</td>\n",
              "      <td>10.4</td>\n",
              "      <td>6.3</td>\n",
              "    </tr>\n",
              "  </tbody>\n",
              "</table>\n",
              "</div>"
            ],
            "text/plain": [
              "   YEAR  MONTH  ...  percentage_Delay_org  percentage_Delay1\n",
              "0  2021      1  ...                  10.4                6.3\n",
              "1  2021      2  ...                  10.4                6.3\n",
              "2  2021      2  ...                  10.4                6.3\n",
              "3  2021      2  ...                  10.4                6.3\n",
              "4  2021      2  ...                  10.4                6.3\n",
              "\n",
              "[5 rows x 22 columns]"
            ]
          },
          "execution_count": 22,
          "metadata": {},
          "output_type": "execute_result"
        }
      ]
    },
    {
      "cell_type": "markdown",
      "metadata": {
        "id": "OGkNwoI4-zIV"
      },
      "source": [
        "### 5. Tail number-Delay count"
      ]
    },
    {
      "cell_type": "code",
      "metadata": {
        "colab": {
          "base_uri": "https://localhost:8080/",
          "height": 556
        },
        "id": "6PT7komVXImC",
        "outputId": "90b62087-23b1-467b-886b-75df18ce8e9a"
      },
      "source": [
        "tail_dep_del = systematic_sample_selectedcols[['TAIL_NUM','DEP_DEL15']].groupby('TAIL_NUM').sum().sort_values(by='DEP_DEL15',ascending=False).reset_index()\n",
        "tail_dep_del.rename({'DEP_DEL15':'TAIL_NUM_DELAY_COUNT'},inplace=True, axis=1)\n",
        "#tail_dep_del['TAIL_DELAY_weight'] = pd.qcut(tail_dep_del['TAIL_NUM_DELAY_COUNT'], 60, labels = False,duplicates='drop')\n",
        "print(tail_dep_del)\n",
        "systematic_sample_selectedcols_3 = systematic_sample_selectedcols_2.merge(tail_dep_del, left_on='TAIL_NUM', right_on='TAIL_NUM')\n",
        "systematic_sample_selectedcols_3.drop(columns=['TAIL_NUM'], inplace=True, axis=1)\n",
        "systematic_sample_selectedcols_3.head()"
      ],
      "execution_count": null,
      "outputs": [
        {
          "name": "stdout",
          "output_type": "stream",
          "text": [
            "     TAIL_NUM  TAIL_NUM_DELAY_COUNT\n",
            "0      N957LR                  20.0\n",
            "1      N952LR                  19.0\n",
            "2      N425LV                  18.0\n",
            "3      N430WN                  18.0\n",
            "4      N7737E                  18.0\n",
            "...       ...                   ...\n",
            "5359   N39726                   0.0\n",
            "5360   N396HA                   0.0\n",
            "5361   N396DA                   0.0\n",
            "5362   N14735                   0.0\n",
            "5363   N773UA                   0.0\n",
            "\n",
            "[5364 rows x 2 columns]\n"
          ]
        },
        {
          "data": {
            "text/html": [
              "<div>\n",
              "<style scoped>\n",
              "    .dataframe tbody tr th:only-of-type {\n",
              "        vertical-align: middle;\n",
              "    }\n",
              "\n",
              "    .dataframe tbody tr th {\n",
              "        vertical-align: top;\n",
              "    }\n",
              "\n",
              "    .dataframe thead th {\n",
              "        text-align: right;\n",
              "    }\n",
              "</style>\n",
              "<table border=\"1\" class=\"dataframe\">\n",
              "  <thead>\n",
              "    <tr style=\"text-align: right;\">\n",
              "      <th></th>\n",
              "      <th>YEAR</th>\n",
              "      <th>MONTH</th>\n",
              "      <th>DAY_OF_MONTH</th>\n",
              "      <th>DAY_OF_WEEK</th>\n",
              "      <th>FL_DATE</th>\n",
              "      <th>ORIGIN_AIRPORT_ID</th>\n",
              "      <th>DEST_AIRPORT_ID</th>\n",
              "      <th>AIR_TIME</th>\n",
              "      <th>OP_CARRIER_FL_NUM</th>\n",
              "      <th>DISTANCE</th>\n",
              "      <th>DEP_DEL15</th>\n",
              "      <th>CRS_DEP_TIME</th>\n",
              "      <th>CRS_ELAPSED_TIME</th>\n",
              "      <th>TAXI_OUT</th>\n",
              "      <th>DEP_TIME</th>\n",
              "      <th>WEEK_OF_MONTH</th>\n",
              "      <th>DAY_OF_WEEK_days_end</th>\n",
              "      <th>Dep_period</th>\n",
              "      <th>percentage_DEP_TIMEslot_del</th>\n",
              "      <th>percentage_Delay_org</th>\n",
              "      <th>percentage_Delay1</th>\n",
              "      <th>TAIL_NUM_DELAY_COUNT</th>\n",
              "    </tr>\n",
              "  </thead>\n",
              "  <tbody>\n",
              "    <tr>\n",
              "      <th>0</th>\n",
              "      <td>2021</td>\n",
              "      <td>1</td>\n",
              "      <td>17</td>\n",
              "      <td>7</td>\n",
              "      <td>2021-01-17</td>\n",
              "      <td>11298</td>\n",
              "      <td>11433</td>\n",
              "      <td>126.0</td>\n",
              "      <td>1089</td>\n",
              "      <td>986.0</td>\n",
              "      <td>0.0</td>\n",
              "      <td>1153</td>\n",
              "      <td>150.0</td>\n",
              "      <td>28.0</td>\n",
              "      <td>1151.0</td>\n",
              "      <td>3</td>\n",
              "      <td>1</td>\n",
              "      <td>Morning</td>\n",
              "      <td>10.3</td>\n",
              "      <td>10.4</td>\n",
              "      <td>6.3</td>\n",
              "      <td>4.0</td>\n",
              "    </tr>\n",
              "    <tr>\n",
              "      <th>1</th>\n",
              "      <td>2021</td>\n",
              "      <td>4</td>\n",
              "      <td>30</td>\n",
              "      <td>5</td>\n",
              "      <td>2021-04-30</td>\n",
              "      <td>11298</td>\n",
              "      <td>13487</td>\n",
              "      <td>118.0</td>\n",
              "      <td>2025</td>\n",
              "      <td>852.0</td>\n",
              "      <td>0.0</td>\n",
              "      <td>905</td>\n",
              "      <td>146.0</td>\n",
              "      <td>14.0</td>\n",
              "      <td>857.0</td>\n",
              "      <td>5</td>\n",
              "      <td>0</td>\n",
              "      <td>Morning</td>\n",
              "      <td>5.7</td>\n",
              "      <td>10.4</td>\n",
              "      <td>6.3</td>\n",
              "      <td>4.0</td>\n",
              "    </tr>\n",
              "    <tr>\n",
              "      <th>2</th>\n",
              "      <td>2021</td>\n",
              "      <td>1</td>\n",
              "      <td>18</td>\n",
              "      <td>1</td>\n",
              "      <td>2021-01-18</td>\n",
              "      <td>10397</td>\n",
              "      <td>11624</td>\n",
              "      <td>94.0</td>\n",
              "      <td>2233</td>\n",
              "      <td>646.0</td>\n",
              "      <td>0.0</td>\n",
              "      <td>940</td>\n",
              "      <td>110.0</td>\n",
              "      <td>11.0</td>\n",
              "      <td>934.0</td>\n",
              "      <td>4</td>\n",
              "      <td>0</td>\n",
              "      <td>Morning</td>\n",
              "      <td>8.4</td>\n",
              "      <td>7.4</td>\n",
              "      <td>6.3</td>\n",
              "      <td>4.0</td>\n",
              "    </tr>\n",
              "    <tr>\n",
              "      <th>3</th>\n",
              "      <td>2021</td>\n",
              "      <td>5</td>\n",
              "      <td>26</td>\n",
              "      <td>3</td>\n",
              "      <td>2021-05-26</td>\n",
              "      <td>14869</td>\n",
              "      <td>11648</td>\n",
              "      <td>81.0</td>\n",
              "      <td>2126</td>\n",
              "      <td>531.0</td>\n",
              "      <td>0.0</td>\n",
              "      <td>1159</td>\n",
              "      <td>98.0</td>\n",
              "      <td>13.0</td>\n",
              "      <td>1152.0</td>\n",
              "      <td>5</td>\n",
              "      <td>0</td>\n",
              "      <td>Morning</td>\n",
              "      <td>10.3</td>\n",
              "      <td>7.0</td>\n",
              "      <td>6.3</td>\n",
              "      <td>4.0</td>\n",
              "    </tr>\n",
              "    <tr>\n",
              "      <th>4</th>\n",
              "      <td>2021</td>\n",
              "      <td>4</td>\n",
              "      <td>6</td>\n",
              "      <td>2</td>\n",
              "      <td>2021-04-06</td>\n",
              "      <td>14869</td>\n",
              "      <td>11884</td>\n",
              "      <td>80.0</td>\n",
              "      <td>2405</td>\n",
              "      <td>546.0</td>\n",
              "      <td>0.0</td>\n",
              "      <td>815</td>\n",
              "      <td>105.0</td>\n",
              "      <td>22.0</td>\n",
              "      <td>810.0</td>\n",
              "      <td>2</td>\n",
              "      <td>0</td>\n",
              "      <td>Morning</td>\n",
              "      <td>5.7</td>\n",
              "      <td>7.0</td>\n",
              "      <td>6.3</td>\n",
              "      <td>4.0</td>\n",
              "    </tr>\n",
              "  </tbody>\n",
              "</table>\n",
              "</div>"
            ],
            "text/plain": [
              "   YEAR  MONTH  ...  percentage_Delay1  TAIL_NUM_DELAY_COUNT\n",
              "0  2021      1  ...                6.3                   4.0\n",
              "1  2021      4  ...                6.3                   4.0\n",
              "2  2021      1  ...                6.3                   4.0\n",
              "3  2021      5  ...                6.3                   4.0\n",
              "4  2021      4  ...                6.3                   4.0\n",
              "\n",
              "[5 rows x 22 columns]"
            ]
          },
          "execution_count": 23,
          "metadata": {},
          "output_type": "execute_result"
        }
      ]
    },
    {
      "cell_type": "markdown",
      "metadata": {
        "id": "t6CLIbwgE1sG"
      },
      "source": [
        "## Including Week_days and Week_ends column "
      ]
    },
    {
      "cell_type": "code",
      "metadata": {
        "colab": {
          "base_uri": "https://localhost:8080/",
          "height": 313
        },
        "id": "afEWcbNjE-ot",
        "outputId": "add4264b-3c5a-4b2e-8299-186931f4d408"
      },
      "source": [
        "#'DAY_OF_WEEK' because delay could depend on traffic in specific days: classify it to weekend or working day\n",
        "def get_day_category(day_of_week):\n",
        "    if day_of_week <= 5:\n",
        "        return 0 #'working day'\n",
        "    elif day_of_week > 5:\n",
        "        return 1 #'weekend'\n",
        "systematic_sample_selectedcols_3['DAY_OF_WEEK_day_end'] = systematic_sample_selectedcols_3['DAY_OF_WEEK']\n",
        "   \n",
        "systematic_sample_selectedcols_3.DAY_OF_WEEK_day_end = systematic_sample_selectedcols_3.DAY_OF_WEEK_day_end.apply(get_day_category)\n",
        "systematic_sample_selectedcols_3.head()"
      ],
      "execution_count": null,
      "outputs": [
        {
          "data": {
            "text/html": [
              "<div>\n",
              "<style scoped>\n",
              "    .dataframe tbody tr th:only-of-type {\n",
              "        vertical-align: middle;\n",
              "    }\n",
              "\n",
              "    .dataframe tbody tr th {\n",
              "        vertical-align: top;\n",
              "    }\n",
              "\n",
              "    .dataframe thead th {\n",
              "        text-align: right;\n",
              "    }\n",
              "</style>\n",
              "<table border=\"1\" class=\"dataframe\">\n",
              "  <thead>\n",
              "    <tr style=\"text-align: right;\">\n",
              "      <th></th>\n",
              "      <th>YEAR</th>\n",
              "      <th>MONTH</th>\n",
              "      <th>DAY_OF_MONTH</th>\n",
              "      <th>DAY_OF_WEEK</th>\n",
              "      <th>FL_DATE</th>\n",
              "      <th>ORIGIN_AIRPORT_ID</th>\n",
              "      <th>DEST_AIRPORT_ID</th>\n",
              "      <th>AIR_TIME</th>\n",
              "      <th>OP_CARRIER_FL_NUM</th>\n",
              "      <th>DISTANCE</th>\n",
              "      <th>DEP_DEL15</th>\n",
              "      <th>CRS_DEP_TIME</th>\n",
              "      <th>CRS_ELAPSED_TIME</th>\n",
              "      <th>TAXI_OUT</th>\n",
              "      <th>DEP_TIME</th>\n",
              "      <th>WEEK_OF_MONTH</th>\n",
              "      <th>DAY_OF_WEEK_days_end</th>\n",
              "      <th>Dep_period</th>\n",
              "      <th>percentage_DEP_TIMEslot_del</th>\n",
              "      <th>percentage_Delay_org</th>\n",
              "      <th>percentage_Delay1</th>\n",
              "      <th>TAIL_NUM_DELAY_COUNT</th>\n",
              "      <th>DAY_OF_WEEK_day_end</th>\n",
              "    </tr>\n",
              "  </thead>\n",
              "  <tbody>\n",
              "    <tr>\n",
              "      <th>0</th>\n",
              "      <td>2021</td>\n",
              "      <td>1</td>\n",
              "      <td>17</td>\n",
              "      <td>7</td>\n",
              "      <td>2021-01-17</td>\n",
              "      <td>11298</td>\n",
              "      <td>11433</td>\n",
              "      <td>126.0</td>\n",
              "      <td>1089</td>\n",
              "      <td>986.0</td>\n",
              "      <td>0.0</td>\n",
              "      <td>1153</td>\n",
              "      <td>150.0</td>\n",
              "      <td>28.0</td>\n",
              "      <td>1151.0</td>\n",
              "      <td>3</td>\n",
              "      <td>1</td>\n",
              "      <td>Morning</td>\n",
              "      <td>10.3</td>\n",
              "      <td>10.4</td>\n",
              "      <td>6.3</td>\n",
              "      <td>4.0</td>\n",
              "      <td>1</td>\n",
              "    </tr>\n",
              "    <tr>\n",
              "      <th>1</th>\n",
              "      <td>2021</td>\n",
              "      <td>4</td>\n",
              "      <td>30</td>\n",
              "      <td>5</td>\n",
              "      <td>2021-04-30</td>\n",
              "      <td>11298</td>\n",
              "      <td>13487</td>\n",
              "      <td>118.0</td>\n",
              "      <td>2025</td>\n",
              "      <td>852.0</td>\n",
              "      <td>0.0</td>\n",
              "      <td>905</td>\n",
              "      <td>146.0</td>\n",
              "      <td>14.0</td>\n",
              "      <td>857.0</td>\n",
              "      <td>5</td>\n",
              "      <td>0</td>\n",
              "      <td>Morning</td>\n",
              "      <td>5.7</td>\n",
              "      <td>10.4</td>\n",
              "      <td>6.3</td>\n",
              "      <td>4.0</td>\n",
              "      <td>0</td>\n",
              "    </tr>\n",
              "    <tr>\n",
              "      <th>2</th>\n",
              "      <td>2021</td>\n",
              "      <td>1</td>\n",
              "      <td>18</td>\n",
              "      <td>1</td>\n",
              "      <td>2021-01-18</td>\n",
              "      <td>10397</td>\n",
              "      <td>11624</td>\n",
              "      <td>94.0</td>\n",
              "      <td>2233</td>\n",
              "      <td>646.0</td>\n",
              "      <td>0.0</td>\n",
              "      <td>940</td>\n",
              "      <td>110.0</td>\n",
              "      <td>11.0</td>\n",
              "      <td>934.0</td>\n",
              "      <td>4</td>\n",
              "      <td>0</td>\n",
              "      <td>Morning</td>\n",
              "      <td>8.4</td>\n",
              "      <td>7.4</td>\n",
              "      <td>6.3</td>\n",
              "      <td>4.0</td>\n",
              "      <td>0</td>\n",
              "    </tr>\n",
              "    <tr>\n",
              "      <th>3</th>\n",
              "      <td>2021</td>\n",
              "      <td>5</td>\n",
              "      <td>26</td>\n",
              "      <td>3</td>\n",
              "      <td>2021-05-26</td>\n",
              "      <td>14869</td>\n",
              "      <td>11648</td>\n",
              "      <td>81.0</td>\n",
              "      <td>2126</td>\n",
              "      <td>531.0</td>\n",
              "      <td>0.0</td>\n",
              "      <td>1159</td>\n",
              "      <td>98.0</td>\n",
              "      <td>13.0</td>\n",
              "      <td>1152.0</td>\n",
              "      <td>5</td>\n",
              "      <td>0</td>\n",
              "      <td>Morning</td>\n",
              "      <td>10.3</td>\n",
              "      <td>7.0</td>\n",
              "      <td>6.3</td>\n",
              "      <td>4.0</td>\n",
              "      <td>0</td>\n",
              "    </tr>\n",
              "    <tr>\n",
              "      <th>4</th>\n",
              "      <td>2021</td>\n",
              "      <td>4</td>\n",
              "      <td>6</td>\n",
              "      <td>2</td>\n",
              "      <td>2021-04-06</td>\n",
              "      <td>14869</td>\n",
              "      <td>11884</td>\n",
              "      <td>80.0</td>\n",
              "      <td>2405</td>\n",
              "      <td>546.0</td>\n",
              "      <td>0.0</td>\n",
              "      <td>815</td>\n",
              "      <td>105.0</td>\n",
              "      <td>22.0</td>\n",
              "      <td>810.0</td>\n",
              "      <td>2</td>\n",
              "      <td>0</td>\n",
              "      <td>Morning</td>\n",
              "      <td>5.7</td>\n",
              "      <td>7.0</td>\n",
              "      <td>6.3</td>\n",
              "      <td>4.0</td>\n",
              "      <td>0</td>\n",
              "    </tr>\n",
              "  </tbody>\n",
              "</table>\n",
              "</div>"
            ],
            "text/plain": [
              "   YEAR  MONTH  ...  TAIL_NUM_DELAY_COUNT  DAY_OF_WEEK_day_end\n",
              "0  2021      1  ...                   4.0                    1\n",
              "1  2021      4  ...                   4.0                    0\n",
              "2  2021      1  ...                   4.0                    0\n",
              "3  2021      5  ...                   4.0                    0\n",
              "4  2021      4  ...                   4.0                    0\n",
              "\n",
              "[5 rows x 23 columns]"
            ]
          },
          "execution_count": 24,
          "metadata": {},
          "output_type": "execute_result"
        }
      ]
    },
    {
      "cell_type": "markdown",
      "metadata": {
        "id": "Jpyqfnw0-4mX"
      },
      "source": [
        "## 6. Days of Week - Delay weight\n"
      ]
    },
    {
      "cell_type": "code",
      "metadata": {
        "colab": {
          "base_uri": "https://localhost:8080/",
          "height": 438
        },
        "id": "Y4U81UBrQPO5",
        "outputId": "c27aab7d-6211-44c5-8fcb-333ed91df238"
      },
      "source": [
        "cols=['DAY_OF_WEEK','TOTALFLIGHT_WEEKDAY','DEPDELAY_WEEKDAY','WEEK_DEP_DELAY_PERCENTAGE']\n",
        "lst = []\n",
        "for week in range(1,8):\n",
        "  WEEK=week\n",
        "  weekflighttot=systematic_sample_selectedcols['DAY_OF_WEEK'][systematic_sample_selectedcols.DAY_OF_WEEK==week].count()\n",
        "  week_all=systematic_sample_selectedcols[systematic_sample_selectedcols['DAY_OF_WEEK']==week]\n",
        "  weekdepdel=week_all['DEP_DEL15'][week_all['DEP_DEL15']==1].sum()\n",
        "  percentweekdepdel=(weekdepdel/weekflighttot)*100\n",
        "  lst.append([WEEK,weekflighttot,weekdepdel,percentweekdepdel])\n",
        "WEEKWISE_DEP_DELAY_TABLE = pd.DataFrame(lst, columns=cols)\n",
        "#WEEKWISE_DEP_DELAY_TABLE['WEEK_DELAY_weight'] = pd.qcut(WEEKWISE_DEP_DELAY_TABLE['WEEK_DEP_DELAY_PERCENTAGE'], 7 , labels = False,duplicates='drop')\n",
        "print(WEEKWISE_DEP_DELAY_TABLE)\n",
        "systematic_sample_selectedcols_4 = systematic_sample_selectedcols_3.merge(WEEKWISE_DEP_DELAY_TABLE, left_on='DAY_OF_WEEK', right_on='DAY_OF_WEEK')\n",
        "systematic_sample_selectedcols_4.drop(columns=['TOTALFLIGHT_WEEKDAY','DEPDELAY_WEEKDAY','DAY_OF_WEEK'], inplace=True, axis=1)\n",
        "systematic_sample_selectedcols_4.head(4)"
      ],
      "execution_count": null,
      "outputs": [
        {
          "name": "stdout",
          "output_type": "stream",
          "text": [
            "   DAY_OF_WEEK  ...  WEEK_DEP_DELAY_PERCENTAGE\n",
            "0            1  ...                       11.6\n",
            "1            2  ...                        9.2\n",
            "2            3  ...                        8.9\n",
            "3            4  ...                       10.6\n",
            "4            5  ...                       11.3\n",
            "5            6  ...                       11.6\n",
            "6            7  ...                       13.2\n",
            "\n",
            "[7 rows x 4 columns]\n"
          ]
        },
        {
          "data": {
            "text/html": [
              "<div>\n",
              "<style scoped>\n",
              "    .dataframe tbody tr th:only-of-type {\n",
              "        vertical-align: middle;\n",
              "    }\n",
              "\n",
              "    .dataframe tbody tr th {\n",
              "        vertical-align: top;\n",
              "    }\n",
              "\n",
              "    .dataframe thead th {\n",
              "        text-align: right;\n",
              "    }\n",
              "</style>\n",
              "<table border=\"1\" class=\"dataframe\">\n",
              "  <thead>\n",
              "    <tr style=\"text-align: right;\">\n",
              "      <th></th>\n",
              "      <th>YEAR</th>\n",
              "      <th>MONTH</th>\n",
              "      <th>DAY_OF_MONTH</th>\n",
              "      <th>FL_DATE</th>\n",
              "      <th>ORIGIN_AIRPORT_ID</th>\n",
              "      <th>DEST_AIRPORT_ID</th>\n",
              "      <th>AIR_TIME</th>\n",
              "      <th>OP_CARRIER_FL_NUM</th>\n",
              "      <th>DISTANCE</th>\n",
              "      <th>DEP_DEL15</th>\n",
              "      <th>CRS_DEP_TIME</th>\n",
              "      <th>CRS_ELAPSED_TIME</th>\n",
              "      <th>TAXI_OUT</th>\n",
              "      <th>DEP_TIME</th>\n",
              "      <th>WEEK_OF_MONTH</th>\n",
              "      <th>DAY_OF_WEEK_days_end</th>\n",
              "      <th>Dep_period</th>\n",
              "      <th>percentage_DEP_TIMEslot_del</th>\n",
              "      <th>percentage_Delay_org</th>\n",
              "      <th>percentage_Delay1</th>\n",
              "      <th>TAIL_NUM_DELAY_COUNT</th>\n",
              "      <th>DAY_OF_WEEK_day_end</th>\n",
              "      <th>WEEK_DEP_DELAY_PERCENTAGE</th>\n",
              "    </tr>\n",
              "  </thead>\n",
              "  <tbody>\n",
              "    <tr>\n",
              "      <th>0</th>\n",
              "      <td>2021</td>\n",
              "      <td>1</td>\n",
              "      <td>17</td>\n",
              "      <td>2021-01-17</td>\n",
              "      <td>11298</td>\n",
              "      <td>11433</td>\n",
              "      <td>126.0</td>\n",
              "      <td>1089</td>\n",
              "      <td>986.0</td>\n",
              "      <td>0.0</td>\n",
              "      <td>1153</td>\n",
              "      <td>150.0</td>\n",
              "      <td>28.0</td>\n",
              "      <td>1151.0</td>\n",
              "      <td>3</td>\n",
              "      <td>1</td>\n",
              "      <td>Morning</td>\n",
              "      <td>10.3</td>\n",
              "      <td>10.4</td>\n",
              "      <td>6.3</td>\n",
              "      <td>4.0</td>\n",
              "      <td>1</td>\n",
              "      <td>13.2</td>\n",
              "    </tr>\n",
              "    <tr>\n",
              "      <th>1</th>\n",
              "      <td>2021</td>\n",
              "      <td>2</td>\n",
              "      <td>28</td>\n",
              "      <td>2021-02-28</td>\n",
              "      <td>10721</td>\n",
              "      <td>13487</td>\n",
              "      <td>200.0</td>\n",
              "      <td>963</td>\n",
              "      <td>1124.0</td>\n",
              "      <td>0.0</td>\n",
              "      <td>720</td>\n",
              "      <td>205.0</td>\n",
              "      <td>13.0</td>\n",
              "      <td>715.0</td>\n",
              "      <td>5</td>\n",
              "      <td>1</td>\n",
              "      <td>Morning</td>\n",
              "      <td>5.0</td>\n",
              "      <td>6.0</td>\n",
              "      <td>6.3</td>\n",
              "      <td>4.0</td>\n",
              "      <td>1</td>\n",
              "      <td>13.2</td>\n",
              "    </tr>\n",
              "    <tr>\n",
              "      <th>2</th>\n",
              "      <td>2021</td>\n",
              "      <td>5</td>\n",
              "      <td>9</td>\n",
              "      <td>2021-05-09</td>\n",
              "      <td>14869</td>\n",
              "      <td>12954</td>\n",
              "      <td>87.0</td>\n",
              "      <td>833</td>\n",
              "      <td>588.0</td>\n",
              "      <td>1.0</td>\n",
              "      <td>1133</td>\n",
              "      <td>115.0</td>\n",
              "      <td>10.0</td>\n",
              "      <td>1313.0</td>\n",
              "      <td>2</td>\n",
              "      <td>1</td>\n",
              "      <td>Afternoon</td>\n",
              "      <td>11.0</td>\n",
              "      <td>13.8</td>\n",
              "      <td>8.4</td>\n",
              "      <td>4.0</td>\n",
              "      <td>1</td>\n",
              "      <td>13.2</td>\n",
              "    </tr>\n",
              "    <tr>\n",
              "      <th>3</th>\n",
              "      <td>2021</td>\n",
              "      <td>1</td>\n",
              "      <td>31</td>\n",
              "      <td>2021-01-31</td>\n",
              "      <td>14107</td>\n",
              "      <td>14747</td>\n",
              "      <td>161.0</td>\n",
              "      <td>1547</td>\n",
              "      <td>1107.0</td>\n",
              "      <td>0.0</td>\n",
              "      <td>1615</td>\n",
              "      <td>193.0</td>\n",
              "      <td>25.0</td>\n",
              "      <td>1608.0</td>\n",
              "      <td>5</td>\n",
              "      <td>1</td>\n",
              "      <td>Afternoon</td>\n",
              "      <td>13.1</td>\n",
              "      <td>13.9</td>\n",
              "      <td>8.4</td>\n",
              "      <td>4.0</td>\n",
              "      <td>1</td>\n",
              "      <td>13.2</td>\n",
              "    </tr>\n",
              "  </tbody>\n",
              "</table>\n",
              "</div>"
            ],
            "text/plain": [
              "   YEAR  MONTH  ...  DAY_OF_WEEK_day_end WEEK_DEP_DELAY_PERCENTAGE\n",
              "0  2021      1  ...                    1                      13.2\n",
              "1  2021      2  ...                    1                      13.2\n",
              "2  2021      5  ...                    1                      13.2\n",
              "3  2021      1  ...                    1                      13.2\n",
              "\n",
              "[4 rows x 23 columns]"
            ]
          },
          "execution_count": 25,
          "metadata": {},
          "output_type": "execute_result"
        }
      ]
    },
    {
      "cell_type": "markdown",
      "metadata": {
        "id": "RyrA1QHO_H6E"
      },
      "source": [
        "## 7. Day of month-Delay weight"
      ]
    },
    {
      "cell_type": "code",
      "metadata": {
        "colab": {
          "base_uri": "https://localhost:8080/",
          "height": 417
        },
        "id": "mrIjEin9V1R9",
        "outputId": "6b742e4c-b819-4d17-a4f7-faa7d54849ac"
      },
      "source": [
        "cols=['DAY_OF_MONTH','TOTAL_FLIGHTS','DAY_OF_MONTH_DELAYED_FLIGHTS','%DAYMONTH_DEP_DELAYED']\n",
        "lst = []\n",
        "for daymonth in range(1,32):\n",
        "  MONTHday=daymonth\n",
        "  monthdayflighttot=systematic_sample_selectedcols['DAY_OF_MONTH'][systematic_sample_selectedcols.DAY_OF_MONTH==daymonth].count()\n",
        "  monthday_all=systematic_sample_selectedcols[systematic_sample_selectedcols['DAY_OF_MONTH']==daymonth]\n",
        "  monthdaydepdel=monthday_all['DEP_DEL15'][monthday_all['DEP_DEL15']==1].sum()\n",
        "  percentmonthdaydepdel=(monthdaydepdel/monthdayflighttot)*100\n",
        "  lst.append([MONTHday,monthdayflighttot,monthdaydepdel,percentmonthdaydepdel])\n",
        "MONTHDAYWISE_DEP_DELAY_TABLE = pd.DataFrame(lst, columns=cols)\n",
        "#MONTHDAYWISE_DEP_DELAY_TABLE['DAY_OF_MONTH_DELAY_weight'] = pd.qcut(MONTHDAYWISE_DEP_DELAY_TABLE['%DAYMONTH_DEP_DELAYED'], 31 , labels = False,duplicates='drop')\n",
        "print(MONTHDAYWISE_DEP_DELAY_TABLE.head(3))\n",
        "systematic_sample_selectedcols_5 = systematic_sample_selectedcols_4.merge(MONTHDAYWISE_DEP_DELAY_TABLE, left_on='DAY_OF_MONTH', right_on='DAY_OF_MONTH')\n",
        "systematic_sample_selectedcols_5.drop(columns=['TOTAL_FLIGHTS','DAY_OF_MONTH_DELAYED_FLIGHTS','DAY_OF_MONTH'], inplace=True, axis=1)\n",
        "systematic_sample_selectedcols_5.head()"
      ],
      "execution_count": null,
      "outputs": [
        {
          "name": "stdout",
          "output_type": "stream",
          "text": [
            "   DAY_OF_MONTH  ...  %DAYMONTH_DEP_DELAYED\n",
            "0             1  ...                   11.9\n",
            "1             2  ...                   10.3\n",
            "2             3  ...                   12.6\n",
            "\n",
            "[3 rows x 4 columns]\n"
          ]
        },
        {
          "data": {
            "text/html": [
              "<div>\n",
              "<style scoped>\n",
              "    .dataframe tbody tr th:only-of-type {\n",
              "        vertical-align: middle;\n",
              "    }\n",
              "\n",
              "    .dataframe tbody tr th {\n",
              "        vertical-align: top;\n",
              "    }\n",
              "\n",
              "    .dataframe thead th {\n",
              "        text-align: right;\n",
              "    }\n",
              "</style>\n",
              "<table border=\"1\" class=\"dataframe\">\n",
              "  <thead>\n",
              "    <tr style=\"text-align: right;\">\n",
              "      <th></th>\n",
              "      <th>YEAR</th>\n",
              "      <th>MONTH</th>\n",
              "      <th>FL_DATE</th>\n",
              "      <th>ORIGIN_AIRPORT_ID</th>\n",
              "      <th>DEST_AIRPORT_ID</th>\n",
              "      <th>AIR_TIME</th>\n",
              "      <th>OP_CARRIER_FL_NUM</th>\n",
              "      <th>DISTANCE</th>\n",
              "      <th>DEP_DEL15</th>\n",
              "      <th>CRS_DEP_TIME</th>\n",
              "      <th>CRS_ELAPSED_TIME</th>\n",
              "      <th>TAXI_OUT</th>\n",
              "      <th>DEP_TIME</th>\n",
              "      <th>WEEK_OF_MONTH</th>\n",
              "      <th>DAY_OF_WEEK_days_end</th>\n",
              "      <th>Dep_period</th>\n",
              "      <th>percentage_DEP_TIMEslot_del</th>\n",
              "      <th>percentage_Delay_org</th>\n",
              "      <th>percentage_Delay1</th>\n",
              "      <th>TAIL_NUM_DELAY_COUNT</th>\n",
              "      <th>DAY_OF_WEEK_day_end</th>\n",
              "      <th>WEEK_DEP_DELAY_PERCENTAGE</th>\n",
              "      <th>%DAYMONTH_DEP_DELAYED</th>\n",
              "    </tr>\n",
              "  </thead>\n",
              "  <tbody>\n",
              "    <tr>\n",
              "      <th>0</th>\n",
              "      <td>2021</td>\n",
              "      <td>1</td>\n",
              "      <td>2021-01-17</td>\n",
              "      <td>11298</td>\n",
              "      <td>11433</td>\n",
              "      <td>126.0</td>\n",
              "      <td>1089</td>\n",
              "      <td>986.0</td>\n",
              "      <td>0.0</td>\n",
              "      <td>1153</td>\n",
              "      <td>150.0</td>\n",
              "      <td>28.0</td>\n",
              "      <td>1151.0</td>\n",
              "      <td>3</td>\n",
              "      <td>1</td>\n",
              "      <td>Morning</td>\n",
              "      <td>10.3</td>\n",
              "      <td>10.4</td>\n",
              "      <td>6.3</td>\n",
              "      <td>4.0</td>\n",
              "      <td>1</td>\n",
              "      <td>13.2</td>\n",
              "      <td>12.2</td>\n",
              "    </tr>\n",
              "    <tr>\n",
              "      <th>1</th>\n",
              "      <td>2021</td>\n",
              "      <td>1</td>\n",
              "      <td>2021-01-17</td>\n",
              "      <td>11298</td>\n",
              "      <td>10397</td>\n",
              "      <td>85.0</td>\n",
              "      <td>1244</td>\n",
              "      <td>731.0</td>\n",
              "      <td>0.0</td>\n",
              "      <td>1049</td>\n",
              "      <td>121.0</td>\n",
              "      <td>16.0</td>\n",
              "      <td>1044.0</td>\n",
              "      <td>3</td>\n",
              "      <td>1</td>\n",
              "      <td>Morning</td>\n",
              "      <td>8.2</td>\n",
              "      <td>10.4</td>\n",
              "      <td>6.3</td>\n",
              "      <td>4.0</td>\n",
              "      <td>1</td>\n",
              "      <td>13.2</td>\n",
              "      <td>12.2</td>\n",
              "    </tr>\n",
              "    <tr>\n",
              "      <th>2</th>\n",
              "      <td>2021</td>\n",
              "      <td>1</td>\n",
              "      <td>2021-01-17</td>\n",
              "      <td>14679</td>\n",
              "      <td>11433</td>\n",
              "      <td>254.0</td>\n",
              "      <td>799</td>\n",
              "      <td>1956.0</td>\n",
              "      <td>0.0</td>\n",
              "      <td>720</td>\n",
              "      <td>256.0</td>\n",
              "      <td>12.0</td>\n",
              "      <td>704.0</td>\n",
              "      <td>3</td>\n",
              "      <td>1</td>\n",
              "      <td>Morning</td>\n",
              "      <td>5.0</td>\n",
              "      <td>6.2</td>\n",
              "      <td>6.3</td>\n",
              "      <td>5.0</td>\n",
              "      <td>1</td>\n",
              "      <td>13.2</td>\n",
              "      <td>12.2</td>\n",
              "    </tr>\n",
              "    <tr>\n",
              "      <th>3</th>\n",
              "      <td>2021</td>\n",
              "      <td>1</td>\n",
              "      <td>2021-01-17</td>\n",
              "      <td>13930</td>\n",
              "      <td>14869</td>\n",
              "      <td>181.0</td>\n",
              "      <td>1305</td>\n",
              "      <td>1250.0</td>\n",
              "      <td>0.0</td>\n",
              "      <td>1700</td>\n",
              "      <td>215.0</td>\n",
              "      <td>32.0</td>\n",
              "      <td>1657.0</td>\n",
              "      <td>3</td>\n",
              "      <td>1</td>\n",
              "      <td>Afternoon</td>\n",
              "      <td>13.1</td>\n",
              "      <td>8.8</td>\n",
              "      <td>8.4</td>\n",
              "      <td>3.0</td>\n",
              "      <td>1</td>\n",
              "      <td>13.2</td>\n",
              "      <td>12.2</td>\n",
              "    </tr>\n",
              "    <tr>\n",
              "      <th>4</th>\n",
              "      <td>2021</td>\n",
              "      <td>1</td>\n",
              "      <td>2021-01-17</td>\n",
              "      <td>14869</td>\n",
              "      <td>14771</td>\n",
              "      <td>99.0</td>\n",
              "      <td>1263</td>\n",
              "      <td>599.0</td>\n",
              "      <td>0.0</td>\n",
              "      <td>2105</td>\n",
              "      <td>123.0</td>\n",
              "      <td>11.0</td>\n",
              "      <td>2058.0</td>\n",
              "      <td>3</td>\n",
              "      <td>1</td>\n",
              "      <td>Night</td>\n",
              "      <td>16.9</td>\n",
              "      <td>6.5</td>\n",
              "      <td>14.6</td>\n",
              "      <td>3.0</td>\n",
              "      <td>1</td>\n",
              "      <td>13.2</td>\n",
              "      <td>12.2</td>\n",
              "    </tr>\n",
              "  </tbody>\n",
              "</table>\n",
              "</div>"
            ],
            "text/plain": [
              "   YEAR  MONTH  ... WEEK_DEP_DELAY_PERCENTAGE  %DAYMONTH_DEP_DELAYED\n",
              "0  2021      1  ...                      13.2                   12.2\n",
              "1  2021      1  ...                      13.2                   12.2\n",
              "2  2021      1  ...                      13.2                   12.2\n",
              "3  2021      1  ...                      13.2                   12.2\n",
              "4  2021      1  ...                      13.2                   12.2\n",
              "\n",
              "[5 rows x 23 columns]"
            ]
          },
          "execution_count": 26,
          "metadata": {},
          "output_type": "execute_result"
        }
      ]
    },
    {
      "cell_type": "markdown",
      "metadata": {
        "id": "FNm75lk8_KKs"
      },
      "source": [
        "## 8. Month - Delay Weight"
      ]
    },
    {
      "cell_type": "code",
      "metadata": {
        "colab": {
          "base_uri": "https://localhost:8080/",
          "height": 417
        },
        "id": "dCUW8Zg_WKat",
        "scrolled": true,
        "outputId": "15a345d1-bb06-47dd-ed67-0799214111e7"
      },
      "source": [
        "cols=['MONTH','TOTAL_FLIGHTS','MONTH_DELAYED_FLIGHTS','%_DEP_DELAYED_month']\n",
        "lst = []\n",
        "for monthvar in range(1,6):\n",
        "  MONTH=monthvar\n",
        "  monthflighttot=systematic_sample_selectedcols['MONTH'][systematic_sample_selectedcols.MONTH==monthvar].count()\n",
        "  month_all=systematic_sample_selectedcols[systematic_sample_selectedcols['MONTH']==monthvar]\n",
        "  monthdepdel=month_all['DEP_DEL15'][month_all['DEP_DEL15']==1].sum()\n",
        "  percentmonthdepdel=(monthdepdel/monthflighttot)*100\n",
        "  lst.append([MONTH,monthflighttot,monthdepdel,percentmonthdepdel])\n",
        "MONTHWISE_DEP_DELAY_TABLE = pd.DataFrame(lst, columns=cols)\n",
        "#MONTHWISE_DEP_DELAY_TABLE['MONTH_DELAY_weight'] = pd.qcut(MONTHWISE_DEP_DELAY_TABLE['%_DEP_DELAYED'], 5, labels = False)\n",
        "print(MONTHWISE_DEP_DELAY_TABLE)\n",
        "systematic_sample_selectedcols_6 = systematic_sample_selectedcols_5.merge(MONTHWISE_DEP_DELAY_TABLE, left_on='MONTH', right_on='MONTH')\n",
        "systematic_sample_selectedcols_6.drop(columns=['TOTAL_FLIGHTS','MONTH_DELAYED_FLIGHTS','MONTH'], inplace=True, axis=1)\n",
        "systematic_sample_selectedcols_6.head()"
      ],
      "execution_count": null,
      "outputs": [
        {
          "name": "stdout",
          "output_type": "stream",
          "text": [
            "   MONTH  TOTAL_FLIGHTS  MONTH_DELAYED_FLIGHTS  %_DEP_DELAYED_month\n",
            "0      1          37473                 3198.0                  8.5\n",
            "1      2          32931                 3821.0                 11.6\n",
            "2      3          46034                 4646.0                 10.1\n",
            "3      4          47059                 4998.0                 10.6\n",
            "4      5          51632                 7016.0                 13.6\n"
          ]
        },
        {
          "data": {
            "text/html": [
              "<div>\n",
              "<style scoped>\n",
              "    .dataframe tbody tr th:only-of-type {\n",
              "        vertical-align: middle;\n",
              "    }\n",
              "\n",
              "    .dataframe tbody tr th {\n",
              "        vertical-align: top;\n",
              "    }\n",
              "\n",
              "    .dataframe thead th {\n",
              "        text-align: right;\n",
              "    }\n",
              "</style>\n",
              "<table border=\"1\" class=\"dataframe\">\n",
              "  <thead>\n",
              "    <tr style=\"text-align: right;\">\n",
              "      <th></th>\n",
              "      <th>YEAR</th>\n",
              "      <th>FL_DATE</th>\n",
              "      <th>ORIGIN_AIRPORT_ID</th>\n",
              "      <th>DEST_AIRPORT_ID</th>\n",
              "      <th>AIR_TIME</th>\n",
              "      <th>OP_CARRIER_FL_NUM</th>\n",
              "      <th>DISTANCE</th>\n",
              "      <th>DEP_DEL15</th>\n",
              "      <th>CRS_DEP_TIME</th>\n",
              "      <th>CRS_ELAPSED_TIME</th>\n",
              "      <th>TAXI_OUT</th>\n",
              "      <th>DEP_TIME</th>\n",
              "      <th>WEEK_OF_MONTH</th>\n",
              "      <th>DAY_OF_WEEK_days_end</th>\n",
              "      <th>Dep_period</th>\n",
              "      <th>percentage_DEP_TIMEslot_del</th>\n",
              "      <th>percentage_Delay_org</th>\n",
              "      <th>percentage_Delay1</th>\n",
              "      <th>TAIL_NUM_DELAY_COUNT</th>\n",
              "      <th>DAY_OF_WEEK_day_end</th>\n",
              "      <th>WEEK_DEP_DELAY_PERCENTAGE</th>\n",
              "      <th>%DAYMONTH_DEP_DELAYED</th>\n",
              "      <th>%_DEP_DELAYED_month</th>\n",
              "    </tr>\n",
              "  </thead>\n",
              "  <tbody>\n",
              "    <tr>\n",
              "      <th>0</th>\n",
              "      <td>2021</td>\n",
              "      <td>2021-01-17</td>\n",
              "      <td>11298</td>\n",
              "      <td>11433</td>\n",
              "      <td>126.0</td>\n",
              "      <td>1089</td>\n",
              "      <td>986.0</td>\n",
              "      <td>0.0</td>\n",
              "      <td>1153</td>\n",
              "      <td>150.0</td>\n",
              "      <td>28.0</td>\n",
              "      <td>1151.0</td>\n",
              "      <td>3</td>\n",
              "      <td>1</td>\n",
              "      <td>Morning</td>\n",
              "      <td>10.3</td>\n",
              "      <td>10.4</td>\n",
              "      <td>6.3</td>\n",
              "      <td>4.0</td>\n",
              "      <td>1</td>\n",
              "      <td>13.2</td>\n",
              "      <td>12.2</td>\n",
              "      <td>8.5</td>\n",
              "    </tr>\n",
              "    <tr>\n",
              "      <th>1</th>\n",
              "      <td>2021</td>\n",
              "      <td>2021-01-17</td>\n",
              "      <td>11298</td>\n",
              "      <td>10397</td>\n",
              "      <td>85.0</td>\n",
              "      <td>1244</td>\n",
              "      <td>731.0</td>\n",
              "      <td>0.0</td>\n",
              "      <td>1049</td>\n",
              "      <td>121.0</td>\n",
              "      <td>16.0</td>\n",
              "      <td>1044.0</td>\n",
              "      <td>3</td>\n",
              "      <td>1</td>\n",
              "      <td>Morning</td>\n",
              "      <td>8.2</td>\n",
              "      <td>10.4</td>\n",
              "      <td>6.3</td>\n",
              "      <td>4.0</td>\n",
              "      <td>1</td>\n",
              "      <td>13.2</td>\n",
              "      <td>12.2</td>\n",
              "      <td>8.5</td>\n",
              "    </tr>\n",
              "    <tr>\n",
              "      <th>2</th>\n",
              "      <td>2021</td>\n",
              "      <td>2021-01-17</td>\n",
              "      <td>14679</td>\n",
              "      <td>11433</td>\n",
              "      <td>254.0</td>\n",
              "      <td>799</td>\n",
              "      <td>1956.0</td>\n",
              "      <td>0.0</td>\n",
              "      <td>720</td>\n",
              "      <td>256.0</td>\n",
              "      <td>12.0</td>\n",
              "      <td>704.0</td>\n",
              "      <td>3</td>\n",
              "      <td>1</td>\n",
              "      <td>Morning</td>\n",
              "      <td>5.0</td>\n",
              "      <td>6.2</td>\n",
              "      <td>6.3</td>\n",
              "      <td>5.0</td>\n",
              "      <td>1</td>\n",
              "      <td>13.2</td>\n",
              "      <td>12.2</td>\n",
              "      <td>8.5</td>\n",
              "    </tr>\n",
              "    <tr>\n",
              "      <th>3</th>\n",
              "      <td>2021</td>\n",
              "      <td>2021-01-17</td>\n",
              "      <td>13930</td>\n",
              "      <td>14869</td>\n",
              "      <td>181.0</td>\n",
              "      <td>1305</td>\n",
              "      <td>1250.0</td>\n",
              "      <td>0.0</td>\n",
              "      <td>1700</td>\n",
              "      <td>215.0</td>\n",
              "      <td>32.0</td>\n",
              "      <td>1657.0</td>\n",
              "      <td>3</td>\n",
              "      <td>1</td>\n",
              "      <td>Afternoon</td>\n",
              "      <td>13.1</td>\n",
              "      <td>8.8</td>\n",
              "      <td>8.4</td>\n",
              "      <td>3.0</td>\n",
              "      <td>1</td>\n",
              "      <td>13.2</td>\n",
              "      <td>12.2</td>\n",
              "      <td>8.5</td>\n",
              "    </tr>\n",
              "    <tr>\n",
              "      <th>4</th>\n",
              "      <td>2021</td>\n",
              "      <td>2021-01-17</td>\n",
              "      <td>14869</td>\n",
              "      <td>14771</td>\n",
              "      <td>99.0</td>\n",
              "      <td>1263</td>\n",
              "      <td>599.0</td>\n",
              "      <td>0.0</td>\n",
              "      <td>2105</td>\n",
              "      <td>123.0</td>\n",
              "      <td>11.0</td>\n",
              "      <td>2058.0</td>\n",
              "      <td>3</td>\n",
              "      <td>1</td>\n",
              "      <td>Night</td>\n",
              "      <td>16.9</td>\n",
              "      <td>6.5</td>\n",
              "      <td>14.6</td>\n",
              "      <td>3.0</td>\n",
              "      <td>1</td>\n",
              "      <td>13.2</td>\n",
              "      <td>12.2</td>\n",
              "      <td>8.5</td>\n",
              "    </tr>\n",
              "  </tbody>\n",
              "</table>\n",
              "</div>"
            ],
            "text/plain": [
              "   YEAR    FL_DATE  ...  %DAYMONTH_DEP_DELAYED  %_DEP_DELAYED_month\n",
              "0  2021 2021-01-17  ...                   12.2                  8.5\n",
              "1  2021 2021-01-17  ...                   12.2                  8.5\n",
              "2  2021 2021-01-17  ...                   12.2                  8.5\n",
              "3  2021 2021-01-17  ...                   12.2                  8.5\n",
              "4  2021 2021-01-17  ...                   12.2                  8.5\n",
              "\n",
              "[5 rows x 23 columns]"
            ]
          },
          "execution_count": 27,
          "metadata": {},
          "output_type": "execute_result"
        }
      ]
    },
    {
      "cell_type": "markdown",
      "metadata": {
        "id": "ZKnxNSOKeIR6"
      },
      "source": [
        "## 8. OP_CARRIER_FL_NUM -  Taxi out delay weights"
      ]
    },
    {
      "cell_type": "code",
      "metadata": {
        "colab": {
          "base_uri": "https://localhost:8080/",
          "height": 458
        },
        "id": "SJ_fYFlbNXJF",
        "outputId": "a96479da-6962-4d22-99a0-b07e2949dd81"
      },
      "source": [
        "taxioutmean = systematic_sample_selectedcols[['OP_CARRIER_FL_NUM','TAXI_OUT']].groupby(['OP_CARRIER_FL_NUM']).mean(['TAXI_OUT']).sort_values(by='TAXI_OUT',ascending=False).reset_index()\n",
        "taxioutmean.rename({'TAXI_OUT':'TAXI_OUT_mean'},inplace=True, axis=1)\n",
        "taxioutmean['FL_NUM_Taxiout_weight'] = pd.qcut(taxioutmean['TAXI_OUT_mean'], 200, labels = False,duplicates='drop')\n",
        "print(taxioutmean)\n",
        "systematic_sample_selectedcols_7 = systematic_sample_selectedcols_6.merge(taxioutmean, left_on='OP_CARRIER_FL_NUM', right_on='OP_CARRIER_FL_NUM')\n",
        "systematic_sample_selectedcols_7.drop(columns=['TAXI_OUT','TAXI_OUT_mean','OP_CARRIER_FL_NUM','DEP_TIME'], inplace=True, axis=1)\n",
        "systematic_sample_selectedcols_7.head(3)"
      ],
      "execution_count": null,
      "outputs": [
        {
          "name": "stdout",
          "output_type": "stream",
          "text": [
            "      OP_CARRIER_FL_NUM  TAXI_OUT_mean  FL_NUM_Taxiout_weight\n",
            "0                  9645           74.0                    198\n",
            "1                  7411           60.0                    198\n",
            "2                  6822           54.0                    198\n",
            "3                  7026           48.0                    198\n",
            "4                  6379           47.0                    198\n",
            "...                 ...            ...                    ...\n",
            "6446               6961            6.0                      0\n",
            "6447               6926            6.0                      0\n",
            "6448               6666            6.0                      0\n",
            "6449               6603            6.0                      0\n",
            "6450               6947            5.0                      0\n",
            "\n",
            "[6451 rows x 3 columns]\n"
          ]
        },
        {
          "data": {
            "text/html": [
              "<div>\n",
              "<style scoped>\n",
              "    .dataframe tbody tr th:only-of-type {\n",
              "        vertical-align: middle;\n",
              "    }\n",
              "\n",
              "    .dataframe tbody tr th {\n",
              "        vertical-align: top;\n",
              "    }\n",
              "\n",
              "    .dataframe thead th {\n",
              "        text-align: right;\n",
              "    }\n",
              "</style>\n",
              "<table border=\"1\" class=\"dataframe\">\n",
              "  <thead>\n",
              "    <tr style=\"text-align: right;\">\n",
              "      <th></th>\n",
              "      <th>YEAR</th>\n",
              "      <th>FL_DATE</th>\n",
              "      <th>ORIGIN_AIRPORT_ID</th>\n",
              "      <th>DEST_AIRPORT_ID</th>\n",
              "      <th>AIR_TIME</th>\n",
              "      <th>DISTANCE</th>\n",
              "      <th>DEP_DEL15</th>\n",
              "      <th>CRS_DEP_TIME</th>\n",
              "      <th>CRS_ELAPSED_TIME</th>\n",
              "      <th>WEEK_OF_MONTH</th>\n",
              "      <th>DAY_OF_WEEK_days_end</th>\n",
              "      <th>Dep_period</th>\n",
              "      <th>percentage_DEP_TIMEslot_del</th>\n",
              "      <th>percentage_Delay_org</th>\n",
              "      <th>percentage_Delay1</th>\n",
              "      <th>TAIL_NUM_DELAY_COUNT</th>\n",
              "      <th>DAY_OF_WEEK_day_end</th>\n",
              "      <th>WEEK_DEP_DELAY_PERCENTAGE</th>\n",
              "      <th>%DAYMONTH_DEP_DELAYED</th>\n",
              "      <th>%_DEP_DELAYED_month</th>\n",
              "      <th>FL_NUM_Taxiout_weight</th>\n",
              "    </tr>\n",
              "  </thead>\n",
              "  <tbody>\n",
              "    <tr>\n",
              "      <th>0</th>\n",
              "      <td>2021</td>\n",
              "      <td>2021-01-17</td>\n",
              "      <td>11298</td>\n",
              "      <td>11433</td>\n",
              "      <td>126.0</td>\n",
              "      <td>986.0</td>\n",
              "      <td>0.0</td>\n",
              "      <td>1153</td>\n",
              "      <td>150.0</td>\n",
              "      <td>3</td>\n",
              "      <td>1</td>\n",
              "      <td>Morning</td>\n",
              "      <td>10.3</td>\n",
              "      <td>10.4</td>\n",
              "      <td>6.3</td>\n",
              "      <td>4.0</td>\n",
              "      <td>1</td>\n",
              "      <td>13.2</td>\n",
              "      <td>12.2</td>\n",
              "      <td>8.5</td>\n",
              "      <td>63</td>\n",
              "    </tr>\n",
              "    <tr>\n",
              "      <th>1</th>\n",
              "      <td>2021</td>\n",
              "      <td>2021-01-05</td>\n",
              "      <td>11697</td>\n",
              "      <td>13232</td>\n",
              "      <td>164.0</td>\n",
              "      <td>1167.0</td>\n",
              "      <td>0.0</td>\n",
              "      <td>1925</td>\n",
              "      <td>195.0</td>\n",
              "      <td>2</td>\n",
              "      <td>0</td>\n",
              "      <td>Evening</td>\n",
              "      <td>19.0</td>\n",
              "      <td>19.3</td>\n",
              "      <td>23.5</td>\n",
              "      <td>10.0</td>\n",
              "      <td>0</td>\n",
              "      <td>9.2</td>\n",
              "      <td>8.3</td>\n",
              "      <td>8.5</td>\n",
              "      <td>63</td>\n",
              "    </tr>\n",
              "    <tr>\n",
              "      <th>2</th>\n",
              "      <td>2021</td>\n",
              "      <td>2021-05-31</td>\n",
              "      <td>11298</td>\n",
              "      <td>14869</td>\n",
              "      <td>169.0</td>\n",
              "      <td>989.0</td>\n",
              "      <td>0.0</td>\n",
              "      <td>815</td>\n",
              "      <td>177.0</td>\n",
              "      <td>6</td>\n",
              "      <td>0</td>\n",
              "      <td>Morning</td>\n",
              "      <td>5.7</td>\n",
              "      <td>10.4</td>\n",
              "      <td>6.3</td>\n",
              "      <td>9.0</td>\n",
              "      <td>0</td>\n",
              "      <td>11.6</td>\n",
              "      <td>12.5</td>\n",
              "      <td>13.6</td>\n",
              "      <td>63</td>\n",
              "    </tr>\n",
              "  </tbody>\n",
              "</table>\n",
              "</div>"
            ],
            "text/plain": [
              "   YEAR    FL_DATE  ...  %_DEP_DELAYED_month  FL_NUM_Taxiout_weight\n",
              "0  2021 2021-01-17  ...                  8.5                     63\n",
              "1  2021 2021-01-05  ...                  8.5                     63\n",
              "2  2021 2021-05-31  ...                 13.6                     63\n",
              "\n",
              "[3 rows x 21 columns]"
            ]
          },
          "execution_count": 28,
          "metadata": {},
          "output_type": "execute_result"
        }
      ]
    },
    {
      "cell_type": "code",
      "metadata": {
        "id": "1r-KiC1SUAhQ"
      },
      "source": [
        "systematic_sample_selectedcols8 = systematic_sample_selectedcols_7.drop(columns=['YEAR','FL_DATE'],axis=1)"
      ],
      "execution_count": null,
      "outputs": []
    },
    {
      "cell_type": "code",
      "metadata": {
        "id": "TAwfrHanUixI"
      },
      "source": [
        "systematic_sample_selectedcols8[['DEP_DEL15']]=systematic_sample_selectedcols8[['DEP_DEL15']].astype(int)"
      ],
      "execution_count": null,
      "outputs": []
    },
    {
      "cell_type": "code",
      "metadata": {
        "id": "D5KKygRwUN0R"
      },
      "source": [
        "systematic_sample_selectedcols8 = systematic_sample_selectedcols8.astype({col: 'float16' for col in systematic_sample_selectedcols8.select_dtypes('float64').columns})\n",
        "systematic_sample_selectedcols8 = systematic_sample_selectedcols8.astype({col: 'int16' for col in systematic_sample_selectedcols8.select_dtypes('int64').columns})"
      ],
      "execution_count": null,
      "outputs": []
    },
    {
      "cell_type": "code",
      "metadata": {
        "colab": {
          "base_uri": "https://localhost:8080/"
        },
        "id": "m5dhasoAUdHS",
        "outputId": "0cff3d81-26d4-4316-d421-bf5bf7a34875"
      },
      "source": [
        "systematic_sample_selectedcols8.dtypes"
      ],
      "execution_count": null,
      "outputs": [
        {
          "data": {
            "text/plain": [
              "ORIGIN_AIRPORT_ID                int16\n",
              "DEST_AIRPORT_ID                  int16\n",
              "AIR_TIME                       float16\n",
              "DISTANCE                       float16\n",
              "DEP_DEL15                        int16\n",
              "CRS_DEP_TIME                     int16\n",
              "CRS_ELAPSED_TIME               float16\n",
              "WEEK_OF_MONTH                    int16\n",
              "DAY_OF_WEEK_days_end             int16\n",
              "Dep_period                      object\n",
              "percentage_DEP_TIMEslot_del    float16\n",
              "percentage_Delay_org           float16\n",
              "percentage_Delay1              float16\n",
              "TAIL_NUM_DELAY_COUNT           float16\n",
              "DAY_OF_WEEK_day_end              int16\n",
              "WEEK_DEP_DELAY_PERCENTAGE      float16\n",
              "%DAYMONTH_DEP_DELAYED          float16\n",
              "%_DEP_DELAYED_month            float16\n",
              "FL_NUM_Taxiout_weight            int16\n",
              "dtype: object"
            ]
          },
          "execution_count": 32,
          "metadata": {},
          "output_type": "execute_result"
        }
      ]
    },
    {
      "cell_type": "markdown",
      "metadata": {
        "id": "XWxuc7MWW3Ek"
      },
      "source": [
        "### CORRELATION among features"
      ]
    },
    {
      "cell_type": "code",
      "metadata": {
        "colab": {
          "base_uri": "https://localhost:8080/"
        },
        "id": "kLTtd95ZW2kP",
        "outputId": "c7de304f-8d97-49f3-db94-e8bad3c87c26"
      },
      "source": [
        "corr = systematic_sample_selectedcols8.corr()#Lists all pairs of highly collinear variables\n",
        "indices = np.where(corr > 0.8)\n",
        "indices = [(corr.columns[x], corr.columns[y]) for x, y in zip(*indices)\n",
        "                                        if x != y and x < y]\n",
        "indices"
      ],
      "execution_count": null,
      "outputs": [
        {
          "data": {
            "text/plain": [
              "[('AIR_TIME', 'DISTANCE'),\n",
              " ('AIR_TIME', 'CRS_ELAPSED_TIME'),\n",
              " ('DISTANCE', 'CRS_ELAPSED_TIME'),\n",
              " ('CRS_DEP_TIME', 'percentage_DEP_TIMEslot_del'),\n",
              " ('DAY_OF_WEEK_days_end', 'DAY_OF_WEEK_day_end')]"
            ]
          },
          "execution_count": 33,
          "metadata": {},
          "output_type": "execute_result"
        }
      ]
    },
    {
      "cell_type": "code",
      "metadata": {
        "id": "BUrMpgCNHQmT"
      },
      "source": [
        "systematic_samplefinal=systematic_sample_selectedcols8.copy()"
      ],
      "execution_count": null,
      "outputs": []
    },
    {
      "cell_type": "code",
      "metadata": {
        "colab": {
          "base_uri": "https://localhost:8080/"
        },
        "id": "UU1JTjV3XiwX",
        "outputId": "e3779a39-6922-4e96-f910-f7b15784d89a"
      },
      "source": [
        "systematic_samplefinal = pd.get_dummies(systematic_samplefinal, drop_first=True)\n",
        "systematic_samplefinal.columns"
      ],
      "execution_count": null,
      "outputs": [
        {
          "data": {
            "text/plain": [
              "Index(['ORIGIN_AIRPORT_ID', 'DEST_AIRPORT_ID', 'AIR_TIME', 'DISTANCE',\n",
              "       'DEP_DEL15', 'CRS_DEP_TIME', 'CRS_ELAPSED_TIME', 'WEEK_OF_MONTH',\n",
              "       'DAY_OF_WEEK_days_end', 'percentage_DEP_TIMEslot_del',\n",
              "       'percentage_Delay_org', 'percentage_Delay1', 'TAIL_NUM_DELAY_COUNT',\n",
              "       'DAY_OF_WEEK_day_end', 'WEEK_DEP_DELAY_PERCENTAGE',\n",
              "       '%DAYMONTH_DEP_DELAYED', '%_DEP_DELAYED_month', 'FL_NUM_Taxiout_weight',\n",
              "       'Dep_period_Early morning', 'Dep_period_Evening', 'Dep_period_Midnight',\n",
              "       'Dep_period_Morning', 'Dep_period_Night'],\n",
              "      dtype='object')"
            ]
          },
          "execution_count": 35,
          "metadata": {},
          "output_type": "execute_result"
        }
      ]
    },
    {
      "cell_type": "code",
      "metadata": {
        "colab": {
          "base_uri": "https://localhost:8080/"
        },
        "id": "hxHz9wxKX3Yv",
        "outputId": "3f98347d-6fce-4ad3-b569-e39e0fcc8e4d"
      },
      "source": [
        "y = systematic_samplefinal.DEP_DEL15 \n",
        " #Drop target and set the dependent values variables \n",
        "X = systematic_samplefinal.drop('DEP_DEL15', axis=1)\n",
        "print(X.shape,y.shape)"
      ],
      "execution_count": null,
      "outputs": [
        {
          "name": "stdout",
          "output_type": "stream",
          "text": [
            "(215129, 22) (215129,)\n"
          ]
        }
      ]
    },
    {
      "cell_type": "markdown",
      "metadata": {
        "id": "t0U3E5LQBxGb"
      },
      "source": [
        "Before deleting features"
      ]
    },
    {
      "cell_type": "code",
      "metadata": {
        "colab": {
          "base_uri": "https://localhost:8080/"
        },
        "id": "pCrGrSzgBwgJ",
        "outputId": "63022989-9fcb-49b3-b443-93d8bb2548b4"
      },
      "source": [
        "from sklearn.linear_model import LogisticRegression\n",
        "from numpy import mean\n",
        "model_LOGISTICS = LogisticRegression(class_weight='balanced',solver='saga')\n",
        "#model_LOGISTICSfit = model_LOGISTICS.fit(principalComponents_train, Y_Train)\n",
        "pca = PCA(.95)\n",
        "Robust=RobustScaler()\n",
        "oversample = SMOTE()\n",
        "pipeline_LRsmt = make_pipeline(oversample,pca,model_LOGISTICS)\n",
        "kf = StratifiedKFold(n_splits=5)\n",
        "y_pred_LR_OSample = cross_val_score(pipeline_LRsmt,X,y, scoring='roc_auc', cv=kf, n_jobs=-1)\n",
        "print('Mean ROC AUC: %.3f' % mean(y_pred_LR_OSample))"
      ],
      "execution_count": null,
      "outputs": [
        {
          "name": "stdout",
          "output_type": "stream",
          "text": [
            "Mean ROC AUC: 0.534\n"
          ]
        }
      ]
    },
    {
      "cell_type": "code",
      "metadata": {
        "colab": {
          "base_uri": "https://localhost:8080/",
          "height": 380
        },
        "id": "6zASUMAvCK_3",
        "outputId": "b5e6a034-32ce-422b-e048-6770fcb3f8d3"
      },
      "source": [
        "model_Randomforest_smt= RandomForestClassifier(n_estimators= 100, criterion=\"gini\", class_weight='balanced')  \n",
        "oversample = SMOTE()\n",
        "pipeline_RFsmt = make_pipeline(oversample,model_Randomforest_smt)\n",
        "kf = StratifiedKFold(n_splits=5)\n",
        "y_pred_RF_OSample = cross_val_score(pipeline_RFsmt,X,y, scoring='roc_auc', cv=kf, n_jobs=-1)\n",
        "# summarize performance\n",
        "print('Mean ROC AUC: %.3f' % mean(y_pred_RF_OSample))"
      ],
      "execution_count": null,
      "outputs": [
        {
          "ename": "KeyboardInterrupt",
          "evalue": "ignored",
          "output_type": "error",
          "traceback": [
            "\u001b[0;31m---------------------------------------------------------------------------\u001b[0m",
            "\u001b[0;31mKeyboardInterrupt\u001b[0m                         Traceback (most recent call last)",
            "\u001b[0;32m<ipython-input-38-22944344eb05>\u001b[0m in \u001b[0;36m<module>\u001b[0;34m()\u001b[0m\n\u001b[1;32m      3\u001b[0m \u001b[0mpipeline_RFsmt\u001b[0m \u001b[0;34m=\u001b[0m \u001b[0mmake_pipeline\u001b[0m\u001b[0;34m(\u001b[0m\u001b[0moversample\u001b[0m\u001b[0;34m,\u001b[0m\u001b[0mmodel_Randomforest_smt\u001b[0m\u001b[0;34m)\u001b[0m\u001b[0;34m\u001b[0m\u001b[0;34m\u001b[0m\u001b[0m\n\u001b[1;32m      4\u001b[0m \u001b[0mkf\u001b[0m \u001b[0;34m=\u001b[0m \u001b[0mStratifiedKFold\u001b[0m\u001b[0;34m(\u001b[0m\u001b[0mn_splits\u001b[0m\u001b[0;34m=\u001b[0m\u001b[0;36m5\u001b[0m\u001b[0;34m)\u001b[0m\u001b[0;34m\u001b[0m\u001b[0;34m\u001b[0m\u001b[0m\n\u001b[0;32m----> 5\u001b[0;31m \u001b[0my_pred_RF_OSample\u001b[0m \u001b[0;34m=\u001b[0m \u001b[0mcross_val_score\u001b[0m\u001b[0;34m(\u001b[0m\u001b[0mpipeline_RFsmt\u001b[0m\u001b[0;34m,\u001b[0m\u001b[0mX\u001b[0m\u001b[0;34m,\u001b[0m\u001b[0my\u001b[0m\u001b[0;34m,\u001b[0m \u001b[0mscoring\u001b[0m\u001b[0;34m=\u001b[0m\u001b[0;34m'roc_auc'\u001b[0m\u001b[0;34m,\u001b[0m \u001b[0mcv\u001b[0m\u001b[0;34m=\u001b[0m\u001b[0mkf\u001b[0m\u001b[0;34m,\u001b[0m \u001b[0mn_jobs\u001b[0m\u001b[0;34m=\u001b[0m\u001b[0;34m-\u001b[0m\u001b[0;36m1\u001b[0m\u001b[0;34m)\u001b[0m\u001b[0;34m\u001b[0m\u001b[0;34m\u001b[0m\u001b[0m\n\u001b[0m\u001b[1;32m      6\u001b[0m \u001b[0;31m# summarize performance\u001b[0m\u001b[0;34m\u001b[0m\u001b[0;34m\u001b[0m\u001b[0;34m\u001b[0m\u001b[0m\n\u001b[1;32m      7\u001b[0m \u001b[0mprint\u001b[0m\u001b[0;34m(\u001b[0m\u001b[0;34m'Mean ROC AUC: %.3f'\u001b[0m \u001b[0;34m%\u001b[0m \u001b[0mmean\u001b[0m\u001b[0;34m(\u001b[0m\u001b[0my_pred_RF_OSample\u001b[0m\u001b[0;34m)\u001b[0m\u001b[0;34m)\u001b[0m\u001b[0;34m\u001b[0m\u001b[0;34m\u001b[0m\u001b[0m\n",
            "\u001b[0;32m/usr/local/lib/python3.7/dist-packages/sklearn/model_selection/_validation.py\u001b[0m in \u001b[0;36mcross_val_score\u001b[0;34m(estimator, X, y, groups, scoring, cv, n_jobs, verbose, fit_params, pre_dispatch, error_score)\u001b[0m\n\u001b[1;32m    388\u001b[0m                                 \u001b[0mfit_params\u001b[0m\u001b[0;34m=\u001b[0m\u001b[0mfit_params\u001b[0m\u001b[0;34m,\u001b[0m\u001b[0;34m\u001b[0m\u001b[0;34m\u001b[0m\u001b[0m\n\u001b[1;32m    389\u001b[0m                                 \u001b[0mpre_dispatch\u001b[0m\u001b[0;34m=\u001b[0m\u001b[0mpre_dispatch\u001b[0m\u001b[0;34m,\u001b[0m\u001b[0;34m\u001b[0m\u001b[0;34m\u001b[0m\u001b[0m\n\u001b[0;32m--> 390\u001b[0;31m                                 error_score=error_score)\n\u001b[0m\u001b[1;32m    391\u001b[0m     \u001b[0;32mreturn\u001b[0m \u001b[0mcv_results\u001b[0m\u001b[0;34m[\u001b[0m\u001b[0;34m'test_score'\u001b[0m\u001b[0;34m]\u001b[0m\u001b[0;34m\u001b[0m\u001b[0;34m\u001b[0m\u001b[0m\n\u001b[1;32m    392\u001b[0m \u001b[0;34m\u001b[0m\u001b[0m\n",
            "\u001b[0;32m/usr/local/lib/python3.7/dist-packages/sklearn/model_selection/_validation.py\u001b[0m in \u001b[0;36mcross_validate\u001b[0;34m(estimator, X, y, groups, scoring, cv, n_jobs, verbose, fit_params, pre_dispatch, return_train_score, return_estimator, error_score)\u001b[0m\n\u001b[1;32m    234\u001b[0m             \u001b[0mreturn_times\u001b[0m\u001b[0;34m=\u001b[0m\u001b[0;32mTrue\u001b[0m\u001b[0;34m,\u001b[0m \u001b[0mreturn_estimator\u001b[0m\u001b[0;34m=\u001b[0m\u001b[0mreturn_estimator\u001b[0m\u001b[0;34m,\u001b[0m\u001b[0;34m\u001b[0m\u001b[0;34m\u001b[0m\u001b[0m\n\u001b[1;32m    235\u001b[0m             error_score=error_score)\n\u001b[0;32m--> 236\u001b[0;31m         for train, test in cv.split(X, y, groups))\n\u001b[0m\u001b[1;32m    237\u001b[0m \u001b[0;34m\u001b[0m\u001b[0m\n\u001b[1;32m    238\u001b[0m     \u001b[0mzipped_scores\u001b[0m \u001b[0;34m=\u001b[0m \u001b[0mlist\u001b[0m\u001b[0;34m(\u001b[0m\u001b[0mzip\u001b[0m\u001b[0;34m(\u001b[0m\u001b[0;34m*\u001b[0m\u001b[0mscores\u001b[0m\u001b[0;34m)\u001b[0m\u001b[0;34m)\u001b[0m\u001b[0;34m\u001b[0m\u001b[0;34m\u001b[0m\u001b[0m\n",
            "\u001b[0;32m/usr/local/lib/python3.7/dist-packages/joblib/parallel.py\u001b[0m in \u001b[0;36m__call__\u001b[0;34m(self, iterable)\u001b[0m\n\u001b[1;32m   1052\u001b[0m \u001b[0;34m\u001b[0m\u001b[0m\n\u001b[1;32m   1053\u001b[0m             \u001b[0;32mwith\u001b[0m \u001b[0mself\u001b[0m\u001b[0;34m.\u001b[0m\u001b[0m_backend\u001b[0m\u001b[0;34m.\u001b[0m\u001b[0mretrieval_context\u001b[0m\u001b[0;34m(\u001b[0m\u001b[0;34m)\u001b[0m\u001b[0;34m:\u001b[0m\u001b[0;34m\u001b[0m\u001b[0;34m\u001b[0m\u001b[0m\n\u001b[0;32m-> 1054\u001b[0;31m                 \u001b[0mself\u001b[0m\u001b[0;34m.\u001b[0m\u001b[0mretrieve\u001b[0m\u001b[0;34m(\u001b[0m\u001b[0;34m)\u001b[0m\u001b[0;34m\u001b[0m\u001b[0;34m\u001b[0m\u001b[0m\n\u001b[0m\u001b[1;32m   1055\u001b[0m             \u001b[0;31m# Make sure that we get a last message telling us we are done\u001b[0m\u001b[0;34m\u001b[0m\u001b[0;34m\u001b[0m\u001b[0;34m\u001b[0m\u001b[0m\n\u001b[1;32m   1056\u001b[0m             \u001b[0melapsed_time\u001b[0m \u001b[0;34m=\u001b[0m \u001b[0mtime\u001b[0m\u001b[0;34m.\u001b[0m\u001b[0mtime\u001b[0m\u001b[0;34m(\u001b[0m\u001b[0;34m)\u001b[0m \u001b[0;34m-\u001b[0m \u001b[0mself\u001b[0m\u001b[0;34m.\u001b[0m\u001b[0m_start_time\u001b[0m\u001b[0;34m\u001b[0m\u001b[0;34m\u001b[0m\u001b[0m\n",
            "\u001b[0;32m/usr/local/lib/python3.7/dist-packages/joblib/parallel.py\u001b[0m in \u001b[0;36mretrieve\u001b[0;34m(self)\u001b[0m\n\u001b[1;32m    931\u001b[0m             \u001b[0;32mtry\u001b[0m\u001b[0;34m:\u001b[0m\u001b[0;34m\u001b[0m\u001b[0;34m\u001b[0m\u001b[0m\n\u001b[1;32m    932\u001b[0m                 \u001b[0;32mif\u001b[0m \u001b[0mgetattr\u001b[0m\u001b[0;34m(\u001b[0m\u001b[0mself\u001b[0m\u001b[0;34m.\u001b[0m\u001b[0m_backend\u001b[0m\u001b[0;34m,\u001b[0m \u001b[0;34m'supports_timeout'\u001b[0m\u001b[0;34m,\u001b[0m \u001b[0;32mFalse\u001b[0m\u001b[0;34m)\u001b[0m\u001b[0;34m:\u001b[0m\u001b[0;34m\u001b[0m\u001b[0;34m\u001b[0m\u001b[0m\n\u001b[0;32m--> 933\u001b[0;31m                     \u001b[0mself\u001b[0m\u001b[0;34m.\u001b[0m\u001b[0m_output\u001b[0m\u001b[0;34m.\u001b[0m\u001b[0mextend\u001b[0m\u001b[0;34m(\u001b[0m\u001b[0mjob\u001b[0m\u001b[0;34m.\u001b[0m\u001b[0mget\u001b[0m\u001b[0;34m(\u001b[0m\u001b[0mtimeout\u001b[0m\u001b[0;34m=\u001b[0m\u001b[0mself\u001b[0m\u001b[0;34m.\u001b[0m\u001b[0mtimeout\u001b[0m\u001b[0;34m)\u001b[0m\u001b[0;34m)\u001b[0m\u001b[0;34m\u001b[0m\u001b[0;34m\u001b[0m\u001b[0m\n\u001b[0m\u001b[1;32m    934\u001b[0m                 \u001b[0;32melse\u001b[0m\u001b[0;34m:\u001b[0m\u001b[0;34m\u001b[0m\u001b[0;34m\u001b[0m\u001b[0m\n\u001b[1;32m    935\u001b[0m                     \u001b[0mself\u001b[0m\u001b[0;34m.\u001b[0m\u001b[0m_output\u001b[0m\u001b[0;34m.\u001b[0m\u001b[0mextend\u001b[0m\u001b[0;34m(\u001b[0m\u001b[0mjob\u001b[0m\u001b[0;34m.\u001b[0m\u001b[0mget\u001b[0m\u001b[0;34m(\u001b[0m\u001b[0;34m)\u001b[0m\u001b[0;34m)\u001b[0m\u001b[0;34m\u001b[0m\u001b[0;34m\u001b[0m\u001b[0m\n",
            "\u001b[0;32m/usr/local/lib/python3.7/dist-packages/joblib/_parallel_backends.py\u001b[0m in \u001b[0;36mwrap_future_result\u001b[0;34m(future, timeout)\u001b[0m\n\u001b[1;32m    540\u001b[0m         AsyncResults.get from multiprocessing.\"\"\"\n\u001b[1;32m    541\u001b[0m         \u001b[0;32mtry\u001b[0m\u001b[0;34m:\u001b[0m\u001b[0;34m\u001b[0m\u001b[0;34m\u001b[0m\u001b[0m\n\u001b[0;32m--> 542\u001b[0;31m             \u001b[0;32mreturn\u001b[0m \u001b[0mfuture\u001b[0m\u001b[0;34m.\u001b[0m\u001b[0mresult\u001b[0m\u001b[0;34m(\u001b[0m\u001b[0mtimeout\u001b[0m\u001b[0;34m=\u001b[0m\u001b[0mtimeout\u001b[0m\u001b[0;34m)\u001b[0m\u001b[0;34m\u001b[0m\u001b[0;34m\u001b[0m\u001b[0m\n\u001b[0m\u001b[1;32m    543\u001b[0m         \u001b[0;32mexcept\u001b[0m \u001b[0mCfTimeoutError\u001b[0m \u001b[0;32mas\u001b[0m \u001b[0me\u001b[0m\u001b[0;34m:\u001b[0m\u001b[0;34m\u001b[0m\u001b[0;34m\u001b[0m\u001b[0m\n\u001b[1;32m    544\u001b[0m             \u001b[0;32mraise\u001b[0m \u001b[0mTimeoutError\u001b[0m \u001b[0;32mfrom\u001b[0m \u001b[0me\u001b[0m\u001b[0;34m\u001b[0m\u001b[0;34m\u001b[0m\u001b[0m\n",
            "\u001b[0;32m/usr/lib/python3.7/concurrent/futures/_base.py\u001b[0m in \u001b[0;36mresult\u001b[0;34m(self, timeout)\u001b[0m\n\u001b[1;32m    428\u001b[0m                 \u001b[0;32mreturn\u001b[0m \u001b[0mself\u001b[0m\u001b[0;34m.\u001b[0m\u001b[0m__get_result\u001b[0m\u001b[0;34m(\u001b[0m\u001b[0;34m)\u001b[0m\u001b[0;34m\u001b[0m\u001b[0;34m\u001b[0m\u001b[0m\n\u001b[1;32m    429\u001b[0m \u001b[0;34m\u001b[0m\u001b[0m\n\u001b[0;32m--> 430\u001b[0;31m             \u001b[0mself\u001b[0m\u001b[0;34m.\u001b[0m\u001b[0m_condition\u001b[0m\u001b[0;34m.\u001b[0m\u001b[0mwait\u001b[0m\u001b[0;34m(\u001b[0m\u001b[0mtimeout\u001b[0m\u001b[0;34m)\u001b[0m\u001b[0;34m\u001b[0m\u001b[0;34m\u001b[0m\u001b[0m\n\u001b[0m\u001b[1;32m    431\u001b[0m \u001b[0;34m\u001b[0m\u001b[0m\n\u001b[1;32m    432\u001b[0m             \u001b[0;32mif\u001b[0m \u001b[0mself\u001b[0m\u001b[0;34m.\u001b[0m\u001b[0m_state\u001b[0m \u001b[0;32min\u001b[0m \u001b[0;34m[\u001b[0m\u001b[0mCANCELLED\u001b[0m\u001b[0;34m,\u001b[0m \u001b[0mCANCELLED_AND_NOTIFIED\u001b[0m\u001b[0;34m]\u001b[0m\u001b[0;34m:\u001b[0m\u001b[0;34m\u001b[0m\u001b[0;34m\u001b[0m\u001b[0m\n",
            "\u001b[0;32m/usr/lib/python3.7/threading.py\u001b[0m in \u001b[0;36mwait\u001b[0;34m(self, timeout)\u001b[0m\n\u001b[1;32m    294\u001b[0m         \u001b[0;32mtry\u001b[0m\u001b[0;34m:\u001b[0m    \u001b[0;31m# restore state no matter what (e.g., KeyboardInterrupt)\u001b[0m\u001b[0;34m\u001b[0m\u001b[0;34m\u001b[0m\u001b[0m\n\u001b[1;32m    295\u001b[0m             \u001b[0;32mif\u001b[0m \u001b[0mtimeout\u001b[0m \u001b[0;32mis\u001b[0m \u001b[0;32mNone\u001b[0m\u001b[0;34m:\u001b[0m\u001b[0;34m\u001b[0m\u001b[0;34m\u001b[0m\u001b[0m\n\u001b[0;32m--> 296\u001b[0;31m                 \u001b[0mwaiter\u001b[0m\u001b[0;34m.\u001b[0m\u001b[0macquire\u001b[0m\u001b[0;34m(\u001b[0m\u001b[0;34m)\u001b[0m\u001b[0;34m\u001b[0m\u001b[0;34m\u001b[0m\u001b[0m\n\u001b[0m\u001b[1;32m    297\u001b[0m                 \u001b[0mgotit\u001b[0m \u001b[0;34m=\u001b[0m \u001b[0;32mTrue\u001b[0m\u001b[0;34m\u001b[0m\u001b[0;34m\u001b[0m\u001b[0m\n\u001b[1;32m    298\u001b[0m             \u001b[0;32melse\u001b[0m\u001b[0;34m:\u001b[0m\u001b[0;34m\u001b[0m\u001b[0;34m\u001b[0m\u001b[0m\n",
            "\u001b[0;31mKeyboardInterrupt\u001b[0m: "
          ]
        }
      ]
    },
    {
      "cell_type": "code",
      "metadata": {
        "colab": {
          "background_save": true
        },
        "id": "c2vMKyFTFoyh",
        "outputId": "8178bc96-27d1-41c4-9959-af615d0c349e"
      },
      "source": [
        "y_pred_RF_OSample1 = cross_val_predict(pipeline_RFsmt,X, y, cv=kf)\n",
        "print(confusion_matrix(y, y_pred_RF_OSample1))\n",
        "print(classification_report(y, y_pred_RF_OSample1))"
      ],
      "execution_count": null,
      "outputs": [
        {
          "name": "stdout",
          "output_type": "stream",
          "text": [
            "[[186731   4719]\n",
            " [  6492  17187]]\n",
            "              precision    recall  f1-score   support\n",
            "\n",
            "           0       0.97      0.98      0.97    191450\n",
            "           1       0.78      0.73      0.75     23679\n",
            "\n",
            "    accuracy                           0.95    215129\n",
            "   macro avg       0.88      0.85      0.86    215129\n",
            "weighted avg       0.95      0.95      0.95    215129\n",
            "\n"
          ]
        }
      ]
    },
    {
      "cell_type": "markdown",
      "metadata": {
        "id": "6kmYL5jVozo9"
      },
      "source": [
        "* Below code, after deleting some features accuracy reduced, so Random forest is well with highly-correlated data that has many interactions. \n"
      ]
    },
    {
      "cell_type": "markdown",
      "metadata": {
        "id": "Oo19q97vCIbz"
      },
      "source": [
        "After deleting "
      ]
    },
    {
      "cell_type": "code",
      "metadata": {
        "id": "dnrvCf4OhQne"
      },
      "source": [
        "X_new=X.drop(columns=['DAY_OF_WEEK_day_end','DISTANCE','CRS_DEP_TIME'],axis=1)"
      ],
      "execution_count": null,
      "outputs": []
    },
    {
      "cell_type": "code",
      "metadata": {
        "id": "p4tBrF_2h27Z"
      },
      "source": [
        "model_Randomforest_smt= RandomForestClassifier(n_estimators= 100, criterion=\"gini\", class_weight='balanced')  \n",
        "oversample = SMOTE()\n",
        "pipeline_RFsmt = make_pipeline(oversample,model_Randomforest_smt)\n",
        "kf = StratifiedKFold(n_splits=5)\n",
        "y_pred_RF_OSample_new = cross_val_score(pipeline_RFsmt,X_new,y, scoring='roc_auc', cv=kf, n_jobs=-1)\n",
        "# summarize performance\n",
        "print('Mean ROC AUC: %.3f' % mean(y_pred_RF_OSample_new))"
      ],
      "execution_count": null,
      "outputs": []
    },
    {
      "cell_type": "code",
      "metadata": {
        "id": "eBdftG0uxiV7"
      },
      "source": [
        "X_new8=X.drop(columns=['Dep_period_Early morning', 'Dep_period_Evening', 'Dep_period_Midnight',\n",
        "       'Dep_period_Morning', 'Dep_period_Night'],axis=1)"
      ],
      "execution_count": null,
      "outputs": []
    },
    {
      "cell_type": "code",
      "metadata": {
        "colab": {
          "base_uri": "https://localhost:8080/"
        },
        "id": "x2zQuGYtb9TJ",
        "outputId": "33898b18-4f71-4e41-8b6c-e6a310a3b490"
      },
      "source": [
        "X_new8.columns"
      ],
      "execution_count": null,
      "outputs": [
        {
          "data": {
            "text/plain": [
              "Index(['ORIGIN_AIRPORT_ID', 'DEST_AIRPORT_ID', 'AIR_TIME', 'DISTANCE',\n",
              "       'CRS_DEP_TIME', 'CRS_ELAPSED_TIME', 'WEEK_OF_MONTH',\n",
              "       'DAY_OF_WEEK_days_end', 'percentage_DEP_TIMEslot_del',\n",
              "       'percentage_Delay_org', 'percentage_Delay1', 'TAIL_NUM_DELAY_COUNT',\n",
              "       'DAY_OF_WEEK_day_end', 'WEEK_DEP_DELAY_PERCENTAGE',\n",
              "       '%DAYMONTH_DEP_DELAYED', '%_DEP_DELAYED_month',\n",
              "       'FL_NUM_Taxiout_weight'],\n",
              "      dtype='object')"
            ]
          },
          "execution_count": 90,
          "metadata": {},
          "output_type": "execute_result"
        }
      ]
    },
    {
      "cell_type": "code",
      "metadata": {
        "colab": {
          "base_uri": "https://localhost:8080/"
        },
        "id": "tkhezaExXTEa",
        "outputId": "80c92452-f1f9-40fd-d398-de63052bccb4"
      },
      "source": [
        "from sklearn.linear_model import LogisticRegression\n",
        "from numpy import mean\n",
        "model_LOGISTICS = LogisticRegression(class_weight='balanced',solver='saga')\n",
        "#model_LOGISTICSfit = model_LOGISTICS.fit(principalComponents_train, Y_Train)\n",
        "pca = PCA(.95)\n",
        "Robust=RobustScaler()\n",
        "oversample = SMOTE()\n",
        "pipeline_LRsmt = make_pipeline(oversample,pca,model_LOGISTICS)\n",
        "kf = StratifiedKFold(n_splits=5)\n",
        "y_pred_LR_OSample8 = cross_val_score(pipeline_LRsmt,X_new8,y, scoring='roc_auc', cv=kf, n_jobs=-1)\n",
        "print('Mean ROC AUC: %.3f' % mean(y_pred_LR_OSample8))"
      ],
      "execution_count": null,
      "outputs": [
        {
          "name": "stdout",
          "output_type": "stream",
          "text": [
            "Mean ROC AUC: 0.534\n"
          ]
        }
      ]
    },
    {
      "cell_type": "code",
      "metadata": {
        "colab": {
          "base_uri": "https://localhost:8080/"
        },
        "id": "h_3SQmt-z5HO",
        "outputId": "7bdd7473-247f-47db-8039-43d52bd40968"
      },
      "source": [
        "model_Randomforest_smt= RandomForestClassifier(n_estimators= 100, criterion=\"gini\", class_weight='balanced')  \n",
        "oversample = SMOTE()\n",
        "pipeline_RFsmt = make_pipeline(oversample,model_Randomforest_smt)\n",
        "kf = StratifiedKFold(n_splits=5)\n",
        "y_pred_RF_OSample8 = cross_val_score(pipeline_RFsmt,X_new8,y, scoring='roc_auc', cv=kf, n_jobs=-1)\n",
        "# summarize performance\n",
        "print('Mean ROC AUC: %.3f' % mean(y_pred_RF_OSample8))"
      ],
      "execution_count": null,
      "outputs": [
        {
          "name": "stdout",
          "output_type": "stream",
          "text": [
            "Mean ROC AUC: 0.864\n"
          ]
        }
      ]
    },
    {
      "cell_type": "code",
      "metadata": {
        "colab": {
          "base_uri": "https://localhost:8080/"
        },
        "id": "TtKZF7ik2X8p",
        "outputId": "0000ddf7-68de-4a16-fc56-125fcf8f332e"
      },
      "source": [
        "y_pred_RF_OSample8_1 = cross_val_predict(pipeline_RFsmt,X_new8, y, cv=kf)\n",
        "print(confusion_matrix(y, y_pred_RF_OSample8_1))\n",
        "print(classification_report(y, y_pred_RF_OSample8_1))"
      ],
      "execution_count": null,
      "outputs": [
        {
          "name": "stdout",
          "output_type": "stream",
          "text": [
            "[[190394   1056]\n",
            " [ 17845   5834]]\n",
            "              precision    recall  f1-score   support\n",
            "\n",
            "           0       0.91      0.99      0.95    191450\n",
            "           1       0.85      0.25      0.38     23679\n",
            "\n",
            "    accuracy                           0.91    215129\n",
            "   macro avg       0.88      0.62      0.67    215129\n",
            "weighted avg       0.91      0.91      0.89    215129\n",
            "\n"
          ]
        }
      ]
    },
    {
      "cell_type": "markdown",
      "metadata": {
        "id": "aZwacuhRTNN5"
      },
      "source": [
        "# ARRIVAL DELAY"
      ]
    },
    {
      "cell_type": "code",
      "metadata": {
        "colab": {
          "base_uri": "https://localhost:8080/",
          "height": 202
        },
        "id": "dKBGoMYmo3IE",
        "outputId": "dbf7ee30-28e0-46a6-e7f2-ccfff06b61b7"
      },
      "source": [
        "#systematic_sample_selectedcols=flightsampledata[['YEAR','MONTH','DAY_OF_MONTH','DAY_OF_WEEK','FL_DATE','ORIGIN','DEST','ORIGIN_AIRPORT_ID','DEST_AIRPORT_ID','TAIL_NUM','AIR_TIME','OP_CARRIER_FL_NUM','DISTANCE','OP_CARRIER_AIRLINE_ID','DEP_DEL15','CRS_DEP_TIME','CRS_ARR_TIME','CRS_ELAPSED_TIME','TAXI_OUT','DEP_TIME','TAXI_IN','ARR_TIME','ARR_DEL15']]"
      ],
      "execution_count": null,
      "outputs": [
        {
          "ename": "NameError",
          "evalue": "ignored",
          "output_type": "error",
          "traceback": [
            "\u001b[0;31m---------------------------------------------------------------------------\u001b[0m",
            "\u001b[0;31mNameError\u001b[0m                                 Traceback (most recent call last)",
            "\u001b[0;32m<ipython-input-1-4694c22602b4>\u001b[0m in \u001b[0;36m<module>\u001b[0;34m()\u001b[0m\n\u001b[0;32m----> 1\u001b[0;31m \u001b[0msystematic_sample_selectedcols_ARR\u001b[0m\u001b[0;34m=\u001b[0m\u001b[0mflightsampledata\u001b[0m\u001b[0;34m[\u001b[0m\u001b[0;34m[\u001b[0m\u001b[0;34m'YEAR'\u001b[0m\u001b[0;34m,\u001b[0m\u001b[0;34m'MONTH'\u001b[0m\u001b[0;34m,\u001b[0m\u001b[0;34m'DAY_OF_MONTH'\u001b[0m\u001b[0;34m,\u001b[0m\u001b[0;34m'DAY_OF_WEEK'\u001b[0m\u001b[0;34m,\u001b[0m\u001b[0;34m'FL_DATE'\u001b[0m\u001b[0;34m,\u001b[0m\u001b[0;34m'ORIGIN'\u001b[0m\u001b[0;34m,\u001b[0m\u001b[0;34m'DEST'\u001b[0m\u001b[0;34m,\u001b[0m\u001b[0;34m'ORIGIN_AIRPORT_ID'\u001b[0m\u001b[0;34m,\u001b[0m\u001b[0;34m'DEST_AIRPORT_ID'\u001b[0m\u001b[0;34m,\u001b[0m\u001b[0;34m'TAIL_NUM'\u001b[0m\u001b[0;34m,\u001b[0m\u001b[0;34m'AIR_TIME'\u001b[0m\u001b[0;34m,\u001b[0m\u001b[0;34m'OP_CARRIER_FL_NUM'\u001b[0m\u001b[0;34m,\u001b[0m\u001b[0;34m'DISTANCE'\u001b[0m\u001b[0;34m,\u001b[0m\u001b[0;34m'OP_CARRIER_AIRLINE_ID'\u001b[0m\u001b[0;34m,\u001b[0m\u001b[0;34m'DEP_DEL15'\u001b[0m\u001b[0;34m,\u001b[0m\u001b[0;34m'CRS_DEP_TIME'\u001b[0m\u001b[0;34m,\u001b[0m\u001b[0;34m'CRS_ARR_TIME'\u001b[0m\u001b[0;34m,\u001b[0m\u001b[0;34m'CRS_ELAPSED_TIME'\u001b[0m\u001b[0;34m,\u001b[0m\u001b[0;34m'TAXI_OUT'\u001b[0m\u001b[0;34m,\u001b[0m\u001b[0;34m'DEP_TIME'\u001b[0m\u001b[0;34m,\u001b[0m\u001b[0;34m'TAXI_IN'\u001b[0m\u001b[0;34m,\u001b[0m\u001b[0;34m'ARR_TIME'\u001b[0m\u001b[0;34m,\u001b[0m\u001b[0;34m'ARR_DEL15'\u001b[0m\u001b[0;34m]\u001b[0m\u001b[0;34m]\u001b[0m\u001b[0;34m\u001b[0m\u001b[0;34m\u001b[0m\u001b[0m\n\u001b[0m",
            "\u001b[0;31mNameError\u001b[0m: name 'flightsampledata' is not defined"
          ]
        }
      ]
    },
    {
      "cell_type": "markdown",
      "metadata": {
        "id": "d1VwLTkDM1b5"
      },
      "source": [
        "CREATING NEW COLUMN, ARRIVAL TIME BLOCK"
      ]
    },
    {
      "cell_type": "code",
      "metadata": {
        "colab": {
          "base_uri": "https://localhost:8080/"
        },
        "id": "LmzNSdZgPivx",
        "outputId": "308fbdea-013f-4c7e-e063-a1692fbcaf7f"
      },
      "source": [
        "systematic_sample_selectedcols_ARR['ARR_TIME'].isna().sum()"
      ],
      "execution_count": null,
      "outputs": [
        {
          "data": {
            "text/plain": [
              "0"
            ]
          },
          "execution_count": 47,
          "metadata": {},
          "output_type": "execute_result"
        }
      ]
    },
    {
      "cell_type": "code",
      "metadata": {
        "colab": {
          "base_uri": "https://localhost:8080/",
          "height": 338
        },
        "id": "8a6k6dtXNcNn",
        "outputId": "fde919d3-aa72-46bd-a9ef-e29315b9019d"
      },
      "source": [
        "def get_arr_time_blk(arr_time):\n",
        "    arr_hour = str('%04d' %(arr_time))[:2]\n",
        "    \n",
        "    return arr_hour\n",
        "\n",
        "systematic_sample_selectedcols['ARR_TIMEslot_BLK'] = systematic_sample_selectedcols.ARR_TIME.apply(get_arr_time_blk)\n",
        "print(systematic_sample_selectedcols[['ARR_TIME','ARR_TIMEslot_BLK']].head(5))"
      ],
      "execution_count": null,
      "outputs": [
        {
          "ename": "AttributeError",
          "evalue": "ignored",
          "output_type": "error",
          "traceback": [
            "\u001b[0;31m---------------------------------------------------------------------------\u001b[0m",
            "\u001b[0;31mAttributeError\u001b[0m                            Traceback (most recent call last)",
            "\u001b[0;32m<ipython-input-19-111c17f1464e>\u001b[0m in \u001b[0;36m<module>\u001b[0;34m()\u001b[0m\n\u001b[1;32m      4\u001b[0m     \u001b[0;32mreturn\u001b[0m \u001b[0marr_hour\u001b[0m\u001b[0;34m\u001b[0m\u001b[0;34m\u001b[0m\u001b[0m\n\u001b[1;32m      5\u001b[0m \u001b[0;34m\u001b[0m\u001b[0m\n\u001b[0;32m----> 6\u001b[0;31m \u001b[0msystematic_sample_selectedcols\u001b[0m\u001b[0;34m[\u001b[0m\u001b[0;34m'ARR_TIMEslot_BLK'\u001b[0m\u001b[0;34m]\u001b[0m \u001b[0;34m=\u001b[0m \u001b[0msystematic_sample_selectedcols\u001b[0m\u001b[0;34m.\u001b[0m\u001b[0mARR_TIME\u001b[0m\u001b[0;34m.\u001b[0m\u001b[0mapply\u001b[0m\u001b[0;34m(\u001b[0m\u001b[0mget_arr_time_blk\u001b[0m\u001b[0;34m)\u001b[0m\u001b[0;34m\u001b[0m\u001b[0;34m\u001b[0m\u001b[0m\n\u001b[0m\u001b[1;32m      7\u001b[0m \u001b[0mprint\u001b[0m\u001b[0;34m(\u001b[0m\u001b[0msystematic_sample_selectedcols\u001b[0m\u001b[0;34m[\u001b[0m\u001b[0;34m[\u001b[0m\u001b[0;34m'ARR_TIME'\u001b[0m\u001b[0;34m,\u001b[0m\u001b[0;34m'ARR_TIMEslot_BLK'\u001b[0m\u001b[0;34m]\u001b[0m\u001b[0;34m]\u001b[0m\u001b[0;34m.\u001b[0m\u001b[0mhead\u001b[0m\u001b[0;34m(\u001b[0m\u001b[0;36m5\u001b[0m\u001b[0;34m)\u001b[0m\u001b[0;34m)\u001b[0m\u001b[0;34m\u001b[0m\u001b[0;34m\u001b[0m\u001b[0m\n",
            "\u001b[0;32m/usr/local/lib/python3.7/dist-packages/pandas/core/generic.py\u001b[0m in \u001b[0;36m__getattr__\u001b[0;34m(self, name)\u001b[0m\n\u001b[1;32m   5139\u001b[0m             \u001b[0;32mif\u001b[0m \u001b[0mself\u001b[0m\u001b[0;34m.\u001b[0m\u001b[0m_info_axis\u001b[0m\u001b[0;34m.\u001b[0m\u001b[0m_can_hold_identifiers_and_holds_name\u001b[0m\u001b[0;34m(\u001b[0m\u001b[0mname\u001b[0m\u001b[0;34m)\u001b[0m\u001b[0;34m:\u001b[0m\u001b[0;34m\u001b[0m\u001b[0;34m\u001b[0m\u001b[0m\n\u001b[1;32m   5140\u001b[0m                 \u001b[0;32mreturn\u001b[0m \u001b[0mself\u001b[0m\u001b[0;34m[\u001b[0m\u001b[0mname\u001b[0m\u001b[0;34m]\u001b[0m\u001b[0;34m\u001b[0m\u001b[0;34m\u001b[0m\u001b[0m\n\u001b[0;32m-> 5141\u001b[0;31m             \u001b[0;32mreturn\u001b[0m \u001b[0mobject\u001b[0m\u001b[0;34m.\u001b[0m\u001b[0m__getattribute__\u001b[0m\u001b[0;34m(\u001b[0m\u001b[0mself\u001b[0m\u001b[0;34m,\u001b[0m \u001b[0mname\u001b[0m\u001b[0;34m)\u001b[0m\u001b[0;34m\u001b[0m\u001b[0;34m\u001b[0m\u001b[0m\n\u001b[0m\u001b[1;32m   5142\u001b[0m \u001b[0;34m\u001b[0m\u001b[0m\n\u001b[1;32m   5143\u001b[0m     \u001b[0;32mdef\u001b[0m \u001b[0m__setattr__\u001b[0m\u001b[0;34m(\u001b[0m\u001b[0mself\u001b[0m\u001b[0;34m,\u001b[0m \u001b[0mname\u001b[0m\u001b[0;34m:\u001b[0m \u001b[0mstr\u001b[0m\u001b[0;34m,\u001b[0m \u001b[0mvalue\u001b[0m\u001b[0;34m)\u001b[0m \u001b[0;34m->\u001b[0m \u001b[0;32mNone\u001b[0m\u001b[0;34m:\u001b[0m\u001b[0;34m\u001b[0m\u001b[0;34m\u001b[0m\u001b[0m\n",
            "\u001b[0;31mAttributeError\u001b[0m: 'DataFrame' object has no attribute 'ARR_TIME'"
          ]
        }
      ]
    },
    {
      "cell_type": "code",
      "metadata": {
        "id": "GUHsWohnSiHG"
      },
      "source": [
        "systematic_sample_selectedcols[['ARR_TIMEslot_BLK']]=systematic_sample_selectedcols_ARR[['ARR_TIMEslot_BLK']].astype(int)"
      ],
      "execution_count": null,
      "outputs": []
    },
    {
      "cell_type": "code",
      "metadata": {
        "id": "t5InfA7LSjrB"
      },
      "source": [
        "#systematic_sample_selectedcols_ARR[['ARR_TIME','ARR_TIMEslot_BLK']][systematic_sample_selectedcols_ARR['ARR_TIMEslot_BLK']==0]\n",
        "#systematic_sample_selectedcols_ARR[['ARR_TIME','ARR_TIMEslot_BLK']][systematic_sample_selectedcols_ARR['ARR_TIMEslot_BLK']==24]"
      ],
      "execution_count": null,
      "outputs": []
    },
    {
      "cell_type": "markdown",
      "metadata": {
        "id": "to-qEAe_UGf8"
      },
      "source": [
        "For ARRIVAL also create 6 time slot "
      ]
    },
    {
      "cell_type": "code",
      "metadata": {
        "colab": {
          "base_uri": "https://localhost:8080/",
          "height": 206
        },
        "id": "OwuU3UZjUFg3",
        "outputId": "06604a0e-0d1a-43ce-ddf3-2ef11cfd3246"
      },
      "source": [
        "for dataset in systematic_sample_selectedcols_ARR:\n",
        "    systematic_sample_selectedcols_ARR.loc[systematic_sample_selectedcols_ARR['ARR_TIMEslot_BLK'] >=0, 'arr_period'] = 'Midnight'\n",
        "    systematic_sample_selectedcols_ARR.loc[systematic_sample_selectedcols_ARR['ARR_TIMEslot_BLK'] >=4,'arr_period'] ='Early morning'\n",
        "    systematic_sample_selectedcols_ARR.loc[systematic_sample_selectedcols_ARR['ARR_TIMEslot_BLK'] >=7,'arr_period'] ='Morning'\n",
        "    systematic_sample_selectedcols_ARR.loc[systematic_sample_selectedcols_ARR['ARR_TIMEslot_BLK'] >=12,'arr_period'] ='Afternoon'\n",
        "    systematic_sample_selectedcols_ARR.loc[systematic_sample_selectedcols_ARR['ARR_TIMEslot_BLK'] >=17,'arr_period'] ='Evening'\n",
        "    systematic_sample_selectedcols_ARR.loc[systematic_sample_selectedcols_ARR['ARR_TIMEslot_BLK'] >=20,'arr_period'] ='Night'\n",
        "    systematic_sample_selectedcols_ARR.loc[systematic_sample_selectedcols_ARR['ARR_TIMEslot_BLK'] ==24, 'arr_period'] = 'Midnight'\n",
        "systematic_sample_selectedcols_ARR[['ARR_TIMEslot_BLK','arr_period']].head()"
      ],
      "execution_count": null,
      "outputs": [
        {
          "data": {
            "text/html": [
              "<div>\n",
              "<style scoped>\n",
              "    .dataframe tbody tr th:only-of-type {\n",
              "        vertical-align: middle;\n",
              "    }\n",
              "\n",
              "    .dataframe tbody tr th {\n",
              "        vertical-align: top;\n",
              "    }\n",
              "\n",
              "    .dataframe thead th {\n",
              "        text-align: right;\n",
              "    }\n",
              "</style>\n",
              "<table border=\"1\" class=\"dataframe\">\n",
              "  <thead>\n",
              "    <tr style=\"text-align: right;\">\n",
              "      <th></th>\n",
              "      <th>ARR_TIMEslot_BLK</th>\n",
              "      <th>arr_period</th>\n",
              "    </tr>\n",
              "  </thead>\n",
              "  <tbody>\n",
              "    <tr>\n",
              "      <th>0</th>\n",
              "      <td>15</td>\n",
              "      <td>Afternoon</td>\n",
              "    </tr>\n",
              "    <tr>\n",
              "      <th>1</th>\n",
              "      <td>13</td>\n",
              "      <td>Afternoon</td>\n",
              "    </tr>\n",
              "    <tr>\n",
              "      <th>2</th>\n",
              "      <td>12</td>\n",
              "      <td>Afternoon</td>\n",
              "    </tr>\n",
              "    <tr>\n",
              "      <th>3</th>\n",
              "      <td>14</td>\n",
              "      <td>Afternoon</td>\n",
              "    </tr>\n",
              "    <tr>\n",
              "      <th>4</th>\n",
              "      <td>7</td>\n",
              "      <td>Morning</td>\n",
              "    </tr>\n",
              "  </tbody>\n",
              "</table>\n",
              "</div>"
            ],
            "text/plain": [
              "   ARR_TIMEslot_BLK arr_period\n",
              "0                15  Afternoon\n",
              "1                13  Afternoon\n",
              "2                12  Afternoon\n",
              "3                14  Afternoon\n",
              "4                 7    Morning"
            ]
          },
          "execution_count": 51,
          "metadata": {},
          "output_type": "execute_result"
        }
      ]
    },
    {
      "cell_type": "code",
      "metadata": {
        "colab": {
          "base_uri": "https://localhost:8080/",
          "height": 313
        },
        "id": "RmNx6Tdkow2t",
        "outputId": "f3baa8cd-afdf-43a3-e1f0-c0d9abd9c04f"
      },
      "source": [
        "systematic_sample_selectedcols_ARR.head()"
      ],
      "execution_count": null,
      "outputs": [
        {
          "data": {
            "text/html": [
              "<div>\n",
              "<style scoped>\n",
              "    .dataframe tbody tr th:only-of-type {\n",
              "        vertical-align: middle;\n",
              "    }\n",
              "\n",
              "    .dataframe tbody tr th {\n",
              "        vertical-align: top;\n",
              "    }\n",
              "\n",
              "    .dataframe thead th {\n",
              "        text-align: right;\n",
              "    }\n",
              "</style>\n",
              "<table border=\"1\" class=\"dataframe\">\n",
              "  <thead>\n",
              "    <tr style=\"text-align: right;\">\n",
              "      <th></th>\n",
              "      <th>YEAR</th>\n",
              "      <th>MONTH</th>\n",
              "      <th>DAY_OF_MONTH</th>\n",
              "      <th>DAY_OF_WEEK</th>\n",
              "      <th>FL_DATE</th>\n",
              "      <th>ORIGIN</th>\n",
              "      <th>DEST</th>\n",
              "      <th>ORIGIN_AIRPORT_ID</th>\n",
              "      <th>DEST_AIRPORT_ID</th>\n",
              "      <th>TAIL_NUM</th>\n",
              "      <th>AIR_TIME</th>\n",
              "      <th>OP_CARRIER_FL_NUM</th>\n",
              "      <th>DISTANCE</th>\n",
              "      <th>OP_CARRIER_AIRLINE_ID</th>\n",
              "      <th>DEP_DEL15</th>\n",
              "      <th>CRS_DEP_TIME</th>\n",
              "      <th>CRS_ARR_TIME</th>\n",
              "      <th>CRS_ELAPSED_TIME</th>\n",
              "      <th>TAXI_OUT</th>\n",
              "      <th>DEP_TIME</th>\n",
              "      <th>TAXI_IN</th>\n",
              "      <th>ARR_TIME</th>\n",
              "      <th>ARR_DEL15</th>\n",
              "      <th>ARR_TIMEslot_BLK</th>\n",
              "      <th>arr_period</th>\n",
              "    </tr>\n",
              "  </thead>\n",
              "  <tbody>\n",
              "    <tr>\n",
              "      <th>0</th>\n",
              "      <td>2021</td>\n",
              "      <td>1</td>\n",
              "      <td>17</td>\n",
              "      <td>7</td>\n",
              "      <td>2021-01-17</td>\n",
              "      <td>DFW</td>\n",
              "      <td>DTW</td>\n",
              "      <td>11298</td>\n",
              "      <td>11433</td>\n",
              "      <td>N326NB</td>\n",
              "      <td>126.0</td>\n",
              "      <td>1089</td>\n",
              "      <td>986.0</td>\n",
              "      <td>19790</td>\n",
              "      <td>0.0</td>\n",
              "      <td>1153</td>\n",
              "      <td>1523</td>\n",
              "      <td>150.0</td>\n",
              "      <td>28.0</td>\n",
              "      <td>1151.0</td>\n",
              "      <td>11.0</td>\n",
              "      <td>1536.0</td>\n",
              "      <td>0.0</td>\n",
              "      <td>15</td>\n",
              "      <td>Afternoon</td>\n",
              "    </tr>\n",
              "    <tr>\n",
              "      <th>1</th>\n",
              "      <td>2021</td>\n",
              "      <td>1</td>\n",
              "      <td>17</td>\n",
              "      <td>7</td>\n",
              "      <td>2021-01-17</td>\n",
              "      <td>SLC</td>\n",
              "      <td>DFW</td>\n",
              "      <td>14869</td>\n",
              "      <td>11298</td>\n",
              "      <td>N356NW</td>\n",
              "      <td>122.0</td>\n",
              "      <td>1097</td>\n",
              "      <td>989.0</td>\n",
              "      <td>19790</td>\n",
              "      <td>0.0</td>\n",
              "      <td>948</td>\n",
              "      <td>1333</td>\n",
              "      <td>165.0</td>\n",
              "      <td>31.0</td>\n",
              "      <td>939.0</td>\n",
              "      <td>15.0</td>\n",
              "      <td>1327.0</td>\n",
              "      <td>0.0</td>\n",
              "      <td>13</td>\n",
              "      <td>Afternoon</td>\n",
              "    </tr>\n",
              "    <tr>\n",
              "      <th>2</th>\n",
              "      <td>2021</td>\n",
              "      <td>1</td>\n",
              "      <td>17</td>\n",
              "      <td>7</td>\n",
              "      <td>2021-01-17</td>\n",
              "      <td>SEA</td>\n",
              "      <td>SLC</td>\n",
              "      <td>14747</td>\n",
              "      <td>14869</td>\n",
              "      <td>N878DN</td>\n",
              "      <td>80.0</td>\n",
              "      <td>1112</td>\n",
              "      <td>689.0</td>\n",
              "      <td>19790</td>\n",
              "      <td>0.0</td>\n",
              "      <td>1010</td>\n",
              "      <td>1314</td>\n",
              "      <td>124.0</td>\n",
              "      <td>16.0</td>\n",
              "      <td>1006.0</td>\n",
              "      <td>8.0</td>\n",
              "      <td>1250.0</td>\n",
              "      <td>0.0</td>\n",
              "      <td>12</td>\n",
              "      <td>Afternoon</td>\n",
              "    </tr>\n",
              "    <tr>\n",
              "      <th>3</th>\n",
              "      <td>2021</td>\n",
              "      <td>1</td>\n",
              "      <td>17</td>\n",
              "      <td>7</td>\n",
              "      <td>2021-01-17</td>\n",
              "      <td>ATL</td>\n",
              "      <td>SDF</td>\n",
              "      <td>10397</td>\n",
              "      <td>14730</td>\n",
              "      <td>N3732J</td>\n",
              "      <td>54.0</td>\n",
              "      <td>1126</td>\n",
              "      <td>321.0</td>\n",
              "      <td>19790</td>\n",
              "      <td>0.0</td>\n",
              "      <td>1313</td>\n",
              "      <td>1426</td>\n",
              "      <td>73.0</td>\n",
              "      <td>14.0</td>\n",
              "      <td>1310.0</td>\n",
              "      <td>6.0</td>\n",
              "      <td>1424.0</td>\n",
              "      <td>0.0</td>\n",
              "      <td>14</td>\n",
              "      <td>Afternoon</td>\n",
              "    </tr>\n",
              "    <tr>\n",
              "      <th>4</th>\n",
              "      <td>2021</td>\n",
              "      <td>1</td>\n",
              "      <td>17</td>\n",
              "      <td>7</td>\n",
              "      <td>2021-01-17</td>\n",
              "      <td>DTW</td>\n",
              "      <td>ATL</td>\n",
              "      <td>11433</td>\n",
              "      <td>10397</td>\n",
              "      <td>N819DN</td>\n",
              "      <td>90.0</td>\n",
              "      <td>1140</td>\n",
              "      <td>594.0</td>\n",
              "      <td>19790</td>\n",
              "      <td>0.0</td>\n",
              "      <td>605</td>\n",
              "      <td>823</td>\n",
              "      <td>138.0</td>\n",
              "      <td>26.0</td>\n",
              "      <td>559.0</td>\n",
              "      <td>3.0</td>\n",
              "      <td>758.0</td>\n",
              "      <td>0.0</td>\n",
              "      <td>7</td>\n",
              "      <td>Morning</td>\n",
              "    </tr>\n",
              "  </tbody>\n",
              "</table>\n",
              "</div>"
            ],
            "text/plain": [
              "   YEAR  MONTH  DAY_OF_MONTH  ...  ARR_DEL15 ARR_TIMEslot_BLK arr_period\n",
              "0  2021      1            17  ...        0.0               15  Afternoon\n",
              "1  2021      1            17  ...        0.0               13  Afternoon\n",
              "2  2021      1            17  ...        0.0               12  Afternoon\n",
              "3  2021      1            17  ...        0.0               14  Afternoon\n",
              "4  2021      1            17  ...        0.0                7    Morning\n",
              "\n",
              "[5 rows x 25 columns]"
            ]
          },
          "execution_count": 52,
          "metadata": {},
          "output_type": "execute_result"
        }
      ]
    },
    {
      "cell_type": "code",
      "metadata": {
        "colab": {
          "base_uri": "https://localhost:8080/"
        },
        "id": "RlyK4eZNsF-p",
        "outputId": "59b0be63-de10-4619-e7b2-2a05fc89806b"
      },
      "source": [
        "systematic_sample_selectedcols_ARR.columns"
      ],
      "execution_count": null,
      "outputs": [
        {
          "data": {
            "text/plain": [
              "Index(['YEAR', 'MONTH', 'DAY_OF_MONTH', 'DAY_OF_WEEK', 'FL_DATE', 'ORIGIN',\n",
              "       'DEST', 'ORIGIN_AIRPORT_ID', 'DEST_AIRPORT_ID', 'TAIL_NUM', 'AIR_TIME',\n",
              "       'OP_CARRIER_FL_NUM', 'DISTANCE', 'OP_CARRIER_AIRLINE_ID', 'DEP_DEL15',\n",
              "       'CRS_DEP_TIME', 'CRS_ARR_TIME', 'CRS_ELAPSED_TIME', 'TAXI_OUT',\n",
              "       'DEP_TIME', 'TAXI_IN', 'ARR_TIME', 'ARR_DEL15', 'ARR_TIMEslot_BLK',\n",
              "       'arr_period'],\n",
              "      dtype='object')"
            ]
          },
          "execution_count": 53,
          "metadata": {},
          "output_type": "execute_result"
        }
      ]
    },
    {
      "cell_type": "code",
      "metadata": {
        "id": "BkVmOj2C-SH6"
      },
      "source": [
        "systematic_sample_selectedcols.columns"
      ],
      "execution_count": null,
      "outputs": []
    },
    {
      "cell_type": "code",
      "metadata": {
        "id": "NQ0QFq-Iowjp"
      },
      "source": [
        "systematic_samplefinal=systematic_sample_selectedcols[['MONTH','DAY_OF_MONTH','DAY_OF_WEEK','ORIGIN_AIRPORT_ID','DEP_DEL15','DEST_AIRPORT_ID','AIR_TIME','DISTANCE','DEP_TIMEslot_BLK','ARR_TIMEslot_BLK','ARR_DEL15']]"
      ],
      "execution_count": null,
      "outputs": []
    },
    {
      "cell_type": "code",
      "metadata": {
        "colab": {
          "base_uri": "https://localhost:8080/"
        },
        "id": "LZwOPlE76Q7v",
        "outputId": "ac232275-b456-4bf0-b44d-90bf5a8ad95d"
      },
      "source": [
        "systematic_samplefinal.dtypes"
      ],
      "execution_count": null,
      "outputs": [
        {
          "data": {
            "text/plain": [
              "MONTH                  int64\n",
              "DAY_OF_MONTH           int64\n",
              "DAY_OF_WEEK            int64\n",
              "ORIGIN_AIRPORT_ID      int64\n",
              "DEP_DEL15            float64\n",
              "DEST_AIRPORT_ID        int64\n",
              "AIR_TIME             float64\n",
              "DISTANCE             float64\n",
              "DEP_TIMEslot_BLK       int64\n",
              "ARR_TIMEslot_BLK       int64\n",
              "ARR_DEL15            float64\n",
              "dtype: object"
            ]
          },
          "execution_count": 26,
          "metadata": {},
          "output_type": "execute_result"
        }
      ]
    },
    {
      "cell_type": "code",
      "metadata": {
        "colab": {
          "base_uri": "https://localhost:8080/"
        },
        "id": "6znoyiZ_rP9P",
        "outputId": "230f2c85-0b18-43db-8264-9da65ee8c987"
      },
      "source": [
        "y = systematic_samplefinal.ARR_DEL15 \n",
        " #Drop target and set the dependent values variables \n",
        "X = systematic_samplefinal.drop('ARR_DEL15', axis=1)\n",
        "print(X.shape,y.shape)"
      ],
      "execution_count": null,
      "outputs": [
        {
          "name": "stdout",
          "output_type": "stream",
          "text": [
            "(215130, 10) (215130,)\n"
          ]
        }
      ]
    },
    {
      "cell_type": "code",
      "metadata": {
        "colab": {
          "base_uri": "https://localhost:8080/"
        },
        "id": "P_b9-ye6r1a_",
        "outputId": "8c1938d3-18b1-4ae8-8eae-fe124bbb5883"
      },
      "source": [
        "model_Randomforest_smt= RandomForestClassifier(n_estimators= 100, criterion=\"gini\", class_weight='balanced')  \n",
        "#Rscaler = RobustScaler()\n",
        "oversample = SMOTE()\n",
        "pipeline_RFsmt = make_pipeline(oversample,model_Randomforest_smt)\n",
        "\n",
        "#model_Randomforest_smt = model_Randomforest_smt.fit(X_Train_scaled_smt, y_train_smt)\n",
        "#y_pred_test_RF = model_Randomforest_smt.predict(X_Test_scaled)\n",
        "#print('R2 Value RANDOM FOREST:',metrics.r2_score(X_Train_scaled_smt, model_Randomforest_smt.predict(X_Train_scaled_smt)))\n",
        "kf = StratifiedKFold(n_splits=5)\n",
        "y_pred_RF_OSample = cross_val_predict(pipeline_RFsmt,X, y, cv=kf)\n",
        "print(confusion_matrix(y, y_pred_RF_OSample))\n",
        "print(classification_report(y, y_pred_RF_OSample))"
      ],
      "execution_count": null,
      "outputs": [
        {
          "name": "stdout",
          "output_type": "stream",
          "text": [
            "[[183095   6842]\n",
            " [  7485  17708]]\n",
            "              precision    recall  f1-score   support\n",
            "\n",
            "         0.0       0.96      0.96      0.96    189937\n",
            "         1.0       0.72      0.70      0.71     25193\n",
            "\n",
            "    accuracy                           0.93    215130\n",
            "   macro avg       0.84      0.83      0.84    215130\n",
            "weighted avg       0.93      0.93      0.93    215130\n",
            "\n"
          ]
        }
      ]
    },
    {
      "cell_type": "code",
      "metadata": {
        "id": "weocxNHIw_Sh"
      },
      "source": [
        ""
      ],
      "execution_count": null,
      "outputs": []
    },
    {
      "cell_type": "code",
      "metadata": {
        "id": "_iGyz_K8w_G8"
      },
      "source": [
        ""
      ],
      "execution_count": null,
      "outputs": []
    },
    {
      "cell_type": "markdown",
      "metadata": {
        "id": "u08cBBc1rYoU"
      },
      "source": [
        "# ARRIVAL DELAY - APPROACH 1"
      ]
    },
    {
      "cell_type": "markdown",
      "metadata": {
        "id": "hMHmLp3BrceK"
      },
      "source": [
        "WITH DEST(ONEHOT) , RAW DATA OF OTHER FIELDS (EXCEPT ARR_TIMEslot_BLK\tarr_period(ONEHOT))"
      ]
    },
    {
      "cell_type": "code",
      "metadata": {
        "id": "UrLe1BLMq13_"
      },
      "source": [
        "selected_cols_arr1= systematic_sample_selectedcols_ARR[['MONTH', 'DAY_OF_MONTH', 'DAY_OF_WEEK','DEST','AIR_TIME',\n",
        "       'OP_CARRIER_FL_NUM', 'DISTANCE', 'OP_CARRIER_AIRLINE_ID', 'DEP_DEL15',\n",
        "       'CRS_DEP_TIME', 'CRS_ARR_TIME', 'CRS_ELAPSED_TIME', 'TAXI_OUT',\n",
        "       'DEP_TIME', 'TAXI_IN', 'ARR_TIME', 'ARR_TIMEslot_BLK', 'arr_period','ARR_DEL15']]"
      ],
      "execution_count": null,
      "outputs": []
    },
    {
      "cell_type": "code",
      "metadata": {
        "colab": {
          "base_uri": "https://localhost:8080/"
        },
        "id": "cSRYcQBdsYXk",
        "outputId": "ec9d70d6-0b2e-4b78-dc24-6e3bcf556e17"
      },
      "source": [
        "selected_cols_arr1.dtypes"
      ],
      "execution_count": null,
      "outputs": [
        {
          "data": {
            "text/plain": [
              "MONTH                      int64\n",
              "DAY_OF_MONTH               int64\n",
              "DAY_OF_WEEK                int64\n",
              "DEST                      object\n",
              "AIR_TIME                 float64\n",
              "OP_CARRIER_FL_NUM          int64\n",
              "DISTANCE                 float64\n",
              "OP_CARRIER_AIRLINE_ID      int64\n",
              "DEP_DEL15                float64\n",
              "CRS_DEP_TIME               int64\n",
              "CRS_ARR_TIME               int64\n",
              "CRS_ELAPSED_TIME         float64\n",
              "TAXI_OUT                 float64\n",
              "DEP_TIME                 float64\n",
              "TAXI_IN                  float64\n",
              "ARR_TIME                 float64\n",
              "ARR_TIMEslot_BLK           int64\n",
              "arr_period                object\n",
              "ARR_DEL15                float64\n",
              "dtype: object"
            ]
          },
          "execution_count": 55,
          "metadata": {},
          "output_type": "execute_result"
        }
      ]
    },
    {
      "cell_type": "code",
      "metadata": {
        "colab": {
          "base_uri": "https://localhost:8080/"
        },
        "id": "LH5347litrev",
        "outputId": "3197d141-f337-4e78-ce4b-25341ca7d00a"
      },
      "source": [
        "selected_cols_arr1['DEST'].value_counts()"
      ],
      "execution_count": null,
      "outputs": [
        {
          "data": {
            "text/plain": [
              "ATL    12104\n",
              "DFW    10078\n",
              "DEN     9202\n",
              "CLT     8714\n",
              "ORD     8644\n",
              "       ...  \n",
              "MVY        4\n",
              "LNY        3\n",
              "MKK        3\n",
              "ADK        2\n",
              "OWB        1\n",
              "Name: DEST, Length: 373, dtype: int64"
            ]
          },
          "execution_count": 56,
          "metadata": {},
          "output_type": "execute_result"
        }
      ]
    },
    {
      "cell_type": "markdown",
      "metadata": {
        "id": "ttp2z0AWMbLW"
      },
      "source": [
        "## Onehot encoding --DESTINATION"
      ]
    },
    {
      "cell_type": "code",
      "metadata": {
        "colab": {
          "base_uri": "https://localhost:8080/"
        },
        "id": "Z3fUGC-P3uPa",
        "outputId": "6a27733d-3924-4aa2-ee77-6415b2fe4631"
      },
      "source": [
        "selected_cols_arr1_dummies = pd.get_dummies(selected_cols_arr1, drop_first=True)\n",
        "selected_cols_arr1_dummies.dtypes"
      ],
      "execution_count": null,
      "outputs": [
        {
          "data": {
            "text/plain": [
              "MONTH                         int64\n",
              "DAY_OF_MONTH                  int64\n",
              "DAY_OF_WEEK                   int64\n",
              "AIR_TIME                    float64\n",
              "OP_CARRIER_FL_NUM             int64\n",
              "                             ...   \n",
              "arr_period_Early morning      uint8\n",
              "arr_period_Evening            uint8\n",
              "arr_period_Midnight           uint8\n",
              "arr_period_Morning            uint8\n",
              "arr_period_Night              uint8\n",
              "Length: 394, dtype: object"
            ]
          },
          "execution_count": 57,
          "metadata": {},
          "output_type": "execute_result"
        }
      ]
    },
    {
      "cell_type": "code",
      "metadata": {
        "colab": {
          "base_uri": "https://localhost:8080/"
        },
        "id": "c2kWArPJsYRA",
        "outputId": "5424e1f3-08c3-42e7-bb59-8d1dd5a4dc15"
      },
      "source": [
        "y_arr1 = selected_cols_arr1_dummies.ARR_DEL15 \n",
        "#Drop target and set the dependent values variables \n",
        "X_arr1 = selected_cols_arr1_dummies.drop('ARR_DEL15', axis=1)\n",
        "print(X_arr1.shape,y_arr1.shape)"
      ],
      "execution_count": null,
      "outputs": [
        {
          "name": "stdout",
          "output_type": "stream",
          "text": [
            "(215129, 393) (215129,)\n"
          ]
        }
      ]
    },
    {
      "cell_type": "markdown",
      "metadata": {
        "id": "RqkbSZT54-q8"
      },
      "source": [
        "## LOGISTIC REGRESSION"
      ]
    },
    {
      "cell_type": "code",
      "metadata": {
        "colab": {
          "base_uri": "https://localhost:8080/"
        },
        "id": "2jV7kZsM49yz",
        "outputId": "647edd9f-63bf-4b5e-fc1b-6494137c11f7"
      },
      "source": [
        "from sklearn.linear_model import LogisticRegression\n",
        "from numpy import mean\n",
        "model_LOGISTICS = LogisticRegression(class_weight='balanced', solver='saga',penalty='l1')\n",
        "#model_LOGISTICSfit = model_LOGISTICS.fit(principalComponents_train, Y_Train)\n",
        "pca = PCA(.95)\n",
        "Robust=RobustScaler()\n",
        "oversample = SMOTE()\n",
        "pipeline_LRsmt_arr1 = make_pipeline(oversample,pca,model_LOGISTICS)\n",
        "kf = StratifiedKFold(n_splits=5)\n",
        "y_pred_LR_OSample_arr1 = cross_val_score(pipeline_LRsmt_arr1,X_arr1 , y_arr1, scoring='roc_auc', cv=kf, n_jobs=-1)\n",
        "print('Mean ROC AUC: %.3f' % mean(y_pred_LR_OSample_arr1))"
      ],
      "execution_count": null,
      "outputs": [
        {
          "name": "stdout",
          "output_type": "stream",
          "text": [
            "Mean ROC AUC: 0.575\n"
          ]
        }
      ]
    },
    {
      "cell_type": "code",
      "metadata": {
        "colab": {
          "background_save": true
        },
        "id": "MRwzSnw1Xzdg"
      },
      "source": [
        "model_Randomforest_smt= RandomForestClassifier(n_estimators= 100, criterion=\"gini\", class_weight='balanced')  \n",
        "oversample = SMOTE()\n",
        "pipeline_RFsmt_arr1 = make_pipeline(oversample,model_Randomforest_smt)\n",
        "kf = StratifiedKFold(n_splits=5)\n",
        "y_pred_RF_OSample_arr1 = cross_val_score(pipeline_RFsmt_arr1, X_arr1, y_arr1, scoring='roc_auc', cv=kf, n_jobs=-1)\n"
      ],
      "execution_count": null,
      "outputs": []
    },
    {
      "cell_type": "code",
      "metadata": {
        "colab": {
          "background_save": true
        },
        "id": "eAz9TtvbrR4h",
        "outputId": "fb13b5e6-ca70-412f-cebc-4f89a86ce1ae"
      },
      "source": [
        "A1_RF_Accuracy=mean(y_pred_RF_OSample_arr1)\n",
        "print('Mean ROC AUC: %.3f' % A1_RF_Accuracy)"
      ],
      "execution_count": null,
      "outputs": [
        {
          "name": "stdout",
          "output_type": "stream",
          "text": [
            "Mean ROC AUC: 0.975\n"
          ]
        }
      ]
    },
    {
      "cell_type": "code",
      "metadata": {
        "colab": {
          "base_uri": "https://localhost:8080/"
        },
        "id": "4lY-ULFV7ljn",
        "outputId": "34c6d3f1-b8d5-41ff-a858-6e925312910d"
      },
      "source": [
        "y_pred_RF_OSample_arr1_pred = cross_val_predict(pipeline_RFsmt_arr1,X_arr1, y_arr1, cv=kf)\n",
        "print(confusion_matrix(y_arr1, y_pred_RF_OSample_arr1_pred))\n",
        "print(classification_report(y_arr1, y_pred_RF_OSample_arr1_pred))"
      ],
      "execution_count": null,
      "outputs": [
        {
          "name": "stdout",
          "output_type": "stream",
          "text": [
            "[[183994   5880]\n",
            " [  5067  20188]]\n",
            "              precision    recall  f1-score   support\n",
            "\n",
            "         0.0       0.97      0.97      0.97    189874\n",
            "         1.0       0.77      0.80      0.79     25255\n",
            "\n",
            "    accuracy                           0.95    215129\n",
            "   macro avg       0.87      0.88      0.88    215129\n",
            "weighted avg       0.95      0.95      0.95    215129\n",
            "\n"
          ]
        }
      ]
    },
    {
      "cell_type": "markdown",
      "metadata": {
        "id": "bDaSntS7Osw8"
      },
      "source": [
        "## Lists all pairs of highly correlated variables"
      ]
    },
    {
      "cell_type": "code",
      "metadata": {
        "colab": {
          "base_uri": "https://localhost:8080/"
        },
        "id": "M3MpL7LyOH7B",
        "outputId": "70cd2501-1c47-460b-ca2a-228a279bf909"
      },
      "source": [
        "corr = X_arr1.corr()\n",
        "indices = np.where(corr > 0.8)\n",
        "indices = [(corr.columns[x], corr.columns[y]) for x, y in zip(*indices)\n",
        "                                        if x != y and x < y]\n",
        "indices"
      ],
      "execution_count": null,
      "outputs": [
        {
          "data": {
            "text/plain": [
              "[('AIR_TIME', 'DISTANCE'),\n",
              " ('AIR_TIME', 'CRS_ELAPSED_TIME'),\n",
              " ('DISTANCE', 'CRS_ELAPSED_TIME'),\n",
              " ('CRS_DEP_TIME', 'DEP_TIME'),\n",
              " ('CRS_ARR_TIME', 'ARR_TIME'),\n",
              " ('CRS_ARR_TIME', 'ARR_TIMEslot_BLK'),\n",
              " ('ARR_TIME', 'ARR_TIMEslot_BLK')]"
            ]
          },
          "execution_count": 63,
          "metadata": {},
          "output_type": "execute_result"
        }
      ]
    },
    {
      "cell_type": "markdown",
      "metadata": {
        "id": "7GKAwl5wwWrv"
      },
      "source": [
        "Deleting highly correlated columns"
      ]
    },
    {
      "cell_type": "code",
      "metadata": {
        "id": "wyH3-Od-waKS"
      },
      "source": [
        "X_arr1_del=X_arr1.drop(columns=['AIR_TIME','DEP_TIME','ARR_TIMEslot_BLK','ARR_TIME'],axis=1)"
      ],
      "execution_count": null,
      "outputs": []
    },
    {
      "cell_type": "code",
      "metadata": {
        "colab": {
          "base_uri": "https://localhost:8080/"
        },
        "id": "5dhj5kXRxPBl",
        "outputId": "93d457ea-5c1f-4f74-f736-238db9e2f6e6"
      },
      "source": [
        "X_arr1_del.columns"
      ],
      "execution_count": null,
      "outputs": [
        {
          "data": {
            "text/plain": [
              "Index(['MONTH', 'DAY_OF_MONTH', 'DAY_OF_WEEK', 'OP_CARRIER_FL_NUM', 'DISTANCE',\n",
              "       'OP_CARRIER_AIRLINE_ID', 'DEP_DEL15', 'CRS_DEP_TIME', 'CRS_ARR_TIME',\n",
              "       'CRS_ELAPSED_TIME',\n",
              "       ...\n",
              "       'DEST_XNA', 'DEST_XWA', 'DEST_YAK', 'DEST_YKM', 'DEST_YUM',\n",
              "       'arr_period_Early morning', 'arr_period_Evening', 'arr_period_Midnight',\n",
              "       'arr_period_Morning', 'arr_period_Night'],\n",
              "      dtype='object', length=389)"
            ]
          },
          "execution_count": 65,
          "metadata": {},
          "output_type": "execute_result"
        }
      ]
    },
    {
      "cell_type": "code",
      "metadata": {
        "colab": {
          "base_uri": "https://localhost:8080/"
        },
        "id": "mZaAb2oAw-EA",
        "outputId": "daa4b355-f41a-4425-db8d-62e8b14c854e"
      },
      "source": [
        "from sklearn.linear_model import LogisticRegression\n",
        "from numpy import mean\n",
        "model_LOGISTICS = LogisticRegression(class_weight='balanced', solver='saga',penalty='l1')\n",
        "#model_LOGISTICSfit = model_LOGISTICS.fit(principalComponents_train, Y_Train)\n",
        "pca = PCA(.95)\n",
        "Robust=RobustScaler()\n",
        "oversample = SMOTE()\n",
        "pipeline_LRsmt_arr1 = make_pipeline(oversample,pca,model_LOGISTICS)\n",
        "kf = StratifiedKFold(n_splits=5)\n",
        "y_pred_LR_OSample_arr1_del = cross_val_score(pipeline_LRsmt_arr1,X_arr1_del , y_arr1, scoring='roc_auc', cv=kf, n_jobs=-1)\n",
        "print('Mean ROC AUC: %.3f' % mean(y_pred_LR_OSample_arr1_del))"
      ],
      "execution_count": null,
      "outputs": [
        {
          "name": "stdout",
          "output_type": "stream",
          "text": [
            "Mean ROC AUC: 0.559\n"
          ]
        }
      ]
    },
    {
      "cell_type": "markdown",
      "metadata": {
        "id": "FNR8vfaTB-d9"
      },
      "source": [
        "Accuracy reduced when eliminating highly correlated columns"
      ]
    },
    {
      "cell_type": "markdown",
      "metadata": {
        "id": "k2MfN2hPCEfg"
      },
      "source": [
        "# Approach 2"
      ]
    },
    {
      "cell_type": "markdown",
      "metadata": {
        "id": "6E7TFRQLCHef"
      },
      "source": [
        "Trials with 'ORIGIN_AIRPORT_ID','DEST_AIRPORT_ID' instead of 'DEST'"
      ]
    }
  ]
}